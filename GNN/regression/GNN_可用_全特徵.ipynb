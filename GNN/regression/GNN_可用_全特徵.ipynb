{
 "cells": [
  {
   "cell_type": "code",
   "execution_count": null,
   "metadata": {
    "trusted": true
   },
   "outputs": [],
   "source": [
    "import numpy as np\n",
    "import pandas as pd\n",
    "import torch\n",
    "import torch.nn.functional as F\n",
    "\n",
    "# importing after the general libraries to avoid initialization issues\n",
    "\n",
    "from torch_geometric.data import Data, DataLoader\n",
    "from torch_geometric.nn import GCNConv, GATConv"
   ]
  },
  {
   "cell_type": "code",
   "execution_count": 2,
   "metadata": {
    "trusted": true
   },
   "outputs": [
    {
     "name": "stderr",
     "output_type": "stream",
     "text": [
      "/var/folders/wt/6hl8qhss3jz9zrdh6n8f3_qh0000gn/T/ipykernel_31294/3642721045.py:1: DtypeWarning: Columns (47,48) have mixed types. Specify dtype option on import or set low_memory=False.\n",
      "  df_1 = pd.read_csv(\"中西_dataset.csv\")\n"
     ]
    },
    {
     "data": {
      "text/html": [
       "<div>\n",
       "<style scoped>\n",
       "    .dataframe tbody tr th:only-of-type {\n",
       "        vertical-align: middle;\n",
       "    }\n",
       "\n",
       "    .dataframe tbody tr th {\n",
       "        vertical-align: top;\n",
       "    }\n",
       "\n",
       "    .dataframe thead th {\n",
       "        text-align: right;\n",
       "    }\n",
       "</style>\n",
       "<table border=\"1\" class=\"dataframe\">\n",
       "  <thead>\n",
       "    <tr style=\"text-align: right;\">\n",
       "      <th></th>\n",
       "      <th>ParkingSegmentID</th>\n",
       "      <th>year_val</th>\n",
       "      <th>month_val</th>\n",
       "      <th>day_val</th>\n",
       "      <th>half_hour_interval</th>\n",
       "      <th>weekday_x</th>\n",
       "      <th>district</th>\n",
       "      <th>avg_available_spots</th>\n",
       "      <th>TotalSpaces</th>\n",
       "      <th>lat</th>\n",
       "      <th>...</th>\n",
       "      <th>vapour_pressure_deficit</th>\n",
       "      <th>dew_point_2m</th>\n",
       "      <th>terrestrial_radiation_instant</th>\n",
       "      <th>latitude</th>\n",
       "      <th>longitude</th>\n",
       "      <th>hour</th>\n",
       "      <th>date</th>\n",
       "      <th>weekday_y</th>\n",
       "      <th>is_national_holiday</th>\n",
       "      <th>holiday_name</th>\n",
       "    </tr>\n",
       "  </thead>\n",
       "  <tbody>\n",
       "    <tr>\n",
       "      <th>0</th>\n",
       "      <td>1421</td>\n",
       "      <td>2024</td>\n",
       "      <td>7</td>\n",
       "      <td>20</td>\n",
       "      <td>46</td>\n",
       "      <td>Saturday</td>\n",
       "      <td>中西區</td>\n",
       "      <td>1.0</td>\n",
       "      <td>3</td>\n",
       "      <td>22.9948</td>\n",
       "      <td>...</td>\n",
       "      <td>0.90</td>\n",
       "      <td>25.2</td>\n",
       "      <td>0.0</td>\n",
       "      <td>22.981</td>\n",
       "      <td>120.177</td>\n",
       "      <td>23</td>\n",
       "      <td>2024-07-20</td>\n",
       "      <td>Sat</td>\n",
       "      <td>False</td>\n",
       "      <td>NaN</td>\n",
       "    </tr>\n",
       "    <tr>\n",
       "      <th>1</th>\n",
       "      <td>1421</td>\n",
       "      <td>2024</td>\n",
       "      <td>7</td>\n",
       "      <td>24</td>\n",
       "      <td>40</td>\n",
       "      <td>Wednesday</td>\n",
       "      <td>中西區</td>\n",
       "      <td>1.0</td>\n",
       "      <td>3</td>\n",
       "      <td>22.9948</td>\n",
       "      <td>...</td>\n",
       "      <td>0.21</td>\n",
       "      <td>25.8</td>\n",
       "      <td>0.0</td>\n",
       "      <td>22.981</td>\n",
       "      <td>120.177</td>\n",
       "      <td>20</td>\n",
       "      <td>2024-07-24</td>\n",
       "      <td>Wed</td>\n",
       "      <td>False</td>\n",
       "      <td>NaN</td>\n",
       "    </tr>\n",
       "    <tr>\n",
       "      <th>2</th>\n",
       "      <td>1421</td>\n",
       "      <td>2024</td>\n",
       "      <td>7</td>\n",
       "      <td>24</td>\n",
       "      <td>18</td>\n",
       "      <td>Wednesday</td>\n",
       "      <td>中西區</td>\n",
       "      <td>1.0</td>\n",
       "      <td>3</td>\n",
       "      <td>22.9948</td>\n",
       "      <td>...</td>\n",
       "      <td>0.70</td>\n",
       "      <td>25.0</td>\n",
       "      <td>967.1</td>\n",
       "      <td>22.981</td>\n",
       "      <td>120.177</td>\n",
       "      <td>9</td>\n",
       "      <td>2024-07-24</td>\n",
       "      <td>Wed</td>\n",
       "      <td>False</td>\n",
       "      <td>NaN</td>\n",
       "    </tr>\n",
       "    <tr>\n",
       "      <th>3</th>\n",
       "      <td>1421</td>\n",
       "      <td>2024</td>\n",
       "      <td>8</td>\n",
       "      <td>21</td>\n",
       "      <td>9</td>\n",
       "      <td>Wednesday</td>\n",
       "      <td>中西區</td>\n",
       "      <td>2.0</td>\n",
       "      <td>3</td>\n",
       "      <td>22.9948</td>\n",
       "      <td>...</td>\n",
       "      <td>0.95</td>\n",
       "      <td>21.5</td>\n",
       "      <td>0.0</td>\n",
       "      <td>22.981</td>\n",
       "      <td>120.177</td>\n",
       "      <td>4</td>\n",
       "      <td>2024-08-21</td>\n",
       "      <td>Wed</td>\n",
       "      <td>False</td>\n",
       "      <td>NaN</td>\n",
       "    </tr>\n",
       "    <tr>\n",
       "      <th>4</th>\n",
       "      <td>1421</td>\n",
       "      <td>2024</td>\n",
       "      <td>9</td>\n",
       "      <td>9</td>\n",
       "      <td>5</td>\n",
       "      <td>Monday</td>\n",
       "      <td>中西區</td>\n",
       "      <td>1.0</td>\n",
       "      <td>3</td>\n",
       "      <td>22.9948</td>\n",
       "      <td>...</td>\n",
       "      <td>0.99</td>\n",
       "      <td>22.2</td>\n",
       "      <td>0.0</td>\n",
       "      <td>22.981</td>\n",
       "      <td>120.177</td>\n",
       "      <td>2</td>\n",
       "      <td>2024-09-09</td>\n",
       "      <td>Mon</td>\n",
       "      <td>False</td>\n",
       "      <td>NaN</td>\n",
       "    </tr>\n",
       "  </tbody>\n",
       "</table>\n",
       "<p>5 rows × 49 columns</p>\n",
       "</div>"
      ],
      "text/plain": [
       "   ParkingSegmentID  year_val  month_val  day_val  half_hour_interval  \\\n",
       "0              1421      2024          7       20                  46   \n",
       "1              1421      2024          7       24                  40   \n",
       "2              1421      2024          7       24                  18   \n",
       "3              1421      2024          8       21                   9   \n",
       "4              1421      2024          9        9                   5   \n",
       "\n",
       "   weekday_x district  avg_available_spots  TotalSpaces      lat  ...  \\\n",
       "0   Saturday      中西區                  1.0            3  22.9948  ...   \n",
       "1  Wednesday      中西區                  1.0            3  22.9948  ...   \n",
       "2  Wednesday      中西區                  1.0            3  22.9948  ...   \n",
       "3  Wednesday      中西區                  2.0            3  22.9948  ...   \n",
       "4     Monday      中西區                  1.0            3  22.9948  ...   \n",
       "\n",
       "   vapour_pressure_deficit  dew_point_2m  terrestrial_radiation_instant  \\\n",
       "0                     0.90          25.2                            0.0   \n",
       "1                     0.21          25.8                            0.0   \n",
       "2                     0.70          25.0                          967.1   \n",
       "3                     0.95          21.5                            0.0   \n",
       "4                     0.99          22.2                            0.0   \n",
       "\n",
       "  latitude longitude hour        date  weekday_y  is_national_holiday  \\\n",
       "0   22.981   120.177   23  2024-07-20        Sat                False   \n",
       "1   22.981   120.177   20  2024-07-24        Wed                False   \n",
       "2   22.981   120.177    9  2024-07-24        Wed                False   \n",
       "3   22.981   120.177    4  2024-08-21        Wed                False   \n",
       "4   22.981   120.177    2  2024-09-09        Mon                False   \n",
       "\n",
       "   holiday_name  \n",
       "0           NaN  \n",
       "1           NaN  \n",
       "2           NaN  \n",
       "3           NaN  \n",
       "4           NaN  \n",
       "\n",
       "[5 rows x 49 columns]"
      ]
     },
     "execution_count": 2,
     "metadata": {},
     "output_type": "execute_result"
    }
   ],
   "source": [
    "df_1 = pd.read_csv(\"中西_dataset.csv\")\n",
    "df_1.head()"
   ]
  },
  {
   "cell_type": "code",
   "execution_count": 3,
   "metadata": {
    "trusted": true
   },
   "outputs": [
    {
     "name": "stderr",
     "output_type": "stream",
     "text": [
      "/var/folders/wt/6hl8qhss3jz9zrdh6n8f3_qh0000gn/T/ipykernel_31294/1002289959.py:1: DtypeWarning: Columns (0,47) have mixed types. Specify dtype option on import or set low_memory=False.\n",
      "  df_2 = pd.read_csv(\"安平_dataset.csv\")\n"
     ]
    },
    {
     "data": {
      "text/html": [
       "<div>\n",
       "<style scoped>\n",
       "    .dataframe tbody tr th:only-of-type {\n",
       "        vertical-align: middle;\n",
       "    }\n",
       "\n",
       "    .dataframe tbody tr th {\n",
       "        vertical-align: top;\n",
       "    }\n",
       "\n",
       "    .dataframe thead th {\n",
       "        text-align: right;\n",
       "    }\n",
       "</style>\n",
       "<table border=\"1\" class=\"dataframe\">\n",
       "  <thead>\n",
       "    <tr style=\"text-align: right;\">\n",
       "      <th></th>\n",
       "      <th>ParkingSegmentID</th>\n",
       "      <th>year_val</th>\n",
       "      <th>month_val</th>\n",
       "      <th>day_val</th>\n",
       "      <th>half_hour_interval</th>\n",
       "      <th>weekday_x</th>\n",
       "      <th>district</th>\n",
       "      <th>avg_available_spots</th>\n",
       "      <th>TotalSpaces</th>\n",
       "      <th>lat</th>\n",
       "      <th>...</th>\n",
       "      <th>vapour_pressure_deficit</th>\n",
       "      <th>dew_point_2m</th>\n",
       "      <th>terrestrial_radiation_instant</th>\n",
       "      <th>latitude</th>\n",
       "      <th>longitude</th>\n",
       "      <th>hour</th>\n",
       "      <th>date</th>\n",
       "      <th>weekday_y</th>\n",
       "      <th>is_national_holiday</th>\n",
       "      <th>holiday_name</th>\n",
       "    </tr>\n",
       "  </thead>\n",
       "  <tbody>\n",
       "    <tr>\n",
       "      <th>0</th>\n",
       "      <td>137</td>\n",
       "      <td>2025</td>\n",
       "      <td>3</td>\n",
       "      <td>28</td>\n",
       "      <td>47</td>\n",
       "      <td>Friday</td>\n",
       "      <td>安平區</td>\n",
       "      <td>46.500000</td>\n",
       "      <td>57</td>\n",
       "      <td>22.98953</td>\n",
       "      <td>...</td>\n",
       "      <td>1.17</td>\n",
       "      <td>15.5</td>\n",
       "      <td>0.0</td>\n",
       "      <td>22.981</td>\n",
       "      <td>120.177</td>\n",
       "      <td>23</td>\n",
       "      <td>2025-03-28</td>\n",
       "      <td>Fri</td>\n",
       "      <td>False</td>\n",
       "      <td>NaN</td>\n",
       "    </tr>\n",
       "    <tr>\n",
       "      <th>1</th>\n",
       "      <td>137</td>\n",
       "      <td>2024</td>\n",
       "      <td>7</td>\n",
       "      <td>11</td>\n",
       "      <td>26</td>\n",
       "      <td>Thursday</td>\n",
       "      <td>安平區</td>\n",
       "      <td>15.000000</td>\n",
       "      <td>57</td>\n",
       "      <td>22.98953</td>\n",
       "      <td>...</td>\n",
       "      <td>2.38</td>\n",
       "      <td>22.9</td>\n",
       "      <td>1290.3</td>\n",
       "      <td>22.981</td>\n",
       "      <td>120.177</td>\n",
       "      <td>13</td>\n",
       "      <td>2024-07-11</td>\n",
       "      <td>Thu</td>\n",
       "      <td>False</td>\n",
       "      <td>NaN</td>\n",
       "    </tr>\n",
       "    <tr>\n",
       "      <th>2</th>\n",
       "      <td>137</td>\n",
       "      <td>2025</td>\n",
       "      <td>3</td>\n",
       "      <td>28</td>\n",
       "      <td>17</td>\n",
       "      <td>Friday</td>\n",
       "      <td>安平區</td>\n",
       "      <td>29.833333</td>\n",
       "      <td>57</td>\n",
       "      <td>22.98953</td>\n",
       "      <td>...</td>\n",
       "      <td>1.10</td>\n",
       "      <td>20.0</td>\n",
       "      <td>639.6</td>\n",
       "      <td>22.981</td>\n",
       "      <td>120.177</td>\n",
       "      <td>8</td>\n",
       "      <td>2025-03-28</td>\n",
       "      <td>Fri</td>\n",
       "      <td>False</td>\n",
       "      <td>NaN</td>\n",
       "    </tr>\n",
       "    <tr>\n",
       "      <th>3</th>\n",
       "      <td>137</td>\n",
       "      <td>2024</td>\n",
       "      <td>7</td>\n",
       "      <td>11</td>\n",
       "      <td>22</td>\n",
       "      <td>Thursday</td>\n",
       "      <td>安平區</td>\n",
       "      <td>24.000000</td>\n",
       "      <td>57</td>\n",
       "      <td>22.98953</td>\n",
       "      <td>...</td>\n",
       "      <td>2.00</td>\n",
       "      <td>24.1</td>\n",
       "      <td>1278.5</td>\n",
       "      <td>22.981</td>\n",
       "      <td>120.177</td>\n",
       "      <td>11</td>\n",
       "      <td>2024-07-11</td>\n",
       "      <td>Thu</td>\n",
       "      <td>False</td>\n",
       "      <td>NaN</td>\n",
       "    </tr>\n",
       "    <tr>\n",
       "      <th>4</th>\n",
       "      <td>137</td>\n",
       "      <td>2025</td>\n",
       "      <td>3</td>\n",
       "      <td>28</td>\n",
       "      <td>10</td>\n",
       "      <td>Friday</td>\n",
       "      <td>安平區</td>\n",
       "      <td>49.000000</td>\n",
       "      <td>57</td>\n",
       "      <td>22.98953</td>\n",
       "      <td>...</td>\n",
       "      <td>0.65</td>\n",
       "      <td>20.8</td>\n",
       "      <td>0.0</td>\n",
       "      <td>22.981</td>\n",
       "      <td>120.177</td>\n",
       "      <td>5</td>\n",
       "      <td>2025-03-28</td>\n",
       "      <td>Fri</td>\n",
       "      <td>False</td>\n",
       "      <td>NaN</td>\n",
       "    </tr>\n",
       "  </tbody>\n",
       "</table>\n",
       "<p>5 rows × 49 columns</p>\n",
       "</div>"
      ],
      "text/plain": [
       "  ParkingSegmentID  year_val  month_val  day_val  half_hour_interval  \\\n",
       "0              137      2025          3       28                  47   \n",
       "1              137      2024          7       11                  26   \n",
       "2              137      2025          3       28                  17   \n",
       "3              137      2024          7       11                  22   \n",
       "4              137      2025          3       28                  10   \n",
       "\n",
       "  weekday_x district  avg_available_spots  TotalSpaces       lat  ...  \\\n",
       "0    Friday      安平區            46.500000           57  22.98953  ...   \n",
       "1  Thursday      安平區            15.000000           57  22.98953  ...   \n",
       "2    Friday      安平區            29.833333           57  22.98953  ...   \n",
       "3  Thursday      安平區            24.000000           57  22.98953  ...   \n",
       "4    Friday      安平區            49.000000           57  22.98953  ...   \n",
       "\n",
       "   vapour_pressure_deficit  dew_point_2m  terrestrial_radiation_instant  \\\n",
       "0                     1.17          15.5                            0.0   \n",
       "1                     2.38          22.9                         1290.3   \n",
       "2                     1.10          20.0                          639.6   \n",
       "3                     2.00          24.1                         1278.5   \n",
       "4                     0.65          20.8                            0.0   \n",
       "\n",
       "  latitude longitude hour        date  weekday_y  is_national_holiday  \\\n",
       "0   22.981   120.177   23  2025-03-28        Fri                False   \n",
       "1   22.981   120.177   13  2024-07-11        Thu                False   \n",
       "2   22.981   120.177    8  2025-03-28        Fri                False   \n",
       "3   22.981   120.177   11  2024-07-11        Thu                False   \n",
       "4   22.981   120.177    5  2025-03-28        Fri                False   \n",
       "\n",
       "   holiday_name  \n",
       "0           NaN  \n",
       "1           NaN  \n",
       "2           NaN  \n",
       "3           NaN  \n",
       "4           NaN  \n",
       "\n",
       "[5 rows x 49 columns]"
      ]
     },
     "execution_count": 3,
     "metadata": {},
     "output_type": "execute_result"
    }
   ],
   "source": [
    "df_2 = pd.read_csv(\"安平_dataset.csv\")\n",
    "df_2.head()"
   ]
  },
  {
   "cell_type": "code",
   "execution_count": 4,
   "metadata": {
    "trusted": true
   },
   "outputs": [
    {
     "name": "stdout",
     "output_type": "stream",
     "text": [
      "<class 'pandas.core.frame.DataFrame'>\n",
      "Index: 2892758 entries, 0 to 719269\n",
      "Data columns (total 49 columns):\n",
      " #   Column                         Dtype  \n",
      "---  ------                         -----  \n",
      " 0   ParkingSegmentID               object \n",
      " 1   year_val                       int64  \n",
      " 2   month_val                      int64  \n",
      " 3   day_val                        int64  \n",
      " 4   half_hour_interval             int64  \n",
      " 5   weekday_x                      object \n",
      " 6   district                       object \n",
      " 7   avg_available_spots            float64\n",
      " 8   TotalSpaces                    int64  \n",
      " 9   lat                            float64\n",
      " 10  lon                            float64\n",
      " 11  firstHourFee                   int64  \n",
      " 12  laterHourFee                   int64  \n",
      " 13  datetime                       object \n",
      " 14  datetime_hour                  object \n",
      " 15  time                           object \n",
      " 16  precipitation                  float64\n",
      " 17  apparent_temperature           float64\n",
      " 18  relative_humidity_2m           int64  \n",
      " 19  temperature_2m                 float64\n",
      " 20  cloud_cover                    int64  \n",
      " 21  cloud_cover_low                int64  \n",
      " 22  cloud_cover_mid                int64  \n",
      " 23  cloud_cover_high               int64  \n",
      " 24  visibility                     float64\n",
      " 25  wind_speed_10m                 float64\n",
      " 26  temperature_80m                float64\n",
      " 27  temperature_120m               float64\n",
      " 28  showers                        float64\n",
      " 29  pressure_msl                   float64\n",
      " 30  surface_pressure               float64\n",
      " 31  wind_speed_80m                 float64\n",
      " 32  wind_speed_120m                float64\n",
      " 33  wind_direction_10m             int64  \n",
      " 34  wind_direction_80m             int64  \n",
      " 35  wind_direction_120m            int64  \n",
      " 36  wind_gusts_10m                 float64\n",
      " 37  evapotranspiration             float64\n",
      " 38  et0_fao_evapotranspiration     float64\n",
      " 39  vapour_pressure_deficit        float64\n",
      " 40  dew_point_2m                   float64\n",
      " 41  terrestrial_radiation_instant  float64\n",
      " 42  latitude                       float64\n",
      " 43  longitude                      float64\n",
      " 44  hour                           int64  \n",
      " 45  date                           object \n",
      " 46  weekday_y                      object \n",
      " 47  is_national_holiday            object \n",
      " 48  holiday_name                   object \n",
      "dtypes: float64(23), int64(16), object(10)\n",
      "memory usage: 1.1+ GB\n"
     ]
    },
    {
     "data": {
      "text/plain": [
       "ParkingSegmentID                       0\n",
       "year_val                               0\n",
       "month_val                              0\n",
       "day_val                                0\n",
       "half_hour_interval                     0\n",
       "weekday_x                              0\n",
       "district                               0\n",
       "avg_available_spots                    0\n",
       "TotalSpaces                            0\n",
       "lat                                    0\n",
       "lon                                    0\n",
       "firstHourFee                           0\n",
       "laterHourFee                           0\n",
       "datetime                               0\n",
       "datetime_hour                          0\n",
       "time                                   0\n",
       "precipitation                          0\n",
       "apparent_temperature                   0\n",
       "relative_humidity_2m                   0\n",
       "temperature_2m                         0\n",
       "cloud_cover                            0\n",
       "cloud_cover_low                        0\n",
       "cloud_cover_mid                        0\n",
       "cloud_cover_high                       0\n",
       "visibility                             0\n",
       "wind_speed_10m                         0\n",
       "temperature_80m                        0\n",
       "temperature_120m                       0\n",
       "showers                                0\n",
       "pressure_msl                           0\n",
       "surface_pressure                       0\n",
       "wind_speed_80m                         0\n",
       "wind_speed_120m                        0\n",
       "wind_direction_10m                     0\n",
       "wind_direction_80m                     0\n",
       "wind_direction_120m                    0\n",
       "wind_gusts_10m                         0\n",
       "evapotranspiration                     0\n",
       "et0_fao_evapotranspiration             0\n",
       "vapour_pressure_deficit                0\n",
       "dew_point_2m                           0\n",
       "terrestrial_radiation_instant          0\n",
       "latitude                               0\n",
       "longitude                              0\n",
       "hour                                   0\n",
       "date                                   0\n",
       "weekday_y                          39906\n",
       "is_national_holiday                39906\n",
       "holiday_name                     2694181\n",
       "dtype: int64"
      ]
     },
     "execution_count": 4,
     "metadata": {},
     "output_type": "execute_result"
    }
   ],
   "source": [
    "df = pd.concat([df_1, df_2])\n",
    "df.head()\n",
    "df.info()\n",
    "df.describe()\n",
    "df.isnull().sum()"
   ]
  },
  {
   "cell_type": "code",
   "execution_count": null,
   "metadata": {
    "trusted": true
   },
   "outputs": [],
   "source": [
    "df[\"ParkingSegmentID\"] = df[\"ParkingSegmentID\"].astype(str)\n",
    "df.loc[\n",
    "    (df[\"ParkingSegmentID\"] == \"1192\") &\n",
    "    (df[\"half_hour_interval\"] == 20) &\n",
    "    (df[\"month_val\"] == 3) &\n",
    "    (df[\"day_val\"] == 8),\n",
    "    \"TotalSpaces\"\n",
    "] = 63\n",
    "indices_to_drop = df[(df['ParkingSegmentID'] == \"1131\") & (df['year_val'] == 2025) & (df['month_val'] == 3) & (df['day_val'] == 27)].index\n",
    "df.drop(indices_to_drop, inplace=True)\n",
    "indices_to_drop = df[(df[\"year_val\"] == 2025) & (df[\"month_val\"] == 2) & (df[\"day_val\"] == 20) & (df[\"half_hour_interval\"] == 29) & (df[\"ParkingSegmentID\"] == \"54555420\") & (df[\"TotalSpaces\"] == 1036)].index\n",
    "df.drop(indices_to_drop, inplace=True)\n",
    "condition = df[\"avg_available_spots\"] > df[\"TotalSpaces\"]\n",
    "# extract the values from df[\"TotalSpaces\"] on the right side that meet the condition\n",
    "values_to_assign = df.loc[condition, \"TotalSpaces\"].values\n",
    "df.loc[condition, \"avg_available_spots\"] = values_to_assign"
   ]
  },
  {
   "cell_type": "code",
   "execution_count": 6,
   "metadata": {
    "trusted": true
   },
   "outputs": [
    {
     "name": "stdout",
     "output_type": "stream",
     "text": [
      "<class 'pandas.core.frame.DataFrame'>\n",
      "Index: 2892661 entries, 0 to 719269\n",
      "Data columns (total 49 columns):\n",
      " #   Column                         Dtype  \n",
      "---  ------                         -----  \n",
      " 0   ParkingSegmentID               object \n",
      " 1   year_val                       int64  \n",
      " 2   month_val                      int64  \n",
      " 3   day_val                        int64  \n",
      " 4   half_hour_interval             int64  \n",
      " 5   weekday_x                      object \n",
      " 6   district                       object \n",
      " 7   avg_available_spots            float64\n",
      " 8   TotalSpaces                    int64  \n",
      " 9   lat                            float64\n",
      " 10  lon                            float64\n",
      " 11  firstHourFee                   int64  \n",
      " 12  laterHourFee                   int64  \n",
      " 13  datetime                       object \n",
      " 14  datetime_hour                  object \n",
      " 15  time                           object \n",
      " 16  precipitation                  float64\n",
      " 17  apparent_temperature           float64\n",
      " 18  relative_humidity_2m           int64  \n",
      " 19  temperature_2m                 float64\n",
      " 20  cloud_cover                    int64  \n",
      " 21  cloud_cover_low                int64  \n",
      " 22  cloud_cover_mid                int64  \n",
      " 23  cloud_cover_high               int64  \n",
      " 24  visibility                     float64\n",
      " 25  wind_speed_10m                 float64\n",
      " 26  temperature_80m                float64\n",
      " 27  temperature_120m               float64\n",
      " 28  showers                        float64\n",
      " 29  pressure_msl                   float64\n",
      " 30  surface_pressure               float64\n",
      " 31  wind_speed_80m                 float64\n",
      " 32  wind_speed_120m                float64\n",
      " 33  wind_direction_10m             int64  \n",
      " 34  wind_direction_80m             int64  \n",
      " 35  wind_direction_120m            int64  \n",
      " 36  wind_gusts_10m                 float64\n",
      " 37  evapotranspiration             float64\n",
      " 38  et0_fao_evapotranspiration     float64\n",
      " 39  vapour_pressure_deficit        float64\n",
      " 40  dew_point_2m                   float64\n",
      " 41  terrestrial_radiation_instant  float64\n",
      " 42  latitude                       float64\n",
      " 43  longitude                      float64\n",
      " 44  hour                           int64  \n",
      " 45  date                           object \n",
      " 46  weekday_y                      object \n",
      " 47  is_national_holiday            object \n",
      " 48  holiday_name                   object \n",
      "dtypes: float64(23), int64(16), object(10)\n",
      "memory usage: 1.1+ GB\n",
      "  ParkingSegmentID  year_val  month_val  day_val  half_hour_interval  \\\n",
      "0             1421      2024          7       20                  46   \n",
      "1             1421      2024          7       24                  40   \n",
      "2             1421      2024          7       24                  18   \n",
      "3             1421      2024          8       21                   9   \n",
      "4             1421      2024          9        9                   5   \n",
      "\n",
      "   weekday_x district  avg_available_spots  TotalSpaces      lat  ...  \\\n",
      "0   Saturday      中西區                  1.0            3  22.9948  ...   \n",
      "1  Wednesday      中西區                  1.0            3  22.9948  ...   \n",
      "2  Wednesday      中西區                  1.0            3  22.9948  ...   \n",
      "3  Wednesday      中西區                  2.0            3  22.9948  ...   \n",
      "4     Monday      中西區                  1.0            3  22.9948  ...   \n",
      "\n",
      "   vapour_pressure_deficit  dew_point_2m  terrestrial_radiation_instant  \\\n",
      "0                     0.90          25.2                            0.0   \n",
      "1                     0.21          25.8                            0.0   \n",
      "2                     0.70          25.0                          967.1   \n",
      "3                     0.95          21.5                            0.0   \n",
      "4                     0.99          22.2                            0.0   \n",
      "\n",
      "  latitude longitude hour        date  weekday_y  is_national_holiday  \\\n",
      "0   22.981   120.177   23  2024-07-20        Sat                False   \n",
      "1   22.981   120.177   20  2024-07-24        Wed                False   \n",
      "2   22.981   120.177    9  2024-07-24        Wed                False   \n",
      "3   22.981   120.177    4  2024-08-21        Wed                False   \n",
      "4   22.981   120.177    2  2024-09-09        Mon                False   \n",
      "\n",
      "   holiday_name  \n",
      "0           NaN  \n",
      "1           NaN  \n",
      "2           NaN  \n",
      "3           NaN  \n",
      "4           NaN  \n",
      "\n",
      "[5 rows x 49 columns]\n"
     ]
    }
   ],
   "source": [
    "df.info()\n",
    "df.describe()\n",
    "df.isnull().sum()\n",
    "print(df.head())"
   ]
  },
  {
   "cell_type": "code",
   "execution_count": 7,
   "metadata": {
    "trusted": true
   },
   "outputs": [],
   "source": [
    "df[\"weekday\"] = df[\"weekday_x\"]"
   ]
  },
  {
   "cell_type": "code",
   "execution_count": 8,
   "metadata": {
    "trusted": true
   },
   "outputs": [],
   "source": [
    "\n",
    "district_mapping = {'中西區': 0, '安平區': 1}\n",
    "df['district'] = df['district'].map(district_mapping)"
   ]
  },
  {
   "cell_type": "code",
   "execution_count": 9,
   "metadata": {
    "trusted": true
   },
   "outputs": [],
   "source": []
  },
  {
   "cell_type": "code",
   "execution_count": 9,
   "metadata": {
    "trusted": true
   },
   "outputs": [],
   "source": [
    "df[\"datetime_2\"] = (\n",
    "    df[\"year_val\"].astype(str) + \"_\" +\n",
    "    df[\"month_val\"].astype(str) + \"_\" +\n",
    "    df[\"day_val\"].astype(str) + \"_\" +\n",
    "    df[\"half_hour_interval\"].astype(str)\n",
    ")"
   ]
  },
  {
   "cell_type": "code",
   "execution_count": 10,
   "metadata": {
    "trusted": true
   },
   "outputs": [],
   "source": [
    "pd.set_option('display.max_columns', None)\n",
    "weekday_mapping = {'Monday': 0, 'Tuesday': 1, 'Wednesday': 2, 'Thursday': 3,\n",
    "                       'Friday': 4, 'Saturday': 5, 'Sunday': 6}\n",
    "df['weekday_num'] = df['weekday'].map(weekday_mapping)\n",
    "df['wind_direction_10m_sin'] = np.sin(np.deg2rad(df['wind_direction_10m']))\n",
    "df['wind_direction_10m_cos'] = np.cos(np.deg2rad(df['wind_direction_10m']))\n",
    "df['wind_direction_120m_sin'] = np.sin(np.deg2rad(df['wind_direction_120m']))\n",
    "df['wind_direction_120m_cos'] = np.cos(np.deg2rad(df['wind_direction_120m']))\n",
    "df['wind_direction_80m_sin'] = np.sin(np.deg2rad(df['wind_direction_80m']))\n",
    "df['wind_direction_80m_cos'] = np.cos(np.deg2rad(df['wind_direction_80m']))\n",
    "df.drop(columns=[\"wind_direction_10m\",\"wind_direction_120m\",\"wind_direction_80m\"],inplace=True)"
   ]
  },
  {
   "cell_type": "code",
   "execution_count": null,
   "metadata": {
    "trusted": true
   },
   "outputs": [],
   "source": [
    "\n",
    "df_final = df.drop(columns=[          \n",
    "    'weekday',         \n",
    "    'weekday_y',\"date\",\"latitude\",\"longitude\",\"datetime_hour\",\"time\", \"weekday_x\",\"holiday_name\",\n",
    "])"
   ]
  },
  {
   "cell_type": "code",
   "execution_count": 12,
   "metadata": {
    "trusted": true
   },
   "outputs": [
    {
     "data": {
      "text/html": [
       "<div>\n",
       "<style scoped>\n",
       "    .dataframe tbody tr th:only-of-type {\n",
       "        vertical-align: middle;\n",
       "    }\n",
       "\n",
       "    .dataframe tbody tr th {\n",
       "        vertical-align: top;\n",
       "    }\n",
       "\n",
       "    .dataframe thead th {\n",
       "        text-align: right;\n",
       "    }\n",
       "</style>\n",
       "<table border=\"1\" class=\"dataframe\">\n",
       "  <thead>\n",
       "    <tr style=\"text-align: right;\">\n",
       "      <th></th>\n",
       "      <th>ParkingSegmentID</th>\n",
       "      <th>year_val</th>\n",
       "      <th>month_val</th>\n",
       "      <th>day_val</th>\n",
       "      <th>half_hour_interval</th>\n",
       "      <th>district</th>\n",
       "      <th>avg_available_spots</th>\n",
       "      <th>TotalSpaces</th>\n",
       "      <th>lat</th>\n",
       "      <th>lon</th>\n",
       "      <th>firstHourFee</th>\n",
       "      <th>laterHourFee</th>\n",
       "      <th>datetime</th>\n",
       "      <th>precipitation</th>\n",
       "      <th>apparent_temperature</th>\n",
       "      <th>relative_humidity_2m</th>\n",
       "      <th>temperature_2m</th>\n",
       "      <th>cloud_cover</th>\n",
       "      <th>cloud_cover_low</th>\n",
       "      <th>cloud_cover_mid</th>\n",
       "      <th>cloud_cover_high</th>\n",
       "      <th>visibility</th>\n",
       "      <th>wind_speed_10m</th>\n",
       "      <th>temperature_80m</th>\n",
       "      <th>temperature_120m</th>\n",
       "      <th>showers</th>\n",
       "      <th>pressure_msl</th>\n",
       "      <th>surface_pressure</th>\n",
       "      <th>wind_speed_80m</th>\n",
       "      <th>wind_speed_120m</th>\n",
       "      <th>wind_gusts_10m</th>\n",
       "      <th>evapotranspiration</th>\n",
       "      <th>et0_fao_evapotranspiration</th>\n",
       "      <th>vapour_pressure_deficit</th>\n",
       "      <th>dew_point_2m</th>\n",
       "      <th>terrestrial_radiation_instant</th>\n",
       "      <th>hour</th>\n",
       "      <th>is_national_holiday</th>\n",
       "      <th>datetime_2</th>\n",
       "      <th>weekday_num</th>\n",
       "      <th>wind_direction_10m_sin</th>\n",
       "      <th>wind_direction_10m_cos</th>\n",
       "      <th>wind_direction_120m_sin</th>\n",
       "      <th>wind_direction_120m_cos</th>\n",
       "      <th>wind_direction_80m_sin</th>\n",
       "      <th>wind_direction_80m_cos</th>\n",
       "    </tr>\n",
       "  </thead>\n",
       "  <tbody>\n",
       "    <tr>\n",
       "      <th>0</th>\n",
       "      <td>1421</td>\n",
       "      <td>2024</td>\n",
       "      <td>7</td>\n",
       "      <td>20</td>\n",
       "      <td>46</td>\n",
       "      <td>0</td>\n",
       "      <td>1.000000</td>\n",
       "      <td>3</td>\n",
       "      <td>22.99480</td>\n",
       "      <td>120.19519</td>\n",
       "      <td>0</td>\n",
       "      <td>0</td>\n",
       "      <td>2024-07-20 23:00:00</td>\n",
       "      <td>0.8</td>\n",
       "      <td>35.4</td>\n",
       "      <td>78</td>\n",
       "      <td>29.4</td>\n",
       "      <td>15</td>\n",
       "      <td>0</td>\n",
       "      <td>0</td>\n",
       "      <td>10</td>\n",
       "      <td>24140.0</td>\n",
       "      <td>5.8</td>\n",
       "      <td>28.7</td>\n",
       "      <td>28.6</td>\n",
       "      <td>0.8</td>\n",
       "      <td>1010.1</td>\n",
       "      <td>1009.5</td>\n",
       "      <td>7.4</td>\n",
       "      <td>7.7</td>\n",
       "      <td>7.9</td>\n",
       "      <td>0.0</td>\n",
       "      <td>0.01</td>\n",
       "      <td>0.90</td>\n",
       "      <td>25.2</td>\n",
       "      <td>0.0</td>\n",
       "      <td>23</td>\n",
       "      <td>False</td>\n",
       "      <td>2024_7_20_46</td>\n",
       "      <td>5</td>\n",
       "      <td>-0.069756</td>\n",
       "      <td>-0.997564</td>\n",
       "      <td>-0.422618</td>\n",
       "      <td>-0.906308</td>\n",
       "      <td>-0.390731</td>\n",
       "      <td>-0.920505</td>\n",
       "    </tr>\n",
       "    <tr>\n",
       "      <th>1</th>\n",
       "      <td>1421</td>\n",
       "      <td>2024</td>\n",
       "      <td>7</td>\n",
       "      <td>24</td>\n",
       "      <td>40</td>\n",
       "      <td>0</td>\n",
       "      <td>1.000000</td>\n",
       "      <td>3</td>\n",
       "      <td>22.99480</td>\n",
       "      <td>120.19519</td>\n",
       "      <td>0</td>\n",
       "      <td>0</td>\n",
       "      <td>2024-07-24 20:00:00</td>\n",
       "      <td>15.2</td>\n",
       "      <td>27.6</td>\n",
       "      <td>94</td>\n",
       "      <td>26.9</td>\n",
       "      <td>100</td>\n",
       "      <td>100</td>\n",
       "      <td>100</td>\n",
       "      <td>100</td>\n",
       "      <td>2300.0</td>\n",
       "      <td>45.1</td>\n",
       "      <td>26.5</td>\n",
       "      <td>26.4</td>\n",
       "      <td>1.2</td>\n",
       "      <td>985.5</td>\n",
       "      <td>984.9</td>\n",
       "      <td>72.7</td>\n",
       "      <td>77.2</td>\n",
       "      <td>74.5</td>\n",
       "      <td>0.0</td>\n",
       "      <td>0.03</td>\n",
       "      <td>0.21</td>\n",
       "      <td>25.8</td>\n",
       "      <td>0.0</td>\n",
       "      <td>20</td>\n",
       "      <td>False</td>\n",
       "      <td>2024_7_24_40</td>\n",
       "      <td>2</td>\n",
       "      <td>-0.707107</td>\n",
       "      <td>0.707107</td>\n",
       "      <td>-0.642788</td>\n",
       "      <td>0.766044</td>\n",
       "      <td>-0.656059</td>\n",
       "      <td>0.754710</td>\n",
       "    </tr>\n",
       "    <tr>\n",
       "      <th>2</th>\n",
       "      <td>1421</td>\n",
       "      <td>2024</td>\n",
       "      <td>7</td>\n",
       "      <td>24</td>\n",
       "      <td>18</td>\n",
       "      <td>0</td>\n",
       "      <td>1.000000</td>\n",
       "      <td>3</td>\n",
       "      <td>22.99480</td>\n",
       "      <td>120.19519</td>\n",
       "      <td>20</td>\n",
       "      <td>20</td>\n",
       "      <td>2024-07-24 09:00:00</td>\n",
       "      <td>0.8</td>\n",
       "      <td>28.5</td>\n",
       "      <td>82</td>\n",
       "      <td>28.4</td>\n",
       "      <td>100</td>\n",
       "      <td>100</td>\n",
       "      <td>100</td>\n",
       "      <td>100</td>\n",
       "      <td>9660.0</td>\n",
       "      <td>45.3</td>\n",
       "      <td>27.9</td>\n",
       "      <td>27.7</td>\n",
       "      <td>0.8</td>\n",
       "      <td>989.1</td>\n",
       "      <td>988.5</td>\n",
       "      <td>68.6</td>\n",
       "      <td>72.6</td>\n",
       "      <td>66.2</td>\n",
       "      <td>0.0</td>\n",
       "      <td>0.15</td>\n",
       "      <td>0.70</td>\n",
       "      <td>25.0</td>\n",
       "      <td>967.1</td>\n",
       "      <td>9</td>\n",
       "      <td>False</td>\n",
       "      <td>2024_7_24_18</td>\n",
       "      <td>2</td>\n",
       "      <td>-0.358368</td>\n",
       "      <td>0.933580</td>\n",
       "      <td>-0.309017</td>\n",
       "      <td>0.951057</td>\n",
       "      <td>-0.309017</td>\n",
       "      <td>0.951057</td>\n",
       "    </tr>\n",
       "    <tr>\n",
       "      <th>3</th>\n",
       "      <td>1421</td>\n",
       "      <td>2024</td>\n",
       "      <td>8</td>\n",
       "      <td>21</td>\n",
       "      <td>9</td>\n",
       "      <td>0</td>\n",
       "      <td>2.000000</td>\n",
       "      <td>3</td>\n",
       "      <td>22.99480</td>\n",
       "      <td>120.19519</td>\n",
       "      <td>0</td>\n",
       "      <td>0</td>\n",
       "      <td>2024-08-21 04:30:00</td>\n",
       "      <td>0.0</td>\n",
       "      <td>30.0</td>\n",
       "      <td>73</td>\n",
       "      <td>26.8</td>\n",
       "      <td>99</td>\n",
       "      <td>0</td>\n",
       "      <td>90</td>\n",
       "      <td>90</td>\n",
       "      <td>24140.0</td>\n",
       "      <td>10.1</td>\n",
       "      <td>26.8</td>\n",
       "      <td>26.8</td>\n",
       "      <td>0.0</td>\n",
       "      <td>1010.4</td>\n",
       "      <td>1009.8</td>\n",
       "      <td>17.1</td>\n",
       "      <td>18.9</td>\n",
       "      <td>19.4</td>\n",
       "      <td>0.0</td>\n",
       "      <td>0.04</td>\n",
       "      <td>0.95</td>\n",
       "      <td>21.5</td>\n",
       "      <td>0.0</td>\n",
       "      <td>4</td>\n",
       "      <td>False</td>\n",
       "      <td>2024_8_21_9</td>\n",
       "      <td>2</td>\n",
       "      <td>0.573576</td>\n",
       "      <td>-0.819152</td>\n",
       "      <td>0.406737</td>\n",
       "      <td>-0.913545</td>\n",
       "      <td>0.469472</td>\n",
       "      <td>-0.882948</td>\n",
       "    </tr>\n",
       "    <tr>\n",
       "      <th>4</th>\n",
       "      <td>1421</td>\n",
       "      <td>2024</td>\n",
       "      <td>9</td>\n",
       "      <td>9</td>\n",
       "      <td>5</td>\n",
       "      <td>0</td>\n",
       "      <td>1.000000</td>\n",
       "      <td>3</td>\n",
       "      <td>22.99480</td>\n",
       "      <td>120.19519</td>\n",
       "      <td>0</td>\n",
       "      <td>0</td>\n",
       "      <td>2024-09-09 02:30:00</td>\n",
       "      <td>0.0</td>\n",
       "      <td>31.5</td>\n",
       "      <td>73</td>\n",
       "      <td>27.5</td>\n",
       "      <td>100</td>\n",
       "      <td>0</td>\n",
       "      <td>5</td>\n",
       "      <td>100</td>\n",
       "      <td>24140.0</td>\n",
       "      <td>7.1</td>\n",
       "      <td>26.7</td>\n",
       "      <td>26.5</td>\n",
       "      <td>0.0</td>\n",
       "      <td>1006.8</td>\n",
       "      <td>1006.2</td>\n",
       "      <td>8.7</td>\n",
       "      <td>8.8</td>\n",
       "      <td>8.3</td>\n",
       "      <td>0.0</td>\n",
       "      <td>0.02</td>\n",
       "      <td>0.99</td>\n",
       "      <td>22.2</td>\n",
       "      <td>0.0</td>\n",
       "      <td>2</td>\n",
       "      <td>False</td>\n",
       "      <td>2024_9_9_5</td>\n",
       "      <td>0</td>\n",
       "      <td>0.754710</td>\n",
       "      <td>-0.656059</td>\n",
       "      <td>0.707107</td>\n",
       "      <td>-0.707107</td>\n",
       "      <td>0.707107</td>\n",
       "      <td>-0.707107</td>\n",
       "    </tr>\n",
       "    <tr>\n",
       "      <th>...</th>\n",
       "      <td>...</td>\n",
       "      <td>...</td>\n",
       "      <td>...</td>\n",
       "      <td>...</td>\n",
       "      <td>...</td>\n",
       "      <td>...</td>\n",
       "      <td>...</td>\n",
       "      <td>...</td>\n",
       "      <td>...</td>\n",
       "      <td>...</td>\n",
       "      <td>...</td>\n",
       "      <td>...</td>\n",
       "      <td>...</td>\n",
       "      <td>...</td>\n",
       "      <td>...</td>\n",
       "      <td>...</td>\n",
       "      <td>...</td>\n",
       "      <td>...</td>\n",
       "      <td>...</td>\n",
       "      <td>...</td>\n",
       "      <td>...</td>\n",
       "      <td>...</td>\n",
       "      <td>...</td>\n",
       "      <td>...</td>\n",
       "      <td>...</td>\n",
       "      <td>...</td>\n",
       "      <td>...</td>\n",
       "      <td>...</td>\n",
       "      <td>...</td>\n",
       "      <td>...</td>\n",
       "      <td>...</td>\n",
       "      <td>...</td>\n",
       "      <td>...</td>\n",
       "      <td>...</td>\n",
       "      <td>...</td>\n",
       "      <td>...</td>\n",
       "      <td>...</td>\n",
       "      <td>...</td>\n",
       "      <td>...</td>\n",
       "      <td>...</td>\n",
       "      <td>...</td>\n",
       "      <td>...</td>\n",
       "      <td>...</td>\n",
       "      <td>...</td>\n",
       "      <td>...</td>\n",
       "      <td>...</td>\n",
       "    </tr>\n",
       "    <tr>\n",
       "      <th>719265</th>\n",
       "      <td>89053916</td>\n",
       "      <td>2025</td>\n",
       "      <td>5</td>\n",
       "      <td>9</td>\n",
       "      <td>47</td>\n",
       "      <td>1</td>\n",
       "      <td>103.000000</td>\n",
       "      <td>160</td>\n",
       "      <td>22.99884</td>\n",
       "      <td>120.16250</td>\n",
       "      <td>60</td>\n",
       "      <td>60</td>\n",
       "      <td>2025-05-09 23:30:00</td>\n",
       "      <td>0.0</td>\n",
       "      <td>33.3</td>\n",
       "      <td>57</td>\n",
       "      <td>30.4</td>\n",
       "      <td>100</td>\n",
       "      <td>0</td>\n",
       "      <td>10</td>\n",
       "      <td>100</td>\n",
       "      <td>24140.0</td>\n",
       "      <td>9.5</td>\n",
       "      <td>29.1</td>\n",
       "      <td>28.9</td>\n",
       "      <td>0.0</td>\n",
       "      <td>1009.5</td>\n",
       "      <td>1008.9</td>\n",
       "      <td>12.1</td>\n",
       "      <td>12.8</td>\n",
       "      <td>12.6</td>\n",
       "      <td>-0.0</td>\n",
       "      <td>0.07</td>\n",
       "      <td>1.86</td>\n",
       "      <td>20.9</td>\n",
       "      <td>0.0</td>\n",
       "      <td>23</td>\n",
       "      <td>False</td>\n",
       "      <td>2025_5_9_47</td>\n",
       "      <td>4</td>\n",
       "      <td>0.156434</td>\n",
       "      <td>-0.987688</td>\n",
       "      <td>0.207912</td>\n",
       "      <td>-0.978148</td>\n",
       "      <td>0.207912</td>\n",
       "      <td>-0.978148</td>\n",
       "    </tr>\n",
       "    <tr>\n",
       "      <th>719266</th>\n",
       "      <td>89053916</td>\n",
       "      <td>2025</td>\n",
       "      <td>5</td>\n",
       "      <td>9</td>\n",
       "      <td>25</td>\n",
       "      <td>1</td>\n",
       "      <td>84.333333</td>\n",
       "      <td>160</td>\n",
       "      <td>22.99884</td>\n",
       "      <td>120.16250</td>\n",
       "      <td>60</td>\n",
       "      <td>60</td>\n",
       "      <td>2025-05-09 12:30:00</td>\n",
       "      <td>0.0</td>\n",
       "      <td>36.7</td>\n",
       "      <td>51</td>\n",
       "      <td>33.5</td>\n",
       "      <td>100</td>\n",
       "      <td>0</td>\n",
       "      <td>5</td>\n",
       "      <td>100</td>\n",
       "      <td>24140.0</td>\n",
       "      <td>23.4</td>\n",
       "      <td>30.7</td>\n",
       "      <td>30.4</td>\n",
       "      <td>0.0</td>\n",
       "      <td>1009.1</td>\n",
       "      <td>1008.5</td>\n",
       "      <td>29.3</td>\n",
       "      <td>30.2</td>\n",
       "      <td>24.1</td>\n",
       "      <td>0.0</td>\n",
       "      <td>0.75</td>\n",
       "      <td>2.53</td>\n",
       "      <td>22.0</td>\n",
       "      <td>1336.1</td>\n",
       "      <td>12</td>\n",
       "      <td>False</td>\n",
       "      <td>2025_5_9_25</td>\n",
       "      <td>4</td>\n",
       "      <td>-0.422618</td>\n",
       "      <td>-0.906308</td>\n",
       "      <td>-0.358368</td>\n",
       "      <td>-0.933580</td>\n",
       "      <td>-0.358368</td>\n",
       "      <td>-0.933580</td>\n",
       "    </tr>\n",
       "    <tr>\n",
       "      <th>719267</th>\n",
       "      <td>89053916</td>\n",
       "      <td>2025</td>\n",
       "      <td>5</td>\n",
       "      <td>9</td>\n",
       "      <td>5</td>\n",
       "      <td>1</td>\n",
       "      <td>107.000000</td>\n",
       "      <td>160</td>\n",
       "      <td>22.99884</td>\n",
       "      <td>120.16250</td>\n",
       "      <td>60</td>\n",
       "      <td>60</td>\n",
       "      <td>2025-05-09 02:30:00</td>\n",
       "      <td>0.0</td>\n",
       "      <td>32.4</td>\n",
       "      <td>62</td>\n",
       "      <td>29.4</td>\n",
       "      <td>100</td>\n",
       "      <td>0</td>\n",
       "      <td>0</td>\n",
       "      <td>100</td>\n",
       "      <td>24140.0</td>\n",
       "      <td>10.6</td>\n",
       "      <td>28.2</td>\n",
       "      <td>28.0</td>\n",
       "      <td>0.0</td>\n",
       "      <td>1007.9</td>\n",
       "      <td>1007.3</td>\n",
       "      <td>14.9</td>\n",
       "      <td>15.6</td>\n",
       "      <td>16.6</td>\n",
       "      <td>-0.0</td>\n",
       "      <td>0.07</td>\n",
       "      <td>1.56</td>\n",
       "      <td>21.4</td>\n",
       "      <td>0.0</td>\n",
       "      <td>2</td>\n",
       "      <td>False</td>\n",
       "      <td>2025_5_9_5</td>\n",
       "      <td>4</td>\n",
       "      <td>0.173648</td>\n",
       "      <td>-0.984808</td>\n",
       "      <td>0.156434</td>\n",
       "      <td>-0.987688</td>\n",
       "      <td>0.139173</td>\n",
       "      <td>-0.990268</td>\n",
       "    </tr>\n",
       "    <tr>\n",
       "      <th>719268</th>\n",
       "      <td>89053916</td>\n",
       "      <td>2025</td>\n",
       "      <td>5</td>\n",
       "      <td>9</td>\n",
       "      <td>9</td>\n",
       "      <td>1</td>\n",
       "      <td>107.000000</td>\n",
       "      <td>160</td>\n",
       "      <td>22.99884</td>\n",
       "      <td>120.16250</td>\n",
       "      <td>60</td>\n",
       "      <td>60</td>\n",
       "      <td>2025-05-09 04:30:00</td>\n",
       "      <td>0.0</td>\n",
       "      <td>31.1</td>\n",
       "      <td>62</td>\n",
       "      <td>29.0</td>\n",
       "      <td>100</td>\n",
       "      <td>0</td>\n",
       "      <td>0</td>\n",
       "      <td>100</td>\n",
       "      <td>24140.0</td>\n",
       "      <td>15.6</td>\n",
       "      <td>27.9</td>\n",
       "      <td>27.7</td>\n",
       "      <td>0.0</td>\n",
       "      <td>1007.7</td>\n",
       "      <td>1007.1</td>\n",
       "      <td>22.6</td>\n",
       "      <td>24.1</td>\n",
       "      <td>27.4</td>\n",
       "      <td>0.0</td>\n",
       "      <td>0.10</td>\n",
       "      <td>1.52</td>\n",
       "      <td>21.0</td>\n",
       "      <td>0.0</td>\n",
       "      <td>4</td>\n",
       "      <td>False</td>\n",
       "      <td>2025_5_9_9</td>\n",
       "      <td>4</td>\n",
       "      <td>0.139173</td>\n",
       "      <td>-0.990268</td>\n",
       "      <td>0.139173</td>\n",
       "      <td>-0.990268</td>\n",
       "      <td>0.139173</td>\n",
       "      <td>-0.990268</td>\n",
       "    </tr>\n",
       "    <tr>\n",
       "      <th>719269</th>\n",
       "      <td>89053916</td>\n",
       "      <td>2025</td>\n",
       "      <td>5</td>\n",
       "      <td>9</td>\n",
       "      <td>29</td>\n",
       "      <td>1</td>\n",
       "      <td>82.500000</td>\n",
       "      <td>160</td>\n",
       "      <td>22.99884</td>\n",
       "      <td>120.16250</td>\n",
       "      <td>60</td>\n",
       "      <td>60</td>\n",
       "      <td>2025-05-09 14:30:00</td>\n",
       "      <td>0.0</td>\n",
       "      <td>36.4</td>\n",
       "      <td>50</td>\n",
       "      <td>33.4</td>\n",
       "      <td>100</td>\n",
       "      <td>0</td>\n",
       "      <td>0</td>\n",
       "      <td>100</td>\n",
       "      <td>24140.0</td>\n",
       "      <td>21.0</td>\n",
       "      <td>30.6</td>\n",
       "      <td>30.4</td>\n",
       "      <td>0.0</td>\n",
       "      <td>1008.6</td>\n",
       "      <td>1008.0</td>\n",
       "      <td>26.3</td>\n",
       "      <td>27.1</td>\n",
       "      <td>23.0</td>\n",
       "      <td>0.0</td>\n",
       "      <td>0.70</td>\n",
       "      <td>2.57</td>\n",
       "      <td>21.6</td>\n",
       "      <td>1166.6</td>\n",
       "      <td>14</td>\n",
       "      <td>False</td>\n",
       "      <td>2025_5_9_29</td>\n",
       "      <td>4</td>\n",
       "      <td>-0.615661</td>\n",
       "      <td>-0.788011</td>\n",
       "      <td>-0.587785</td>\n",
       "      <td>-0.809017</td>\n",
       "      <td>-0.587785</td>\n",
       "      <td>-0.809017</td>\n",
       "    </tr>\n",
       "  </tbody>\n",
       "</table>\n",
       "<p>2892661 rows × 46 columns</p>\n",
       "</div>"
      ],
      "text/plain": [
       "       ParkingSegmentID  year_val  month_val  day_val  half_hour_interval  \\\n",
       "0                  1421      2024          7       20                  46   \n",
       "1                  1421      2024          7       24                  40   \n",
       "2                  1421      2024          7       24                  18   \n",
       "3                  1421      2024          8       21                   9   \n",
       "4                  1421      2024          9        9                   5   \n",
       "...                 ...       ...        ...      ...                 ...   \n",
       "719265         89053916      2025          5        9                  47   \n",
       "719266         89053916      2025          5        9                  25   \n",
       "719267         89053916      2025          5        9                   5   \n",
       "719268         89053916      2025          5        9                   9   \n",
       "719269         89053916      2025          5        9                  29   \n",
       "\n",
       "        district  avg_available_spots  TotalSpaces       lat        lon  \\\n",
       "0              0             1.000000            3  22.99480  120.19519   \n",
       "1              0             1.000000            3  22.99480  120.19519   \n",
       "2              0             1.000000            3  22.99480  120.19519   \n",
       "3              0             2.000000            3  22.99480  120.19519   \n",
       "4              0             1.000000            3  22.99480  120.19519   \n",
       "...          ...                  ...          ...       ...        ...   \n",
       "719265         1           103.000000          160  22.99884  120.16250   \n",
       "719266         1            84.333333          160  22.99884  120.16250   \n",
       "719267         1           107.000000          160  22.99884  120.16250   \n",
       "719268         1           107.000000          160  22.99884  120.16250   \n",
       "719269         1            82.500000          160  22.99884  120.16250   \n",
       "\n",
       "        firstHourFee  laterHourFee             datetime  precipitation  \\\n",
       "0                  0             0  2024-07-20 23:00:00            0.8   \n",
       "1                  0             0  2024-07-24 20:00:00           15.2   \n",
       "2                 20            20  2024-07-24 09:00:00            0.8   \n",
       "3                  0             0  2024-08-21 04:30:00            0.0   \n",
       "4                  0             0  2024-09-09 02:30:00            0.0   \n",
       "...              ...           ...                  ...            ...   \n",
       "719265            60            60  2025-05-09 23:30:00            0.0   \n",
       "719266            60            60  2025-05-09 12:30:00            0.0   \n",
       "719267            60            60  2025-05-09 02:30:00            0.0   \n",
       "719268            60            60  2025-05-09 04:30:00            0.0   \n",
       "719269            60            60  2025-05-09 14:30:00            0.0   \n",
       "\n",
       "        apparent_temperature  relative_humidity_2m  temperature_2m  \\\n",
       "0                       35.4                    78            29.4   \n",
       "1                       27.6                    94            26.9   \n",
       "2                       28.5                    82            28.4   \n",
       "3                       30.0                    73            26.8   \n",
       "4                       31.5                    73            27.5   \n",
       "...                      ...                   ...             ...   \n",
       "719265                  33.3                    57            30.4   \n",
       "719266                  36.7                    51            33.5   \n",
       "719267                  32.4                    62            29.4   \n",
       "719268                  31.1                    62            29.0   \n",
       "719269                  36.4                    50            33.4   \n",
       "\n",
       "        cloud_cover  cloud_cover_low  cloud_cover_mid  cloud_cover_high  \\\n",
       "0                15                0                0                10   \n",
       "1               100              100              100               100   \n",
       "2               100              100              100               100   \n",
       "3                99                0               90                90   \n",
       "4               100                0                5               100   \n",
       "...             ...              ...              ...               ...   \n",
       "719265          100                0               10               100   \n",
       "719266          100                0                5               100   \n",
       "719267          100                0                0               100   \n",
       "719268          100                0                0               100   \n",
       "719269          100                0                0               100   \n",
       "\n",
       "        visibility  wind_speed_10m  temperature_80m  temperature_120m  \\\n",
       "0          24140.0             5.8             28.7              28.6   \n",
       "1           2300.0            45.1             26.5              26.4   \n",
       "2           9660.0            45.3             27.9              27.7   \n",
       "3          24140.0            10.1             26.8              26.8   \n",
       "4          24140.0             7.1             26.7              26.5   \n",
       "...            ...             ...              ...               ...   \n",
       "719265     24140.0             9.5             29.1              28.9   \n",
       "719266     24140.0            23.4             30.7              30.4   \n",
       "719267     24140.0            10.6             28.2              28.0   \n",
       "719268     24140.0            15.6             27.9              27.7   \n",
       "719269     24140.0            21.0             30.6              30.4   \n",
       "\n",
       "        showers  pressure_msl  surface_pressure  wind_speed_80m  \\\n",
       "0           0.8        1010.1            1009.5             7.4   \n",
       "1           1.2         985.5             984.9            72.7   \n",
       "2           0.8         989.1             988.5            68.6   \n",
       "3           0.0        1010.4            1009.8            17.1   \n",
       "4           0.0        1006.8            1006.2             8.7   \n",
       "...         ...           ...               ...             ...   \n",
       "719265      0.0        1009.5            1008.9            12.1   \n",
       "719266      0.0        1009.1            1008.5            29.3   \n",
       "719267      0.0        1007.9            1007.3            14.9   \n",
       "719268      0.0        1007.7            1007.1            22.6   \n",
       "719269      0.0        1008.6            1008.0            26.3   \n",
       "\n",
       "        wind_speed_120m  wind_gusts_10m  evapotranspiration  \\\n",
       "0                   7.7             7.9                 0.0   \n",
       "1                  77.2            74.5                 0.0   \n",
       "2                  72.6            66.2                 0.0   \n",
       "3                  18.9            19.4                 0.0   \n",
       "4                   8.8             8.3                 0.0   \n",
       "...                 ...             ...                 ...   \n",
       "719265             12.8            12.6                -0.0   \n",
       "719266             30.2            24.1                 0.0   \n",
       "719267             15.6            16.6                -0.0   \n",
       "719268             24.1            27.4                 0.0   \n",
       "719269             27.1            23.0                 0.0   \n",
       "\n",
       "        et0_fao_evapotranspiration  vapour_pressure_deficit  dew_point_2m  \\\n",
       "0                             0.01                     0.90          25.2   \n",
       "1                             0.03                     0.21          25.8   \n",
       "2                             0.15                     0.70          25.0   \n",
       "3                             0.04                     0.95          21.5   \n",
       "4                             0.02                     0.99          22.2   \n",
       "...                            ...                      ...           ...   \n",
       "719265                        0.07                     1.86          20.9   \n",
       "719266                        0.75                     2.53          22.0   \n",
       "719267                        0.07                     1.56          21.4   \n",
       "719268                        0.10                     1.52          21.0   \n",
       "719269                        0.70                     2.57          21.6   \n",
       "\n",
       "        terrestrial_radiation_instant  hour is_national_holiday    datetime_2  \\\n",
       "0                                 0.0    23               False  2024_7_20_46   \n",
       "1                                 0.0    20               False  2024_7_24_40   \n",
       "2                               967.1     9               False  2024_7_24_18   \n",
       "3                                 0.0     4               False   2024_8_21_9   \n",
       "4                                 0.0     2               False    2024_9_9_5   \n",
       "...                               ...   ...                 ...           ...   \n",
       "719265                            0.0    23               False   2025_5_9_47   \n",
       "719266                         1336.1    12               False   2025_5_9_25   \n",
       "719267                            0.0     2               False    2025_5_9_5   \n",
       "719268                            0.0     4               False    2025_5_9_9   \n",
       "719269                         1166.6    14               False   2025_5_9_29   \n",
       "\n",
       "        weekday_num  wind_direction_10m_sin  wind_direction_10m_cos  \\\n",
       "0                 5               -0.069756               -0.997564   \n",
       "1                 2               -0.707107                0.707107   \n",
       "2                 2               -0.358368                0.933580   \n",
       "3                 2                0.573576               -0.819152   \n",
       "4                 0                0.754710               -0.656059   \n",
       "...             ...                     ...                     ...   \n",
       "719265            4                0.156434               -0.987688   \n",
       "719266            4               -0.422618               -0.906308   \n",
       "719267            4                0.173648               -0.984808   \n",
       "719268            4                0.139173               -0.990268   \n",
       "719269            4               -0.615661               -0.788011   \n",
       "\n",
       "        wind_direction_120m_sin  wind_direction_120m_cos  \\\n",
       "0                     -0.422618                -0.906308   \n",
       "1                     -0.642788                 0.766044   \n",
       "2                     -0.309017                 0.951057   \n",
       "3                      0.406737                -0.913545   \n",
       "4                      0.707107                -0.707107   \n",
       "...                         ...                      ...   \n",
       "719265                 0.207912                -0.978148   \n",
       "719266                -0.358368                -0.933580   \n",
       "719267                 0.156434                -0.987688   \n",
       "719268                 0.139173                -0.990268   \n",
       "719269                -0.587785                -0.809017   \n",
       "\n",
       "        wind_direction_80m_sin  wind_direction_80m_cos  \n",
       "0                    -0.390731               -0.920505  \n",
       "1                    -0.656059                0.754710  \n",
       "2                    -0.309017                0.951057  \n",
       "3                     0.469472               -0.882948  \n",
       "4                     0.707107               -0.707107  \n",
       "...                        ...                     ...  \n",
       "719265                0.207912               -0.978148  \n",
       "719266               -0.358368               -0.933580  \n",
       "719267                0.139173               -0.990268  \n",
       "719268                0.139173               -0.990268  \n",
       "719269               -0.587785               -0.809017  \n",
       "\n",
       "[2892661 rows x 46 columns]"
      ]
     },
     "execution_count": 12,
     "metadata": {},
     "output_type": "execute_result"
    }
   ],
   "source": [
    "df_final"
   ]
  },
  {
   "cell_type": "code",
   "execution_count": null,
   "metadata": {
    "trusted": true
   },
   "outputs": [],
   "source": [
    "def add_cyclical_features(df):\n",
    "    # month (1–12 → 12 periods)\n",
    "    \n",
    "    # date (1–31 → 31 periods)\n",
    "    df['day_sin'] = np.sin(2 * np.pi * df['day_val'] / 31)\n",
    "    df['day_cos'] = np.cos(2 * np.pi * df['day_val'] / 31)\n",
    "    \n",
    "    # half-hour intervals (0–47 → 48 periods)\n",
    "    df['half_hour_sin'] = np.sin(2 * np.pi * df['half_hour_interval'] / 48)\n",
    "    df['half_hour_cos'] = np.cos(2 * np.pi * df['half_hour_interval'] / 48)\n",
    "    \n",
    "    \n",
    "    return df\n",
    "\n",
    "df_final = add_cyclical_features(df_final)\n",
    "df_final = pd.get_dummies(df_final, columns=['month_val', 'weekday_num'])\n",
    "df_final[\"day_off\"] = df_final[\"is_national_holiday\"] | df_final[\"weekday_num_6\"] | df_final[\"weekday_num_5\"]\n",
    "df_final.drop(columns=[\"is_national_holiday\"], inplace = True)"
   ]
  },
  {
   "cell_type": "code",
   "execution_count": null,
   "metadata": {},
   "outputs": [],
   "source": []
  },
  {
   "cell_type": "code",
   "execution_count": 14,
   "metadata": {
    "trusted": true
   },
   "outputs": [
    {
     "name": "stderr",
     "output_type": "stream",
     "text": [
      "/var/folders/wt/6hl8qhss3jz9zrdh6n8f3_qh0000gn/T/ipykernel_31294/1851175704.py:5: SettingWithCopyWarning: \n",
      "A value is trying to be set on a copy of a slice from a DataFrame\n",
      "\n",
      "See the caveats in the documentation: https://pandas.pydata.org/pandas-docs/stable/user_guide/indexing.html#returning-a-view-versus-a-copy\n",
      "  df_train.drop(columns=[\"datetime\"], inplace=True)\n",
      "/var/folders/wt/6hl8qhss3jz9zrdh6n8f3_qh0000gn/T/ipykernel_31294/1851175704.py:6: SettingWithCopyWarning: \n",
      "A value is trying to be set on a copy of a slice from a DataFrame\n",
      "\n",
      "See the caveats in the documentation: https://pandas.pydata.org/pandas-docs/stable/user_guide/indexing.html#returning-a-view-versus-a-copy\n",
      "  df_val.drop(columns=[\"datetime\"], inplace=True)\n",
      "/var/folders/wt/6hl8qhss3jz9zrdh6n8f3_qh0000gn/T/ipykernel_31294/1851175704.py:7: SettingWithCopyWarning: \n",
      "A value is trying to be set on a copy of a slice from a DataFrame\n",
      "\n",
      "See the caveats in the documentation: https://pandas.pydata.org/pandas-docs/stable/user_guide/indexing.html#returning-a-view-versus-a-copy\n",
      "  df_test.drop(columns=[\"datetime\"], inplace=True)\n"
     ]
    },
    {
     "data": {
      "text/html": [
       "<div>\n",
       "<style scoped>\n",
       "    .dataframe tbody tr th:only-of-type {\n",
       "        vertical-align: middle;\n",
       "    }\n",
       "\n",
       "    .dataframe tbody tr th {\n",
       "        vertical-align: top;\n",
       "    }\n",
       "\n",
       "    .dataframe thead th {\n",
       "        text-align: right;\n",
       "    }\n",
       "</style>\n",
       "<table border=\"1\" class=\"dataframe\">\n",
       "  <thead>\n",
       "    <tr style=\"text-align: right;\">\n",
       "      <th></th>\n",
       "      <th>ParkingSegmentID</th>\n",
       "      <th>year_val</th>\n",
       "      <th>day_val</th>\n",
       "      <th>half_hour_interval</th>\n",
       "      <th>district</th>\n",
       "      <th>avg_available_spots</th>\n",
       "      <th>TotalSpaces</th>\n",
       "      <th>lat</th>\n",
       "      <th>lon</th>\n",
       "      <th>firstHourFee</th>\n",
       "      <th>laterHourFee</th>\n",
       "      <th>precipitation</th>\n",
       "      <th>apparent_temperature</th>\n",
       "      <th>relative_humidity_2m</th>\n",
       "      <th>temperature_2m</th>\n",
       "      <th>cloud_cover</th>\n",
       "      <th>cloud_cover_low</th>\n",
       "      <th>cloud_cover_mid</th>\n",
       "      <th>cloud_cover_high</th>\n",
       "      <th>visibility</th>\n",
       "      <th>wind_speed_10m</th>\n",
       "      <th>temperature_80m</th>\n",
       "      <th>temperature_120m</th>\n",
       "      <th>showers</th>\n",
       "      <th>pressure_msl</th>\n",
       "      <th>surface_pressure</th>\n",
       "      <th>wind_speed_80m</th>\n",
       "      <th>wind_speed_120m</th>\n",
       "      <th>wind_gusts_10m</th>\n",
       "      <th>evapotranspiration</th>\n",
       "      <th>et0_fao_evapotranspiration</th>\n",
       "      <th>vapour_pressure_deficit</th>\n",
       "      <th>dew_point_2m</th>\n",
       "      <th>terrestrial_radiation_instant</th>\n",
       "      <th>hour</th>\n",
       "      <th>datetime_2</th>\n",
       "      <th>wind_direction_10m_sin</th>\n",
       "      <th>wind_direction_10m_cos</th>\n",
       "      <th>wind_direction_120m_sin</th>\n",
       "      <th>wind_direction_120m_cos</th>\n",
       "      <th>wind_direction_80m_sin</th>\n",
       "      <th>wind_direction_80m_cos</th>\n",
       "      <th>day_sin</th>\n",
       "      <th>day_cos</th>\n",
       "      <th>half_hour_sin</th>\n",
       "      <th>half_hour_cos</th>\n",
       "      <th>month_val_1</th>\n",
       "      <th>month_val_2</th>\n",
       "      <th>month_val_3</th>\n",
       "      <th>month_val_4</th>\n",
       "      <th>month_val_5</th>\n",
       "      <th>month_val_6</th>\n",
       "      <th>month_val_7</th>\n",
       "      <th>month_val_8</th>\n",
       "      <th>month_val_9</th>\n",
       "      <th>month_val_10</th>\n",
       "      <th>month_val_11</th>\n",
       "      <th>month_val_12</th>\n",
       "      <th>weekday_num_0</th>\n",
       "      <th>weekday_num_1</th>\n",
       "      <th>weekday_num_2</th>\n",
       "      <th>weekday_num_3</th>\n",
       "      <th>weekday_num_4</th>\n",
       "      <th>weekday_num_5</th>\n",
       "      <th>weekday_num_6</th>\n",
       "      <th>day_off</th>\n",
       "    </tr>\n",
       "  </thead>\n",
       "  <tbody>\n",
       "    <tr>\n",
       "      <th>66246</th>\n",
       "      <td>1421</td>\n",
       "      <td>2025</td>\n",
       "      <td>27</td>\n",
       "      <td>5</td>\n",
       "      <td>0</td>\n",
       "      <td>1.0</td>\n",
       "      <td>3</td>\n",
       "      <td>22.99480</td>\n",
       "      <td>120.19519</td>\n",
       "      <td>0</td>\n",
       "      <td>0</td>\n",
       "      <td>0.0</td>\n",
       "      <td>26.7</td>\n",
       "      <td>71</td>\n",
       "      <td>24.7</td>\n",
       "      <td>0</td>\n",
       "      <td>0</td>\n",
       "      <td>0</td>\n",
       "      <td>0</td>\n",
       "      <td>24140.0</td>\n",
       "      <td>9.6</td>\n",
       "      <td>23.4</td>\n",
       "      <td>23.2</td>\n",
       "      <td>0.0</td>\n",
       "      <td>1013.6</td>\n",
       "      <td>1013.0</td>\n",
       "      <td>11.3</td>\n",
       "      <td>11.9</td>\n",
       "      <td>8.6</td>\n",
       "      <td>-0.0</td>\n",
       "      <td>0.03</td>\n",
       "      <td>0.90</td>\n",
       "      <td>19.1</td>\n",
       "      <td>0.0</td>\n",
       "      <td>2</td>\n",
       "      <td>2025_4_27_5</td>\n",
       "      <td>0.224951</td>\n",
       "      <td>0.974370</td>\n",
       "      <td>0.156434</td>\n",
       "      <td>0.987688</td>\n",
       "      <td>0.156434</td>\n",
       "      <td>0.987688</td>\n",
       "      <td>-0.724793</td>\n",
       "      <td>0.688967</td>\n",
       "      <td>0.608761</td>\n",
       "      <td>0.793353</td>\n",
       "      <td>False</td>\n",
       "      <td>False</td>\n",
       "      <td>False</td>\n",
       "      <td>True</td>\n",
       "      <td>False</td>\n",
       "      <td>False</td>\n",
       "      <td>False</td>\n",
       "      <td>False</td>\n",
       "      <td>False</td>\n",
       "      <td>False</td>\n",
       "      <td>False</td>\n",
       "      <td>False</td>\n",
       "      <td>False</td>\n",
       "      <td>False</td>\n",
       "      <td>False</td>\n",
       "      <td>False</td>\n",
       "      <td>False</td>\n",
       "      <td>False</td>\n",
       "      <td>True</td>\n",
       "      <td>True</td>\n",
       "    </tr>\n",
       "    <tr>\n",
       "      <th>66247</th>\n",
       "      <td>1421</td>\n",
       "      <td>2025</td>\n",
       "      <td>28</td>\n",
       "      <td>40</td>\n",
       "      <td>0</td>\n",
       "      <td>1.0</td>\n",
       "      <td>3</td>\n",
       "      <td>22.99480</td>\n",
       "      <td>120.19519</td>\n",
       "      <td>0</td>\n",
       "      <td>0</td>\n",
       "      <td>0.0</td>\n",
       "      <td>28.1</td>\n",
       "      <td>62</td>\n",
       "      <td>27.4</td>\n",
       "      <td>0</td>\n",
       "      <td>0</td>\n",
       "      <td>0</td>\n",
       "      <td>0</td>\n",
       "      <td>24140.0</td>\n",
       "      <td>19.5</td>\n",
       "      <td>25.9</td>\n",
       "      <td>25.7</td>\n",
       "      <td>0.0</td>\n",
       "      <td>1011.2</td>\n",
       "      <td>1010.6</td>\n",
       "      <td>27.0</td>\n",
       "      <td>27.9</td>\n",
       "      <td>24.1</td>\n",
       "      <td>-0.0</td>\n",
       "      <td>0.11</td>\n",
       "      <td>1.39</td>\n",
       "      <td>19.5</td>\n",
       "      <td>0.0</td>\n",
       "      <td>20</td>\n",
       "      <td>2025_4_28_40</td>\n",
       "      <td>0.034899</td>\n",
       "      <td>0.999391</td>\n",
       "      <td>0.034899</td>\n",
       "      <td>0.999391</td>\n",
       "      <td>0.034899</td>\n",
       "      <td>0.999391</td>\n",
       "      <td>-0.571268</td>\n",
       "      <td>0.820763</td>\n",
       "      <td>-0.866025</td>\n",
       "      <td>0.500000</td>\n",
       "      <td>False</td>\n",
       "      <td>False</td>\n",
       "      <td>False</td>\n",
       "      <td>True</td>\n",
       "      <td>False</td>\n",
       "      <td>False</td>\n",
       "      <td>False</td>\n",
       "      <td>False</td>\n",
       "      <td>False</td>\n",
       "      <td>False</td>\n",
       "      <td>False</td>\n",
       "      <td>False</td>\n",
       "      <td>True</td>\n",
       "      <td>False</td>\n",
       "      <td>False</td>\n",
       "      <td>False</td>\n",
       "      <td>False</td>\n",
       "      <td>False</td>\n",
       "      <td>False</td>\n",
       "      <td>False</td>\n",
       "    </tr>\n",
       "    <tr>\n",
       "      <th>66250</th>\n",
       "      <td>1421</td>\n",
       "      <td>2025</td>\n",
       "      <td>4</td>\n",
       "      <td>20</td>\n",
       "      <td>0</td>\n",
       "      <td>1.0</td>\n",
       "      <td>3</td>\n",
       "      <td>22.99480</td>\n",
       "      <td>120.19519</td>\n",
       "      <td>20</td>\n",
       "      <td>20</td>\n",
       "      <td>0.0</td>\n",
       "      <td>36.2</td>\n",
       "      <td>49</td>\n",
       "      <td>31.9</td>\n",
       "      <td>83</td>\n",
       "      <td>0</td>\n",
       "      <td>0</td>\n",
       "      <td>82</td>\n",
       "      <td>24140.0</td>\n",
       "      <td>6.5</td>\n",
       "      <td>29.4</td>\n",
       "      <td>29.2</td>\n",
       "      <td>0.0</td>\n",
       "      <td>1009.3</td>\n",
       "      <td>1008.7</td>\n",
       "      <td>6.1</td>\n",
       "      <td>6.3</td>\n",
       "      <td>5.0</td>\n",
       "      <td>0.0</td>\n",
       "      <td>0.61</td>\n",
       "      <td>2.41</td>\n",
       "      <td>19.9</td>\n",
       "      <td>1187.1</td>\n",
       "      <td>10</td>\n",
       "      <td>2025_5_4_20</td>\n",
       "      <td>-0.829038</td>\n",
       "      <td>0.559193</td>\n",
       "      <td>-0.766044</td>\n",
       "      <td>0.642788</td>\n",
       "      <td>-0.766044</td>\n",
       "      <td>0.642788</td>\n",
       "      <td>0.724793</td>\n",
       "      <td>0.688967</td>\n",
       "      <td>0.500000</td>\n",
       "      <td>-0.866025</td>\n",
       "      <td>False</td>\n",
       "      <td>False</td>\n",
       "      <td>False</td>\n",
       "      <td>False</td>\n",
       "      <td>True</td>\n",
       "      <td>False</td>\n",
       "      <td>False</td>\n",
       "      <td>False</td>\n",
       "      <td>False</td>\n",
       "      <td>False</td>\n",
       "      <td>False</td>\n",
       "      <td>False</td>\n",
       "      <td>False</td>\n",
       "      <td>False</td>\n",
       "      <td>False</td>\n",
       "      <td>False</td>\n",
       "      <td>False</td>\n",
       "      <td>False</td>\n",
       "      <td>True</td>\n",
       "      <td>True</td>\n",
       "    </tr>\n",
       "    <tr>\n",
       "      <th>66256</th>\n",
       "      <td>181</td>\n",
       "      <td>2025</td>\n",
       "      <td>29</td>\n",
       "      <td>5</td>\n",
       "      <td>0</td>\n",
       "      <td>28.5</td>\n",
       "      <td>51</td>\n",
       "      <td>22.98488</td>\n",
       "      <td>120.20178</td>\n",
       "      <td>0</td>\n",
       "      <td>0</td>\n",
       "      <td>0.0</td>\n",
       "      <td>27.9</td>\n",
       "      <td>63</td>\n",
       "      <td>26.2</td>\n",
       "      <td>7</td>\n",
       "      <td>0</td>\n",
       "      <td>0</td>\n",
       "      <td>5</td>\n",
       "      <td>24140.0</td>\n",
       "      <td>9.8</td>\n",
       "      <td>24.9</td>\n",
       "      <td>24.7</td>\n",
       "      <td>0.0</td>\n",
       "      <td>1010.3</td>\n",
       "      <td>1009.7</td>\n",
       "      <td>14.4</td>\n",
       "      <td>15.2</td>\n",
       "      <td>11.2</td>\n",
       "      <td>-0.0</td>\n",
       "      <td>0.05</td>\n",
       "      <td>1.26</td>\n",
       "      <td>18.6</td>\n",
       "      <td>0.0</td>\n",
       "      <td>2</td>\n",
       "      <td>2025_4_29_5</td>\n",
       "      <td>-0.469472</td>\n",
       "      <td>-0.882948</td>\n",
       "      <td>-0.529919</td>\n",
       "      <td>-0.848048</td>\n",
       "      <td>-0.529919</td>\n",
       "      <td>-0.848048</td>\n",
       "      <td>-0.394356</td>\n",
       "      <td>0.918958</td>\n",
       "      <td>0.608761</td>\n",
       "      <td>0.793353</td>\n",
       "      <td>False</td>\n",
       "      <td>False</td>\n",
       "      <td>False</td>\n",
       "      <td>True</td>\n",
       "      <td>False</td>\n",
       "      <td>False</td>\n",
       "      <td>False</td>\n",
       "      <td>False</td>\n",
       "      <td>False</td>\n",
       "      <td>False</td>\n",
       "      <td>False</td>\n",
       "      <td>False</td>\n",
       "      <td>False</td>\n",
       "      <td>True</td>\n",
       "      <td>False</td>\n",
       "      <td>False</td>\n",
       "      <td>False</td>\n",
       "      <td>False</td>\n",
       "      <td>False</td>\n",
       "      <td>False</td>\n",
       "    </tr>\n",
       "    <tr>\n",
       "      <th>66261</th>\n",
       "      <td>181</td>\n",
       "      <td>2025</td>\n",
       "      <td>6</td>\n",
       "      <td>47</td>\n",
       "      <td>0</td>\n",
       "      <td>30.0</td>\n",
       "      <td>51</td>\n",
       "      <td>22.98488</td>\n",
       "      <td>120.20178</td>\n",
       "      <td>0</td>\n",
       "      <td>0</td>\n",
       "      <td>0.0</td>\n",
       "      <td>32.7</td>\n",
       "      <td>67</td>\n",
       "      <td>28.8</td>\n",
       "      <td>23</td>\n",
       "      <td>8</td>\n",
       "      <td>0</td>\n",
       "      <td>14</td>\n",
       "      <td>24140.0</td>\n",
       "      <td>6.9</td>\n",
       "      <td>27.3</td>\n",
       "      <td>27.1</td>\n",
       "      <td>0.0</td>\n",
       "      <td>1009.3</td>\n",
       "      <td>1008.7</td>\n",
       "      <td>7.8</td>\n",
       "      <td>7.9</td>\n",
       "      <td>7.6</td>\n",
       "      <td>-0.0</td>\n",
       "      <td>0.03</td>\n",
       "      <td>1.30</td>\n",
       "      <td>22.1</td>\n",
       "      <td>0.0</td>\n",
       "      <td>23</td>\n",
       "      <td>2025_5_6_47</td>\n",
       "      <td>-0.469472</td>\n",
       "      <td>-0.882948</td>\n",
       "      <td>-0.374607</td>\n",
       "      <td>-0.927184</td>\n",
       "      <td>-0.374607</td>\n",
       "      <td>-0.927184</td>\n",
       "      <td>0.937752</td>\n",
       "      <td>0.347305</td>\n",
       "      <td>-0.130526</td>\n",
       "      <td>0.991445</td>\n",
       "      <td>False</td>\n",
       "      <td>False</td>\n",
       "      <td>False</td>\n",
       "      <td>False</td>\n",
       "      <td>True</td>\n",
       "      <td>False</td>\n",
       "      <td>False</td>\n",
       "      <td>False</td>\n",
       "      <td>False</td>\n",
       "      <td>False</td>\n",
       "      <td>False</td>\n",
       "      <td>False</td>\n",
       "      <td>False</td>\n",
       "      <td>True</td>\n",
       "      <td>False</td>\n",
       "      <td>False</td>\n",
       "      <td>False</td>\n",
       "      <td>False</td>\n",
       "      <td>False</td>\n",
       "      <td>False</td>\n",
       "    </tr>\n",
       "  </tbody>\n",
       "</table>\n",
       "</div>"
      ],
      "text/plain": [
       "      ParkingSegmentID  year_val  day_val  half_hour_interval  district  \\\n",
       "66246             1421      2025       27                   5         0   \n",
       "66247             1421      2025       28                  40         0   \n",
       "66250             1421      2025        4                  20         0   \n",
       "66256              181      2025       29                   5         0   \n",
       "66261              181      2025        6                  47         0   \n",
       "\n",
       "       avg_available_spots  TotalSpaces       lat        lon  firstHourFee  \\\n",
       "66246                  1.0            3  22.99480  120.19519             0   \n",
       "66247                  1.0            3  22.99480  120.19519             0   \n",
       "66250                  1.0            3  22.99480  120.19519            20   \n",
       "66256                 28.5           51  22.98488  120.20178             0   \n",
       "66261                 30.0           51  22.98488  120.20178             0   \n",
       "\n",
       "       laterHourFee  precipitation  apparent_temperature  \\\n",
       "66246             0            0.0                  26.7   \n",
       "66247             0            0.0                  28.1   \n",
       "66250            20            0.0                  36.2   \n",
       "66256             0            0.0                  27.9   \n",
       "66261             0            0.0                  32.7   \n",
       "\n",
       "       relative_humidity_2m  temperature_2m  cloud_cover  cloud_cover_low  \\\n",
       "66246                    71            24.7            0                0   \n",
       "66247                    62            27.4            0                0   \n",
       "66250                    49            31.9           83                0   \n",
       "66256                    63            26.2            7                0   \n",
       "66261                    67            28.8           23                8   \n",
       "\n",
       "       cloud_cover_mid  cloud_cover_high  visibility  wind_speed_10m  \\\n",
       "66246                0                 0     24140.0             9.6   \n",
       "66247                0                 0     24140.0            19.5   \n",
       "66250                0                82     24140.0             6.5   \n",
       "66256                0                 5     24140.0             9.8   \n",
       "66261                0                14     24140.0             6.9   \n",
       "\n",
       "       temperature_80m  temperature_120m  showers  pressure_msl  \\\n",
       "66246             23.4              23.2      0.0        1013.6   \n",
       "66247             25.9              25.7      0.0        1011.2   \n",
       "66250             29.4              29.2      0.0        1009.3   \n",
       "66256             24.9              24.7      0.0        1010.3   \n",
       "66261             27.3              27.1      0.0        1009.3   \n",
       "\n",
       "       surface_pressure  wind_speed_80m  wind_speed_120m  wind_gusts_10m  \\\n",
       "66246            1013.0            11.3             11.9             8.6   \n",
       "66247            1010.6            27.0             27.9            24.1   \n",
       "66250            1008.7             6.1              6.3             5.0   \n",
       "66256            1009.7            14.4             15.2            11.2   \n",
       "66261            1008.7             7.8              7.9             7.6   \n",
       "\n",
       "       evapotranspiration  et0_fao_evapotranspiration  \\\n",
       "66246                -0.0                        0.03   \n",
       "66247                -0.0                        0.11   \n",
       "66250                 0.0                        0.61   \n",
       "66256                -0.0                        0.05   \n",
       "66261                -0.0                        0.03   \n",
       "\n",
       "       vapour_pressure_deficit  dew_point_2m  terrestrial_radiation_instant  \\\n",
       "66246                     0.90          19.1                            0.0   \n",
       "66247                     1.39          19.5                            0.0   \n",
       "66250                     2.41          19.9                         1187.1   \n",
       "66256                     1.26          18.6                            0.0   \n",
       "66261                     1.30          22.1                            0.0   \n",
       "\n",
       "       hour    datetime_2  wind_direction_10m_sin  wind_direction_10m_cos  \\\n",
       "66246     2   2025_4_27_5                0.224951                0.974370   \n",
       "66247    20  2025_4_28_40                0.034899                0.999391   \n",
       "66250    10   2025_5_4_20               -0.829038                0.559193   \n",
       "66256     2   2025_4_29_5               -0.469472               -0.882948   \n",
       "66261    23   2025_5_6_47               -0.469472               -0.882948   \n",
       "\n",
       "       wind_direction_120m_sin  wind_direction_120m_cos  \\\n",
       "66246                 0.156434                 0.987688   \n",
       "66247                 0.034899                 0.999391   \n",
       "66250                -0.766044                 0.642788   \n",
       "66256                -0.529919                -0.848048   \n",
       "66261                -0.374607                -0.927184   \n",
       "\n",
       "       wind_direction_80m_sin  wind_direction_80m_cos   day_sin   day_cos  \\\n",
       "66246                0.156434                0.987688 -0.724793  0.688967   \n",
       "66247                0.034899                0.999391 -0.571268  0.820763   \n",
       "66250               -0.766044                0.642788  0.724793  0.688967   \n",
       "66256               -0.529919               -0.848048 -0.394356  0.918958   \n",
       "66261               -0.374607               -0.927184  0.937752  0.347305   \n",
       "\n",
       "       half_hour_sin  half_hour_cos  month_val_1  month_val_2  month_val_3  \\\n",
       "66246       0.608761       0.793353        False        False        False   \n",
       "66247      -0.866025       0.500000        False        False        False   \n",
       "66250       0.500000      -0.866025        False        False        False   \n",
       "66256       0.608761       0.793353        False        False        False   \n",
       "66261      -0.130526       0.991445        False        False        False   \n",
       "\n",
       "       month_val_4  month_val_5  month_val_6  month_val_7  month_val_8  \\\n",
       "66246         True        False        False        False        False   \n",
       "66247         True        False        False        False        False   \n",
       "66250        False         True        False        False        False   \n",
       "66256         True        False        False        False        False   \n",
       "66261        False         True        False        False        False   \n",
       "\n",
       "       month_val_9  month_val_10  month_val_11  month_val_12  weekday_num_0  \\\n",
       "66246        False         False         False         False          False   \n",
       "66247        False         False         False         False           True   \n",
       "66250        False         False         False         False          False   \n",
       "66256        False         False         False         False          False   \n",
       "66261        False         False         False         False          False   \n",
       "\n",
       "       weekday_num_1  weekday_num_2  weekday_num_3  weekday_num_4  \\\n",
       "66246          False          False          False          False   \n",
       "66247          False          False          False          False   \n",
       "66250          False          False          False          False   \n",
       "66256           True          False          False          False   \n",
       "66261           True          False          False          False   \n",
       "\n",
       "       weekday_num_5  weekday_num_6  day_off  \n",
       "66246          False           True     True  \n",
       "66247          False          False    False  \n",
       "66250          False           True     True  \n",
       "66256          False          False    False  \n",
       "66261          False          False    False  "
      ]
     },
     "execution_count": 14,
     "metadata": {},
     "output_type": "execute_result"
    }
   ],
   "source": [
    "df_final[\"datetime\"] = pd.to_datetime(df_final[\"datetime\"])\n",
    "df_train = df_final[df_final[\"datetime\"] < \"2025-01-23\"]\n",
    "df_val = df_final[(df_final[\"datetime\"] >= \"2025-01-23\") & (df_final[\"datetime\"] < \"2025-03-23\")]\n",
    "df_test = df_final[df_final[\"datetime\"] >= \"2025-03-23\"]\n",
    "df_train.drop(columns=[\"datetime\"], inplace=True)\n",
    "df_val.drop(columns=[\"datetime\"], inplace=True)\n",
    "df_test.drop(columns=[\"datetime\"], inplace=True)\n",
    "df_train.head()\n",
    "df_val.head()\n",
    "df_test.head()"
   ]
  },
  {
   "cell_type": "code",
   "execution_count": 15,
   "metadata": {
    "trusted": true
   },
   "outputs": [
    {
     "name": "stderr",
     "output_type": "stream",
     "text": [
      "/var/folders/wt/6hl8qhss3jz9zrdh6n8f3_qh0000gn/T/ipykernel_31294/3745555813.py:1: SettingWithCopyWarning: \n",
      "A value is trying to be set on a copy of a slice from a DataFrame.\n",
      "Try using .loc[row_indexer,col_indexer] = value instead\n",
      "\n",
      "See the caveats in the documentation: https://pandas.pydata.org/pandas-docs/stable/user_guide/indexing.html#returning-a-view-versus-a-copy\n",
      "  df_train['available_percent'] = df_train[\"avg_available_spots\"]\n",
      "/var/folders/wt/6hl8qhss3jz9zrdh6n8f3_qh0000gn/T/ipykernel_31294/3745555813.py:2: SettingWithCopyWarning: \n",
      "A value is trying to be set on a copy of a slice from a DataFrame.\n",
      "Try using .loc[row_indexer,col_indexer] = value instead\n",
      "\n",
      "See the caveats in the documentation: https://pandas.pydata.org/pandas-docs/stable/user_guide/indexing.html#returning-a-view-versus-a-copy\n",
      "  df_val['available_percent'] = df_val[\"avg_available_spots\"]\n",
      "/var/folders/wt/6hl8qhss3jz9zrdh6n8f3_qh0000gn/T/ipykernel_31294/3745555813.py:3: SettingWithCopyWarning: \n",
      "A value is trying to be set on a copy of a slice from a DataFrame.\n",
      "Try using .loc[row_indexer,col_indexer] = value instead\n",
      "\n",
      "See the caveats in the documentation: https://pandas.pydata.org/pandas-docs/stable/user_guide/indexing.html#returning-a-view-versus-a-copy\n",
      "  df_test['available_percent'] = df_test[\"avg_available_spots\"]\n",
      "/var/folders/wt/6hl8qhss3jz9zrdh6n8f3_qh0000gn/T/ipykernel_31294/3745555813.py:4: SettingWithCopyWarning: \n",
      "A value is trying to be set on a copy of a slice from a DataFrame\n",
      "\n",
      "See the caveats in the documentation: https://pandas.pydata.org/pandas-docs/stable/user_guide/indexing.html#returning-a-view-versus-a-copy\n",
      "  df_train.drop(columns=[\"avg_available_spots\"], inplace=True)\n",
      "/var/folders/wt/6hl8qhss3jz9zrdh6n8f3_qh0000gn/T/ipykernel_31294/3745555813.py:5: SettingWithCopyWarning: \n",
      "A value is trying to be set on a copy of a slice from a DataFrame\n",
      "\n",
      "See the caveats in the documentation: https://pandas.pydata.org/pandas-docs/stable/user_guide/indexing.html#returning-a-view-versus-a-copy\n",
      "  df_val.drop(columns=[\"avg_available_spots\"], inplace=True)\n",
      "/var/folders/wt/6hl8qhss3jz9zrdh6n8f3_qh0000gn/T/ipykernel_31294/3745555813.py:6: SettingWithCopyWarning: \n",
      "A value is trying to be set on a copy of a slice from a DataFrame\n",
      "\n",
      "See the caveats in the documentation: https://pandas.pydata.org/pandas-docs/stable/user_guide/indexing.html#returning-a-view-versus-a-copy\n",
      "  df_test.drop(columns=[\"avg_available_spots\"], inplace=True)\n"
     ]
    }
   ],
   "source": [
    "df_train['available_percent'] = df_train[\"avg_available_spots\"]\n",
    "df_val['available_percent'] = df_val[\"avg_available_spots\"]\n",
    "df_test['available_percent'] = df_test[\"avg_available_spots\"]\n",
    "df_train.drop(columns=[\"avg_available_spots\"], inplace=True)\n",
    "df_val.drop(columns=[\"avg_available_spots\"], inplace=True)\n",
    "df_test.drop(columns=[\"avg_available_spots\"], inplace=True)"
   ]
  },
  {
   "cell_type": "code",
   "execution_count": null,
   "metadata": {
    "trusted": true
   },
   "outputs": [
    {
     "name": "stdout",
     "output_type": "stream",
     "text": [
      "147\n",
      "152\n",
      "157\n",
      "val 停車場數量: 147\n",
      "test 停車場數量: 147\n"
     ]
    }
   ],
   "source": [
    "print(len(df_train.loc[df_train['datetime_2'] == \"2024_1_23_2\", 'ParkingSegmentID'].unique()))\n",
    "print(len(df_train['ParkingSegmentID'].unique()))\n",
    "print(len(df_test['ParkingSegmentID'].unique()))\n",
    "# retrieve all parking lot IDs from the training set\n",
    "train_seg_id = set(df_train.loc[df_train['datetime_2'] == \"2024_1_23_2\", 'ParkingSegmentID'].unique())\n",
    "\n",
    "# filter validation/test sets to retain only the IDs present in the training set\n",
    "df_train = df_train[df_train['ParkingSegmentID'].isin(train_seg_id)].copy()\n",
    "df_val = df_val[df_val['ParkingSegmentID'].isin(train_seg_id)].copy()\n",
    "df_test = df_test[df_test['ParkingSegmentID'].isin(train_seg_id)].copy()\n",
    "\n",
    "print(\"val 停車場數量:\", len(df_val['ParkingSegmentID'].unique()))\n",
    "print(\"test 停車場數量:\", len(df_test['ParkingSegmentID'].unique()))"
   ]
  },
  {
   "cell_type": "code",
   "execution_count": 17,
   "metadata": {
    "trusted": true
   },
   "outputs": [
    {
     "data": {
      "text/plain": [
       "Index(['ParkingSegmentID', 'year_val', 'day_val', 'half_hour_interval',\n",
       "       'district', 'TotalSpaces', 'lat', 'lon', 'firstHourFee', 'laterHourFee',\n",
       "       'precipitation', 'apparent_temperature', 'relative_humidity_2m',\n",
       "       'temperature_2m', 'cloud_cover', 'cloud_cover_low', 'cloud_cover_mid',\n",
       "       'cloud_cover_high', 'visibility', 'wind_speed_10m', 'temperature_80m',\n",
       "       'temperature_120m', 'showers', 'pressure_msl', 'surface_pressure',\n",
       "       'wind_speed_80m', 'wind_speed_120m', 'wind_gusts_10m',\n",
       "       'evapotranspiration', 'et0_fao_evapotranspiration',\n",
       "       'vapour_pressure_deficit', 'dew_point_2m',\n",
       "       'terrestrial_radiation_instant', 'hour', 'datetime_2',\n",
       "       'wind_direction_10m_sin', 'wind_direction_10m_cos',\n",
       "       'wind_direction_120m_sin', 'wind_direction_120m_cos',\n",
       "       'wind_direction_80m_sin', 'wind_direction_80m_cos', 'day_sin',\n",
       "       'day_cos', 'half_hour_sin', 'half_hour_cos', 'month_val_1',\n",
       "       'month_val_2', 'month_val_3', 'month_val_4', 'month_val_5',\n",
       "       'month_val_6', 'month_val_7', 'month_val_8', 'month_val_9',\n",
       "       'month_val_10', 'month_val_11', 'month_val_12', 'weekday_num_0',\n",
       "       'weekday_num_1', 'weekday_num_2', 'weekday_num_3', 'weekday_num_4',\n",
       "       'weekday_num_5', 'weekday_num_6', 'day_off', 'available_percent'],\n",
       "      dtype='object')"
      ]
     },
     "execution_count": 17,
     "metadata": {},
     "output_type": "execute_result"
    }
   ],
   "source": [
    "df_train.columns"
   ]
  },
  {
   "cell_type": "code",
   "execution_count": 18,
   "metadata": {
    "trusted": true
   },
   "outputs": [],
   "source": [
    "spatial_cols = ['lat', 'lon', 'district'\n",
    "                   ]\n",
    "temporal_cols = ['year_val', \n",
    " 'TotalSpaces', 'firstHourFee', 'laterHourFee',\n",
    "       'precipitation', 'apparent_temperature', 'relative_humidity_2m',\n",
    "       'temperature_2m', 'cloud_cover', 'cloud_cover_low', 'cloud_cover_mid',\n",
    "       'cloud_cover_high', 'visibility', 'wind_speed_10m', 'temperature_80m',\n",
    "       'temperature_120m', 'showers', 'pressure_msl', 'surface_pressure',\n",
    "       'wind_speed_80m', 'wind_speed_120m', 'wind_direction_10m_sin','wind_direction_10m_cos',\n",
    "       'wind_direction_80m_sin','wind_direction_80m_cos', 'wind_direction_120m_sin','wind_direction_120m_cos', 'wind_gusts_10m',\n",
    "       'evapotranspiration', 'et0_fao_evapotranspiration',\n",
    "       'vapour_pressure_deficit', 'dew_point_2m',\n",
    "       'terrestrial_radiation_instant', 'day_sin',\n",
    "       'day_cos', 'half_hour_sin', 'half_hour_cos', 'month_val_1',\n",
    "       'month_val_2', 'month_val_3', 'month_val_4', 'month_val_5',\n",
    "       'month_val_6', 'month_val_7', 'month_val_8', 'month_val_9',\n",
    "       'month_val_10', 'month_val_11', 'month_val_12', 'weekday_num_0',\n",
    "       'weekday_num_1', 'weekday_num_2', 'weekday_num_3', 'weekday_num_4',\n",
    "       'weekday_num_5', 'weekday_num_6', 'day_off']\n",
    "spatial_cols_to_scale = ['lat', 'lon']\n",
    "temporal_cols_to_scale = [\n",
    " 'TotalSpaces', 'firstHourFee', 'laterHourFee',\n",
    "       'precipitation', 'apparent_temperature', 'relative_humidity_2m',\n",
    "       'temperature_2m', 'cloud_cover', 'cloud_cover_low', 'cloud_cover_mid',\n",
    "       'cloud_cover_high', 'visibility', 'wind_speed_10m', 'temperature_80m',\n",
    "       'temperature_120m', 'showers', 'pressure_msl', 'surface_pressure',\n",
    "       'wind_speed_80m', 'wind_speed_120m',\n",
    "        'wind_gusts_10m',\n",
    "       'evapotranspiration', 'et0_fao_evapotranspiration',\n",
    "       'vapour_pressure_deficit', 'dew_point_2m',\n",
    "       'terrestrial_radiation_instant'\n",
    "]"
   ]
  },
  {
   "cell_type": "code",
   "execution_count": null,
   "metadata": {
    "trusted": true
   },
   "outputs": [],
   "source": [
    "def build_spatial_df(df, spatial_cols):\n",
    "    # return the static feature table deduplicated by ParkingSegmentID\n",
    "    spatial_df = (\n",
    "        df.groupby('ParkingSegmentID')[spatial_cols]\n",
    "          .first()            \n",
    "          .reset_index()\n",
    "    )\n",
    "    return spatial_df\n",
    "\n",
    "spatial_df = build_spatial_df(df_train, spatial_cols)   \n",
    "N = len(spatial_df)"
   ]
  },
  {
   "cell_type": "code",
   "execution_count": null,
   "metadata": {
    "trusted": true
   },
   "outputs": [],
   "source": [
    "from collections import defaultdict\n",
    "import numpy as np\n",
    "import torch\n",
    "test_time_key =[]\n",
    "def prepare_full_timeslice_batches(df, spatial_df,\n",
    "                                   temporal_cols, target_col='available_percent'):\n",
    "    \"\"\"\n",
    "    only keep the slices where all N nodes are present at that time point.\n",
    "    return batches: List[Dict], where each batch includes:\n",
    "    temporal_features : [N, d_t] numpy array\n",
    "    target            : [N] numpy array\n",
    "    time_key          : time index (optional)\n",
    "    \"\"\"\n",
    "    # create node ordering → to facilitate alignment with the order in spatial_df\n",
    "    node_order = spatial_df['ParkingSegmentID'].tolist()\n",
    "    node_idx_map = {pid: idx for idx, pid in enumerate(node_order)}\n",
    "    N = len(node_order)\n",
    "    batches = []\n",
    "    # group by time step\n",
    "    for time_key, g in df.groupby('datetime_2'):\n",
    "        if len(g) != N:\n",
    "            # Incomplete data at this time point, skip directly\n",
    "            continue\n",
    "        # align according to node_order\n",
    "        g_sorted = g.set_index('ParkingSegmentID').loc[node_order]\n",
    "        assert len(g_sorted) == N, f\"time {time_key} 節點遺失！\"\n",
    "        \n",
    "        t_mat = g_sorted[temporal_cols].to_numpy(dtype=np.float32)                  # [N, d_t]\n",
    "        tgt   = g_sorted[target_col].to_numpy(dtype=np.float32)                     # [N]\n",
    "        test_time_key.append(time_key)\n",
    "        batches.append({\n",
    "            'time_key': time_key,\n",
    "            'temporal_features': t_mat,\n",
    "            'target': tgt,\n",
    "\n",
    "        })\n",
    "    return batches"
   ]
  },
  {
   "cell_type": "code",
   "execution_count": null,
   "metadata": {},
   "outputs": [],
   "source": [
    "\n",
    "import matplotlib.pyplot as plt\n",
    "\n",
    "# count the number of data records for each parking lot\n",
    "count_per_parking = df_train['ParkingSegmentID'].value_counts()\n",
    "\n",
    "# then count how many parking lots have exactly n data records\n",
    "count_of_counts = count_per_parking.value_counts().sort_index()\n",
    "\n",
    "plt.figure(figsize=(10,6))\n",
    "plt.bar(count_of_counts.index, count_of_counts.values, width=1.0, edgecolor='black')\n",
    "plt.xlabel('每個停車場的資料筆數')\n",
    "plt.ylabel('有這麼多資料的停車場數量')\n",
    "plt.title('停車場資料筆數分布')\n",
    "plt.tight_layout()\n",
    "plt.show()"
   ]
  },
  {
   "cell_type": "code",
   "execution_count": null,
   "metadata": {
    "trusted": true
   },
   "outputs": [
    {
     "name": "stderr",
     "output_type": "stream",
     "text": [
      "/var/folders/wt/6hl8qhss3jz9zrdh6n8f3_qh0000gn/T/ipykernel_31294/2811152063.py:13: FutureWarning: Setting an item of incompatible dtype is deprecated and will raise in a future error of pandas. Value '[-0.36874861 -0.36874861 -0.36874861 ... -0.19343778 -0.19343778\n",
      " -0.19343778]' has dtype incompatible with int64, please explicitly cast to a compatible dtype first.\n",
      "  df_scaled.loc[:, c] = temporal_scaler[c].transform(df_scaled[[c]]).ravel()\n",
      "/var/folders/wt/6hl8qhss3jz9zrdh6n8f3_qh0000gn/T/ipykernel_31294/2811152063.py:13: FutureWarning: Setting an item of incompatible dtype is deprecated and will raise in a future error of pandas. Value '[-1.09947748 -1.09947748  0.76159863 ...  0.76159863  0.76159863\n",
      "  0.76159863]' has dtype incompatible with int64, please explicitly cast to a compatible dtype first.\n",
      "  df_scaled.loc[:, c] = temporal_scaler[c].transform(df_scaled[[c]]).ravel()\n",
      "/var/folders/wt/6hl8qhss3jz9zrdh6n8f3_qh0000gn/T/ipykernel_31294/2811152063.py:13: FutureWarning: Setting an item of incompatible dtype is deprecated and will raise in a future error of pandas. Value '[-1.09008235 -1.09008235  0.70324844 ...  0.70324844  0.70324844\n",
      "  0.70324844]' has dtype incompatible with int64, please explicitly cast to a compatible dtype first.\n",
      "  df_scaled.loc[:, c] = temporal_scaler[c].transform(df_scaled[[c]]).ravel()\n",
      "/var/folders/wt/6hl8qhss3jz9zrdh6n8f3_qh0000gn/T/ipykernel_31294/2811152063.py:13: FutureWarning: Setting an item of incompatible dtype is deprecated and will raise in a future error of pandas. Value '[1.34416301 2.66867237 1.67529035 ... 0.01965364 0.51634465 0.01965364]' has dtype incompatible with int64, please explicitly cast to a compatible dtype first.\n",
      "  df_scaled.loc[:, c] = temporal_scaler[c].transform(df_scaled[[c]]).ravel()\n",
      "/var/folders/wt/6hl8qhss3jz9zrdh6n8f3_qh0000gn/T/ipykernel_31294/2811152063.py:13: FutureWarning: Setting an item of incompatible dtype is deprecated and will raise in a future error of pandas. Value '[-0.94792812  1.0191977   1.0191977  ...  1.0191977   1.0191977\n",
      " -1.17935469]' has dtype incompatible with int64, please explicitly cast to a compatible dtype first.\n",
      "  df_scaled.loc[:, c] = temporal_scaler[c].transform(df_scaled[[c]]).ravel()\n",
      "/var/folders/wt/6hl8qhss3jz9zrdh6n8f3_qh0000gn/T/ipykernel_31294/2811152063.py:13: FutureWarning: Setting an item of incompatible dtype is deprecated and will raise in a future error of pandas. Value '[-0.67144968  2.01799738  2.01799738 ...  2.01799738  2.01799738\n",
      " -0.53697733]' has dtype incompatible with int64, please explicitly cast to a compatible dtype first.\n",
      "  df_scaled.loc[:, c] = temporal_scaler[c].transform(df_scaled[[c]]).ravel()\n",
      "/var/folders/wt/6hl8qhss3jz9zrdh6n8f3_qh0000gn/T/ipykernel_31294/2811152063.py:13: FutureWarning: Setting an item of incompatible dtype is deprecated and will raise in a future error of pandas. Value '[-0.52800503  2.25151917  2.25151917 ... -0.52800503 -0.52800503\n",
      " -0.52800503]' has dtype incompatible with int64, please explicitly cast to a compatible dtype first.\n",
      "  df_scaled.loc[:, c] = temporal_scaler[c].transform(df_scaled[[c]]).ravel()\n",
      "/var/folders/wt/6hl8qhss3jz9zrdh6n8f3_qh0000gn/T/ipykernel_31294/2811152063.py:13: FutureWarning: Setting an item of incompatible dtype is deprecated and will raise in a future error of pandas. Value '[-0.60758068  1.44346148  1.44346148 ... -0.83547425 -0.83547425\n",
      " -0.83547425]' has dtype incompatible with int64, please explicitly cast to a compatible dtype first.\n",
      "  df_scaled.loc[:, c] = temporal_scaler[c].transform(df_scaled[[c]]).ravel()\n",
      "/var/folders/wt/6hl8qhss3jz9zrdh6n8f3_qh0000gn/T/ipykernel_31294/2811152063.py:13: FutureWarning: Setting an item of incompatible dtype is deprecated and will raise in a future error of pandas. Value '[-0.36874861 -0.33184107 -0.33184107 ... -0.19343778 -0.19343778\n",
      " -0.19343778]' has dtype incompatible with int64, please explicitly cast to a compatible dtype first.\n",
      "  df_scaled.loc[:, c] = temporal_scaler[c].transform(df_scaled[[c]]).ravel()\n",
      "/var/folders/wt/6hl8qhss3jz9zrdh6n8f3_qh0000gn/T/ipykernel_31294/2811152063.py:13: FutureWarning: Setting an item of incompatible dtype is deprecated and will raise in a future error of pandas. Value '[ 0.76159863 -1.09947748  0.76159863 ...  0.76159863  0.76159863\n",
      "  0.76159863]' has dtype incompatible with int64, please explicitly cast to a compatible dtype first.\n",
      "  df_scaled.loc[:, c] = temporal_scaler[c].transform(df_scaled[[c]]).ravel()\n",
      "/var/folders/wt/6hl8qhss3jz9zrdh6n8f3_qh0000gn/T/ipykernel_31294/2811152063.py:13: FutureWarning: Setting an item of incompatible dtype is deprecated and will raise in a future error of pandas. Value '[ 0.70324844 -1.09008235  1.59991384 ...  0.70324844  0.70324844\n",
      "  0.70324844]' has dtype incompatible with int64, please explicitly cast to a compatible dtype first.\n",
      "  df_scaled.loc[:, c] = temporal_scaler[c].transform(df_scaled[[c]]).ravel()\n",
      "/var/folders/wt/6hl8qhss3jz9zrdh6n8f3_qh0000gn/T/ipykernel_31294/2811152063.py:13: FutureWarning: Setting an item of incompatible dtype is deprecated and will raise in a future error of pandas. Value '[-0.3114737   0.59912649  1.01303567 ... -1.05651022 -3.29161978\n",
      " -2.21545591]' has dtype incompatible with int64, please explicitly cast to a compatible dtype first.\n",
      "  df_scaled.loc[:, c] = temporal_scaler[c].transform(df_scaled[[c]]).ravel()\n",
      "/var/folders/wt/6hl8qhss3jz9zrdh6n8f3_qh0000gn/T/ipykernel_31294/2811152063.py:13: FutureWarning: Setting an item of incompatible dtype is deprecated and will raise in a future error of pandas. Value '[-1.29506797 -1.29506797 -1.29506797 ... -0.41564701 -1.0636414\n",
      " -1.0636414 ]' has dtype incompatible with int64, please explicitly cast to a compatible dtype first.\n",
      "  df_scaled.loc[:, c] = temporal_scaler[c].transform(df_scaled[[c]]).ravel()\n",
      "/var/folders/wt/6hl8qhss3jz9zrdh6n8f3_qh0000gn/T/ipykernel_31294/2811152063.py:13: FutureWarning: Setting an item of incompatible dtype is deprecated and will raise in a future error of pandas. Value '[-0.67144968 -0.67144968 -0.67144968 ... -0.67144968 -0.67144968\n",
      " -0.67144968]' has dtype incompatible with int64, please explicitly cast to a compatible dtype first.\n",
      "  df_scaled.loc[:, c] = temporal_scaler[c].transform(df_scaled[[c]]).ravel()\n",
      "/var/folders/wt/6hl8qhss3jz9zrdh6n8f3_qh0000gn/T/ipykernel_31294/2811152063.py:13: FutureWarning: Setting an item of incompatible dtype is deprecated and will raise in a future error of pandas. Value '[-0.52800503 -0.52800503 -0.52800503 ... -0.52800503 -0.52800503\n",
      " -0.52800503]' has dtype incompatible with int64, please explicitly cast to a compatible dtype first.\n",
      "  df_scaled.loc[:, c] = temporal_scaler[c].transform(df_scaled[[c]]).ravel()\n",
      "/var/folders/wt/6hl8qhss3jz9zrdh6n8f3_qh0000gn/T/ipykernel_31294/2811152063.py:13: FutureWarning: Setting an item of incompatible dtype is deprecated and will raise in a future error of pandas. Value '[-0.83547425 -0.83547425 -0.83547425 ... -0.03784675 -0.63037004\n",
      " -0.60758068]' has dtype incompatible with int64, please explicitly cast to a compatible dtype first.\n",
      "  df_scaled.loc[:, c] = temporal_scaler[c].transform(df_scaled[[c]]).ravel()\n",
      "/var/folders/wt/6hl8qhss3jz9zrdh6n8f3_qh0000gn/T/ipykernel_31294/2811152063.py:13: FutureWarning: Setting an item of incompatible dtype is deprecated and will raise in a future error of pandas. Value '[-0.36874861 -0.36874861 -0.36874861 ... -0.19343778 -0.19343778\n",
      " -0.19343778]' has dtype incompatible with int64, please explicitly cast to a compatible dtype first.\n",
      "  df_scaled.loc[:, c] = temporal_scaler[c].transform(df_scaled[[c]]).ravel()\n",
      "/var/folders/wt/6hl8qhss3jz9zrdh6n8f3_qh0000gn/T/ipykernel_31294/2811152063.py:13: FutureWarning: Setting an item of incompatible dtype is deprecated and will raise in a future error of pandas. Value '[-1.09947748 -1.09947748  0.76159863 ...  0.76159863  0.76159863\n",
      "  0.76159863]' has dtype incompatible with int64, please explicitly cast to a compatible dtype first.\n",
      "  df_scaled.loc[:, c] = temporal_scaler[c].transform(df_scaled[[c]]).ravel()\n",
      "/var/folders/wt/6hl8qhss3jz9zrdh6n8f3_qh0000gn/T/ipykernel_31294/2811152063.py:13: FutureWarning: Setting an item of incompatible dtype is deprecated and will raise in a future error of pandas. Value '[-1.09008235 -1.09008235  0.70324844 ...  0.70324844  0.70324844\n",
      "  0.70324844]' has dtype incompatible with int64, please explicitly cast to a compatible dtype first.\n",
      "  df_scaled.loc[:, c] = temporal_scaler[c].transform(df_scaled[[c]]).ravel()\n",
      "/var/folders/wt/6hl8qhss3jz9zrdh6n8f3_qh0000gn/T/ipykernel_31294/2811152063.py:13: FutureWarning: Setting an item of incompatible dtype is deprecated and will raise in a future error of pandas. Value '[ 0.76469016  0.01965364 -1.05651022 ...  0.01965364  0.01965364\n",
      " -0.97372838]' has dtype incompatible with int64, please explicitly cast to a compatible dtype first.\n",
      "  df_scaled.loc[:, c] = temporal_scaler[c].transform(df_scaled[[c]]).ravel()\n",
      "/var/folders/wt/6hl8qhss3jz9zrdh6n8f3_qh0000gn/T/ipykernel_31294/2811152063.py:13: FutureWarning: Setting an item of incompatible dtype is deprecated and will raise in a future error of pandas. Value '[-1.29506797 -1.29506797  0.62577254 ...  1.0191977   1.0191977\n",
      "  1.0191977 ]' has dtype incompatible with int64, please explicitly cast to a compatible dtype first.\n",
      "  df_scaled.loc[:, c] = temporal_scaler[c].transform(df_scaled[[c]]).ravel()\n",
      "/var/folders/wt/6hl8qhss3jz9zrdh6n8f3_qh0000gn/T/ipykernel_31294/2811152063.py:13: FutureWarning: Setting an item of incompatible dtype is deprecated and will raise in a future error of pandas. Value '[-0.67144968 -0.67144968 -0.67144968 ... -0.67144968 -0.67144968\n",
      " -0.67144968]' has dtype incompatible with int64, please explicitly cast to a compatible dtype first.\n",
      "  df_scaled.loc[:, c] = temporal_scaler[c].transform(df_scaled[[c]]).ravel()\n",
      "/var/folders/wt/6hl8qhss3jz9zrdh6n8f3_qh0000gn/T/ipykernel_31294/2811152063.py:13: FutureWarning: Setting an item of incompatible dtype is deprecated and will raise in a future error of pandas. Value '[-0.52800503 -0.52800503 -0.52800503 ... -0.52800503 -0.52800503\n",
      " -0.52800503]' has dtype incompatible with int64, please explicitly cast to a compatible dtype first.\n",
      "  df_scaled.loc[:, c] = temporal_scaler[c].transform(df_scaled[[c]]).ravel()\n",
      "/var/folders/wt/6hl8qhss3jz9zrdh6n8f3_qh0000gn/T/ipykernel_31294/2811152063.py:13: FutureWarning: Setting an item of incompatible dtype is deprecated and will raise in a future error of pandas. Value '[-0.83547425 -0.83547425  1.03325305 ...  1.44346148  1.44346148\n",
      "  1.44346148]' has dtype incompatible with int64, please explicitly cast to a compatible dtype first.\n",
      "  df_scaled.loc[:, c] = temporal_scaler[c].transform(df_scaled[[c]]).ravel()\n"
     ]
    }
   ],
   "source": [
    "from sklearn.preprocessing import StandardScaler\n",
    "\n",
    "# create scaler \n",
    "spatial_scaler   = {c: StandardScaler().fit(df_train[[c]]) for c in spatial_cols_to_scale}\n",
    "temporal_scaler  = {c: StandardScaler().fit(df_train[[c]]) for c in temporal_cols_to_scale}\n",
    "\n",
    "def scale_dataframe(df):\n",
    "    df_scaled = df.copy()\n",
    "    \n",
    "    for c in spatial_cols_to_scale:\n",
    "        df_scaled.loc[:, c] = spatial_scaler[c].transform(df_scaled[[c]]).ravel()\n",
    "    for c in temporal_cols_to_scale:\n",
    "        df_scaled.loc[:, c] = temporal_scaler[c].transform(df_scaled[[c]]).ravel()\n",
    "    return df_scaled\n",
    "\n",
    "# ------------- generate batches -------------\n",
    "df_train_scaled = scale_dataframe(df_train)\n",
    "df_val_scaled   = scale_dataframe(df_val)\n",
    "df_test_scaled  = scale_dataframe(df_test)\n",
    "\n",
    "train_batches = prepare_full_timeslice_batches(df_train_scaled,\n",
    "                                               spatial_df,\n",
    "                                               temporal_cols)\n",
    "\n",
    "val_batches   = prepare_full_timeslice_batches(df_val_scaled,\n",
    "                                               spatial_df,\n",
    "                                               temporal_cols)\n",
    "test_time_key =[]\n",
    "test_batches  = prepare_full_timeslice_batches(df_test_scaled,\n",
    "                                               spatial_df,\n",
    "                                               temporal_cols)"
   ]
  },
  {
   "cell_type": "code",
   "execution_count": 23,
   "metadata": {},
   "outputs": [],
   "source": [
    "node_order = spatial_df['ParkingSegmentID'].tolist()"
   ]
  },
  {
   "cell_type": "code",
   "execution_count": 24,
   "metadata": {},
   "outputs": [],
   "source": [
    "df_test_out = df_test.loc[(df_test['datetime_2'].isin(test_time_key)) & (df_test['ParkingSegmentID'].isin(node_order))].drop(columns=['datetime_2','day_val'])"
   ]
  },
  {
   "cell_type": "code",
   "execution_count": 25,
   "metadata": {},
   "outputs": [],
   "source": [
    "df_test_out['avg_available_spots'] = df_test_out['available_percent']\n",
    "df_test_out.drop(columns=['half_hour_interval','hour','available_percent'],inplace=True)\n",
    "df_test_out.to_csv('df_test_out.csv',index=False)\n"
   ]
  },
  {
   "cell_type": "code",
   "execution_count": null,
   "metadata": {
    "trusted": true
   },
   "outputs": [],
   "source": [
    "from sklearn.neighbors import NearestNeighbors\n",
    "import numpy as np\n",
    "\n",
    "def build_spatial_graph(spatial_df, k=8):\n",
    "    coords = spatial_df[['lat', 'lon']].values\n",
    "    N = len(coords)\n",
    "    \n",
    "    nn_model = NearestNeighbors(n_neighbors=min(k+1, N))\n",
    "    nn_model.fit(coords)\n",
    "    distances, indices = nn_model.kneighbors(coords)\n",
    "    \n",
    "    # create edges and weights\n",
    "    edge_dict = dict()\n",
    "    for i in range(N):\n",
    "        for j in range(1, min(k+1, N)):\n",
    "            neighbor_idx = indices[i, j]\n",
    "            if i != neighbor_idx:\n",
    "                edge = tuple(sorted((i, neighbor_idx)))\n",
    "                # use a Gaussian kernel for the weights\n",
    "                distance = distances[i, j]\n",
    "                weight = 1/distance\n",
    "                # if the edge already exists, take the average of the weights\n",
    "                if edge in edge_dict:\n",
    "                    edge_dict[edge] = (edge_dict[edge] + weight) / 2\n",
    "                else:\n",
    "                    edge_dict[edge] = weight\n",
    "\n",
    "    src, dst = zip(*edge_dict.keys())\n",
    "    edge_index = torch.tensor([src, dst], dtype=torch.long)\n",
    "    edge_weight = torch.tensor(list(edge_dict.values()), dtype=torch.float)\n",
    "    \n",
    "    return edge_index, edge_weight\n",
    "\n",
    "edge_index, edge_weight = build_spatial_graph(spatial_df, k=8)"
   ]
  },
  {
   "cell_type": "code",
   "execution_count": null,
   "metadata": {
    "trusted": true
   },
   "outputs": [],
   "source": [
    "class SpatioTemporalGNN(torch.nn.Module):\n",
    "    def __init__(self, spatial_features, temporal_features, hidden_dim=64, dropout=0.0, activation=torch.nn.ReLU()):\n",
    "        super().__init__()\n",
    "        \n",
    "        # spatial features encoder\n",
    "        self.spatial_encoder = torch.nn.Sequential(\n",
    "            torch.nn.Linear(spatial_features, hidden_dim),\n",
    "            activation,\n",
    "            torch.nn.Dropout(dropout),\n",
    "            torch.nn.Linear(hidden_dim, hidden_dim)\n",
    "        )\n",
    "        \n",
    "        # temporal features encoder \n",
    "        self.temporal_encoder = torch.nn.Sequential(\n",
    "            torch.nn.Linear(temporal_features, hidden_dim),\n",
    "            activation,\n",
    "            torch.nn.Dropout(dropout),\n",
    "            torch.nn.Linear(hidden_dim, hidden_dim)\n",
    "        )\n",
    "        \n",
    "        # GNN layers\n",
    "        self.conv1 = GCNConv(hidden_dim, hidden_dim)\n",
    "        self.conv2 = GCNConv(hidden_dim, hidden_dim)\n",
    "        \n",
    "        # prediction layer\n",
    "        self.predictor = torch.nn.Sequential(\n",
    "            torch.nn.Linear(hidden_dim, hidden_dim // 2),\n",
    "            activation,\n",
    "            torch.nn.Dropout(dropout),\n",
    "            torch.nn.Linear(hidden_dim // 2, 1)\n",
    "        )\n",
    "        self.gate_layer = torch.nn.Sequential(\n",
    "            torch.nn.Linear(hidden_dim * 2, hidden_dim),\n",
    "            torch.nn.Sigmoid()\n",
    "        )\n",
    "            \n",
    "    def forward(self, spatial_x, temporal_x, edge_index, edge_weight):\n",
    "        # encode spatial features\n",
    "        spatial_emb = self.spatial_encoder(spatial_x)\n",
    "        \n",
    "        # encode temporal features\n",
    "        temporal_emb = self.temporal_encoder(temporal_x)\n",
    "        # merge features\n",
    "        concat_feat = torch.cat([spatial_emb, temporal_emb], dim=1)\n",
    "        gate = self.gate_layer(concat_feat)  # [N, hidden_dim]\n",
    "        x = gate * spatial_emb + (1 - gate) * temporal_emb \n",
    "                # GNN process\n",
    "        x1 = F.relu(self.conv1(x, edge_index, edge_weight))\n",
    "        x2 = F.relu(self.conv2(x1, edge_index, edge_weight)) + x1\n",
    "        \n",
    "        # predict\n",
    "        return self.predictor(x)\n",
    "def run_epoch(batches, model, spatial_x,\n",
    "              edge_index, edge_attr,\n",
    "              optimizer=None,\n",
    "              batch_size=8,\n",
    "              collect_pred=False):\n",
    "\n",
    "    train_mode = optimizer is not None\n",
    "    model.train() if train_mode else model.eval()\n",
    "\n",
    "    total_loss, total_count = 0.0, 0\n",
    "    y_true_all, y_pred_all = [], []\n",
    "\n",
    "    for i in range(0, len(batches), batch_size):\n",
    "        slice_batch = batches[i : i + batch_size]\n",
    "\n",
    "        temporal_stack = torch.stack([\n",
    "            torch.from_numpy(b['temporal_features'])\n",
    "            for b in slice_batch\n",
    "        ]).to(spatial_x.device, dtype=spatial_x.dtype)\n",
    "\n",
    "        target_stack = torch.stack([\n",
    "            torch.from_numpy(b['target']).unsqueeze(1)\n",
    "            for b in slice_batch\n",
    "        ]).to(spatial_x.device, dtype=torch.float32)\n",
    "\n",
    "        batch_loss = 0.0\n",
    "        batch_count = 0\n",
    "        preds = []\n",
    "        for t_feat, tgt in zip(temporal_stack, target_stack):\n",
    "            out = model(spatial_x, t_feat, edge_index, edge_attr)\n",
    "            per_node_loss = F.mse_loss(out, tgt, reduction='sum')\n",
    "            batch_loss += per_node_loss\n",
    "            batch_count += out.numel()\n",
    "            preds.append(out)\n",
    "\n",
    "        if train_mode:\n",
    "            optimizer.zero_grad()\n",
    "            (batch_loss / batch_count).backward()  # use a tensor to perform backward\n",
    "            torch.nn.utils.clip_grad_norm_(model.parameters(), 1.0)\n",
    "            optimizer.step()\n",
    "\n",
    "        if collect_pred:\n",
    "            y_true_all.append(target_stack.detach().cpu())\n",
    "            y_pred_all.append(torch.stack(preds).detach().cpu())\n",
    "        total_loss += batch_loss.item()\n",
    "        total_count += batch_count\n",
    "\n",
    "    mean_loss = total_loss / total_count\n",
    "\n",
    "    if collect_pred:\n",
    "        y_true_all = torch.cat(y_true_all).numpy().flatten()\n",
    "        y_pred_all = torch.cat(y_pred_all).numpy().flatten()\n",
    "        return mean_loss, y_true_all, y_pred_all\n",
    "    else:\n",
    "        return mean_loss, None, None"
   ]
  },
  {
   "cell_type": "code",
   "execution_count": 28,
   "metadata": {
    "trusted": true
   },
   "outputs": [],
   "source": [
    "model = SpatioTemporalGNN(\n",
    "        spatial_features=len(spatial_cols),\n",
    "        temporal_features=len(temporal_cols),\n",
    "        hidden_dim=64,\n",
    "        dropout=0,\n",
    "        activation=torch.nn.ReLU()\n",
    "    )\n",
    "device = torch.device('cpu')"
   ]
  },
  {
   "cell_type": "code",
   "execution_count": 29,
   "metadata": {
    "trusted": true
   },
   "outputs": [
    {
     "data": {
      "text/html": [
       "<div>\n",
       "<style scoped>\n",
       "    .dataframe tbody tr th:only-of-type {\n",
       "        vertical-align: middle;\n",
       "    }\n",
       "\n",
       "    .dataframe tbody tr th {\n",
       "        vertical-align: top;\n",
       "    }\n",
       "\n",
       "    .dataframe thead th {\n",
       "        text-align: right;\n",
       "    }\n",
       "</style>\n",
       "<table border=\"1\" class=\"dataframe\">\n",
       "  <thead>\n",
       "    <tr style=\"text-align: right;\">\n",
       "      <th></th>\n",
       "      <th>ParkingSegmentID</th>\n",
       "      <th>lat</th>\n",
       "      <th>lon</th>\n",
       "      <th>district</th>\n",
       "    </tr>\n",
       "  </thead>\n",
       "  <tbody>\n",
       "    <tr>\n",
       "      <th>0</th>\n",
       "      <td>1001</td>\n",
       "      <td>22.99728</td>\n",
       "      <td>120.17506</td>\n",
       "      <td>1</td>\n",
       "    </tr>\n",
       "    <tr>\n",
       "      <th>1</th>\n",
       "      <td>1002</td>\n",
       "      <td>22.99443</td>\n",
       "      <td>120.18191</td>\n",
       "      <td>1</td>\n",
       "    </tr>\n",
       "    <tr>\n",
       "      <th>2</th>\n",
       "      <td>101</td>\n",
       "      <td>22.98781</td>\n",
       "      <td>120.20494</td>\n",
       "      <td>0</td>\n",
       "    </tr>\n",
       "    <tr>\n",
       "      <th>3</th>\n",
       "      <td>1011</td>\n",
       "      <td>22.99679</td>\n",
       "      <td>120.17929</td>\n",
       "      <td>1</td>\n",
       "    </tr>\n",
       "    <tr>\n",
       "      <th>4</th>\n",
       "      <td>1071</td>\n",
       "      <td>22.98840</td>\n",
       "      <td>120.19851</td>\n",
       "      <td>0</td>\n",
       "    </tr>\n",
       "    <tr>\n",
       "      <th>...</th>\n",
       "      <td>...</td>\n",
       "      <td>...</td>\n",
       "      <td>...</td>\n",
       "      <td>...</td>\n",
       "    </tr>\n",
       "    <tr>\n",
       "      <th>142</th>\n",
       "      <td>911</td>\n",
       "      <td>22.99547</td>\n",
       "      <td>120.18517</td>\n",
       "      <td>1</td>\n",
       "    </tr>\n",
       "    <tr>\n",
       "      <th>143</th>\n",
       "      <td>92</td>\n",
       "      <td>22.98643</td>\n",
       "      <td>120.20818</td>\n",
       "      <td>0</td>\n",
       "    </tr>\n",
       "    <tr>\n",
       "      <th>144</th>\n",
       "      <td>981</td>\n",
       "      <td>22.99706</td>\n",
       "      <td>120.17182</td>\n",
       "      <td>1</td>\n",
       "    </tr>\n",
       "    <tr>\n",
       "      <th>145</th>\n",
       "      <td>982</td>\n",
       "      <td>22.98248</td>\n",
       "      <td>120.16979</td>\n",
       "      <td>1</td>\n",
       "    </tr>\n",
       "    <tr>\n",
       "      <th>146</th>\n",
       "      <td>991</td>\n",
       "      <td>22.99511</td>\n",
       "      <td>120.16939</td>\n",
       "      <td>1</td>\n",
       "    </tr>\n",
       "  </tbody>\n",
       "</table>\n",
       "<p>147 rows × 4 columns</p>\n",
       "</div>"
      ],
      "text/plain": [
       "    ParkingSegmentID       lat        lon  district\n",
       "0               1001  22.99728  120.17506         1\n",
       "1               1002  22.99443  120.18191         1\n",
       "2                101  22.98781  120.20494         0\n",
       "3               1011  22.99679  120.17929         1\n",
       "4               1071  22.98840  120.19851         0\n",
       "..               ...       ...        ...       ...\n",
       "142              911  22.99547  120.18517         1\n",
       "143               92  22.98643  120.20818         0\n",
       "144              981  22.99706  120.17182         1\n",
       "145              982  22.98248  120.16979         1\n",
       "146              991  22.99511  120.16939         1\n",
       "\n",
       "[147 rows x 4 columns]"
      ]
     },
     "execution_count": 29,
     "metadata": {},
     "output_type": "execute_result"
    }
   ],
   "source": [
    "spatial_df"
   ]
  },
  {
   "cell_type": "code",
   "execution_count": 30,
   "metadata": {
    "trusted": true
   },
   "outputs": [],
   "source": [
    "from tqdm import tqdm\n",
    "# static tensors\n",
    "spatial_x  = torch.from_numpy(spatial_df[spatial_cols].to_numpy(dtype=np.float64)).to(device).float()\n",
    "edge_index, edge_weight = build_spatial_graph(spatial_df, k=8)\n",
    "edge_index  = edge_index.to(device)\n",
    "edge_weight = edge_weight.to(device)"
   ]
  },
  {
   "cell_type": "code",
   "execution_count": null,
   "metadata": {
    "trusted": true
   },
   "outputs": [],
   "source": [
    "\n",
    "# optimizer\n",
    "optimizer = torch.optim.Adam(model.parameters(), lr=3e-4)\n",
    "\n",
    "best_val, patience, wait = float('inf'), 10, 0   # stop if there is no improvement for 10 consecutive trials\n",
    "for epoch in tqdm(range(200)):\n",
    "    train_loss, _, _ = run_epoch(\n",
    "        train_batches, model, spatial_x,\n",
    "        edge_index, edge_weight,\n",
    "        optimizer=optimizer, batch_size=64)\n",
    "\n",
    "    val_loss, yv, pv = run_epoch(\n",
    "        val_batches,   model, spatial_x,\n",
    "        edge_index, edge_weight,\n",
    "        optimizer=None, batch_size=64, collect_pred=True)\n",
    "    r2 = 1 - np.sum((yv - pv)**2) / np.sum((yv - yv.mean())**2)\n",
    "    print(f\"Epoch {epoch:02d} | train {train_loss:.4f} | val {val_loss:.4f} | R² {r2:5.3f}\")\n",
    "\n",
    "    # ---- Early stopping ----\n",
    "    if val_loss < best_val - 1e-4:\n",
    "        best_val, wait = val_loss, 0\n",
    "        torch.save(model.state_dict(), \"best_gnn.pt\")\n",
    "    else:\n",
    "        wait += 1\n",
    "        if wait >= patience:\n",
    "            print(\"Early stopping triggered!\")\n",
    "            break"
   ]
  },
  {
   "cell_type": "code",
   "execution_count": null,
   "metadata": {
    "trusted": true
   },
   "outputs": [
    {
     "name": "stderr",
     "output_type": "stream",
     "text": [
      "/Users/yhk/miniforge3/envs/gnn_env/lib/python3.12/site-packages/tqdm/auto.py:21: TqdmWarning: IProgress not found. Please update jupyter and ipywidgets. See https://ipywidgets.readthedocs.io/en/stable/user_install.html\n",
      "  from .autonotebook import tqdm as notebook_tqdm\n",
      "[I 2025-06-01 16:49:15,901] A new study created in memory with name: no-name-b70cb2f5-9799-416e-927f-36b6021bc29e\n"
     ]
    },
    {
     "name": "stdout",
     "output_type": "stream",
     "text": [
      "使用裝置: cpu\n",
      "Trial 0 params: 256, 0.08595327315850637, 0.0005109255501546627, 8, 10\n",
      "Trial 0 Epoch 0 start\n",
      "Trial 0 Epoch 0 end\n",
      "Trial 0 Epoch 1 start\n",
      "Trial 0 Epoch 1 end\n",
      "Trial 0 Epoch 2 start\n",
      "Trial 0 Epoch 2 end\n",
      "Trial 0 Epoch 3 start\n",
      "Trial 0 Epoch 3 end\n",
      "Trial 0 Epoch 4 start\n",
      "Trial 0 Epoch 4 end\n",
      "Trial 0 Epoch 5 start\n",
      "Trial 0 Epoch 5 end\n",
      "Trial 0 Epoch 6 start\n",
      "Trial 0 Epoch 6 end\n",
      "Trial 0 Epoch 7 start\n",
      "Trial 0 Epoch 7 end\n",
      "Trial 0 Epoch 8 start\n",
      "Trial 0 Epoch 8 end\n",
      "Trial 0 Epoch 9 start\n",
      "Trial 0 Epoch 9 end\n"
     ]
    },
    {
     "name": "stderr",
     "output_type": "stream",
     "text": [
      "[I 2025-06-01 16:55:12,338] Trial 0 finished with value: 563.2147598229304 and parameters: {'hidden_dim': 256, 'dropout': 0.08595327315850637, 'learning_rate': 0.0005109255501546627, 'batch_size': 8, 'k': 10}. Best is trial 0 with value: 563.2147598229304.\n"
     ]
    },
    {
     "name": "stdout",
     "output_type": "stream",
     "text": [
      "Trial 1 params: 64, 0.39876814172078895, 0.0051744149967569725, 512, 4\n",
      "Trial 1 Epoch 0 start\n",
      "Trial 1 Epoch 0 end\n",
      "Trial 1 Epoch 1 start\n",
      "Trial 1 Epoch 1 end\n",
      "Trial 1 Epoch 2 start\n",
      "Trial 1 Epoch 2 end\n",
      "Trial 1 Epoch 3 start\n",
      "Trial 1 Epoch 3 end\n",
      "Trial 1 Epoch 4 start\n",
      "Trial 1 Epoch 4 end\n",
      "Trial 1 Epoch 5 start\n",
      "Trial 1 Epoch 5 end\n",
      "Trial 1 Epoch 6 start\n",
      "Trial 1 Epoch 6 end\n",
      "Trial 1 Epoch 7 start\n",
      "Trial 1 Epoch 7 end\n",
      "Trial 1 Epoch 8 start\n",
      "Trial 1 Epoch 8 end\n",
      "Trial 1 Epoch 9 start\n",
      "Trial 1 Epoch 9 end\n"
     ]
    },
    {
     "name": "stderr",
     "output_type": "stream",
     "text": [
      "[I 2025-06-01 16:58:04,781] Trial 1 finished with value: 3167.9282109920705 and parameters: {'hidden_dim': 64, 'dropout': 0.39876814172078895, 'learning_rate': 0.0051744149967569725, 'batch_size': 512, 'k': 4}. Best is trial 0 with value: 563.2147598229304.\n"
     ]
    },
    {
     "name": "stdout",
     "output_type": "stream",
     "text": [
      "Trial 2 params: 128, 0.0902275078150876, 0.0002851550370705002, 64, 12\n",
      "Trial 2 Epoch 0 start\n",
      "Trial 2 Epoch 0 end\n",
      "Trial 2 Epoch 1 start\n",
      "Trial 2 Epoch 1 end\n",
      "Trial 2 Epoch 2 start\n",
      "Trial 2 Epoch 2 end\n",
      "Trial 2 Epoch 3 start\n",
      "Trial 2 Epoch 3 end\n",
      "Trial 2 Epoch 4 start\n",
      "Trial 2 Epoch 4 end\n",
      "Trial 2 Epoch 5 start\n",
      "Trial 2 Epoch 5 end\n",
      "Trial 2 Epoch 6 start\n",
      "Trial 2 Epoch 6 end\n",
      "Trial 2 Epoch 7 start\n",
      "Trial 2 Epoch 7 end\n",
      "Trial 2 Epoch 8 start\n",
      "Trial 2 Epoch 8 end\n",
      "Trial 2 Epoch 9 start\n",
      "Trial 2 Epoch 9 end\n"
     ]
    },
    {
     "name": "stderr",
     "output_type": "stream",
     "text": [
      "[I 2025-06-01 17:02:10,742] Trial 2 finished with value: 1091.9785229560764 and parameters: {'hidden_dim': 128, 'dropout': 0.0902275078150876, 'learning_rate': 0.0002851550370705002, 'batch_size': 64, 'k': 12}. Best is trial 0 with value: 563.2147598229304.\n"
     ]
    },
    {
     "name": "stdout",
     "output_type": "stream",
     "text": [
      "Trial 3 params: 128, 0.2985204854042352, 0.00013690553438753915, 64, 6\n",
      "Trial 3 Epoch 0 start\n",
      "Trial 3 Epoch 0 end\n",
      "Trial 3 Epoch 1 start\n",
      "Trial 3 Epoch 1 end\n",
      "Trial 3 Epoch 2 start\n",
      "Trial 3 Epoch 2 end\n",
      "Trial 3 Epoch 3 start\n",
      "Trial 3 Epoch 3 end\n",
      "Trial 3 Epoch 4 start\n",
      "Trial 3 Epoch 4 end\n",
      "Trial 3 Epoch 5 start\n",
      "Trial 3 Epoch 5 end\n",
      "Trial 3 Epoch 6 start\n",
      "Trial 3 Epoch 6 end\n",
      "Trial 3 Epoch 7 start\n",
      "Trial 3 Epoch 7 end\n",
      "Trial 3 Epoch 8 start\n",
      "Trial 3 Epoch 8 end\n",
      "Trial 3 Epoch 9 start\n",
      "Trial 3 Epoch 9 end\n"
     ]
    },
    {
     "name": "stderr",
     "output_type": "stream",
     "text": [
      "[I 2025-06-01 17:05:51,118] Trial 3 finished with value: 4024.8260210296057 and parameters: {'hidden_dim': 128, 'dropout': 0.2985204854042352, 'learning_rate': 0.00013690553438753915, 'batch_size': 64, 'k': 6}. Best is trial 0 with value: 563.2147598229304.\n"
     ]
    },
    {
     "name": "stdout",
     "output_type": "stream",
     "text": [
      "Trial 4 params: 128, 0.4714645316169126, 0.000618587322020282, 8, 4\n",
      "Trial 4 Epoch 0 start\n",
      "Trial 4 Epoch 0 end\n",
      "Trial 4 Epoch 1 start\n",
      "Trial 4 Epoch 1 end\n",
      "Trial 4 Epoch 2 start\n",
      "Trial 4 Epoch 2 end\n",
      "Trial 4 Epoch 3 start\n",
      "Trial 4 Epoch 3 end\n",
      "Trial 4 Epoch 4 start\n",
      "Trial 4 Epoch 4 end\n",
      "Trial 4 Epoch 5 start\n",
      "Trial 4 Epoch 5 end\n",
      "Trial 4 Epoch 6 start\n",
      "Trial 4 Epoch 6 end\n",
      "Trial 4 Epoch 7 start\n",
      "Trial 4 Epoch 7 end\n",
      "Trial 4 Epoch 8 start\n",
      "Trial 4 Epoch 8 end\n",
      "Trial 4 Epoch 9 start\n",
      "Trial 4 Epoch 9 end\n"
     ]
    },
    {
     "name": "stderr",
     "output_type": "stream",
     "text": [
      "[I 2025-06-01 17:08:58,021] Trial 4 finished with value: 666.2396405578065 and parameters: {'hidden_dim': 128, 'dropout': 0.4714645316169126, 'learning_rate': 0.000618587322020282, 'batch_size': 8, 'k': 4}. Best is trial 0 with value: 563.2147598229304.\n"
     ]
    },
    {
     "name": "stdout",
     "output_type": "stream",
     "text": [
      "Trial 5 params: 64, 0.2148013227101629, 0.0009217688148710126, 512, 10\n",
      "Trial 5 Epoch 0 start\n",
      "Trial 5 Epoch 0 end\n",
      "Trial 5 Epoch 1 start\n",
      "Trial 5 Epoch 1 end\n",
      "Trial 5 Epoch 2 start\n",
      "Trial 5 Epoch 2 end\n",
      "Trial 5 Epoch 3 start\n",
      "Trial 5 Epoch 3 end\n",
      "Trial 5 Epoch 4 start\n",
      "Trial 5 Epoch 4 end\n",
      "Trial 5 Epoch 5 start\n",
      "Trial 5 Epoch 5 end\n",
      "Trial 5 Epoch 6 start\n",
      "Trial 5 Epoch 6 end\n",
      "Trial 5 Epoch 7 start\n",
      "Trial 5 Epoch 7 end\n",
      "Trial 5 Epoch 8 start\n",
      "Trial 5 Epoch 8 end\n",
      "Trial 5 Epoch 9 start\n",
      "Trial 5 Epoch 9 end\n"
     ]
    },
    {
     "name": "stderr",
     "output_type": "stream",
     "text": [
      "[I 2025-06-01 17:12:54,340] Trial 5 finished with value: 4037.4444306346168 and parameters: {'hidden_dim': 64, 'dropout': 0.2148013227101629, 'learning_rate': 0.0009217688148710126, 'batch_size': 512, 'k': 10}. Best is trial 0 with value: 563.2147598229304.\n"
     ]
    },
    {
     "name": "stdout",
     "output_type": "stream",
     "text": [
      "Trial 6 params: 256, 0.02328121774486852, 0.0005092482395819223, 64, 6\n",
      "Trial 6 Epoch 0 start\n",
      "Trial 6 Epoch 0 end\n",
      "Trial 6 Epoch 1 start\n",
      "Trial 6 Epoch 1 end\n",
      "Trial 6 Epoch 2 start\n",
      "Trial 6 Epoch 2 end\n",
      "Trial 6 Epoch 3 start\n",
      "Trial 6 Epoch 3 end\n",
      "Trial 6 Epoch 4 start\n",
      "Trial 6 Epoch 4 end\n",
      "Trial 6 Epoch 5 start\n",
      "Trial 6 Epoch 5 end\n",
      "Trial 6 Epoch 6 start\n",
      "Trial 6 Epoch 6 end\n",
      "Trial 6 Epoch 7 start\n",
      "Trial 6 Epoch 7 end\n",
      "Trial 6 Epoch 8 start\n",
      "Trial 6 Epoch 8 end\n",
      "Trial 6 Epoch 9 start\n",
      "Trial 6 Epoch 9 end\n"
     ]
    },
    {
     "name": "stderr",
     "output_type": "stream",
     "text": [
      "[I 2025-06-01 17:22:26,739] Trial 6 finished with value: 1847.3408237838375 and parameters: {'hidden_dim': 256, 'dropout': 0.02328121774486852, 'learning_rate': 0.0005092482395819223, 'batch_size': 64, 'k': 6}. Best is trial 0 with value: 563.2147598229304.\n"
     ]
    },
    {
     "name": "stdout",
     "output_type": "stream",
     "text": [
      "Trial 7 params: 256, 0.08133066828389796, 0.0001879617836069938, 64, 10\n",
      "Trial 7 Epoch 0 start\n",
      "Trial 7 Epoch 0 end\n",
      "Trial 7 Epoch 1 start\n",
      "Trial 7 Epoch 1 end\n",
      "Trial 7 Epoch 2 start\n",
      "Trial 7 Epoch 2 end\n",
      "Trial 7 Epoch 3 start\n",
      "Trial 7 Epoch 3 end\n",
      "Trial 7 Epoch 4 start\n",
      "Trial 7 Epoch 4 end\n",
      "Trial 7 Epoch 5 start\n",
      "Trial 7 Epoch 5 end\n",
      "Trial 7 Epoch 6 start\n",
      "Trial 7 Epoch 6 end\n",
      "Trial 7 Epoch 7 start\n",
      "Trial 7 Epoch 7 end\n",
      "Trial 7 Epoch 8 start\n",
      "Trial 7 Epoch 8 end\n",
      "Trial 7 Epoch 9 start\n",
      "Trial 7 Epoch 9 end\n"
     ]
    },
    {
     "name": "stderr",
     "output_type": "stream",
     "text": [
      "[I 2025-06-01 17:32:25,713] Trial 7 finished with value: 3402.002982922767 and parameters: {'hidden_dim': 256, 'dropout': 0.08133066828389796, 'learning_rate': 0.0001879617836069938, 'batch_size': 64, 'k': 10}. Best is trial 0 with value: 563.2147598229304.\n"
     ]
    },
    {
     "name": "stdout",
     "output_type": "stream",
     "text": [
      "Trial 8 params: 128, 0.17793721318659966, 0.0007657042241737289, 8, 12\n",
      "Trial 8 Epoch 0 start\n",
      "Trial 8 Epoch 0 end\n",
      "Trial 8 Epoch 1 start\n",
      "Trial 8 Epoch 1 end\n",
      "Trial 8 Epoch 2 start\n",
      "Trial 8 Epoch 2 end\n",
      "Trial 8 Epoch 3 start\n",
      "Trial 8 Epoch 3 end\n",
      "Trial 8 Epoch 4 start\n",
      "Trial 8 Epoch 4 end\n",
      "Trial 8 Epoch 5 start\n",
      "Trial 8 Epoch 5 end\n",
      "Trial 8 Epoch 6 start\n",
      "Trial 8 Epoch 6 end\n",
      "Trial 8 Epoch 7 start\n",
      "Trial 8 Epoch 7 end\n",
      "Trial 8 Epoch 8 start\n",
      "Trial 8 Epoch 8 end\n",
      "Trial 8 Epoch 9 start\n",
      "Trial 8 Epoch 9 end\n"
     ]
    },
    {
     "name": "stderr",
     "output_type": "stream",
     "text": [
      "[I 2025-06-01 17:36:23,532] Trial 8 finished with value: 797.6169121881396 and parameters: {'hidden_dim': 128, 'dropout': 0.17793721318659966, 'learning_rate': 0.0007657042241737289, 'batch_size': 8, 'k': 12}. Best is trial 0 with value: 563.2147598229304.\n"
     ]
    },
    {
     "name": "stdout",
     "output_type": "stream",
     "text": [
      "Trial 9 params: 128, 0.23537053656377355, 0.0013985051806000577, 1024, 4\n",
      "Trial 9 Epoch 0 start\n",
      "Trial 9 Epoch 0 end\n",
      "Trial 9 Epoch 1 start\n",
      "Trial 9 Epoch 1 end\n",
      "Trial 9 Epoch 2 start\n",
      "Trial 9 Epoch 2 end\n",
      "Trial 9 Epoch 3 start\n",
      "Trial 9 Epoch 3 end\n",
      "Trial 9 Epoch 4 start\n",
      "Trial 9 Epoch 4 end\n",
      "Trial 9 Epoch 5 start\n",
      "Trial 9 Epoch 5 end\n",
      "Trial 9 Epoch 6 start\n",
      "Trial 9 Epoch 6 end\n",
      "Trial 9 Epoch 7 start\n",
      "Trial 9 Epoch 7 end\n",
      "Trial 9 Epoch 8 start\n",
      "Trial 9 Epoch 8 end\n",
      "Trial 9 Epoch 9 start\n",
      "Trial 9 Epoch 9 end\n"
     ]
    },
    {
     "name": "stderr",
     "output_type": "stream",
     "text": [
      "[I 2025-06-01 17:40:41,759] Trial 9 finished with value: 4041.263234648305 and parameters: {'hidden_dim': 128, 'dropout': 0.23537053656377355, 'learning_rate': 0.0013985051806000577, 'batch_size': 1024, 'k': 4}. Best is trial 0 with value: 563.2147598229304.\n"
     ]
    },
    {
     "name": "stdout",
     "output_type": "stream",
     "text": [
      "Trial 10 params: 256, 0.0014267641776617296, 0.002240286510284193, 256, 8\n",
      "Trial 10 Epoch 0 start\n",
      "Trial 10 Epoch 0 end\n",
      "Trial 10 Epoch 1 start\n",
      "Trial 10 Epoch 1 end\n",
      "Trial 10 Epoch 2 start\n",
      "Trial 10 Epoch 2 end\n",
      "Trial 10 Epoch 3 start\n",
      "Trial 10 Epoch 3 end\n",
      "Trial 10 Epoch 4 start\n",
      "Trial 10 Epoch 4 end\n",
      "Trial 10 Epoch 5 start\n",
      "Trial 10 Epoch 5 end\n",
      "Trial 10 Epoch 6 start\n",
      "Trial 10 Epoch 6 end\n",
      "Trial 10 Epoch 7 start\n",
      "Trial 10 Epoch 7 end\n",
      "Trial 10 Epoch 8 start\n",
      "Trial 10 Epoch 8 end\n",
      "Trial 10 Epoch 9 start\n",
      "Trial 10 Epoch 9 end\n"
     ]
    },
    {
     "name": "stderr",
     "output_type": "stream",
     "text": [
      "[I 2025-06-01 17:52:07,260] Trial 10 finished with value: 1579.7173514960186 and parameters: {'hidden_dim': 256, 'dropout': 0.0014267641776617296, 'learning_rate': 0.002240286510284193, 'batch_size': 256, 'k': 8}. Best is trial 0 with value: 563.2147598229304.\n"
     ]
    },
    {
     "name": "stdout",
     "output_type": "stream",
     "text": [
      "Trial 11 params: 256, 0.49761523700244115, 0.0003984174258123232, 8, 8\n",
      "Trial 11 Epoch 0 start\n",
      "Trial 11 Epoch 0 end\n",
      "Trial 11 Epoch 1 start\n",
      "Trial 11 Epoch 1 end\n",
      "Trial 11 Epoch 2 start\n",
      "Trial 11 Epoch 2 end\n",
      "Trial 11 Epoch 3 start\n",
      "Trial 11 Epoch 3 end\n",
      "Trial 11 Epoch 4 start\n",
      "Trial 11 Epoch 4 end\n",
      "Trial 11 Epoch 5 start\n",
      "Trial 11 Epoch 5 end\n",
      "Trial 11 Epoch 6 start\n",
      "Trial 11 Epoch 6 end\n",
      "Trial 11 Epoch 7 start\n",
      "Trial 11 Epoch 7 end\n",
      "Trial 11 Epoch 8 start\n",
      "Trial 11 Epoch 8 end\n",
      "Trial 11 Epoch 9 start\n",
      "Trial 11 Epoch 9 end\n"
     ]
    },
    {
     "name": "stderr",
     "output_type": "stream",
     "text": [
      "[I 2025-06-01 18:02:12,321] Trial 11 finished with value: 750.4398635519981 and parameters: {'hidden_dim': 256, 'dropout': 0.49761523700244115, 'learning_rate': 0.0003984174258123232, 'batch_size': 8, 'k': 8}. Best is trial 0 with value: 563.2147598229304.\n"
     ]
    },
    {
     "name": "stdout",
     "output_type": "stream",
     "text": [
      "Trial 12 params: 256, 0.3469995841903726, 0.0020323082839778443, 8, 10\n",
      "Trial 12 Epoch 0 start\n",
      "Trial 12 Epoch 0 end\n",
      "Trial 12 Epoch 1 start\n",
      "Trial 12 Epoch 1 end\n",
      "Trial 12 Epoch 2 start\n",
      "Trial 12 Epoch 2 end\n",
      "Trial 12 Epoch 3 start\n",
      "Trial 12 Epoch 3 end\n",
      "Trial 12 Epoch 4 start\n",
      "Trial 12 Epoch 4 end\n",
      "Trial 12 Epoch 5 start\n",
      "Trial 12 Epoch 5 end\n",
      "Trial 12 Epoch 6 start\n",
      "Trial 12 Epoch 6 end\n",
      "Trial 12 Epoch 7 start\n",
      "Trial 12 Epoch 7 end\n",
      "Trial 12 Epoch 8 start\n",
      "Trial 12 Epoch 8 end\n",
      "Trial 12 Epoch 9 start\n",
      "Trial 12 Epoch 9 end\n"
     ]
    },
    {
     "name": "stderr",
     "output_type": "stream",
     "text": [
      "[I 2025-06-01 18:11:43,666] Trial 12 finished with value: 3905.090178001773 and parameters: {'hidden_dim': 256, 'dropout': 0.3469995841903726, 'learning_rate': 0.0020323082839778443, 'batch_size': 8, 'k': 10}. Best is trial 0 with value: 563.2147598229304.\n"
     ]
    },
    {
     "name": "stdout",
     "output_type": "stream",
     "text": [
      "Trial 13 params: 128, 0.445935527957441, 0.009918754134019811, 8, 6\n",
      "Trial 13 Epoch 0 start\n",
      "Trial 13 Epoch 0 end\n",
      "Trial 13 Epoch 1 start\n",
      "Trial 13 Epoch 1 end\n",
      "Trial 13 Epoch 2 start\n",
      "Trial 13 Epoch 2 end\n",
      "Trial 13 Epoch 3 start\n",
      "Trial 13 Epoch 3 end\n",
      "Trial 13 Epoch 4 start\n",
      "Trial 13 Epoch 4 end\n",
      "Trial 13 Epoch 5 start\n",
      "Trial 13 Epoch 5 end\n",
      "Trial 13 Epoch 6 start\n",
      "Trial 13 Epoch 6 end\n",
      "Trial 13 Epoch 7 start\n",
      "Trial 13 Epoch 7 end\n",
      "Trial 13 Epoch 8 start\n",
      "Trial 13 Epoch 8 end\n",
      "Trial 13 Epoch 9 start\n",
      "Trial 13 Epoch 9 end\n"
     ]
    },
    {
     "name": "stderr",
     "output_type": "stream",
     "text": [
      "[I 2025-06-01 18:14:53,844] Trial 13 finished with value: 4065.468735240747 and parameters: {'hidden_dim': 128, 'dropout': 0.445935527957441, 'learning_rate': 0.009918754134019811, 'batch_size': 8, 'k': 6}. Best is trial 0 with value: 563.2147598229304.\n"
     ]
    },
    {
     "name": "stdout",
     "output_type": "stream",
     "text": [
      "Trial 14 params: 64, 0.13032019987985896, 0.0005799410853826141, 8, 10\n",
      "Trial 14 Epoch 0 start\n",
      "Trial 14 Epoch 0 end\n",
      "Trial 14 Epoch 1 start\n",
      "Trial 14 Epoch 1 end\n",
      "Trial 14 Epoch 2 start\n",
      "Trial 14 Epoch 2 end\n",
      "Trial 14 Epoch 3 start\n",
      "Trial 14 Epoch 3 end\n",
      "Trial 14 Epoch 4 start\n",
      "Trial 14 Epoch 4 end\n",
      "Trial 14 Epoch 5 start\n",
      "Trial 14 Epoch 5 end\n",
      "Trial 14 Epoch 6 start\n",
      "Trial 14 Epoch 6 end\n",
      "Trial 14 Epoch 7 start\n",
      "Trial 14 Epoch 7 end\n",
      "Trial 14 Epoch 8 start\n",
      "Trial 14 Epoch 8 end\n",
      "Trial 14 Epoch 9 start\n",
      "Trial 14 Epoch 9 end\n"
     ]
    },
    {
     "name": "stderr",
     "output_type": "stream",
     "text": [
      "[I 2025-06-01 18:17:30,388] Trial 14 finished with value: 804.8205013278149 and parameters: {'hidden_dim': 64, 'dropout': 0.13032019987985896, 'learning_rate': 0.0005799410853826141, 'batch_size': 8, 'k': 10}. Best is trial 0 with value: 563.2147598229304.\n"
     ]
    },
    {
     "name": "stdout",
     "output_type": "stream",
     "text": [
      "Trial 15 params: 128, 0.29892093846992035, 0.00026330629402227293, 1024, 4\n",
      "Trial 15 Epoch 0 start\n",
      "Trial 15 Epoch 0 end\n",
      "Trial 15 Epoch 1 start\n",
      "Trial 15 Epoch 1 end\n",
      "Trial 15 Epoch 2 start\n",
      "Trial 15 Epoch 2 end\n",
      "Trial 15 Epoch 3 start\n",
      "Trial 15 Epoch 3 end\n",
      "Trial 15 Epoch 4 start\n",
      "Trial 15 Epoch 4 end\n",
      "Trial 15 Epoch 5 start\n",
      "Trial 15 Epoch 5 end\n",
      "Trial 15 Epoch 6 start\n",
      "Trial 15 Epoch 6 end\n",
      "Trial 15 Epoch 7 start\n",
      "Trial 15 Epoch 7 end\n",
      "Trial 15 Epoch 8 start\n",
      "Trial 15 Epoch 8 end\n",
      "Trial 15 Epoch 9 start\n",
      "Trial 15 Epoch 9 end\n"
     ]
    },
    {
     "name": "stderr",
     "output_type": "stream",
     "text": [
      "[I 2025-06-01 18:21:42,699] Trial 15 finished with value: 4072.191768790342 and parameters: {'hidden_dim': 128, 'dropout': 0.29892093846992035, 'learning_rate': 0.00026330629402227293, 'batch_size': 1024, 'k': 4}. Best is trial 0 with value: 563.2147598229304.\n"
     ]
    },
    {
     "name": "stdout",
     "output_type": "stream",
     "text": [
      "Trial 16 params: 256, 0.15580814589958078, 0.0014138370782154073, 256, 8\n",
      "Trial 16 Epoch 0 start\n",
      "Trial 16 Epoch 0 end\n",
      "Trial 16 Epoch 1 start\n",
      "Trial 16 Epoch 1 end\n",
      "Trial 16 Epoch 2 start\n",
      "Trial 16 Epoch 2 end\n",
      "Trial 16 Epoch 3 start\n",
      "Trial 16 Epoch 3 end\n",
      "Trial 16 Epoch 4 start\n",
      "Trial 16 Epoch 4 end\n",
      "Trial 16 Epoch 5 start\n",
      "Trial 16 Epoch 5 end\n",
      "Trial 16 Epoch 6 start\n",
      "Trial 16 Epoch 6 end\n",
      "Trial 16 Epoch 7 start\n",
      "Trial 16 Epoch 7 end\n",
      "Trial 16 Epoch 8 start\n",
      "Trial 16 Epoch 8 end\n",
      "Trial 16 Epoch 9 start\n",
      "Trial 16 Epoch 9 end\n"
     ]
    },
    {
     "name": "stderr",
     "output_type": "stream",
     "text": [
      "[I 2025-06-01 18:33:57,013] Trial 16 finished with value: 3214.427287114602 and parameters: {'hidden_dim': 256, 'dropout': 0.15580814589958078, 'learning_rate': 0.0014138370782154073, 'batch_size': 256, 'k': 8}. Best is trial 0 with value: 563.2147598229304.\n"
     ]
    },
    {
     "name": "stdout",
     "output_type": "stream",
     "text": [
      "Trial 17 params: 128, 0.38306300655197173, 0.003205787531579187, 8, 6\n",
      "Trial 17 Epoch 0 start\n",
      "Trial 17 Epoch 0 end\n",
      "Trial 17 Epoch 1 start\n",
      "Trial 17 Epoch 1 end\n",
      "Trial 17 Epoch 2 start\n",
      "Trial 17 Epoch 2 end\n",
      "Trial 17 Epoch 3 start\n",
      "Trial 17 Epoch 3 end\n",
      "Trial 17 Epoch 4 start\n",
      "Trial 17 Epoch 4 end\n",
      "Trial 17 Epoch 5 start\n",
      "Trial 17 Epoch 5 end\n",
      "Trial 17 Epoch 6 start\n",
      "Trial 17 Epoch 6 end\n",
      "Trial 17 Epoch 7 start\n",
      "Trial 17 Epoch 7 end\n",
      "Trial 17 Epoch 8 start\n",
      "Trial 17 Epoch 8 end\n",
      "Trial 17 Epoch 9 start\n",
      "Trial 17 Epoch 9 end\n"
     ]
    },
    {
     "name": "stderr",
     "output_type": "stream",
     "text": [
      "[I 2025-06-01 18:38:13,225] Trial 17 finished with value: 3897.8446637790316 and parameters: {'hidden_dim': 128, 'dropout': 0.38306300655197173, 'learning_rate': 0.003205787531579187, 'batch_size': 8, 'k': 6}. Best is trial 0 with value: 563.2147598229304.\n"
     ]
    },
    {
     "name": "stdout",
     "output_type": "stream",
     "text": [
      "Trial 18 params: 256, 0.2871810038288105, 0.0003601047578818966, 8, 12\n",
      "Trial 18 Epoch 0 start\n",
      "Trial 18 Epoch 0 end\n",
      "Trial 18 Epoch 1 start\n",
      "Trial 18 Epoch 1 end\n",
      "Trial 18 Epoch 2 start\n",
      "Trial 18 Epoch 2 end\n",
      "Trial 18 Epoch 3 start\n",
      "Trial 18 Epoch 3 end\n",
      "Trial 18 Epoch 4 start\n",
      "Trial 18 Epoch 4 end\n",
      "Trial 18 Epoch 5 start\n",
      "Trial 18 Epoch 5 end\n",
      "Trial 18 Epoch 6 start\n",
      "Trial 18 Epoch 6 end\n",
      "Trial 18 Epoch 7 start\n",
      "Trial 18 Epoch 7 end\n",
      "Trial 18 Epoch 8 start\n",
      "Trial 18 Epoch 8 end\n",
      "Trial 18 Epoch 9 start\n",
      "Trial 18 Epoch 9 end\n"
     ]
    },
    {
     "name": "stderr",
     "output_type": "stream",
     "text": [
      "[I 2025-06-01 18:45:30,968] Trial 18 finished with value: 635.2187357586153 and parameters: {'hidden_dim': 256, 'dropout': 0.2871810038288105, 'learning_rate': 0.0003601047578818966, 'batch_size': 8, 'k': 12}. Best is trial 0 with value: 563.2147598229304.\n"
     ]
    },
    {
     "name": "stdout",
     "output_type": "stream",
     "text": [
      "Trial 19 params: 256, 0.2765946064818508, 0.000109759101206182, 8, 12\n",
      "Trial 19 Epoch 0 start\n",
      "Trial 19 Epoch 0 end\n",
      "Trial 19 Epoch 1 start\n",
      "Trial 19 Epoch 1 end\n",
      "Trial 19 Epoch 2 start\n",
      "Trial 19 Epoch 2 end\n",
      "Trial 19 Epoch 3 start\n",
      "Trial 19 Epoch 3 end\n",
      "Trial 19 Epoch 4 start\n",
      "Trial 19 Epoch 4 end\n",
      "Trial 19 Epoch 5 start\n",
      "Trial 19 Epoch 5 end\n",
      "Trial 19 Epoch 6 start\n",
      "Trial 19 Epoch 6 end\n",
      "Trial 19 Epoch 7 start\n",
      "Trial 19 Epoch 7 end\n",
      "Trial 19 Epoch 8 start\n",
      "Trial 19 Epoch 8 end\n",
      "Trial 19 Epoch 9 start\n",
      "Trial 19 Epoch 9 end\n"
     ]
    },
    {
     "name": "stderr",
     "output_type": "stream",
     "text": [
      "[I 2025-06-01 18:52:27,973] Trial 19 finished with value: 627.1462313153032 and parameters: {'hidden_dim': 256, 'dropout': 0.2765946064818508, 'learning_rate': 0.000109759101206182, 'batch_size': 8, 'k': 12}. Best is trial 0 with value: 563.2147598229304.\n"
     ]
    },
    {
     "name": "stdout",
     "output_type": "stream",
     "text": [
      "Trial 20 params: 256, 0.06713037265742083, 0.00011999976844038836, 1024, 12\n",
      "Trial 20 Epoch 0 start\n",
      "Trial 20 Epoch 0 end\n",
      "Trial 20 Epoch 1 start\n",
      "Trial 20 Epoch 1 end\n",
      "Trial 20 Epoch 2 start\n",
      "Trial 20 Epoch 2 end\n",
      "Trial 20 Epoch 3 start\n",
      "Trial 20 Epoch 3 end\n",
      "Trial 20 Epoch 4 start\n",
      "Trial 20 Epoch 4 end\n",
      "Trial 20 Epoch 5 start\n",
      "Trial 20 Epoch 5 end\n",
      "Trial 20 Epoch 6 start\n",
      "Trial 20 Epoch 6 end\n",
      "Trial 20 Epoch 7 start\n",
      "Trial 20 Epoch 7 end\n",
      "Trial 20 Epoch 8 start\n",
      "Trial 20 Epoch 8 end\n",
      "Trial 20 Epoch 9 start\n",
      "Trial 20 Epoch 9 end\n"
     ]
    },
    {
     "name": "stderr",
     "output_type": "stream",
     "text": [
      "[I 2025-06-01 19:02:29,666] Trial 20 finished with value: 4058.7065715445738 and parameters: {'hidden_dim': 256, 'dropout': 0.06713037265742083, 'learning_rate': 0.00011999976844038836, 'batch_size': 1024, 'k': 12}. Best is trial 0 with value: 563.2147598229304.\n"
     ]
    },
    {
     "name": "stdout",
     "output_type": "stream",
     "text": [
      "Trial 21 params: 256, 0.27795458969813946, 0.0003065663140190305, 8, 12\n",
      "Trial 21 Epoch 0 start\n",
      "Trial 21 Epoch 0 end\n",
      "Trial 21 Epoch 1 start\n",
      "Trial 21 Epoch 1 end\n",
      "Trial 21 Epoch 2 start\n",
      "Trial 21 Epoch 2 end\n",
      "Trial 21 Epoch 3 start\n",
      "Trial 21 Epoch 3 end\n",
      "Trial 21 Epoch 4 start\n",
      "Trial 21 Epoch 4 end\n",
      "Trial 21 Epoch 5 start\n",
      "Trial 21 Epoch 5 end\n",
      "Trial 21 Epoch 6 start\n",
      "Trial 21 Epoch 6 end\n",
      "Trial 21 Epoch 7 start\n",
      "Trial 21 Epoch 7 end\n",
      "Trial 21 Epoch 8 start\n",
      "Trial 21 Epoch 8 end\n",
      "Trial 21 Epoch 9 start\n",
      "Trial 21 Epoch 9 end\n"
     ]
    },
    {
     "name": "stderr",
     "output_type": "stream",
     "text": [
      "[I 2025-06-01 19:14:03,502] Trial 21 finished with value: 671.741289774893 and parameters: {'hidden_dim': 256, 'dropout': 0.27795458969813946, 'learning_rate': 0.0003065663140190305, 'batch_size': 8, 'k': 12}. Best is trial 0 with value: 563.2147598229304.\n"
     ]
    },
    {
     "name": "stdout",
     "output_type": "stream",
     "text": [
      "Trial 22 params: 256, 0.3305636705255115, 0.00019061702716345418, 8, 12\n",
      "Trial 22 Epoch 0 start\n",
      "Trial 22 Epoch 0 end\n",
      "Trial 22 Epoch 1 start\n",
      "Trial 22 Epoch 1 end\n",
      "Trial 22 Epoch 2 start\n",
      "Trial 22 Epoch 2 end\n",
      "Trial 22 Epoch 3 start\n",
      "Trial 22 Epoch 3 end\n",
      "Trial 22 Epoch 4 start\n",
      "Trial 22 Epoch 4 end\n",
      "Trial 22 Epoch 5 start\n",
      "Trial 22 Epoch 5 end\n",
      "Trial 22 Epoch 6 start\n",
      "Trial 22 Epoch 6 end\n",
      "Trial 22 Epoch 7 start\n",
      "Trial 22 Epoch 7 end\n",
      "Trial 22 Epoch 8 start\n",
      "Trial 22 Epoch 8 end\n",
      "Trial 22 Epoch 9 start\n",
      "Trial 22 Epoch 9 end\n"
     ]
    },
    {
     "name": "stderr",
     "output_type": "stream",
     "text": [
      "[I 2025-06-01 19:23:30,970] Trial 22 finished with value: 837.8742920737113 and parameters: {'hidden_dim': 256, 'dropout': 0.3305636705255115, 'learning_rate': 0.00019061702716345418, 'batch_size': 8, 'k': 12}. Best is trial 0 with value: 563.2147598229304.\n"
     ]
    },
    {
     "name": "stdout",
     "output_type": "stream",
     "text": [
      "Trial 23 params: 256, 0.20138141545290283, 0.00010429882867425114, 8, 10\n",
      "Trial 23 Epoch 0 start\n",
      "Trial 23 Epoch 0 end\n",
      "Trial 23 Epoch 1 start\n",
      "Trial 23 Epoch 1 end\n",
      "Trial 23 Epoch 2 start\n",
      "Trial 23 Epoch 2 end\n",
      "Trial 23 Epoch 3 start\n",
      "Trial 23 Epoch 3 end\n",
      "Trial 23 Epoch 4 start\n",
      "Trial 23 Epoch 4 end\n",
      "Trial 23 Epoch 5 start\n",
      "Trial 23 Epoch 5 end\n",
      "Trial 23 Epoch 6 start\n",
      "Trial 23 Epoch 6 end\n",
      "Trial 23 Epoch 7 start\n",
      "Trial 23 Epoch 7 end\n",
      "Trial 23 Epoch 8 start\n",
      "Trial 23 Epoch 8 end\n",
      "Trial 23 Epoch 9 start\n",
      "Trial 23 Epoch 9 end\n"
     ]
    },
    {
     "name": "stderr",
     "output_type": "stream",
     "text": [
      "[I 2025-06-01 19:31:17,460] Trial 23 finished with value: 555.86709421893 and parameters: {'hidden_dim': 256, 'dropout': 0.20138141545290283, 'learning_rate': 0.00010429882867425114, 'batch_size': 8, 'k': 10}. Best is trial 23 with value: 555.86709421893.\n"
     ]
    },
    {
     "name": "stdout",
     "output_type": "stream",
     "text": [
      "Trial 24 params: 256, 0.2043271691678571, 0.00010361366947781228, 512, 10\n",
      "Trial 24 Epoch 0 start\n",
      "Trial 24 Epoch 0 end\n",
      "Trial 24 Epoch 1 start\n",
      "Trial 24 Epoch 1 end\n",
      "Trial 24 Epoch 2 start\n",
      "Trial 24 Epoch 2 end\n",
      "Trial 24 Epoch 3 start\n",
      "Trial 24 Epoch 3 end\n",
      "Trial 24 Epoch 4 start\n",
      "Trial 24 Epoch 4 end\n",
      "Trial 24 Epoch 5 start\n",
      "Trial 24 Epoch 5 end\n",
      "Trial 24 Epoch 6 start\n",
      "Trial 24 Epoch 6 end\n",
      "Trial 24 Epoch 7 start\n",
      "Trial 24 Epoch 7 end\n",
      "Trial 24 Epoch 8 start\n",
      "Trial 24 Epoch 8 end\n",
      "Trial 24 Epoch 9 start\n",
      "Trial 24 Epoch 9 end\n"
     ]
    },
    {
     "name": "stderr",
     "output_type": "stream",
     "text": [
      "[I 2025-06-01 19:41:06,547] Trial 24 finished with value: 4070.3960492845126 and parameters: {'hidden_dim': 256, 'dropout': 0.2043271691678571, 'learning_rate': 0.00010361366947781228, 'batch_size': 512, 'k': 10}. Best is trial 23 with value: 555.86709421893.\n"
     ]
    },
    {
     "name": "stdout",
     "output_type": "stream",
     "text": [
      "Trial 25 params: 256, 0.12555567934102174, 0.00017664355361280673, 256, 10\n",
      "Trial 25 Epoch 0 start\n",
      "Trial 25 Epoch 0 end\n",
      "Trial 25 Epoch 1 start\n",
      "Trial 25 Epoch 1 end\n",
      "Trial 25 Epoch 2 start\n",
      "Trial 25 Epoch 2 end\n",
      "Trial 25 Epoch 3 start\n",
      "Trial 25 Epoch 3 end\n",
      "Trial 25 Epoch 4 start\n",
      "Trial 25 Epoch 4 end\n",
      "Trial 25 Epoch 5 start\n",
      "Trial 25 Epoch 5 end\n",
      "Trial 25 Epoch 6 start\n",
      "Trial 25 Epoch 6 end\n",
      "Trial 25 Epoch 7 start\n",
      "Trial 25 Epoch 7 end\n",
      "Trial 25 Epoch 8 start\n",
      "Trial 25 Epoch 8 end\n",
      "Trial 25 Epoch 9 start\n",
      "Trial 25 Epoch 9 end\n"
     ]
    },
    {
     "name": "stderr",
     "output_type": "stream",
     "text": [
      "[I 2025-06-01 19:51:57,859] Trial 25 finished with value: 4036.1694631567607 and parameters: {'hidden_dim': 256, 'dropout': 0.12555567934102174, 'learning_rate': 0.00017664355361280673, 'batch_size': 256, 'k': 10}. Best is trial 23 with value: 555.86709421893.\n"
     ]
    },
    {
     "name": "stdout",
     "output_type": "stream",
     "text": [
      "Trial 26 params: 256, 0.2514160677023316, 0.00010032599103278586, 8, 8\n",
      "Trial 26 Epoch 0 start\n",
      "Trial 26 Epoch 0 end\n",
      "Trial 26 Epoch 1 start\n",
      "Trial 26 Epoch 1 end\n",
      "Trial 26 Epoch 2 start\n",
      "Trial 26 Epoch 2 end\n",
      "Trial 26 Epoch 3 start\n",
      "Trial 26 Epoch 3 end\n",
      "Trial 26 Epoch 4 start\n",
      "Trial 26 Epoch 4 end\n",
      "Trial 26 Epoch 5 start\n",
      "Trial 26 Epoch 5 end\n",
      "Trial 26 Epoch 6 start\n",
      "Trial 26 Epoch 6 end\n",
      "Trial 26 Epoch 7 start\n",
      "Trial 26 Epoch 7 end\n",
      "Trial 26 Epoch 8 start\n",
      "Trial 26 Epoch 8 end\n",
      "Trial 26 Epoch 9 start\n",
      "Trial 26 Epoch 9 end\n"
     ]
    },
    {
     "name": "stderr",
     "output_type": "stream",
     "text": [
      "[I 2025-06-01 20:02:21,592] Trial 26 finished with value: 497.8561587774574 and parameters: {'hidden_dim': 256, 'dropout': 0.2514160677023316, 'learning_rate': 0.00010032599103278586, 'batch_size': 8, 'k': 8}. Best is trial 26 with value: 497.8561587774574.\n"
     ]
    },
    {
     "name": "stdout",
     "output_type": "stream",
     "text": [
      "Trial 27 params: 64, 0.18455137732831833, 0.00022482336506419868, 8, 8\n",
      "Trial 27 Epoch 0 start\n",
      "Trial 27 Epoch 0 end\n",
      "Trial 27 Epoch 1 start\n",
      "Trial 27 Epoch 1 end\n",
      "Trial 27 Epoch 2 start\n",
      "Trial 27 Epoch 2 end\n",
      "Trial 27 Epoch 3 start\n",
      "Trial 27 Epoch 3 end\n",
      "Trial 27 Epoch 4 start\n",
      "Trial 27 Epoch 4 end\n",
      "Trial 27 Epoch 5 start\n",
      "Trial 27 Epoch 5 end\n",
      "Trial 27 Epoch 6 start\n",
      "Trial 27 Epoch 6 end\n",
      "Trial 27 Epoch 7 start\n",
      "Trial 27 Epoch 7 end\n",
      "Trial 27 Epoch 8 start\n",
      "Trial 27 Epoch 8 end\n",
      "Trial 27 Epoch 9 start\n",
      "Trial 27 Epoch 9 end\n"
     ]
    },
    {
     "name": "stderr",
     "output_type": "stream",
     "text": [
      "[I 2025-06-01 20:05:02,707] Trial 27 finished with value: 514.9135619153265 and parameters: {'hidden_dim': 64, 'dropout': 0.18455137732831833, 'learning_rate': 0.00022482336506419868, 'batch_size': 8, 'k': 8}. Best is trial 26 with value: 497.8561587774574.\n"
     ]
    },
    {
     "name": "stdout",
     "output_type": "stream",
     "text": [
      "Trial 28 params: 64, 0.18711405264607886, 0.0001694266943345645, 8, 8\n",
      "Trial 28 Epoch 0 start\n",
      "Trial 28 Epoch 0 end\n",
      "Trial 28 Epoch 1 start\n",
      "Trial 28 Epoch 1 end\n",
      "Trial 28 Epoch 2 start\n",
      "Trial 28 Epoch 2 end\n",
      "Trial 28 Epoch 3 start\n",
      "Trial 28 Epoch 3 end\n",
      "Trial 28 Epoch 4 start\n",
      "Trial 28 Epoch 4 end\n",
      "Trial 28 Epoch 5 start\n",
      "Trial 28 Epoch 5 end\n",
      "Trial 28 Epoch 6 start\n",
      "Trial 28 Epoch 6 end\n",
      "Trial 28 Epoch 7 start\n",
      "Trial 28 Epoch 7 end\n",
      "Trial 28 Epoch 8 start\n",
      "Trial 28 Epoch 8 end\n",
      "Trial 28 Epoch 9 start\n",
      "Trial 28 Epoch 9 end\n"
     ]
    },
    {
     "name": "stderr",
     "output_type": "stream",
     "text": [
      "[I 2025-06-01 20:07:40,860] Trial 28 finished with value: 1100.0122574303778 and parameters: {'hidden_dim': 64, 'dropout': 0.18711405264607886, 'learning_rate': 0.0001694266943345645, 'batch_size': 8, 'k': 8}. Best is trial 26 with value: 497.8561587774574.\n"
     ]
    },
    {
     "name": "stdout",
     "output_type": "stream",
     "text": [
      "Trial 29 params: 64, 0.2356753030500025, 0.00014325352806172955, 8, 8\n",
      "Trial 29 Epoch 0 start\n",
      "Trial 29 Epoch 0 end\n",
      "Trial 29 Epoch 1 start\n",
      "Trial 29 Epoch 1 end\n",
      "Trial 29 Epoch 2 start\n",
      "Trial 29 Epoch 2 end\n",
      "Trial 29 Epoch 3 start\n",
      "Trial 29 Epoch 3 end\n",
      "Trial 29 Epoch 4 start\n",
      "Trial 29 Epoch 4 end\n",
      "Trial 29 Epoch 5 start\n",
      "Trial 29 Epoch 5 end\n",
      "Trial 29 Epoch 6 start\n",
      "Trial 29 Epoch 6 end\n",
      "Trial 29 Epoch 7 start\n",
      "Trial 29 Epoch 7 end\n",
      "Trial 29 Epoch 8 start\n",
      "Trial 29 Epoch 8 end\n",
      "Trial 29 Epoch 9 start\n",
      "Trial 29 Epoch 9 end\n"
     ]
    },
    {
     "name": "stderr",
     "output_type": "stream",
     "text": [
      "[I 2025-06-01 20:10:18,520] Trial 29 finished with value: 627.4976458343691 and parameters: {'hidden_dim': 64, 'dropout': 0.2356753030500025, 'learning_rate': 0.00014325352806172955, 'batch_size': 8, 'k': 8}. Best is trial 26 with value: 497.8561587774574.\n"
     ]
    },
    {
     "name": "stdout",
     "output_type": "stream",
     "text": [
      "Best params: {'hidden_dim': 256, 'dropout': 0.2514160677023316, 'learning_rate': 0.00010032599103278586, 'batch_size': 8, 'k': 8}\n",
      "Best value: 497.8561587774574\n"
     ]
    }
   ],
   "source": [
    "import optuna\n",
    "# expand the search space in Optuna\n",
    "def objective(trial):\n",
    "    hidden_dim = trial.suggest_categorical('hidden_dim', [64, 128, 256])\n",
    "    dropout = trial.suggest_float('dropout', 0.0, 0.5)\n",
    "    learning_rate = trial.suggest_float('learning_rate', 1e-4, 1e-2, log=True)\n",
    "    batch_size = trial.suggest_categorical('batch_size', [8,64,256, 512, 1024])\n",
    "    k = trial.suggest_int('k', 4, 12, step=2)\n",
    "    activation = torch.nn.ReLU()\n",
    "    # reconstruct spatial graph\n",
    "    edge_index, edge_weight = build_spatial_graph(spatial_df, k=k)\n",
    "    edge_index = edge_index.to(device)\n",
    "    edge_weight = edge_weight.to(device)\n",
    "    model = SpatioTemporalGNN(\n",
    "        spatial_features=len(spatial_cols),\n",
    "        temporal_features=len(temporal_cols),\n",
    "        hidden_dim=hidden_dim,\n",
    "        dropout=dropout,\n",
    "        activation=activation\n",
    "    ).to(device)\n",
    "    optimizer = torch.optim.Adam(model.parameters(), lr=learning_rate)\n",
    "    print(f\"Trial {trial.number} params: {hidden_dim}, {dropout}, {learning_rate}, {batch_size}, {k}\")\n",
    "    for epoch in range(10):\n",
    "        print(f\"Trial {trial.number} Epoch {epoch} start\")\n",
    "        run_epoch(train_batches, model, spatial_x, edge_index, edge_weight, optimizer, batch_size=batch_size)\n",
    "        print(f\"Trial {trial.number} Epoch {epoch} end\")\n",
    "    val_loss, yv, pv = run_epoch(val_batches, model, spatial_x, edge_index, edge_weight, optimizer=None, batch_size=batch_size, collect_pred=True)\n",
    "    r2 = 1 - np.sum((yv - pv)**2) / np.sum((yv - yv.mean())**2)\n",
    "    return val_loss\n",
    "\n",
    "device = torch.device('cpu')\n",
    "print('使用裝置:', device)\n",
    "\n",
    "study = optuna.create_study(direction='minimize')\n",
    "study.optimize(objective, n_trials=30)\n",
    "\n",
    "print('Best params:', study.best_params)\n",
    "print('Best value:', study.best_value)"
   ]
  },
  {
   "cell_type": "code",
   "execution_count": 34,
   "metadata": {
    "trusted": true
   },
   "outputs": [
    {
     "name": "stderr",
     "output_type": "stream",
     "text": [
      "  0%|          | 1/200 [00:55<3:02:42, 55.09s/it]"
     ]
    },
    {
     "name": "stdout",
     "output_type": "stream",
     "text": [
      "Epoch:  0 Val loss: 4063.4248003098924 R square: 0.0002837777\n"
     ]
    },
    {
     "name": "stderr",
     "output_type": "stream",
     "text": [
      "  1%|          | 2/200 [01:54<3:09:34, 57.45s/it]"
     ]
    },
    {
     "name": "stdout",
     "output_type": "stream",
     "text": [
      "Epoch:  1 Val loss: 3967.8008148143545 R square: 0.02380991\n"
     ]
    },
    {
     "name": "stderr",
     "output_type": "stream",
     "text": [
      "  2%|▏         | 3/200 [02:50<3:07:24, 57.08s/it]"
     ]
    },
    {
     "name": "stdout",
     "output_type": "stream",
     "text": [
      "Epoch:  2 Val loss: 3058.184336341114 R square: 0.24760109\n"
     ]
    },
    {
     "name": "stderr",
     "output_type": "stream",
     "text": [
      "  2%|▏         | 4/200 [03:44<3:01:51, 55.67s/it]"
     ]
    },
    {
     "name": "stdout",
     "output_type": "stream",
     "text": [
      "Epoch:  3 Val loss: 1464.8784611743602 R square: 0.6395989\n"
     ]
    },
    {
     "name": "stderr",
     "output_type": "stream",
     "text": [
      "  2%|▎         | 5/200 [04:39<3:00:54, 55.67s/it]"
     ]
    },
    {
     "name": "stdout",
     "output_type": "stream",
     "text": [
      "Epoch:  4 Val loss: 761.6643952952679 R square: 0.8126092\n"
     ]
    },
    {
     "name": "stderr",
     "output_type": "stream",
     "text": [
      "  3%|▎         | 6/200 [05:33<2:57:35, 54.93s/it]"
     ]
    },
    {
     "name": "stdout",
     "output_type": "stream",
     "text": [
      "Epoch:  5 Val loss: 895.476171573989 R square: 0.77968776\n"
     ]
    },
    {
     "name": "stderr",
     "output_type": "stream",
     "text": [
      "  4%|▎         | 7/200 [06:32<3:00:46, 56.20s/it]"
     ]
    },
    {
     "name": "stdout",
     "output_type": "stream",
     "text": [
      "Epoch:  6 Val loss: 607.4758490713582 R square: 0.8505439\n"
     ]
    },
    {
     "name": "stderr",
     "output_type": "stream",
     "text": [
      "  4%|▍         | 8/200 [07:33<3:04:47, 57.75s/it]"
     ]
    },
    {
     "name": "stdout",
     "output_type": "stream",
     "text": [
      "Epoch:  7 Val loss: 498.1561505692411 R square: 0.8774396\n"
     ]
    },
    {
     "name": "stderr",
     "output_type": "stream",
     "text": [
      "  4%|▍         | 9/200 [08:31<3:04:15, 57.88s/it]"
     ]
    },
    {
     "name": "stdout",
     "output_type": "stream",
     "text": [
      "Epoch:  8 Val loss: 480.8009714695866 R square: 0.8817095\n"
     ]
    },
    {
     "name": "stderr",
     "output_type": "stream",
     "text": [
      "  5%|▌         | 10/200 [09:30<3:04:33, 58.28s/it]"
     ]
    },
    {
     "name": "stdout",
     "output_type": "stream",
     "text": [
      "Epoch:  9 Val loss: 483.5133058552288 R square: 0.8810422\n"
     ]
    },
    {
     "name": "stderr",
     "output_type": "stream",
     "text": [
      "  6%|▌         | 11/200 [10:23<2:57:57, 56.50s/it]"
     ]
    },
    {
     "name": "stdout",
     "output_type": "stream",
     "text": [
      "Epoch:  10 Val loss: 517.0321784088178 R square: 0.8727956\n"
     ]
    },
    {
     "name": "stderr",
     "output_type": "stream",
     "text": [
      "  6%|▌         | 12/200 [11:16<2:53:51, 55.49s/it]"
     ]
    },
    {
     "name": "stdout",
     "output_type": "stream",
     "text": [
      "Epoch:  11 Val loss: 470.45666243050204 R square: 0.8842545\n"
     ]
    },
    {
     "name": "stderr",
     "output_type": "stream",
     "text": [
      "  6%|▋         | 13/200 [12:08<2:50:07, 54.59s/it]"
     ]
    },
    {
     "name": "stdout",
     "output_type": "stream",
     "text": [
      "Epoch:  12 Val loss: 401.3836513822947 R square: 0.9012484\n"
     ]
    },
    {
     "name": "stderr",
     "output_type": "stream",
     "text": [
      "  7%|▋         | 14/200 [13:02<2:48:00, 54.20s/it]"
     ]
    },
    {
     "name": "stdout",
     "output_type": "stream",
     "text": [
      "Epoch:  13 Val loss: 393.9829447765708 R square: 0.90306914\n"
     ]
    },
    {
     "name": "stderr",
     "output_type": "stream",
     "text": [
      "  8%|▊         | 15/200 [13:55<2:46:02, 53.85s/it]"
     ]
    },
    {
     "name": "stdout",
     "output_type": "stream",
     "text": [
      "Epoch:  14 Val loss: 406.7005805824157 R square: 0.89994025\n"
     ]
    },
    {
     "name": "stderr",
     "output_type": "stream",
     "text": [
      "  8%|▊         | 16/200 [14:45<2:42:01, 52.84s/it]"
     ]
    },
    {
     "name": "stdout",
     "output_type": "stream",
     "text": [
      "Epoch:  15 Val loss: 435.83154927622695 R square: 0.8927733\n"
     ]
    },
    {
     "name": "stderr",
     "output_type": "stream",
     "text": [
      "  8%|▊         | 17/200 [15:39<2:42:01, 53.12s/it]"
     ]
    },
    {
     "name": "stdout",
     "output_type": "stream",
     "text": [
      "Epoch:  16 Val loss: 378.0410317598416 R square: 0.9069913\n"
     ]
    },
    {
     "name": "stderr",
     "output_type": "stream",
     "text": [
      "  9%|▉         | 18/200 [16:36<2:44:25, 54.21s/it]"
     ]
    },
    {
     "name": "stdout",
     "output_type": "stream",
     "text": [
      "Epoch:  17 Val loss: 507.1370374657171 R square: 0.8752301\n"
     ]
    },
    {
     "name": "stderr",
     "output_type": "stream",
     "text": [
      " 10%|▉         | 19/200 [17:31<2:44:43, 54.61s/it]"
     ]
    },
    {
     "name": "stdout",
     "output_type": "stream",
     "text": [
      "Epoch:  18 Val loss: 393.2443044818415 R square: 0.9032509\n"
     ]
    },
    {
     "name": "stderr",
     "output_type": "stream",
     "text": [
      " 10%|█         | 20/200 [18:27<2:44:49, 54.94s/it]"
     ]
    },
    {
     "name": "stdout",
     "output_type": "stream",
     "text": [
      "Epoch:  19 Val loss: 416.1664646979376 R square: 0.8976114\n"
     ]
    },
    {
     "name": "stderr",
     "output_type": "stream",
     "text": [
      " 10%|█         | 21/200 [19:19<2:41:00, 53.97s/it]"
     ]
    },
    {
     "name": "stdout",
     "output_type": "stream",
     "text": [
      "Epoch:  20 Val loss: 389.83206002407053 R square: 0.9040904\n"
     ]
    },
    {
     "name": "stderr",
     "output_type": "stream",
     "text": [
      " 11%|█         | 22/200 [20:15<2:41:53, 54.57s/it]"
     ]
    },
    {
     "name": "stdout",
     "output_type": "stream",
     "text": [
      "Epoch:  21 Val loss: 415.52125319524885 R square: 0.89777017\n"
     ]
    },
    {
     "name": "stderr",
     "output_type": "stream",
     "text": [
      " 12%|█▏        | 23/200 [21:11<2:42:11, 54.98s/it]"
     ]
    },
    {
     "name": "stdout",
     "output_type": "stream",
     "text": [
      "Epoch:  22 Val loss: 367.463734313762 R square: 0.90959364\n"
     ]
    },
    {
     "name": "stderr",
     "output_type": "stream",
     "text": [
      " 12%|█▏        | 24/200 [22:07<2:42:16, 55.32s/it]"
     ]
    },
    {
     "name": "stdout",
     "output_type": "stream",
     "text": [
      "Epoch:  23 Val loss: 374.751111669546 R square: 0.90780073\n"
     ]
    },
    {
     "name": "stderr",
     "output_type": "stream",
     "text": [
      " 12%|█▎        | 25/200 [23:05<2:43:41, 56.12s/it]"
     ]
    },
    {
     "name": "stdout",
     "output_type": "stream",
     "text": [
      "Epoch:  24 Val loss: 373.7323241111304 R square: 0.9080514\n"
     ]
    },
    {
     "name": "stderr",
     "output_type": "stream",
     "text": [
      " 13%|█▎        | 26/200 [24:05<2:45:59, 57.24s/it]"
     ]
    },
    {
     "name": "stdout",
     "output_type": "stream",
     "text": [
      "Epoch:  25 Val loss: 383.6820097519824 R square: 0.90560347\n"
     ]
    },
    {
     "name": "stderr",
     "output_type": "stream",
     "text": [
      " 14%|█▎        | 27/200 [25:03<2:46:21, 57.70s/it]"
     ]
    },
    {
     "name": "stdout",
     "output_type": "stream",
     "text": [
      "Epoch:  26 Val loss: 362.0239244258909 R square: 0.91093194\n"
     ]
    },
    {
     "name": "stderr",
     "output_type": "stream",
     "text": [
      " 14%|█▍        | 28/200 [26:02<2:46:13, 57.99s/it]"
     ]
    },
    {
     "name": "stdout",
     "output_type": "stream",
     "text": [
      "Epoch:  27 Val loss: 337.95477182194435 R square: 0.91685367\n"
     ]
    },
    {
     "name": "stderr",
     "output_type": "stream",
     "text": [
      " 14%|█▍        | 29/200 [27:02<2:47:05, 58.63s/it]"
     ]
    },
    {
     "name": "stdout",
     "output_type": "stream",
     "text": [
      "Epoch:  28 Val loss: 328.6529400432524 R square: 0.9191422\n"
     ]
    },
    {
     "name": "stderr",
     "output_type": "stream",
     "text": [
      " 15%|█▌        | 30/200 [27:59<2:44:59, 58.23s/it]"
     ]
    },
    {
     "name": "stdout",
     "output_type": "stream",
     "text": [
      "Epoch:  29 Val loss: 293.1110195562695 R square: 0.9278865\n"
     ]
    },
    {
     "name": "stderr",
     "output_type": "stream",
     "text": [
      " 16%|█▌        | 31/200 [28:59<2:45:03, 58.60s/it]"
     ]
    },
    {
     "name": "stdout",
     "output_type": "stream",
     "text": [
      "Epoch:  30 Val loss: 331.5649088007615 R square: 0.91842574\n"
     ]
    },
    {
     "name": "stderr",
     "output_type": "stream",
     "text": [
      " 16%|█▌        | 32/200 [30:00<2:46:11, 59.36s/it]"
     ]
    },
    {
     "name": "stdout",
     "output_type": "stream",
     "text": [
      "Epoch:  31 Val loss: 320.0263624214911 R square: 0.9212645\n"
     ]
    },
    {
     "name": "stderr",
     "output_type": "stream",
     "text": [
      " 16%|█▋        | 33/200 [31:00<2:45:30, 59.47s/it]"
     ]
    },
    {
     "name": "stdout",
     "output_type": "stream",
     "text": [
      "Epoch:  32 Val loss: 319.9583485457216 R square: 0.9212813\n"
     ]
    },
    {
     "name": "stderr",
     "output_type": "stream",
     "text": [
      " 17%|█▋        | 34/200 [31:59<2:44:02, 59.29s/it]"
     ]
    },
    {
     "name": "stdout",
     "output_type": "stream",
     "text": [
      "Epoch:  33 Val loss: 323.17688757902675 R square: 0.92048943\n"
     ]
    },
    {
     "name": "stderr",
     "output_type": "stream",
     "text": [
      " 18%|█▊        | 35/200 [32:57<2:42:41, 59.16s/it]"
     ]
    },
    {
     "name": "stdout",
     "output_type": "stream",
     "text": [
      "Epoch:  34 Val loss: 296.1020396511223 R square: 0.9271506\n"
     ]
    },
    {
     "name": "stderr",
     "output_type": "stream",
     "text": [
      " 18%|█▊        | 36/200 [33:58<2:42:49, 59.57s/it]"
     ]
    },
    {
     "name": "stdout",
     "output_type": "stream",
     "text": [
      "Epoch:  35 Val loss: 298.7548492562372 R square: 0.92649794\n"
     ]
    },
    {
     "name": "stderr",
     "output_type": "stream",
     "text": [
      " 18%|█▊        | 37/200 [34:59<2:42:40, 59.88s/it]"
     ]
    },
    {
     "name": "stdout",
     "output_type": "stream",
     "text": [
      "Epoch:  36 Val loss: 293.17554228603746 R square: 0.92787063\n"
     ]
    },
    {
     "name": "stderr",
     "output_type": "stream",
     "text": [
      " 19%|█▉        | 38/200 [35:59<2:42:07, 60.04s/it]"
     ]
    },
    {
     "name": "stdout",
     "output_type": "stream",
     "text": [
      "Epoch:  37 Val loss: 280.88639187785344 R square: 0.9308941\n"
     ]
    },
    {
     "name": "stderr",
     "output_type": "stream",
     "text": [
      " 20%|█▉        | 39/200 [36:58<2:40:32, 59.83s/it]"
     ]
    },
    {
     "name": "stdout",
     "output_type": "stream",
     "text": [
      "Epoch:  38 Val loss: 292.0263942704061 R square: 0.92815334\n"
     ]
    },
    {
     "name": "stderr",
     "output_type": "stream",
     "text": [
      " 20%|██        | 40/200 [37:58<2:39:19, 59.75s/it]"
     ]
    },
    {
     "name": "stdout",
     "output_type": "stream",
     "text": [
      "Epoch:  39 Val loss: 252.7893043446063 R square: 0.9378067\n"
     ]
    },
    {
     "name": "stderr",
     "output_type": "stream",
     "text": [
      " 20%|██        | 41/200 [38:57<2:38:00, 59.62s/it]"
     ]
    },
    {
     "name": "stdout",
     "output_type": "stream",
     "text": [
      "Epoch:  40 Val loss: 281.58695647107805 R square: 0.9307217\n"
     ]
    },
    {
     "name": "stderr",
     "output_type": "stream",
     "text": [
      " 21%|██        | 42/200 [39:56<2:36:04, 59.27s/it]"
     ]
    },
    {
     "name": "stdout",
     "output_type": "stream",
     "text": [
      "Epoch:  41 Val loss: 291.55856160978396 R square: 0.92826843\n"
     ]
    },
    {
     "name": "stderr",
     "output_type": "stream",
     "text": [
      " 22%|██▏       | 43/200 [40:56<2:35:49, 59.55s/it]"
     ]
    },
    {
     "name": "stdout",
     "output_type": "stream",
     "text": [
      "Epoch:  42 Val loss: 270.58783231623954 R square: 0.9334278\n"
     ]
    },
    {
     "name": "stderr",
     "output_type": "stream",
     "text": [
      " 22%|██▏       | 44/200 [41:58<2:36:45, 60.29s/it]"
     ]
    },
    {
     "name": "stdout",
     "output_type": "stream",
     "text": [
      "Epoch:  43 Val loss: 255.88238946613967 R square: 0.93704575\n"
     ]
    },
    {
     "name": "stderr",
     "output_type": "stream",
     "text": [
      " 22%|██▎       | 45/200 [42:56<2:34:15, 59.71s/it]"
     ]
    },
    {
     "name": "stdout",
     "output_type": "stream",
     "text": [
      "Epoch:  44 Val loss: 240.7157905107841 R square: 0.9407772\n"
     ]
    },
    {
     "name": "stderr",
     "output_type": "stream",
     "text": [
      " 23%|██▎       | 46/200 [43:58<2:34:38, 60.25s/it]"
     ]
    },
    {
     "name": "stdout",
     "output_type": "stream",
     "text": [
      "Epoch:  45 Val loss: 227.54535525004763 R square: 0.94401747\n"
     ]
    },
    {
     "name": "stderr",
     "output_type": "stream",
     "text": [
      " 24%|██▎       | 47/200 [44:59<2:34:34, 60.61s/it]"
     ]
    },
    {
     "name": "stdout",
     "output_type": "stream",
     "text": [
      "Epoch:  46 Val loss: 223.73062511393107 R square: 0.944956\n"
     ]
    },
    {
     "name": "stderr",
     "output_type": "stream",
     "text": [
      " 24%|██▍       | 48/200 [45:59<2:32:35, 60.23s/it]"
     ]
    },
    {
     "name": "stdout",
     "output_type": "stream",
     "text": [
      "Epoch:  47 Val loss: 235.64465110419928 R square: 0.9420248\n"
     ]
    },
    {
     "name": "stderr",
     "output_type": "stream",
     "text": [
      " 24%|██▍       | 49/200 [46:59<2:31:22, 60.15s/it]"
     ]
    },
    {
     "name": "stdout",
     "output_type": "stream",
     "text": [
      "Epoch:  48 Val loss: 223.44219104739946 R square: 0.945027\n"
     ]
    },
    {
     "name": "stderr",
     "output_type": "stream",
     "text": [
      " 25%|██▌       | 50/200 [47:58<2:30:07, 60.05s/it]"
     ]
    },
    {
     "name": "stdout",
     "output_type": "stream",
     "text": [
      "Epoch:  49 Val loss: 200.43108192576665 R square: 0.95068836\n"
     ]
    },
    {
     "name": "stderr",
     "output_type": "stream",
     "text": [
      " 26%|██▌       | 51/200 [49:01<2:31:25, 60.97s/it]"
     ]
    },
    {
     "name": "stdout",
     "output_type": "stream",
     "text": [
      "Epoch:  50 Val loss: 214.14379675058208 R square: 0.9473146\n"
     ]
    },
    {
     "name": "stderr",
     "output_type": "stream",
     "text": [
      " 26%|██▌       | 52/200 [49:59<2:28:11, 60.07s/it]"
     ]
    },
    {
     "name": "stdout",
     "output_type": "stream",
     "text": [
      "Epoch:  51 Val loss: 191.4210653449108 R square: 0.95290506\n"
     ]
    },
    {
     "name": "stderr",
     "output_type": "stream",
     "text": [
      " 26%|██▋       | 53/200 [50:56<2:24:30, 58.98s/it]"
     ]
    },
    {
     "name": "stdout",
     "output_type": "stream",
     "text": [
      "Epoch:  52 Val loss: 227.47935238727038 R square: 0.94403374\n"
     ]
    },
    {
     "name": "stderr",
     "output_type": "stream",
     "text": [
      " 27%|██▋       | 54/200 [51:54<2:22:58, 58.76s/it]"
     ]
    },
    {
     "name": "stdout",
     "output_type": "stream",
     "text": [
      "Epoch:  53 Val loss: 220.50649840858998 R square: 0.9457492\n"
     ]
    },
    {
     "name": "stderr",
     "output_type": "stream",
     "text": [
      " 28%|██▊       | 55/200 [52:52<2:21:07, 58.39s/it]"
     ]
    },
    {
     "name": "stdout",
     "output_type": "stream",
     "text": [
      "Epoch:  54 Val loss: 186.70389105703183 R square: 0.9540656\n"
     ]
    },
    {
     "name": "stderr",
     "output_type": "stream",
     "text": [
      " 28%|██▊       | 56/200 [53:48<2:18:40, 57.78s/it]"
     ]
    },
    {
     "name": "stdout",
     "output_type": "stream",
     "text": [
      "Epoch:  55 Val loss: 179.81561258410184 R square: 0.9557603\n"
     ]
    },
    {
     "name": "stderr",
     "output_type": "stream",
     "text": [
      " 28%|██▊       | 57/200 [54:43<2:16:00, 57.06s/it]"
     ]
    },
    {
     "name": "stdout",
     "output_type": "stream",
     "text": [
      "Epoch:  56 Val loss: 193.65311265530877 R square: 0.9523559\n"
     ]
    },
    {
     "name": "stderr",
     "output_type": "stream",
     "text": [
      " 29%|██▉       | 58/200 [55:40<2:14:56, 57.02s/it]"
     ]
    },
    {
     "name": "stdout",
     "output_type": "stream",
     "text": [
      "Epoch:  57 Val loss: 181.05391516381218 R square: 0.95545566\n"
     ]
    },
    {
     "name": "stderr",
     "output_type": "stream",
     "text": [
      " 30%|██▉       | 59/200 [56:39<2:15:14, 57.55s/it]"
     ]
    },
    {
     "name": "stdout",
     "output_type": "stream",
     "text": [
      "Epoch:  58 Val loss: 200.50640221450942 R square: 0.9506698\n"
     ]
    },
    {
     "name": "stderr",
     "output_type": "stream",
     "text": [
      " 30%|███       | 60/200 [57:38<2:15:26, 58.04s/it]"
     ]
    },
    {
     "name": "stdout",
     "output_type": "stream",
     "text": [
      "Epoch:  59 Val loss: 180.48779959989477 R square: 0.95559496\n"
     ]
    },
    {
     "name": "stderr",
     "output_type": "stream",
     "text": [
      " 30%|███       | 61/200 [58:38<2:15:33, 58.51s/it]"
     ]
    },
    {
     "name": "stdout",
     "output_type": "stream",
     "text": [
      "Epoch:  60 Val loss: 165.3306455308981 R square: 0.959324\n"
     ]
    },
    {
     "name": "stderr",
     "output_type": "stream",
     "text": [
      " 31%|███       | 62/200 [59:38<2:15:25, 58.88s/it]"
     ]
    },
    {
     "name": "stdout",
     "output_type": "stream",
     "text": [
      "Epoch:  61 Val loss: 168.5557236902069 R square: 0.95853055\n"
     ]
    },
    {
     "name": "stderr",
     "output_type": "stream",
     "text": [
      " 32%|███▏      | 63/200 [1:00:36<2:13:45, 58.58s/it]"
     ]
    },
    {
     "name": "stdout",
     "output_type": "stream",
     "text": [
      "Epoch:  62 Val loss: 170.09161375992235 R square: 0.9581527\n"
     ]
    },
    {
     "name": "stderr",
     "output_type": "stream",
     "text": [
      " 32%|███▏      | 64/200 [1:01:31<2:10:26, 57.55s/it]"
     ]
    },
    {
     "name": "stdout",
     "output_type": "stream",
     "text": [
      "Epoch:  63 Val loss: 158.09960081398577 R square: 0.9611031\n"
     ]
    },
    {
     "name": "stderr",
     "output_type": "stream",
     "text": [
      " 32%|███▎      | 65/200 [1:02:30<2:10:27, 57.98s/it]"
     ]
    },
    {
     "name": "stdout",
     "output_type": "stream",
     "text": [
      "Epoch:  64 Val loss: 162.51371733414743 R square: 0.9600171\n"
     ]
    },
    {
     "name": "stderr",
     "output_type": "stream",
     "text": [
      " 33%|███▎      | 66/200 [1:03:26<2:08:20, 57.47s/it]"
     ]
    },
    {
     "name": "stdout",
     "output_type": "stream",
     "text": [
      "Epoch:  65 Val loss: 165.33563949902432 R square: 0.9593228\n"
     ]
    },
    {
     "name": "stderr",
     "output_type": "stream",
     "text": [
      " 34%|███▎      | 67/200 [1:04:25<2:08:23, 57.92s/it]"
     ]
    },
    {
     "name": "stdout",
     "output_type": "stream",
     "text": [
      "Epoch:  66 Val loss: 163.23474401369864 R square: 0.9598397\n"
     ]
    },
    {
     "name": "stderr",
     "output_type": "stream",
     "text": [
      " 34%|███▍      | 68/200 [1:05:20<2:05:33, 57.07s/it]"
     ]
    },
    {
     "name": "stdout",
     "output_type": "stream",
     "text": [
      "Epoch:  67 Val loss: 168.31912755205616 R square: 0.9585888\n"
     ]
    },
    {
     "name": "stderr",
     "output_type": "stream",
     "text": [
      " 34%|███▍      | 69/200 [1:06:19<2:05:40, 57.56s/it]"
     ]
    },
    {
     "name": "stdout",
     "output_type": "stream",
     "text": [
      "Epoch:  68 Val loss: 185.30267477156818 R square: 0.9544104\n"
     ]
    },
    {
     "name": "stderr",
     "output_type": "stream",
     "text": [
      " 35%|███▌      | 70/200 [1:07:18<2:05:42, 58.02s/it]"
     ]
    },
    {
     "name": "stdout",
     "output_type": "stream",
     "text": [
      "Epoch:  69 Val loss: 151.8258750877787 R square: 0.9626466\n"
     ]
    },
    {
     "name": "stderr",
     "output_type": "stream",
     "text": [
      " 36%|███▌      | 71/200 [1:08:17<2:05:34, 58.41s/it]"
     ]
    },
    {
     "name": "stdout",
     "output_type": "stream",
     "text": [
      "Epoch:  70 Val loss: 146.3266343801528 R square: 0.96399957\n"
     ]
    },
    {
     "name": "stderr",
     "output_type": "stream",
     "text": [
      " 36%|███▌      | 72/200 [1:09:16<2:05:10, 58.68s/it]"
     ]
    },
    {
     "name": "stdout",
     "output_type": "stream",
     "text": [
      "Epoch:  71 Val loss: 143.5543464188355 R square: 0.9646816\n"
     ]
    },
    {
     "name": "stderr",
     "output_type": "stream",
     "text": [
      " 36%|███▋      | 73/200 [1:10:15<2:04:19, 58.73s/it]"
     ]
    },
    {
     "name": "stdout",
     "output_type": "stream",
     "text": [
      "Epoch:  72 Val loss: 146.00193595442136 R square: 0.96407944\n"
     ]
    },
    {
     "name": "stderr",
     "output_type": "stream",
     "text": [
      " 37%|███▋      | 74/200 [1:11:15<2:04:06, 59.10s/it]"
     ]
    },
    {
     "name": "stdout",
     "output_type": "stream",
     "text": [
      "Epoch:  73 Val loss: 202.1088948711336 R square: 0.95027554\n"
     ]
    },
    {
     "name": "stderr",
     "output_type": "stream",
     "text": [
      " 38%|███▊      | 75/200 [1:12:15<2:03:20, 59.20s/it]"
     ]
    },
    {
     "name": "stdout",
     "output_type": "stream",
     "text": [
      "Epoch:  74 Val loss: 187.0632094475275 R square: 0.9539772\n"
     ]
    },
    {
     "name": "stderr",
     "output_type": "stream",
     "text": [
      " 38%|███▊      | 76/200 [1:13:14<2:02:29, 59.27s/it]"
     ]
    },
    {
     "name": "stdout",
     "output_type": "stream",
     "text": [
      "Epoch:  75 Val loss: 162.66548197765707 R square: 0.9599797\n"
     ]
    },
    {
     "name": "stderr",
     "output_type": "stream",
     "text": [
      " 38%|███▊      | 77/200 [1:14:13<2:01:08, 59.10s/it]"
     ]
    },
    {
     "name": "stdout",
     "output_type": "stream",
     "text": [
      "Epoch:  76 Val loss: 155.31120011760794 R square: 0.9617891\n"
     ]
    },
    {
     "name": "stderr",
     "output_type": "stream",
     "text": [
      " 39%|███▉      | 78/200 [1:15:12<2:00:10, 59.10s/it]"
     ]
    },
    {
     "name": "stdout",
     "output_type": "stream",
     "text": [
      "Epoch:  77 Val loss: 158.59100261031637 R square: 0.9609822\n"
     ]
    },
    {
     "name": "stderr",
     "output_type": "stream",
     "text": [
      " 40%|███▉      | 79/200 [1:32:10<11:39:27, 346.84s/it]"
     ]
    },
    {
     "name": "stdout",
     "output_type": "stream",
     "text": [
      "Epoch:  78 Val loss: 174.01469231876672 R square: 0.95718753\n"
     ]
    },
    {
     "name": "stderr",
     "output_type": "stream",
     "text": [
      " 40%|████      | 80/200 [1:32:49<8:28:41, 254.35s/it] "
     ]
    },
    {
     "name": "stdout",
     "output_type": "stream",
     "text": [
      "Epoch:  79 Val loss: 148.3647652346566 R square: 0.9634981\n"
     ]
    },
    {
     "name": "stderr",
     "output_type": "stream",
     "text": [
      " 40%|████      | 81/200 [1:33:31<6:18:12, 190.69s/it]"
     ]
    },
    {
     "name": "stdout",
     "output_type": "stream",
     "text": [
      "Epoch:  80 Val loss: 156.37738284260112 R square: 0.9615268\n"
     ]
    },
    {
     "name": "stderr",
     "output_type": "stream",
     "text": [
      " 41%|████      | 82/200 [1:34:09<4:45:03, 144.95s/it]"
     ]
    },
    {
     "name": "stdout",
     "output_type": "stream",
     "text": [
      "Epoch:  81 Val loss: 148.1008002946154 R square: 0.9635631\n"
     ]
    },
    {
     "name": "stderr",
     "output_type": "stream",
     "text": [
      " 42%|████▏     | 83/200 [1:34:47<3:40:07, 112.88s/it]"
     ]
    },
    {
     "name": "stdout",
     "output_type": "stream",
     "text": [
      "Epoch:  82 Val loss: 158.3597664762464 R square: 0.96103907\n"
     ]
    },
    {
     "name": "stderr",
     "output_type": "stream",
     "text": [
      " 42%|████▏     | 84/200 [1:35:29<2:56:57, 91.53s/it] "
     ]
    },
    {
     "name": "stdout",
     "output_type": "stream",
     "text": [
      "Epoch:  83 Val loss: 147.61102538229056 R square: 0.96368355\n"
     ]
    },
    {
     "name": "stderr",
     "output_type": "stream",
     "text": [
      " 42%|████▎     | 85/200 [1:36:11<2:26:59, 76.69s/it]"
     ]
    },
    {
     "name": "stdout",
     "output_type": "stream",
     "text": [
      "Epoch:  84 Val loss: 168.3662083400656 R square: 0.9585772\n"
     ]
    },
    {
     "name": "stderr",
     "output_type": "stream",
     "text": [
      " 43%|████▎     | 86/200 [1:36:54<2:06:30, 66.58s/it]"
     ]
    },
    {
     "name": "stdout",
     "output_type": "stream",
     "text": [
      "Epoch:  85 Val loss: 149.44909883106715 R square: 0.9632313\n"
     ]
    },
    {
     "name": "stderr",
     "output_type": "stream",
     "text": [
      " 44%|████▎     | 87/200 [1:37:36<1:51:39, 59.29s/it]"
     ]
    },
    {
     "name": "stdout",
     "output_type": "stream",
     "text": [
      "Epoch:  86 Val loss: 156.24150501400317 R square: 0.9615602\n"
     ]
    },
    {
     "name": "stderr",
     "output_type": "stream",
     "text": [
      " 44%|████▍     | 88/200 [1:38:17<1:40:06, 53.63s/it]"
     ]
    },
    {
     "name": "stdout",
     "output_type": "stream",
     "text": [
      "Epoch:  87 Val loss: 150.46692040282923 R square: 0.9629809\n"
     ]
    },
    {
     "name": "stderr",
     "output_type": "stream",
     "text": [
      " 44%|████▍     | 89/200 [1:38:55<1:30:50, 49.10s/it]"
     ]
    },
    {
     "name": "stdout",
     "output_type": "stream",
     "text": [
      "Epoch:  88 Val loss: 159.02467073918484 R square: 0.96087545\n"
     ]
    },
    {
     "name": "stderr",
     "output_type": "stream",
     "text": [
      " 45%|████▌     | 90/200 [1:39:37<1:25:54, 46.86s/it]"
     ]
    },
    {
     "name": "stdout",
     "output_type": "stream",
     "text": [
      "Epoch:  89 Val loss: 156.5904445098685 R square: 0.96147436\n"
     ]
    },
    {
     "name": "stderr",
     "output_type": "stream",
     "text": [
      " 46%|████▌     | 91/200 [1:40:16<1:21:04, 44.63s/it]"
     ]
    },
    {
     "name": "stdout",
     "output_type": "stream",
     "text": [
      "Epoch:  90 Val loss: 148.87726502750917 R square: 0.963372\n"
     ]
    },
    {
     "name": "stderr",
     "output_type": "stream",
     "text": [
      " 46%|████▌     | 91/200 [1:40:58<2:00:56, 66.57s/it]"
     ]
    },
    {
     "name": "stdout",
     "output_type": "stream",
     "text": [
      "Early stopping triggered!\n"
     ]
    },
    {
     "name": "stderr",
     "output_type": "stream",
     "text": [
      "\n"
     ]
    }
   ],
   "source": [
    "import torch.nn as nn\n",
    "hidden_dim = study.best_params['hidden_dim']\n",
    "dropout = study.best_params['dropout']\n",
    "learning_rate = study.best_params['learning_rate']\n",
    "batch_size = study.best_params['batch_size']\n",
    "k = study.best_params['k']\n",
    "\n",
    "activation = nn.ReLU()\n",
    "\n",
    "patience = 20\n",
    "edge_index, edge_weight = build_spatial_graph(spatial_df, k=k)\n",
    "edge_index = edge_index.to(device)\n",
    "edge_weight = edge_weight.to(device)\n",
    "model = SpatioTemporalGNN(\n",
    "    spatial_features=len(spatial_cols),\n",
    "    temporal_features=len(temporal_cols),\n",
    "    hidden_dim=hidden_dim,\n",
    "    dropout=dropout,\n",
    "    activation=activation\n",
    ").to(device)\n",
    "optimizer = torch.optim.Adam(model.parameters(), lr=learning_rate)\n",
    "best_val = float('inf')\n",
    "wait = 0\n",
    "for epoch in tqdm(range(200)):\n",
    "    run_epoch(train_batches, model, spatial_x, edge_index, edge_weight, optimizer, batch_size=batch_size)\n",
    "    val_loss, yv, pv = run_epoch(val_batches, model, spatial_x, edge_index, edge_weight, optimizer=None, batch_size=batch_size, collect_pred=True)\n",
    "    if val_loss < best_val - 1e-4:\n",
    "        best_val, wait = val_loss, 0\n",
    "        torch.save(model.state_dict(), \"best_gnn.pt\")\n",
    "    else:\n",
    "        wait += 1\n",
    "        if wait >= patience:\n",
    "            print(\"Early stopping triggered!\")\n",
    "            break\n",
    "    r2 = 1 - np.sum((yv - pv)**2) / np.sum((yv - yv.mean())**2)\n",
    "    print(\"Epoch: \", epoch,\"Val loss:\",val_loss, \"R square:\", r2)\n",
    "    \n"
   ]
  },
  {
   "cell_type": "code",
   "execution_count": null,
   "metadata": {
    "trusted": true
   },
   "outputs": [],
   "source": [
    "model = SpatioTemporalGNN(\n",
    "        spatial_features=len(spatial_cols),\n",
    "        temporal_features=len(temporal_cols),\n",
    "        hidden_dim=hidden_dim,\n",
    "        dropout=dropout,\n",
    "        activation=activation\n",
    "    )\n",
    "# load the weights\n",
    "model.load_state_dict(torch.load(\"best_gnn.pt\"))\n",
    "val_loss, y_true, y_pred = run_epoch(test_batches, model,\n",
    "                                 spatial_x, edge_index, edge_weight,\n",
    "                                 optimizer=None, collect_pred=True)\n",
    "\n"
   ]
  },
  {
   "cell_type": "code",
   "execution_count": null,
   "metadata": {},
   "outputs": [
    {
     "name": "stdout",
     "output_type": "stream",
     "text": [
      "Adjusted R square: 0.9419\n",
      "MSE: 223.6581\n"
     ]
    }
   ],
   "source": [
    "# calculate adjusted R square\n",
    "n = len(y_true)  # number of samples\n",
    "p = len(spatial_cols) + len(temporal_cols)  # number of features\n",
    "r2 = 1 - np.sum((y_true - y_pred)**2) / np.sum((y_true - y_true.mean())**2)\n",
    "adjusted_r2 = 1 - (1-r2)*(n-1)/(n-p-1)\n",
    "\n",
    "# calculate MSE\n",
    "mse = np.mean((y_true - y_pred)**2)\n",
    "\n",
    "print(f\"Adjusted R square: {adjusted_r2:.4f}\")\n",
    "print(f\"MSE: {mse:.4f}\")"
   ]
  },
  {
   "cell_type": "code",
   "execution_count": null,
   "metadata": {
    "trusted": true
   },
   "outputs": [],
   "source": [
    "from torch_geometric.explain import Explainer, GNNExplainer\n",
    "from torch_geometric.data import Data\n",
    "import torch.nn as nn\n",
    "\n",
    "# wrapper: retain only the necessary parameters\n",
    "class ModelWrapper(nn.Module):\n",
    "    def __init__(self, original_model, spatial_dim):\n",
    "        super().__init__()\n",
    "        self.original_model = original_model\n",
    "        self.spatial_dim = spatial_dim\n",
    "\n",
    "    def forward(self, x, edge_index, edge_attr=None):\n",
    "        spatial_part  = x[:, :self.spatial_dim]\n",
    "        temporal_part = x[:, self.spatial_dim:]\n",
    "        return self.original_model(spatial_part,\n",
    "                                   temporal_part,\n",
    "                                   edge_index,\n",
    "                                   edge_attr.squeeze(-1) if edge_attr is not None else None)\n",
    "\n",
    "# ───────── Select a single time slice ─────────\n",
    "temporal_dim = len(val_batches[0]['temporal_features'][0])\n",
    "spatial_dim  = len(spatial_cols)\n",
    "N            = spatial_x.shape[0]\n",
    "\n",
    "# temporal feature matrix for the entire graph\n",
    "temporal_x = torch.from_numpy(val_batches[0]['temporal_features']) \\\n",
    "                     .to(device, dtype=spatial_x.dtype)      # [N, temporal_dim]\n",
    "\n",
    "# merge\n",
    "combined_x = torch.cat([spatial_x, temporal_x], dim=1)       # [N, d_s + d_t]\n",
    "\n",
    "# turn edge_attr into [E,1]\n",
    "edge_attr = edge_weight.unsqueeze(1).to(device)              # [E,1]\n",
    "\n",
    "# data object\n",
    "data = Data(x=combined_x,\n",
    "            edge_index=edge_index.to(device),\n",
    "            edge_attr=edge_attr).to(device)\n",
    "\n",
    "# construct the model wrapper\n",
    "wrapped_model = ModelWrapper(original_model=model,\n",
    "                             spatial_dim=spatial_dim).eval()\n",
    "\n",
    "# explainer settings\n",
    "explainer = Explainer(\n",
    "    model=wrapped_model,\n",
    "    algorithm=GNNExplainer(epochs=200),\n",
    "    explanation_type='model',\n",
    "    node_mask_type='attributes',\n",
    "    edge_mask_type=None, \n",
    "    model_config=dict(\n",
    "        mode='regression',\n",
    "        task_level='node',\n",
    "        return_type='raw',\n",
    "    ),\n",
    ")\n"
   ]
  },
  {
   "cell_type": "code",
   "execution_count": 38,
   "metadata": {},
   "outputs": [
    {
     "data": {
      "text/plain": [
       "tensor([[ 910.1069],\n",
       "        [ 545.3419],\n",
       "        [ 334.4463],\n",
       "        [ 307.9329],\n",
       "        [ 268.4286],\n",
       "        [ 234.8363],\n",
       "        [ 207.0784],\n",
       "        [ 205.6760],\n",
       "        [ 380.2831],\n",
       "        [ 361.7400],\n",
       "        [ 302.7566],\n",
       "        [ 297.4268],\n",
       "        [ 292.2378],\n",
       "        [ 283.5924],\n",
       "        [ 196.0328],\n",
       "        [ 192.7827],\n",
       "        [ 836.7688],\n",
       "        [ 570.6094],\n",
       "        [ 523.4240],\n",
       "        [ 472.8516],\n",
       "        [ 386.8161],\n",
       "        [ 352.1083],\n",
       "        [ 340.2679],\n",
       "        [ 313.6955],\n",
       "        [1387.5513],\n",
       "        [ 410.8413],\n",
       "        [ 293.4470],\n",
       "        [ 221.9172],\n",
       "        [ 208.5121],\n",
       "        [ 203.4168],\n",
       "        [ 896.2934],\n",
       "        [ 489.7138],\n",
       "        [ 476.1689],\n",
       "        [ 414.5383],\n",
       "        [ 413.5481],\n",
       "        [ 383.4825],\n",
       "        [ 265.0134],\n",
       "        [ 258.3971],\n",
       "        [3324.1125],\n",
       "        [1136.2903],\n",
       "        [ 824.6459],\n",
       "        [ 667.1858],\n",
       "        [ 571.3446],\n",
       "        [ 468.5962],\n",
       "        [ 458.2241],\n",
       "        [ 454.8980],\n",
       "        [ 781.6078],\n",
       "        [ 318.7284],\n",
       "        [ 254.8923],\n",
       "        [ 249.2805],\n",
       "        [ 247.5392],\n",
       "        [ 166.0910],\n",
       "        [ 153.5005],\n",
       "        [ 145.5851],\n",
       "        [ 963.2320],\n",
       "        [ 338.2821],\n",
       "        [ 259.1683],\n",
       "        [ 257.1272],\n",
       "        [ 245.6083],\n",
       "        [ 243.8669],\n",
       "        [1028.9613],\n",
       "        [ 435.4829],\n",
       "        [ 324.4343],\n",
       "        [ 276.6646],\n",
       "        [ 164.6676],\n",
       "        [ 158.9747],\n",
       "        [ 115.6198],\n",
       "        [ 108.8560],\n",
       "        [ 913.3277],\n",
       "        [ 373.0798],\n",
       "        [ 270.9142],\n",
       "        [ 184.5782],\n",
       "        [ 162.4402],\n",
       "        [ 140.3281],\n",
       "        [ 133.8669],\n",
       "        [1048.9189],\n",
       "        [ 887.4613],\n",
       "        [ 638.4467],\n",
       "        [ 433.1481],\n",
       "        [ 417.7378],\n",
       "        [ 417.4756],\n",
       "        [ 414.6238],\n",
       "        [2328.1011],\n",
       "        [ 707.7972],\n",
       "        [ 405.3336],\n",
       "        [ 321.7631],\n",
       "        [ 308.0951],\n",
       "        [ 250.0344],\n",
       "        [ 228.8168],\n",
       "        [ 215.1966],\n",
       "        [1136.5839],\n",
       "        [ 604.3427],\n",
       "        [ 458.7301],\n",
       "        [ 363.6267],\n",
       "        [ 322.5840],\n",
       "        [ 291.6630],\n",
       "        [ 242.4950],\n",
       "        [ 214.6496],\n",
       "        [1662.7454],\n",
       "        [1618.8098],\n",
       "        [ 824.6459],\n",
       "        [ 671.1409],\n",
       "        [ 518.0861],\n",
       "        [ 487.1041],\n",
       "        [ 448.9363],\n",
       "        [ 406.5041],\n",
       "        [ 768.1180],\n",
       "        [ 440.9010],\n",
       "        [ 356.6292],\n",
       "        [ 327.4309],\n",
       "        [ 322.5387],\n",
       "        [ 321.4171],\n",
       "        [ 318.4891],\n",
       "        [ 304.6403],\n",
       "        [ 761.0341],\n",
       "        [ 478.7155],\n",
       "        [ 245.8405],\n",
       "        [ 212.9830],\n",
       "        [ 211.8811],\n",
       "        [ 191.0315],\n",
       "        [ 170.6184],\n",
       "        [ 168.5782],\n",
       "        [ 344.3407],\n",
       "        [ 340.4414],\n",
       "        [ 222.7105],\n",
       "        [ 140.3829],\n",
       "        [ 139.6832],\n",
       "        [ 480.6248],\n",
       "        [ 470.7251],\n",
       "        [ 441.6313],\n",
       "        [ 374.2484],\n",
       "        [ 367.2675],\n",
       "        [ 223.5370],\n",
       "        [1811.0118],\n",
       "        [1408.0317],\n",
       "        [ 490.2373],\n",
       "        [ 295.5877],\n",
       "        [ 283.0647],\n",
       "        [ 239.1900],\n",
       "        [1083.8239],\n",
       "        [ 379.3407],\n",
       "        [ 344.6228],\n",
       "        [ 322.4649],\n",
       "        [ 256.7134],\n",
       "        [ 578.6440],\n",
       "        [ 230.9167],\n",
       "        [ 209.0569],\n",
       "        [ 187.9367],\n",
       "        [ 852.2452],\n",
       "        [ 356.8676],\n",
       "        [ 283.7567],\n",
       "        [ 228.9283],\n",
       "        [ 221.9785],\n",
       "        [ 220.3557],\n",
       "        [ 215.6355],\n",
       "        [ 268.8133],\n",
       "        [ 261.7720],\n",
       "        [ 257.2658],\n",
       "        [ 326.9563],\n",
       "        [ 139.2023],\n",
       "        [ 116.4636],\n",
       "        [ 114.3850],\n",
       "        [ 101.9871],\n",
       "        [ 981.1469],\n",
       "        [ 405.7638],\n",
       "        [ 366.1358],\n",
       "        [ 322.7318],\n",
       "        [ 277.5797],\n",
       "        [ 252.5728],\n",
       "        [ 234.0688],\n",
       "        [1683.1106],\n",
       "        [ 757.0112],\n",
       "        [ 575.0356],\n",
       "        [ 545.1393],\n",
       "        [ 525.1750],\n",
       "        [ 516.7976],\n",
       "        [1557.7533],\n",
       "        [ 729.8687],\n",
       "        [ 709.0594],\n",
       "        [ 508.8680],\n",
       "        [ 445.8558],\n",
       "        [ 365.9666],\n",
       "        [ 359.8520],\n",
       "        [ 349.1194],\n",
       "        [1169.4507],\n",
       "        [ 474.7929],\n",
       "        [ 460.7463],\n",
       "        [ 279.0674],\n",
       "        [ 269.0798],\n",
       "        [ 244.8856],\n",
       "        [ 226.1142],\n",
       "        [ 576.4191],\n",
       "        [ 439.9144],\n",
       "        [ 367.1610],\n",
       "        [ 285.2942],\n",
       "        [ 276.0367],\n",
       "        [ 228.2029],\n",
       "        [ 208.7569],\n",
       "        [ 939.8065],\n",
       "        [ 782.8523],\n",
       "        [ 757.0328],\n",
       "        [ 485.9353],\n",
       "        [ 459.7325],\n",
       "        [ 308.3000],\n",
       "        [ 224.2525],\n",
       "        [ 221.1935],\n",
       "        [ 609.7448],\n",
       "        [ 404.6428],\n",
       "        [ 335.1179],\n",
       "        [ 317.4539],\n",
       "        [ 291.7387],\n",
       "        [ 251.1509],\n",
       "        [1082.7433],\n",
       "        [ 621.8021],\n",
       "        [ 509.2175],\n",
       "        [ 495.1587],\n",
       "        [ 422.0800],\n",
       "        [ 408.0545],\n",
       "        [ 392.9796],\n",
       "        [ 360.0455],\n",
       "        [1408.3110],\n",
       "        [ 893.2845],\n",
       "        [ 571.5685],\n",
       "        [ 565.5497],\n",
       "        [ 530.3193],\n",
       "        [ 505.8964],\n",
       "        [ 456.2976],\n",
       "        [1750.0820],\n",
       "        [ 659.5812],\n",
       "        [ 614.4227],\n",
       "        [ 501.8856],\n",
       "        [ 495.8034],\n",
       "        [ 495.1162],\n",
       "        [ 490.3788],\n",
       "        [1952.1720],\n",
       "        [ 501.5762],\n",
       "        [ 501.2988],\n",
       "        [ 496.5241],\n",
       "        [ 474.5256],\n",
       "        [ 452.5118],\n",
       "        [ 395.9783],\n",
       "        [ 355.3772],\n",
       "        [ 501.9615],\n",
       "        [ 358.9189],\n",
       "        [ 233.2517],\n",
       "        [ 231.5926],\n",
       "        [ 222.6973],\n",
       "        [ 399.9104],\n",
       "        [ 397.5994],\n",
       "        [ 322.3426],\n",
       "        [ 308.3938],\n",
       "        [ 288.1414],\n",
       "        [1080.2135],\n",
       "        [ 899.1148],\n",
       "        [ 830.4548],\n",
       "        [ 829.8541],\n",
       "        [ 625.5868],\n",
       "        [ 446.8161],\n",
       "        [ 434.2739],\n",
       "        [ 431.3833],\n",
       "        [1683.1106],\n",
       "        [1235.3213],\n",
       "        [ 798.9780],\n",
       "        [ 419.3766],\n",
       "        [ 403.2225],\n",
       "        [ 389.7074],\n",
       "        [ 381.9020],\n",
       "        [ 346.0705],\n",
       "        [ 596.9325],\n",
       "        [ 537.2541],\n",
       "        [ 428.6953],\n",
       "        [ 290.5479],\n",
       "        [ 286.1058],\n",
       "        [ 260.3513],\n",
       "        [ 246.4034],\n",
       "        [ 667.0522],\n",
       "        [ 514.1745],\n",
       "        [ 469.4629],\n",
       "        [ 448.6832],\n",
       "        [ 408.7254],\n",
       "        [ 361.5886],\n",
       "        [5070.2012],\n",
       "        [1193.1000],\n",
       "        [ 860.5036],\n",
       "        [ 530.5581],\n",
       "        [ 398.2421],\n",
       "        [ 394.3217],\n",
       "        [ 391.3302],\n",
       "        [ 375.2458],\n",
       "        [1548.9456],\n",
       "        [1018.5010],\n",
       "        [ 536.1025],\n",
       "        [ 389.2377],\n",
       "        [ 383.8779],\n",
       "        [ 368.1924],\n",
       "        [ 354.1715],\n",
       "        [1550.4342],\n",
       "        [ 611.1894],\n",
       "        [ 517.4406],\n",
       "        [ 301.8944],\n",
       "        [ 299.3797],\n",
       "        [1278.2750],\n",
       "        [ 690.0327],\n",
       "        [ 475.1948],\n",
       "        [ 441.3731],\n",
       "        [ 426.6924],\n",
       "        [ 269.6505],\n",
       "        [ 244.2769],\n",
       "        [ 237.1760],\n",
       "        [1421.9127],\n",
       "        [ 557.4081],\n",
       "        [ 465.3983],\n",
       "        [ 427.0386],\n",
       "        [1441.8745],\n",
       "        [ 526.3085],\n",
       "        [ 508.3745],\n",
       "        [ 459.3055],\n",
       "        [ 456.1884],\n",
       "        [ 423.6794],\n",
       "        [ 421.1282],\n",
       "        [4969.0400],\n",
       "        [ 768.7533],\n",
       "        [ 536.3878],\n",
       "        [ 464.3134],\n",
       "        [ 452.3961],\n",
       "        [1442.1743],\n",
       "        [1185.1136],\n",
       "        [ 763.8263],\n",
       "        [ 743.5201],\n",
       "        [ 375.0557],\n",
       "        [1525.5179],\n",
       "        [1296.5164],\n",
       "        [ 441.2485],\n",
       "        [ 402.4511],\n",
       "        [ 394.4904],\n",
       "        [ 393.0798],\n",
       "        [ 534.4308],\n",
       "        [ 378.9156],\n",
       "        [ 325.5240],\n",
       "        [ 311.0905],\n",
       "        [ 268.4431],\n",
       "        [ 261.1171],\n",
       "        [ 254.7359],\n",
       "        [ 687.1595],\n",
       "        [ 588.4390],\n",
       "        [ 456.5782],\n",
       "        [ 432.8315],\n",
       "        [1169.4507],\n",
       "        [ 547.0774],\n",
       "        [ 451.6388],\n",
       "        [ 421.9071],\n",
       "        [ 409.5301],\n",
       "        [1050.5385],\n",
       "        [ 526.5127],\n",
       "        [ 525.1750],\n",
       "        [ 384.9800],\n",
       "        [ 367.8858],\n",
       "        [ 362.9937],\n",
       "        [ 337.3991],\n",
       "        [ 794.4268],\n",
       "        [ 657.3686],\n",
       "        [ 614.8755],\n",
       "        [ 612.3916],\n",
       "        [ 586.8055],\n",
       "        [ 474.8143],\n",
       "        [ 440.4987],\n",
       "        [ 487.9442],\n",
       "        [ 473.7050],\n",
       "        [ 443.6608],\n",
       "        [ 375.1771],\n",
       "        [ 355.6827],\n",
       "        [ 342.4396],\n",
       "        [ 327.4450],\n",
       "        [ 318.0378],\n",
       "        [ 312.7047],\n",
       "        [ 728.8212],\n",
       "        [ 490.1372],\n",
       "        [ 475.6676],\n",
       "        [ 416.5763],\n",
       "        [4559.6074],\n",
       "        [2538.3655],\n",
       "        [ 818.3262],\n",
       "        [ 629.6285],\n",
       "        [ 515.4639],\n",
       "        [ 491.4435],\n",
       "        [ 486.4467],\n",
       "        [9284.7666],\n",
       "        [1024.3622],\n",
       "        [ 563.4540],\n",
       "        [ 416.9781],\n",
       "        [ 396.4479],\n",
       "        [ 372.0533],\n",
       "        [ 325.0645],\n",
       "        [1048.8613],\n",
       "        [ 597.9347],\n",
       "        [ 429.6557],\n",
       "        [ 408.5719],\n",
       "        [ 383.3416],\n",
       "        [ 336.6317],\n",
       "        [1397.2697],\n",
       "        [ 761.4974],\n",
       "        [ 350.9117],\n",
       "        [ 343.4561],\n",
       "        [ 340.5994],\n",
       "        [ 453.3062],\n",
       "        [ 385.9365],\n",
       "        [ 340.7496],\n",
       "        [ 303.0081],\n",
       "        [ 268.6726],\n",
       "        [2847.8589],\n",
       "        [ 541.3954],\n",
       "        [ 400.0000],\n",
       "        [ 374.7948],\n",
       "        [ 300.0393],\n",
       "        [ 473.0896],\n",
       "        [ 414.3354],\n",
       "        [ 412.9799],\n",
       "        [ 291.5006],\n",
       "        [ 421.8246],\n",
       "        [ 337.6048],\n",
       "        [ 324.8586],\n",
       "        [ 319.0203],\n",
       "        [ 307.2737],\n",
       "        [ 299.7386],\n",
       "        [3641.7852],\n",
       "        [ 789.8539],\n",
       "        [ 610.6080],\n",
       "        [ 535.6716],\n",
       "        [ 391.4801],\n",
       "        [ 349.7188],\n",
       "        [1041.3842],\n",
       "        [ 830.2830],\n",
       "        [ 684.1456],\n",
       "        [5050.7627],\n",
       "        [ 350.8686],\n",
       "        [ 271.6409],\n",
       "        [ 258.8026],\n",
       "        [ 197.8078],\n",
       "        [ 192.6864],\n",
       "        [ 188.9843],\n",
       "        [ 181.5695],\n",
       "        [ 418.8355],\n",
       "        [ 324.0593],\n",
       "        [ 246.3009],\n",
       "        [ 225.0552],\n",
       "        [ 205.8520],\n",
       "        [ 199.6513],\n",
       "        [ 192.2604],\n",
       "        [ 190.9552],\n",
       "        [ 349.6055],\n",
       "        [ 259.1944],\n",
       "        [ 246.5111],\n",
       "        [ 205.2268],\n",
       "        [ 193.3104],\n",
       "        [ 191.8252],\n",
       "        [ 175.9655],\n",
       "        [ 292.6066],\n",
       "        [ 189.3885],\n",
       "        [ 149.0306],\n",
       "        [ 142.2051],\n",
       "        [ 137.6661],\n",
       "        [ 134.6857],\n",
       "        [1273.6012],\n",
       "        [ 869.0397],\n",
       "        [ 388.4674],\n",
       "        [ 340.4414],\n",
       "        [ 316.5873],\n",
       "        [ 517.9609],\n",
       "        [ 363.5498],\n",
       "        [ 309.3249],\n",
       "        [ 270.0514],\n",
       "        [2079.2761],\n",
       "        [ 515.9165],\n",
       "        [ 498.4077],\n",
       "        [ 425.3009],\n",
       "        [ 396.2144],\n",
       "        [ 582.4002],\n",
       "        [ 428.2861],\n",
       "        [ 230.7009],\n",
       "        [ 227.3091],\n",
       "        [ 197.7022],\n",
       "        [ 221.5547],\n",
       "        [ 576.0747],\n",
       "        [ 541.1734],\n",
       "        [ 485.6429],\n",
       "        [ 431.2108],\n",
       "        [ 430.1523],\n",
       "        [ 840.2175],\n",
       "        [ 362.8790],\n",
       "        [ 274.8311],\n",
       "        [ 264.5169],\n",
       "        [ 571.0930],\n",
       "        [ 411.1190],\n",
       "        [ 364.4469],\n",
       "        [ 355.5771],\n",
       "        [1010.3072],\n",
       "        [ 864.8694],\n",
       "        [ 330.8846],\n",
       "        [ 328.8549],\n",
       "        [ 293.6000],\n",
       "        [ 280.8623],\n",
       "        [ 190.3381],\n",
       "        [ 211.9496],\n",
       "        [ 189.8323],\n",
       "        [ 165.7218],\n",
       "        [ 153.6171],\n",
       "        [ 153.2321],\n",
       "        [ 176.5922],\n",
       "        [ 138.9927],\n",
       "        [ 127.0867],\n",
       "        [ 122.6385],\n",
       "        [ 109.2737],\n",
       "        [  99.4565],\n",
       "        [ 192.0518],\n",
       "        [ 124.1038],\n",
       "        [ 121.4278],\n",
       "        [ 279.1663],\n",
       "        [ 205.5986],\n",
       "        [ 186.7121],\n",
       "        [ 166.2456],\n",
       "        [ 490.1431],\n",
       "        [ 256.9243],\n",
       "        [ 477.7639],\n",
       "        [ 389.0933],\n",
       "        [ 370.0051],\n",
       "        [ 360.7218],\n",
       "        [ 335.5081],\n",
       "        [ 461.7128],\n",
       "        [ 346.0125],\n",
       "        [ 305.9664],\n",
       "        [ 204.7681],\n",
       "        [ 199.3623],\n",
       "        [ 189.8545],\n",
       "        [ 718.3100],\n",
       "        [ 424.6103],\n",
       "        [ 325.0988],\n",
       "        [ 298.2790],\n",
       "        [ 288.3749],\n",
       "        [ 272.6487],\n",
       "        [ 629.6910],\n",
       "        [ 574.2481],\n",
       "        [ 370.3602],\n",
       "        [2678.3579],\n",
       "        [ 670.5975],\n",
       "        [ 382.2143],\n",
       "        [ 366.7558],\n",
       "        [ 340.2502],\n",
       "        [ 652.8144],\n",
       "        [ 386.1695],\n",
       "        [ 376.5791],\n",
       "        [ 380.8647],\n",
       "        [ 374.2983],\n",
       "        [ 337.7723],\n",
       "        [ 763.0920],\n",
       "        [ 547.6349],\n",
       "        [ 379.8220],\n",
       "        [ 556.4062],\n",
       "        [ 457.4851],\n",
       "        [ 431.6243],\n",
       "        [ 363.3410],\n",
       "        [ 356.8062],\n",
       "        [ 335.8485],\n",
       "        [ 322.6646],\n",
       "        [ 482.1700],\n",
       "        [ 258.8174],\n",
       "        [ 249.9719],\n",
       "        [ 240.8800],\n",
       "        [ 416.7933],\n",
       "        [ 292.5115],\n",
       "        [ 239.2940],\n",
       "        [ 238.0817],\n",
       "        [ 463.9485],\n",
       "        [ 406.6116],\n",
       "        [ 373.9239],\n",
       "        [ 364.6407],\n",
       "        [ 270.5550],\n",
       "        [ 218.2792],\n",
       "        [ 204.8905],\n",
       "        [ 185.0821],\n",
       "        [ 181.4165],\n",
       "        [5725.9834],\n",
       "        [ 747.6440],\n",
       "        [ 577.7741],\n",
       "        [ 458.6963],\n",
       "        [ 439.6932],\n",
       "        [ 691.8303],\n",
       "        [ 538.7177],\n",
       "        [ 449.5120],\n",
       "        [ 433.7629],\n",
       "        [2224.9707],\n",
       "        [ 654.2099],\n",
       "        [ 385.9163],\n",
       "        [ 349.2897],\n",
       "        [ 309.4063],\n",
       "        [ 627.1472],\n",
       "        [1357.1882],\n",
       "        [ 391.2344],\n",
       "        [ 376.7260],\n",
       "        [ 273.4886],\n",
       "        [ 236.7967],\n",
       "        [ 218.4588],\n",
       "        [ 208.5883],\n",
       "        [6565.3218],\n",
       "        [ 525.2692],\n",
       "        [ 492.5451],\n",
       "        [ 440.9739],\n",
       "        [ 671.0049],\n",
       "        [ 513.7672],\n",
       "        [ 507.6731],\n",
       "        [ 499.3762],\n",
       "        [ 597.6463],\n",
       "        [ 512.6655],\n",
       "        [ 591.8507],\n",
       "        [ 510.3835],\n",
       "        [ 440.8710],\n",
       "        [ 420.2645],\n",
       "        [ 411.0079],\n",
       "        [ 556.6562],\n",
       "        [ 423.5995],\n",
       "        [ 404.0610],\n",
       "        [ 496.9654],\n",
       "        [ 300.9510],\n",
       "        [ 262.8159],\n",
       "        [ 251.2277],\n",
       "        [ 384.4647],\n",
       "        [ 380.1842],\n",
       "        [2089.6919],\n",
       "        [ 458.1087],\n",
       "        [ 285.6152],\n",
       "        [ 253.4799],\n",
       "        [ 365.0875],\n",
       "        [ 354.5074],\n",
       "        [ 336.4411],\n",
       "        [ 314.3194],\n",
       "        [ 303.8826],\n",
       "        [ 302.4407],\n",
       "        [ 555.7529],\n",
       "        [ 587.5242],\n",
       "        [ 918.6692],\n",
       "        [ 358.9028],\n",
       "        [ 357.3937],\n",
       "        [ 326.0305],\n",
       "        [ 194.6819],\n",
       "        [ 181.7602],\n",
       "        [ 284.3481],\n",
       "        [ 246.6423],\n",
       "        [ 208.1811],\n",
       "        [ 198.3467],\n",
       "        [2943.7241],\n",
       "        [ 289.4626],\n",
       "        [ 257.5191],\n",
       "        [ 232.5959],\n",
       "        [ 441.3731],\n",
       "        [ 314.4405],\n",
       "        [ 244.4396],\n",
       "        [ 186.7008],\n",
       "        [ 171.2871],\n",
       "        [ 215.6375],\n",
       "        [ 168.3693],\n",
       "        [ 158.6395],\n",
       "        [ 153.0570],\n",
       "        [ 325.9405],\n",
       "        [ 307.7695],\n",
       "        [ 651.5799],\n",
       "        [ 212.3023],\n",
       "        [ 193.4583],\n",
       "        [ 192.6039],\n",
       "        [ 535.4412],\n",
       "        [ 306.5625],\n",
       "        [ 163.9873],\n",
       "        [ 448.9001],\n",
       "        [ 278.0042],\n",
       "        [ 253.7572],\n",
       "        [ 206.2448],\n",
       "        [ 190.1729],\n",
       "        [ 326.7119],\n",
       "        [ 258.7472],\n",
       "        [ 219.7930],\n",
       "        [ 348.2292],\n",
       "        [ 250.6234],\n",
       "        [ 159.9754],\n",
       "        [ 156.4928],\n",
       "        [ 131.5890],\n",
       "        [ 120.1907],\n",
       "        [ 286.8216],\n",
       "        [ 405.7505],\n",
       "        [ 484.7634],\n",
       "        [ 178.8425],\n",
       "        [ 163.0664],\n",
       "        [ 271.9119],\n",
       "        [ 535.2800],\n",
       "        [ 240.0264],\n",
       "        [ 337.5106],\n",
       "        [ 283.9580],\n",
       "        [ 320.9583],\n",
       "        [ 125.3144],\n",
       "        [ 101.2539],\n",
       "        [  99.6146],\n",
       "        [  89.7280],\n",
       "        [  79.3538],\n",
       "        [  79.1369],\n",
       "        [  78.8435]])"
      ]
     },
     "execution_count": 38,
     "metadata": {},
     "output_type": "execute_result"
    }
   ],
   "source": [
    "edge_attr"
   ]
  },
  {
   "cell_type": "code",
   "execution_count": null,
   "metadata": {
    "trusted": true
   },
   "outputs": [
    {
     "name": "stdout",
     "output_type": "stream",
     "text": [
      "=== 調試信息 ===\n",
      "explanation.node_mask shape: torch.Size([147, 60])\n",
      "explanation.node_mask type: <class 'torch.Tensor'>\n",
      "node_idx: 2\n",
      "spatial_dim: 3\n",
      "temporal_dim: 57\n",
      "使用 2D mask，取出節點 2 的特徵\n",
      "node_feat_mask shape: torch.Size([60])\n",
      "\n",
      "=== 最重要的前10個特徵 ===\n",
      "特徵 34 重要性分數: 0.5706\n",
      "特徵 38 重要性分數: 0.5594\n",
      "特徵 17 重要性分數: 0.5525\n",
      "特徵 23 重要性分數: 0.5468\n",
      "特徵 39 重要性分數: 0.5419\n",
      "特徵 29 重要性分數: 0.5344\n",
      "特徵 1 重要性分數: 0.5323\n",
      "特徵 22 重要性分數: 0.5317\n",
      "特徵 25 重要性分數: 0.5278\n",
      "特徵 35 重要性分數: 0.5266\n",
      "\n",
      "=== Top 10 feature names ===\n",
      "dew_point_2m: 0.5706\n",
      "half_hour_sin: 0.5594\n",
      "temperature_80m: 0.5525\n",
      "wind_speed_120m: 0.5468\n",
      "half_hour_cos: 0.5419\n",
      "wind_direction_120m_cos: 0.5344\n",
      "lon: 0.5323\n",
      "wind_speed_80m: 0.5317\n",
      "wind_direction_10m_cos: 0.5278\n",
      "terrestrial_radiation_instant: 0.5266\n",
      "\n",
      "=== 空間特徵重要性 ===\n",
      "lon: 0.5323\n",
      "lat: 0.4414\n",
      "district: 0.0000\n",
      "\n",
      "=== 時間特徵重要性 (前10個) ===\n",
      "dew_point_2m: 0.5706\n",
      "half_hour_sin: 0.5594\n",
      "temperature_80m: 0.5525\n",
      "wind_speed_120m: 0.5468\n",
      "half_hour_cos: 0.5419\n",
      "wind_direction_120m_cos: 0.5344\n",
      "wind_speed_80m: 0.5317\n",
      "wind_direction_10m_cos: 0.5278\n",
      "terrestrial_radiation_instant: 0.5266\n",
      "cloud_cover: 0.5169\n"
     ]
    }
   ],
   "source": [
    "node_idx = 2\n",
    "explanation = explainer(\n",
    "    x=data.x,\n",
    "    edge_index=data.edge_index,\n",
    "\n",
    "    index=node_idx\n",
    ")\n",
    "# corrected version: properly handle explanation.node_mask\n",
    "print(\"=== 調試信息 ===\")\n",
    "print(f\"explanation.node_mask shape: {explanation.node_mask.shape}\")\n",
    "print(f\"explanation.node_mask type: {type(explanation.node_mask)}\")\n",
    "print(f\"node_idx: {node_idx}\")\n",
    "print(f\"spatial_dim: {spatial_dim}\")\n",
    "print(f\"temporal_dim: {temporal_dim}\")\n",
    "\n",
    "# retrieve the correct feature mask\n",
    "feat_mask = explanation.node_mask\n",
    "if feat_mask.dim() == 2:  # [num_nodes, num_features]\n",
    "    node_feat_mask = feat_mask[node_idx]  # extract the feature mask for the target node\n",
    "    print(f\"使用 2D mask，取出節點 {node_idx} 的特徵\")\n",
    "else:  # [num_features]\n",
    "    node_feat_mask = feat_mask\n",
    "    print(f\"使用 1D mask\")\n",
    "\n",
    "print(f\"node_feat_mask shape: {node_feat_mask.shape}\")\n",
    "\n",
    "# sort feature importance\n",
    "imp_vals, imp_idx = node_feat_mask.abs().sort(descending=True)\n",
    "\n",
    "print(\"\\n=== 最重要的前10個特徵 ===\")\n",
    "for i in range(min(10, len(imp_vals))):\n",
    "    print(f\"特徵 {imp_idx[i].item()} 重要性分數: {imp_vals[i].item():.4f}\")\n",
    "\n",
    "all_feature_names = spatial_cols + temporal_cols\n",
    "print(\"\\n=== Top 10 feature names ===\")\n",
    "for i in range(min(10, len(imp_vals))):\n",
    "    feat_idx = imp_idx[i].item()\n",
    "    if feat_idx < len(all_feature_names):\n",
    "        print(f\"{all_feature_names[feat_idx]}: {imp_vals[i].item():.4f}\")\n",
    "    else:\n",
    "        print(f\"特徵 {feat_idx}: {imp_vals[i].item():.4f}\")\n",
    "\n",
    "# examine the importance of spatial and temporal features separately\n",
    "if len(node_feat_mask) >= spatial_dim + temporal_dim:\n",
    "    spatial_mask = node_feat_mask[:spatial_dim]\n",
    "    temporal_mask = node_feat_mask[spatial_dim:spatial_dim+temporal_dim]\n",
    "\n",
    "    print(\"\\n=== 空間特徵重要性 ===\")\n",
    "    spatial_imp_vals, spatial_imp_idx = spatial_mask.abs().sort(descending=True)\n",
    "    for i in range(len(spatial_cols)):\n",
    "        print(f\"{spatial_cols[spatial_imp_idx[i].item()]}: {spatial_imp_vals[i].item():.4f}\")\n",
    "\n",
    "    print(\"\\n=== 時間特徵重要性 (前10個) ===\")\n",
    "    temporal_imp_vals, temporal_imp_idx = temporal_mask.abs().sort(descending=True)\n",
    "    for i in range(min(10, len(temporal_cols))):\n",
    "        print(f\"{temporal_cols[temporal_imp_idx[i].item()]}: {temporal_imp_vals[i].item():.4f}\")\n",
    "else:\n",
    "    print(f\"\\n警告：node_feat_mask 長度 ({len(node_feat_mask)}) 小於預期的特徵數量 ({spatial_dim + temporal_dim})\")\n"
   ]
  },
  {
   "cell_type": "code",
   "execution_count": null,
   "metadata": {
    "trusted": true
   },
   "outputs": [
    {
     "name": "stdout",
     "output_type": "stream",
     "text": [
      "=== 整體特徵重要性分析 ===\n",
      "explanation.node_mask shape: torch.Size([147, 60])\n",
      "整體特徵重要性 shape: torch.Size([60])\n",
      "\n",
      "=== 整體最重要的前30個特徵 ===\n",
      " 1. lon: 0.0036\n",
      " 2. laterHourFee: 0.0033\n",
      " 3. TotalSpaces: 0.0033\n",
      " 4. half_hour_cos: 0.0032\n",
      " 5. lat: 0.0031\n",
      " 6. temperature_80m: 0.0031\n",
      " 7. firstHourFee: 0.0030\n",
      " 8. year_val: 0.0029\n",
      " 9. wind_direction_120m_cos: 0.0029\n",
      "10. half_hour_sin: 0.0027\n",
      "11. surface_pressure: 0.0027\n",
      "12. terrestrial_radiation_instant: 0.0027\n",
      "13. wind_speed_120m: 0.0026\n",
      "14. dew_point_2m: 0.0026\n",
      "15. day_sin: 0.0026\n",
      "16. wind_speed_80m: 0.0026\n",
      "17. wind_direction_80m_cos: 0.0025\n",
      "18. temperature_2m: 0.0025\n",
      "19. wind_gusts_10m: 0.0025\n",
      "20. weekday_num_0: 0.0025\n",
      "21. cloud_cover: 0.0024\n",
      "22. temperature_120m: 0.0023\n",
      "23. et0_fao_evapotranspiration: 0.0023\n",
      "24. wind_speed_10m: 0.0023\n",
      "25. wind_direction_10m_cos: 0.0022\n",
      "26. day_cos: 0.0021\n",
      "27. month_val_3: 0.0020\n",
      "28. apparent_temperature: 0.0020\n",
      "29. cloud_cover_low: 0.0020\n",
      "30. relative_humidity_2m: 0.0019\n",
      "\n",
      "=== 整體空間特徵重要性 ===\n",
      "1. lon: 0.0036\n",
      "2. lat: 0.0031\n",
      "3. district: 0.0009\n",
      "\n",
      "=== 整體時間特徵重要性 (前15個) ===\n",
      " 1. laterHourFee: 0.0033\n",
      " 2. TotalSpaces: 0.0033\n",
      " 3. half_hour_cos: 0.0032\n",
      " 4. temperature_80m: 0.0031\n",
      " 5. firstHourFee: 0.0030\n",
      " 6. year_val: 0.0029\n",
      " 7. wind_direction_120m_cos: 0.0029\n",
      " 8. half_hour_sin: 0.0027\n",
      " 9. surface_pressure: 0.0027\n",
      "10. terrestrial_radiation_instant: 0.0027\n",
      "11. wind_speed_120m: 0.0026\n",
      "12. dew_point_2m: 0.0026\n",
      "13. day_sin: 0.0026\n",
      "14. wind_speed_80m: 0.0026\n",
      "15. wind_direction_80m_cos: 0.0025\n",
      "\n",
      "=== 特徵重要性統計 ===\n",
      "空間特徵平均重要性: 0.0025\n",
      "時間特徵平均重要性: 0.0016\n",
      "空間特徵重要性標準差: 0.0015\n",
      "時間特徵重要性標準差: 0.0012\n",
      "\n",
      "=== 特徵重要性變異性分析 ===\n",
      "變異性最高的10個特徵（不同停車場間差異最大）：\n",
      " 1. dew_point_2m: 標準差 0.0471, 平均重要性 0.0026\n",
      " 2. half_hour_sin: 標準差 0.0461, 平均重要性 0.0027\n",
      " 3. temperature_80m: 標準差 0.0456, 平均重要性 0.0031\n",
      " 4. wind_speed_120m: 標準差 0.0451, 平均重要性 0.0026\n",
      " 5. half_hour_cos: 標準差 0.0447, 平均重要性 0.0032\n",
      " 6. wind_direction_120m_cos: 標準差 0.0441, 平均重要性 0.0029\n",
      " 7. lon: 標準差 0.0439, 平均重要性 0.0036\n",
      " 8. wind_speed_80m: 標準差 0.0439, 平均重要性 0.0026\n",
      " 9. wind_direction_10m_cos: 標準差 0.0435, 平均重要性 0.0022\n",
      "10. terrestrial_radiation_instant: 標準差 0.0434, 平均重要性 0.0027\n"
     ]
    },
    {
     "ename": "",
     "evalue": "",
     "output_type": "error",
     "traceback": [
      "\u001b[1;31m在目前儲存格或上一個儲存格中執行程式碼時，Kernel 已損毀。\n",
      "\u001b[1;31m請檢閱儲存格中的程式碼，找出失敗的可能原因。\n",
      "\u001b[1;31m如需詳細資訊，請按一下<a href='https://aka.ms/vscodeJupyterKernelCrash'>這裡</a>。\n",
      "\u001b[1;31m如需詳細資料，請檢視 Jupyter <a href='command:jupyter.viewOutput'>記錄</a>。"
     ]
    }
   ],
   "source": [
    "all_imp_sum = torch.zeros(spatial_dim + temporal_dim, device=device)\n",
    "sample_nodes = range(N)          \n",
    "for v in sample_nodes:\n",
    "    exp = explainer(x=data.x,\n",
    "                    edge_index=data.edge_index,\n",
    "                    edge_attr=data.edge_attr,\n",
    "                    index=v)\n",
    "    # exp.node_mask.shape = [Number of nodes in the subgraph, F]  \n",
    "    all_imp_sum += exp.node_mask.abs().mean(dim=0)\n",
    "\n",
    "overall_feat_importance = (all_imp_sum / len(sample_nodes)).cpu()\n",
    "# compute overall feature importance (average across all nodes)\n",
    "print(\"=== 整體特徵重要性分析 ===\")\n",
    "print(f\"explanation.node_mask shape: {explanation.node_mask.shape}\")\n",
    "\n",
    "print(f\"整體特徵重要性 shape: {overall_feat_importance.shape}\")\n",
    "\n",
    "# sort overall feature importance\n",
    "overall_imp_vals, overall_imp_idx = overall_feat_importance.sort(descending=True)\n",
    "\n",
    "print(\"\\n=== 整體最重要的前30個特徵 ===\")\n",
    "all_feature_names = spatial_cols + temporal_cols\n",
    "top30_feature_names = []\n",
    "for i in range(30):\n",
    "    feat_idx = overall_imp_idx[i].item()\n",
    "    feat_name = all_feature_names[feat_idx] if feat_idx < len(all_feature_names) else f\"特徵_{feat_idx}\"\n",
    "    top30_feature_names.append(feat_name)\n",
    "    print(f\"{i+1:2d}. {feat_name}: {overall_imp_vals[i].item():.4f}\")\n",
    "\n",
    "# compute the overall importance separately for spatial and temporal features\n",
    "spatial_overall = overall_feat_importance[:spatial_dim]\n",
    "temporal_overall = overall_feat_importance[spatial_dim:spatial_dim+temporal_dim]\n",
    "\n",
    "print(\"\\n=== 整體空間特徵重要性 ===\")\n",
    "spatial_overall_vals, spatial_overall_idx = spatial_overall.sort(descending=True)\n",
    "for i in range(len(spatial_cols)):\n",
    "    feat_idx = spatial_overall_idx[i].item()\n",
    "    print(f\"{i+1}. {spatial_cols[feat_idx]}: {spatial_overall_vals[i].item():.4f}\")\n",
    "\n",
    "print(\"\\n=== 整體時間特徵重要性 (前15個) ===\")\n",
    "temporal_overall_vals, temporal_overall_idx = temporal_overall.sort(descending=True)\n",
    "for i in range(min(15, len(temporal_cols))):\n",
    "    feat_idx = temporal_overall_idx[i].item()\n",
    "    print(f\"{i+1:2d}. {temporal_cols[feat_idx]}: {temporal_overall_vals[i].item():.4f}\")\n",
    "\n",
    "# compute statistical information of feature importance\n",
    "print(\"\\n=== 特徵重要性統計 ===\")\n",
    "print(f\"空間特徵平均重要性: {spatial_overall.mean().item():.4f}\")\n",
    "print(f\"時間特徵平均重要性: {temporal_overall.mean().item():.4f}\")\n",
    "print(f\"空間特徵重要性標準差: {spatial_overall.std().item():.4f}\")\n",
    "print(f\"時間特徵重要性標準差: {temporal_overall.std().item():.4f}\")\n",
    "\n",
    "# examine the variability of feature importance across different nodes\n",
    "print(\"\\n=== 特徵重要性變異性分析 ===\")\n",
    "feat_std = explanation.node_mask.abs().std(dim=0)  # standard deviation of each feature across different nodes\n",
    "high_var_idx = feat_std.argsort(descending=True)[:10]  # top 10 features with the highest variability\n",
    "\n",
    "print(\"變異性最高的10個特徵（不同停車場間差異最大）：\")\n",
    "for i, idx in enumerate(high_var_idx):\n",
    "    feat_name = all_feature_names[idx.item()] if idx.item() < len(all_feature_names) else f\"特徵_{idx.item()}\"\n",
    "    print(f\"{i+1:2d}. {feat_name}: 標準差 {feat_std[idx].item():.4f}, 平均重要性 {overall_feat_importance[idx].item():.4f}\")"
   ]
  },
  {
   "cell_type": "code",
   "execution_count": null,
   "metadata": {},
   "outputs": [],
   "source": []
  }
 ],
 "metadata": {
  "kernelspec": {
   "display_name": "gnn_env",
   "language": "python",
   "name": "python3"
  },
  "language_info": {
   "codemirror_mode": {
    "name": "ipython",
    "version": 3
   },
   "file_extension": ".py",
   "mimetype": "text/x-python",
   "name": "python",
   "nbconvert_exporter": "python",
   "pygments_lexer": "ipython3",
   "version": "3.12.9"
  }
 },
 "nbformat": 4,
 "nbformat_minor": 4
}
