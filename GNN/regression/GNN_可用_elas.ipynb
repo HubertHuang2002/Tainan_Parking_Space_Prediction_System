{
 "cells": [
  {
   "cell_type": "code",
   "execution_count": null,
   "metadata": {
    "trusted": true
   },
   "outputs": [],
   "source": [
    "import numpy as np\n",
    "import pandas as pd\n",
    "import torch\n",
    "import torch.nn.functional as F\n",
    "\n",
    "# importing after the general libraries to avoid initialization issues\n",
    "\n",
    "from torch_geometric.data import Data, DataLoader\n",
    "from torch_geometric.nn import GCNConv, GATConv"
   ]
  },
  {
   "cell_type": "code",
   "execution_count": 2,
   "metadata": {
    "trusted": true
   },
   "outputs": [
    {
     "name": "stderr",
     "output_type": "stream",
     "text": [
      "/var/folders/wt/6hl8qhss3jz9zrdh6n8f3_qh0000gn/T/ipykernel_24723/3642721045.py:1: DtypeWarning: Columns (47,48) have mixed types. Specify dtype option on import or set low_memory=False.\n",
      "  df_1 = pd.read_csv(\"中西_dataset.csv\")\n"
     ]
    },
    {
     "data": {
      "text/html": [
       "<div>\n",
       "<style scoped>\n",
       "    .dataframe tbody tr th:only-of-type {\n",
       "        vertical-align: middle;\n",
       "    }\n",
       "\n",
       "    .dataframe tbody tr th {\n",
       "        vertical-align: top;\n",
       "    }\n",
       "\n",
       "    .dataframe thead th {\n",
       "        text-align: right;\n",
       "    }\n",
       "</style>\n",
       "<table border=\"1\" class=\"dataframe\">\n",
       "  <thead>\n",
       "    <tr style=\"text-align: right;\">\n",
       "      <th></th>\n",
       "      <th>ParkingSegmentID</th>\n",
       "      <th>year_val</th>\n",
       "      <th>month_val</th>\n",
       "      <th>day_val</th>\n",
       "      <th>half_hour_interval</th>\n",
       "      <th>weekday_x</th>\n",
       "      <th>district</th>\n",
       "      <th>avg_available_spots</th>\n",
       "      <th>TotalSpaces</th>\n",
       "      <th>lat</th>\n",
       "      <th>...</th>\n",
       "      <th>vapour_pressure_deficit</th>\n",
       "      <th>dew_point_2m</th>\n",
       "      <th>terrestrial_radiation_instant</th>\n",
       "      <th>latitude</th>\n",
       "      <th>longitude</th>\n",
       "      <th>hour</th>\n",
       "      <th>date</th>\n",
       "      <th>weekday_y</th>\n",
       "      <th>is_national_holiday</th>\n",
       "      <th>holiday_name</th>\n",
       "    </tr>\n",
       "  </thead>\n",
       "  <tbody>\n",
       "    <tr>\n",
       "      <th>0</th>\n",
       "      <td>1421</td>\n",
       "      <td>2024</td>\n",
       "      <td>7</td>\n",
       "      <td>20</td>\n",
       "      <td>46</td>\n",
       "      <td>Saturday</td>\n",
       "      <td>中西區</td>\n",
       "      <td>1.0</td>\n",
       "      <td>3</td>\n",
       "      <td>22.9948</td>\n",
       "      <td>...</td>\n",
       "      <td>0.90</td>\n",
       "      <td>25.2</td>\n",
       "      <td>0.0</td>\n",
       "      <td>22.981</td>\n",
       "      <td>120.177</td>\n",
       "      <td>23</td>\n",
       "      <td>2024-07-20</td>\n",
       "      <td>Sat</td>\n",
       "      <td>False</td>\n",
       "      <td>NaN</td>\n",
       "    </tr>\n",
       "    <tr>\n",
       "      <th>1</th>\n",
       "      <td>1421</td>\n",
       "      <td>2024</td>\n",
       "      <td>7</td>\n",
       "      <td>24</td>\n",
       "      <td>40</td>\n",
       "      <td>Wednesday</td>\n",
       "      <td>中西區</td>\n",
       "      <td>1.0</td>\n",
       "      <td>3</td>\n",
       "      <td>22.9948</td>\n",
       "      <td>...</td>\n",
       "      <td>0.21</td>\n",
       "      <td>25.8</td>\n",
       "      <td>0.0</td>\n",
       "      <td>22.981</td>\n",
       "      <td>120.177</td>\n",
       "      <td>20</td>\n",
       "      <td>2024-07-24</td>\n",
       "      <td>Wed</td>\n",
       "      <td>False</td>\n",
       "      <td>NaN</td>\n",
       "    </tr>\n",
       "    <tr>\n",
       "      <th>2</th>\n",
       "      <td>1421</td>\n",
       "      <td>2024</td>\n",
       "      <td>7</td>\n",
       "      <td>24</td>\n",
       "      <td>18</td>\n",
       "      <td>Wednesday</td>\n",
       "      <td>中西區</td>\n",
       "      <td>1.0</td>\n",
       "      <td>3</td>\n",
       "      <td>22.9948</td>\n",
       "      <td>...</td>\n",
       "      <td>0.70</td>\n",
       "      <td>25.0</td>\n",
       "      <td>967.1</td>\n",
       "      <td>22.981</td>\n",
       "      <td>120.177</td>\n",
       "      <td>9</td>\n",
       "      <td>2024-07-24</td>\n",
       "      <td>Wed</td>\n",
       "      <td>False</td>\n",
       "      <td>NaN</td>\n",
       "    </tr>\n",
       "    <tr>\n",
       "      <th>3</th>\n",
       "      <td>1421</td>\n",
       "      <td>2024</td>\n",
       "      <td>8</td>\n",
       "      <td>21</td>\n",
       "      <td>9</td>\n",
       "      <td>Wednesday</td>\n",
       "      <td>中西區</td>\n",
       "      <td>2.0</td>\n",
       "      <td>3</td>\n",
       "      <td>22.9948</td>\n",
       "      <td>...</td>\n",
       "      <td>0.95</td>\n",
       "      <td>21.5</td>\n",
       "      <td>0.0</td>\n",
       "      <td>22.981</td>\n",
       "      <td>120.177</td>\n",
       "      <td>4</td>\n",
       "      <td>2024-08-21</td>\n",
       "      <td>Wed</td>\n",
       "      <td>False</td>\n",
       "      <td>NaN</td>\n",
       "    </tr>\n",
       "    <tr>\n",
       "      <th>4</th>\n",
       "      <td>1421</td>\n",
       "      <td>2024</td>\n",
       "      <td>9</td>\n",
       "      <td>9</td>\n",
       "      <td>5</td>\n",
       "      <td>Monday</td>\n",
       "      <td>中西區</td>\n",
       "      <td>1.0</td>\n",
       "      <td>3</td>\n",
       "      <td>22.9948</td>\n",
       "      <td>...</td>\n",
       "      <td>0.99</td>\n",
       "      <td>22.2</td>\n",
       "      <td>0.0</td>\n",
       "      <td>22.981</td>\n",
       "      <td>120.177</td>\n",
       "      <td>2</td>\n",
       "      <td>2024-09-09</td>\n",
       "      <td>Mon</td>\n",
       "      <td>False</td>\n",
       "      <td>NaN</td>\n",
       "    </tr>\n",
       "  </tbody>\n",
       "</table>\n",
       "<p>5 rows × 49 columns</p>\n",
       "</div>"
      ],
      "text/plain": [
       "   ParkingSegmentID  year_val  month_val  day_val  half_hour_interval  \\\n",
       "0              1421      2024          7       20                  46   \n",
       "1              1421      2024          7       24                  40   \n",
       "2              1421      2024          7       24                  18   \n",
       "3              1421      2024          8       21                   9   \n",
       "4              1421      2024          9        9                   5   \n",
       "\n",
       "   weekday_x district  avg_available_spots  TotalSpaces      lat  ...  \\\n",
       "0   Saturday      中西區                  1.0            3  22.9948  ...   \n",
       "1  Wednesday      中西區                  1.0            3  22.9948  ...   \n",
       "2  Wednesday      中西區                  1.0            3  22.9948  ...   \n",
       "3  Wednesday      中西區                  2.0            3  22.9948  ...   \n",
       "4     Monday      中西區                  1.0            3  22.9948  ...   \n",
       "\n",
       "   vapour_pressure_deficit  dew_point_2m  terrestrial_radiation_instant  \\\n",
       "0                     0.90          25.2                            0.0   \n",
       "1                     0.21          25.8                            0.0   \n",
       "2                     0.70          25.0                          967.1   \n",
       "3                     0.95          21.5                            0.0   \n",
       "4                     0.99          22.2                            0.0   \n",
       "\n",
       "  latitude longitude hour        date  weekday_y  is_national_holiday  \\\n",
       "0   22.981   120.177   23  2024-07-20        Sat                False   \n",
       "1   22.981   120.177   20  2024-07-24        Wed                False   \n",
       "2   22.981   120.177    9  2024-07-24        Wed                False   \n",
       "3   22.981   120.177    4  2024-08-21        Wed                False   \n",
       "4   22.981   120.177    2  2024-09-09        Mon                False   \n",
       "\n",
       "   holiday_name  \n",
       "0           NaN  \n",
       "1           NaN  \n",
       "2           NaN  \n",
       "3           NaN  \n",
       "4           NaN  \n",
       "\n",
       "[5 rows x 49 columns]"
      ]
     },
     "execution_count": 2,
     "metadata": {},
     "output_type": "execute_result"
    }
   ],
   "source": [
    "df_1 = pd.read_csv(\"中西_dataset.csv\")\n",
    "df_1.head()"
   ]
  },
  {
   "cell_type": "code",
   "execution_count": 3,
   "metadata": {
    "trusted": true
   },
   "outputs": [
    {
     "name": "stderr",
     "output_type": "stream",
     "text": [
      "/var/folders/wt/6hl8qhss3jz9zrdh6n8f3_qh0000gn/T/ipykernel_24723/1002289959.py:1: DtypeWarning: Columns (0,47) have mixed types. Specify dtype option on import or set low_memory=False.\n",
      "  df_2 = pd.read_csv(\"安平_dataset.csv\")\n"
     ]
    },
    {
     "data": {
      "text/html": [
       "<div>\n",
       "<style scoped>\n",
       "    .dataframe tbody tr th:only-of-type {\n",
       "        vertical-align: middle;\n",
       "    }\n",
       "\n",
       "    .dataframe tbody tr th {\n",
       "        vertical-align: top;\n",
       "    }\n",
       "\n",
       "    .dataframe thead th {\n",
       "        text-align: right;\n",
       "    }\n",
       "</style>\n",
       "<table border=\"1\" class=\"dataframe\">\n",
       "  <thead>\n",
       "    <tr style=\"text-align: right;\">\n",
       "      <th></th>\n",
       "      <th>ParkingSegmentID</th>\n",
       "      <th>year_val</th>\n",
       "      <th>month_val</th>\n",
       "      <th>day_val</th>\n",
       "      <th>half_hour_interval</th>\n",
       "      <th>weekday_x</th>\n",
       "      <th>district</th>\n",
       "      <th>avg_available_spots</th>\n",
       "      <th>TotalSpaces</th>\n",
       "      <th>lat</th>\n",
       "      <th>...</th>\n",
       "      <th>vapour_pressure_deficit</th>\n",
       "      <th>dew_point_2m</th>\n",
       "      <th>terrestrial_radiation_instant</th>\n",
       "      <th>latitude</th>\n",
       "      <th>longitude</th>\n",
       "      <th>hour</th>\n",
       "      <th>date</th>\n",
       "      <th>weekday_y</th>\n",
       "      <th>is_national_holiday</th>\n",
       "      <th>holiday_name</th>\n",
       "    </tr>\n",
       "  </thead>\n",
       "  <tbody>\n",
       "    <tr>\n",
       "      <th>0</th>\n",
       "      <td>137</td>\n",
       "      <td>2025</td>\n",
       "      <td>3</td>\n",
       "      <td>28</td>\n",
       "      <td>47</td>\n",
       "      <td>Friday</td>\n",
       "      <td>安平區</td>\n",
       "      <td>46.500000</td>\n",
       "      <td>57</td>\n",
       "      <td>22.98953</td>\n",
       "      <td>...</td>\n",
       "      <td>1.17</td>\n",
       "      <td>15.5</td>\n",
       "      <td>0.0</td>\n",
       "      <td>22.981</td>\n",
       "      <td>120.177</td>\n",
       "      <td>23</td>\n",
       "      <td>2025-03-28</td>\n",
       "      <td>Fri</td>\n",
       "      <td>False</td>\n",
       "      <td>NaN</td>\n",
       "    </tr>\n",
       "    <tr>\n",
       "      <th>1</th>\n",
       "      <td>137</td>\n",
       "      <td>2024</td>\n",
       "      <td>7</td>\n",
       "      <td>11</td>\n",
       "      <td>26</td>\n",
       "      <td>Thursday</td>\n",
       "      <td>安平區</td>\n",
       "      <td>15.000000</td>\n",
       "      <td>57</td>\n",
       "      <td>22.98953</td>\n",
       "      <td>...</td>\n",
       "      <td>2.38</td>\n",
       "      <td>22.9</td>\n",
       "      <td>1290.3</td>\n",
       "      <td>22.981</td>\n",
       "      <td>120.177</td>\n",
       "      <td>13</td>\n",
       "      <td>2024-07-11</td>\n",
       "      <td>Thu</td>\n",
       "      <td>False</td>\n",
       "      <td>NaN</td>\n",
       "    </tr>\n",
       "    <tr>\n",
       "      <th>2</th>\n",
       "      <td>137</td>\n",
       "      <td>2025</td>\n",
       "      <td>3</td>\n",
       "      <td>28</td>\n",
       "      <td>17</td>\n",
       "      <td>Friday</td>\n",
       "      <td>安平區</td>\n",
       "      <td>29.833333</td>\n",
       "      <td>57</td>\n",
       "      <td>22.98953</td>\n",
       "      <td>...</td>\n",
       "      <td>1.10</td>\n",
       "      <td>20.0</td>\n",
       "      <td>639.6</td>\n",
       "      <td>22.981</td>\n",
       "      <td>120.177</td>\n",
       "      <td>8</td>\n",
       "      <td>2025-03-28</td>\n",
       "      <td>Fri</td>\n",
       "      <td>False</td>\n",
       "      <td>NaN</td>\n",
       "    </tr>\n",
       "    <tr>\n",
       "      <th>3</th>\n",
       "      <td>137</td>\n",
       "      <td>2024</td>\n",
       "      <td>7</td>\n",
       "      <td>11</td>\n",
       "      <td>22</td>\n",
       "      <td>Thursday</td>\n",
       "      <td>安平區</td>\n",
       "      <td>24.000000</td>\n",
       "      <td>57</td>\n",
       "      <td>22.98953</td>\n",
       "      <td>...</td>\n",
       "      <td>2.00</td>\n",
       "      <td>24.1</td>\n",
       "      <td>1278.5</td>\n",
       "      <td>22.981</td>\n",
       "      <td>120.177</td>\n",
       "      <td>11</td>\n",
       "      <td>2024-07-11</td>\n",
       "      <td>Thu</td>\n",
       "      <td>False</td>\n",
       "      <td>NaN</td>\n",
       "    </tr>\n",
       "    <tr>\n",
       "      <th>4</th>\n",
       "      <td>137</td>\n",
       "      <td>2025</td>\n",
       "      <td>3</td>\n",
       "      <td>28</td>\n",
       "      <td>10</td>\n",
       "      <td>Friday</td>\n",
       "      <td>安平區</td>\n",
       "      <td>49.000000</td>\n",
       "      <td>57</td>\n",
       "      <td>22.98953</td>\n",
       "      <td>...</td>\n",
       "      <td>0.65</td>\n",
       "      <td>20.8</td>\n",
       "      <td>0.0</td>\n",
       "      <td>22.981</td>\n",
       "      <td>120.177</td>\n",
       "      <td>5</td>\n",
       "      <td>2025-03-28</td>\n",
       "      <td>Fri</td>\n",
       "      <td>False</td>\n",
       "      <td>NaN</td>\n",
       "    </tr>\n",
       "  </tbody>\n",
       "</table>\n",
       "<p>5 rows × 49 columns</p>\n",
       "</div>"
      ],
      "text/plain": [
       "  ParkingSegmentID  year_val  month_val  day_val  half_hour_interval  \\\n",
       "0              137      2025          3       28                  47   \n",
       "1              137      2024          7       11                  26   \n",
       "2              137      2025          3       28                  17   \n",
       "3              137      2024          7       11                  22   \n",
       "4              137      2025          3       28                  10   \n",
       "\n",
       "  weekday_x district  avg_available_spots  TotalSpaces       lat  ...  \\\n",
       "0    Friday      安平區            46.500000           57  22.98953  ...   \n",
       "1  Thursday      安平區            15.000000           57  22.98953  ...   \n",
       "2    Friday      安平區            29.833333           57  22.98953  ...   \n",
       "3  Thursday      安平區            24.000000           57  22.98953  ...   \n",
       "4    Friday      安平區            49.000000           57  22.98953  ...   \n",
       "\n",
       "   vapour_pressure_deficit  dew_point_2m  terrestrial_radiation_instant  \\\n",
       "0                     1.17          15.5                            0.0   \n",
       "1                     2.38          22.9                         1290.3   \n",
       "2                     1.10          20.0                          639.6   \n",
       "3                     2.00          24.1                         1278.5   \n",
       "4                     0.65          20.8                            0.0   \n",
       "\n",
       "  latitude longitude hour        date  weekday_y  is_national_holiday  \\\n",
       "0   22.981   120.177   23  2025-03-28        Fri                False   \n",
       "1   22.981   120.177   13  2024-07-11        Thu                False   \n",
       "2   22.981   120.177    8  2025-03-28        Fri                False   \n",
       "3   22.981   120.177   11  2024-07-11        Thu                False   \n",
       "4   22.981   120.177    5  2025-03-28        Fri                False   \n",
       "\n",
       "   holiday_name  \n",
       "0           NaN  \n",
       "1           NaN  \n",
       "2           NaN  \n",
       "3           NaN  \n",
       "4           NaN  \n",
       "\n",
       "[5 rows x 49 columns]"
      ]
     },
     "execution_count": 3,
     "metadata": {},
     "output_type": "execute_result"
    }
   ],
   "source": [
    "df_2 = pd.read_csv(\"安平_dataset.csv\")\n",
    "df_2.head()"
   ]
  },
  {
   "cell_type": "code",
   "execution_count": 4,
   "metadata": {
    "trusted": true
   },
   "outputs": [
    {
     "name": "stdout",
     "output_type": "stream",
     "text": [
      "<class 'pandas.core.frame.DataFrame'>\n",
      "Index: 2892758 entries, 0 to 719269\n",
      "Data columns (total 49 columns):\n",
      " #   Column                         Dtype  \n",
      "---  ------                         -----  \n",
      " 0   ParkingSegmentID               object \n",
      " 1   year_val                       int64  \n",
      " 2   month_val                      int64  \n",
      " 3   day_val                        int64  \n",
      " 4   half_hour_interval             int64  \n",
      " 5   weekday_x                      object \n",
      " 6   district                       object \n",
      " 7   avg_available_spots            float64\n",
      " 8   TotalSpaces                    int64  \n",
      " 9   lat                            float64\n",
      " 10  lon                            float64\n",
      " 11  firstHourFee                   int64  \n",
      " 12  laterHourFee                   int64  \n",
      " 13  datetime                       object \n",
      " 14  datetime_hour                  object \n",
      " 15  time                           object \n",
      " 16  precipitation                  float64\n",
      " 17  apparent_temperature           float64\n",
      " 18  relative_humidity_2m           int64  \n",
      " 19  temperature_2m                 float64\n",
      " 20  cloud_cover                    int64  \n",
      " 21  cloud_cover_low                int64  \n",
      " 22  cloud_cover_mid                int64  \n",
      " 23  cloud_cover_high               int64  \n",
      " 24  visibility                     float64\n",
      " 25  wind_speed_10m                 float64\n",
      " 26  temperature_80m                float64\n",
      " 27  temperature_120m               float64\n",
      " 28  showers                        float64\n",
      " 29  pressure_msl                   float64\n",
      " 30  surface_pressure               float64\n",
      " 31  wind_speed_80m                 float64\n",
      " 32  wind_speed_120m                float64\n",
      " 33  wind_direction_10m             int64  \n",
      " 34  wind_direction_80m             int64  \n",
      " 35  wind_direction_120m            int64  \n",
      " 36  wind_gusts_10m                 float64\n",
      " 37  evapotranspiration             float64\n",
      " 38  et0_fao_evapotranspiration     float64\n",
      " 39  vapour_pressure_deficit        float64\n",
      " 40  dew_point_2m                   float64\n",
      " 41  terrestrial_radiation_instant  float64\n",
      " 42  latitude                       float64\n",
      " 43  longitude                      float64\n",
      " 44  hour                           int64  \n",
      " 45  date                           object \n",
      " 46  weekday_y                      object \n",
      " 47  is_national_holiday            object \n",
      " 48  holiday_name                   object \n",
      "dtypes: float64(23), int64(16), object(10)\n",
      "memory usage: 1.1+ GB\n"
     ]
    },
    {
     "data": {
      "text/plain": [
       "ParkingSegmentID                       0\n",
       "year_val                               0\n",
       "month_val                              0\n",
       "day_val                                0\n",
       "half_hour_interval                     0\n",
       "weekday_x                              0\n",
       "district                               0\n",
       "avg_available_spots                    0\n",
       "TotalSpaces                            0\n",
       "lat                                    0\n",
       "lon                                    0\n",
       "firstHourFee                           0\n",
       "laterHourFee                           0\n",
       "datetime                               0\n",
       "datetime_hour                          0\n",
       "time                                   0\n",
       "precipitation                          0\n",
       "apparent_temperature                   0\n",
       "relative_humidity_2m                   0\n",
       "temperature_2m                         0\n",
       "cloud_cover                            0\n",
       "cloud_cover_low                        0\n",
       "cloud_cover_mid                        0\n",
       "cloud_cover_high                       0\n",
       "visibility                             0\n",
       "wind_speed_10m                         0\n",
       "temperature_80m                        0\n",
       "temperature_120m                       0\n",
       "showers                                0\n",
       "pressure_msl                           0\n",
       "surface_pressure                       0\n",
       "wind_speed_80m                         0\n",
       "wind_speed_120m                        0\n",
       "wind_direction_10m                     0\n",
       "wind_direction_80m                     0\n",
       "wind_direction_120m                    0\n",
       "wind_gusts_10m                         0\n",
       "evapotranspiration                     0\n",
       "et0_fao_evapotranspiration             0\n",
       "vapour_pressure_deficit                0\n",
       "dew_point_2m                           0\n",
       "terrestrial_radiation_instant          0\n",
       "latitude                               0\n",
       "longitude                              0\n",
       "hour                                   0\n",
       "date                                   0\n",
       "weekday_y                          39906\n",
       "is_national_holiday                39906\n",
       "holiday_name                     2694181\n",
       "dtype: int64"
      ]
     },
     "execution_count": 4,
     "metadata": {},
     "output_type": "execute_result"
    }
   ],
   "source": [
    "df = pd.concat([df_1, df_2])\n",
    "df.head()\n",
    "df.info()\n",
    "df.describe()\n",
    "df.isnull().sum()"
   ]
  },
  {
   "cell_type": "code",
   "execution_count": null,
   "metadata": {
    "trusted": true
   },
   "outputs": [],
   "source": [
    "df[\"ParkingSegmentID\"] = df[\"ParkingSegmentID\"].astype(str)\n",
    "df.loc[\n",
    "    (df[\"ParkingSegmentID\"] == \"1192\") &\n",
    "    (df[\"half_hour_interval\"] == 20) &\n",
    "    (df[\"month_val\"] == 3) &\n",
    "    (df[\"day_val\"] == 8),\n",
    "    \"TotalSpaces\"\n",
    "] = 63\n",
    "indices_to_drop = df[(df['ParkingSegmentID'] == \"1131\") & (df['year_val'] == 2025) & (df['month_val'] == 3) & (df['day_val'] == 27)].index\n",
    "df.drop(indices_to_drop, inplace=True)\n",
    "indices_to_drop = df[(df[\"year_val\"] == 2025) & (df[\"month_val\"] == 2) & (df[\"day_val\"] == 20) & (df[\"half_hour_interval\"] == 29) & (df[\"ParkingSegmentID\"] == \"54555420\") & (df[\"TotalSpaces\"] == 1036)].index\n",
    "df.drop(indices_to_drop, inplace=True)\n",
    "condition = df[\"avg_available_spots\"] > df[\"TotalSpaces\"]\n",
    "# extract the values from df[\"TotalSpaces\"] on the right side that meet the condition\n",
    "values_to_assign = df.loc[condition, \"TotalSpaces\"].values\n",
    "df.loc[condition, \"avg_available_spots\"] = values_to_assign"
   ]
  },
  {
   "cell_type": "code",
   "execution_count": 6,
   "metadata": {
    "trusted": true
   },
   "outputs": [
    {
     "name": "stdout",
     "output_type": "stream",
     "text": [
      "<class 'pandas.core.frame.DataFrame'>\n",
      "Index: 2892661 entries, 0 to 719269\n",
      "Data columns (total 49 columns):\n",
      " #   Column                         Dtype  \n",
      "---  ------                         -----  \n",
      " 0   ParkingSegmentID               object \n",
      " 1   year_val                       int64  \n",
      " 2   month_val                      int64  \n",
      " 3   day_val                        int64  \n",
      " 4   half_hour_interval             int64  \n",
      " 5   weekday_x                      object \n",
      " 6   district                       object \n",
      " 7   avg_available_spots            float64\n",
      " 8   TotalSpaces                    int64  \n",
      " 9   lat                            float64\n",
      " 10  lon                            float64\n",
      " 11  firstHourFee                   int64  \n",
      " 12  laterHourFee                   int64  \n",
      " 13  datetime                       object \n",
      " 14  datetime_hour                  object \n",
      " 15  time                           object \n",
      " 16  precipitation                  float64\n",
      " 17  apparent_temperature           float64\n",
      " 18  relative_humidity_2m           int64  \n",
      " 19  temperature_2m                 float64\n",
      " 20  cloud_cover                    int64  \n",
      " 21  cloud_cover_low                int64  \n",
      " 22  cloud_cover_mid                int64  \n",
      " 23  cloud_cover_high               int64  \n",
      " 24  visibility                     float64\n",
      " 25  wind_speed_10m                 float64\n",
      " 26  temperature_80m                float64\n",
      " 27  temperature_120m               float64\n",
      " 28  showers                        float64\n",
      " 29  pressure_msl                   float64\n",
      " 30  surface_pressure               float64\n",
      " 31  wind_speed_80m                 float64\n",
      " 32  wind_speed_120m                float64\n",
      " 33  wind_direction_10m             int64  \n",
      " 34  wind_direction_80m             int64  \n",
      " 35  wind_direction_120m            int64  \n",
      " 36  wind_gusts_10m                 float64\n",
      " 37  evapotranspiration             float64\n",
      " 38  et0_fao_evapotranspiration     float64\n",
      " 39  vapour_pressure_deficit        float64\n",
      " 40  dew_point_2m                   float64\n",
      " 41  terrestrial_radiation_instant  float64\n",
      " 42  latitude                       float64\n",
      " 43  longitude                      float64\n",
      " 44  hour                           int64  \n",
      " 45  date                           object \n",
      " 46  weekday_y                      object \n",
      " 47  is_national_holiday            object \n",
      " 48  holiday_name                   object \n",
      "dtypes: float64(23), int64(16), object(10)\n",
      "memory usage: 1.1+ GB\n",
      "  ParkingSegmentID  year_val  month_val  day_val  half_hour_interval  \\\n",
      "0             1421      2024          7       20                  46   \n",
      "1             1421      2024          7       24                  40   \n",
      "2             1421      2024          7       24                  18   \n",
      "3             1421      2024          8       21                   9   \n",
      "4             1421      2024          9        9                   5   \n",
      "\n",
      "   weekday_x district  avg_available_spots  TotalSpaces      lat  ...  \\\n",
      "0   Saturday      中西區                  1.0            3  22.9948  ...   \n",
      "1  Wednesday      中西區                  1.0            3  22.9948  ...   \n",
      "2  Wednesday      中西區                  1.0            3  22.9948  ...   \n",
      "3  Wednesday      中西區                  2.0            3  22.9948  ...   \n",
      "4     Monday      中西區                  1.0            3  22.9948  ...   \n",
      "\n",
      "   vapour_pressure_deficit  dew_point_2m  terrestrial_radiation_instant  \\\n",
      "0                     0.90          25.2                            0.0   \n",
      "1                     0.21          25.8                            0.0   \n",
      "2                     0.70          25.0                          967.1   \n",
      "3                     0.95          21.5                            0.0   \n",
      "4                     0.99          22.2                            0.0   \n",
      "\n",
      "  latitude longitude hour        date  weekday_y  is_national_holiday  \\\n",
      "0   22.981   120.177   23  2024-07-20        Sat                False   \n",
      "1   22.981   120.177   20  2024-07-24        Wed                False   \n",
      "2   22.981   120.177    9  2024-07-24        Wed                False   \n",
      "3   22.981   120.177    4  2024-08-21        Wed                False   \n",
      "4   22.981   120.177    2  2024-09-09        Mon                False   \n",
      "\n",
      "   holiday_name  \n",
      "0           NaN  \n",
      "1           NaN  \n",
      "2           NaN  \n",
      "3           NaN  \n",
      "4           NaN  \n",
      "\n",
      "[5 rows x 49 columns]\n"
     ]
    }
   ],
   "source": [
    "df.info()\n",
    "df.describe()\n",
    "df.isnull().sum()\n",
    "print(df.head())"
   ]
  },
  {
   "cell_type": "code",
   "execution_count": 7,
   "metadata": {
    "trusted": true
   },
   "outputs": [],
   "source": [
    "df[\"weekday\"] = df[\"weekday_x\"]"
   ]
  },
  {
   "cell_type": "code",
   "execution_count": 8,
   "metadata": {
    "trusted": true
   },
   "outputs": [],
   "source": [
    "\n",
    "district_mapping = {'中西區': 0, '安平區': 1}\n",
    "df['district'] = df['district'].map(district_mapping)"
   ]
  },
  {
   "cell_type": "code",
   "execution_count": 9,
   "metadata": {
    "trusted": true
   },
   "outputs": [],
   "source": []
  },
  {
   "cell_type": "code",
   "execution_count": 9,
   "metadata": {
    "trusted": true
   },
   "outputs": [],
   "source": [
    "df[\"datetime_2\"] = (\n",
    "    df[\"year_val\"].astype(str) + \"_\" +\n",
    "    df[\"month_val\"].astype(str) + \"_\" +\n",
    "    df[\"day_val\"].astype(str) + \"_\" +\n",
    "    df[\"half_hour_interval\"].astype(str)\n",
    ")"
   ]
  },
  {
   "cell_type": "code",
   "execution_count": 10,
   "metadata": {
    "trusted": true
   },
   "outputs": [],
   "source": [
    "pd.set_option('display.max_columns', None)\n",
    "weekday_mapping = {'Monday': 0, 'Tuesday': 1, 'Wednesday': 2, 'Thursday': 3,\n",
    "                       'Friday': 4, 'Saturday': 5, 'Sunday': 6}\n",
    "df['weekday_num'] = df['weekday'].map(weekday_mapping)\n",
    "df['wind_direction_10m_sin'] = np.sin(np.deg2rad(df['wind_direction_10m']))\n",
    "df['wind_direction_10m_cos'] = np.cos(np.deg2rad(df['wind_direction_10m']))\n",
    "df['wind_direction_120m_sin'] = np.sin(np.deg2rad(df['wind_direction_120m']))\n",
    "df['wind_direction_120m_cos'] = np.cos(np.deg2rad(df['wind_direction_120m']))\n",
    "df['wind_direction_80m_sin'] = np.sin(np.deg2rad(df['wind_direction_80m']))\n",
    "df['wind_direction_80m_cos'] = np.cos(np.deg2rad(df['wind_direction_80m']))\n",
    "df.drop(columns=[\"wind_direction_10m\",\"wind_direction_120m\",\"wind_direction_80m\"],inplace=True)"
   ]
  },
  {
   "cell_type": "code",
   "execution_count": null,
   "metadata": {
    "trusted": true
   },
   "outputs": [],
   "source": [
    "\n",
    "df_final = df.drop(columns=[        \n",
    "    'weekday',        \n",
    "    'weekday_y',\"date\",\"latitude\",\"longitude\",\"datetime_hour\",\"time\", \"weekday_x\",\"holiday_name\",\n",
    "])"
   ]
  },
  {
   "cell_type": "code",
   "execution_count": 12,
   "metadata": {
    "trusted": true
   },
   "outputs": [
    {
     "data": {
      "text/html": [
       "<div>\n",
       "<style scoped>\n",
       "    .dataframe tbody tr th:only-of-type {\n",
       "        vertical-align: middle;\n",
       "    }\n",
       "\n",
       "    .dataframe tbody tr th {\n",
       "        vertical-align: top;\n",
       "    }\n",
       "\n",
       "    .dataframe thead th {\n",
       "        text-align: right;\n",
       "    }\n",
       "</style>\n",
       "<table border=\"1\" class=\"dataframe\">\n",
       "  <thead>\n",
       "    <tr style=\"text-align: right;\">\n",
       "      <th></th>\n",
       "      <th>ParkingSegmentID</th>\n",
       "      <th>year_val</th>\n",
       "      <th>month_val</th>\n",
       "      <th>day_val</th>\n",
       "      <th>half_hour_interval</th>\n",
       "      <th>district</th>\n",
       "      <th>avg_available_spots</th>\n",
       "      <th>TotalSpaces</th>\n",
       "      <th>lat</th>\n",
       "      <th>lon</th>\n",
       "      <th>firstHourFee</th>\n",
       "      <th>laterHourFee</th>\n",
       "      <th>datetime</th>\n",
       "      <th>precipitation</th>\n",
       "      <th>apparent_temperature</th>\n",
       "      <th>relative_humidity_2m</th>\n",
       "      <th>temperature_2m</th>\n",
       "      <th>cloud_cover</th>\n",
       "      <th>cloud_cover_low</th>\n",
       "      <th>cloud_cover_mid</th>\n",
       "      <th>cloud_cover_high</th>\n",
       "      <th>visibility</th>\n",
       "      <th>wind_speed_10m</th>\n",
       "      <th>temperature_80m</th>\n",
       "      <th>temperature_120m</th>\n",
       "      <th>showers</th>\n",
       "      <th>pressure_msl</th>\n",
       "      <th>surface_pressure</th>\n",
       "      <th>wind_speed_80m</th>\n",
       "      <th>wind_speed_120m</th>\n",
       "      <th>wind_gusts_10m</th>\n",
       "      <th>evapotranspiration</th>\n",
       "      <th>et0_fao_evapotranspiration</th>\n",
       "      <th>vapour_pressure_deficit</th>\n",
       "      <th>dew_point_2m</th>\n",
       "      <th>terrestrial_radiation_instant</th>\n",
       "      <th>hour</th>\n",
       "      <th>is_national_holiday</th>\n",
       "      <th>datetime_2</th>\n",
       "      <th>weekday_num</th>\n",
       "      <th>wind_direction_10m_sin</th>\n",
       "      <th>wind_direction_10m_cos</th>\n",
       "      <th>wind_direction_120m_sin</th>\n",
       "      <th>wind_direction_120m_cos</th>\n",
       "      <th>wind_direction_80m_sin</th>\n",
       "      <th>wind_direction_80m_cos</th>\n",
       "    </tr>\n",
       "  </thead>\n",
       "  <tbody>\n",
       "    <tr>\n",
       "      <th>0</th>\n",
       "      <td>1421</td>\n",
       "      <td>2024</td>\n",
       "      <td>7</td>\n",
       "      <td>20</td>\n",
       "      <td>46</td>\n",
       "      <td>0</td>\n",
       "      <td>1.000000</td>\n",
       "      <td>3</td>\n",
       "      <td>22.99480</td>\n",
       "      <td>120.19519</td>\n",
       "      <td>0</td>\n",
       "      <td>0</td>\n",
       "      <td>2024-07-20 23:00:00</td>\n",
       "      <td>0.8</td>\n",
       "      <td>35.4</td>\n",
       "      <td>78</td>\n",
       "      <td>29.4</td>\n",
       "      <td>15</td>\n",
       "      <td>0</td>\n",
       "      <td>0</td>\n",
       "      <td>10</td>\n",
       "      <td>24140.0</td>\n",
       "      <td>5.8</td>\n",
       "      <td>28.7</td>\n",
       "      <td>28.6</td>\n",
       "      <td>0.8</td>\n",
       "      <td>1010.1</td>\n",
       "      <td>1009.5</td>\n",
       "      <td>7.4</td>\n",
       "      <td>7.7</td>\n",
       "      <td>7.9</td>\n",
       "      <td>0.0</td>\n",
       "      <td>0.01</td>\n",
       "      <td>0.90</td>\n",
       "      <td>25.2</td>\n",
       "      <td>0.0</td>\n",
       "      <td>23</td>\n",
       "      <td>False</td>\n",
       "      <td>2024_7_20_46</td>\n",
       "      <td>5</td>\n",
       "      <td>-0.069756</td>\n",
       "      <td>-0.997564</td>\n",
       "      <td>-0.422618</td>\n",
       "      <td>-0.906308</td>\n",
       "      <td>-0.390731</td>\n",
       "      <td>-0.920505</td>\n",
       "    </tr>\n",
       "    <tr>\n",
       "      <th>1</th>\n",
       "      <td>1421</td>\n",
       "      <td>2024</td>\n",
       "      <td>7</td>\n",
       "      <td>24</td>\n",
       "      <td>40</td>\n",
       "      <td>0</td>\n",
       "      <td>1.000000</td>\n",
       "      <td>3</td>\n",
       "      <td>22.99480</td>\n",
       "      <td>120.19519</td>\n",
       "      <td>0</td>\n",
       "      <td>0</td>\n",
       "      <td>2024-07-24 20:00:00</td>\n",
       "      <td>15.2</td>\n",
       "      <td>27.6</td>\n",
       "      <td>94</td>\n",
       "      <td>26.9</td>\n",
       "      <td>100</td>\n",
       "      <td>100</td>\n",
       "      <td>100</td>\n",
       "      <td>100</td>\n",
       "      <td>2300.0</td>\n",
       "      <td>45.1</td>\n",
       "      <td>26.5</td>\n",
       "      <td>26.4</td>\n",
       "      <td>1.2</td>\n",
       "      <td>985.5</td>\n",
       "      <td>984.9</td>\n",
       "      <td>72.7</td>\n",
       "      <td>77.2</td>\n",
       "      <td>74.5</td>\n",
       "      <td>0.0</td>\n",
       "      <td>0.03</td>\n",
       "      <td>0.21</td>\n",
       "      <td>25.8</td>\n",
       "      <td>0.0</td>\n",
       "      <td>20</td>\n",
       "      <td>False</td>\n",
       "      <td>2024_7_24_40</td>\n",
       "      <td>2</td>\n",
       "      <td>-0.707107</td>\n",
       "      <td>0.707107</td>\n",
       "      <td>-0.642788</td>\n",
       "      <td>0.766044</td>\n",
       "      <td>-0.656059</td>\n",
       "      <td>0.754710</td>\n",
       "    </tr>\n",
       "    <tr>\n",
       "      <th>2</th>\n",
       "      <td>1421</td>\n",
       "      <td>2024</td>\n",
       "      <td>7</td>\n",
       "      <td>24</td>\n",
       "      <td>18</td>\n",
       "      <td>0</td>\n",
       "      <td>1.000000</td>\n",
       "      <td>3</td>\n",
       "      <td>22.99480</td>\n",
       "      <td>120.19519</td>\n",
       "      <td>20</td>\n",
       "      <td>20</td>\n",
       "      <td>2024-07-24 09:00:00</td>\n",
       "      <td>0.8</td>\n",
       "      <td>28.5</td>\n",
       "      <td>82</td>\n",
       "      <td>28.4</td>\n",
       "      <td>100</td>\n",
       "      <td>100</td>\n",
       "      <td>100</td>\n",
       "      <td>100</td>\n",
       "      <td>9660.0</td>\n",
       "      <td>45.3</td>\n",
       "      <td>27.9</td>\n",
       "      <td>27.7</td>\n",
       "      <td>0.8</td>\n",
       "      <td>989.1</td>\n",
       "      <td>988.5</td>\n",
       "      <td>68.6</td>\n",
       "      <td>72.6</td>\n",
       "      <td>66.2</td>\n",
       "      <td>0.0</td>\n",
       "      <td>0.15</td>\n",
       "      <td>0.70</td>\n",
       "      <td>25.0</td>\n",
       "      <td>967.1</td>\n",
       "      <td>9</td>\n",
       "      <td>False</td>\n",
       "      <td>2024_7_24_18</td>\n",
       "      <td>2</td>\n",
       "      <td>-0.358368</td>\n",
       "      <td>0.933580</td>\n",
       "      <td>-0.309017</td>\n",
       "      <td>0.951057</td>\n",
       "      <td>-0.309017</td>\n",
       "      <td>0.951057</td>\n",
       "    </tr>\n",
       "    <tr>\n",
       "      <th>3</th>\n",
       "      <td>1421</td>\n",
       "      <td>2024</td>\n",
       "      <td>8</td>\n",
       "      <td>21</td>\n",
       "      <td>9</td>\n",
       "      <td>0</td>\n",
       "      <td>2.000000</td>\n",
       "      <td>3</td>\n",
       "      <td>22.99480</td>\n",
       "      <td>120.19519</td>\n",
       "      <td>0</td>\n",
       "      <td>0</td>\n",
       "      <td>2024-08-21 04:30:00</td>\n",
       "      <td>0.0</td>\n",
       "      <td>30.0</td>\n",
       "      <td>73</td>\n",
       "      <td>26.8</td>\n",
       "      <td>99</td>\n",
       "      <td>0</td>\n",
       "      <td>90</td>\n",
       "      <td>90</td>\n",
       "      <td>24140.0</td>\n",
       "      <td>10.1</td>\n",
       "      <td>26.8</td>\n",
       "      <td>26.8</td>\n",
       "      <td>0.0</td>\n",
       "      <td>1010.4</td>\n",
       "      <td>1009.8</td>\n",
       "      <td>17.1</td>\n",
       "      <td>18.9</td>\n",
       "      <td>19.4</td>\n",
       "      <td>0.0</td>\n",
       "      <td>0.04</td>\n",
       "      <td>0.95</td>\n",
       "      <td>21.5</td>\n",
       "      <td>0.0</td>\n",
       "      <td>4</td>\n",
       "      <td>False</td>\n",
       "      <td>2024_8_21_9</td>\n",
       "      <td>2</td>\n",
       "      <td>0.573576</td>\n",
       "      <td>-0.819152</td>\n",
       "      <td>0.406737</td>\n",
       "      <td>-0.913545</td>\n",
       "      <td>0.469472</td>\n",
       "      <td>-0.882948</td>\n",
       "    </tr>\n",
       "    <tr>\n",
       "      <th>4</th>\n",
       "      <td>1421</td>\n",
       "      <td>2024</td>\n",
       "      <td>9</td>\n",
       "      <td>9</td>\n",
       "      <td>5</td>\n",
       "      <td>0</td>\n",
       "      <td>1.000000</td>\n",
       "      <td>3</td>\n",
       "      <td>22.99480</td>\n",
       "      <td>120.19519</td>\n",
       "      <td>0</td>\n",
       "      <td>0</td>\n",
       "      <td>2024-09-09 02:30:00</td>\n",
       "      <td>0.0</td>\n",
       "      <td>31.5</td>\n",
       "      <td>73</td>\n",
       "      <td>27.5</td>\n",
       "      <td>100</td>\n",
       "      <td>0</td>\n",
       "      <td>5</td>\n",
       "      <td>100</td>\n",
       "      <td>24140.0</td>\n",
       "      <td>7.1</td>\n",
       "      <td>26.7</td>\n",
       "      <td>26.5</td>\n",
       "      <td>0.0</td>\n",
       "      <td>1006.8</td>\n",
       "      <td>1006.2</td>\n",
       "      <td>8.7</td>\n",
       "      <td>8.8</td>\n",
       "      <td>8.3</td>\n",
       "      <td>0.0</td>\n",
       "      <td>0.02</td>\n",
       "      <td>0.99</td>\n",
       "      <td>22.2</td>\n",
       "      <td>0.0</td>\n",
       "      <td>2</td>\n",
       "      <td>False</td>\n",
       "      <td>2024_9_9_5</td>\n",
       "      <td>0</td>\n",
       "      <td>0.754710</td>\n",
       "      <td>-0.656059</td>\n",
       "      <td>0.707107</td>\n",
       "      <td>-0.707107</td>\n",
       "      <td>0.707107</td>\n",
       "      <td>-0.707107</td>\n",
       "    </tr>\n",
       "    <tr>\n",
       "      <th>...</th>\n",
       "      <td>...</td>\n",
       "      <td>...</td>\n",
       "      <td>...</td>\n",
       "      <td>...</td>\n",
       "      <td>...</td>\n",
       "      <td>...</td>\n",
       "      <td>...</td>\n",
       "      <td>...</td>\n",
       "      <td>...</td>\n",
       "      <td>...</td>\n",
       "      <td>...</td>\n",
       "      <td>...</td>\n",
       "      <td>...</td>\n",
       "      <td>...</td>\n",
       "      <td>...</td>\n",
       "      <td>...</td>\n",
       "      <td>...</td>\n",
       "      <td>...</td>\n",
       "      <td>...</td>\n",
       "      <td>...</td>\n",
       "      <td>...</td>\n",
       "      <td>...</td>\n",
       "      <td>...</td>\n",
       "      <td>...</td>\n",
       "      <td>...</td>\n",
       "      <td>...</td>\n",
       "      <td>...</td>\n",
       "      <td>...</td>\n",
       "      <td>...</td>\n",
       "      <td>...</td>\n",
       "      <td>...</td>\n",
       "      <td>...</td>\n",
       "      <td>...</td>\n",
       "      <td>...</td>\n",
       "      <td>...</td>\n",
       "      <td>...</td>\n",
       "      <td>...</td>\n",
       "      <td>...</td>\n",
       "      <td>...</td>\n",
       "      <td>...</td>\n",
       "      <td>...</td>\n",
       "      <td>...</td>\n",
       "      <td>...</td>\n",
       "      <td>...</td>\n",
       "      <td>...</td>\n",
       "      <td>...</td>\n",
       "    </tr>\n",
       "    <tr>\n",
       "      <th>719265</th>\n",
       "      <td>89053916</td>\n",
       "      <td>2025</td>\n",
       "      <td>5</td>\n",
       "      <td>9</td>\n",
       "      <td>47</td>\n",
       "      <td>1</td>\n",
       "      <td>103.000000</td>\n",
       "      <td>160</td>\n",
       "      <td>22.99884</td>\n",
       "      <td>120.16250</td>\n",
       "      <td>60</td>\n",
       "      <td>60</td>\n",
       "      <td>2025-05-09 23:30:00</td>\n",
       "      <td>0.0</td>\n",
       "      <td>33.3</td>\n",
       "      <td>57</td>\n",
       "      <td>30.4</td>\n",
       "      <td>100</td>\n",
       "      <td>0</td>\n",
       "      <td>10</td>\n",
       "      <td>100</td>\n",
       "      <td>24140.0</td>\n",
       "      <td>9.5</td>\n",
       "      <td>29.1</td>\n",
       "      <td>28.9</td>\n",
       "      <td>0.0</td>\n",
       "      <td>1009.5</td>\n",
       "      <td>1008.9</td>\n",
       "      <td>12.1</td>\n",
       "      <td>12.8</td>\n",
       "      <td>12.6</td>\n",
       "      <td>-0.0</td>\n",
       "      <td>0.07</td>\n",
       "      <td>1.86</td>\n",
       "      <td>20.9</td>\n",
       "      <td>0.0</td>\n",
       "      <td>23</td>\n",
       "      <td>False</td>\n",
       "      <td>2025_5_9_47</td>\n",
       "      <td>4</td>\n",
       "      <td>0.156434</td>\n",
       "      <td>-0.987688</td>\n",
       "      <td>0.207912</td>\n",
       "      <td>-0.978148</td>\n",
       "      <td>0.207912</td>\n",
       "      <td>-0.978148</td>\n",
       "    </tr>\n",
       "    <tr>\n",
       "      <th>719266</th>\n",
       "      <td>89053916</td>\n",
       "      <td>2025</td>\n",
       "      <td>5</td>\n",
       "      <td>9</td>\n",
       "      <td>25</td>\n",
       "      <td>1</td>\n",
       "      <td>84.333333</td>\n",
       "      <td>160</td>\n",
       "      <td>22.99884</td>\n",
       "      <td>120.16250</td>\n",
       "      <td>60</td>\n",
       "      <td>60</td>\n",
       "      <td>2025-05-09 12:30:00</td>\n",
       "      <td>0.0</td>\n",
       "      <td>36.7</td>\n",
       "      <td>51</td>\n",
       "      <td>33.5</td>\n",
       "      <td>100</td>\n",
       "      <td>0</td>\n",
       "      <td>5</td>\n",
       "      <td>100</td>\n",
       "      <td>24140.0</td>\n",
       "      <td>23.4</td>\n",
       "      <td>30.7</td>\n",
       "      <td>30.4</td>\n",
       "      <td>0.0</td>\n",
       "      <td>1009.1</td>\n",
       "      <td>1008.5</td>\n",
       "      <td>29.3</td>\n",
       "      <td>30.2</td>\n",
       "      <td>24.1</td>\n",
       "      <td>0.0</td>\n",
       "      <td>0.75</td>\n",
       "      <td>2.53</td>\n",
       "      <td>22.0</td>\n",
       "      <td>1336.1</td>\n",
       "      <td>12</td>\n",
       "      <td>False</td>\n",
       "      <td>2025_5_9_25</td>\n",
       "      <td>4</td>\n",
       "      <td>-0.422618</td>\n",
       "      <td>-0.906308</td>\n",
       "      <td>-0.358368</td>\n",
       "      <td>-0.933580</td>\n",
       "      <td>-0.358368</td>\n",
       "      <td>-0.933580</td>\n",
       "    </tr>\n",
       "    <tr>\n",
       "      <th>719267</th>\n",
       "      <td>89053916</td>\n",
       "      <td>2025</td>\n",
       "      <td>5</td>\n",
       "      <td>9</td>\n",
       "      <td>5</td>\n",
       "      <td>1</td>\n",
       "      <td>107.000000</td>\n",
       "      <td>160</td>\n",
       "      <td>22.99884</td>\n",
       "      <td>120.16250</td>\n",
       "      <td>60</td>\n",
       "      <td>60</td>\n",
       "      <td>2025-05-09 02:30:00</td>\n",
       "      <td>0.0</td>\n",
       "      <td>32.4</td>\n",
       "      <td>62</td>\n",
       "      <td>29.4</td>\n",
       "      <td>100</td>\n",
       "      <td>0</td>\n",
       "      <td>0</td>\n",
       "      <td>100</td>\n",
       "      <td>24140.0</td>\n",
       "      <td>10.6</td>\n",
       "      <td>28.2</td>\n",
       "      <td>28.0</td>\n",
       "      <td>0.0</td>\n",
       "      <td>1007.9</td>\n",
       "      <td>1007.3</td>\n",
       "      <td>14.9</td>\n",
       "      <td>15.6</td>\n",
       "      <td>16.6</td>\n",
       "      <td>-0.0</td>\n",
       "      <td>0.07</td>\n",
       "      <td>1.56</td>\n",
       "      <td>21.4</td>\n",
       "      <td>0.0</td>\n",
       "      <td>2</td>\n",
       "      <td>False</td>\n",
       "      <td>2025_5_9_5</td>\n",
       "      <td>4</td>\n",
       "      <td>0.173648</td>\n",
       "      <td>-0.984808</td>\n",
       "      <td>0.156434</td>\n",
       "      <td>-0.987688</td>\n",
       "      <td>0.139173</td>\n",
       "      <td>-0.990268</td>\n",
       "    </tr>\n",
       "    <tr>\n",
       "      <th>719268</th>\n",
       "      <td>89053916</td>\n",
       "      <td>2025</td>\n",
       "      <td>5</td>\n",
       "      <td>9</td>\n",
       "      <td>9</td>\n",
       "      <td>1</td>\n",
       "      <td>107.000000</td>\n",
       "      <td>160</td>\n",
       "      <td>22.99884</td>\n",
       "      <td>120.16250</td>\n",
       "      <td>60</td>\n",
       "      <td>60</td>\n",
       "      <td>2025-05-09 04:30:00</td>\n",
       "      <td>0.0</td>\n",
       "      <td>31.1</td>\n",
       "      <td>62</td>\n",
       "      <td>29.0</td>\n",
       "      <td>100</td>\n",
       "      <td>0</td>\n",
       "      <td>0</td>\n",
       "      <td>100</td>\n",
       "      <td>24140.0</td>\n",
       "      <td>15.6</td>\n",
       "      <td>27.9</td>\n",
       "      <td>27.7</td>\n",
       "      <td>0.0</td>\n",
       "      <td>1007.7</td>\n",
       "      <td>1007.1</td>\n",
       "      <td>22.6</td>\n",
       "      <td>24.1</td>\n",
       "      <td>27.4</td>\n",
       "      <td>0.0</td>\n",
       "      <td>0.10</td>\n",
       "      <td>1.52</td>\n",
       "      <td>21.0</td>\n",
       "      <td>0.0</td>\n",
       "      <td>4</td>\n",
       "      <td>False</td>\n",
       "      <td>2025_5_9_9</td>\n",
       "      <td>4</td>\n",
       "      <td>0.139173</td>\n",
       "      <td>-0.990268</td>\n",
       "      <td>0.139173</td>\n",
       "      <td>-0.990268</td>\n",
       "      <td>0.139173</td>\n",
       "      <td>-0.990268</td>\n",
       "    </tr>\n",
       "    <tr>\n",
       "      <th>719269</th>\n",
       "      <td>89053916</td>\n",
       "      <td>2025</td>\n",
       "      <td>5</td>\n",
       "      <td>9</td>\n",
       "      <td>29</td>\n",
       "      <td>1</td>\n",
       "      <td>82.500000</td>\n",
       "      <td>160</td>\n",
       "      <td>22.99884</td>\n",
       "      <td>120.16250</td>\n",
       "      <td>60</td>\n",
       "      <td>60</td>\n",
       "      <td>2025-05-09 14:30:00</td>\n",
       "      <td>0.0</td>\n",
       "      <td>36.4</td>\n",
       "      <td>50</td>\n",
       "      <td>33.4</td>\n",
       "      <td>100</td>\n",
       "      <td>0</td>\n",
       "      <td>0</td>\n",
       "      <td>100</td>\n",
       "      <td>24140.0</td>\n",
       "      <td>21.0</td>\n",
       "      <td>30.6</td>\n",
       "      <td>30.4</td>\n",
       "      <td>0.0</td>\n",
       "      <td>1008.6</td>\n",
       "      <td>1008.0</td>\n",
       "      <td>26.3</td>\n",
       "      <td>27.1</td>\n",
       "      <td>23.0</td>\n",
       "      <td>0.0</td>\n",
       "      <td>0.70</td>\n",
       "      <td>2.57</td>\n",
       "      <td>21.6</td>\n",
       "      <td>1166.6</td>\n",
       "      <td>14</td>\n",
       "      <td>False</td>\n",
       "      <td>2025_5_9_29</td>\n",
       "      <td>4</td>\n",
       "      <td>-0.615661</td>\n",
       "      <td>-0.788011</td>\n",
       "      <td>-0.587785</td>\n",
       "      <td>-0.809017</td>\n",
       "      <td>-0.587785</td>\n",
       "      <td>-0.809017</td>\n",
       "    </tr>\n",
       "  </tbody>\n",
       "</table>\n",
       "<p>2892661 rows × 46 columns</p>\n",
       "</div>"
      ],
      "text/plain": [
       "       ParkingSegmentID  year_val  month_val  day_val  half_hour_interval  \\\n",
       "0                  1421      2024          7       20                  46   \n",
       "1                  1421      2024          7       24                  40   \n",
       "2                  1421      2024          7       24                  18   \n",
       "3                  1421      2024          8       21                   9   \n",
       "4                  1421      2024          9        9                   5   \n",
       "...                 ...       ...        ...      ...                 ...   \n",
       "719265         89053916      2025          5        9                  47   \n",
       "719266         89053916      2025          5        9                  25   \n",
       "719267         89053916      2025          5        9                   5   \n",
       "719268         89053916      2025          5        9                   9   \n",
       "719269         89053916      2025          5        9                  29   \n",
       "\n",
       "        district  avg_available_spots  TotalSpaces       lat        lon  \\\n",
       "0              0             1.000000            3  22.99480  120.19519   \n",
       "1              0             1.000000            3  22.99480  120.19519   \n",
       "2              0             1.000000            3  22.99480  120.19519   \n",
       "3              0             2.000000            3  22.99480  120.19519   \n",
       "4              0             1.000000            3  22.99480  120.19519   \n",
       "...          ...                  ...          ...       ...        ...   \n",
       "719265         1           103.000000          160  22.99884  120.16250   \n",
       "719266         1            84.333333          160  22.99884  120.16250   \n",
       "719267         1           107.000000          160  22.99884  120.16250   \n",
       "719268         1           107.000000          160  22.99884  120.16250   \n",
       "719269         1            82.500000          160  22.99884  120.16250   \n",
       "\n",
       "        firstHourFee  laterHourFee             datetime  precipitation  \\\n",
       "0                  0             0  2024-07-20 23:00:00            0.8   \n",
       "1                  0             0  2024-07-24 20:00:00           15.2   \n",
       "2                 20            20  2024-07-24 09:00:00            0.8   \n",
       "3                  0             0  2024-08-21 04:30:00            0.0   \n",
       "4                  0             0  2024-09-09 02:30:00            0.0   \n",
       "...              ...           ...                  ...            ...   \n",
       "719265            60            60  2025-05-09 23:30:00            0.0   \n",
       "719266            60            60  2025-05-09 12:30:00            0.0   \n",
       "719267            60            60  2025-05-09 02:30:00            0.0   \n",
       "719268            60            60  2025-05-09 04:30:00            0.0   \n",
       "719269            60            60  2025-05-09 14:30:00            0.0   \n",
       "\n",
       "        apparent_temperature  relative_humidity_2m  temperature_2m  \\\n",
       "0                       35.4                    78            29.4   \n",
       "1                       27.6                    94            26.9   \n",
       "2                       28.5                    82            28.4   \n",
       "3                       30.0                    73            26.8   \n",
       "4                       31.5                    73            27.5   \n",
       "...                      ...                   ...             ...   \n",
       "719265                  33.3                    57            30.4   \n",
       "719266                  36.7                    51            33.5   \n",
       "719267                  32.4                    62            29.4   \n",
       "719268                  31.1                    62            29.0   \n",
       "719269                  36.4                    50            33.4   \n",
       "\n",
       "        cloud_cover  cloud_cover_low  cloud_cover_mid  cloud_cover_high  \\\n",
       "0                15                0                0                10   \n",
       "1               100              100              100               100   \n",
       "2               100              100              100               100   \n",
       "3                99                0               90                90   \n",
       "4               100                0                5               100   \n",
       "...             ...              ...              ...               ...   \n",
       "719265          100                0               10               100   \n",
       "719266          100                0                5               100   \n",
       "719267          100                0                0               100   \n",
       "719268          100                0                0               100   \n",
       "719269          100                0                0               100   \n",
       "\n",
       "        visibility  wind_speed_10m  temperature_80m  temperature_120m  \\\n",
       "0          24140.0             5.8             28.7              28.6   \n",
       "1           2300.0            45.1             26.5              26.4   \n",
       "2           9660.0            45.3             27.9              27.7   \n",
       "3          24140.0            10.1             26.8              26.8   \n",
       "4          24140.0             7.1             26.7              26.5   \n",
       "...            ...             ...              ...               ...   \n",
       "719265     24140.0             9.5             29.1              28.9   \n",
       "719266     24140.0            23.4             30.7              30.4   \n",
       "719267     24140.0            10.6             28.2              28.0   \n",
       "719268     24140.0            15.6             27.9              27.7   \n",
       "719269     24140.0            21.0             30.6              30.4   \n",
       "\n",
       "        showers  pressure_msl  surface_pressure  wind_speed_80m  \\\n",
       "0           0.8        1010.1            1009.5             7.4   \n",
       "1           1.2         985.5             984.9            72.7   \n",
       "2           0.8         989.1             988.5            68.6   \n",
       "3           0.0        1010.4            1009.8            17.1   \n",
       "4           0.0        1006.8            1006.2             8.7   \n",
       "...         ...           ...               ...             ...   \n",
       "719265      0.0        1009.5            1008.9            12.1   \n",
       "719266      0.0        1009.1            1008.5            29.3   \n",
       "719267      0.0        1007.9            1007.3            14.9   \n",
       "719268      0.0        1007.7            1007.1            22.6   \n",
       "719269      0.0        1008.6            1008.0            26.3   \n",
       "\n",
       "        wind_speed_120m  wind_gusts_10m  evapotranspiration  \\\n",
       "0                   7.7             7.9                 0.0   \n",
       "1                  77.2            74.5                 0.0   \n",
       "2                  72.6            66.2                 0.0   \n",
       "3                  18.9            19.4                 0.0   \n",
       "4                   8.8             8.3                 0.0   \n",
       "...                 ...             ...                 ...   \n",
       "719265             12.8            12.6                -0.0   \n",
       "719266             30.2            24.1                 0.0   \n",
       "719267             15.6            16.6                -0.0   \n",
       "719268             24.1            27.4                 0.0   \n",
       "719269             27.1            23.0                 0.0   \n",
       "\n",
       "        et0_fao_evapotranspiration  vapour_pressure_deficit  dew_point_2m  \\\n",
       "0                             0.01                     0.90          25.2   \n",
       "1                             0.03                     0.21          25.8   \n",
       "2                             0.15                     0.70          25.0   \n",
       "3                             0.04                     0.95          21.5   \n",
       "4                             0.02                     0.99          22.2   \n",
       "...                            ...                      ...           ...   \n",
       "719265                        0.07                     1.86          20.9   \n",
       "719266                        0.75                     2.53          22.0   \n",
       "719267                        0.07                     1.56          21.4   \n",
       "719268                        0.10                     1.52          21.0   \n",
       "719269                        0.70                     2.57          21.6   \n",
       "\n",
       "        terrestrial_radiation_instant  hour is_national_holiday    datetime_2  \\\n",
       "0                                 0.0    23               False  2024_7_20_46   \n",
       "1                                 0.0    20               False  2024_7_24_40   \n",
       "2                               967.1     9               False  2024_7_24_18   \n",
       "3                                 0.0     4               False   2024_8_21_9   \n",
       "4                                 0.0     2               False    2024_9_9_5   \n",
       "...                               ...   ...                 ...           ...   \n",
       "719265                            0.0    23               False   2025_5_9_47   \n",
       "719266                         1336.1    12               False   2025_5_9_25   \n",
       "719267                            0.0     2               False    2025_5_9_5   \n",
       "719268                            0.0     4               False    2025_5_9_9   \n",
       "719269                         1166.6    14               False   2025_5_9_29   \n",
       "\n",
       "        weekday_num  wind_direction_10m_sin  wind_direction_10m_cos  \\\n",
       "0                 5               -0.069756               -0.997564   \n",
       "1                 2               -0.707107                0.707107   \n",
       "2                 2               -0.358368                0.933580   \n",
       "3                 2                0.573576               -0.819152   \n",
       "4                 0                0.754710               -0.656059   \n",
       "...             ...                     ...                     ...   \n",
       "719265            4                0.156434               -0.987688   \n",
       "719266            4               -0.422618               -0.906308   \n",
       "719267            4                0.173648               -0.984808   \n",
       "719268            4                0.139173               -0.990268   \n",
       "719269            4               -0.615661               -0.788011   \n",
       "\n",
       "        wind_direction_120m_sin  wind_direction_120m_cos  \\\n",
       "0                     -0.422618                -0.906308   \n",
       "1                     -0.642788                 0.766044   \n",
       "2                     -0.309017                 0.951057   \n",
       "3                      0.406737                -0.913545   \n",
       "4                      0.707107                -0.707107   \n",
       "...                         ...                      ...   \n",
       "719265                 0.207912                -0.978148   \n",
       "719266                -0.358368                -0.933580   \n",
       "719267                 0.156434                -0.987688   \n",
       "719268                 0.139173                -0.990268   \n",
       "719269                -0.587785                -0.809017   \n",
       "\n",
       "        wind_direction_80m_sin  wind_direction_80m_cos  \n",
       "0                    -0.390731               -0.920505  \n",
       "1                    -0.656059                0.754710  \n",
       "2                    -0.309017                0.951057  \n",
       "3                     0.469472               -0.882948  \n",
       "4                     0.707107               -0.707107  \n",
       "...                        ...                     ...  \n",
       "719265                0.207912               -0.978148  \n",
       "719266               -0.358368               -0.933580  \n",
       "719267                0.139173               -0.990268  \n",
       "719268                0.139173               -0.990268  \n",
       "719269               -0.587785               -0.809017  \n",
       "\n",
       "[2892661 rows x 46 columns]"
      ]
     },
     "execution_count": 12,
     "metadata": {},
     "output_type": "execute_result"
    }
   ],
   "source": [
    "df_final"
   ]
  },
  {
   "cell_type": "code",
   "execution_count": null,
   "metadata": {
    "trusted": true
   },
   "outputs": [],
   "source": [
    "def add_cyclical_features(df):\n",
    "    # month (1–12 → 12 periods)\n",
    "    \n",
    "    # date (1–31 → 31 periods)\n",
    "    df['day_sin'] = np.sin(2 * np.pi * df['day_val'] / 31)\n",
    "    df['day_cos'] = np.cos(2 * np.pi * df['day_val'] / 31)\n",
    "    \n",
    "    # half-hour intervals (0–47 → 48 periods)\n",
    "    df['half_hour_sin'] = np.sin(2 * np.pi * df['half_hour_interval'] / 48)\n",
    "    df['half_hour_cos'] = np.cos(2 * np.pi * df['half_hour_interval'] / 48)\n",
    "    \n",
    "    \n",
    "    return df\n",
    "\n",
    "df_final = add_cyclical_features(df_final)\n",
    "df_final = pd.get_dummies(df_final, columns=['month_val', 'weekday_num'])\n",
    "df_final[\"day_off\"] = df_final[\"is_national_holiday\"] | df_final[\"weekday_num_6\"] | df_final[\"weekday_num_5\"]\n",
    "df_final.drop(columns=[\"is_national_holiday\"], inplace = True)"
   ]
  },
  {
   "cell_type": "code",
   "execution_count": null,
   "metadata": {},
   "outputs": [],
   "source": []
  },
  {
   "cell_type": "code",
   "execution_count": 14,
   "metadata": {
    "trusted": true
   },
   "outputs": [
    {
     "name": "stderr",
     "output_type": "stream",
     "text": [
      "/var/folders/wt/6hl8qhss3jz9zrdh6n8f3_qh0000gn/T/ipykernel_24723/1851175704.py:5: SettingWithCopyWarning: \n",
      "A value is trying to be set on a copy of a slice from a DataFrame\n",
      "\n",
      "See the caveats in the documentation: https://pandas.pydata.org/pandas-docs/stable/user_guide/indexing.html#returning-a-view-versus-a-copy\n",
      "  df_train.drop(columns=[\"datetime\"], inplace=True)\n",
      "/var/folders/wt/6hl8qhss3jz9zrdh6n8f3_qh0000gn/T/ipykernel_24723/1851175704.py:6: SettingWithCopyWarning: \n",
      "A value is trying to be set on a copy of a slice from a DataFrame\n",
      "\n",
      "See the caveats in the documentation: https://pandas.pydata.org/pandas-docs/stable/user_guide/indexing.html#returning-a-view-versus-a-copy\n",
      "  df_val.drop(columns=[\"datetime\"], inplace=True)\n",
      "/var/folders/wt/6hl8qhss3jz9zrdh6n8f3_qh0000gn/T/ipykernel_24723/1851175704.py:7: SettingWithCopyWarning: \n",
      "A value is trying to be set on a copy of a slice from a DataFrame\n",
      "\n",
      "See the caveats in the documentation: https://pandas.pydata.org/pandas-docs/stable/user_guide/indexing.html#returning-a-view-versus-a-copy\n",
      "  df_test.drop(columns=[\"datetime\"], inplace=True)\n"
     ]
    },
    {
     "data": {
      "text/html": [
       "<div>\n",
       "<style scoped>\n",
       "    .dataframe tbody tr th:only-of-type {\n",
       "        vertical-align: middle;\n",
       "    }\n",
       "\n",
       "    .dataframe tbody tr th {\n",
       "        vertical-align: top;\n",
       "    }\n",
       "\n",
       "    .dataframe thead th {\n",
       "        text-align: right;\n",
       "    }\n",
       "</style>\n",
       "<table border=\"1\" class=\"dataframe\">\n",
       "  <thead>\n",
       "    <tr style=\"text-align: right;\">\n",
       "      <th></th>\n",
       "      <th>ParkingSegmentID</th>\n",
       "      <th>year_val</th>\n",
       "      <th>day_val</th>\n",
       "      <th>half_hour_interval</th>\n",
       "      <th>district</th>\n",
       "      <th>avg_available_spots</th>\n",
       "      <th>TotalSpaces</th>\n",
       "      <th>lat</th>\n",
       "      <th>lon</th>\n",
       "      <th>firstHourFee</th>\n",
       "      <th>laterHourFee</th>\n",
       "      <th>precipitation</th>\n",
       "      <th>apparent_temperature</th>\n",
       "      <th>relative_humidity_2m</th>\n",
       "      <th>temperature_2m</th>\n",
       "      <th>cloud_cover</th>\n",
       "      <th>cloud_cover_low</th>\n",
       "      <th>cloud_cover_mid</th>\n",
       "      <th>cloud_cover_high</th>\n",
       "      <th>visibility</th>\n",
       "      <th>wind_speed_10m</th>\n",
       "      <th>temperature_80m</th>\n",
       "      <th>temperature_120m</th>\n",
       "      <th>showers</th>\n",
       "      <th>pressure_msl</th>\n",
       "      <th>surface_pressure</th>\n",
       "      <th>wind_speed_80m</th>\n",
       "      <th>wind_speed_120m</th>\n",
       "      <th>wind_gusts_10m</th>\n",
       "      <th>evapotranspiration</th>\n",
       "      <th>et0_fao_evapotranspiration</th>\n",
       "      <th>vapour_pressure_deficit</th>\n",
       "      <th>dew_point_2m</th>\n",
       "      <th>terrestrial_radiation_instant</th>\n",
       "      <th>hour</th>\n",
       "      <th>datetime_2</th>\n",
       "      <th>wind_direction_10m_sin</th>\n",
       "      <th>wind_direction_10m_cos</th>\n",
       "      <th>wind_direction_120m_sin</th>\n",
       "      <th>wind_direction_120m_cos</th>\n",
       "      <th>wind_direction_80m_sin</th>\n",
       "      <th>wind_direction_80m_cos</th>\n",
       "      <th>day_sin</th>\n",
       "      <th>day_cos</th>\n",
       "      <th>half_hour_sin</th>\n",
       "      <th>half_hour_cos</th>\n",
       "      <th>month_val_1</th>\n",
       "      <th>month_val_2</th>\n",
       "      <th>month_val_3</th>\n",
       "      <th>month_val_4</th>\n",
       "      <th>month_val_5</th>\n",
       "      <th>month_val_6</th>\n",
       "      <th>month_val_7</th>\n",
       "      <th>month_val_8</th>\n",
       "      <th>month_val_9</th>\n",
       "      <th>month_val_10</th>\n",
       "      <th>month_val_11</th>\n",
       "      <th>month_val_12</th>\n",
       "      <th>weekday_num_0</th>\n",
       "      <th>weekday_num_1</th>\n",
       "      <th>weekday_num_2</th>\n",
       "      <th>weekday_num_3</th>\n",
       "      <th>weekday_num_4</th>\n",
       "      <th>weekday_num_5</th>\n",
       "      <th>weekday_num_6</th>\n",
       "      <th>day_off</th>\n",
       "    </tr>\n",
       "  </thead>\n",
       "  <tbody>\n",
       "    <tr>\n",
       "      <th>66246</th>\n",
       "      <td>1421</td>\n",
       "      <td>2025</td>\n",
       "      <td>27</td>\n",
       "      <td>5</td>\n",
       "      <td>0</td>\n",
       "      <td>1.0</td>\n",
       "      <td>3</td>\n",
       "      <td>22.99480</td>\n",
       "      <td>120.19519</td>\n",
       "      <td>0</td>\n",
       "      <td>0</td>\n",
       "      <td>0.0</td>\n",
       "      <td>26.7</td>\n",
       "      <td>71</td>\n",
       "      <td>24.7</td>\n",
       "      <td>0</td>\n",
       "      <td>0</td>\n",
       "      <td>0</td>\n",
       "      <td>0</td>\n",
       "      <td>24140.0</td>\n",
       "      <td>9.6</td>\n",
       "      <td>23.4</td>\n",
       "      <td>23.2</td>\n",
       "      <td>0.0</td>\n",
       "      <td>1013.6</td>\n",
       "      <td>1013.0</td>\n",
       "      <td>11.3</td>\n",
       "      <td>11.9</td>\n",
       "      <td>8.6</td>\n",
       "      <td>-0.0</td>\n",
       "      <td>0.03</td>\n",
       "      <td>0.90</td>\n",
       "      <td>19.1</td>\n",
       "      <td>0.0</td>\n",
       "      <td>2</td>\n",
       "      <td>2025_4_27_5</td>\n",
       "      <td>0.224951</td>\n",
       "      <td>0.974370</td>\n",
       "      <td>0.156434</td>\n",
       "      <td>0.987688</td>\n",
       "      <td>0.156434</td>\n",
       "      <td>0.987688</td>\n",
       "      <td>-0.724793</td>\n",
       "      <td>0.688967</td>\n",
       "      <td>0.608761</td>\n",
       "      <td>0.793353</td>\n",
       "      <td>False</td>\n",
       "      <td>False</td>\n",
       "      <td>False</td>\n",
       "      <td>True</td>\n",
       "      <td>False</td>\n",
       "      <td>False</td>\n",
       "      <td>False</td>\n",
       "      <td>False</td>\n",
       "      <td>False</td>\n",
       "      <td>False</td>\n",
       "      <td>False</td>\n",
       "      <td>False</td>\n",
       "      <td>False</td>\n",
       "      <td>False</td>\n",
       "      <td>False</td>\n",
       "      <td>False</td>\n",
       "      <td>False</td>\n",
       "      <td>False</td>\n",
       "      <td>True</td>\n",
       "      <td>True</td>\n",
       "    </tr>\n",
       "    <tr>\n",
       "      <th>66247</th>\n",
       "      <td>1421</td>\n",
       "      <td>2025</td>\n",
       "      <td>28</td>\n",
       "      <td>40</td>\n",
       "      <td>0</td>\n",
       "      <td>1.0</td>\n",
       "      <td>3</td>\n",
       "      <td>22.99480</td>\n",
       "      <td>120.19519</td>\n",
       "      <td>0</td>\n",
       "      <td>0</td>\n",
       "      <td>0.0</td>\n",
       "      <td>28.1</td>\n",
       "      <td>62</td>\n",
       "      <td>27.4</td>\n",
       "      <td>0</td>\n",
       "      <td>0</td>\n",
       "      <td>0</td>\n",
       "      <td>0</td>\n",
       "      <td>24140.0</td>\n",
       "      <td>19.5</td>\n",
       "      <td>25.9</td>\n",
       "      <td>25.7</td>\n",
       "      <td>0.0</td>\n",
       "      <td>1011.2</td>\n",
       "      <td>1010.6</td>\n",
       "      <td>27.0</td>\n",
       "      <td>27.9</td>\n",
       "      <td>24.1</td>\n",
       "      <td>-0.0</td>\n",
       "      <td>0.11</td>\n",
       "      <td>1.39</td>\n",
       "      <td>19.5</td>\n",
       "      <td>0.0</td>\n",
       "      <td>20</td>\n",
       "      <td>2025_4_28_40</td>\n",
       "      <td>0.034899</td>\n",
       "      <td>0.999391</td>\n",
       "      <td>0.034899</td>\n",
       "      <td>0.999391</td>\n",
       "      <td>0.034899</td>\n",
       "      <td>0.999391</td>\n",
       "      <td>-0.571268</td>\n",
       "      <td>0.820763</td>\n",
       "      <td>-0.866025</td>\n",
       "      <td>0.500000</td>\n",
       "      <td>False</td>\n",
       "      <td>False</td>\n",
       "      <td>False</td>\n",
       "      <td>True</td>\n",
       "      <td>False</td>\n",
       "      <td>False</td>\n",
       "      <td>False</td>\n",
       "      <td>False</td>\n",
       "      <td>False</td>\n",
       "      <td>False</td>\n",
       "      <td>False</td>\n",
       "      <td>False</td>\n",
       "      <td>True</td>\n",
       "      <td>False</td>\n",
       "      <td>False</td>\n",
       "      <td>False</td>\n",
       "      <td>False</td>\n",
       "      <td>False</td>\n",
       "      <td>False</td>\n",
       "      <td>False</td>\n",
       "    </tr>\n",
       "    <tr>\n",
       "      <th>66250</th>\n",
       "      <td>1421</td>\n",
       "      <td>2025</td>\n",
       "      <td>4</td>\n",
       "      <td>20</td>\n",
       "      <td>0</td>\n",
       "      <td>1.0</td>\n",
       "      <td>3</td>\n",
       "      <td>22.99480</td>\n",
       "      <td>120.19519</td>\n",
       "      <td>20</td>\n",
       "      <td>20</td>\n",
       "      <td>0.0</td>\n",
       "      <td>36.2</td>\n",
       "      <td>49</td>\n",
       "      <td>31.9</td>\n",
       "      <td>83</td>\n",
       "      <td>0</td>\n",
       "      <td>0</td>\n",
       "      <td>82</td>\n",
       "      <td>24140.0</td>\n",
       "      <td>6.5</td>\n",
       "      <td>29.4</td>\n",
       "      <td>29.2</td>\n",
       "      <td>0.0</td>\n",
       "      <td>1009.3</td>\n",
       "      <td>1008.7</td>\n",
       "      <td>6.1</td>\n",
       "      <td>6.3</td>\n",
       "      <td>5.0</td>\n",
       "      <td>0.0</td>\n",
       "      <td>0.61</td>\n",
       "      <td>2.41</td>\n",
       "      <td>19.9</td>\n",
       "      <td>1187.1</td>\n",
       "      <td>10</td>\n",
       "      <td>2025_5_4_20</td>\n",
       "      <td>-0.829038</td>\n",
       "      <td>0.559193</td>\n",
       "      <td>-0.766044</td>\n",
       "      <td>0.642788</td>\n",
       "      <td>-0.766044</td>\n",
       "      <td>0.642788</td>\n",
       "      <td>0.724793</td>\n",
       "      <td>0.688967</td>\n",
       "      <td>0.500000</td>\n",
       "      <td>-0.866025</td>\n",
       "      <td>False</td>\n",
       "      <td>False</td>\n",
       "      <td>False</td>\n",
       "      <td>False</td>\n",
       "      <td>True</td>\n",
       "      <td>False</td>\n",
       "      <td>False</td>\n",
       "      <td>False</td>\n",
       "      <td>False</td>\n",
       "      <td>False</td>\n",
       "      <td>False</td>\n",
       "      <td>False</td>\n",
       "      <td>False</td>\n",
       "      <td>False</td>\n",
       "      <td>False</td>\n",
       "      <td>False</td>\n",
       "      <td>False</td>\n",
       "      <td>False</td>\n",
       "      <td>True</td>\n",
       "      <td>True</td>\n",
       "    </tr>\n",
       "    <tr>\n",
       "      <th>66256</th>\n",
       "      <td>181</td>\n",
       "      <td>2025</td>\n",
       "      <td>29</td>\n",
       "      <td>5</td>\n",
       "      <td>0</td>\n",
       "      <td>28.5</td>\n",
       "      <td>51</td>\n",
       "      <td>22.98488</td>\n",
       "      <td>120.20178</td>\n",
       "      <td>0</td>\n",
       "      <td>0</td>\n",
       "      <td>0.0</td>\n",
       "      <td>27.9</td>\n",
       "      <td>63</td>\n",
       "      <td>26.2</td>\n",
       "      <td>7</td>\n",
       "      <td>0</td>\n",
       "      <td>0</td>\n",
       "      <td>5</td>\n",
       "      <td>24140.0</td>\n",
       "      <td>9.8</td>\n",
       "      <td>24.9</td>\n",
       "      <td>24.7</td>\n",
       "      <td>0.0</td>\n",
       "      <td>1010.3</td>\n",
       "      <td>1009.7</td>\n",
       "      <td>14.4</td>\n",
       "      <td>15.2</td>\n",
       "      <td>11.2</td>\n",
       "      <td>-0.0</td>\n",
       "      <td>0.05</td>\n",
       "      <td>1.26</td>\n",
       "      <td>18.6</td>\n",
       "      <td>0.0</td>\n",
       "      <td>2</td>\n",
       "      <td>2025_4_29_5</td>\n",
       "      <td>-0.469472</td>\n",
       "      <td>-0.882948</td>\n",
       "      <td>-0.529919</td>\n",
       "      <td>-0.848048</td>\n",
       "      <td>-0.529919</td>\n",
       "      <td>-0.848048</td>\n",
       "      <td>-0.394356</td>\n",
       "      <td>0.918958</td>\n",
       "      <td>0.608761</td>\n",
       "      <td>0.793353</td>\n",
       "      <td>False</td>\n",
       "      <td>False</td>\n",
       "      <td>False</td>\n",
       "      <td>True</td>\n",
       "      <td>False</td>\n",
       "      <td>False</td>\n",
       "      <td>False</td>\n",
       "      <td>False</td>\n",
       "      <td>False</td>\n",
       "      <td>False</td>\n",
       "      <td>False</td>\n",
       "      <td>False</td>\n",
       "      <td>False</td>\n",
       "      <td>True</td>\n",
       "      <td>False</td>\n",
       "      <td>False</td>\n",
       "      <td>False</td>\n",
       "      <td>False</td>\n",
       "      <td>False</td>\n",
       "      <td>False</td>\n",
       "    </tr>\n",
       "    <tr>\n",
       "      <th>66261</th>\n",
       "      <td>181</td>\n",
       "      <td>2025</td>\n",
       "      <td>6</td>\n",
       "      <td>47</td>\n",
       "      <td>0</td>\n",
       "      <td>30.0</td>\n",
       "      <td>51</td>\n",
       "      <td>22.98488</td>\n",
       "      <td>120.20178</td>\n",
       "      <td>0</td>\n",
       "      <td>0</td>\n",
       "      <td>0.0</td>\n",
       "      <td>32.7</td>\n",
       "      <td>67</td>\n",
       "      <td>28.8</td>\n",
       "      <td>23</td>\n",
       "      <td>8</td>\n",
       "      <td>0</td>\n",
       "      <td>14</td>\n",
       "      <td>24140.0</td>\n",
       "      <td>6.9</td>\n",
       "      <td>27.3</td>\n",
       "      <td>27.1</td>\n",
       "      <td>0.0</td>\n",
       "      <td>1009.3</td>\n",
       "      <td>1008.7</td>\n",
       "      <td>7.8</td>\n",
       "      <td>7.9</td>\n",
       "      <td>7.6</td>\n",
       "      <td>-0.0</td>\n",
       "      <td>0.03</td>\n",
       "      <td>1.30</td>\n",
       "      <td>22.1</td>\n",
       "      <td>0.0</td>\n",
       "      <td>23</td>\n",
       "      <td>2025_5_6_47</td>\n",
       "      <td>-0.469472</td>\n",
       "      <td>-0.882948</td>\n",
       "      <td>-0.374607</td>\n",
       "      <td>-0.927184</td>\n",
       "      <td>-0.374607</td>\n",
       "      <td>-0.927184</td>\n",
       "      <td>0.937752</td>\n",
       "      <td>0.347305</td>\n",
       "      <td>-0.130526</td>\n",
       "      <td>0.991445</td>\n",
       "      <td>False</td>\n",
       "      <td>False</td>\n",
       "      <td>False</td>\n",
       "      <td>False</td>\n",
       "      <td>True</td>\n",
       "      <td>False</td>\n",
       "      <td>False</td>\n",
       "      <td>False</td>\n",
       "      <td>False</td>\n",
       "      <td>False</td>\n",
       "      <td>False</td>\n",
       "      <td>False</td>\n",
       "      <td>False</td>\n",
       "      <td>True</td>\n",
       "      <td>False</td>\n",
       "      <td>False</td>\n",
       "      <td>False</td>\n",
       "      <td>False</td>\n",
       "      <td>False</td>\n",
       "      <td>False</td>\n",
       "    </tr>\n",
       "  </tbody>\n",
       "</table>\n",
       "</div>"
      ],
      "text/plain": [
       "      ParkingSegmentID  year_val  day_val  half_hour_interval  district  \\\n",
       "66246             1421      2025       27                   5         0   \n",
       "66247             1421      2025       28                  40         0   \n",
       "66250             1421      2025        4                  20         0   \n",
       "66256              181      2025       29                   5         0   \n",
       "66261              181      2025        6                  47         0   \n",
       "\n",
       "       avg_available_spots  TotalSpaces       lat        lon  firstHourFee  \\\n",
       "66246                  1.0            3  22.99480  120.19519             0   \n",
       "66247                  1.0            3  22.99480  120.19519             0   \n",
       "66250                  1.0            3  22.99480  120.19519            20   \n",
       "66256                 28.5           51  22.98488  120.20178             0   \n",
       "66261                 30.0           51  22.98488  120.20178             0   \n",
       "\n",
       "       laterHourFee  precipitation  apparent_temperature  \\\n",
       "66246             0            0.0                  26.7   \n",
       "66247             0            0.0                  28.1   \n",
       "66250            20            0.0                  36.2   \n",
       "66256             0            0.0                  27.9   \n",
       "66261             0            0.0                  32.7   \n",
       "\n",
       "       relative_humidity_2m  temperature_2m  cloud_cover  cloud_cover_low  \\\n",
       "66246                    71            24.7            0                0   \n",
       "66247                    62            27.4            0                0   \n",
       "66250                    49            31.9           83                0   \n",
       "66256                    63            26.2            7                0   \n",
       "66261                    67            28.8           23                8   \n",
       "\n",
       "       cloud_cover_mid  cloud_cover_high  visibility  wind_speed_10m  \\\n",
       "66246                0                 0     24140.0             9.6   \n",
       "66247                0                 0     24140.0            19.5   \n",
       "66250                0                82     24140.0             6.5   \n",
       "66256                0                 5     24140.0             9.8   \n",
       "66261                0                14     24140.0             6.9   \n",
       "\n",
       "       temperature_80m  temperature_120m  showers  pressure_msl  \\\n",
       "66246             23.4              23.2      0.0        1013.6   \n",
       "66247             25.9              25.7      0.0        1011.2   \n",
       "66250             29.4              29.2      0.0        1009.3   \n",
       "66256             24.9              24.7      0.0        1010.3   \n",
       "66261             27.3              27.1      0.0        1009.3   \n",
       "\n",
       "       surface_pressure  wind_speed_80m  wind_speed_120m  wind_gusts_10m  \\\n",
       "66246            1013.0            11.3             11.9             8.6   \n",
       "66247            1010.6            27.0             27.9            24.1   \n",
       "66250            1008.7             6.1              6.3             5.0   \n",
       "66256            1009.7            14.4             15.2            11.2   \n",
       "66261            1008.7             7.8              7.9             7.6   \n",
       "\n",
       "       evapotranspiration  et0_fao_evapotranspiration  \\\n",
       "66246                -0.0                        0.03   \n",
       "66247                -0.0                        0.11   \n",
       "66250                 0.0                        0.61   \n",
       "66256                -0.0                        0.05   \n",
       "66261                -0.0                        0.03   \n",
       "\n",
       "       vapour_pressure_deficit  dew_point_2m  terrestrial_radiation_instant  \\\n",
       "66246                     0.90          19.1                            0.0   \n",
       "66247                     1.39          19.5                            0.0   \n",
       "66250                     2.41          19.9                         1187.1   \n",
       "66256                     1.26          18.6                            0.0   \n",
       "66261                     1.30          22.1                            0.0   \n",
       "\n",
       "       hour    datetime_2  wind_direction_10m_sin  wind_direction_10m_cos  \\\n",
       "66246     2   2025_4_27_5                0.224951                0.974370   \n",
       "66247    20  2025_4_28_40                0.034899                0.999391   \n",
       "66250    10   2025_5_4_20               -0.829038                0.559193   \n",
       "66256     2   2025_4_29_5               -0.469472               -0.882948   \n",
       "66261    23   2025_5_6_47               -0.469472               -0.882948   \n",
       "\n",
       "       wind_direction_120m_sin  wind_direction_120m_cos  \\\n",
       "66246                 0.156434                 0.987688   \n",
       "66247                 0.034899                 0.999391   \n",
       "66250                -0.766044                 0.642788   \n",
       "66256                -0.529919                -0.848048   \n",
       "66261                -0.374607                -0.927184   \n",
       "\n",
       "       wind_direction_80m_sin  wind_direction_80m_cos   day_sin   day_cos  \\\n",
       "66246                0.156434                0.987688 -0.724793  0.688967   \n",
       "66247                0.034899                0.999391 -0.571268  0.820763   \n",
       "66250               -0.766044                0.642788  0.724793  0.688967   \n",
       "66256               -0.529919               -0.848048 -0.394356  0.918958   \n",
       "66261               -0.374607               -0.927184  0.937752  0.347305   \n",
       "\n",
       "       half_hour_sin  half_hour_cos  month_val_1  month_val_2  month_val_3  \\\n",
       "66246       0.608761       0.793353        False        False        False   \n",
       "66247      -0.866025       0.500000        False        False        False   \n",
       "66250       0.500000      -0.866025        False        False        False   \n",
       "66256       0.608761       0.793353        False        False        False   \n",
       "66261      -0.130526       0.991445        False        False        False   \n",
       "\n",
       "       month_val_4  month_val_5  month_val_6  month_val_7  month_val_8  \\\n",
       "66246         True        False        False        False        False   \n",
       "66247         True        False        False        False        False   \n",
       "66250        False         True        False        False        False   \n",
       "66256         True        False        False        False        False   \n",
       "66261        False         True        False        False        False   \n",
       "\n",
       "       month_val_9  month_val_10  month_val_11  month_val_12  weekday_num_0  \\\n",
       "66246        False         False         False         False          False   \n",
       "66247        False         False         False         False           True   \n",
       "66250        False         False         False         False          False   \n",
       "66256        False         False         False         False          False   \n",
       "66261        False         False         False         False          False   \n",
       "\n",
       "       weekday_num_1  weekday_num_2  weekday_num_3  weekday_num_4  \\\n",
       "66246          False          False          False          False   \n",
       "66247          False          False          False          False   \n",
       "66250          False          False          False          False   \n",
       "66256           True          False          False          False   \n",
       "66261           True          False          False          False   \n",
       "\n",
       "       weekday_num_5  weekday_num_6  day_off  \n",
       "66246          False           True     True  \n",
       "66247          False          False    False  \n",
       "66250          False           True     True  \n",
       "66256          False          False    False  \n",
       "66261          False          False    False  "
      ]
     },
     "execution_count": 14,
     "metadata": {},
     "output_type": "execute_result"
    }
   ],
   "source": [
    "df_final[\"datetime\"] = pd.to_datetime(df_final[\"datetime\"])\n",
    "df_train = df_final[df_final[\"datetime\"] < \"2025-01-23\"]\n",
    "df_val = df_final[(df_final[\"datetime\"] >= \"2025-01-23\") & (df_final[\"datetime\"] < \"2025-03-23\")]\n",
    "df_test = df_final[df_final[\"datetime\"] >= \"2025-03-23\"]\n",
    "df_train.drop(columns=[\"datetime\"], inplace=True)\n",
    "df_val.drop(columns=[\"datetime\"], inplace=True)\n",
    "df_test.drop(columns=[\"datetime\"], inplace=True)\n",
    "df_train.head()\n",
    "df_val.head()\n",
    "df_test.head()"
   ]
  },
  {
   "cell_type": "code",
   "execution_count": 15,
   "metadata": {
    "trusted": true
   },
   "outputs": [
    {
     "name": "stderr",
     "output_type": "stream",
     "text": [
      "/var/folders/wt/6hl8qhss3jz9zrdh6n8f3_qh0000gn/T/ipykernel_24723/3745555813.py:1: SettingWithCopyWarning: \n",
      "A value is trying to be set on a copy of a slice from a DataFrame.\n",
      "Try using .loc[row_indexer,col_indexer] = value instead\n",
      "\n",
      "See the caveats in the documentation: https://pandas.pydata.org/pandas-docs/stable/user_guide/indexing.html#returning-a-view-versus-a-copy\n",
      "  df_train['available_percent'] = df_train[\"avg_available_spots\"]\n",
      "/var/folders/wt/6hl8qhss3jz9zrdh6n8f3_qh0000gn/T/ipykernel_24723/3745555813.py:2: SettingWithCopyWarning: \n",
      "A value is trying to be set on a copy of a slice from a DataFrame.\n",
      "Try using .loc[row_indexer,col_indexer] = value instead\n",
      "\n",
      "See the caveats in the documentation: https://pandas.pydata.org/pandas-docs/stable/user_guide/indexing.html#returning-a-view-versus-a-copy\n",
      "  df_val['available_percent'] = df_val[\"avg_available_spots\"]\n",
      "/var/folders/wt/6hl8qhss3jz9zrdh6n8f3_qh0000gn/T/ipykernel_24723/3745555813.py:3: SettingWithCopyWarning: \n",
      "A value is trying to be set on a copy of a slice from a DataFrame.\n",
      "Try using .loc[row_indexer,col_indexer] = value instead\n",
      "\n",
      "See the caveats in the documentation: https://pandas.pydata.org/pandas-docs/stable/user_guide/indexing.html#returning-a-view-versus-a-copy\n",
      "  df_test['available_percent'] = df_test[\"avg_available_spots\"]\n",
      "/var/folders/wt/6hl8qhss3jz9zrdh6n8f3_qh0000gn/T/ipykernel_24723/3745555813.py:4: SettingWithCopyWarning: \n",
      "A value is trying to be set on a copy of a slice from a DataFrame\n",
      "\n",
      "See the caveats in the documentation: https://pandas.pydata.org/pandas-docs/stable/user_guide/indexing.html#returning-a-view-versus-a-copy\n",
      "  df_train.drop(columns=[\"avg_available_spots\"], inplace=True)\n",
      "/var/folders/wt/6hl8qhss3jz9zrdh6n8f3_qh0000gn/T/ipykernel_24723/3745555813.py:5: SettingWithCopyWarning: \n",
      "A value is trying to be set on a copy of a slice from a DataFrame\n",
      "\n",
      "See the caveats in the documentation: https://pandas.pydata.org/pandas-docs/stable/user_guide/indexing.html#returning-a-view-versus-a-copy\n",
      "  df_val.drop(columns=[\"avg_available_spots\"], inplace=True)\n",
      "/var/folders/wt/6hl8qhss3jz9zrdh6n8f3_qh0000gn/T/ipykernel_24723/3745555813.py:6: SettingWithCopyWarning: \n",
      "A value is trying to be set on a copy of a slice from a DataFrame\n",
      "\n",
      "See the caveats in the documentation: https://pandas.pydata.org/pandas-docs/stable/user_guide/indexing.html#returning-a-view-versus-a-copy\n",
      "  df_test.drop(columns=[\"avg_available_spots\"], inplace=True)\n"
     ]
    }
   ],
   "source": [
    "df_train['available_percent'] = df_train[\"avg_available_spots\"]\n",
    "df_val['available_percent'] = df_val[\"avg_available_spots\"]\n",
    "df_test['available_percent'] = df_test[\"avg_available_spots\"]\n",
    "df_train.drop(columns=[\"avg_available_spots\"], inplace=True)\n",
    "df_val.drop(columns=[\"avg_available_spots\"], inplace=True)\n",
    "df_test.drop(columns=[\"avg_available_spots\"], inplace=True)"
   ]
  },
  {
   "cell_type": "code",
   "execution_count": null,
   "metadata": {
    "trusted": true
   },
   "outputs": [
    {
     "name": "stdout",
     "output_type": "stream",
     "text": [
      "147\n",
      "152\n",
      "157\n",
      "val 停車場數量: 147\n",
      "test 停車場數量: 147\n"
     ]
    }
   ],
   "source": [
    "print(len(df_train.loc[df_train['datetime_2'] == \"2024_1_23_2\", 'ParkingSegmentID'].unique()))\n",
    "print(len(df_train['ParkingSegmentID'].unique()))\n",
    "print(len(df_test['ParkingSegmentID'].unique()))\n",
    "# retrieve all parking lot IDs from the training set\n",
    "train_seg_id = set(df_train.loc[df_train['datetime_2'] == \"2024_1_23_2\", 'ParkingSegmentID'].unique())\n",
    "\n",
    "# filter validation/test sets to retain only the IDs present in the training set\n",
    "df_train = df_train[df_train['ParkingSegmentID'].isin(train_seg_id)].copy()\n",
    "df_val = df_val[df_val['ParkingSegmentID'].isin(train_seg_id)].copy()\n",
    "df_test = df_test[df_test['ParkingSegmentID'].isin(train_seg_id)].copy()\n",
    "\n",
    "print(\"val 停車場數量:\", len(df_val['ParkingSegmentID'].unique()))\n",
    "print(\"test 停車場數量:\", len(df_test['ParkingSegmentID'].unique()))"
   ]
  },
  {
   "cell_type": "code",
   "execution_count": 17,
   "metadata": {
    "trusted": true
   },
   "outputs": [
    {
     "data": {
      "text/plain": [
       "Index(['ParkingSegmentID', 'year_val', 'day_val', 'half_hour_interval',\n",
       "       'district', 'TotalSpaces', 'lat', 'lon', 'firstHourFee', 'laterHourFee',\n",
       "       'precipitation', 'apparent_temperature', 'relative_humidity_2m',\n",
       "       'temperature_2m', 'cloud_cover', 'cloud_cover_low', 'cloud_cover_mid',\n",
       "       'cloud_cover_high', 'visibility', 'wind_speed_10m', 'temperature_80m',\n",
       "       'temperature_120m', 'showers', 'pressure_msl', 'surface_pressure',\n",
       "       'wind_speed_80m', 'wind_speed_120m', 'wind_gusts_10m',\n",
       "       'evapotranspiration', 'et0_fao_evapotranspiration',\n",
       "       'vapour_pressure_deficit', 'dew_point_2m',\n",
       "       'terrestrial_radiation_instant', 'hour', 'datetime_2',\n",
       "       'wind_direction_10m_sin', 'wind_direction_10m_cos',\n",
       "       'wind_direction_120m_sin', 'wind_direction_120m_cos',\n",
       "       'wind_direction_80m_sin', 'wind_direction_80m_cos', 'day_sin',\n",
       "       'day_cos', 'half_hour_sin', 'half_hour_cos', 'month_val_1',\n",
       "       'month_val_2', 'month_val_3', 'month_val_4', 'month_val_5',\n",
       "       'month_val_6', 'month_val_7', 'month_val_8', 'month_val_9',\n",
       "       'month_val_10', 'month_val_11', 'month_val_12', 'weekday_num_0',\n",
       "       'weekday_num_1', 'weekday_num_2', 'weekday_num_3', 'weekday_num_4',\n",
       "       'weekday_num_5', 'weekday_num_6', 'day_off', 'available_percent'],\n",
       "      dtype='object')"
      ]
     },
     "execution_count": 17,
     "metadata": {},
     "output_type": "execute_result"
    }
   ],
   "source": [
    "df_train.columns"
   ]
  },
  {
   "cell_type": "code",
   "execution_count": 18,
   "metadata": {
    "trusted": true
   },
   "outputs": [],
   "source": [
    "spatial_cols = ['lat', 'lon','district'\n",
    "                   ]\n",
    "temporal_cols = [\n",
    " 'TotalSpaces',\n",
    "'half_hour_sin',\n",
    "'day_off',\n",
    "'half_hour_cos',\n",
    "'terrestrial_radiation_instant',\n",
    "'firstHourFee',\n",
    "'laterHourFee',\n",
    "'et0_fao_evapotranspiration',\n",
    "'relative_humidity_2m',\n",
    "'weekday_num_5',\n",
    "'dew_point_2m',\n",
    "'weekday_num_6',\n",
    "'surface_pressure',\n",
    "'pressure_msl',\n",
    "'wind_speed_10m']\n",
    "spatial_cols_to_scale = ['lat', 'lon']\n",
    "temporal_cols_to_scale = ['TotalSpaces',\n",
    "'terrestrial_radiation_instant',\n",
    "'firstHourFee',\n",
    "'laterHourFee',\n",
    "'et0_fao_evapotranspiration',\n",
    "'relative_humidity_2m',\n",
    "'dew_point_2m',\n",
    "'surface_pressure',\n",
    "'pressure_msl',\n",
    "'wind_speed_10m'\n",
    "]"
   ]
  },
  {
   "cell_type": "code",
   "execution_count": null,
   "metadata": {
    "trusted": true
   },
   "outputs": [],
   "source": [
    "def build_spatial_df(df, spatial_cols):\n",
    "    # return the static feature table deduplicated by ParkingSegmentID\n",
    "    spatial_df = (\n",
    "        df.groupby('ParkingSegmentID')[spatial_cols]\n",
    "          .first()            \n",
    "          .reset_index()\n",
    "    )\n",
    "    return spatial_df\n",
    "\n",
    "spatial_df = build_spatial_df(df_train, spatial_cols)   \n",
    "N = len(spatial_df)"
   ]
  },
  {
   "cell_type": "code",
   "execution_count": null,
   "metadata": {
    "trusted": true
   },
   "outputs": [],
   "source": [
    "from collections import defaultdict\n",
    "import numpy as np\n",
    "import torch\n",
    "test_time_key =[]\n",
    "def prepare_full_timeslice_batches(df, spatial_df,\n",
    "                                   temporal_cols, target_col='available_percent'):\n",
    "    \"\"\"\n",
    "    only keep the slices where all N nodes are present at that time point.\n",
    "    return batches: List[Dict], where each batch includes:\n",
    "    temporal_features : [N, d_t] numpy array\n",
    "    target            : [N] numpy array\n",
    "    time_key          : time index (optional)\n",
    "    \"\"\"\n",
    "    # create node ordering → to facilitate alignment with the order in spatial_df\n",
    "    node_order = spatial_df['ParkingSegmentID'].tolist()\n",
    "    node_idx_map = {pid: idx for idx, pid in enumerate(node_order)}\n",
    "    N = len(node_order)\n",
    "    batches = []\n",
    "    # group by time step\n",
    "    for time_key, g in df.groupby('datetime_2'):\n",
    "        if len(g) != N:\n",
    "            # incomplete data at this time point, skip directly\n",
    "            continue\n",
    "        # align according to node_order\n",
    "        g_sorted = g.set_index('ParkingSegmentID').loc[node_order]\n",
    "        assert len(g_sorted) == N, f\"time {time_key} 節點遺失！\"\n",
    "        \n",
    "        t_mat = g_sorted[temporal_cols].to_numpy(dtype=np.float32)                  # [N, d_t]\n",
    "        tgt   = g_sorted[target_col].to_numpy(dtype=np.float32)                     # [N]\n",
    "        test_time_key.append(time_key)\n",
    "        batches.append({\n",
    "            'time_key': time_key,\n",
    "            'temporal_features': t_mat,\n",
    "            'target': tgt,\n",
    "\n",
    "        })\n",
    "    return batches"
   ]
  },
  {
   "cell_type": "code",
   "execution_count": null,
   "metadata": {},
   "outputs": [],
   "source": [
    "\n",
    "import matplotlib.pyplot as plt\n",
    "\n",
    "# count the number of data records for each parking lot\n",
    "count_per_parking = df_train['ParkingSegmentID'].value_counts()\n",
    "\n",
    "# then count how many parking lots have exactly n data records\n",
    "count_of_counts = count_per_parking.value_counts().sort_index()\n",
    "\n",
    "plt.figure(figsize=(10,6))\n",
    "plt.bar(count_of_counts.index, count_of_counts.values, width=1.0, edgecolor='black')\n",
    "plt.xlabel('每個停車場的資料筆數')\n",
    "plt.ylabel('有這麼多資料的停車場數量')\n",
    "plt.title('停車場資料筆數分布')\n",
    "plt.tight_layout()\n",
    "plt.show()"
   ]
  },
  {
   "cell_type": "code",
   "execution_count": null,
   "metadata": {
    "trusted": true
   },
   "outputs": [
    {
     "name": "stderr",
     "output_type": "stream",
     "text": [
      "/var/folders/wt/6hl8qhss3jz9zrdh6n8f3_qh0000gn/T/ipykernel_24723/2811152063.py:13: FutureWarning: Setting an item of incompatible dtype is deprecated and will raise in a future error of pandas. Value '[-0.36874861 -0.36874861 -0.36874861 ... -0.19343778 -0.19343778\n",
      " -0.19343778]' has dtype incompatible with int64, please explicitly cast to a compatible dtype first.\n",
      "  df_scaled.loc[:, c] = temporal_scaler[c].transform(df_scaled[[c]]).ravel()\n",
      "/var/folders/wt/6hl8qhss3jz9zrdh6n8f3_qh0000gn/T/ipykernel_24723/2811152063.py:13: FutureWarning: Setting an item of incompatible dtype is deprecated and will raise in a future error of pandas. Value '[-1.09947748 -1.09947748  0.76159863 ...  0.76159863  0.76159863\n",
      "  0.76159863]' has dtype incompatible with int64, please explicitly cast to a compatible dtype first.\n",
      "  df_scaled.loc[:, c] = temporal_scaler[c].transform(df_scaled[[c]]).ravel()\n",
      "/var/folders/wt/6hl8qhss3jz9zrdh6n8f3_qh0000gn/T/ipykernel_24723/2811152063.py:13: FutureWarning: Setting an item of incompatible dtype is deprecated and will raise in a future error of pandas. Value '[-1.09008235 -1.09008235  0.70324844 ...  0.70324844  0.70324844\n",
      "  0.70324844]' has dtype incompatible with int64, please explicitly cast to a compatible dtype first.\n",
      "  df_scaled.loc[:, c] = temporal_scaler[c].transform(df_scaled[[c]]).ravel()\n",
      "/var/folders/wt/6hl8qhss3jz9zrdh6n8f3_qh0000gn/T/ipykernel_24723/2811152063.py:13: FutureWarning: Setting an item of incompatible dtype is deprecated and will raise in a future error of pandas. Value '[1.34416301 2.66867237 1.67529035 ... 0.01965364 0.51634465 0.01965364]' has dtype incompatible with int64, please explicitly cast to a compatible dtype first.\n",
      "  df_scaled.loc[:, c] = temporal_scaler[c].transform(df_scaled[[c]]).ravel()\n",
      "/var/folders/wt/6hl8qhss3jz9zrdh6n8f3_qh0000gn/T/ipykernel_24723/2811152063.py:13: FutureWarning: Setting an item of incompatible dtype is deprecated and will raise in a future error of pandas. Value '[-0.36874861 -0.33184107 -0.33184107 ... -0.19343778 -0.19343778\n",
      " -0.19343778]' has dtype incompatible with int64, please explicitly cast to a compatible dtype first.\n",
      "  df_scaled.loc[:, c] = temporal_scaler[c].transform(df_scaled[[c]]).ravel()\n",
      "/var/folders/wt/6hl8qhss3jz9zrdh6n8f3_qh0000gn/T/ipykernel_24723/2811152063.py:13: FutureWarning: Setting an item of incompatible dtype is deprecated and will raise in a future error of pandas. Value '[ 0.76159863 -1.09947748  0.76159863 ...  0.76159863  0.76159863\n",
      "  0.76159863]' has dtype incompatible with int64, please explicitly cast to a compatible dtype first.\n",
      "  df_scaled.loc[:, c] = temporal_scaler[c].transform(df_scaled[[c]]).ravel()\n",
      "/var/folders/wt/6hl8qhss3jz9zrdh6n8f3_qh0000gn/T/ipykernel_24723/2811152063.py:13: FutureWarning: Setting an item of incompatible dtype is deprecated and will raise in a future error of pandas. Value '[ 0.70324844 -1.09008235  1.59991384 ...  0.70324844  0.70324844\n",
      "  0.70324844]' has dtype incompatible with int64, please explicitly cast to a compatible dtype first.\n",
      "  df_scaled.loc[:, c] = temporal_scaler[c].transform(df_scaled[[c]]).ravel()\n",
      "/var/folders/wt/6hl8qhss3jz9zrdh6n8f3_qh0000gn/T/ipykernel_24723/2811152063.py:13: FutureWarning: Setting an item of incompatible dtype is deprecated and will raise in a future error of pandas. Value '[-0.3114737   0.59912649  1.01303567 ... -1.05651022 -3.29161978\n",
      " -2.21545591]' has dtype incompatible with int64, please explicitly cast to a compatible dtype first.\n",
      "  df_scaled.loc[:, c] = temporal_scaler[c].transform(df_scaled[[c]]).ravel()\n",
      "/var/folders/wt/6hl8qhss3jz9zrdh6n8f3_qh0000gn/T/ipykernel_24723/2811152063.py:13: FutureWarning: Setting an item of incompatible dtype is deprecated and will raise in a future error of pandas. Value '[-0.36874861 -0.36874861 -0.36874861 ... -0.19343778 -0.19343778\n",
      " -0.19343778]' has dtype incompatible with int64, please explicitly cast to a compatible dtype first.\n",
      "  df_scaled.loc[:, c] = temporal_scaler[c].transform(df_scaled[[c]]).ravel()\n",
      "/var/folders/wt/6hl8qhss3jz9zrdh6n8f3_qh0000gn/T/ipykernel_24723/2811152063.py:13: FutureWarning: Setting an item of incompatible dtype is deprecated and will raise in a future error of pandas. Value '[-1.09947748 -1.09947748  0.76159863 ...  0.76159863  0.76159863\n",
      "  0.76159863]' has dtype incompatible with int64, please explicitly cast to a compatible dtype first.\n",
      "  df_scaled.loc[:, c] = temporal_scaler[c].transform(df_scaled[[c]]).ravel()\n",
      "/var/folders/wt/6hl8qhss3jz9zrdh6n8f3_qh0000gn/T/ipykernel_24723/2811152063.py:13: FutureWarning: Setting an item of incompatible dtype is deprecated and will raise in a future error of pandas. Value '[-1.09008235 -1.09008235  0.70324844 ...  0.70324844  0.70324844\n",
      "  0.70324844]' has dtype incompatible with int64, please explicitly cast to a compatible dtype first.\n",
      "  df_scaled.loc[:, c] = temporal_scaler[c].transform(df_scaled[[c]]).ravel()\n",
      "/var/folders/wt/6hl8qhss3jz9zrdh6n8f3_qh0000gn/T/ipykernel_24723/2811152063.py:13: FutureWarning: Setting an item of incompatible dtype is deprecated and will raise in a future error of pandas. Value '[ 0.76469016  0.01965364 -1.05651022 ...  0.01965364  0.01965364\n",
      " -0.97372838]' has dtype incompatible with int64, please explicitly cast to a compatible dtype first.\n",
      "  df_scaled.loc[:, c] = temporal_scaler[c].transform(df_scaled[[c]]).ravel()\n"
     ]
    }
   ],
   "source": [
    "from sklearn.preprocessing import StandardScaler\n",
    "\n",
    "# create scaler \n",
    "spatial_scaler   = {c: StandardScaler().fit(df_train[[c]]) for c in spatial_cols_to_scale}\n",
    "temporal_scaler  = {c: StandardScaler().fit(df_train[[c]]) for c in temporal_cols_to_scale}\n",
    "\n",
    "def scale_dataframe(df):\n",
    "    df_scaled = df.copy()\n",
    "    \n",
    "    for c in spatial_cols_to_scale:\n",
    "        df_scaled.loc[:, c] = spatial_scaler[c].transform(df_scaled[[c]]).ravel()\n",
    "    for c in temporal_cols_to_scale:\n",
    "        df_scaled.loc[:, c] = temporal_scaler[c].transform(df_scaled[[c]]).ravel()\n",
    "    return df_scaled\n",
    "\n",
    "# ------------- generate batches -------------\n",
    "df_train_scaled = scale_dataframe(df_train)\n",
    "df_val_scaled   = scale_dataframe(df_val)\n",
    "df_test_scaled  = scale_dataframe(df_test)\n",
    "\n",
    "train_batches = prepare_full_timeslice_batches(df_train_scaled,\n",
    "                                               spatial_df,\n",
    "                                               temporal_cols)\n",
    "\n",
    "val_batches   = prepare_full_timeslice_batches(df_val_scaled,\n",
    "                                               spatial_df,\n",
    "                                               temporal_cols)\n",
    "test_time_key =[]\n",
    "test_batches  = prepare_full_timeslice_batches(df_test_scaled,\n",
    "                                               spatial_df,\n",
    "                                               temporal_cols)"
   ]
  },
  {
   "cell_type": "code",
   "execution_count": 23,
   "metadata": {},
   "outputs": [],
   "source": [
    "node_order = spatial_df['ParkingSegmentID'].tolist()"
   ]
  },
  {
   "cell_type": "code",
   "execution_count": 24,
   "metadata": {},
   "outputs": [],
   "source": [
    "df_test_out = df_test.loc[(df_test['datetime_2'].isin(test_time_key)) & (df_test['ParkingSegmentID'].isin(node_order))].drop(columns=['datetime_2','day_val'])"
   ]
  },
  {
   "cell_type": "code",
   "execution_count": 25,
   "metadata": {},
   "outputs": [],
   "source": [
    "df_test_out['avg_available_spots'] = df_test_out['available_percent']\n",
    "df_test_out.drop(columns=['half_hour_interval','hour','available_percent'],inplace=True)\n",
    "df_test_out.to_csv('df_test_out.csv',index=False)\n"
   ]
  },
  {
   "cell_type": "code",
   "execution_count": null,
   "metadata": {
    "trusted": true
   },
   "outputs": [],
   "source": [
    "from sklearn.neighbors import NearestNeighbors\n",
    "import numpy as np\n",
    "\n",
    "def build_spatial_graph(spatial_df, k=8):\n",
    "    coords = spatial_df[['lat', 'lon']].values\n",
    "    N = len(coords)\n",
    "    \n",
    "    nn_model = NearestNeighbors(n_neighbors=min(k+1, N))\n",
    "    nn_model.fit(coords)\n",
    "    distances, indices = nn_model.kneighbors(coords)\n",
    "    \n",
    "    # create edges and weights\n",
    "    edge_dict = dict()\n",
    "    for i in range(N):\n",
    "        for j in range(1, min(k+1, N)):\n",
    "            neighbor_idx = indices[i, j]\n",
    "            if i != neighbor_idx:\n",
    "                edge = tuple(sorted((i, neighbor_idx)))\n",
    "                # use a Gaussian kernel for the weights\n",
    "                distance = distances[i, j]\n",
    "                weight = 1/distance\n",
    "                # if the edge already exists, take the average of the weights\n",
    "                if edge in edge_dict:\n",
    "                    edge_dict[edge] = (edge_dict[edge] + weight) / 2\n",
    "                else:\n",
    "                    edge_dict[edge] = weight\n",
    "\n",
    "    src, dst = zip(*edge_dict.keys())\n",
    "    edge_index = torch.tensor([src, dst], dtype=torch.long)\n",
    "    edge_weight = torch.tensor(list(edge_dict.values()), dtype=torch.float)\n",
    "    \n",
    "    return edge_index, edge_weight\n",
    "\n",
    "edge_index, edge_weight = build_spatial_graph(spatial_df, k=8)"
   ]
  },
  {
   "cell_type": "code",
   "execution_count": null,
   "metadata": {
    "trusted": true
   },
   "outputs": [],
   "source": [
    "class SpatioTemporalGNN(torch.nn.Module):\n",
    "    def __init__(self, spatial_features, temporal_features, hidden_dim=64, dropout=0.0, activation=torch.nn.ReLU()):\n",
    "        super().__init__()\n",
    "        \n",
    "        # spatial features encoder\n",
    "        self.spatial_encoder = torch.nn.Sequential(\n",
    "            torch.nn.Linear(spatial_features, hidden_dim),\n",
    "            activation,\n",
    "            torch.nn.Dropout(dropout),\n",
    "            torch.nn.Linear(hidden_dim, hidden_dim)\n",
    "        )\n",
    "        \n",
    "        # temporal features encoder\n",
    "        self.temporal_encoder = torch.nn.Sequential(\n",
    "            torch.nn.Linear(temporal_features, hidden_dim),\n",
    "            activation,\n",
    "            torch.nn.Dropout(dropout),\n",
    "            torch.nn.Linear(hidden_dim, hidden_dim)\n",
    "        )\n",
    "        \n",
    "        # GNN layers\n",
    "        self.conv1 = GCNConv(hidden_dim, hidden_dim)\n",
    "        self.conv2 = GCNConv(hidden_dim, hidden_dim)\n",
    "        \n",
    "        # prediction layer\n",
    "        self.predictor = torch.nn.Sequential(\n",
    "            torch.nn.Linear(hidden_dim, hidden_dim // 2),\n",
    "            activation,\n",
    "            torch.nn.Dropout(dropout),\n",
    "            torch.nn.Linear(hidden_dim // 2, 1)\n",
    "        )\n",
    "        self.gate_layer = torch.nn.Sequential(\n",
    "            torch.nn.Linear(hidden_dim * 2, hidden_dim),\n",
    "            torch.nn.Sigmoid()\n",
    "        )\n",
    "            \n",
    "    def forward(self, spatial_x, temporal_x, edge_index, edge_weight):\n",
    "        # encode spatial features\n",
    "        spatial_emb = self.spatial_encoder(spatial_x)\n",
    "        \n",
    "        # encode temporal features\n",
    "        temporal_emb = self.temporal_encoder(temporal_x)\n",
    "        # merge features\n",
    "        concat_feat = torch.cat([spatial_emb, temporal_emb], dim=1)\n",
    "        gate = self.gate_layer(concat_feat)  # [N, hidden_dim]\n",
    "        x = gate * spatial_emb + (1 - gate) * temporal_emb \n",
    "                # GNN process\n",
    "        x1 = F.relu(self.conv1(x, edge_index, edge_weight))\n",
    "        x2 = F.relu(self.conv2(x1, edge_index, edge_weight)) + x1\n",
    "        \n",
    "        # predict\n",
    "        return self.predictor(x)\n",
    "def run_epoch(batches, model, spatial_x,\n",
    "              edge_index, edge_attr,\n",
    "              optimizer=None,\n",
    "              batch_size=8,\n",
    "              collect_pred=False):\n",
    "\n",
    "    train_mode = optimizer is not None\n",
    "    model.train() if train_mode else model.eval()\n",
    "\n",
    "    total_loss, total_count = 0.0, 0\n",
    "    y_true_all, y_pred_all = [], []\n",
    "\n",
    "    for i in range(0, len(batches), batch_size):\n",
    "        slice_batch = batches[i : i + batch_size]\n",
    "\n",
    "        temporal_stack = torch.stack([\n",
    "            torch.from_numpy(b['temporal_features'])\n",
    "            for b in slice_batch\n",
    "        ]).to(spatial_x.device, dtype=spatial_x.dtype)\n",
    "\n",
    "        target_stack = torch.stack([\n",
    "            torch.from_numpy(b['target']).unsqueeze(1)\n",
    "            for b in slice_batch\n",
    "        ]).to(spatial_x.device, dtype=torch.float32)\n",
    "\n",
    "        batch_loss = 0.0\n",
    "        batch_count = 0\n",
    "        preds = []\n",
    "        for t_feat, tgt in zip(temporal_stack, target_stack):\n",
    "            out = model(spatial_x, t_feat, edge_index, edge_attr)\n",
    "            per_node_loss = F.mse_loss(out, tgt, reduction='sum')\n",
    "            batch_loss += per_node_loss\n",
    "            batch_count += out.numel()\n",
    "            preds.append(out)\n",
    "\n",
    "        if train_mode:\n",
    "            optimizer.zero_grad()\n",
    "            (batch_loss / batch_count).backward()  # use a tensor to perform backward\n",
    "            torch.nn.utils.clip_grad_norm_(model.parameters(), 1.0)\n",
    "            optimizer.step()\n",
    "\n",
    "        if collect_pred:\n",
    "            y_true_all.append(target_stack.detach().cpu())\n",
    "            y_pred_all.append(torch.stack(preds).detach().cpu())\n",
    "        total_loss += batch_loss.item()\n",
    "        total_count += batch_count\n",
    "\n",
    "    mean_loss = total_loss / total_count\n",
    "\n",
    "    if collect_pred:\n",
    "        y_true_all = torch.cat(y_true_all).numpy().flatten()\n",
    "        y_pred_all = torch.cat(y_pred_all).numpy().flatten()\n",
    "        return mean_loss, y_true_all, y_pred_all\n",
    "    else:\n",
    "        return mean_loss, None, None"
   ]
  },
  {
   "cell_type": "code",
   "execution_count": 28,
   "metadata": {
    "trusted": true
   },
   "outputs": [],
   "source": [
    "model = SpatioTemporalGNN(\n",
    "        spatial_features=len(spatial_cols),\n",
    "        temporal_features=len(temporal_cols),\n",
    "        hidden_dim=64,\n",
    "        dropout=0,\n",
    "        activation=torch.nn.ReLU()\n",
    "    )\n",
    "device = torch.device('cpu')"
   ]
  },
  {
   "cell_type": "code",
   "execution_count": 29,
   "metadata": {
    "trusted": true
   },
   "outputs": [
    {
     "data": {
      "text/html": [
       "<div>\n",
       "<style scoped>\n",
       "    .dataframe tbody tr th:only-of-type {\n",
       "        vertical-align: middle;\n",
       "    }\n",
       "\n",
       "    .dataframe tbody tr th {\n",
       "        vertical-align: top;\n",
       "    }\n",
       "\n",
       "    .dataframe thead th {\n",
       "        text-align: right;\n",
       "    }\n",
       "</style>\n",
       "<table border=\"1\" class=\"dataframe\">\n",
       "  <thead>\n",
       "    <tr style=\"text-align: right;\">\n",
       "      <th></th>\n",
       "      <th>ParkingSegmentID</th>\n",
       "      <th>lat</th>\n",
       "      <th>lon</th>\n",
       "      <th>district</th>\n",
       "    </tr>\n",
       "  </thead>\n",
       "  <tbody>\n",
       "    <tr>\n",
       "      <th>0</th>\n",
       "      <td>1001</td>\n",
       "      <td>22.99728</td>\n",
       "      <td>120.17506</td>\n",
       "      <td>1</td>\n",
       "    </tr>\n",
       "    <tr>\n",
       "      <th>1</th>\n",
       "      <td>1002</td>\n",
       "      <td>22.99443</td>\n",
       "      <td>120.18191</td>\n",
       "      <td>1</td>\n",
       "    </tr>\n",
       "    <tr>\n",
       "      <th>2</th>\n",
       "      <td>101</td>\n",
       "      <td>22.98781</td>\n",
       "      <td>120.20494</td>\n",
       "      <td>0</td>\n",
       "    </tr>\n",
       "    <tr>\n",
       "      <th>3</th>\n",
       "      <td>1011</td>\n",
       "      <td>22.99679</td>\n",
       "      <td>120.17929</td>\n",
       "      <td>1</td>\n",
       "    </tr>\n",
       "    <tr>\n",
       "      <th>4</th>\n",
       "      <td>1071</td>\n",
       "      <td>22.98840</td>\n",
       "      <td>120.19851</td>\n",
       "      <td>0</td>\n",
       "    </tr>\n",
       "    <tr>\n",
       "      <th>...</th>\n",
       "      <td>...</td>\n",
       "      <td>...</td>\n",
       "      <td>...</td>\n",
       "      <td>...</td>\n",
       "    </tr>\n",
       "    <tr>\n",
       "      <th>142</th>\n",
       "      <td>911</td>\n",
       "      <td>22.99547</td>\n",
       "      <td>120.18517</td>\n",
       "      <td>1</td>\n",
       "    </tr>\n",
       "    <tr>\n",
       "      <th>143</th>\n",
       "      <td>92</td>\n",
       "      <td>22.98643</td>\n",
       "      <td>120.20818</td>\n",
       "      <td>0</td>\n",
       "    </tr>\n",
       "    <tr>\n",
       "      <th>144</th>\n",
       "      <td>981</td>\n",
       "      <td>22.99706</td>\n",
       "      <td>120.17182</td>\n",
       "      <td>1</td>\n",
       "    </tr>\n",
       "    <tr>\n",
       "      <th>145</th>\n",
       "      <td>982</td>\n",
       "      <td>22.98248</td>\n",
       "      <td>120.16979</td>\n",
       "      <td>1</td>\n",
       "    </tr>\n",
       "    <tr>\n",
       "      <th>146</th>\n",
       "      <td>991</td>\n",
       "      <td>22.99511</td>\n",
       "      <td>120.16939</td>\n",
       "      <td>1</td>\n",
       "    </tr>\n",
       "  </tbody>\n",
       "</table>\n",
       "<p>147 rows × 4 columns</p>\n",
       "</div>"
      ],
      "text/plain": [
       "    ParkingSegmentID       lat        lon  district\n",
       "0               1001  22.99728  120.17506         1\n",
       "1               1002  22.99443  120.18191         1\n",
       "2                101  22.98781  120.20494         0\n",
       "3               1011  22.99679  120.17929         1\n",
       "4               1071  22.98840  120.19851         0\n",
       "..               ...       ...        ...       ...\n",
       "142              911  22.99547  120.18517         1\n",
       "143               92  22.98643  120.20818         0\n",
       "144              981  22.99706  120.17182         1\n",
       "145              982  22.98248  120.16979         1\n",
       "146              991  22.99511  120.16939         1\n",
       "\n",
       "[147 rows x 4 columns]"
      ]
     },
     "execution_count": 29,
     "metadata": {},
     "output_type": "execute_result"
    }
   ],
   "source": [
    "spatial_df"
   ]
  },
  {
   "cell_type": "code",
   "execution_count": 30,
   "metadata": {
    "trusted": true
   },
   "outputs": [],
   "source": [
    "from tqdm import tqdm\n",
    "# static tensors\n",
    "spatial_x  = torch.from_numpy(spatial_df[spatial_cols].to_numpy(dtype=np.float64)).to(device).float()\n",
    "edge_index, edge_weight = build_spatial_graph(spatial_df, k=8)\n",
    "edge_index  = edge_index.to(device)\n",
    "edge_weight = edge_weight.to(device)"
   ]
  },
  {
   "cell_type": "code",
   "execution_count": null,
   "metadata": {
    "trusted": true
   },
   "outputs": [
    {
     "name": "stderr",
     "output_type": "stream",
     "text": [
      "  0%|          | 0/200 [00:00<?, ?it/s]"
     ]
    },
    {
     "name": "stderr",
     "output_type": "stream",
     "text": [
      "  0%|          | 1/200 [00:10<35:28, 10.69s/it]"
     ]
    },
    {
     "name": "stdout",
     "output_type": "stream",
     "text": [
      "Epoch 00 | train 3746.3573 | val 3528.7313 | R² 0.132\n"
     ]
    },
    {
     "name": "stderr",
     "output_type": "stream",
     "text": [
      "  1%|          | 2/200 [00:20<34:16, 10.39s/it]"
     ]
    },
    {
     "name": "stdout",
     "output_type": "stream",
     "text": [
      "Epoch 01 | train 2399.9331 | val 1881.1008 | R² 0.537\n"
     ]
    },
    {
     "name": "stderr",
     "output_type": "stream",
     "text": [
      "  2%|▏         | 3/200 [00:30<33:38, 10.24s/it]"
     ]
    },
    {
     "name": "stdout",
     "output_type": "stream",
     "text": [
      "Epoch 02 | train 1195.8446 | val 857.5309 | R² 0.789\n"
     ]
    },
    {
     "name": "stderr",
     "output_type": "stream",
     "text": [
      "  2%|▏         | 4/200 [00:40<32:37,  9.99s/it]"
     ]
    },
    {
     "name": "stdout",
     "output_type": "stream",
     "text": [
      "Epoch 03 | train 651.7510 | val 555.3669 | R² 0.863\n"
     ]
    },
    {
     "name": "stderr",
     "output_type": "stream",
     "text": [
      "  2%|▎         | 5/200 [00:50<32:55, 10.13s/it]"
     ]
    },
    {
     "name": "stdout",
     "output_type": "stream",
     "text": [
      "Epoch 04 | train 572.5952 | val 529.7507 | R² 0.870\n"
     ]
    },
    {
     "name": "stderr",
     "output_type": "stream",
     "text": [
      "  3%|▎         | 6/200 [01:01<33:16, 10.29s/it]"
     ]
    },
    {
     "name": "stdout",
     "output_type": "stream",
     "text": [
      "Epoch 05 | train 555.3803 | val 532.9958 | R² 0.869\n"
     ]
    },
    {
     "name": "stderr",
     "output_type": "stream",
     "text": [
      "  4%|▎         | 7/200 [01:11<32:32, 10.12s/it]"
     ]
    },
    {
     "name": "stdout",
     "output_type": "stream",
     "text": [
      "Epoch 06 | train 558.9582 | val 524.4069 | R² 0.871\n"
     ]
    },
    {
     "name": "stderr",
     "output_type": "stream",
     "text": [
      "  4%|▍         | 8/200 [01:21<32:45, 10.24s/it]"
     ]
    },
    {
     "name": "stdout",
     "output_type": "stream",
     "text": [
      "Epoch 07 | train 562.4983 | val 526.7294 | R² 0.870\n"
     ]
    },
    {
     "name": "stderr",
     "output_type": "stream",
     "text": [
      "  4%|▍         | 9/200 [01:34<34:59, 10.99s/it]"
     ]
    },
    {
     "name": "stdout",
     "output_type": "stream",
     "text": [
      "Epoch 08 | train 554.8081 | val 558.7111 | R² 0.863\n"
     ]
    },
    {
     "name": "stderr",
     "output_type": "stream",
     "text": [
      "  5%|▌         | 10/200 [01:48<37:44, 11.92s/it]"
     ]
    },
    {
     "name": "stdout",
     "output_type": "stream",
     "text": [
      "Epoch 09 | train 552.1964 | val 522.8486 | R² 0.871\n"
     ]
    },
    {
     "name": "stderr",
     "output_type": "stream",
     "text": [
      "  6%|▌         | 11/200 [02:01<39:07, 12.42s/it]"
     ]
    },
    {
     "name": "stdout",
     "output_type": "stream",
     "text": [
      "Epoch 10 | train 551.7757 | val 548.7688 | R² 0.865\n"
     ]
    },
    {
     "name": "stderr",
     "output_type": "stream",
     "text": [
      "  6%|▌         | 12/200 [02:16<40:36, 12.96s/it]"
     ]
    },
    {
     "name": "stdout",
     "output_type": "stream",
     "text": [
      "Epoch 11 | train 549.9144 | val 520.3905 | R² 0.872\n"
     ]
    },
    {
     "name": "stderr",
     "output_type": "stream",
     "text": [
      "  6%|▋         | 13/200 [02:31<42:10, 13.53s/it]"
     ]
    },
    {
     "name": "stdout",
     "output_type": "stream",
     "text": [
      "Epoch 12 | train 540.9347 | val 545.0307 | R² 0.866\n"
     ]
    },
    {
     "name": "stderr",
     "output_type": "stream",
     "text": [
      "  7%|▋         | 14/200 [02:46<43:54, 14.16s/it]"
     ]
    },
    {
     "name": "stdout",
     "output_type": "stream",
     "text": [
      "Epoch 13 | train 541.0583 | val 495.7364 | R² 0.878\n"
     ]
    },
    {
     "name": "stderr",
     "output_type": "stream",
     "text": [
      "  8%|▊         | 15/200 [03:00<43:48, 14.21s/it]"
     ]
    },
    {
     "name": "stdout",
     "output_type": "stream",
     "text": [
      "Epoch 14 | train 530.0548 | val 513.6465 | R² 0.874\n"
     ]
    },
    {
     "name": "stderr",
     "output_type": "stream",
     "text": [
      "  8%|▊         | 16/200 [03:17<45:34, 14.86s/it]"
     ]
    },
    {
     "name": "stdout",
     "output_type": "stream",
     "text": [
      "Epoch 15 | train 530.3854 | val 519.6762 | R² 0.872\n"
     ]
    },
    {
     "name": "stderr",
     "output_type": "stream",
     "text": [
      "  8%|▊         | 17/200 [03:33<46:49, 15.35s/it]"
     ]
    },
    {
     "name": "stdout",
     "output_type": "stream",
     "text": [
      "Epoch 16 | train 527.4802 | val 512.9591 | R² 0.874\n"
     ]
    },
    {
     "name": "stderr",
     "output_type": "stream",
     "text": [
      "  9%|▉         | 18/200 [03:53<50:09, 16.54s/it]"
     ]
    },
    {
     "name": "stdout",
     "output_type": "stream",
     "text": [
      "Epoch 17 | train 523.6602 | val 489.3845 | R² 0.880\n"
     ]
    },
    {
     "name": "stderr",
     "output_type": "stream",
     "text": [
      " 10%|▉         | 19/200 [04:10<50:49, 16.85s/it]"
     ]
    },
    {
     "name": "stdout",
     "output_type": "stream",
     "text": [
      "Epoch 18 | train 516.9917 | val 484.9607 | R² 0.881\n"
     ]
    },
    {
     "name": "stderr",
     "output_type": "stream",
     "text": [
      " 10%|█         | 20/200 [04:25<49:05, 16.37s/it]"
     ]
    },
    {
     "name": "stdout",
     "output_type": "stream",
     "text": [
      "Epoch 19 | train 518.8710 | val 524.2202 | R² 0.871\n"
     ]
    },
    {
     "name": "stderr",
     "output_type": "stream",
     "text": [
      " 10%|█         | 21/200 [04:40<47:04, 15.78s/it]"
     ]
    },
    {
     "name": "stdout",
     "output_type": "stream",
     "text": [
      "Epoch 20 | train 542.9918 | val 553.2119 | R² 0.864\n"
     ]
    },
    {
     "name": "stderr",
     "output_type": "stream",
     "text": [
      " 11%|█         | 22/200 [04:56<46:59, 15.84s/it]"
     ]
    },
    {
     "name": "stdout",
     "output_type": "stream",
     "text": [
      "Epoch 21 | train 561.7309 | val 684.9293 | R² 0.831\n"
     ]
    },
    {
     "name": "stderr",
     "output_type": "stream",
     "text": [
      " 12%|█▏        | 23/200 [05:12<46:41, 15.83s/it]"
     ]
    },
    {
     "name": "stdout",
     "output_type": "stream",
     "text": [
      "Epoch 22 | train 543.2626 | val 468.1910 | R² 0.885\n"
     ]
    },
    {
     "name": "stderr",
     "output_type": "stream",
     "text": [
      " 12%|█▏        | 24/200 [05:25<43:59, 14.99s/it]"
     ]
    },
    {
     "name": "stdout",
     "output_type": "stream",
     "text": [
      "Epoch 23 | train 522.6423 | val 580.8135 | R² 0.857\n"
     ]
    },
    {
     "name": "stderr",
     "output_type": "stream",
     "text": [
      " 12%|█▎        | 25/200 [05:39<42:54, 14.71s/it]"
     ]
    },
    {
     "name": "stdout",
     "output_type": "stream",
     "text": [
      "Epoch 24 | train 513.1762 | val 476.4652 | R² 0.883\n"
     ]
    },
    {
     "name": "stderr",
     "output_type": "stream",
     "text": [
      " 13%|█▎        | 26/200 [05:53<41:53, 14.44s/it]"
     ]
    },
    {
     "name": "stdout",
     "output_type": "stream",
     "text": [
      "Epoch 25 | train 504.3718 | val 451.7401 | R² 0.889\n"
     ]
    },
    {
     "name": "stderr",
     "output_type": "stream",
     "text": [
      " 14%|█▎        | 27/200 [06:07<41:31, 14.40s/it]"
     ]
    },
    {
     "name": "stdout",
     "output_type": "stream",
     "text": [
      "Epoch 26 | train 523.0605 | val 473.7371 | R² 0.883\n"
     ]
    },
    {
     "name": "stderr",
     "output_type": "stream",
     "text": [
      " 14%|█▍        | 28/200 [06:22<41:58, 14.64s/it]"
     ]
    },
    {
     "name": "stdout",
     "output_type": "stream",
     "text": [
      "Epoch 27 | train 470.3961 | val 339.9965 | R² 0.916\n"
     ]
    },
    {
     "name": "stderr",
     "output_type": "stream",
     "text": [
      " 14%|█▍        | 29/200 [06:38<42:50, 15.03s/it]"
     ]
    },
    {
     "name": "stdout",
     "output_type": "stream",
     "text": [
      "Epoch 28 | train 433.6555 | val 299.7103 | R² 0.926\n"
     ]
    },
    {
     "name": "stderr",
     "output_type": "stream",
     "text": [
      " 15%|█▌        | 30/200 [06:53<42:55, 15.15s/it]"
     ]
    },
    {
     "name": "stdout",
     "output_type": "stream",
     "text": [
      "Epoch 29 | train 394.8635 | val 275.3511 | R² 0.932\n"
     ]
    },
    {
     "name": "stderr",
     "output_type": "stream",
     "text": [
      " 16%|█▌        | 31/200 [07:10<43:45, 15.53s/it]"
     ]
    },
    {
     "name": "stdout",
     "output_type": "stream",
     "text": [
      "Epoch 30 | train 406.8240 | val 268.8065 | R² 0.934\n"
     ]
    },
    {
     "name": "stderr",
     "output_type": "stream",
     "text": [
      " 16%|█▌        | 32/200 [07:23<41:29, 14.82s/it]"
     ]
    },
    {
     "name": "stdout",
     "output_type": "stream",
     "text": [
      "Epoch 31 | train 407.9074 | val 283.6445 | R² 0.930\n"
     ]
    },
    {
     "name": "stderr",
     "output_type": "stream",
     "text": [
      " 16%|█▋        | 33/200 [07:36<39:47, 14.30s/it]"
     ]
    },
    {
     "name": "stdout",
     "output_type": "stream",
     "text": [
      "Epoch 32 | train 371.5652 | val 256.2369 | R² 0.937\n"
     ]
    },
    {
     "name": "stderr",
     "output_type": "stream",
     "text": [
      " 17%|█▋        | 34/200 [07:51<39:47, 14.38s/it]"
     ]
    },
    {
     "name": "stdout",
     "output_type": "stream",
     "text": [
      "Epoch 33 | train 374.3049 | val 274.0623 | R² 0.933\n"
     ]
    },
    {
     "name": "stderr",
     "output_type": "stream",
     "text": [
      " 18%|█▊        | 35/200 [08:04<38:49, 14.12s/it]"
     ]
    },
    {
     "name": "stdout",
     "output_type": "stream",
     "text": [
      "Epoch 34 | train 371.3869 | val 239.0111 | R² 0.941\n"
     ]
    },
    {
     "name": "stderr",
     "output_type": "stream",
     "text": [
      " 18%|█▊        | 36/200 [08:17<37:17, 13.64s/it]"
     ]
    },
    {
     "name": "stdout",
     "output_type": "stream",
     "text": [
      "Epoch 35 | train 363.0786 | val 253.9751 | R² 0.938\n"
     ]
    },
    {
     "name": "stderr",
     "output_type": "stream",
     "text": [
      " 18%|█▊        | 37/200 [08:31<37:16, 13.72s/it]"
     ]
    },
    {
     "name": "stdout",
     "output_type": "stream",
     "text": [
      "Epoch 36 | train 340.8456 | val 250.9840 | R² 0.938\n"
     ]
    },
    {
     "name": "stderr",
     "output_type": "stream",
     "text": [
      " 19%|█▉        | 38/200 [08:44<37:01, 13.71s/it]"
     ]
    },
    {
     "name": "stdout",
     "output_type": "stream",
     "text": [
      "Epoch 37 | train 346.1837 | val 235.7048 | R² 0.942\n"
     ]
    },
    {
     "name": "stderr",
     "output_type": "stream",
     "text": [
      " 20%|█▉        | 39/200 [08:59<37:12, 13.87s/it]"
     ]
    },
    {
     "name": "stdout",
     "output_type": "stream",
     "text": [
      "Epoch 38 | train 355.3681 | val 217.7043 | R² 0.946\n"
     ]
    },
    {
     "name": "stderr",
     "output_type": "stream",
     "text": [
      " 20%|██        | 40/200 [09:13<37:26, 14.04s/it]"
     ]
    },
    {
     "name": "stdout",
     "output_type": "stream",
     "text": [
      "Epoch 39 | train 322.8039 | val 216.5687 | R² 0.947\n"
     ]
    },
    {
     "name": "stderr",
     "output_type": "stream",
     "text": [
      " 20%|██        | 41/200 [09:26<36:45, 13.87s/it]"
     ]
    },
    {
     "name": "stdout",
     "output_type": "stream",
     "text": [
      "Epoch 40 | train 327.8172 | val 238.9052 | R² 0.941\n"
     ]
    },
    {
     "name": "stderr",
     "output_type": "stream",
     "text": [
      " 21%|██        | 42/200 [09:42<37:40, 14.31s/it]"
     ]
    },
    {
     "name": "stdout",
     "output_type": "stream",
     "text": [
      "Epoch 41 | train 328.5095 | val 207.5632 | R² 0.949\n"
     ]
    },
    {
     "name": "stderr",
     "output_type": "stream",
     "text": [
      " 22%|██▏       | 43/200 [09:57<38:11, 14.60s/it]"
     ]
    },
    {
     "name": "stdout",
     "output_type": "stream",
     "text": [
      "Epoch 42 | train 324.2109 | val 236.4033 | R² 0.942\n"
     ]
    },
    {
     "name": "stderr",
     "output_type": "stream",
     "text": [
      " 22%|██▏       | 44/200 [10:13<38:41, 14.88s/it]"
     ]
    },
    {
     "name": "stdout",
     "output_type": "stream",
     "text": [
      "Epoch 43 | train 328.1933 | val 210.8746 | R² 0.948\n"
     ]
    },
    {
     "name": "stderr",
     "output_type": "stream",
     "text": [
      " 22%|██▎       | 45/200 [10:26<37:29, 14.51s/it]"
     ]
    },
    {
     "name": "stdout",
     "output_type": "stream",
     "text": [
      "Epoch 44 | train 321.9152 | val 225.2880 | R² 0.945\n"
     ]
    },
    {
     "name": "stderr",
     "output_type": "stream",
     "text": [
      " 23%|██▎       | 46/200 [10:40<36:34, 14.25s/it]"
     ]
    },
    {
     "name": "stdout",
     "output_type": "stream",
     "text": [
      "Epoch 45 | train 322.4513 | val 216.3312 | R² 0.947\n"
     ]
    },
    {
     "name": "stderr",
     "output_type": "stream",
     "text": [
      " 24%|██▎       | 47/200 [10:52<34:51, 13.67s/it]"
     ]
    },
    {
     "name": "stdout",
     "output_type": "stream",
     "text": [
      "Epoch 46 | train 318.1400 | val 359.5397 | R² 0.912\n"
     ]
    },
    {
     "name": "stderr",
     "output_type": "stream",
     "text": [
      " 24%|██▍       | 48/200 [11:06<34:23, 13.58s/it]"
     ]
    },
    {
     "name": "stdout",
     "output_type": "stream",
     "text": [
      "Epoch 47 | train 311.6088 | val 191.9212 | R² 0.953\n"
     ]
    },
    {
     "name": "stderr",
     "output_type": "stream",
     "text": [
      " 24%|██▍       | 49/200 [11:19<34:19, 13.64s/it]"
     ]
    },
    {
     "name": "stdout",
     "output_type": "stream",
     "text": [
      "Epoch 48 | train 311.0305 | val 189.5293 | R² 0.953\n"
     ]
    },
    {
     "name": "stderr",
     "output_type": "stream",
     "text": [
      " 25%|██▌       | 50/200 [11:33<34:09, 13.66s/it]"
     ]
    },
    {
     "name": "stdout",
     "output_type": "stream",
     "text": [
      "Epoch 49 | train 302.3273 | val 187.2054 | R² 0.954\n"
     ]
    },
    {
     "name": "stderr",
     "output_type": "stream",
     "text": [
      " 26%|██▌       | 51/200 [11:47<34:25, 13.86s/it]"
     ]
    },
    {
     "name": "stdout",
     "output_type": "stream",
     "text": [
      "Epoch 50 | train 303.6357 | val 168.1942 | R² 0.959\n"
     ]
    },
    {
     "name": "stderr",
     "output_type": "stream",
     "text": [
      " 26%|██▌       | 52/200 [12:02<34:48, 14.11s/it]"
     ]
    },
    {
     "name": "stdout",
     "output_type": "stream",
     "text": [
      "Epoch 51 | train 301.6252 | val 214.6278 | R² 0.947\n"
     ]
    },
    {
     "name": "stderr",
     "output_type": "stream",
     "text": [
      " 26%|██▋       | 53/200 [12:16<34:38, 14.14s/it]"
     ]
    },
    {
     "name": "stdout",
     "output_type": "stream",
     "text": [
      "Epoch 52 | train 310.9601 | val 186.7400 | R² 0.954\n"
     ]
    },
    {
     "name": "stderr",
     "output_type": "stream",
     "text": [
      " 27%|██▋       | 54/200 [12:32<35:15, 14.49s/it]"
     ]
    },
    {
     "name": "stdout",
     "output_type": "stream",
     "text": [
      "Epoch 53 | train 301.2860 | val 194.2770 | R² 0.952\n"
     ]
    },
    {
     "name": "stderr",
     "output_type": "stream",
     "text": [
      " 28%|██▊       | 55/200 [12:46<34:36, 14.32s/it]"
     ]
    },
    {
     "name": "stdout",
     "output_type": "stream",
     "text": [
      "Epoch 54 | train 293.1873 | val 179.3915 | R² 0.956\n"
     ]
    },
    {
     "name": "stderr",
     "output_type": "stream",
     "text": [
      " 28%|██▊       | 56/200 [12:59<33:35, 14.00s/it]"
     ]
    },
    {
     "name": "stdout",
     "output_type": "stream",
     "text": [
      "Epoch 55 | train 290.6991 | val 181.0754 | R² 0.955\n"
     ]
    },
    {
     "name": "stderr",
     "output_type": "stream",
     "text": [
      " 28%|██▊       | 57/200 [13:12<32:51, 13.79s/it]"
     ]
    },
    {
     "name": "stdout",
     "output_type": "stream",
     "text": [
      "Epoch 56 | train 297.2170 | val 174.7093 | R² 0.957\n"
     ]
    },
    {
     "name": "stderr",
     "output_type": "stream",
     "text": [
      " 29%|██▉       | 58/200 [13:26<32:41, 13.81s/it]"
     ]
    },
    {
     "name": "stdout",
     "output_type": "stream",
     "text": [
      "Epoch 57 | train 291.8215 | val 175.8336 | R² 0.957\n"
     ]
    },
    {
     "name": "stderr",
     "output_type": "stream",
     "text": [
      " 30%|██▉       | 59/200 [13:39<32:08, 13.68s/it]"
     ]
    },
    {
     "name": "stdout",
     "output_type": "stream",
     "text": [
      "Epoch 58 | train 287.1233 | val 175.6025 | R² 0.957\n"
     ]
    },
    {
     "name": "stderr",
     "output_type": "stream",
     "text": [
      " 30%|███       | 60/200 [13:56<33:55, 14.54s/it]"
     ]
    },
    {
     "name": "stdout",
     "output_type": "stream",
     "text": [
      "Epoch 59 | train 283.7982 | val 171.2943 | R² 0.958\n"
     ]
    },
    {
     "name": "stderr",
     "output_type": "stream",
     "text": [
      " 30%|███       | 60/200 [14:10<33:03, 14.17s/it]"
     ]
    },
    {
     "name": "stdout",
     "output_type": "stream",
     "text": [
      "Epoch 60 | train 286.4467 | val 221.9232 | R² 0.945\n",
      "Early stopping triggered!\n"
     ]
    },
    {
     "name": "stderr",
     "output_type": "stream",
     "text": [
      "\n"
     ]
    }
   ],
   "source": [
    "\n",
    "# optimizer\n",
    "optimizer = torch.optim.Adam(model.parameters(), lr=3e-4)\n",
    "\n",
    "best_val, patience, wait = float('inf'), 10, 0   # stop if there is no improvement for 10 consecutive trials\n",
    "for epoch in tqdm(range(200)):\n",
    "    train_loss, _, _ = run_epoch(\n",
    "        train_batches, model, spatial_x,\n",
    "        edge_index, edge_weight,\n",
    "        optimizer=optimizer, batch_size=64)\n",
    "\n",
    "    val_loss, yv, pv = run_epoch(\n",
    "        val_batches,   model, spatial_x,\n",
    "        edge_index, edge_weight,\n",
    "        optimizer=None, batch_size=64, collect_pred=True)\n",
    "    r2 = 1 - np.sum((yv - pv)**2) / np.sum((yv - yv.mean())**2)\n",
    "    print(f\"Epoch {epoch:02d} | train {train_loss:.4f} | val {val_loss:.4f} | R² {r2:5.3f}\")\n",
    "\n",
    "    # ---- Early stopping ----\n",
    "    if val_loss < best_val - 1e-4:\n",
    "        best_val, wait = val_loss, 0\n",
    "        torch.save(model.state_dict(), \"best_gnn_elas.pt\")\n",
    "    else:\n",
    "        wait += 1\n",
    "        if wait >= patience:\n",
    "            print(\"Early stopping triggered!\")\n",
    "            break"
   ]
  },
  {
   "cell_type": "code",
   "execution_count": null,
   "metadata": {
    "trusted": true
   },
   "outputs": [
    {
     "name": "stderr",
     "output_type": "stream",
     "text": [
      "/Users/yhk/miniforge3/envs/gnn_env/lib/python3.12/site-packages/tqdm/auto.py:21: TqdmWarning: IProgress not found. Please update jupyter and ipywidgets. See https://ipywidgets.readthedocs.io/en/stable/user_install.html\n",
      "  from .autonotebook import tqdm as notebook_tqdm\n",
      "[I 2025-06-01 16:43:51,043] A new study created in memory with name: no-name-6b7e7f5b-a824-401d-abca-5cd1c8b5cf47\n"
     ]
    },
    {
     "name": "stdout",
     "output_type": "stream",
     "text": [
      "使用裝置: cpu\n",
      "Trial 0 params: 256, 0.11928605844171214, 0.00031201683939245504, 1024, 6\n",
      "Trial 0 Epoch 0 start\n",
      "Trial 0 Epoch 0 end\n",
      "Trial 0 Epoch 1 start\n",
      "Trial 0 Epoch 1 end\n",
      "Trial 0 Epoch 2 start\n",
      "Trial 0 Epoch 2 end\n",
      "Trial 0 Epoch 3 start\n",
      "Trial 0 Epoch 3 end\n",
      "Trial 0 Epoch 4 start\n",
      "Trial 0 Epoch 4 end\n",
      "Trial 0 Epoch 5 start\n",
      "Trial 0 Epoch 5 end\n",
      "Trial 0 Epoch 6 start\n",
      "Trial 0 Epoch 6 end\n",
      "Trial 0 Epoch 7 start\n",
      "Trial 0 Epoch 7 end\n",
      "Trial 0 Epoch 8 start\n",
      "Trial 0 Epoch 8 end\n",
      "Trial 0 Epoch 9 start\n",
      "Trial 0 Epoch 9 end\n"
     ]
    },
    {
     "name": "stderr",
     "output_type": "stream",
     "text": [
      "[I 2025-06-01 16:54:36,392] Trial 0 finished with value: 697.4207992575837 and parameters: {'hidden_dim': 256, 'dropout': 0.11928605844171214, 'learning_rate': 0.00031201683939245504, 'batch_size': 1024, 'k': 6}. Best is trial 0 with value: 697.4207992575837.\n"
     ]
    },
    {
     "name": "stdout",
     "output_type": "stream",
     "text": [
      "Trial 1 params: 128, 0.2195761853006269, 0.004817668935577754, 256, 10\n",
      "Trial 1 Epoch 0 start\n",
      "Trial 1 Epoch 0 end\n",
      "Trial 1 Epoch 1 start\n",
      "Trial 1 Epoch 1 end\n",
      "Trial 1 Epoch 2 start\n",
      "Trial 1 Epoch 2 end\n",
      "Trial 1 Epoch 3 start\n",
      "Trial 1 Epoch 3 end\n",
      "Trial 1 Epoch 4 start\n",
      "Trial 1 Epoch 4 end\n",
      "Trial 1 Epoch 5 start\n",
      "Trial 1 Epoch 5 end\n",
      "Trial 1 Epoch 6 start\n",
      "Trial 1 Epoch 6 end\n",
      "Trial 1 Epoch 7 start\n",
      "Trial 1 Epoch 7 end\n",
      "Trial 1 Epoch 8 start\n",
      "Trial 1 Epoch 8 end\n",
      "Trial 1 Epoch 9 start\n",
      "Trial 1 Epoch 9 end\n"
     ]
    },
    {
     "name": "stderr",
     "output_type": "stream",
     "text": [
      "[I 2025-06-01 17:00:35,544] Trial 1 finished with value: 346.80205407376104 and parameters: {'hidden_dim': 128, 'dropout': 0.2195761853006269, 'learning_rate': 0.004817668935577754, 'batch_size': 256, 'k': 10}. Best is trial 1 with value: 346.80205407376104.\n"
     ]
    },
    {
     "name": "stdout",
     "output_type": "stream",
     "text": [
      "Trial 2 params: 64, 0.41350277147508885, 0.000669223989414348, 64, 4\n",
      "Trial 2 Epoch 0 start\n",
      "Trial 2 Epoch 0 end\n",
      "Trial 2 Epoch 1 start\n",
      "Trial 2 Epoch 1 end\n",
      "Trial 2 Epoch 2 start\n",
      "Trial 2 Epoch 2 end\n",
      "Trial 2 Epoch 3 start\n",
      "Trial 2 Epoch 3 end\n",
      "Trial 2 Epoch 4 start\n",
      "Trial 2 Epoch 4 end\n",
      "Trial 2 Epoch 5 start\n",
      "Trial 2 Epoch 5 end\n",
      "Trial 2 Epoch 6 start\n",
      "Trial 2 Epoch 6 end\n",
      "Trial 2 Epoch 7 start\n",
      "Trial 2 Epoch 7 end\n",
      "Trial 2 Epoch 8 start\n",
      "Trial 2 Epoch 8 end\n",
      "Trial 2 Epoch 9 start\n",
      "Trial 2 Epoch 9 end\n"
     ]
    },
    {
     "name": "stderr",
     "output_type": "stream",
     "text": [
      "[I 2025-06-01 17:03:13,344] Trial 2 finished with value: 545.5785565139576 and parameters: {'hidden_dim': 64, 'dropout': 0.41350277147508885, 'learning_rate': 0.000669223989414348, 'batch_size': 64, 'k': 4}. Best is trial 1 with value: 346.80205407376104.\n"
     ]
    },
    {
     "name": "stdout",
     "output_type": "stream",
     "text": [
      "Trial 3 params: 256, 0.4640791234508513, 0.00015344182931221643, 512, 8\n",
      "Trial 3 Epoch 0 start\n",
      "Trial 3 Epoch 0 end\n",
      "Trial 3 Epoch 1 start\n",
      "Trial 3 Epoch 1 end\n",
      "Trial 3 Epoch 2 start\n",
      "Trial 3 Epoch 2 end\n",
      "Trial 3 Epoch 3 start\n",
      "Trial 3 Epoch 3 end\n",
      "Trial 3 Epoch 4 start\n",
      "Trial 3 Epoch 4 end\n",
      "Trial 3 Epoch 5 start\n",
      "Trial 3 Epoch 5 end\n",
      "Trial 3 Epoch 6 start\n",
      "Trial 3 Epoch 6 end\n",
      "Trial 3 Epoch 7 start\n",
      "Trial 3 Epoch 7 end\n",
      "Trial 3 Epoch 8 start\n",
      "Trial 3 Epoch 8 end\n",
      "Trial 3 Epoch 9 start\n",
      "Trial 3 Epoch 9 end\n"
     ]
    },
    {
     "name": "stderr",
     "output_type": "stream",
     "text": [
      "[I 2025-06-01 17:14:23,704] Trial 3 finished with value: 710.0825441016846 and parameters: {'hidden_dim': 256, 'dropout': 0.4640791234508513, 'learning_rate': 0.00015344182931221643, 'batch_size': 512, 'k': 8}. Best is trial 1 with value: 346.80205407376104.\n"
     ]
    },
    {
     "name": "stdout",
     "output_type": "stream",
     "text": [
      "Trial 4 params: 256, 0.1481851096425767, 0.0006759311773400207, 8, 6\n",
      "Trial 4 Epoch 0 start\n",
      "Trial 4 Epoch 0 end\n",
      "Trial 4 Epoch 1 start\n",
      "Trial 4 Epoch 1 end\n",
      "Trial 4 Epoch 2 start\n",
      "Trial 4 Epoch 2 end\n",
      "Trial 4 Epoch 3 start\n",
      "Trial 4 Epoch 3 end\n",
      "Trial 4 Epoch 4 start\n",
      "Trial 4 Epoch 4 end\n",
      "Trial 4 Epoch 5 start\n",
      "Trial 4 Epoch 5 end\n",
      "Trial 4 Epoch 6 start\n",
      "Trial 4 Epoch 6 end\n",
      "Trial 4 Epoch 7 start\n",
      "Trial 4 Epoch 7 end\n",
      "Trial 4 Epoch 8 start\n",
      "Trial 4 Epoch 8 end\n",
      "Trial 4 Epoch 9 start\n",
      "Trial 4 Epoch 9 end\n"
     ]
    },
    {
     "name": "stderr",
     "output_type": "stream",
     "text": [
      "[I 2025-06-01 17:23:13,477] Trial 4 finished with value: 124.21463925666185 and parameters: {'hidden_dim': 256, 'dropout': 0.1481851096425767, 'learning_rate': 0.0006759311773400207, 'batch_size': 8, 'k': 6}. Best is trial 4 with value: 124.21463925666185.\n"
     ]
    },
    {
     "name": "stdout",
     "output_type": "stream",
     "text": [
      "Trial 5 params: 256, 0.4316194375223693, 0.002501792031793607, 64, 10\n",
      "Trial 5 Epoch 0 start\n",
      "Trial 5 Epoch 0 end\n",
      "Trial 5 Epoch 1 start\n",
      "Trial 5 Epoch 1 end\n",
      "Trial 5 Epoch 2 start\n",
      "Trial 5 Epoch 2 end\n",
      "Trial 5 Epoch 3 start\n",
      "Trial 5 Epoch 3 end\n",
      "Trial 5 Epoch 4 start\n",
      "Trial 5 Epoch 4 end\n",
      "Trial 5 Epoch 5 start\n",
      "Trial 5 Epoch 5 end\n",
      "Trial 5 Epoch 6 start\n",
      "Trial 5 Epoch 6 end\n",
      "Trial 5 Epoch 7 start\n",
      "Trial 5 Epoch 7 end\n",
      "Trial 5 Epoch 8 start\n",
      "Trial 5 Epoch 8 end\n",
      "Trial 5 Epoch 9 start\n",
      "Trial 5 Epoch 9 end\n"
     ]
    },
    {
     "name": "stderr",
     "output_type": "stream",
     "text": [
      "[I 2025-06-01 17:32:59,881] Trial 5 finished with value: 293.79063817975424 and parameters: {'hidden_dim': 256, 'dropout': 0.4316194375223693, 'learning_rate': 0.002501792031793607, 'batch_size': 64, 'k': 10}. Best is trial 4 with value: 124.21463925666185.\n"
     ]
    },
    {
     "name": "stdout",
     "output_type": "stream",
     "text": [
      "Trial 6 params: 64, 0.3802280603799255, 0.006227684263792232, 8, 8\n",
      "Trial 6 Epoch 0 start\n",
      "Trial 6 Epoch 0 end\n",
      "Trial 6 Epoch 1 start\n",
      "Trial 6 Epoch 1 end\n",
      "Trial 6 Epoch 2 start\n",
      "Trial 6 Epoch 2 end\n",
      "Trial 6 Epoch 3 start\n",
      "Trial 6 Epoch 3 end\n",
      "Trial 6 Epoch 4 start\n",
      "Trial 6 Epoch 4 end\n",
      "Trial 6 Epoch 5 start\n",
      "Trial 6 Epoch 5 end\n",
      "Trial 6 Epoch 6 start\n",
      "Trial 6 Epoch 6 end\n",
      "Trial 6 Epoch 7 start\n",
      "Trial 6 Epoch 7 end\n",
      "Trial 6 Epoch 8 start\n",
      "Trial 6 Epoch 8 end\n",
      "Trial 6 Epoch 9 start\n",
      "Trial 6 Epoch 9 end\n"
     ]
    },
    {
     "name": "stderr",
     "output_type": "stream",
     "text": [
      "[I 2025-06-01 17:35:44,273] Trial 6 finished with value: 208.5547357588742 and parameters: {'hidden_dim': 64, 'dropout': 0.3802280603799255, 'learning_rate': 0.006227684263792232, 'batch_size': 8, 'k': 8}. Best is trial 4 with value: 124.21463925666185.\n"
     ]
    },
    {
     "name": "stdout",
     "output_type": "stream",
     "text": [
      "Trial 7 params: 128, 0.005881395845475645, 0.0015200866970469169, 1024, 12\n",
      "Trial 7 Epoch 0 start\n",
      "Trial 7 Epoch 0 end\n",
      "Trial 7 Epoch 1 start\n",
      "Trial 7 Epoch 1 end\n",
      "Trial 7 Epoch 2 start\n",
      "Trial 7 Epoch 2 end\n",
      "Trial 7 Epoch 3 start\n",
      "Trial 7 Epoch 3 end\n",
      "Trial 7 Epoch 4 start\n",
      "Trial 7 Epoch 4 end\n",
      "Trial 7 Epoch 5 start\n",
      "Trial 7 Epoch 5 end\n",
      "Trial 7 Epoch 6 start\n",
      "Trial 7 Epoch 6 end\n",
      "Trial 7 Epoch 7 start\n",
      "Trial 7 Epoch 7 end\n",
      "Trial 7 Epoch 8 start\n",
      "Trial 7 Epoch 8 end\n",
      "Trial 7 Epoch 9 start\n",
      "Trial 7 Epoch 9 end\n"
     ]
    },
    {
     "name": "stderr",
     "output_type": "stream",
     "text": [
      "[I 2025-06-01 17:40:41,624] Trial 7 finished with value: 639.1647816251957 and parameters: {'hidden_dim': 128, 'dropout': 0.005881395845475645, 'learning_rate': 0.0015200866970469169, 'batch_size': 1024, 'k': 12}. Best is trial 4 with value: 124.21463925666185.\n"
     ]
    },
    {
     "name": "stdout",
     "output_type": "stream",
     "text": [
      "Trial 8 params: 64, 0.0016546865074882344, 0.0018846784561709438, 512, 8\n",
      "Trial 8 Epoch 0 start\n",
      "Trial 8 Epoch 0 end\n",
      "Trial 8 Epoch 1 start\n",
      "Trial 8 Epoch 1 end\n",
      "Trial 8 Epoch 2 start\n",
      "Trial 8 Epoch 2 end\n",
      "Trial 8 Epoch 3 start\n",
      "Trial 8 Epoch 3 end\n",
      "Trial 8 Epoch 4 start\n",
      "Trial 8 Epoch 4 end\n",
      "Trial 8 Epoch 5 start\n",
      "Trial 8 Epoch 5 end\n",
      "Trial 8 Epoch 6 start\n",
      "Trial 8 Epoch 6 end\n",
      "Trial 8 Epoch 7 start\n",
      "Trial 8 Epoch 7 end\n",
      "Trial 8 Epoch 8 start\n",
      "Trial 8 Epoch 8 end\n",
      "Trial 8 Epoch 9 start\n",
      "Trial 8 Epoch 9 end\n"
     ]
    },
    {
     "name": "stderr",
     "output_type": "stream",
     "text": [
      "[I 2025-06-01 17:45:58,247] Trial 8 finished with value: 673.1577386131066 and parameters: {'hidden_dim': 64, 'dropout': 0.0016546865074882344, 'learning_rate': 0.0018846784561709438, 'batch_size': 512, 'k': 8}. Best is trial 4 with value: 124.21463925666185.\n"
     ]
    },
    {
     "name": "stdout",
     "output_type": "stream",
     "text": [
      "Trial 9 params: 256, 0.0456854031559234, 0.0004445132495863746, 512, 8\n",
      "Trial 9 Epoch 0 start\n",
      "Trial 9 Epoch 0 end\n",
      "Trial 9 Epoch 1 start\n",
      "Trial 9 Epoch 1 end\n",
      "Trial 9 Epoch 2 start\n",
      "Trial 9 Epoch 2 end\n",
      "Trial 9 Epoch 3 start\n",
      "Trial 9 Epoch 3 end\n",
      "Trial 9 Epoch 4 start\n",
      "Trial 9 Epoch 4 end\n",
      "Trial 9 Epoch 5 start\n",
      "Trial 9 Epoch 5 end\n",
      "Trial 9 Epoch 6 start\n",
      "Trial 9 Epoch 6 end\n",
      "Trial 9 Epoch 7 start\n",
      "Trial 9 Epoch 7 end\n",
      "Trial 9 Epoch 8 start\n",
      "Trial 9 Epoch 8 end\n",
      "Trial 9 Epoch 9 start\n",
      "Trial 9 Epoch 9 end\n"
     ]
    },
    {
     "name": "stderr",
     "output_type": "stream",
     "text": [
      "[I 2025-06-01 17:57:11,620] Trial 9 finished with value: 611.3737353650351 and parameters: {'hidden_dim': 256, 'dropout': 0.0456854031559234, 'learning_rate': 0.0004445132495863746, 'batch_size': 512, 'k': 8}. Best is trial 4 with value: 124.21463925666185.\n"
     ]
    },
    {
     "name": "stdout",
     "output_type": "stream",
     "text": [
      "Trial 10 params: 256, 0.2754156237524408, 0.0001543490482964418, 8, 4\n",
      "Trial 10 Epoch 0 start\n",
      "Trial 10 Epoch 0 end\n",
      "Trial 10 Epoch 1 start\n",
      "Trial 10 Epoch 1 end\n",
      "Trial 10 Epoch 2 start\n",
      "Trial 10 Epoch 2 end\n",
      "Trial 10 Epoch 3 start\n",
      "Trial 10 Epoch 3 end\n",
      "Trial 10 Epoch 4 start\n",
      "Trial 10 Epoch 4 end\n",
      "Trial 10 Epoch 5 start\n",
      "Trial 10 Epoch 5 end\n",
      "Trial 10 Epoch 6 start\n",
      "Trial 10 Epoch 6 end\n",
      "Trial 10 Epoch 7 start\n",
      "Trial 10 Epoch 7 end\n",
      "Trial 10 Epoch 8 start\n",
      "Trial 10 Epoch 8 end\n",
      "Trial 10 Epoch 9 start\n",
      "Trial 10 Epoch 9 end\n"
     ]
    },
    {
     "name": "stderr",
     "output_type": "stream",
     "text": [
      "[I 2025-06-01 18:06:56,213] Trial 10 finished with value: 224.03815924017292 and parameters: {'hidden_dim': 256, 'dropout': 0.2754156237524408, 'learning_rate': 0.0001543490482964418, 'batch_size': 8, 'k': 4}. Best is trial 4 with value: 124.21463925666185.\n"
     ]
    },
    {
     "name": "stdout",
     "output_type": "stream",
     "text": [
      "Trial 11 params: 64, 0.3088954903895881, 0.008320620863986107, 8, 6\n",
      "Trial 11 Epoch 0 start\n",
      "Trial 11 Epoch 0 end\n",
      "Trial 11 Epoch 1 start\n",
      "Trial 11 Epoch 1 end\n",
      "Trial 11 Epoch 2 start\n",
      "Trial 11 Epoch 2 end\n",
      "Trial 11 Epoch 3 start\n",
      "Trial 11 Epoch 3 end\n",
      "Trial 11 Epoch 4 start\n",
      "Trial 11 Epoch 4 end\n",
      "Trial 11 Epoch 5 start\n",
      "Trial 11 Epoch 5 end\n",
      "Trial 11 Epoch 6 start\n",
      "Trial 11 Epoch 6 end\n",
      "Trial 11 Epoch 7 start\n",
      "Trial 11 Epoch 7 end\n",
      "Trial 11 Epoch 8 start\n",
      "Trial 11 Epoch 8 end\n",
      "Trial 11 Epoch 9 start\n",
      "Trial 11 Epoch 9 end\n"
     ]
    },
    {
     "name": "stderr",
     "output_type": "stream",
     "text": [
      "[I 2025-06-01 18:09:28,881] Trial 11 finished with value: 223.4607715231342 and parameters: {'hidden_dim': 64, 'dropout': 0.3088954903895881, 'learning_rate': 0.008320620863986107, 'batch_size': 8, 'k': 6}. Best is trial 4 with value: 124.21463925666185.\n"
     ]
    },
    {
     "name": "stdout",
     "output_type": "stream",
     "text": [
      "Trial 12 params: 64, 0.17691897073584884, 0.0009731890293851005, 8, 6\n",
      "Trial 12 Epoch 0 start\n",
      "Trial 12 Epoch 0 end\n",
      "Trial 12 Epoch 1 start\n",
      "Trial 12 Epoch 1 end\n",
      "Trial 12 Epoch 2 start\n",
      "Trial 12 Epoch 2 end\n",
      "Trial 12 Epoch 3 start\n",
      "Trial 12 Epoch 3 end\n",
      "Trial 12 Epoch 4 start\n",
      "Trial 12 Epoch 4 end\n",
      "Trial 12 Epoch 5 start\n",
      "Trial 12 Epoch 5 end\n",
      "Trial 12 Epoch 6 start\n",
      "Trial 12 Epoch 6 end\n",
      "Trial 12 Epoch 7 start\n",
      "Trial 12 Epoch 7 end\n",
      "Trial 12 Epoch 8 start\n",
      "Trial 12 Epoch 8 end\n",
      "Trial 12 Epoch 9 start\n",
      "Trial 12 Epoch 9 end\n"
     ]
    },
    {
     "name": "stderr",
     "output_type": "stream",
     "text": [
      "[I 2025-06-01 18:11:55,661] Trial 12 finished with value: 154.71674296812208 and parameters: {'hidden_dim': 64, 'dropout': 0.17691897073584884, 'learning_rate': 0.0009731890293851005, 'batch_size': 8, 'k': 6}. Best is trial 4 with value: 124.21463925666185.\n"
     ]
    },
    {
     "name": "stdout",
     "output_type": "stream",
     "text": [
      "Trial 13 params: 64, 0.16868211609183564, 0.0008698628677981583, 8, 6\n",
      "Trial 13 Epoch 0 start\n",
      "Trial 13 Epoch 0 end\n",
      "Trial 13 Epoch 1 start\n",
      "Trial 13 Epoch 1 end\n",
      "Trial 13 Epoch 2 start\n",
      "Trial 13 Epoch 2 end\n",
      "Trial 13 Epoch 3 start\n",
      "Trial 13 Epoch 3 end\n",
      "Trial 13 Epoch 4 start\n",
      "Trial 13 Epoch 4 end\n",
      "Trial 13 Epoch 5 start\n",
      "Trial 13 Epoch 5 end\n",
      "Trial 13 Epoch 6 start\n",
      "Trial 13 Epoch 6 end\n",
      "Trial 13 Epoch 7 start\n",
      "Trial 13 Epoch 7 end\n",
      "Trial 13 Epoch 8 start\n",
      "Trial 13 Epoch 8 end\n",
      "Trial 13 Epoch 9 start\n",
      "Trial 13 Epoch 9 end\n"
     ]
    },
    {
     "name": "stderr",
     "output_type": "stream",
     "text": [
      "[I 2025-06-01 18:14:26,010] Trial 13 finished with value: 140.49234907498322 and parameters: {'hidden_dim': 64, 'dropout': 0.16868211609183564, 'learning_rate': 0.0008698628677981583, 'batch_size': 8, 'k': 6}. Best is trial 4 with value: 124.21463925666185.\n"
     ]
    },
    {
     "name": "stdout",
     "output_type": "stream",
     "text": [
      "Trial 14 params: 128, 0.1130518791531398, 0.0003236032707339899, 8, 6\n",
      "Trial 14 Epoch 0 start\n",
      "Trial 14 Epoch 0 end\n",
      "Trial 14 Epoch 1 start\n",
      "Trial 14 Epoch 1 end\n",
      "Trial 14 Epoch 2 start\n",
      "Trial 14 Epoch 2 end\n",
      "Trial 14 Epoch 3 start\n",
      "Trial 14 Epoch 3 end\n",
      "Trial 14 Epoch 4 start\n",
      "Trial 14 Epoch 4 end\n",
      "Trial 14 Epoch 5 start\n",
      "Trial 14 Epoch 5 end\n",
      "Trial 14 Epoch 6 start\n",
      "Trial 14 Epoch 6 end\n",
      "Trial 14 Epoch 7 start\n",
      "Trial 14 Epoch 7 end\n",
      "Trial 14 Epoch 8 start\n",
      "Trial 14 Epoch 8 end\n",
      "Trial 14 Epoch 9 start\n",
      "Trial 14 Epoch 9 end\n"
     ]
    },
    {
     "name": "stderr",
     "output_type": "stream",
     "text": [
      "[I 2025-06-01 18:17:38,862] Trial 14 finished with value: 202.72843864060545 and parameters: {'hidden_dim': 128, 'dropout': 0.1130518791531398, 'learning_rate': 0.0003236032707339899, 'batch_size': 8, 'k': 6}. Best is trial 4 with value: 124.21463925666185.\n"
     ]
    },
    {
     "name": "stdout",
     "output_type": "stream",
     "text": [
      "Trial 15 params: 256, 0.14776310668997883, 0.0008929251788229869, 256, 4\n",
      "Trial 15 Epoch 0 start\n",
      "Trial 15 Epoch 0 end\n",
      "Trial 15 Epoch 1 start\n",
      "Trial 15 Epoch 1 end\n",
      "Trial 15 Epoch 2 start\n",
      "Trial 15 Epoch 2 end\n",
      "Trial 15 Epoch 3 start\n",
      "Trial 15 Epoch 3 end\n",
      "Trial 15 Epoch 4 start\n",
      "Trial 15 Epoch 4 end\n",
      "Trial 15 Epoch 5 start\n",
      "Trial 15 Epoch 5 end\n",
      "Trial 15 Epoch 6 start\n",
      "Trial 15 Epoch 6 end\n",
      "Trial 15 Epoch 7 start\n",
      "Trial 15 Epoch 7 end\n",
      "Trial 15 Epoch 8 start\n",
      "Trial 15 Epoch 8 end\n",
      "Trial 15 Epoch 9 start\n",
      "Trial 15 Epoch 9 end\n"
     ]
    },
    {
     "name": "stderr",
     "output_type": "stream",
     "text": [
      "[I 2025-06-01 18:30:04,229] Trial 15 finished with value: 369.3540936472031 and parameters: {'hidden_dim': 256, 'dropout': 0.14776310668997883, 'learning_rate': 0.0008929251788229869, 'batch_size': 256, 'k': 4}. Best is trial 4 with value: 124.21463925666185.\n"
     ]
    },
    {
     "name": "stdout",
     "output_type": "stream",
     "text": [
      "Trial 16 params: 64, 0.21683445875240276, 0.003278687965092617, 8, 6\n",
      "Trial 16 Epoch 0 start\n",
      "Trial 16 Epoch 0 end\n",
      "Trial 16 Epoch 1 start\n",
      "Trial 16 Epoch 1 end\n",
      "Trial 16 Epoch 2 start\n",
      "Trial 16 Epoch 2 end\n",
      "Trial 16 Epoch 3 start\n",
      "Trial 16 Epoch 3 end\n",
      "Trial 16 Epoch 4 start\n",
      "Trial 16 Epoch 4 end\n",
      "Trial 16 Epoch 5 start\n",
      "Trial 16 Epoch 5 end\n",
      "Trial 16 Epoch 6 start\n",
      "Trial 16 Epoch 6 end\n",
      "Trial 16 Epoch 7 start\n",
      "Trial 16 Epoch 7 end\n",
      "Trial 16 Epoch 8 start\n",
      "Trial 16 Epoch 8 end\n",
      "Trial 16 Epoch 9 start\n",
      "Trial 16 Epoch 9 end\n"
     ]
    },
    {
     "name": "stderr",
     "output_type": "stream",
     "text": [
      "[I 2025-06-01 18:32:26,481] Trial 16 finished with value: 211.94362036455874 and parameters: {'hidden_dim': 64, 'dropout': 0.21683445875240276, 'learning_rate': 0.003278687965092617, 'batch_size': 8, 'k': 6}. Best is trial 4 with value: 124.21463925666185.\n"
     ]
    },
    {
     "name": "stdout",
     "output_type": "stream",
     "text": [
      "Trial 17 params: 64, 0.08221675576630835, 0.0005039888940460968, 8, 10\n",
      "Trial 17 Epoch 0 start\n",
      "Trial 17 Epoch 0 end\n",
      "Trial 17 Epoch 1 start\n",
      "Trial 17 Epoch 1 end\n",
      "Trial 17 Epoch 2 start\n",
      "Trial 17 Epoch 2 end\n",
      "Trial 17 Epoch 3 start\n",
      "Trial 17 Epoch 3 end\n",
      "Trial 17 Epoch 4 start\n",
      "Trial 17 Epoch 4 end\n",
      "Trial 17 Epoch 5 start\n",
      "Trial 17 Epoch 5 end\n",
      "Trial 17 Epoch 6 start\n",
      "Trial 17 Epoch 6 end\n",
      "Trial 17 Epoch 7 start\n",
      "Trial 17 Epoch 7 end\n",
      "Trial 17 Epoch 8 start\n",
      "Trial 17 Epoch 8 end\n",
      "Trial 17 Epoch 9 start\n",
      "Trial 17 Epoch 9 end\n"
     ]
    },
    {
     "name": "stderr",
     "output_type": "stream",
     "text": [
      "[I 2025-06-01 18:34:33,311] Trial 17 finished with value: 203.80709393798628 and parameters: {'hidden_dim': 64, 'dropout': 0.08221675576630835, 'learning_rate': 0.0005039888940460968, 'batch_size': 8, 'k': 10}. Best is trial 4 with value: 124.21463925666185.\n"
     ]
    },
    {
     "name": "stdout",
     "output_type": "stream",
     "text": [
      "Trial 18 params: 256, 0.3061323996249602, 0.001429947956534863, 8, 4\n",
      "Trial 18 Epoch 0 start\n",
      "Trial 18 Epoch 0 end\n",
      "Trial 18 Epoch 1 start\n",
      "Trial 18 Epoch 1 end\n",
      "Trial 18 Epoch 2 start\n",
      "Trial 18 Epoch 2 end\n",
      "Trial 18 Epoch 3 start\n",
      "Trial 18 Epoch 3 end\n",
      "Trial 18 Epoch 4 start\n",
      "Trial 18 Epoch 4 end\n",
      "Trial 18 Epoch 5 start\n",
      "Trial 18 Epoch 5 end\n",
      "Trial 18 Epoch 6 start\n",
      "Trial 18 Epoch 6 end\n",
      "Trial 18 Epoch 7 start\n",
      "Trial 18 Epoch 7 end\n",
      "Trial 18 Epoch 8 start\n",
      "Trial 18 Epoch 8 end\n",
      "Trial 18 Epoch 9 start\n",
      "Trial 18 Epoch 9 end\n"
     ]
    },
    {
     "name": "stderr",
     "output_type": "stream",
     "text": [
      "[I 2025-06-01 18:41:06,213] Trial 18 finished with value: 148.29903985231425 and parameters: {'hidden_dim': 256, 'dropout': 0.3061323996249602, 'learning_rate': 0.001429947956534863, 'batch_size': 8, 'k': 4}. Best is trial 4 with value: 124.21463925666185.\n"
     ]
    },
    {
     "name": "stdout",
     "output_type": "stream",
     "text": [
      "Trial 19 params: 128, 0.17842149652276781, 0.0002394075900181942, 64, 6\n",
      "Trial 19 Epoch 0 start\n",
      "Trial 19 Epoch 0 end\n",
      "Trial 19 Epoch 1 start\n",
      "Trial 19 Epoch 1 end\n",
      "Trial 19 Epoch 2 start\n",
      "Trial 19 Epoch 2 end\n",
      "Trial 19 Epoch 3 start\n",
      "Trial 19 Epoch 3 end\n",
      "Trial 19 Epoch 4 start\n",
      "Trial 19 Epoch 4 end\n",
      "Trial 19 Epoch 5 start\n",
      "Trial 19 Epoch 5 end\n",
      "Trial 19 Epoch 6 start\n",
      "Trial 19 Epoch 6 end\n",
      "Trial 19 Epoch 7 start\n",
      "Trial 19 Epoch 7 end\n",
      "Trial 19 Epoch 8 start\n",
      "Trial 19 Epoch 8 end\n",
      "Trial 19 Epoch 9 start\n",
      "Trial 19 Epoch 9 end\n"
     ]
    },
    {
     "name": "stderr",
     "output_type": "stream",
     "text": [
      "[I 2025-06-01 18:44:34,964] Trial 19 finished with value: 460.75415226992135 and parameters: {'hidden_dim': 128, 'dropout': 0.17842149652276781, 'learning_rate': 0.0002394075900181942, 'batch_size': 64, 'k': 6}. Best is trial 4 with value: 124.21463925666185.\n"
     ]
    },
    {
     "name": "stdout",
     "output_type": "stream",
     "text": [
      "Trial 20 params: 256, 0.3416128237369819, 0.00010801094377497023, 256, 12\n",
      "Trial 20 Epoch 0 start\n",
      "Trial 20 Epoch 0 end\n",
      "Trial 20 Epoch 1 start\n",
      "Trial 20 Epoch 1 end\n",
      "Trial 20 Epoch 2 start\n",
      "Trial 20 Epoch 2 end\n",
      "Trial 20 Epoch 3 start\n",
      "Trial 20 Epoch 3 end\n",
      "Trial 20 Epoch 4 start\n",
      "Trial 20 Epoch 4 end\n",
      "Trial 20 Epoch 5 start\n",
      "Trial 20 Epoch 5 end\n",
      "Trial 20 Epoch 6 start\n",
      "Trial 20 Epoch 6 end\n",
      "Trial 20 Epoch 7 start\n",
      "Trial 20 Epoch 7 end\n",
      "Trial 20 Epoch 8 start\n",
      "Trial 20 Epoch 8 end\n",
      "Trial 20 Epoch 9 start\n",
      "Trial 20 Epoch 9 end\n"
     ]
    },
    {
     "name": "stderr",
     "output_type": "stream",
     "text": [
      "[I 2025-06-01 18:57:05,058] Trial 20 finished with value: 587.9754571743435 and parameters: {'hidden_dim': 256, 'dropout': 0.3416128237369819, 'learning_rate': 0.00010801094377497023, 'batch_size': 256, 'k': 12}. Best is trial 4 with value: 124.21463925666185.\n"
     ]
    },
    {
     "name": "stdout",
     "output_type": "stream",
     "text": [
      "Trial 21 params: 256, 0.2511813237890091, 0.0013875108011892972, 8, 4\n",
      "Trial 21 Epoch 0 start\n",
      "Trial 21 Epoch 0 end\n",
      "Trial 21 Epoch 1 start\n",
      "Trial 21 Epoch 1 end\n",
      "Trial 21 Epoch 2 start\n",
      "Trial 21 Epoch 2 end\n",
      "Trial 21 Epoch 3 start\n",
      "Trial 21 Epoch 3 end\n",
      "Trial 21 Epoch 4 start\n",
      "Trial 21 Epoch 4 end\n",
      "Trial 21 Epoch 5 start\n",
      "Trial 21 Epoch 5 end\n",
      "Trial 21 Epoch 6 start\n",
      "Trial 21 Epoch 6 end\n",
      "Trial 21 Epoch 7 start\n",
      "Trial 21 Epoch 7 end\n",
      "Trial 21 Epoch 8 start\n",
      "Trial 21 Epoch 8 end\n",
      "Trial 21 Epoch 9 start\n",
      "Trial 21 Epoch 9 end\n"
     ]
    },
    {
     "name": "stderr",
     "output_type": "stream",
     "text": [
      "[I 2025-06-01 19:05:03,761] Trial 21 finished with value: 146.33741844217894 and parameters: {'hidden_dim': 256, 'dropout': 0.2511813237890091, 'learning_rate': 0.0013875108011892972, 'batch_size': 8, 'k': 4}. Best is trial 4 with value: 124.21463925666185.\n"
     ]
    },
    {
     "name": "stdout",
     "output_type": "stream",
     "text": [
      "Trial 22 params: 256, 0.24546815451658216, 0.0007538744288549334, 8, 4\n",
      "Trial 22 Epoch 0 start\n",
      "Trial 22 Epoch 0 end\n",
      "Trial 22 Epoch 1 start\n",
      "Trial 22 Epoch 1 end\n",
      "Trial 22 Epoch 2 start\n",
      "Trial 22 Epoch 2 end\n",
      "Trial 22 Epoch 3 start\n",
      "Trial 22 Epoch 3 end\n",
      "Trial 22 Epoch 4 start\n",
      "Trial 22 Epoch 4 end\n",
      "Trial 22 Epoch 5 start\n",
      "Trial 22 Epoch 5 end\n",
      "Trial 22 Epoch 6 start\n",
      "Trial 22 Epoch 6 end\n",
      "Trial 22 Epoch 7 start\n",
      "Trial 22 Epoch 7 end\n",
      "Trial 22 Epoch 8 start\n",
      "Trial 22 Epoch 8 end\n",
      "Trial 22 Epoch 9 start\n",
      "Trial 22 Epoch 9 end\n"
     ]
    },
    {
     "name": "stderr",
     "output_type": "stream",
     "text": [
      "[I 2025-06-01 19:12:53,789] Trial 22 finished with value: 140.50710360270784 and parameters: {'hidden_dim': 256, 'dropout': 0.24546815451658216, 'learning_rate': 0.0007538744288549334, 'batch_size': 8, 'k': 4}. Best is trial 4 with value: 124.21463925666185.\n"
     ]
    },
    {
     "name": "stdout",
     "output_type": "stream",
     "text": [
      "Trial 23 params: 256, 0.18544480121633136, 0.0006684654268589136, 8, 6\n",
      "Trial 23 Epoch 0 start\n",
      "Trial 23 Epoch 0 end\n",
      "Trial 23 Epoch 1 start\n",
      "Trial 23 Epoch 1 end\n",
      "Trial 23 Epoch 2 start\n",
      "Trial 23 Epoch 2 end\n",
      "Trial 23 Epoch 3 start\n",
      "Trial 23 Epoch 3 end\n",
      "Trial 23 Epoch 4 start\n",
      "Trial 23 Epoch 4 end\n",
      "Trial 23 Epoch 5 start\n",
      "Trial 23 Epoch 5 end\n",
      "Trial 23 Epoch 6 start\n",
      "Trial 23 Epoch 6 end\n",
      "Trial 23 Epoch 7 start\n",
      "Trial 23 Epoch 7 end\n",
      "Trial 23 Epoch 8 start\n",
      "Trial 23 Epoch 8 end\n",
      "Trial 23 Epoch 9 start\n",
      "Trial 23 Epoch 9 end\n"
     ]
    },
    {
     "name": "stderr",
     "output_type": "stream",
     "text": [
      "[I 2025-06-01 19:20:47,835] Trial 23 finished with value: 123.64882282655753 and parameters: {'hidden_dim': 256, 'dropout': 0.18544480121633136, 'learning_rate': 0.0006684654268589136, 'batch_size': 8, 'k': 6}. Best is trial 23 with value: 123.64882282655753.\n"
     ]
    },
    {
     "name": "stdout",
     "output_type": "stream",
     "text": [
      "Trial 24 params: 256, 0.18363278123771073, 0.000520037569005571, 1024, 6\n",
      "Trial 24 Epoch 0 start\n",
      "Trial 24 Epoch 0 end\n",
      "Trial 24 Epoch 1 start\n",
      "Trial 24 Epoch 1 end\n",
      "Trial 24 Epoch 2 start\n",
      "Trial 24 Epoch 2 end\n",
      "Trial 24 Epoch 3 start\n",
      "Trial 24 Epoch 3 end\n",
      "Trial 24 Epoch 4 start\n",
      "Trial 24 Epoch 4 end\n",
      "Trial 24 Epoch 5 start\n",
      "Trial 24 Epoch 5 end\n",
      "Trial 24 Epoch 6 start\n",
      "Trial 24 Epoch 6 end\n",
      "Trial 24 Epoch 7 start\n",
      "Trial 24 Epoch 7 end\n",
      "Trial 24 Epoch 8 start\n",
      "Trial 24 Epoch 8 end\n",
      "Trial 24 Epoch 9 start\n",
      "Trial 24 Epoch 9 end\n"
     ]
    },
    {
     "name": "stderr",
     "output_type": "stream",
     "text": [
      "[I 2025-06-01 19:30:11,475] Trial 24 finished with value: 643.9544275688351 and parameters: {'hidden_dim': 256, 'dropout': 0.18363278123771073, 'learning_rate': 0.000520037569005571, 'batch_size': 1024, 'k': 6}. Best is trial 23 with value: 123.64882282655753.\n"
     ]
    },
    {
     "name": "stdout",
     "output_type": "stream",
     "text": [
      "Trial 25 params: 64, 0.07658883532267761, 0.001108136861753739, 8, 6\n",
      "Trial 25 Epoch 0 start\n",
      "Trial 25 Epoch 0 end\n",
      "Trial 25 Epoch 1 start\n",
      "Trial 25 Epoch 1 end\n",
      "Trial 25 Epoch 2 start\n",
      "Trial 25 Epoch 2 end\n",
      "Trial 25 Epoch 3 start\n",
      "Trial 25 Epoch 3 end\n",
      "Trial 25 Epoch 4 start\n",
      "Trial 25 Epoch 4 end\n",
      "Trial 25 Epoch 5 start\n",
      "Trial 25 Epoch 5 end\n",
      "Trial 25 Epoch 6 start\n",
      "Trial 25 Epoch 6 end\n",
      "Trial 25 Epoch 7 start\n",
      "Trial 25 Epoch 7 end\n",
      "Trial 25 Epoch 8 start\n",
      "Trial 25 Epoch 8 end\n",
      "Trial 25 Epoch 9 start\n",
      "Trial 25 Epoch 9 end\n"
     ]
    },
    {
     "name": "stderr",
     "output_type": "stream",
     "text": [
      "[I 2025-06-01 19:33:03,402] Trial 25 finished with value: 173.00406128689295 and parameters: {'hidden_dim': 64, 'dropout': 0.07658883532267761, 'learning_rate': 0.001108136861753739, 'batch_size': 8, 'k': 6}. Best is trial 23 with value: 123.64882282655753.\n"
     ]
    },
    {
     "name": "stdout",
     "output_type": "stream",
     "text": [
      "Trial 26 params: 256, 0.13037193066059716, 0.0006534787492337032, 8, 8\n",
      "Trial 26 Epoch 0 start\n",
      "Trial 26 Epoch 0 end\n",
      "Trial 26 Epoch 1 start\n",
      "Trial 26 Epoch 1 end\n",
      "Trial 26 Epoch 2 start\n",
      "Trial 26 Epoch 2 end\n",
      "Trial 26 Epoch 3 start\n",
      "Trial 26 Epoch 3 end\n",
      "Trial 26 Epoch 4 start\n",
      "Trial 26 Epoch 4 end\n",
      "Trial 26 Epoch 5 start\n",
      "Trial 26 Epoch 5 end\n",
      "Trial 26 Epoch 6 start\n",
      "Trial 26 Epoch 6 end\n",
      "Trial 26 Epoch 7 start\n",
      "Trial 26 Epoch 7 end\n",
      "Trial 26 Epoch 8 start\n",
      "Trial 26 Epoch 8 end\n",
      "Trial 26 Epoch 9 start\n",
      "Trial 26 Epoch 9 end\n"
     ]
    },
    {
     "name": "stderr",
     "output_type": "stream",
     "text": [
      "[I 2025-06-01 19:41:37,822] Trial 26 finished with value: 131.16754021378648 and parameters: {'hidden_dim': 256, 'dropout': 0.13037193066059716, 'learning_rate': 0.0006534787492337032, 'batch_size': 8, 'k': 8}. Best is trial 23 with value: 123.64882282655753.\n"
     ]
    },
    {
     "name": "stdout",
     "output_type": "stream",
     "text": [
      "Trial 27 params: 256, 0.09468114055267007, 0.0003857369431720194, 8, 8\n",
      "Trial 27 Epoch 0 start\n",
      "Trial 27 Epoch 0 end\n",
      "Trial 27 Epoch 1 start\n",
      "Trial 27 Epoch 1 end\n",
      "Trial 27 Epoch 2 start\n",
      "Trial 27 Epoch 2 end\n",
      "Trial 27 Epoch 3 start\n",
      "Trial 27 Epoch 3 end\n",
      "Trial 27 Epoch 4 start\n",
      "Trial 27 Epoch 4 end\n",
      "Trial 27 Epoch 5 start\n",
      "Trial 27 Epoch 5 end\n",
      "Trial 27 Epoch 6 start\n",
      "Trial 27 Epoch 6 end\n",
      "Trial 27 Epoch 7 start\n",
      "Trial 27 Epoch 7 end\n",
      "Trial 27 Epoch 8 start\n",
      "Trial 27 Epoch 8 end\n",
      "Trial 27 Epoch 9 start\n",
      "Trial 27 Epoch 9 end\n"
     ]
    },
    {
     "name": "stderr",
     "output_type": "stream",
     "text": [
      "[I 2025-06-01 19:49:20,316] Trial 27 finished with value: 136.20066687226048 and parameters: {'hidden_dim': 256, 'dropout': 0.09468114055267007, 'learning_rate': 0.0003857369431720194, 'batch_size': 8, 'k': 8}. Best is trial 23 with value: 123.64882282655753.\n"
     ]
    },
    {
     "name": "stdout",
     "output_type": "stream",
     "text": [
      "Trial 28 params: 256, 0.14135567533485363, 0.0006391217976348151, 8, 10\n",
      "Trial 28 Epoch 0 start\n",
      "Trial 28 Epoch 0 end\n",
      "Trial 28 Epoch 1 start\n",
      "Trial 28 Epoch 1 end\n",
      "Trial 28 Epoch 2 start\n",
      "Trial 28 Epoch 2 end\n",
      "Trial 28 Epoch 3 start\n",
      "Trial 28 Epoch 3 end\n",
      "Trial 28 Epoch 4 start\n",
      "Trial 28 Epoch 4 end\n",
      "Trial 28 Epoch 5 start\n",
      "Trial 28 Epoch 5 end\n",
      "Trial 28 Epoch 6 start\n",
      "Trial 28 Epoch 6 end\n",
      "Trial 28 Epoch 7 start\n",
      "Trial 28 Epoch 7 end\n",
      "Trial 28 Epoch 8 start\n",
      "Trial 28 Epoch 8 end\n",
      "Trial 28 Epoch 9 start\n",
      "Trial 28 Epoch 9 end\n"
     ]
    },
    {
     "name": "stderr",
     "output_type": "stream",
     "text": [
      "[I 2025-06-01 19:57:16,716] Trial 28 finished with value: 133.15916602062566 and parameters: {'hidden_dim': 256, 'dropout': 0.14135567533485363, 'learning_rate': 0.0006391217976348151, 'batch_size': 8, 'k': 10}. Best is trial 23 with value: 123.64882282655753.\n"
     ]
    },
    {
     "name": "stdout",
     "output_type": "stream",
     "text": [
      "Trial 29 params: 256, 0.04654921856687645, 0.0002594637475927159, 1024, 8\n",
      "Trial 29 Epoch 0 start\n",
      "Trial 29 Epoch 0 end\n",
      "Trial 29 Epoch 1 start\n",
      "Trial 29 Epoch 1 end\n",
      "Trial 29 Epoch 2 start\n",
      "Trial 29 Epoch 2 end\n",
      "Trial 29 Epoch 3 start\n",
      "Trial 29 Epoch 3 end\n",
      "Trial 29 Epoch 4 start\n",
      "Trial 29 Epoch 4 end\n",
      "Trial 29 Epoch 5 start\n",
      "Trial 29 Epoch 5 end\n",
      "Trial 29 Epoch 6 start\n",
      "Trial 29 Epoch 6 end\n",
      "Trial 29 Epoch 7 start\n",
      "Trial 29 Epoch 7 end\n",
      "Trial 29 Epoch 8 start\n",
      "Trial 29 Epoch 8 end\n",
      "Trial 29 Epoch 9 start\n",
      "Trial 29 Epoch 9 end\n"
     ]
    },
    {
     "name": "stderr",
     "output_type": "stream",
     "text": [
      "[I 2025-06-01 20:05:08,531] Trial 29 finished with value: 1387.6140429375162 and parameters: {'hidden_dim': 256, 'dropout': 0.04654921856687645, 'learning_rate': 0.0002594637475927159, 'batch_size': 1024, 'k': 8}. Best is trial 23 with value: 123.64882282655753.\n"
     ]
    },
    {
     "name": "stdout",
     "output_type": "stream",
     "text": [
      "Best params: {'hidden_dim': 256, 'dropout': 0.18544480121633136, 'learning_rate': 0.0006684654268589136, 'batch_size': 8, 'k': 6}\n",
      "Best value: 123.64882282655753\n"
     ]
    }
   ],
   "source": [
    "import optuna\n",
    "# expand the search space in Optuna\n",
    "def objective(trial):\n",
    "    hidden_dim = trial.suggest_categorical('hidden_dim', [64, 128, 256])\n",
    "    dropout = trial.suggest_float('dropout', 0.0, 0.5)\n",
    "    learning_rate = trial.suggest_float('learning_rate', 1e-4, 1e-2, log=True)\n",
    "    batch_size = trial.suggest_categorical('batch_size', [8,64,256, 512, 1024])\n",
    "    k = trial.suggest_int('k', 4, 12, step=2)\n",
    "    activation = torch.nn.ReLU()\n",
    "    # reconstruct spatial graph\n",
    "    edge_index, edge_weight = build_spatial_graph(spatial_df, k=k)\n",
    "    edge_index = edge_index.to(device)\n",
    "    edge_weight = edge_weight.to(device)\n",
    "    model = SpatioTemporalGNN(\n",
    "        spatial_features=len(spatial_cols),\n",
    "        temporal_features=len(temporal_cols),\n",
    "        hidden_dim=hidden_dim,\n",
    "        dropout=dropout,\n",
    "        activation=activation\n",
    "    ).to(device)\n",
    "    optimizer = torch.optim.Adam(model.parameters(), lr=learning_rate)\n",
    "    print(f\"Trial {trial.number} params: {hidden_dim}, {dropout}, {learning_rate}, {batch_size}, {k}\")\n",
    "    for epoch in range(10):\n",
    "        print(f\"Trial {trial.number} Epoch {epoch} start\")\n",
    "        run_epoch(train_batches, model, spatial_x, edge_index, edge_weight, optimizer, batch_size=batch_size)\n",
    "        print(f\"Trial {trial.number} Epoch {epoch} end\")\n",
    "    val_loss, yv, pv = run_epoch(val_batches, model, spatial_x, edge_index, edge_weight, optimizer=None, batch_size=batch_size, collect_pred=True)\n",
    "    r2 = 1 - np.sum((yv - pv)**2) / np.sum((yv - yv.mean())**2)\n",
    "    return val_loss\n",
    "\n",
    "device = torch.device('cpu')\n",
    "print('使用裝置:', device)\n",
    "\n",
    "study = optuna.create_study(direction='minimize')\n",
    "study.optimize(objective, n_trials=30)\n",
    "\n",
    "print('Best params:', study.best_params)\n",
    "print('Best value:', study.best_value)"
   ]
  },
  {
   "cell_type": "code",
   "execution_count": 33,
   "metadata": {
    "trusted": true
   },
   "outputs": [
    {
     "name": "stderr",
     "output_type": "stream",
     "text": [
      "  0%|          | 1/200 [00:50<2:47:58, 50.65s/it]"
     ]
    },
    {
     "name": "stdout",
     "output_type": "stream",
     "text": [
      "Epoch:  0 Val loss: 365.29708143534515 R square: 0.9101267\n"
     ]
    },
    {
     "name": "stderr",
     "output_type": "stream",
     "text": [
      "  1%|          | 2/200 [01:40<2:45:44, 50.23s/it]"
     ]
    },
    {
     "name": "stdout",
     "output_type": "stream",
     "text": [
      "Epoch:  1 Val loss: 257.16720544414477 R square: 0.93672967\n"
     ]
    },
    {
     "name": "stderr",
     "output_type": "stream",
     "text": [
      "  2%|▏         | 3/200 [02:30<2:43:50, 49.90s/it]"
     ]
    },
    {
     "name": "stdout",
     "output_type": "stream",
     "text": [
      "Epoch:  2 Val loss: 194.45549496062128 R square: 0.9521585\n"
     ]
    },
    {
     "name": "stderr",
     "output_type": "stream",
     "text": [
      "  2%|▏         | 4/200 [03:17<2:39:41, 48.89s/it]"
     ]
    },
    {
     "name": "stdout",
     "output_type": "stream",
     "text": [
      "Epoch:  3 Val loss: 200.4246044584856 R square: 0.9506899\n"
     ]
    },
    {
     "name": "stderr",
     "output_type": "stream",
     "text": [
      "  2%|▎         | 5/200 [04:06<2:38:35, 48.80s/it]"
     ]
    },
    {
     "name": "stdout",
     "output_type": "stream",
     "text": [
      "Epoch:  4 Val loss: 178.03061379850357 R square: 0.95619947\n"
     ]
    },
    {
     "name": "stderr",
     "output_type": "stream",
     "text": [
      "  3%|▎         | 6/200 [04:56<2:39:26, 49.31s/it]"
     ]
    },
    {
     "name": "stdout",
     "output_type": "stream",
     "text": [
      "Epoch:  5 Val loss: 128.69799204890543 R square: 0.9683367\n"
     ]
    },
    {
     "name": "stderr",
     "output_type": "stream",
     "text": [
      "  4%|▎         | 7/200 [05:49<2:42:59, 50.67s/it]"
     ]
    },
    {
     "name": "stdout",
     "output_type": "stream",
     "text": [
      "Epoch:  6 Val loss: 141.6933083487658 R square: 0.9651395\n"
     ]
    },
    {
     "name": "stderr",
     "output_type": "stream",
     "text": [
      "  4%|▍         | 8/200 [06:30<2:31:26, 47.33s/it]"
     ]
    },
    {
     "name": "stdout",
     "output_type": "stream",
     "text": [
      "Epoch:  7 Val loss: 140.35827083954774 R square: 0.96546793\n"
     ]
    },
    {
     "name": "stderr",
     "output_type": "stream",
     "text": [
      "  4%|▍         | 9/200 [07:06<2:19:50, 43.93s/it]"
     ]
    },
    {
     "name": "stdout",
     "output_type": "stream",
     "text": [
      "Epoch:  8 Val loss: 131.73086540493176 R square: 0.9675905\n"
     ]
    },
    {
     "name": "stderr",
     "output_type": "stream",
     "text": [
      "  5%|▌         | 10/200 [08:02<2:30:43, 47.60s/it]"
     ]
    },
    {
     "name": "stdout",
     "output_type": "stream",
     "text": [
      "Epoch:  9 Val loss: 124.20888311551782 R square: 0.9694411\n"
     ]
    },
    {
     "name": "stderr",
     "output_type": "stream",
     "text": [
      "  6%|▌         | 11/200 [08:57<2:36:56, 49.82s/it]"
     ]
    },
    {
     "name": "stdout",
     "output_type": "stream",
     "text": [
      "Epoch:  10 Val loss: 115.75131020739599 R square: 0.9715219\n"
     ]
    },
    {
     "name": "stderr",
     "output_type": "stream",
     "text": [
      "  6%|▌         | 12/200 [09:49<2:38:47, 50.68s/it]"
     ]
    },
    {
     "name": "stdout",
     "output_type": "stream",
     "text": [
      "Epoch:  11 Val loss: 113.95530234589268 R square: 0.9719638\n"
     ]
    },
    {
     "name": "stderr",
     "output_type": "stream",
     "text": [
      "  6%|▋         | 13/200 [10:41<2:39:11, 51.08s/it]"
     ]
    },
    {
     "name": "stdout",
     "output_type": "stream",
     "text": [
      "Epoch:  12 Val loss: 115.14742801238948 R square: 0.9716705\n"
     ]
    },
    {
     "name": "stderr",
     "output_type": "stream",
     "text": [
      "  7%|▋         | 14/200 [11:35<2:40:50, 51.89s/it]"
     ]
    },
    {
     "name": "stdout",
     "output_type": "stream",
     "text": [
      "Epoch:  13 Val loss: 115.37455728713532 R square: 0.97161466\n"
     ]
    },
    {
     "name": "stderr",
     "output_type": "stream",
     "text": [
      "  8%|▊         | 15/200 [12:24<2:37:18, 51.02s/it]"
     ]
    },
    {
     "name": "stdout",
     "output_type": "stream",
     "text": [
      "Epoch:  14 Val loss: 107.97475649821439 R square: 0.97343516\n"
     ]
    },
    {
     "name": "stderr",
     "output_type": "stream",
     "text": [
      "  8%|▊         | 16/200 [13:18<2:39:36, 52.05s/it]"
     ]
    },
    {
     "name": "stdout",
     "output_type": "stream",
     "text": [
      "Epoch:  15 Val loss: 97.85543706291895 R square: 0.97592485\n"
     ]
    },
    {
     "name": "stderr",
     "output_type": "stream",
     "text": [
      "  8%|▊         | 17/200 [14:15<2:43:05, 53.47s/it]"
     ]
    },
    {
     "name": "stdout",
     "output_type": "stream",
     "text": [
      "Epoch:  16 Val loss: 115.93123035983578 R square: 0.9714777\n"
     ]
    },
    {
     "name": "stderr",
     "output_type": "stream",
     "text": [
      "  9%|▉         | 18/200 [15:10<2:43:42, 53.97s/it]"
     ]
    },
    {
     "name": "stdout",
     "output_type": "stream",
     "text": [
      "Epoch:  17 Val loss: 108.6419975781878 R square: 0.973271\n"
     ]
    },
    {
     "name": "stderr",
     "output_type": "stream",
     "text": [
      " 10%|▉         | 19/200 [16:04<2:42:24, 53.84s/it]"
     ]
    },
    {
     "name": "stdout",
     "output_type": "stream",
     "text": [
      "Epoch:  18 Val loss: 94.58976250937341 R square: 0.97672826\n"
     ]
    },
    {
     "name": "stderr",
     "output_type": "stream",
     "text": [
      " 10%|█         | 20/200 [16:56<2:39:59, 53.33s/it]"
     ]
    },
    {
     "name": "stdout",
     "output_type": "stream",
     "text": [
      "Epoch:  19 Val loss: 100.83581036327442 R square: 0.9751916\n"
     ]
    },
    {
     "name": "stderr",
     "output_type": "stream",
     "text": [
      " 10%|█         | 21/200 [17:46<2:35:37, 52.16s/it]"
     ]
    },
    {
     "name": "stdout",
     "output_type": "stream",
     "text": [
      "Epoch:  20 Val loss: 97.31864836182646 R square: 0.9760569\n"
     ]
    },
    {
     "name": "stderr",
     "output_type": "stream",
     "text": [
      " 11%|█         | 22/200 [18:35<2:32:02, 51.25s/it]"
     ]
    },
    {
     "name": "stdout",
     "output_type": "stream",
     "text": [
      "Epoch:  21 Val loss: 109.37419367868951 R square: 0.9730909\n"
     ]
    },
    {
     "name": "stderr",
     "output_type": "stream",
     "text": [
      " 12%|█▏        | 23/200 [19:24<2:29:16, 50.60s/it]"
     ]
    },
    {
     "name": "stdout",
     "output_type": "stream",
     "text": [
      "Epoch:  22 Val loss: 126.79930085805638 R square: 0.9688038\n"
     ]
    },
    {
     "name": "stderr",
     "output_type": "stream",
     "text": [
      " 12%|█▏        | 24/200 [20:14<2:27:56, 50.43s/it]"
     ]
    },
    {
     "name": "stdout",
     "output_type": "stream",
     "text": [
      "Epoch:  23 Val loss: 98.50403497269797 R square: 0.9757652\n"
     ]
    },
    {
     "name": "stderr",
     "output_type": "stream",
     "text": [
      " 12%|█▎        | 25/200 [21:03<2:26:20, 50.18s/it]"
     ]
    },
    {
     "name": "stdout",
     "output_type": "stream",
     "text": [
      "Epoch:  24 Val loss: 96.12299856757564 R square: 0.976351\n"
     ]
    },
    {
     "name": "stderr",
     "output_type": "stream",
     "text": [
      " 13%|█▎        | 26/200 [21:55<2:26:24, 50.48s/it]"
     ]
    },
    {
     "name": "stdout",
     "output_type": "stream",
     "text": [
      "Epoch:  25 Val loss: 103.31840687325479 R square: 0.97458076\n"
     ]
    },
    {
     "name": "stderr",
     "output_type": "stream",
     "text": [
      " 14%|█▎        | 27/200 [22:47<2:27:25, 51.13s/it]"
     ]
    },
    {
     "name": "stdout",
     "output_type": "stream",
     "text": [
      "Epoch:  26 Val loss: 95.92174022471352 R square: 0.97640055\n"
     ]
    },
    {
     "name": "stderr",
     "output_type": "stream",
     "text": [
      " 14%|█▍        | 28/200 [23:41<2:28:52, 51.93s/it]"
     ]
    },
    {
     "name": "stdout",
     "output_type": "stream",
     "text": [
      "Epoch:  27 Val loss: 100.28911182697806 R square: 0.97532606\n"
     ]
    },
    {
     "name": "stderr",
     "output_type": "stream",
     "text": [
      " 14%|█▍        | 29/200 [24:34<2:28:33, 52.13s/it]"
     ]
    },
    {
     "name": "stdout",
     "output_type": "stream",
     "text": [
      "Epoch:  28 Val loss: 96.9095656856683 R square: 0.97615755\n"
     ]
    },
    {
     "name": "stderr",
     "output_type": "stream",
     "text": [
      " 15%|█▌        | 30/200 [25:22<2:24:47, 51.10s/it]"
     ]
    },
    {
     "name": "stdout",
     "output_type": "stream",
     "text": [
      "Epoch:  29 Val loss: 89.22666694761035 R square: 0.9780477\n"
     ]
    },
    {
     "name": "stderr",
     "output_type": "stream",
     "text": [
      " 16%|█▌        | 31/200 [26:13<2:23:44, 51.03s/it]"
     ]
    },
    {
     "name": "stdout",
     "output_type": "stream",
     "text": [
      "Epoch:  30 Val loss: 96.05499948342613 R square: 0.9763678\n"
     ]
    },
    {
     "name": "stderr",
     "output_type": "stream",
     "text": [
      " 16%|█▌        | 32/200 [27:02<2:20:58, 50.35s/it]"
     ]
    },
    {
     "name": "stdout",
     "output_type": "stream",
     "text": [
      "Epoch:  31 Val loss: 95.8048067392304 R square: 0.97642934\n"
     ]
    },
    {
     "name": "stderr",
     "output_type": "stream",
     "text": [
      " 16%|█▋        | 33/200 [27:50<2:18:39, 49.82s/it]"
     ]
    },
    {
     "name": "stdout",
     "output_type": "stream",
     "text": [
      "Epoch:  32 Val loss: 91.41116424873847 R square: 0.9775103\n"
     ]
    },
    {
     "name": "stderr",
     "output_type": "stream",
     "text": [
      " 17%|█▋        | 34/200 [28:40<2:17:25, 49.67s/it]"
     ]
    },
    {
     "name": "stdout",
     "output_type": "stream",
     "text": [
      "Epoch:  33 Val loss: 87.11285452632636 R square: 0.9785678\n"
     ]
    },
    {
     "name": "stderr",
     "output_type": "stream",
     "text": [
      " 18%|█▊        | 35/200 [29:28<2:15:36, 49.31s/it]"
     ]
    },
    {
     "name": "stdout",
     "output_type": "stream",
     "text": [
      "Epoch:  34 Val loss: 92.51889666684274 R square: 0.97723776\n"
     ]
    },
    {
     "name": "stderr",
     "output_type": "stream",
     "text": [
      " 18%|█▊        | 36/200 [30:21<2:17:16, 50.22s/it]"
     ]
    },
    {
     "name": "stdout",
     "output_type": "stream",
     "text": [
      "Epoch:  35 Val loss: 93.2284526554227 R square: 0.9770632\n"
     ]
    },
    {
     "name": "stderr",
     "output_type": "stream",
     "text": [
      " 18%|█▊        | 37/200 [31:12<2:17:05, 50.46s/it]"
     ]
    },
    {
     "name": "stdout",
     "output_type": "stream",
     "text": [
      "Epoch:  36 Val loss: 92.64680142382775 R square: 0.9772063\n"
     ]
    },
    {
     "name": "stderr",
     "output_type": "stream",
     "text": [
      " 19%|█▉        | 38/200 [32:04<2:17:24, 50.89s/it]"
     ]
    },
    {
     "name": "stdout",
     "output_type": "stream",
     "text": [
      "Epoch:  37 Val loss: 83.78014486854426 R square: 0.97938776\n"
     ]
    },
    {
     "name": "stderr",
     "output_type": "stream",
     "text": [
      " 20%|█▉        | 39/200 [32:55<2:16:42, 50.95s/it]"
     ]
    },
    {
     "name": "stdout",
     "output_type": "stream",
     "text": [
      "Epoch:  38 Val loss: 92.97137038242519 R square: 0.9771264\n"
     ]
    },
    {
     "name": "stderr",
     "output_type": "stream",
     "text": [
      " 20%|██        | 40/200 [33:46<2:16:09, 51.06s/it]"
     ]
    },
    {
     "name": "stdout",
     "output_type": "stream",
     "text": [
      "Epoch:  39 Val loss: 92.14213410128059 R square: 0.97733045\n"
     ]
    },
    {
     "name": "stderr",
     "output_type": "stream",
     "text": [
      " 20%|██        | 41/200 [34:39<2:16:42, 51.59s/it]"
     ]
    },
    {
     "name": "stdout",
     "output_type": "stream",
     "text": [
      "Epoch:  40 Val loss: 87.95080708516659 R square: 0.9783616\n"
     ]
    },
    {
     "name": "stderr",
     "output_type": "stream",
     "text": [
      " 21%|██        | 42/200 [35:31<2:16:27, 51.82s/it]"
     ]
    },
    {
     "name": "stdout",
     "output_type": "stream",
     "text": [
      "Epoch:  41 Val loss: 90.07995229912915 R square: 0.9778378\n"
     ]
    },
    {
     "name": "stderr",
     "output_type": "stream",
     "text": [
      " 22%|██▏       | 43/200 [36:22<2:15:11, 51.67s/it]"
     ]
    },
    {
     "name": "stdout",
     "output_type": "stream",
     "text": [
      "Epoch:  42 Val loss: 87.73440380643731 R square: 0.9784149\n"
     ]
    },
    {
     "name": "stderr",
     "output_type": "stream",
     "text": [
      " 22%|██▏       | 44/200 [37:14<2:14:30, 51.74s/it]"
     ]
    },
    {
     "name": "stdout",
     "output_type": "stream",
     "text": [
      "Epoch:  43 Val loss: 90.07298622288441 R square: 0.9778395\n"
     ]
    },
    {
     "name": "stderr",
     "output_type": "stream",
     "text": [
      " 22%|██▎       | 45/200 [38:07<2:14:25, 52.03s/it]"
     ]
    },
    {
     "name": "stdout",
     "output_type": "stream",
     "text": [
      "Epoch:  44 Val loss: 97.42253816302708 R square: 0.9760313\n"
     ]
    },
    {
     "name": "stderr",
     "output_type": "stream",
     "text": [
      " 23%|██▎       | 46/200 [38:58<2:12:36, 51.67s/it]"
     ]
    },
    {
     "name": "stdout",
     "output_type": "stream",
     "text": [
      "Epoch:  45 Val loss: 87.31609543177807 R square: 0.9785178\n"
     ]
    },
    {
     "name": "stderr",
     "output_type": "stream",
     "text": [
      " 24%|██▎       | 47/200 [39:49<2:11:22, 51.52s/it]"
     ]
    },
    {
     "name": "stdout",
     "output_type": "stream",
     "text": [
      "Epoch:  46 Val loss: 90.73792201106995 R square: 0.9776759\n"
     ]
    },
    {
     "name": "stderr",
     "output_type": "stream",
     "text": [
      " 24%|██▍       | 48/200 [40:40<2:10:24, 51.48s/it]"
     ]
    },
    {
     "name": "stdout",
     "output_type": "stream",
     "text": [
      "Epoch:  47 Val loss: 85.97079036966493 R square: 0.97884876\n"
     ]
    },
    {
     "name": "stderr",
     "output_type": "stream",
     "text": [
      " 24%|██▍       | 49/200 [41:31<2:08:51, 51.20s/it]"
     ]
    },
    {
     "name": "stdout",
     "output_type": "stream",
     "text": [
      "Epoch:  48 Val loss: 98.40721096980205 R square: 0.97578907\n"
     ]
    },
    {
     "name": "stderr",
     "output_type": "stream",
     "text": [
      " 25%|██▌       | 50/200 [42:24<2:09:17, 51.72s/it]"
     ]
    },
    {
     "name": "stdout",
     "output_type": "stream",
     "text": [
      "Epoch:  49 Val loss: 87.43035237846661 R square: 0.9784897\n"
     ]
    },
    {
     "name": "stderr",
     "output_type": "stream",
     "text": [
      " 26%|██▌       | 51/200 [43:16<2:08:29, 51.74s/it]"
     ]
    },
    {
     "name": "stdout",
     "output_type": "stream",
     "text": [
      "Epoch:  50 Val loss: 98.18060153796598 R square: 0.9758448\n"
     ]
    },
    {
     "name": "stderr",
     "output_type": "stream",
     "text": [
      " 26%|██▌       | 52/200 [44:08<2:08:00, 51.90s/it]"
     ]
    },
    {
     "name": "stdout",
     "output_type": "stream",
     "text": [
      "Epoch:  51 Val loss: 85.08523459056278 R square: 0.97906667\n"
     ]
    },
    {
     "name": "stderr",
     "output_type": "stream",
     "text": [
      " 26%|██▋       | 53/200 [45:00<2:07:14, 51.93s/it]"
     ]
    },
    {
     "name": "stdout",
     "output_type": "stream",
     "text": [
      "Epoch:  52 Val loss: 78.08663972973477 R square: 0.9807885\n"
     ]
    },
    {
     "name": "stderr",
     "output_type": "stream",
     "text": [
      " 27%|██▋       | 54/200 [45:51<2:05:24, 51.54s/it]"
     ]
    },
    {
     "name": "stdout",
     "output_type": "stream",
     "text": [
      "Epoch:  53 Val loss: 81.53868879311773 R square: 0.9799392\n"
     ]
    },
    {
     "name": "stderr",
     "output_type": "stream",
     "text": [
      " 28%|██▊       | 55/200 [46:43<2:04:56, 51.70s/it]"
     ]
    },
    {
     "name": "stdout",
     "output_type": "stream",
     "text": [
      "Epoch:  54 Val loss: 78.85088295938047 R square: 0.9806005\n"
     ]
    },
    {
     "name": "stderr",
     "output_type": "stream",
     "text": [
      " 28%|██▊       | 56/200 [47:36<2:05:02, 52.10s/it]"
     ]
    },
    {
     "name": "stdout",
     "output_type": "stream",
     "text": [
      "Epoch:  55 Val loss: 80.85448196768812 R square: 0.98010755\n"
     ]
    },
    {
     "name": "stderr",
     "output_type": "stream",
     "text": [
      " 28%|██▊       | 57/200 [48:29<2:05:17, 52.57s/it]"
     ]
    },
    {
     "name": "stdout",
     "output_type": "stream",
     "text": [
      "Epoch:  56 Val loss: 80.97009530917269 R square: 0.9800791\n"
     ]
    },
    {
     "name": "stderr",
     "output_type": "stream",
     "text": [
      " 29%|██▉       | 58/200 [49:21<2:03:35, 52.22s/it]"
     ]
    },
    {
     "name": "stdout",
     "output_type": "stream",
     "text": [
      "Epoch:  57 Val loss: 79.11735200417712 R square: 0.9805349\n"
     ]
    },
    {
     "name": "stderr",
     "output_type": "stream",
     "text": [
      " 30%|██▉       | 59/200 [50:13<2:02:46, 52.25s/it]"
     ]
    },
    {
     "name": "stdout",
     "output_type": "stream",
     "text": [
      "Epoch:  58 Val loss: 74.42338696574093 R square: 0.98168975\n"
     ]
    },
    {
     "name": "stderr",
     "output_type": "stream",
     "text": [
      " 30%|███       | 60/200 [51:07<2:03:14, 52.82s/it]"
     ]
    },
    {
     "name": "stdout",
     "output_type": "stream",
     "text": [
      "Epoch:  59 Val loss: 79.06791473631169 R square: 0.9805471\n"
     ]
    },
    {
     "name": "stderr",
     "output_type": "stream",
     "text": [
      " 30%|███       | 61/200 [51:59<2:01:36, 52.50s/it]"
     ]
    },
    {
     "name": "stdout",
     "output_type": "stream",
     "text": [
      "Epoch:  60 Val loss: 74.27379316240047 R square: 0.9817266\n"
     ]
    },
    {
     "name": "stderr",
     "output_type": "stream",
     "text": [
      " 31%|███       | 62/200 [52:49<1:58:57, 51.72s/it]"
     ]
    },
    {
     "name": "stdout",
     "output_type": "stream",
     "text": [
      "Epoch:  61 Val loss: 75.26183188809172 R square: 0.98148346\n"
     ]
    },
    {
     "name": "stderr",
     "output_type": "stream",
     "text": [
      " 32%|███▏      | 63/200 [53:41<1:58:03, 51.70s/it]"
     ]
    },
    {
     "name": "stdout",
     "output_type": "stream",
     "text": [
      "Epoch:  62 Val loss: 81.45560798542925 R square: 0.9799596\n"
     ]
    },
    {
     "name": "stderr",
     "output_type": "stream",
     "text": [
      " 32%|███▏      | 64/200 [54:33<1:58:02, 52.08s/it]"
     ]
    },
    {
     "name": "stdout",
     "output_type": "stream",
     "text": [
      "Epoch:  63 Val loss: 77.95913450832525 R square: 0.9808199\n"
     ]
    },
    {
     "name": "stderr",
     "output_type": "stream",
     "text": [
      " 32%|███▎      | 65/200 [55:27<1:58:12, 52.54s/it]"
     ]
    },
    {
     "name": "stdout",
     "output_type": "stream",
     "text": [
      "Epoch:  64 Val loss: 74.6138428136937 R square: 0.9816429\n"
     ]
    },
    {
     "name": "stderr",
     "output_type": "stream",
     "text": [
      " 33%|███▎      | 66/200 [56:24<2:00:05, 53.77s/it]"
     ]
    },
    {
     "name": "stdout",
     "output_type": "stream",
     "text": [
      "Epoch:  65 Val loss: 70.49032848142302 R square: 0.98265743\n"
     ]
    },
    {
     "name": "stderr",
     "output_type": "stream",
     "text": [
      " 34%|███▎      | 67/200 [57:13<1:56:22, 52.50s/it]"
     ]
    },
    {
     "name": "stdout",
     "output_type": "stream",
     "text": [
      "Epoch:  66 Val loss: 75.06146181923592 R square: 0.98153275\n"
     ]
    },
    {
     "name": "stderr",
     "output_type": "stream",
     "text": [
      " 34%|███▍      | 68/200 [58:03<1:53:36, 51.64s/it]"
     ]
    },
    {
     "name": "stdout",
     "output_type": "stream",
     "text": [
      "Epoch:  67 Val loss: 77.27450549057168 R square: 0.9809883\n"
     ]
    },
    {
     "name": "stderr",
     "output_type": "stream",
     "text": [
      " 34%|███▍      | 69/200 [58:51<1:50:36, 50.66s/it]"
     ]
    },
    {
     "name": "stdout",
     "output_type": "stream",
     "text": [
      "Epoch:  68 Val loss: 80.75673599696425 R square: 0.98013157\n"
     ]
    },
    {
     "name": "stderr",
     "output_type": "stream",
     "text": [
      " 35%|███▌      | 70/200 [59:39<1:47:45, 49.74s/it]"
     ]
    },
    {
     "name": "stdout",
     "output_type": "stream",
     "text": [
      "Epoch:  69 Val loss: 80.75036996851877 R square: 0.9801332\n"
     ]
    },
    {
     "name": "stderr",
     "output_type": "stream",
     "text": [
      " 36%|███▌      | 71/200 [1:00:28<1:46:28, 49.52s/it]"
     ]
    },
    {
     "name": "stdout",
     "output_type": "stream",
     "text": [
      "Epoch:  70 Val loss: 73.6104423917862 R square: 0.9818898\n"
     ]
    },
    {
     "name": "stderr",
     "output_type": "stream",
     "text": [
      " 36%|███▌      | 72/200 [1:01:16<1:44:40, 49.07s/it]"
     ]
    },
    {
     "name": "stdout",
     "output_type": "stream",
     "text": [
      "Epoch:  71 Val loss: 74.64685926326986 R square: 0.9816348\n"
     ]
    },
    {
     "name": "stderr",
     "output_type": "stream",
     "text": [
      " 36%|███▋      | 73/200 [1:02:05<1:43:33, 48.93s/it]"
     ]
    },
    {
     "name": "stdout",
     "output_type": "stream",
     "text": [
      "Epoch:  72 Val loss: 80.98046653287533 R square: 0.98007655\n"
     ]
    },
    {
     "name": "stderr",
     "output_type": "stream",
     "text": [
      " 37%|███▋      | 74/200 [1:02:57<1:45:07, 50.06s/it]"
     ]
    },
    {
     "name": "stdout",
     "output_type": "stream",
     "text": [
      "Epoch:  73 Val loss: 82.17102464368055 R square: 0.97978365\n"
     ]
    },
    {
     "name": "stderr",
     "output_type": "stream",
     "text": [
      " 38%|███▊      | 75/200 [1:03:48<1:44:27, 50.14s/it]"
     ]
    },
    {
     "name": "stdout",
     "output_type": "stream",
     "text": [
      "Epoch:  74 Val loss: 75.16608417784745 R square: 0.98150706\n"
     ]
    },
    {
     "name": "stderr",
     "output_type": "stream",
     "text": [
      " 38%|███▊      | 76/200 [1:04:37<1:43:04, 49.87s/it]"
     ]
    },
    {
     "name": "stdout",
     "output_type": "stream",
     "text": [
      "Epoch:  75 Val loss: 72.94928689826266 R square: 0.98205245\n"
     ]
    },
    {
     "name": "stderr",
     "output_type": "stream",
     "text": [
      " 38%|███▊      | 77/200 [1:05:26<1:41:46, 49.65s/it]"
     ]
    },
    {
     "name": "stdout",
     "output_type": "stream",
     "text": [
      "Epoch:  76 Val loss: 80.51395111942463 R square: 0.9801913\n"
     ]
    },
    {
     "name": "stderr",
     "output_type": "stream",
     "text": [
      " 39%|███▉      | 78/200 [1:06:15<1:40:50, 49.60s/it]"
     ]
    },
    {
     "name": "stdout",
     "output_type": "stream",
     "text": [
      "Epoch:  77 Val loss: 70.42818681408312 R square: 0.9826727\n"
     ]
    },
    {
     "name": "stderr",
     "output_type": "stream",
     "text": [
      " 40%|███▉      | 79/200 [1:07:05<1:40:17, 49.73s/it]"
     ]
    },
    {
     "name": "stdout",
     "output_type": "stream",
     "text": [
      "Epoch:  78 Val loss: 74.85076804111566 R square: 0.9815846\n"
     ]
    },
    {
     "name": "stderr",
     "output_type": "stream",
     "text": [
      " 40%|████      | 80/200 [1:07:56<1:40:06, 50.05s/it]"
     ]
    },
    {
     "name": "stdout",
     "output_type": "stream",
     "text": [
      "Epoch:  79 Val loss: 74.97391196791597 R square: 0.9815543\n"
     ]
    },
    {
     "name": "stderr",
     "output_type": "stream",
     "text": [
      " 40%|████      | 81/200 [1:08:47<1:39:36, 50.22s/it]"
     ]
    },
    {
     "name": "stdout",
     "output_type": "stream",
     "text": [
      "Epoch:  80 Val loss: 70.49063907307746 R square: 0.9826573\n"
     ]
    },
    {
     "name": "stderr",
     "output_type": "stream",
     "text": [
      " 41%|████      | 82/200 [1:09:38<1:39:07, 50.40s/it]"
     ]
    },
    {
     "name": "stdout",
     "output_type": "stream",
     "text": [
      "Epoch:  81 Val loss: 75.47051432955186 R square: 0.98143214\n"
     ]
    },
    {
     "name": "stderr",
     "output_type": "stream",
     "text": [
      " 42%|████▏     | 83/200 [1:10:27<1:37:49, 50.16s/it]"
     ]
    },
    {
     "name": "stdout",
     "output_type": "stream",
     "text": [
      "Epoch:  82 Val loss: 80.05563335451416 R square: 0.98030406\n"
     ]
    },
    {
     "name": "stderr",
     "output_type": "stream",
     "text": [
      " 42%|████▏     | 84/200 [1:11:17<1:36:58, 50.16s/it]"
     ]
    },
    {
     "name": "stdout",
     "output_type": "stream",
     "text": [
      "Epoch:  83 Val loss: 74.6171416200844 R square: 0.98164207\n"
     ]
    },
    {
     "name": "stderr",
     "output_type": "stream",
     "text": [
      " 42%|████▎     | 85/200 [1:12:08<1:36:24, 50.30s/it]"
     ]
    },
    {
     "name": "stdout",
     "output_type": "stream",
     "text": [
      "Epoch:  84 Val loss: 70.80572008131054 R square: 0.9825798\n"
     ]
    },
    {
     "name": "stderr",
     "output_type": "stream",
     "text": [
      " 43%|████▎     | 86/200 [1:12:58<1:35:21, 50.19s/it]"
     ]
    },
    {
     "name": "stdout",
     "output_type": "stream",
     "text": [
      "Epoch:  85 Val loss: 74.69815461107555 R square: 0.98162216\n"
     ]
    },
    {
     "name": "stderr",
     "output_type": "stream",
     "text": [
      " 44%|████▎     | 87/200 [1:13:49<1:34:54, 50.39s/it]"
     ]
    },
    {
     "name": "stdout",
     "output_type": "stream",
     "text": [
      "Epoch:  86 Val loss: 71.91373266629276 R square: 0.9823072\n"
     ]
    },
    {
     "name": "stderr",
     "output_type": "stream",
     "text": [
      " 44%|████▍     | 88/200 [1:14:40<1:34:39, 50.71s/it]"
     ]
    },
    {
     "name": "stdout",
     "output_type": "stream",
     "text": [
      "Epoch:  87 Val loss: 72.51221763541744 R square: 0.98216\n"
     ]
    },
    {
     "name": "stderr",
     "output_type": "stream",
     "text": [
      " 44%|████▍     | 89/200 [1:15:31<1:33:48, 50.71s/it]"
     ]
    },
    {
     "name": "stdout",
     "output_type": "stream",
     "text": [
      "Epoch:  88 Val loss: 69.58180657597235 R square: 0.98288095\n"
     ]
    },
    {
     "name": "stderr",
     "output_type": "stream",
     "text": [
      " 45%|████▌     | 90/200 [1:16:21<1:32:46, 50.60s/it]"
     ]
    },
    {
     "name": "stdout",
     "output_type": "stream",
     "text": [
      "Epoch:  89 Val loss: 76.26003802384992 R square: 0.9812379\n"
     ]
    },
    {
     "name": "stderr",
     "output_type": "stream",
     "text": [
      " 46%|████▌     | 91/200 [1:17:13<1:32:31, 50.93s/it]"
     ]
    },
    {
     "name": "stdout",
     "output_type": "stream",
     "text": [
      "Epoch:  90 Val loss: 78.78906366520421 R square: 0.9806157\n"
     ]
    },
    {
     "name": "stderr",
     "output_type": "stream",
     "text": [
      " 46%|████▌     | 92/200 [1:18:03<1:30:59, 50.56s/it]"
     ]
    },
    {
     "name": "stdout",
     "output_type": "stream",
     "text": [
      "Epoch:  91 Val loss: 73.05886153658327 R square: 0.9820255\n"
     ]
    },
    {
     "name": "stderr",
     "output_type": "stream",
     "text": [
      " 46%|████▋     | 93/200 [1:18:53<1:29:51, 50.39s/it]"
     ]
    },
    {
     "name": "stdout",
     "output_type": "stream",
     "text": [
      "Epoch:  92 Val loss: 72.74809783650062 R square: 0.9821019\n"
     ]
    },
    {
     "name": "stderr",
     "output_type": "stream",
     "text": [
      " 47%|████▋     | 94/200 [1:19:44<1:29:14, 50.51s/it]"
     ]
    },
    {
     "name": "stdout",
     "output_type": "stream",
     "text": [
      "Epoch:  93 Val loss: 74.98132705236479 R square: 0.9815525\n"
     ]
    },
    {
     "name": "stderr",
     "output_type": "stream",
     "text": [
      " 48%|████▊     | 95/200 [1:20:34<1:28:31, 50.59s/it]"
     ]
    },
    {
     "name": "stdout",
     "output_type": "stream",
     "text": [
      "Epoch:  94 Val loss: 69.31867075964064 R square: 0.9829457\n"
     ]
    },
    {
     "name": "stderr",
     "output_type": "stream",
     "text": [
      " 48%|████▊     | 96/200 [1:21:25<1:27:38, 50.56s/it]"
     ]
    },
    {
     "name": "stdout",
     "output_type": "stream",
     "text": [
      "Epoch:  95 Val loss: 75.90524862026875 R square: 0.9813252\n"
     ]
    },
    {
     "name": "stderr",
     "output_type": "stream",
     "text": [
      " 48%|████▊     | 97/200 [1:22:15<1:26:42, 50.51s/it]"
     ]
    },
    {
     "name": "stdout",
     "output_type": "stream",
     "text": [
      "Epoch:  96 Val loss: 70.84318070064506 R square: 0.9825706\n"
     ]
    },
    {
     "name": "stderr",
     "output_type": "stream",
     "text": [
      " 49%|████▉     | 98/200 [1:39:08<9:36:25, 339.08s/it]"
     ]
    },
    {
     "name": "stdout",
     "output_type": "stream",
     "text": [
      "Epoch:  97 Val loss: 75.38999627523056 R square: 0.9814519\n"
     ]
    },
    {
     "name": "stderr",
     "output_type": "stream",
     "text": [
      " 50%|████▉     | 99/200 [1:39:45<6:58:23, 248.55s/it]"
     ]
    },
    {
     "name": "stdout",
     "output_type": "stream",
     "text": [
      "Epoch:  98 Val loss: 69.45104854137148 R square: 0.9829131\n"
     ]
    },
    {
     "name": "stderr",
     "output_type": "stream",
     "text": [
      " 50%|█████     | 100/200 [1:40:26<5:10:25, 186.25s/it]"
     ]
    },
    {
     "name": "stdout",
     "output_type": "stream",
     "text": [
      "Epoch:  99 Val loss: 73.37035475159918 R square: 0.98194885\n"
     ]
    },
    {
     "name": "stderr",
     "output_type": "stream",
     "text": [
      " 50%|█████     | 101/200 [1:41:04<3:53:47, 141.70s/it]"
     ]
    },
    {
     "name": "stdout",
     "output_type": "stream",
     "text": [
      "Epoch:  100 Val loss: 75.03031346711948 R square: 0.98154044\n"
     ]
    },
    {
     "name": "stderr",
     "output_type": "stream",
     "text": [
      " 51%|█████     | 102/200 [1:41:43<3:01:06, 110.88s/it]"
     ]
    },
    {
     "name": "stdout",
     "output_type": "stream",
     "text": [
      "Epoch:  101 Val loss: 80.03536883503402 R square: 0.98030907\n"
     ]
    },
    {
     "name": "stderr",
     "output_type": "stream",
     "text": [
      " 52%|█████▏    | 103/200 [1:42:26<2:26:41, 90.74s/it] "
     ]
    },
    {
     "name": "stdout",
     "output_type": "stream",
     "text": [
      "Epoch:  102 Val loss: 72.45736132645811 R square: 0.98217344\n"
     ]
    },
    {
     "name": "stderr",
     "output_type": "stream",
     "text": [
      " 52%|█████▏    | 104/200 [1:43:09<2:02:05, 76.31s/it]"
     ]
    },
    {
     "name": "stdout",
     "output_type": "stream",
     "text": [
      "Epoch:  103 Val loss: 74.15011691529536 R square: 0.981757\n"
     ]
    },
    {
     "name": "stderr",
     "output_type": "stream",
     "text": [
      " 52%|█████▎    | 105/200 [1:43:52<1:45:15, 66.48s/it]"
     ]
    },
    {
     "name": "stdout",
     "output_type": "stream",
     "text": [
      "Epoch:  104 Val loss: 75.72594736927962 R square: 0.9813693\n"
     ]
    },
    {
     "name": "stderr",
     "output_type": "stream",
     "text": [
      " 53%|█████▎    | 106/200 [1:44:34<1:32:28, 59.03s/it]"
     ]
    },
    {
     "name": "stdout",
     "output_type": "stream",
     "text": [
      "Epoch:  105 Val loss: 78.3133722200817 R square: 0.98073274\n"
     ]
    },
    {
     "name": "stderr",
     "output_type": "stream",
     "text": [
      " 54%|█████▎    | 107/200 [1:45:16<1:23:45, 54.04s/it]"
     ]
    },
    {
     "name": "stdout",
     "output_type": "stream",
     "text": [
      "Epoch:  106 Val loss: 70.67622799252923 R square: 0.98261166\n"
     ]
    },
    {
     "name": "stderr",
     "output_type": "stream",
     "text": [
      " 54%|█████▍    | 108/200 [1:46:00<1:17:49, 50.75s/it]"
     ]
    },
    {
     "name": "stdout",
     "output_type": "stream",
     "text": [
      "Epoch:  107 Val loss: 73.82708945712876 R square: 0.98183644\n"
     ]
    },
    {
     "name": "stderr",
     "output_type": "stream",
     "text": [
      " 55%|█████▍    | 109/200 [1:46:42<1:13:13, 48.28s/it]"
     ]
    },
    {
     "name": "stdout",
     "output_type": "stream",
     "text": [
      "Epoch:  108 Val loss: 71.82872202150502 R square: 0.9823281\n"
     ]
    },
    {
     "name": "stderr",
     "output_type": "stream",
     "text": [
      " 55%|█████▌    | 110/200 [1:47:25<1:09:54, 46.61s/it]"
     ]
    },
    {
     "name": "stdout",
     "output_type": "stream",
     "text": [
      "Epoch:  109 Val loss: 75.9231371265391 R square: 0.9813208\n"
     ]
    },
    {
     "name": "stderr",
     "output_type": "stream",
     "text": [
      " 56%|█████▌    | 111/200 [1:48:09<1:08:07, 45.93s/it]"
     ]
    },
    {
     "name": "stdout",
     "output_type": "stream",
     "text": [
      "Epoch:  110 Val loss: 73.28348269309247 R square: 0.9819702\n"
     ]
    },
    {
     "name": "stderr",
     "output_type": "stream",
     "text": [
      " 56%|█████▌    | 112/200 [1:48:52<1:05:55, 44.95s/it]"
     ]
    },
    {
     "name": "stdout",
     "output_type": "stream",
     "text": [
      "Epoch:  111 Val loss: 77.69307587434334 R square: 0.9808853\n"
     ]
    },
    {
     "name": "stderr",
     "output_type": "stream",
     "text": [
      " 56%|█████▋    | 113/200 [1:49:33<1:03:43, 43.95s/it]"
     ]
    },
    {
     "name": "stdout",
     "output_type": "stream",
     "text": [
      "Epoch:  112 Val loss: 71.35698560312524 R square: 0.98244417\n"
     ]
    },
    {
     "name": "stderr",
     "output_type": "stream",
     "text": [
      " 57%|█████▋    | 114/200 [1:50:12<1:00:29, 42.20s/it]"
     ]
    },
    {
     "name": "stdout",
     "output_type": "stream",
     "text": [
      "Epoch:  113 Val loss: 70.3932228389605 R square: 0.9826813\n"
     ]
    },
    {
     "name": "stderr",
     "output_type": "stream",
     "text": [
      " 57%|█████▋    | 114/200 [1:50:43<1:23:31, 58.28s/it]"
     ]
    },
    {
     "name": "stdout",
     "output_type": "stream",
     "text": [
      "Early stopping triggered!\n"
     ]
    },
    {
     "name": "stderr",
     "output_type": "stream",
     "text": [
      "\n"
     ]
    }
   ],
   "source": [
    "import torch.nn as nn\n",
    "hidden_dim = study.best_params['hidden_dim']\n",
    "dropout = study.best_params['dropout']\n",
    "learning_rate = study.best_params['learning_rate']\n",
    "batch_size = study.best_params['batch_size']\n",
    "k = study.best_params['k']\n",
    "\n",
    "activation = nn.ReLU()\n",
    "\n",
    "patience = 20\n",
    "edge_index, edge_weight = build_spatial_graph(spatial_df, k=k)\n",
    "edge_index = edge_index.to(device)\n",
    "edge_weight = edge_weight.to(device)\n",
    "model = SpatioTemporalGNN(\n",
    "    spatial_features=len(spatial_cols),\n",
    "    temporal_features=len(temporal_cols),\n",
    "    hidden_dim=hidden_dim,\n",
    "    dropout=dropout,\n",
    "    activation=activation\n",
    ").to(device)\n",
    "optimizer = torch.optim.Adam(model.parameters(), lr=learning_rate)\n",
    "best_val = float('inf')\n",
    "wait = 0\n",
    "for epoch in tqdm(range(200)):\n",
    "    run_epoch(train_batches, model, spatial_x, edge_index, edge_weight, optimizer, batch_size=batch_size)\n",
    "    val_loss, yv, pv = run_epoch(val_batches, model, spatial_x, edge_index, edge_weight, optimizer=None, batch_size=batch_size, collect_pred=True)\n",
    "    if val_loss < best_val - 1e-4:\n",
    "        best_val, wait = val_loss, 0\n",
    "        torch.save(model.state_dict(), \"best_gnn_elas.pt\")\n",
    "    else:\n",
    "        wait += 1\n",
    "        if wait >= patience:\n",
    "            print(\"Early stopping triggered!\")\n",
    "            break\n",
    "    r2 = 1 - np.sum((yv - pv)**2) / np.sum((yv - yv.mean())**2)\n",
    "    print(\"Epoch: \", epoch,\"Val loss:\",val_loss, \"R square:\", r2)\n",
    "    \n"
   ]
  },
  {
   "cell_type": "code",
   "execution_count": null,
   "metadata": {
    "trusted": true
   },
   "outputs": [],
   "source": [
    "model = SpatioTemporalGNN(\n",
    "        spatial_features=len(spatial_cols),\n",
    "        temporal_features=len(temporal_cols),\n",
    "        hidden_dim=hidden_dim,\n",
    "        dropout=dropout,\n",
    "        activation=activation\n",
    "    )\n",
    "# load the weights\n",
    "model.load_state_dict(torch.load(\"best_gnn_elas.pt\"))\n",
    "val_loss, y_true, y_pred = run_epoch(test_batches, model,\n",
    "                                 spatial_x, edge_index, edge_weight,\n",
    "                                 optimizer=None, collect_pred=True)\n",
    "\n"
   ]
  },
  {
   "cell_type": "code",
   "execution_count": null,
   "metadata": {},
   "outputs": [
    {
     "name": "stdout",
     "output_type": "stream",
     "text": [
      "Adjusted R square: 0.9685\n",
      "MSE: 121.2186\n"
     ]
    }
   ],
   "source": [
    "# calculate adjusted R square\n",
    "n = len(y_true)  # number of samples\n",
    "p = len(spatial_cols) + len(temporal_cols)  # number of features\n",
    "r2 = 1 - np.sum((y_true - y_pred)**2) / np.sum((y_true - y_true.mean())**2)\n",
    "adjusted_r2 = 1 - (1-r2)*(n-1)/(n-p-1)\n",
    "\n",
    "# calculate MSE\n",
    "mse = np.mean((y_true - y_pred)**2)\n",
    "\n",
    "print(f\"Adjusted R square: {adjusted_r2:.4f}\")\n",
    "print(f\"MSE: {mse:.4f}\")"
   ]
  }
 ],
 "metadata": {
  "kernelspec": {
   "display_name": "gnn_env",
   "language": "python",
   "name": "python3"
  },
  "language_info": {
   "codemirror_mode": {
    "name": "ipython",
    "version": 3
   },
   "file_extension": ".py",
   "mimetype": "text/x-python",
   "name": "python",
   "nbconvert_exporter": "python",
   "pygments_lexer": "ipython3",
   "version": "3.12.9"
  }
 },
 "nbformat": 4,
 "nbformat_minor": 4
}
