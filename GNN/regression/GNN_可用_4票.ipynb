{
 "cells": [
  {
   "cell_type": "code",
   "execution_count": null,
   "metadata": {
    "trusted": true
   },
   "outputs": [],
   "source": [
    "import numpy as np\n",
    "import pandas as pd\n",
    "import torch\n",
    "import torch.nn.functional as F\n",
    "\n",
    "# importing after the general libraries to avoid initialization issues\n",
    "\n",
    "from torch_geometric.data import Data, DataLoader\n",
    "from torch_geometric.nn import GCNConv, GATConv"
   ]
  },
  {
   "cell_type": "code",
   "execution_count": 2,
   "metadata": {
    "trusted": true
   },
   "outputs": [
    {
     "name": "stderr",
     "output_type": "stream",
     "text": [
      "/var/folders/wt/6hl8qhss3jz9zrdh6n8f3_qh0000gn/T/ipykernel_34315/3642721045.py:1: DtypeWarning: Columns (47,48) have mixed types. Specify dtype option on import or set low_memory=False.\n",
      "  df_1 = pd.read_csv(\"中西_dataset.csv\")\n"
     ]
    },
    {
     "data": {
      "text/html": [
       "<div>\n",
       "<style scoped>\n",
       "    .dataframe tbody tr th:only-of-type {\n",
       "        vertical-align: middle;\n",
       "    }\n",
       "\n",
       "    .dataframe tbody tr th {\n",
       "        vertical-align: top;\n",
       "    }\n",
       "\n",
       "    .dataframe thead th {\n",
       "        text-align: right;\n",
       "    }\n",
       "</style>\n",
       "<table border=\"1\" class=\"dataframe\">\n",
       "  <thead>\n",
       "    <tr style=\"text-align: right;\">\n",
       "      <th></th>\n",
       "      <th>ParkingSegmentID</th>\n",
       "      <th>year_val</th>\n",
       "      <th>month_val</th>\n",
       "      <th>day_val</th>\n",
       "      <th>half_hour_interval</th>\n",
       "      <th>weekday_x</th>\n",
       "      <th>district</th>\n",
       "      <th>avg_available_spots</th>\n",
       "      <th>TotalSpaces</th>\n",
       "      <th>lat</th>\n",
       "      <th>...</th>\n",
       "      <th>vapour_pressure_deficit</th>\n",
       "      <th>dew_point_2m</th>\n",
       "      <th>terrestrial_radiation_instant</th>\n",
       "      <th>latitude</th>\n",
       "      <th>longitude</th>\n",
       "      <th>hour</th>\n",
       "      <th>date</th>\n",
       "      <th>weekday_y</th>\n",
       "      <th>is_national_holiday</th>\n",
       "      <th>holiday_name</th>\n",
       "    </tr>\n",
       "  </thead>\n",
       "  <tbody>\n",
       "    <tr>\n",
       "      <th>0</th>\n",
       "      <td>1421</td>\n",
       "      <td>2024</td>\n",
       "      <td>7</td>\n",
       "      <td>20</td>\n",
       "      <td>46</td>\n",
       "      <td>Saturday</td>\n",
       "      <td>中西區</td>\n",
       "      <td>1.0</td>\n",
       "      <td>3</td>\n",
       "      <td>22.9948</td>\n",
       "      <td>...</td>\n",
       "      <td>0.90</td>\n",
       "      <td>25.2</td>\n",
       "      <td>0.0</td>\n",
       "      <td>22.981</td>\n",
       "      <td>120.177</td>\n",
       "      <td>23</td>\n",
       "      <td>2024-07-20</td>\n",
       "      <td>Sat</td>\n",
       "      <td>False</td>\n",
       "      <td>NaN</td>\n",
       "    </tr>\n",
       "    <tr>\n",
       "      <th>1</th>\n",
       "      <td>1421</td>\n",
       "      <td>2024</td>\n",
       "      <td>7</td>\n",
       "      <td>24</td>\n",
       "      <td>40</td>\n",
       "      <td>Wednesday</td>\n",
       "      <td>中西區</td>\n",
       "      <td>1.0</td>\n",
       "      <td>3</td>\n",
       "      <td>22.9948</td>\n",
       "      <td>...</td>\n",
       "      <td>0.21</td>\n",
       "      <td>25.8</td>\n",
       "      <td>0.0</td>\n",
       "      <td>22.981</td>\n",
       "      <td>120.177</td>\n",
       "      <td>20</td>\n",
       "      <td>2024-07-24</td>\n",
       "      <td>Wed</td>\n",
       "      <td>False</td>\n",
       "      <td>NaN</td>\n",
       "    </tr>\n",
       "    <tr>\n",
       "      <th>2</th>\n",
       "      <td>1421</td>\n",
       "      <td>2024</td>\n",
       "      <td>7</td>\n",
       "      <td>24</td>\n",
       "      <td>18</td>\n",
       "      <td>Wednesday</td>\n",
       "      <td>中西區</td>\n",
       "      <td>1.0</td>\n",
       "      <td>3</td>\n",
       "      <td>22.9948</td>\n",
       "      <td>...</td>\n",
       "      <td>0.70</td>\n",
       "      <td>25.0</td>\n",
       "      <td>967.1</td>\n",
       "      <td>22.981</td>\n",
       "      <td>120.177</td>\n",
       "      <td>9</td>\n",
       "      <td>2024-07-24</td>\n",
       "      <td>Wed</td>\n",
       "      <td>False</td>\n",
       "      <td>NaN</td>\n",
       "    </tr>\n",
       "    <tr>\n",
       "      <th>3</th>\n",
       "      <td>1421</td>\n",
       "      <td>2024</td>\n",
       "      <td>8</td>\n",
       "      <td>21</td>\n",
       "      <td>9</td>\n",
       "      <td>Wednesday</td>\n",
       "      <td>中西區</td>\n",
       "      <td>2.0</td>\n",
       "      <td>3</td>\n",
       "      <td>22.9948</td>\n",
       "      <td>...</td>\n",
       "      <td>0.95</td>\n",
       "      <td>21.5</td>\n",
       "      <td>0.0</td>\n",
       "      <td>22.981</td>\n",
       "      <td>120.177</td>\n",
       "      <td>4</td>\n",
       "      <td>2024-08-21</td>\n",
       "      <td>Wed</td>\n",
       "      <td>False</td>\n",
       "      <td>NaN</td>\n",
       "    </tr>\n",
       "    <tr>\n",
       "      <th>4</th>\n",
       "      <td>1421</td>\n",
       "      <td>2024</td>\n",
       "      <td>9</td>\n",
       "      <td>9</td>\n",
       "      <td>5</td>\n",
       "      <td>Monday</td>\n",
       "      <td>中西區</td>\n",
       "      <td>1.0</td>\n",
       "      <td>3</td>\n",
       "      <td>22.9948</td>\n",
       "      <td>...</td>\n",
       "      <td>0.99</td>\n",
       "      <td>22.2</td>\n",
       "      <td>0.0</td>\n",
       "      <td>22.981</td>\n",
       "      <td>120.177</td>\n",
       "      <td>2</td>\n",
       "      <td>2024-09-09</td>\n",
       "      <td>Mon</td>\n",
       "      <td>False</td>\n",
       "      <td>NaN</td>\n",
       "    </tr>\n",
       "  </tbody>\n",
       "</table>\n",
       "<p>5 rows × 49 columns</p>\n",
       "</div>"
      ],
      "text/plain": [
       "   ParkingSegmentID  year_val  month_val  day_val  half_hour_interval  \\\n",
       "0              1421      2024          7       20                  46   \n",
       "1              1421      2024          7       24                  40   \n",
       "2              1421      2024          7       24                  18   \n",
       "3              1421      2024          8       21                   9   \n",
       "4              1421      2024          9        9                   5   \n",
       "\n",
       "   weekday_x district  avg_available_spots  TotalSpaces      lat  ...  \\\n",
       "0   Saturday      中西區                  1.0            3  22.9948  ...   \n",
       "1  Wednesday      中西區                  1.0            3  22.9948  ...   \n",
       "2  Wednesday      中西區                  1.0            3  22.9948  ...   \n",
       "3  Wednesday      中西區                  2.0            3  22.9948  ...   \n",
       "4     Monday      中西區                  1.0            3  22.9948  ...   \n",
       "\n",
       "   vapour_pressure_deficit  dew_point_2m  terrestrial_radiation_instant  \\\n",
       "0                     0.90          25.2                            0.0   \n",
       "1                     0.21          25.8                            0.0   \n",
       "2                     0.70          25.0                          967.1   \n",
       "3                     0.95          21.5                            0.0   \n",
       "4                     0.99          22.2                            0.0   \n",
       "\n",
       "  latitude longitude hour        date  weekday_y  is_national_holiday  \\\n",
       "0   22.981   120.177   23  2024-07-20        Sat                False   \n",
       "1   22.981   120.177   20  2024-07-24        Wed                False   \n",
       "2   22.981   120.177    9  2024-07-24        Wed                False   \n",
       "3   22.981   120.177    4  2024-08-21        Wed                False   \n",
       "4   22.981   120.177    2  2024-09-09        Mon                False   \n",
       "\n",
       "   holiday_name  \n",
       "0           NaN  \n",
       "1           NaN  \n",
       "2           NaN  \n",
       "3           NaN  \n",
       "4           NaN  \n",
       "\n",
       "[5 rows x 49 columns]"
      ]
     },
     "execution_count": 2,
     "metadata": {},
     "output_type": "execute_result"
    }
   ],
   "source": [
    "df_1 = pd.read_csv(\"中西_dataset.csv\")\n",
    "df_1.head()"
   ]
  },
  {
   "cell_type": "code",
   "execution_count": 3,
   "metadata": {
    "trusted": true
   },
   "outputs": [
    {
     "name": "stderr",
     "output_type": "stream",
     "text": [
      "/var/folders/wt/6hl8qhss3jz9zrdh6n8f3_qh0000gn/T/ipykernel_34315/1002289959.py:1: DtypeWarning: Columns (0,47) have mixed types. Specify dtype option on import or set low_memory=False.\n",
      "  df_2 = pd.read_csv(\"安平_dataset.csv\")\n"
     ]
    },
    {
     "data": {
      "text/html": [
       "<div>\n",
       "<style scoped>\n",
       "    .dataframe tbody tr th:only-of-type {\n",
       "        vertical-align: middle;\n",
       "    }\n",
       "\n",
       "    .dataframe tbody tr th {\n",
       "        vertical-align: top;\n",
       "    }\n",
       "\n",
       "    .dataframe thead th {\n",
       "        text-align: right;\n",
       "    }\n",
       "</style>\n",
       "<table border=\"1\" class=\"dataframe\">\n",
       "  <thead>\n",
       "    <tr style=\"text-align: right;\">\n",
       "      <th></th>\n",
       "      <th>ParkingSegmentID</th>\n",
       "      <th>year_val</th>\n",
       "      <th>month_val</th>\n",
       "      <th>day_val</th>\n",
       "      <th>half_hour_interval</th>\n",
       "      <th>weekday_x</th>\n",
       "      <th>district</th>\n",
       "      <th>avg_available_spots</th>\n",
       "      <th>TotalSpaces</th>\n",
       "      <th>lat</th>\n",
       "      <th>...</th>\n",
       "      <th>vapour_pressure_deficit</th>\n",
       "      <th>dew_point_2m</th>\n",
       "      <th>terrestrial_radiation_instant</th>\n",
       "      <th>latitude</th>\n",
       "      <th>longitude</th>\n",
       "      <th>hour</th>\n",
       "      <th>date</th>\n",
       "      <th>weekday_y</th>\n",
       "      <th>is_national_holiday</th>\n",
       "      <th>holiday_name</th>\n",
       "    </tr>\n",
       "  </thead>\n",
       "  <tbody>\n",
       "    <tr>\n",
       "      <th>0</th>\n",
       "      <td>137</td>\n",
       "      <td>2025</td>\n",
       "      <td>3</td>\n",
       "      <td>28</td>\n",
       "      <td>47</td>\n",
       "      <td>Friday</td>\n",
       "      <td>安平區</td>\n",
       "      <td>46.500000</td>\n",
       "      <td>57</td>\n",
       "      <td>22.98953</td>\n",
       "      <td>...</td>\n",
       "      <td>1.17</td>\n",
       "      <td>15.5</td>\n",
       "      <td>0.0</td>\n",
       "      <td>22.981</td>\n",
       "      <td>120.177</td>\n",
       "      <td>23</td>\n",
       "      <td>2025-03-28</td>\n",
       "      <td>Fri</td>\n",
       "      <td>False</td>\n",
       "      <td>NaN</td>\n",
       "    </tr>\n",
       "    <tr>\n",
       "      <th>1</th>\n",
       "      <td>137</td>\n",
       "      <td>2024</td>\n",
       "      <td>7</td>\n",
       "      <td>11</td>\n",
       "      <td>26</td>\n",
       "      <td>Thursday</td>\n",
       "      <td>安平區</td>\n",
       "      <td>15.000000</td>\n",
       "      <td>57</td>\n",
       "      <td>22.98953</td>\n",
       "      <td>...</td>\n",
       "      <td>2.38</td>\n",
       "      <td>22.9</td>\n",
       "      <td>1290.3</td>\n",
       "      <td>22.981</td>\n",
       "      <td>120.177</td>\n",
       "      <td>13</td>\n",
       "      <td>2024-07-11</td>\n",
       "      <td>Thu</td>\n",
       "      <td>False</td>\n",
       "      <td>NaN</td>\n",
       "    </tr>\n",
       "    <tr>\n",
       "      <th>2</th>\n",
       "      <td>137</td>\n",
       "      <td>2025</td>\n",
       "      <td>3</td>\n",
       "      <td>28</td>\n",
       "      <td>17</td>\n",
       "      <td>Friday</td>\n",
       "      <td>安平區</td>\n",
       "      <td>29.833333</td>\n",
       "      <td>57</td>\n",
       "      <td>22.98953</td>\n",
       "      <td>...</td>\n",
       "      <td>1.10</td>\n",
       "      <td>20.0</td>\n",
       "      <td>639.6</td>\n",
       "      <td>22.981</td>\n",
       "      <td>120.177</td>\n",
       "      <td>8</td>\n",
       "      <td>2025-03-28</td>\n",
       "      <td>Fri</td>\n",
       "      <td>False</td>\n",
       "      <td>NaN</td>\n",
       "    </tr>\n",
       "    <tr>\n",
       "      <th>3</th>\n",
       "      <td>137</td>\n",
       "      <td>2024</td>\n",
       "      <td>7</td>\n",
       "      <td>11</td>\n",
       "      <td>22</td>\n",
       "      <td>Thursday</td>\n",
       "      <td>安平區</td>\n",
       "      <td>24.000000</td>\n",
       "      <td>57</td>\n",
       "      <td>22.98953</td>\n",
       "      <td>...</td>\n",
       "      <td>2.00</td>\n",
       "      <td>24.1</td>\n",
       "      <td>1278.5</td>\n",
       "      <td>22.981</td>\n",
       "      <td>120.177</td>\n",
       "      <td>11</td>\n",
       "      <td>2024-07-11</td>\n",
       "      <td>Thu</td>\n",
       "      <td>False</td>\n",
       "      <td>NaN</td>\n",
       "    </tr>\n",
       "    <tr>\n",
       "      <th>4</th>\n",
       "      <td>137</td>\n",
       "      <td>2025</td>\n",
       "      <td>3</td>\n",
       "      <td>28</td>\n",
       "      <td>10</td>\n",
       "      <td>Friday</td>\n",
       "      <td>安平區</td>\n",
       "      <td>49.000000</td>\n",
       "      <td>57</td>\n",
       "      <td>22.98953</td>\n",
       "      <td>...</td>\n",
       "      <td>0.65</td>\n",
       "      <td>20.8</td>\n",
       "      <td>0.0</td>\n",
       "      <td>22.981</td>\n",
       "      <td>120.177</td>\n",
       "      <td>5</td>\n",
       "      <td>2025-03-28</td>\n",
       "      <td>Fri</td>\n",
       "      <td>False</td>\n",
       "      <td>NaN</td>\n",
       "    </tr>\n",
       "  </tbody>\n",
       "</table>\n",
       "<p>5 rows × 49 columns</p>\n",
       "</div>"
      ],
      "text/plain": [
       "  ParkingSegmentID  year_val  month_val  day_val  half_hour_interval  \\\n",
       "0              137      2025          3       28                  47   \n",
       "1              137      2024          7       11                  26   \n",
       "2              137      2025          3       28                  17   \n",
       "3              137      2024          7       11                  22   \n",
       "4              137      2025          3       28                  10   \n",
       "\n",
       "  weekday_x district  avg_available_spots  TotalSpaces       lat  ...  \\\n",
       "0    Friday      安平區            46.500000           57  22.98953  ...   \n",
       "1  Thursday      安平區            15.000000           57  22.98953  ...   \n",
       "2    Friday      安平區            29.833333           57  22.98953  ...   \n",
       "3  Thursday      安平區            24.000000           57  22.98953  ...   \n",
       "4    Friday      安平區            49.000000           57  22.98953  ...   \n",
       "\n",
       "   vapour_pressure_deficit  dew_point_2m  terrestrial_radiation_instant  \\\n",
       "0                     1.17          15.5                            0.0   \n",
       "1                     2.38          22.9                         1290.3   \n",
       "2                     1.10          20.0                          639.6   \n",
       "3                     2.00          24.1                         1278.5   \n",
       "4                     0.65          20.8                            0.0   \n",
       "\n",
       "  latitude longitude hour        date  weekday_y  is_national_holiday  \\\n",
       "0   22.981   120.177   23  2025-03-28        Fri                False   \n",
       "1   22.981   120.177   13  2024-07-11        Thu                False   \n",
       "2   22.981   120.177    8  2025-03-28        Fri                False   \n",
       "3   22.981   120.177   11  2024-07-11        Thu                False   \n",
       "4   22.981   120.177    5  2025-03-28        Fri                False   \n",
       "\n",
       "   holiday_name  \n",
       "0           NaN  \n",
       "1           NaN  \n",
       "2           NaN  \n",
       "3           NaN  \n",
       "4           NaN  \n",
       "\n",
       "[5 rows x 49 columns]"
      ]
     },
     "execution_count": 3,
     "metadata": {},
     "output_type": "execute_result"
    }
   ],
   "source": [
    "df_2 = pd.read_csv(\"安平_dataset.csv\")\n",
    "df_2.head()"
   ]
  },
  {
   "cell_type": "code",
   "execution_count": 4,
   "metadata": {
    "trusted": true
   },
   "outputs": [
    {
     "name": "stdout",
     "output_type": "stream",
     "text": [
      "<class 'pandas.core.frame.DataFrame'>\n",
      "Index: 2892758 entries, 0 to 719269\n",
      "Data columns (total 49 columns):\n",
      " #   Column                         Dtype  \n",
      "---  ------                         -----  \n",
      " 0   ParkingSegmentID               object \n",
      " 1   year_val                       int64  \n",
      " 2   month_val                      int64  \n",
      " 3   day_val                        int64  \n",
      " 4   half_hour_interval             int64  \n",
      " 5   weekday_x                      object \n",
      " 6   district                       object \n",
      " 7   avg_available_spots            float64\n",
      " 8   TotalSpaces                    int64  \n",
      " 9   lat                            float64\n",
      " 10  lon                            float64\n",
      " 11  firstHourFee                   int64  \n",
      " 12  laterHourFee                   int64  \n",
      " 13  datetime                       object \n",
      " 14  datetime_hour                  object \n",
      " 15  time                           object \n",
      " 16  precipitation                  float64\n",
      " 17  apparent_temperature           float64\n",
      " 18  relative_humidity_2m           int64  \n",
      " 19  temperature_2m                 float64\n",
      " 20  cloud_cover                    int64  \n",
      " 21  cloud_cover_low                int64  \n",
      " 22  cloud_cover_mid                int64  \n",
      " 23  cloud_cover_high               int64  \n",
      " 24  visibility                     float64\n",
      " 25  wind_speed_10m                 float64\n",
      " 26  temperature_80m                float64\n",
      " 27  temperature_120m               float64\n",
      " 28  showers                        float64\n",
      " 29  pressure_msl                   float64\n",
      " 30  surface_pressure               float64\n",
      " 31  wind_speed_80m                 float64\n",
      " 32  wind_speed_120m                float64\n",
      " 33  wind_direction_10m             int64  \n",
      " 34  wind_direction_80m             int64  \n",
      " 35  wind_direction_120m            int64  \n",
      " 36  wind_gusts_10m                 float64\n",
      " 37  evapotranspiration             float64\n",
      " 38  et0_fao_evapotranspiration     float64\n",
      " 39  vapour_pressure_deficit        float64\n",
      " 40  dew_point_2m                   float64\n",
      " 41  terrestrial_radiation_instant  float64\n",
      " 42  latitude                       float64\n",
      " 43  longitude                      float64\n",
      " 44  hour                           int64  \n",
      " 45  date                           object \n",
      " 46  weekday_y                      object \n",
      " 47  is_national_holiday            object \n",
      " 48  holiday_name                   object \n",
      "dtypes: float64(23), int64(16), object(10)\n",
      "memory usage: 1.1+ GB\n"
     ]
    },
    {
     "data": {
      "text/plain": [
       "ParkingSegmentID                       0\n",
       "year_val                               0\n",
       "month_val                              0\n",
       "day_val                                0\n",
       "half_hour_interval                     0\n",
       "weekday_x                              0\n",
       "district                               0\n",
       "avg_available_spots                    0\n",
       "TotalSpaces                            0\n",
       "lat                                    0\n",
       "lon                                    0\n",
       "firstHourFee                           0\n",
       "laterHourFee                           0\n",
       "datetime                               0\n",
       "datetime_hour                          0\n",
       "time                                   0\n",
       "precipitation                          0\n",
       "apparent_temperature                   0\n",
       "relative_humidity_2m                   0\n",
       "temperature_2m                         0\n",
       "cloud_cover                            0\n",
       "cloud_cover_low                        0\n",
       "cloud_cover_mid                        0\n",
       "cloud_cover_high                       0\n",
       "visibility                             0\n",
       "wind_speed_10m                         0\n",
       "temperature_80m                        0\n",
       "temperature_120m                       0\n",
       "showers                                0\n",
       "pressure_msl                           0\n",
       "surface_pressure                       0\n",
       "wind_speed_80m                         0\n",
       "wind_speed_120m                        0\n",
       "wind_direction_10m                     0\n",
       "wind_direction_80m                     0\n",
       "wind_direction_120m                    0\n",
       "wind_gusts_10m                         0\n",
       "evapotranspiration                     0\n",
       "et0_fao_evapotranspiration             0\n",
       "vapour_pressure_deficit                0\n",
       "dew_point_2m                           0\n",
       "terrestrial_radiation_instant          0\n",
       "latitude                               0\n",
       "longitude                              0\n",
       "hour                                   0\n",
       "date                                   0\n",
       "weekday_y                          39906\n",
       "is_national_holiday                39906\n",
       "holiday_name                     2694181\n",
       "dtype: int64"
      ]
     },
     "execution_count": 4,
     "metadata": {},
     "output_type": "execute_result"
    }
   ],
   "source": [
    "df = pd.concat([df_1, df_2])\n",
    "df.head()\n",
    "df.info()\n",
    "df.describe()\n",
    "df.isnull().sum()"
   ]
  },
  {
   "cell_type": "code",
   "execution_count": null,
   "metadata": {
    "trusted": true
   },
   "outputs": [],
   "source": [
    "df[\"ParkingSegmentID\"] = df[\"ParkingSegmentID\"].astype(str)\n",
    "df.loc[\n",
    "    (df[\"ParkingSegmentID\"] == \"1192\") &\n",
    "    (df[\"half_hour_interval\"] == 20) &\n",
    "    (df[\"month_val\"] == 3) &\n",
    "    (df[\"day_val\"] == 8),\n",
    "    \"TotalSpaces\"\n",
    "] = 63\n",
    "indices_to_drop = df[(df['ParkingSegmentID'] == \"1131\") & (df['year_val'] == 2025) & (df['month_val'] == 3) & (df['day_val'] == 27)].index\n",
    "df.drop(indices_to_drop, inplace=True)\n",
    "indices_to_drop = df[(df[\"year_val\"] == 2025) & (df[\"month_val\"] == 2) & (df[\"day_val\"] == 20) & (df[\"half_hour_interval\"] == 29) & (df[\"ParkingSegmentID\"] == \"54555420\") & (df[\"TotalSpaces\"] == 1036)].index\n",
    "df.drop(indices_to_drop, inplace=True)\n",
    "condition = df[\"avg_available_spots\"] > df[\"TotalSpaces\"]\n",
    "# extract the values from df[\"TotalSpaces\"] on the right side that meet the condition\n",
    "values_to_assign = df.loc[condition, \"TotalSpaces\"].values\n",
    "df.loc[condition, \"avg_available_spots\"] = values_to_assign"
   ]
  },
  {
   "cell_type": "code",
   "execution_count": 6,
   "metadata": {
    "trusted": true
   },
   "outputs": [
    {
     "name": "stdout",
     "output_type": "stream",
     "text": [
      "<class 'pandas.core.frame.DataFrame'>\n",
      "Index: 2892661 entries, 0 to 719269\n",
      "Data columns (total 49 columns):\n",
      " #   Column                         Dtype  \n",
      "---  ------                         -----  \n",
      " 0   ParkingSegmentID               object \n",
      " 1   year_val                       int64  \n",
      " 2   month_val                      int64  \n",
      " 3   day_val                        int64  \n",
      " 4   half_hour_interval             int64  \n",
      " 5   weekday_x                      object \n",
      " 6   district                       object \n",
      " 7   avg_available_spots            float64\n",
      " 8   TotalSpaces                    int64  \n",
      " 9   lat                            float64\n",
      " 10  lon                            float64\n",
      " 11  firstHourFee                   int64  \n",
      " 12  laterHourFee                   int64  \n",
      " 13  datetime                       object \n",
      " 14  datetime_hour                  object \n",
      " 15  time                           object \n",
      " 16  precipitation                  float64\n",
      " 17  apparent_temperature           float64\n",
      " 18  relative_humidity_2m           int64  \n",
      " 19  temperature_2m                 float64\n",
      " 20  cloud_cover                    int64  \n",
      " 21  cloud_cover_low                int64  \n",
      " 22  cloud_cover_mid                int64  \n",
      " 23  cloud_cover_high               int64  \n",
      " 24  visibility                     float64\n",
      " 25  wind_speed_10m                 float64\n",
      " 26  temperature_80m                float64\n",
      " 27  temperature_120m               float64\n",
      " 28  showers                        float64\n",
      " 29  pressure_msl                   float64\n",
      " 30  surface_pressure               float64\n",
      " 31  wind_speed_80m                 float64\n",
      " 32  wind_speed_120m                float64\n",
      " 33  wind_direction_10m             int64  \n",
      " 34  wind_direction_80m             int64  \n",
      " 35  wind_direction_120m            int64  \n",
      " 36  wind_gusts_10m                 float64\n",
      " 37  evapotranspiration             float64\n",
      " 38  et0_fao_evapotranspiration     float64\n",
      " 39  vapour_pressure_deficit        float64\n",
      " 40  dew_point_2m                   float64\n",
      " 41  terrestrial_radiation_instant  float64\n",
      " 42  latitude                       float64\n",
      " 43  longitude                      float64\n",
      " 44  hour                           int64  \n",
      " 45  date                           object \n",
      " 46  weekday_y                      object \n",
      " 47  is_national_holiday            object \n",
      " 48  holiday_name                   object \n",
      "dtypes: float64(23), int64(16), object(10)\n",
      "memory usage: 1.1+ GB\n",
      "  ParkingSegmentID  year_val  month_val  day_val  half_hour_interval  \\\n",
      "0             1421      2024          7       20                  46   \n",
      "1             1421      2024          7       24                  40   \n",
      "2             1421      2024          7       24                  18   \n",
      "3             1421      2024          8       21                   9   \n",
      "4             1421      2024          9        9                   5   \n",
      "\n",
      "   weekday_x district  avg_available_spots  TotalSpaces      lat  ...  \\\n",
      "0   Saturday      中西區                  1.0            3  22.9948  ...   \n",
      "1  Wednesday      中西區                  1.0            3  22.9948  ...   \n",
      "2  Wednesday      中西區                  1.0            3  22.9948  ...   \n",
      "3  Wednesday      中西區                  2.0            3  22.9948  ...   \n",
      "4     Monday      中西區                  1.0            3  22.9948  ...   \n",
      "\n",
      "   vapour_pressure_deficit  dew_point_2m  terrestrial_radiation_instant  \\\n",
      "0                     0.90          25.2                            0.0   \n",
      "1                     0.21          25.8                            0.0   \n",
      "2                     0.70          25.0                          967.1   \n",
      "3                     0.95          21.5                            0.0   \n",
      "4                     0.99          22.2                            0.0   \n",
      "\n",
      "  latitude longitude hour        date  weekday_y  is_national_holiday  \\\n",
      "0   22.981   120.177   23  2024-07-20        Sat                False   \n",
      "1   22.981   120.177   20  2024-07-24        Wed                False   \n",
      "2   22.981   120.177    9  2024-07-24        Wed                False   \n",
      "3   22.981   120.177    4  2024-08-21        Wed                False   \n",
      "4   22.981   120.177    2  2024-09-09        Mon                False   \n",
      "\n",
      "   holiday_name  \n",
      "0           NaN  \n",
      "1           NaN  \n",
      "2           NaN  \n",
      "3           NaN  \n",
      "4           NaN  \n",
      "\n",
      "[5 rows x 49 columns]\n"
     ]
    }
   ],
   "source": [
    "df.info()\n",
    "df.describe()\n",
    "df.isnull().sum()\n",
    "print(df.head())"
   ]
  },
  {
   "cell_type": "code",
   "execution_count": 7,
   "metadata": {
    "trusted": true
   },
   "outputs": [],
   "source": [
    "df[\"weekday\"] = df[\"weekday_x\"]"
   ]
  },
  {
   "cell_type": "code",
   "execution_count": 8,
   "metadata": {
    "trusted": true
   },
   "outputs": [],
   "source": [
    "\n",
    "district_mapping = {'中西區': 0, '安平區': 1}\n",
    "df['district'] = df['district'].map(district_mapping)"
   ]
  },
  {
   "cell_type": "code",
   "execution_count": 9,
   "metadata": {
    "trusted": true
   },
   "outputs": [],
   "source": []
  },
  {
   "cell_type": "code",
   "execution_count": 9,
   "metadata": {
    "trusted": true
   },
   "outputs": [],
   "source": [
    "df[\"datetime_2\"] = (\n",
    "    df[\"year_val\"].astype(str) + \"_\" +\n",
    "    df[\"month_val\"].astype(str) + \"_\" +\n",
    "    df[\"day_val\"].astype(str) + \"_\" +\n",
    "    df[\"half_hour_interval\"].astype(str)\n",
    ")"
   ]
  },
  {
   "cell_type": "code",
   "execution_count": 10,
   "metadata": {
    "trusted": true
   },
   "outputs": [],
   "source": [
    "pd.set_option('display.max_columns', None)\n",
    "weekday_mapping = {'Monday': 0, 'Tuesday': 1, 'Wednesday': 2, 'Thursday': 3,\n",
    "                       'Friday': 4, 'Saturday': 5, 'Sunday': 6}\n",
    "df['weekday_num'] = df['weekday'].map(weekday_mapping)\n",
    "df['wind_direction_10m_sin'] = np.sin(np.deg2rad(df['wind_direction_10m']))\n",
    "df['wind_direction_10m_cos'] = np.cos(np.deg2rad(df['wind_direction_10m']))\n",
    "df['wind_direction_120m_sin'] = np.sin(np.deg2rad(df['wind_direction_120m']))\n",
    "df['wind_direction_120m_cos'] = np.cos(np.deg2rad(df['wind_direction_120m']))\n",
    "df['wind_direction_80m_sin'] = np.sin(np.deg2rad(df['wind_direction_80m']))\n",
    "df['wind_direction_80m_cos'] = np.cos(np.deg2rad(df['wind_direction_80m']))\n",
    "df.drop(columns=[\"wind_direction_10m\",\"wind_direction_120m\",\"wind_direction_80m\"],inplace=True)"
   ]
  },
  {
   "cell_type": "code",
   "execution_count": null,
   "metadata": {
    "trusted": true
   },
   "outputs": [],
   "source": [
    "\n",
    "df_final = df.drop(columns=[         \n",
    "    'weekday',        \n",
    "    'weekday_y',\"date\",\"latitude\",\"longitude\",\"datetime_hour\",\"time\", \"weekday_x\",\"holiday_name\",\n",
    "])"
   ]
  },
  {
   "cell_type": "code",
   "execution_count": 12,
   "metadata": {
    "trusted": true
   },
   "outputs": [
    {
     "data": {
      "text/html": [
       "<div>\n",
       "<style scoped>\n",
       "    .dataframe tbody tr th:only-of-type {\n",
       "        vertical-align: middle;\n",
       "    }\n",
       "\n",
       "    .dataframe tbody tr th {\n",
       "        vertical-align: top;\n",
       "    }\n",
       "\n",
       "    .dataframe thead th {\n",
       "        text-align: right;\n",
       "    }\n",
       "</style>\n",
       "<table border=\"1\" class=\"dataframe\">\n",
       "  <thead>\n",
       "    <tr style=\"text-align: right;\">\n",
       "      <th></th>\n",
       "      <th>ParkingSegmentID</th>\n",
       "      <th>year_val</th>\n",
       "      <th>month_val</th>\n",
       "      <th>day_val</th>\n",
       "      <th>half_hour_interval</th>\n",
       "      <th>district</th>\n",
       "      <th>avg_available_spots</th>\n",
       "      <th>TotalSpaces</th>\n",
       "      <th>lat</th>\n",
       "      <th>lon</th>\n",
       "      <th>firstHourFee</th>\n",
       "      <th>laterHourFee</th>\n",
       "      <th>datetime</th>\n",
       "      <th>precipitation</th>\n",
       "      <th>apparent_temperature</th>\n",
       "      <th>relative_humidity_2m</th>\n",
       "      <th>temperature_2m</th>\n",
       "      <th>cloud_cover</th>\n",
       "      <th>cloud_cover_low</th>\n",
       "      <th>cloud_cover_mid</th>\n",
       "      <th>cloud_cover_high</th>\n",
       "      <th>visibility</th>\n",
       "      <th>wind_speed_10m</th>\n",
       "      <th>temperature_80m</th>\n",
       "      <th>temperature_120m</th>\n",
       "      <th>showers</th>\n",
       "      <th>pressure_msl</th>\n",
       "      <th>surface_pressure</th>\n",
       "      <th>wind_speed_80m</th>\n",
       "      <th>wind_speed_120m</th>\n",
       "      <th>wind_gusts_10m</th>\n",
       "      <th>evapotranspiration</th>\n",
       "      <th>et0_fao_evapotranspiration</th>\n",
       "      <th>vapour_pressure_deficit</th>\n",
       "      <th>dew_point_2m</th>\n",
       "      <th>terrestrial_radiation_instant</th>\n",
       "      <th>hour</th>\n",
       "      <th>is_national_holiday</th>\n",
       "      <th>datetime_2</th>\n",
       "      <th>weekday_num</th>\n",
       "      <th>wind_direction_10m_sin</th>\n",
       "      <th>wind_direction_10m_cos</th>\n",
       "      <th>wind_direction_120m_sin</th>\n",
       "      <th>wind_direction_120m_cos</th>\n",
       "      <th>wind_direction_80m_sin</th>\n",
       "      <th>wind_direction_80m_cos</th>\n",
       "    </tr>\n",
       "  </thead>\n",
       "  <tbody>\n",
       "    <tr>\n",
       "      <th>0</th>\n",
       "      <td>1421</td>\n",
       "      <td>2024</td>\n",
       "      <td>7</td>\n",
       "      <td>20</td>\n",
       "      <td>46</td>\n",
       "      <td>0</td>\n",
       "      <td>1.000000</td>\n",
       "      <td>3</td>\n",
       "      <td>22.99480</td>\n",
       "      <td>120.19519</td>\n",
       "      <td>0</td>\n",
       "      <td>0</td>\n",
       "      <td>2024-07-20 23:00:00</td>\n",
       "      <td>0.8</td>\n",
       "      <td>35.4</td>\n",
       "      <td>78</td>\n",
       "      <td>29.4</td>\n",
       "      <td>15</td>\n",
       "      <td>0</td>\n",
       "      <td>0</td>\n",
       "      <td>10</td>\n",
       "      <td>24140.0</td>\n",
       "      <td>5.8</td>\n",
       "      <td>28.7</td>\n",
       "      <td>28.6</td>\n",
       "      <td>0.8</td>\n",
       "      <td>1010.1</td>\n",
       "      <td>1009.5</td>\n",
       "      <td>7.4</td>\n",
       "      <td>7.7</td>\n",
       "      <td>7.9</td>\n",
       "      <td>0.0</td>\n",
       "      <td>0.01</td>\n",
       "      <td>0.90</td>\n",
       "      <td>25.2</td>\n",
       "      <td>0.0</td>\n",
       "      <td>23</td>\n",
       "      <td>False</td>\n",
       "      <td>2024_7_20_46</td>\n",
       "      <td>5</td>\n",
       "      <td>-0.069756</td>\n",
       "      <td>-0.997564</td>\n",
       "      <td>-0.422618</td>\n",
       "      <td>-0.906308</td>\n",
       "      <td>-0.390731</td>\n",
       "      <td>-0.920505</td>\n",
       "    </tr>\n",
       "    <tr>\n",
       "      <th>1</th>\n",
       "      <td>1421</td>\n",
       "      <td>2024</td>\n",
       "      <td>7</td>\n",
       "      <td>24</td>\n",
       "      <td>40</td>\n",
       "      <td>0</td>\n",
       "      <td>1.000000</td>\n",
       "      <td>3</td>\n",
       "      <td>22.99480</td>\n",
       "      <td>120.19519</td>\n",
       "      <td>0</td>\n",
       "      <td>0</td>\n",
       "      <td>2024-07-24 20:00:00</td>\n",
       "      <td>15.2</td>\n",
       "      <td>27.6</td>\n",
       "      <td>94</td>\n",
       "      <td>26.9</td>\n",
       "      <td>100</td>\n",
       "      <td>100</td>\n",
       "      <td>100</td>\n",
       "      <td>100</td>\n",
       "      <td>2300.0</td>\n",
       "      <td>45.1</td>\n",
       "      <td>26.5</td>\n",
       "      <td>26.4</td>\n",
       "      <td>1.2</td>\n",
       "      <td>985.5</td>\n",
       "      <td>984.9</td>\n",
       "      <td>72.7</td>\n",
       "      <td>77.2</td>\n",
       "      <td>74.5</td>\n",
       "      <td>0.0</td>\n",
       "      <td>0.03</td>\n",
       "      <td>0.21</td>\n",
       "      <td>25.8</td>\n",
       "      <td>0.0</td>\n",
       "      <td>20</td>\n",
       "      <td>False</td>\n",
       "      <td>2024_7_24_40</td>\n",
       "      <td>2</td>\n",
       "      <td>-0.707107</td>\n",
       "      <td>0.707107</td>\n",
       "      <td>-0.642788</td>\n",
       "      <td>0.766044</td>\n",
       "      <td>-0.656059</td>\n",
       "      <td>0.754710</td>\n",
       "    </tr>\n",
       "    <tr>\n",
       "      <th>2</th>\n",
       "      <td>1421</td>\n",
       "      <td>2024</td>\n",
       "      <td>7</td>\n",
       "      <td>24</td>\n",
       "      <td>18</td>\n",
       "      <td>0</td>\n",
       "      <td>1.000000</td>\n",
       "      <td>3</td>\n",
       "      <td>22.99480</td>\n",
       "      <td>120.19519</td>\n",
       "      <td>20</td>\n",
       "      <td>20</td>\n",
       "      <td>2024-07-24 09:00:00</td>\n",
       "      <td>0.8</td>\n",
       "      <td>28.5</td>\n",
       "      <td>82</td>\n",
       "      <td>28.4</td>\n",
       "      <td>100</td>\n",
       "      <td>100</td>\n",
       "      <td>100</td>\n",
       "      <td>100</td>\n",
       "      <td>9660.0</td>\n",
       "      <td>45.3</td>\n",
       "      <td>27.9</td>\n",
       "      <td>27.7</td>\n",
       "      <td>0.8</td>\n",
       "      <td>989.1</td>\n",
       "      <td>988.5</td>\n",
       "      <td>68.6</td>\n",
       "      <td>72.6</td>\n",
       "      <td>66.2</td>\n",
       "      <td>0.0</td>\n",
       "      <td>0.15</td>\n",
       "      <td>0.70</td>\n",
       "      <td>25.0</td>\n",
       "      <td>967.1</td>\n",
       "      <td>9</td>\n",
       "      <td>False</td>\n",
       "      <td>2024_7_24_18</td>\n",
       "      <td>2</td>\n",
       "      <td>-0.358368</td>\n",
       "      <td>0.933580</td>\n",
       "      <td>-0.309017</td>\n",
       "      <td>0.951057</td>\n",
       "      <td>-0.309017</td>\n",
       "      <td>0.951057</td>\n",
       "    </tr>\n",
       "    <tr>\n",
       "      <th>3</th>\n",
       "      <td>1421</td>\n",
       "      <td>2024</td>\n",
       "      <td>8</td>\n",
       "      <td>21</td>\n",
       "      <td>9</td>\n",
       "      <td>0</td>\n",
       "      <td>2.000000</td>\n",
       "      <td>3</td>\n",
       "      <td>22.99480</td>\n",
       "      <td>120.19519</td>\n",
       "      <td>0</td>\n",
       "      <td>0</td>\n",
       "      <td>2024-08-21 04:30:00</td>\n",
       "      <td>0.0</td>\n",
       "      <td>30.0</td>\n",
       "      <td>73</td>\n",
       "      <td>26.8</td>\n",
       "      <td>99</td>\n",
       "      <td>0</td>\n",
       "      <td>90</td>\n",
       "      <td>90</td>\n",
       "      <td>24140.0</td>\n",
       "      <td>10.1</td>\n",
       "      <td>26.8</td>\n",
       "      <td>26.8</td>\n",
       "      <td>0.0</td>\n",
       "      <td>1010.4</td>\n",
       "      <td>1009.8</td>\n",
       "      <td>17.1</td>\n",
       "      <td>18.9</td>\n",
       "      <td>19.4</td>\n",
       "      <td>0.0</td>\n",
       "      <td>0.04</td>\n",
       "      <td>0.95</td>\n",
       "      <td>21.5</td>\n",
       "      <td>0.0</td>\n",
       "      <td>4</td>\n",
       "      <td>False</td>\n",
       "      <td>2024_8_21_9</td>\n",
       "      <td>2</td>\n",
       "      <td>0.573576</td>\n",
       "      <td>-0.819152</td>\n",
       "      <td>0.406737</td>\n",
       "      <td>-0.913545</td>\n",
       "      <td>0.469472</td>\n",
       "      <td>-0.882948</td>\n",
       "    </tr>\n",
       "    <tr>\n",
       "      <th>4</th>\n",
       "      <td>1421</td>\n",
       "      <td>2024</td>\n",
       "      <td>9</td>\n",
       "      <td>9</td>\n",
       "      <td>5</td>\n",
       "      <td>0</td>\n",
       "      <td>1.000000</td>\n",
       "      <td>3</td>\n",
       "      <td>22.99480</td>\n",
       "      <td>120.19519</td>\n",
       "      <td>0</td>\n",
       "      <td>0</td>\n",
       "      <td>2024-09-09 02:30:00</td>\n",
       "      <td>0.0</td>\n",
       "      <td>31.5</td>\n",
       "      <td>73</td>\n",
       "      <td>27.5</td>\n",
       "      <td>100</td>\n",
       "      <td>0</td>\n",
       "      <td>5</td>\n",
       "      <td>100</td>\n",
       "      <td>24140.0</td>\n",
       "      <td>7.1</td>\n",
       "      <td>26.7</td>\n",
       "      <td>26.5</td>\n",
       "      <td>0.0</td>\n",
       "      <td>1006.8</td>\n",
       "      <td>1006.2</td>\n",
       "      <td>8.7</td>\n",
       "      <td>8.8</td>\n",
       "      <td>8.3</td>\n",
       "      <td>0.0</td>\n",
       "      <td>0.02</td>\n",
       "      <td>0.99</td>\n",
       "      <td>22.2</td>\n",
       "      <td>0.0</td>\n",
       "      <td>2</td>\n",
       "      <td>False</td>\n",
       "      <td>2024_9_9_5</td>\n",
       "      <td>0</td>\n",
       "      <td>0.754710</td>\n",
       "      <td>-0.656059</td>\n",
       "      <td>0.707107</td>\n",
       "      <td>-0.707107</td>\n",
       "      <td>0.707107</td>\n",
       "      <td>-0.707107</td>\n",
       "    </tr>\n",
       "    <tr>\n",
       "      <th>...</th>\n",
       "      <td>...</td>\n",
       "      <td>...</td>\n",
       "      <td>...</td>\n",
       "      <td>...</td>\n",
       "      <td>...</td>\n",
       "      <td>...</td>\n",
       "      <td>...</td>\n",
       "      <td>...</td>\n",
       "      <td>...</td>\n",
       "      <td>...</td>\n",
       "      <td>...</td>\n",
       "      <td>...</td>\n",
       "      <td>...</td>\n",
       "      <td>...</td>\n",
       "      <td>...</td>\n",
       "      <td>...</td>\n",
       "      <td>...</td>\n",
       "      <td>...</td>\n",
       "      <td>...</td>\n",
       "      <td>...</td>\n",
       "      <td>...</td>\n",
       "      <td>...</td>\n",
       "      <td>...</td>\n",
       "      <td>...</td>\n",
       "      <td>...</td>\n",
       "      <td>...</td>\n",
       "      <td>...</td>\n",
       "      <td>...</td>\n",
       "      <td>...</td>\n",
       "      <td>...</td>\n",
       "      <td>...</td>\n",
       "      <td>...</td>\n",
       "      <td>...</td>\n",
       "      <td>...</td>\n",
       "      <td>...</td>\n",
       "      <td>...</td>\n",
       "      <td>...</td>\n",
       "      <td>...</td>\n",
       "      <td>...</td>\n",
       "      <td>...</td>\n",
       "      <td>...</td>\n",
       "      <td>...</td>\n",
       "      <td>...</td>\n",
       "      <td>...</td>\n",
       "      <td>...</td>\n",
       "      <td>...</td>\n",
       "    </tr>\n",
       "    <tr>\n",
       "      <th>719265</th>\n",
       "      <td>89053916</td>\n",
       "      <td>2025</td>\n",
       "      <td>5</td>\n",
       "      <td>9</td>\n",
       "      <td>47</td>\n",
       "      <td>1</td>\n",
       "      <td>103.000000</td>\n",
       "      <td>160</td>\n",
       "      <td>22.99884</td>\n",
       "      <td>120.16250</td>\n",
       "      <td>60</td>\n",
       "      <td>60</td>\n",
       "      <td>2025-05-09 23:30:00</td>\n",
       "      <td>0.0</td>\n",
       "      <td>33.3</td>\n",
       "      <td>57</td>\n",
       "      <td>30.4</td>\n",
       "      <td>100</td>\n",
       "      <td>0</td>\n",
       "      <td>10</td>\n",
       "      <td>100</td>\n",
       "      <td>24140.0</td>\n",
       "      <td>9.5</td>\n",
       "      <td>29.1</td>\n",
       "      <td>28.9</td>\n",
       "      <td>0.0</td>\n",
       "      <td>1009.5</td>\n",
       "      <td>1008.9</td>\n",
       "      <td>12.1</td>\n",
       "      <td>12.8</td>\n",
       "      <td>12.6</td>\n",
       "      <td>-0.0</td>\n",
       "      <td>0.07</td>\n",
       "      <td>1.86</td>\n",
       "      <td>20.9</td>\n",
       "      <td>0.0</td>\n",
       "      <td>23</td>\n",
       "      <td>False</td>\n",
       "      <td>2025_5_9_47</td>\n",
       "      <td>4</td>\n",
       "      <td>0.156434</td>\n",
       "      <td>-0.987688</td>\n",
       "      <td>0.207912</td>\n",
       "      <td>-0.978148</td>\n",
       "      <td>0.207912</td>\n",
       "      <td>-0.978148</td>\n",
       "    </tr>\n",
       "    <tr>\n",
       "      <th>719266</th>\n",
       "      <td>89053916</td>\n",
       "      <td>2025</td>\n",
       "      <td>5</td>\n",
       "      <td>9</td>\n",
       "      <td>25</td>\n",
       "      <td>1</td>\n",
       "      <td>84.333333</td>\n",
       "      <td>160</td>\n",
       "      <td>22.99884</td>\n",
       "      <td>120.16250</td>\n",
       "      <td>60</td>\n",
       "      <td>60</td>\n",
       "      <td>2025-05-09 12:30:00</td>\n",
       "      <td>0.0</td>\n",
       "      <td>36.7</td>\n",
       "      <td>51</td>\n",
       "      <td>33.5</td>\n",
       "      <td>100</td>\n",
       "      <td>0</td>\n",
       "      <td>5</td>\n",
       "      <td>100</td>\n",
       "      <td>24140.0</td>\n",
       "      <td>23.4</td>\n",
       "      <td>30.7</td>\n",
       "      <td>30.4</td>\n",
       "      <td>0.0</td>\n",
       "      <td>1009.1</td>\n",
       "      <td>1008.5</td>\n",
       "      <td>29.3</td>\n",
       "      <td>30.2</td>\n",
       "      <td>24.1</td>\n",
       "      <td>0.0</td>\n",
       "      <td>0.75</td>\n",
       "      <td>2.53</td>\n",
       "      <td>22.0</td>\n",
       "      <td>1336.1</td>\n",
       "      <td>12</td>\n",
       "      <td>False</td>\n",
       "      <td>2025_5_9_25</td>\n",
       "      <td>4</td>\n",
       "      <td>-0.422618</td>\n",
       "      <td>-0.906308</td>\n",
       "      <td>-0.358368</td>\n",
       "      <td>-0.933580</td>\n",
       "      <td>-0.358368</td>\n",
       "      <td>-0.933580</td>\n",
       "    </tr>\n",
       "    <tr>\n",
       "      <th>719267</th>\n",
       "      <td>89053916</td>\n",
       "      <td>2025</td>\n",
       "      <td>5</td>\n",
       "      <td>9</td>\n",
       "      <td>5</td>\n",
       "      <td>1</td>\n",
       "      <td>107.000000</td>\n",
       "      <td>160</td>\n",
       "      <td>22.99884</td>\n",
       "      <td>120.16250</td>\n",
       "      <td>60</td>\n",
       "      <td>60</td>\n",
       "      <td>2025-05-09 02:30:00</td>\n",
       "      <td>0.0</td>\n",
       "      <td>32.4</td>\n",
       "      <td>62</td>\n",
       "      <td>29.4</td>\n",
       "      <td>100</td>\n",
       "      <td>0</td>\n",
       "      <td>0</td>\n",
       "      <td>100</td>\n",
       "      <td>24140.0</td>\n",
       "      <td>10.6</td>\n",
       "      <td>28.2</td>\n",
       "      <td>28.0</td>\n",
       "      <td>0.0</td>\n",
       "      <td>1007.9</td>\n",
       "      <td>1007.3</td>\n",
       "      <td>14.9</td>\n",
       "      <td>15.6</td>\n",
       "      <td>16.6</td>\n",
       "      <td>-0.0</td>\n",
       "      <td>0.07</td>\n",
       "      <td>1.56</td>\n",
       "      <td>21.4</td>\n",
       "      <td>0.0</td>\n",
       "      <td>2</td>\n",
       "      <td>False</td>\n",
       "      <td>2025_5_9_5</td>\n",
       "      <td>4</td>\n",
       "      <td>0.173648</td>\n",
       "      <td>-0.984808</td>\n",
       "      <td>0.156434</td>\n",
       "      <td>-0.987688</td>\n",
       "      <td>0.139173</td>\n",
       "      <td>-0.990268</td>\n",
       "    </tr>\n",
       "    <tr>\n",
       "      <th>719268</th>\n",
       "      <td>89053916</td>\n",
       "      <td>2025</td>\n",
       "      <td>5</td>\n",
       "      <td>9</td>\n",
       "      <td>9</td>\n",
       "      <td>1</td>\n",
       "      <td>107.000000</td>\n",
       "      <td>160</td>\n",
       "      <td>22.99884</td>\n",
       "      <td>120.16250</td>\n",
       "      <td>60</td>\n",
       "      <td>60</td>\n",
       "      <td>2025-05-09 04:30:00</td>\n",
       "      <td>0.0</td>\n",
       "      <td>31.1</td>\n",
       "      <td>62</td>\n",
       "      <td>29.0</td>\n",
       "      <td>100</td>\n",
       "      <td>0</td>\n",
       "      <td>0</td>\n",
       "      <td>100</td>\n",
       "      <td>24140.0</td>\n",
       "      <td>15.6</td>\n",
       "      <td>27.9</td>\n",
       "      <td>27.7</td>\n",
       "      <td>0.0</td>\n",
       "      <td>1007.7</td>\n",
       "      <td>1007.1</td>\n",
       "      <td>22.6</td>\n",
       "      <td>24.1</td>\n",
       "      <td>27.4</td>\n",
       "      <td>0.0</td>\n",
       "      <td>0.10</td>\n",
       "      <td>1.52</td>\n",
       "      <td>21.0</td>\n",
       "      <td>0.0</td>\n",
       "      <td>4</td>\n",
       "      <td>False</td>\n",
       "      <td>2025_5_9_9</td>\n",
       "      <td>4</td>\n",
       "      <td>0.139173</td>\n",
       "      <td>-0.990268</td>\n",
       "      <td>0.139173</td>\n",
       "      <td>-0.990268</td>\n",
       "      <td>0.139173</td>\n",
       "      <td>-0.990268</td>\n",
       "    </tr>\n",
       "    <tr>\n",
       "      <th>719269</th>\n",
       "      <td>89053916</td>\n",
       "      <td>2025</td>\n",
       "      <td>5</td>\n",
       "      <td>9</td>\n",
       "      <td>29</td>\n",
       "      <td>1</td>\n",
       "      <td>82.500000</td>\n",
       "      <td>160</td>\n",
       "      <td>22.99884</td>\n",
       "      <td>120.16250</td>\n",
       "      <td>60</td>\n",
       "      <td>60</td>\n",
       "      <td>2025-05-09 14:30:00</td>\n",
       "      <td>0.0</td>\n",
       "      <td>36.4</td>\n",
       "      <td>50</td>\n",
       "      <td>33.4</td>\n",
       "      <td>100</td>\n",
       "      <td>0</td>\n",
       "      <td>0</td>\n",
       "      <td>100</td>\n",
       "      <td>24140.0</td>\n",
       "      <td>21.0</td>\n",
       "      <td>30.6</td>\n",
       "      <td>30.4</td>\n",
       "      <td>0.0</td>\n",
       "      <td>1008.6</td>\n",
       "      <td>1008.0</td>\n",
       "      <td>26.3</td>\n",
       "      <td>27.1</td>\n",
       "      <td>23.0</td>\n",
       "      <td>0.0</td>\n",
       "      <td>0.70</td>\n",
       "      <td>2.57</td>\n",
       "      <td>21.6</td>\n",
       "      <td>1166.6</td>\n",
       "      <td>14</td>\n",
       "      <td>False</td>\n",
       "      <td>2025_5_9_29</td>\n",
       "      <td>4</td>\n",
       "      <td>-0.615661</td>\n",
       "      <td>-0.788011</td>\n",
       "      <td>-0.587785</td>\n",
       "      <td>-0.809017</td>\n",
       "      <td>-0.587785</td>\n",
       "      <td>-0.809017</td>\n",
       "    </tr>\n",
       "  </tbody>\n",
       "</table>\n",
       "<p>2892661 rows × 46 columns</p>\n",
       "</div>"
      ],
      "text/plain": [
       "       ParkingSegmentID  year_val  month_val  day_val  half_hour_interval  \\\n",
       "0                  1421      2024          7       20                  46   \n",
       "1                  1421      2024          7       24                  40   \n",
       "2                  1421      2024          7       24                  18   \n",
       "3                  1421      2024          8       21                   9   \n",
       "4                  1421      2024          9        9                   5   \n",
       "...                 ...       ...        ...      ...                 ...   \n",
       "719265         89053916      2025          5        9                  47   \n",
       "719266         89053916      2025          5        9                  25   \n",
       "719267         89053916      2025          5        9                   5   \n",
       "719268         89053916      2025          5        9                   9   \n",
       "719269         89053916      2025          5        9                  29   \n",
       "\n",
       "        district  avg_available_spots  TotalSpaces       lat        lon  \\\n",
       "0              0             1.000000            3  22.99480  120.19519   \n",
       "1              0             1.000000            3  22.99480  120.19519   \n",
       "2              0             1.000000            3  22.99480  120.19519   \n",
       "3              0             2.000000            3  22.99480  120.19519   \n",
       "4              0             1.000000            3  22.99480  120.19519   \n",
       "...          ...                  ...          ...       ...        ...   \n",
       "719265         1           103.000000          160  22.99884  120.16250   \n",
       "719266         1            84.333333          160  22.99884  120.16250   \n",
       "719267         1           107.000000          160  22.99884  120.16250   \n",
       "719268         1           107.000000          160  22.99884  120.16250   \n",
       "719269         1            82.500000          160  22.99884  120.16250   \n",
       "\n",
       "        firstHourFee  laterHourFee             datetime  precipitation  \\\n",
       "0                  0             0  2024-07-20 23:00:00            0.8   \n",
       "1                  0             0  2024-07-24 20:00:00           15.2   \n",
       "2                 20            20  2024-07-24 09:00:00            0.8   \n",
       "3                  0             0  2024-08-21 04:30:00            0.0   \n",
       "4                  0             0  2024-09-09 02:30:00            0.0   \n",
       "...              ...           ...                  ...            ...   \n",
       "719265            60            60  2025-05-09 23:30:00            0.0   \n",
       "719266            60            60  2025-05-09 12:30:00            0.0   \n",
       "719267            60            60  2025-05-09 02:30:00            0.0   \n",
       "719268            60            60  2025-05-09 04:30:00            0.0   \n",
       "719269            60            60  2025-05-09 14:30:00            0.0   \n",
       "\n",
       "        apparent_temperature  relative_humidity_2m  temperature_2m  \\\n",
       "0                       35.4                    78            29.4   \n",
       "1                       27.6                    94            26.9   \n",
       "2                       28.5                    82            28.4   \n",
       "3                       30.0                    73            26.8   \n",
       "4                       31.5                    73            27.5   \n",
       "...                      ...                   ...             ...   \n",
       "719265                  33.3                    57            30.4   \n",
       "719266                  36.7                    51            33.5   \n",
       "719267                  32.4                    62            29.4   \n",
       "719268                  31.1                    62            29.0   \n",
       "719269                  36.4                    50            33.4   \n",
       "\n",
       "        cloud_cover  cloud_cover_low  cloud_cover_mid  cloud_cover_high  \\\n",
       "0                15                0                0                10   \n",
       "1               100              100              100               100   \n",
       "2               100              100              100               100   \n",
       "3                99                0               90                90   \n",
       "4               100                0                5               100   \n",
       "...             ...              ...              ...               ...   \n",
       "719265          100                0               10               100   \n",
       "719266          100                0                5               100   \n",
       "719267          100                0                0               100   \n",
       "719268          100                0                0               100   \n",
       "719269          100                0                0               100   \n",
       "\n",
       "        visibility  wind_speed_10m  temperature_80m  temperature_120m  \\\n",
       "0          24140.0             5.8             28.7              28.6   \n",
       "1           2300.0            45.1             26.5              26.4   \n",
       "2           9660.0            45.3             27.9              27.7   \n",
       "3          24140.0            10.1             26.8              26.8   \n",
       "4          24140.0             7.1             26.7              26.5   \n",
       "...            ...             ...              ...               ...   \n",
       "719265     24140.0             9.5             29.1              28.9   \n",
       "719266     24140.0            23.4             30.7              30.4   \n",
       "719267     24140.0            10.6             28.2              28.0   \n",
       "719268     24140.0            15.6             27.9              27.7   \n",
       "719269     24140.0            21.0             30.6              30.4   \n",
       "\n",
       "        showers  pressure_msl  surface_pressure  wind_speed_80m  \\\n",
       "0           0.8        1010.1            1009.5             7.4   \n",
       "1           1.2         985.5             984.9            72.7   \n",
       "2           0.8         989.1             988.5            68.6   \n",
       "3           0.0        1010.4            1009.8            17.1   \n",
       "4           0.0        1006.8            1006.2             8.7   \n",
       "...         ...           ...               ...             ...   \n",
       "719265      0.0        1009.5            1008.9            12.1   \n",
       "719266      0.0        1009.1            1008.5            29.3   \n",
       "719267      0.0        1007.9            1007.3            14.9   \n",
       "719268      0.0        1007.7            1007.1            22.6   \n",
       "719269      0.0        1008.6            1008.0            26.3   \n",
       "\n",
       "        wind_speed_120m  wind_gusts_10m  evapotranspiration  \\\n",
       "0                   7.7             7.9                 0.0   \n",
       "1                  77.2            74.5                 0.0   \n",
       "2                  72.6            66.2                 0.0   \n",
       "3                  18.9            19.4                 0.0   \n",
       "4                   8.8             8.3                 0.0   \n",
       "...                 ...             ...                 ...   \n",
       "719265             12.8            12.6                -0.0   \n",
       "719266             30.2            24.1                 0.0   \n",
       "719267             15.6            16.6                -0.0   \n",
       "719268             24.1            27.4                 0.0   \n",
       "719269             27.1            23.0                 0.0   \n",
       "\n",
       "        et0_fao_evapotranspiration  vapour_pressure_deficit  dew_point_2m  \\\n",
       "0                             0.01                     0.90          25.2   \n",
       "1                             0.03                     0.21          25.8   \n",
       "2                             0.15                     0.70          25.0   \n",
       "3                             0.04                     0.95          21.5   \n",
       "4                             0.02                     0.99          22.2   \n",
       "...                            ...                      ...           ...   \n",
       "719265                        0.07                     1.86          20.9   \n",
       "719266                        0.75                     2.53          22.0   \n",
       "719267                        0.07                     1.56          21.4   \n",
       "719268                        0.10                     1.52          21.0   \n",
       "719269                        0.70                     2.57          21.6   \n",
       "\n",
       "        terrestrial_radiation_instant  hour is_national_holiday    datetime_2  \\\n",
       "0                                 0.0    23               False  2024_7_20_46   \n",
       "1                                 0.0    20               False  2024_7_24_40   \n",
       "2                               967.1     9               False  2024_7_24_18   \n",
       "3                                 0.0     4               False   2024_8_21_9   \n",
       "4                                 0.0     2               False    2024_9_9_5   \n",
       "...                               ...   ...                 ...           ...   \n",
       "719265                            0.0    23               False   2025_5_9_47   \n",
       "719266                         1336.1    12               False   2025_5_9_25   \n",
       "719267                            0.0     2               False    2025_5_9_5   \n",
       "719268                            0.0     4               False    2025_5_9_9   \n",
       "719269                         1166.6    14               False   2025_5_9_29   \n",
       "\n",
       "        weekday_num  wind_direction_10m_sin  wind_direction_10m_cos  \\\n",
       "0                 5               -0.069756               -0.997564   \n",
       "1                 2               -0.707107                0.707107   \n",
       "2                 2               -0.358368                0.933580   \n",
       "3                 2                0.573576               -0.819152   \n",
       "4                 0                0.754710               -0.656059   \n",
       "...             ...                     ...                     ...   \n",
       "719265            4                0.156434               -0.987688   \n",
       "719266            4               -0.422618               -0.906308   \n",
       "719267            4                0.173648               -0.984808   \n",
       "719268            4                0.139173               -0.990268   \n",
       "719269            4               -0.615661               -0.788011   \n",
       "\n",
       "        wind_direction_120m_sin  wind_direction_120m_cos  \\\n",
       "0                     -0.422618                -0.906308   \n",
       "1                     -0.642788                 0.766044   \n",
       "2                     -0.309017                 0.951057   \n",
       "3                      0.406737                -0.913545   \n",
       "4                      0.707107                -0.707107   \n",
       "...                         ...                      ...   \n",
       "719265                 0.207912                -0.978148   \n",
       "719266                -0.358368                -0.933580   \n",
       "719267                 0.156434                -0.987688   \n",
       "719268                 0.139173                -0.990268   \n",
       "719269                -0.587785                -0.809017   \n",
       "\n",
       "        wind_direction_80m_sin  wind_direction_80m_cos  \n",
       "0                    -0.390731               -0.920505  \n",
       "1                    -0.656059                0.754710  \n",
       "2                    -0.309017                0.951057  \n",
       "3                     0.469472               -0.882948  \n",
       "4                     0.707107               -0.707107  \n",
       "...                        ...                     ...  \n",
       "719265                0.207912               -0.978148  \n",
       "719266               -0.358368               -0.933580  \n",
       "719267                0.139173               -0.990268  \n",
       "719268                0.139173               -0.990268  \n",
       "719269               -0.587785               -0.809017  \n",
       "\n",
       "[2892661 rows x 46 columns]"
      ]
     },
     "execution_count": 12,
     "metadata": {},
     "output_type": "execute_result"
    }
   ],
   "source": [
    "df_final"
   ]
  },
  {
   "cell_type": "code",
   "execution_count": null,
   "metadata": {
    "trusted": true
   },
   "outputs": [],
   "source": [
    "def add_cyclical_features(df):\n",
    "    # month (1–12 → 12 periods)\n",
    "    \n",
    "    # date (1–31 → 31 periods)\n",
    "    df['day_sin'] = np.sin(2 * np.pi * df['day_val'] / 31)\n",
    "    df['day_cos'] = np.cos(2 * np.pi * df['day_val'] / 31)\n",
    "    \n",
    "    # half-hour intervals (0–47 → 48 periods)\n",
    "    df['half_hour_sin'] = np.sin(2 * np.pi * df['half_hour_interval'] / 48)\n",
    "    df['half_hour_cos'] = np.cos(2 * np.pi * df['half_hour_interval'] / 48)\n",
    "    \n",
    "    return df\n",
    "\n",
    "df_final = add_cyclical_features(df_final)\n",
    "df_final = pd.get_dummies(df_final, columns=['month_val', 'weekday_num'])\n",
    "df_final[\"day_off\"] = df_final[\"is_national_holiday\"] | df_final[\"weekday_num_6\"] | df_final[\"weekday_num_5\"]\n",
    "df_final.drop(columns=[\"is_national_holiday\"], inplace = True)"
   ]
  },
  {
   "cell_type": "code",
   "execution_count": 14,
   "metadata": {
    "trusted": true
   },
   "outputs": [
    {
     "name": "stderr",
     "output_type": "stream",
     "text": [
      "/var/folders/wt/6hl8qhss3jz9zrdh6n8f3_qh0000gn/T/ipykernel_34315/1851175704.py:5: SettingWithCopyWarning: \n",
      "A value is trying to be set on a copy of a slice from a DataFrame\n",
      "\n",
      "See the caveats in the documentation: https://pandas.pydata.org/pandas-docs/stable/user_guide/indexing.html#returning-a-view-versus-a-copy\n",
      "  df_train.drop(columns=[\"datetime\"], inplace=True)\n",
      "/var/folders/wt/6hl8qhss3jz9zrdh6n8f3_qh0000gn/T/ipykernel_34315/1851175704.py:6: SettingWithCopyWarning: \n",
      "A value is trying to be set on a copy of a slice from a DataFrame\n",
      "\n",
      "See the caveats in the documentation: https://pandas.pydata.org/pandas-docs/stable/user_guide/indexing.html#returning-a-view-versus-a-copy\n",
      "  df_val.drop(columns=[\"datetime\"], inplace=True)\n",
      "/var/folders/wt/6hl8qhss3jz9zrdh6n8f3_qh0000gn/T/ipykernel_34315/1851175704.py:7: SettingWithCopyWarning: \n",
      "A value is trying to be set on a copy of a slice from a DataFrame\n",
      "\n",
      "See the caveats in the documentation: https://pandas.pydata.org/pandas-docs/stable/user_guide/indexing.html#returning-a-view-versus-a-copy\n",
      "  df_test.drop(columns=[\"datetime\"], inplace=True)\n"
     ]
    },
    {
     "data": {
      "text/html": [
       "<div>\n",
       "<style scoped>\n",
       "    .dataframe tbody tr th:only-of-type {\n",
       "        vertical-align: middle;\n",
       "    }\n",
       "\n",
       "    .dataframe tbody tr th {\n",
       "        vertical-align: top;\n",
       "    }\n",
       "\n",
       "    .dataframe thead th {\n",
       "        text-align: right;\n",
       "    }\n",
       "</style>\n",
       "<table border=\"1\" class=\"dataframe\">\n",
       "  <thead>\n",
       "    <tr style=\"text-align: right;\">\n",
       "      <th></th>\n",
       "      <th>ParkingSegmentID</th>\n",
       "      <th>year_val</th>\n",
       "      <th>day_val</th>\n",
       "      <th>half_hour_interval</th>\n",
       "      <th>district</th>\n",
       "      <th>avg_available_spots</th>\n",
       "      <th>TotalSpaces</th>\n",
       "      <th>lat</th>\n",
       "      <th>lon</th>\n",
       "      <th>firstHourFee</th>\n",
       "      <th>laterHourFee</th>\n",
       "      <th>precipitation</th>\n",
       "      <th>apparent_temperature</th>\n",
       "      <th>relative_humidity_2m</th>\n",
       "      <th>temperature_2m</th>\n",
       "      <th>cloud_cover</th>\n",
       "      <th>cloud_cover_low</th>\n",
       "      <th>cloud_cover_mid</th>\n",
       "      <th>cloud_cover_high</th>\n",
       "      <th>visibility</th>\n",
       "      <th>wind_speed_10m</th>\n",
       "      <th>temperature_80m</th>\n",
       "      <th>temperature_120m</th>\n",
       "      <th>showers</th>\n",
       "      <th>pressure_msl</th>\n",
       "      <th>surface_pressure</th>\n",
       "      <th>wind_speed_80m</th>\n",
       "      <th>wind_speed_120m</th>\n",
       "      <th>wind_gusts_10m</th>\n",
       "      <th>evapotranspiration</th>\n",
       "      <th>et0_fao_evapotranspiration</th>\n",
       "      <th>vapour_pressure_deficit</th>\n",
       "      <th>dew_point_2m</th>\n",
       "      <th>terrestrial_radiation_instant</th>\n",
       "      <th>hour</th>\n",
       "      <th>datetime_2</th>\n",
       "      <th>wind_direction_10m_sin</th>\n",
       "      <th>wind_direction_10m_cos</th>\n",
       "      <th>wind_direction_120m_sin</th>\n",
       "      <th>wind_direction_120m_cos</th>\n",
       "      <th>wind_direction_80m_sin</th>\n",
       "      <th>wind_direction_80m_cos</th>\n",
       "      <th>day_sin</th>\n",
       "      <th>day_cos</th>\n",
       "      <th>half_hour_sin</th>\n",
       "      <th>half_hour_cos</th>\n",
       "      <th>month_val_1</th>\n",
       "      <th>month_val_2</th>\n",
       "      <th>month_val_3</th>\n",
       "      <th>month_val_4</th>\n",
       "      <th>month_val_5</th>\n",
       "      <th>month_val_6</th>\n",
       "      <th>month_val_7</th>\n",
       "      <th>month_val_8</th>\n",
       "      <th>month_val_9</th>\n",
       "      <th>month_val_10</th>\n",
       "      <th>month_val_11</th>\n",
       "      <th>month_val_12</th>\n",
       "      <th>weekday_num_0</th>\n",
       "      <th>weekday_num_1</th>\n",
       "      <th>weekday_num_2</th>\n",
       "      <th>weekday_num_3</th>\n",
       "      <th>weekday_num_4</th>\n",
       "      <th>weekday_num_5</th>\n",
       "      <th>weekday_num_6</th>\n",
       "      <th>day_off</th>\n",
       "    </tr>\n",
       "  </thead>\n",
       "  <tbody>\n",
       "    <tr>\n",
       "      <th>66246</th>\n",
       "      <td>1421</td>\n",
       "      <td>2025</td>\n",
       "      <td>27</td>\n",
       "      <td>5</td>\n",
       "      <td>0</td>\n",
       "      <td>1.0</td>\n",
       "      <td>3</td>\n",
       "      <td>22.99480</td>\n",
       "      <td>120.19519</td>\n",
       "      <td>0</td>\n",
       "      <td>0</td>\n",
       "      <td>0.0</td>\n",
       "      <td>26.7</td>\n",
       "      <td>71</td>\n",
       "      <td>24.7</td>\n",
       "      <td>0</td>\n",
       "      <td>0</td>\n",
       "      <td>0</td>\n",
       "      <td>0</td>\n",
       "      <td>24140.0</td>\n",
       "      <td>9.6</td>\n",
       "      <td>23.4</td>\n",
       "      <td>23.2</td>\n",
       "      <td>0.0</td>\n",
       "      <td>1013.6</td>\n",
       "      <td>1013.0</td>\n",
       "      <td>11.3</td>\n",
       "      <td>11.9</td>\n",
       "      <td>8.6</td>\n",
       "      <td>-0.0</td>\n",
       "      <td>0.03</td>\n",
       "      <td>0.90</td>\n",
       "      <td>19.1</td>\n",
       "      <td>0.0</td>\n",
       "      <td>2</td>\n",
       "      <td>2025_4_27_5</td>\n",
       "      <td>0.224951</td>\n",
       "      <td>0.974370</td>\n",
       "      <td>0.156434</td>\n",
       "      <td>0.987688</td>\n",
       "      <td>0.156434</td>\n",
       "      <td>0.987688</td>\n",
       "      <td>-0.724793</td>\n",
       "      <td>0.688967</td>\n",
       "      <td>0.608761</td>\n",
       "      <td>0.793353</td>\n",
       "      <td>False</td>\n",
       "      <td>False</td>\n",
       "      <td>False</td>\n",
       "      <td>True</td>\n",
       "      <td>False</td>\n",
       "      <td>False</td>\n",
       "      <td>False</td>\n",
       "      <td>False</td>\n",
       "      <td>False</td>\n",
       "      <td>False</td>\n",
       "      <td>False</td>\n",
       "      <td>False</td>\n",
       "      <td>False</td>\n",
       "      <td>False</td>\n",
       "      <td>False</td>\n",
       "      <td>False</td>\n",
       "      <td>False</td>\n",
       "      <td>False</td>\n",
       "      <td>True</td>\n",
       "      <td>True</td>\n",
       "    </tr>\n",
       "    <tr>\n",
       "      <th>66247</th>\n",
       "      <td>1421</td>\n",
       "      <td>2025</td>\n",
       "      <td>28</td>\n",
       "      <td>40</td>\n",
       "      <td>0</td>\n",
       "      <td>1.0</td>\n",
       "      <td>3</td>\n",
       "      <td>22.99480</td>\n",
       "      <td>120.19519</td>\n",
       "      <td>0</td>\n",
       "      <td>0</td>\n",
       "      <td>0.0</td>\n",
       "      <td>28.1</td>\n",
       "      <td>62</td>\n",
       "      <td>27.4</td>\n",
       "      <td>0</td>\n",
       "      <td>0</td>\n",
       "      <td>0</td>\n",
       "      <td>0</td>\n",
       "      <td>24140.0</td>\n",
       "      <td>19.5</td>\n",
       "      <td>25.9</td>\n",
       "      <td>25.7</td>\n",
       "      <td>0.0</td>\n",
       "      <td>1011.2</td>\n",
       "      <td>1010.6</td>\n",
       "      <td>27.0</td>\n",
       "      <td>27.9</td>\n",
       "      <td>24.1</td>\n",
       "      <td>-0.0</td>\n",
       "      <td>0.11</td>\n",
       "      <td>1.39</td>\n",
       "      <td>19.5</td>\n",
       "      <td>0.0</td>\n",
       "      <td>20</td>\n",
       "      <td>2025_4_28_40</td>\n",
       "      <td>0.034899</td>\n",
       "      <td>0.999391</td>\n",
       "      <td>0.034899</td>\n",
       "      <td>0.999391</td>\n",
       "      <td>0.034899</td>\n",
       "      <td>0.999391</td>\n",
       "      <td>-0.571268</td>\n",
       "      <td>0.820763</td>\n",
       "      <td>-0.866025</td>\n",
       "      <td>0.500000</td>\n",
       "      <td>False</td>\n",
       "      <td>False</td>\n",
       "      <td>False</td>\n",
       "      <td>True</td>\n",
       "      <td>False</td>\n",
       "      <td>False</td>\n",
       "      <td>False</td>\n",
       "      <td>False</td>\n",
       "      <td>False</td>\n",
       "      <td>False</td>\n",
       "      <td>False</td>\n",
       "      <td>False</td>\n",
       "      <td>True</td>\n",
       "      <td>False</td>\n",
       "      <td>False</td>\n",
       "      <td>False</td>\n",
       "      <td>False</td>\n",
       "      <td>False</td>\n",
       "      <td>False</td>\n",
       "      <td>False</td>\n",
       "    </tr>\n",
       "    <tr>\n",
       "      <th>66250</th>\n",
       "      <td>1421</td>\n",
       "      <td>2025</td>\n",
       "      <td>4</td>\n",
       "      <td>20</td>\n",
       "      <td>0</td>\n",
       "      <td>1.0</td>\n",
       "      <td>3</td>\n",
       "      <td>22.99480</td>\n",
       "      <td>120.19519</td>\n",
       "      <td>20</td>\n",
       "      <td>20</td>\n",
       "      <td>0.0</td>\n",
       "      <td>36.2</td>\n",
       "      <td>49</td>\n",
       "      <td>31.9</td>\n",
       "      <td>83</td>\n",
       "      <td>0</td>\n",
       "      <td>0</td>\n",
       "      <td>82</td>\n",
       "      <td>24140.0</td>\n",
       "      <td>6.5</td>\n",
       "      <td>29.4</td>\n",
       "      <td>29.2</td>\n",
       "      <td>0.0</td>\n",
       "      <td>1009.3</td>\n",
       "      <td>1008.7</td>\n",
       "      <td>6.1</td>\n",
       "      <td>6.3</td>\n",
       "      <td>5.0</td>\n",
       "      <td>0.0</td>\n",
       "      <td>0.61</td>\n",
       "      <td>2.41</td>\n",
       "      <td>19.9</td>\n",
       "      <td>1187.1</td>\n",
       "      <td>10</td>\n",
       "      <td>2025_5_4_20</td>\n",
       "      <td>-0.829038</td>\n",
       "      <td>0.559193</td>\n",
       "      <td>-0.766044</td>\n",
       "      <td>0.642788</td>\n",
       "      <td>-0.766044</td>\n",
       "      <td>0.642788</td>\n",
       "      <td>0.724793</td>\n",
       "      <td>0.688967</td>\n",
       "      <td>0.500000</td>\n",
       "      <td>-0.866025</td>\n",
       "      <td>False</td>\n",
       "      <td>False</td>\n",
       "      <td>False</td>\n",
       "      <td>False</td>\n",
       "      <td>True</td>\n",
       "      <td>False</td>\n",
       "      <td>False</td>\n",
       "      <td>False</td>\n",
       "      <td>False</td>\n",
       "      <td>False</td>\n",
       "      <td>False</td>\n",
       "      <td>False</td>\n",
       "      <td>False</td>\n",
       "      <td>False</td>\n",
       "      <td>False</td>\n",
       "      <td>False</td>\n",
       "      <td>False</td>\n",
       "      <td>False</td>\n",
       "      <td>True</td>\n",
       "      <td>True</td>\n",
       "    </tr>\n",
       "    <tr>\n",
       "      <th>66256</th>\n",
       "      <td>181</td>\n",
       "      <td>2025</td>\n",
       "      <td>29</td>\n",
       "      <td>5</td>\n",
       "      <td>0</td>\n",
       "      <td>28.5</td>\n",
       "      <td>51</td>\n",
       "      <td>22.98488</td>\n",
       "      <td>120.20178</td>\n",
       "      <td>0</td>\n",
       "      <td>0</td>\n",
       "      <td>0.0</td>\n",
       "      <td>27.9</td>\n",
       "      <td>63</td>\n",
       "      <td>26.2</td>\n",
       "      <td>7</td>\n",
       "      <td>0</td>\n",
       "      <td>0</td>\n",
       "      <td>5</td>\n",
       "      <td>24140.0</td>\n",
       "      <td>9.8</td>\n",
       "      <td>24.9</td>\n",
       "      <td>24.7</td>\n",
       "      <td>0.0</td>\n",
       "      <td>1010.3</td>\n",
       "      <td>1009.7</td>\n",
       "      <td>14.4</td>\n",
       "      <td>15.2</td>\n",
       "      <td>11.2</td>\n",
       "      <td>-0.0</td>\n",
       "      <td>0.05</td>\n",
       "      <td>1.26</td>\n",
       "      <td>18.6</td>\n",
       "      <td>0.0</td>\n",
       "      <td>2</td>\n",
       "      <td>2025_4_29_5</td>\n",
       "      <td>-0.469472</td>\n",
       "      <td>-0.882948</td>\n",
       "      <td>-0.529919</td>\n",
       "      <td>-0.848048</td>\n",
       "      <td>-0.529919</td>\n",
       "      <td>-0.848048</td>\n",
       "      <td>-0.394356</td>\n",
       "      <td>0.918958</td>\n",
       "      <td>0.608761</td>\n",
       "      <td>0.793353</td>\n",
       "      <td>False</td>\n",
       "      <td>False</td>\n",
       "      <td>False</td>\n",
       "      <td>True</td>\n",
       "      <td>False</td>\n",
       "      <td>False</td>\n",
       "      <td>False</td>\n",
       "      <td>False</td>\n",
       "      <td>False</td>\n",
       "      <td>False</td>\n",
       "      <td>False</td>\n",
       "      <td>False</td>\n",
       "      <td>False</td>\n",
       "      <td>True</td>\n",
       "      <td>False</td>\n",
       "      <td>False</td>\n",
       "      <td>False</td>\n",
       "      <td>False</td>\n",
       "      <td>False</td>\n",
       "      <td>False</td>\n",
       "    </tr>\n",
       "    <tr>\n",
       "      <th>66261</th>\n",
       "      <td>181</td>\n",
       "      <td>2025</td>\n",
       "      <td>6</td>\n",
       "      <td>47</td>\n",
       "      <td>0</td>\n",
       "      <td>30.0</td>\n",
       "      <td>51</td>\n",
       "      <td>22.98488</td>\n",
       "      <td>120.20178</td>\n",
       "      <td>0</td>\n",
       "      <td>0</td>\n",
       "      <td>0.0</td>\n",
       "      <td>32.7</td>\n",
       "      <td>67</td>\n",
       "      <td>28.8</td>\n",
       "      <td>23</td>\n",
       "      <td>8</td>\n",
       "      <td>0</td>\n",
       "      <td>14</td>\n",
       "      <td>24140.0</td>\n",
       "      <td>6.9</td>\n",
       "      <td>27.3</td>\n",
       "      <td>27.1</td>\n",
       "      <td>0.0</td>\n",
       "      <td>1009.3</td>\n",
       "      <td>1008.7</td>\n",
       "      <td>7.8</td>\n",
       "      <td>7.9</td>\n",
       "      <td>7.6</td>\n",
       "      <td>-0.0</td>\n",
       "      <td>0.03</td>\n",
       "      <td>1.30</td>\n",
       "      <td>22.1</td>\n",
       "      <td>0.0</td>\n",
       "      <td>23</td>\n",
       "      <td>2025_5_6_47</td>\n",
       "      <td>-0.469472</td>\n",
       "      <td>-0.882948</td>\n",
       "      <td>-0.374607</td>\n",
       "      <td>-0.927184</td>\n",
       "      <td>-0.374607</td>\n",
       "      <td>-0.927184</td>\n",
       "      <td>0.937752</td>\n",
       "      <td>0.347305</td>\n",
       "      <td>-0.130526</td>\n",
       "      <td>0.991445</td>\n",
       "      <td>False</td>\n",
       "      <td>False</td>\n",
       "      <td>False</td>\n",
       "      <td>False</td>\n",
       "      <td>True</td>\n",
       "      <td>False</td>\n",
       "      <td>False</td>\n",
       "      <td>False</td>\n",
       "      <td>False</td>\n",
       "      <td>False</td>\n",
       "      <td>False</td>\n",
       "      <td>False</td>\n",
       "      <td>False</td>\n",
       "      <td>True</td>\n",
       "      <td>False</td>\n",
       "      <td>False</td>\n",
       "      <td>False</td>\n",
       "      <td>False</td>\n",
       "      <td>False</td>\n",
       "      <td>False</td>\n",
       "    </tr>\n",
       "  </tbody>\n",
       "</table>\n",
       "</div>"
      ],
      "text/plain": [
       "      ParkingSegmentID  year_val  day_val  half_hour_interval  district  \\\n",
       "66246             1421      2025       27                   5         0   \n",
       "66247             1421      2025       28                  40         0   \n",
       "66250             1421      2025        4                  20         0   \n",
       "66256              181      2025       29                   5         0   \n",
       "66261              181      2025        6                  47         0   \n",
       "\n",
       "       avg_available_spots  TotalSpaces       lat        lon  firstHourFee  \\\n",
       "66246                  1.0            3  22.99480  120.19519             0   \n",
       "66247                  1.0            3  22.99480  120.19519             0   \n",
       "66250                  1.0            3  22.99480  120.19519            20   \n",
       "66256                 28.5           51  22.98488  120.20178             0   \n",
       "66261                 30.0           51  22.98488  120.20178             0   \n",
       "\n",
       "       laterHourFee  precipitation  apparent_temperature  \\\n",
       "66246             0            0.0                  26.7   \n",
       "66247             0            0.0                  28.1   \n",
       "66250            20            0.0                  36.2   \n",
       "66256             0            0.0                  27.9   \n",
       "66261             0            0.0                  32.7   \n",
       "\n",
       "       relative_humidity_2m  temperature_2m  cloud_cover  cloud_cover_low  \\\n",
       "66246                    71            24.7            0                0   \n",
       "66247                    62            27.4            0                0   \n",
       "66250                    49            31.9           83                0   \n",
       "66256                    63            26.2            7                0   \n",
       "66261                    67            28.8           23                8   \n",
       "\n",
       "       cloud_cover_mid  cloud_cover_high  visibility  wind_speed_10m  \\\n",
       "66246                0                 0     24140.0             9.6   \n",
       "66247                0                 0     24140.0            19.5   \n",
       "66250                0                82     24140.0             6.5   \n",
       "66256                0                 5     24140.0             9.8   \n",
       "66261                0                14     24140.0             6.9   \n",
       "\n",
       "       temperature_80m  temperature_120m  showers  pressure_msl  \\\n",
       "66246             23.4              23.2      0.0        1013.6   \n",
       "66247             25.9              25.7      0.0        1011.2   \n",
       "66250             29.4              29.2      0.0        1009.3   \n",
       "66256             24.9              24.7      0.0        1010.3   \n",
       "66261             27.3              27.1      0.0        1009.3   \n",
       "\n",
       "       surface_pressure  wind_speed_80m  wind_speed_120m  wind_gusts_10m  \\\n",
       "66246            1013.0            11.3             11.9             8.6   \n",
       "66247            1010.6            27.0             27.9            24.1   \n",
       "66250            1008.7             6.1              6.3             5.0   \n",
       "66256            1009.7            14.4             15.2            11.2   \n",
       "66261            1008.7             7.8              7.9             7.6   \n",
       "\n",
       "       evapotranspiration  et0_fao_evapotranspiration  \\\n",
       "66246                -0.0                        0.03   \n",
       "66247                -0.0                        0.11   \n",
       "66250                 0.0                        0.61   \n",
       "66256                -0.0                        0.05   \n",
       "66261                -0.0                        0.03   \n",
       "\n",
       "       vapour_pressure_deficit  dew_point_2m  terrestrial_radiation_instant  \\\n",
       "66246                     0.90          19.1                            0.0   \n",
       "66247                     1.39          19.5                            0.0   \n",
       "66250                     2.41          19.9                         1187.1   \n",
       "66256                     1.26          18.6                            0.0   \n",
       "66261                     1.30          22.1                            0.0   \n",
       "\n",
       "       hour    datetime_2  wind_direction_10m_sin  wind_direction_10m_cos  \\\n",
       "66246     2   2025_4_27_5                0.224951                0.974370   \n",
       "66247    20  2025_4_28_40                0.034899                0.999391   \n",
       "66250    10   2025_5_4_20               -0.829038                0.559193   \n",
       "66256     2   2025_4_29_5               -0.469472               -0.882948   \n",
       "66261    23   2025_5_6_47               -0.469472               -0.882948   \n",
       "\n",
       "       wind_direction_120m_sin  wind_direction_120m_cos  \\\n",
       "66246                 0.156434                 0.987688   \n",
       "66247                 0.034899                 0.999391   \n",
       "66250                -0.766044                 0.642788   \n",
       "66256                -0.529919                -0.848048   \n",
       "66261                -0.374607                -0.927184   \n",
       "\n",
       "       wind_direction_80m_sin  wind_direction_80m_cos   day_sin   day_cos  \\\n",
       "66246                0.156434                0.987688 -0.724793  0.688967   \n",
       "66247                0.034899                0.999391 -0.571268  0.820763   \n",
       "66250               -0.766044                0.642788  0.724793  0.688967   \n",
       "66256               -0.529919               -0.848048 -0.394356  0.918958   \n",
       "66261               -0.374607               -0.927184  0.937752  0.347305   \n",
       "\n",
       "       half_hour_sin  half_hour_cos  month_val_1  month_val_2  month_val_3  \\\n",
       "66246       0.608761       0.793353        False        False        False   \n",
       "66247      -0.866025       0.500000        False        False        False   \n",
       "66250       0.500000      -0.866025        False        False        False   \n",
       "66256       0.608761       0.793353        False        False        False   \n",
       "66261      -0.130526       0.991445        False        False        False   \n",
       "\n",
       "       month_val_4  month_val_5  month_val_6  month_val_7  month_val_8  \\\n",
       "66246         True        False        False        False        False   \n",
       "66247         True        False        False        False        False   \n",
       "66250        False         True        False        False        False   \n",
       "66256         True        False        False        False        False   \n",
       "66261        False         True        False        False        False   \n",
       "\n",
       "       month_val_9  month_val_10  month_val_11  month_val_12  weekday_num_0  \\\n",
       "66246        False         False         False         False          False   \n",
       "66247        False         False         False         False           True   \n",
       "66250        False         False         False         False          False   \n",
       "66256        False         False         False         False          False   \n",
       "66261        False         False         False         False          False   \n",
       "\n",
       "       weekday_num_1  weekday_num_2  weekday_num_3  weekday_num_4  \\\n",
       "66246          False          False          False          False   \n",
       "66247          False          False          False          False   \n",
       "66250          False          False          False          False   \n",
       "66256           True          False          False          False   \n",
       "66261           True          False          False          False   \n",
       "\n",
       "       weekday_num_5  weekday_num_6  day_off  \n",
       "66246          False           True     True  \n",
       "66247          False          False    False  \n",
       "66250          False           True     True  \n",
       "66256          False          False    False  \n",
       "66261          False          False    False  "
      ]
     },
     "execution_count": 14,
     "metadata": {},
     "output_type": "execute_result"
    }
   ],
   "source": [
    "df_final[\"datetime\"] = pd.to_datetime(df_final[\"datetime\"])\n",
    "df_train = df_final[df_final[\"datetime\"] < \"2025-01-23\"]\n",
    "df_val = df_final[(df_final[\"datetime\"] >= \"2025-01-23\") & (df_final[\"datetime\"] < \"2025-03-23\")]\n",
    "df_test = df_final[df_final[\"datetime\"] >= \"2025-03-23\"]\n",
    "df_train.drop(columns=[\"datetime\"], inplace=True)\n",
    "df_val.drop(columns=[\"datetime\"], inplace=True)\n",
    "df_test.drop(columns=[\"datetime\"], inplace=True)\n",
    "df_train.head()\n",
    "df_val.head()\n",
    "df_test.head()"
   ]
  },
  {
   "cell_type": "code",
   "execution_count": 15,
   "metadata": {
    "trusted": true
   },
   "outputs": [
    {
     "name": "stderr",
     "output_type": "stream",
     "text": [
      "/var/folders/wt/6hl8qhss3jz9zrdh6n8f3_qh0000gn/T/ipykernel_34315/3745555813.py:1: SettingWithCopyWarning: \n",
      "A value is trying to be set on a copy of a slice from a DataFrame.\n",
      "Try using .loc[row_indexer,col_indexer] = value instead\n",
      "\n",
      "See the caveats in the documentation: https://pandas.pydata.org/pandas-docs/stable/user_guide/indexing.html#returning-a-view-versus-a-copy\n",
      "  df_train['available_percent'] = df_train[\"avg_available_spots\"]\n",
      "/var/folders/wt/6hl8qhss3jz9zrdh6n8f3_qh0000gn/T/ipykernel_34315/3745555813.py:2: SettingWithCopyWarning: \n",
      "A value is trying to be set on a copy of a slice from a DataFrame.\n",
      "Try using .loc[row_indexer,col_indexer] = value instead\n",
      "\n",
      "See the caveats in the documentation: https://pandas.pydata.org/pandas-docs/stable/user_guide/indexing.html#returning-a-view-versus-a-copy\n",
      "  df_val['available_percent'] = df_val[\"avg_available_spots\"]\n",
      "/var/folders/wt/6hl8qhss3jz9zrdh6n8f3_qh0000gn/T/ipykernel_34315/3745555813.py:3: SettingWithCopyWarning: \n",
      "A value is trying to be set on a copy of a slice from a DataFrame.\n",
      "Try using .loc[row_indexer,col_indexer] = value instead\n",
      "\n",
      "See the caveats in the documentation: https://pandas.pydata.org/pandas-docs/stable/user_guide/indexing.html#returning-a-view-versus-a-copy\n",
      "  df_test['available_percent'] = df_test[\"avg_available_spots\"]\n",
      "/var/folders/wt/6hl8qhss3jz9zrdh6n8f3_qh0000gn/T/ipykernel_34315/3745555813.py:4: SettingWithCopyWarning: \n",
      "A value is trying to be set on a copy of a slice from a DataFrame\n",
      "\n",
      "See the caveats in the documentation: https://pandas.pydata.org/pandas-docs/stable/user_guide/indexing.html#returning-a-view-versus-a-copy\n",
      "  df_train.drop(columns=[\"avg_available_spots\"], inplace=True)\n",
      "/var/folders/wt/6hl8qhss3jz9zrdh6n8f3_qh0000gn/T/ipykernel_34315/3745555813.py:5: SettingWithCopyWarning: \n",
      "A value is trying to be set on a copy of a slice from a DataFrame\n",
      "\n",
      "See the caveats in the documentation: https://pandas.pydata.org/pandas-docs/stable/user_guide/indexing.html#returning-a-view-versus-a-copy\n",
      "  df_val.drop(columns=[\"avg_available_spots\"], inplace=True)\n",
      "/var/folders/wt/6hl8qhss3jz9zrdh6n8f3_qh0000gn/T/ipykernel_34315/3745555813.py:6: SettingWithCopyWarning: \n",
      "A value is trying to be set on a copy of a slice from a DataFrame\n",
      "\n",
      "See the caveats in the documentation: https://pandas.pydata.org/pandas-docs/stable/user_guide/indexing.html#returning-a-view-versus-a-copy\n",
      "  df_test.drop(columns=[\"avg_available_spots\"], inplace=True)\n"
     ]
    }
   ],
   "source": [
    "df_train['available_percent'] = df_train[\"avg_available_spots\"]\n",
    "df_val['available_percent'] = df_val[\"avg_available_spots\"]\n",
    "df_test['available_percent'] = df_test[\"avg_available_spots\"]\n",
    "df_train.drop(columns=[\"avg_available_spots\"], inplace=True)\n",
    "df_val.drop(columns=[\"avg_available_spots\"], inplace=True)\n",
    "df_test.drop(columns=[\"avg_available_spots\"], inplace=True)"
   ]
  },
  {
   "cell_type": "code",
   "execution_count": null,
   "metadata": {
    "trusted": true
   },
   "outputs": [
    {
     "name": "stdout",
     "output_type": "stream",
     "text": [
      "147\n",
      "152\n",
      "157\n",
      "val 停車場數量: 147\n",
      "test 停車場數量: 147\n"
     ]
    }
   ],
   "source": [
    "print(len(df_train.loc[df_train['datetime_2'] == \"2024_1_23_2\", 'ParkingSegmentID'].unique()))\n",
    "print(len(df_train['ParkingSegmentID'].unique()))\n",
    "print(len(df_test['ParkingSegmentID'].unique()))\n",
    "# retrieve all parking lot IDs from the training set\n",
    "train_seg_id = set(df_train.loc[df_train['datetime_2'] == \"2024_1_23_2\", 'ParkingSegmentID'].unique())\n",
    "\n",
    "# filter validation/test sets to retain only the IDs present in the training set\n",
    "df_train = df_train[df_train['ParkingSegmentID'].isin(train_seg_id)].copy()\n",
    "df_val = df_val[df_val['ParkingSegmentID'].isin(train_seg_id)].copy()\n",
    "df_test = df_test[df_test['ParkingSegmentID'].isin(train_seg_id)].copy()\n",
    "\n",
    "print(\"val 停車場數量:\", len(df_val['ParkingSegmentID'].unique()))\n",
    "print(\"test 停車場數量:\", len(df_test['ParkingSegmentID'].unique()))"
   ]
  },
  {
   "cell_type": "code",
   "execution_count": 17,
   "metadata": {
    "trusted": true
   },
   "outputs": [
    {
     "data": {
      "text/plain": [
       "Index(['ParkingSegmentID', 'year_val', 'day_val', 'half_hour_interval',\n",
       "       'district', 'TotalSpaces', 'lat', 'lon', 'firstHourFee', 'laterHourFee',\n",
       "       'precipitation', 'apparent_temperature', 'relative_humidity_2m',\n",
       "       'temperature_2m', 'cloud_cover', 'cloud_cover_low', 'cloud_cover_mid',\n",
       "       'cloud_cover_high', 'visibility', 'wind_speed_10m', 'temperature_80m',\n",
       "       'temperature_120m', 'showers', 'pressure_msl', 'surface_pressure',\n",
       "       'wind_speed_80m', 'wind_speed_120m', 'wind_gusts_10m',\n",
       "       'evapotranspiration', 'et0_fao_evapotranspiration',\n",
       "       'vapour_pressure_deficit', 'dew_point_2m',\n",
       "       'terrestrial_radiation_instant', 'hour', 'datetime_2',\n",
       "       'wind_direction_10m_sin', 'wind_direction_10m_cos',\n",
       "       'wind_direction_120m_sin', 'wind_direction_120m_cos',\n",
       "       'wind_direction_80m_sin', 'wind_direction_80m_cos', 'day_sin',\n",
       "       'day_cos', 'half_hour_sin', 'half_hour_cos', 'month_val_1',\n",
       "       'month_val_2', 'month_val_3', 'month_val_4', 'month_val_5',\n",
       "       'month_val_6', 'month_val_7', 'month_val_8', 'month_val_9',\n",
       "       'month_val_10', 'month_val_11', 'month_val_12', 'weekday_num_0',\n",
       "       'weekday_num_1', 'weekday_num_2', 'weekday_num_3', 'weekday_num_4',\n",
       "       'weekday_num_5', 'weekday_num_6', 'day_off', 'available_percent'],\n",
       "      dtype='object')"
      ]
     },
     "execution_count": 17,
     "metadata": {},
     "output_type": "execute_result"
    }
   ],
   "source": [
    "df_train.columns"
   ]
  },
  {
   "cell_type": "code",
   "execution_count": 18,
   "metadata": {
    "trusted": true
   },
   "outputs": [],
   "source": [
    "spatial_cols = ['lat', 'lon'\n",
    "                   ]\n",
    "temporal_cols = [\n",
    "  'TotalSpaces',\n",
    " 'firstHourFee',\n",
    " 'relative_humidity_2m',\n",
    " 'et0_fao_evapotranspiration',\n",
    " 'day_sin',\n",
    " 'half_hour_sin',\n",
    " 'half_hour_cos',\n",
    " 'weekday_num_5',\n",
    " 'weekday_num_6']\n",
    "spatial_cols_to_scale = ['lat', 'lon']\n",
    "temporal_cols_to_scale = [\n",
    "                            'TotalSpaces',\n",
    " 'firstHourFee',\n",
    " 'relative_humidity_2m',\n",
    " 'et0_fao_evapotranspiration',\n",
    "]"
   ]
  },
  {
   "cell_type": "code",
   "execution_count": null,
   "metadata": {
    "trusted": true
   },
   "outputs": [],
   "source": [
    "def build_spatial_df(df, spatial_cols):\n",
    "    # return the static feature table deduplicated by ParkingSegmentID\n",
    "    spatial_df = (\n",
    "        df.groupby('ParkingSegmentID')[spatial_cols]\n",
    "          .first()           \n",
    "          .reset_index()\n",
    "    )\n",
    "    return spatial_df\n",
    "\n",
    "spatial_df = build_spatial_df(df_train, spatial_cols)   \n",
    "N = len(spatial_df)"
   ]
  },
  {
   "cell_type": "code",
   "execution_count": null,
   "metadata": {
    "trusted": true
   },
   "outputs": [],
   "source": [
    "from collections import defaultdict\n",
    "import numpy as np\n",
    "import torch\n",
    "test_time_key =[]\n",
    "def prepare_full_timeslice_batches(df, spatial_df,\n",
    "                                   temporal_cols, target_col='available_percent'):\n",
    "    \"\"\"\n",
    "    Only keep the slices where **all N nodes are present** at that time point.\n",
    "    Return batches: List[Dict], where each batch includes:\n",
    "    temporal_features : [N, d_t] numpy array\n",
    "    target            : [N] numpy array\n",
    "    time_key          : time index (optional)\n",
    "    \"\"\"\n",
    "    # create node ordering → to facilitate alignment with the order in spatial_df\n",
    "    node_order = spatial_df['ParkingSegmentID'].tolist()\n",
    "    node_idx_map = {pid: idx for idx, pid in enumerate(node_order)}\n",
    "    N = len(node_order)\n",
    "    batches = []\n",
    "    # group by time step\n",
    "    for time_key, g in df.groupby('datetime_2'):\n",
    "        if len(g) != N:\n",
    "            # incomplete data at this time point, skip directly\n",
    "            continue\n",
    "        # align according to node_order\n",
    "        g_sorted = g.set_index('ParkingSegmentID').loc[node_order]\n",
    "        assert len(g_sorted) == N, f\"time {time_key} 節點遺失！\"\n",
    "        \n",
    "        t_mat = g_sorted[temporal_cols].to_numpy(dtype=np.float32)                  # [N, d_t]\n",
    "        tgt   = g_sorted[target_col].to_numpy(dtype=np.float32)                     # [N]\n",
    "        test_time_key.append(time_key)\n",
    "        batches.append({\n",
    "            'time_key': time_key,\n",
    "            'temporal_features': t_mat,\n",
    "            'target': tgt,\n",
    "\n",
    "        })\n",
    "    return batches"
   ]
  },
  {
   "cell_type": "code",
   "execution_count": null,
   "metadata": {},
   "outputs": [],
   "source": [
    "\n",
    "import matplotlib.pyplot as plt\n",
    "\n",
    "# count the number of data records for each parking lot\n",
    "count_per_parking = df_train['ParkingSegmentID'].value_counts()\n",
    "\n",
    "# then count how many parking lots have exactly n data records\n",
    "count_of_counts = count_per_parking.value_counts().sort_index()\n",
    "\n",
    "plt.figure(figsize=(10,6))\n",
    "plt.bar(count_of_counts.index, count_of_counts.values, width=1.0, edgecolor='black')\n",
    "plt.xlabel('每個停車場的資料筆數')\n",
    "plt.ylabel('有這麼多資料的停車場數量')\n",
    "plt.title('停車場資料筆數分布')\n",
    "plt.tight_layout()\n",
    "plt.show()"
   ]
  },
  {
   "cell_type": "code",
   "execution_count": null,
   "metadata": {
    "trusted": true
   },
   "outputs": [
    {
     "name": "stderr",
     "output_type": "stream",
     "text": [
      "/var/folders/wt/6hl8qhss3jz9zrdh6n8f3_qh0000gn/T/ipykernel_34315/2811152063.py:13: FutureWarning: Setting an item of incompatible dtype is deprecated and will raise in a future error of pandas. Value '[-0.36874861 -0.36874861 -0.36874861 ... -0.19343778 -0.19343778\n",
      " -0.19343778]' has dtype incompatible with int64, please explicitly cast to a compatible dtype first.\n",
      "  df_scaled.loc[:, c] = temporal_scaler[c].transform(df_scaled[[c]]).ravel()\n",
      "/var/folders/wt/6hl8qhss3jz9zrdh6n8f3_qh0000gn/T/ipykernel_34315/2811152063.py:13: FutureWarning: Setting an item of incompatible dtype is deprecated and will raise in a future error of pandas. Value '[-1.09947748 -1.09947748  0.76159863 ...  0.76159863  0.76159863\n",
      "  0.76159863]' has dtype incompatible with int64, please explicitly cast to a compatible dtype first.\n",
      "  df_scaled.loc[:, c] = temporal_scaler[c].transform(df_scaled[[c]]).ravel()\n",
      "/var/folders/wt/6hl8qhss3jz9zrdh6n8f3_qh0000gn/T/ipykernel_34315/2811152063.py:13: FutureWarning: Setting an item of incompatible dtype is deprecated and will raise in a future error of pandas. Value '[1.34416301 2.66867237 1.67529035 ... 0.01965364 0.51634465 0.01965364]' has dtype incompatible with int64, please explicitly cast to a compatible dtype first.\n",
      "  df_scaled.loc[:, c] = temporal_scaler[c].transform(df_scaled[[c]]).ravel()\n",
      "/var/folders/wt/6hl8qhss3jz9zrdh6n8f3_qh0000gn/T/ipykernel_34315/2811152063.py:13: FutureWarning: Setting an item of incompatible dtype is deprecated and will raise in a future error of pandas. Value '[-0.36874861 -0.33184107 -0.33184107 ... -0.19343778 -0.19343778\n",
      " -0.19343778]' has dtype incompatible with int64, please explicitly cast to a compatible dtype first.\n",
      "  df_scaled.loc[:, c] = temporal_scaler[c].transform(df_scaled[[c]]).ravel()\n",
      "/var/folders/wt/6hl8qhss3jz9zrdh6n8f3_qh0000gn/T/ipykernel_34315/2811152063.py:13: FutureWarning: Setting an item of incompatible dtype is deprecated and will raise in a future error of pandas. Value '[ 0.76159863 -1.09947748  0.76159863 ...  0.76159863  0.76159863\n",
      "  0.76159863]' has dtype incompatible with int64, please explicitly cast to a compatible dtype first.\n",
      "  df_scaled.loc[:, c] = temporal_scaler[c].transform(df_scaled[[c]]).ravel()\n",
      "/var/folders/wt/6hl8qhss3jz9zrdh6n8f3_qh0000gn/T/ipykernel_34315/2811152063.py:13: FutureWarning: Setting an item of incompatible dtype is deprecated and will raise in a future error of pandas. Value '[-0.3114737   0.59912649  1.01303567 ... -1.05651022 -3.29161978\n",
      " -2.21545591]' has dtype incompatible with int64, please explicitly cast to a compatible dtype first.\n",
      "  df_scaled.loc[:, c] = temporal_scaler[c].transform(df_scaled[[c]]).ravel()\n",
      "/var/folders/wt/6hl8qhss3jz9zrdh6n8f3_qh0000gn/T/ipykernel_34315/2811152063.py:13: FutureWarning: Setting an item of incompatible dtype is deprecated and will raise in a future error of pandas. Value '[-0.36874861 -0.36874861 -0.36874861 ... -0.19343778 -0.19343778\n",
      " -0.19343778]' has dtype incompatible with int64, please explicitly cast to a compatible dtype first.\n",
      "  df_scaled.loc[:, c] = temporal_scaler[c].transform(df_scaled[[c]]).ravel()\n",
      "/var/folders/wt/6hl8qhss3jz9zrdh6n8f3_qh0000gn/T/ipykernel_34315/2811152063.py:13: FutureWarning: Setting an item of incompatible dtype is deprecated and will raise in a future error of pandas. Value '[-1.09947748 -1.09947748  0.76159863 ...  0.76159863  0.76159863\n",
      "  0.76159863]' has dtype incompatible with int64, please explicitly cast to a compatible dtype first.\n",
      "  df_scaled.loc[:, c] = temporal_scaler[c].transform(df_scaled[[c]]).ravel()\n",
      "/var/folders/wt/6hl8qhss3jz9zrdh6n8f3_qh0000gn/T/ipykernel_34315/2811152063.py:13: FutureWarning: Setting an item of incompatible dtype is deprecated and will raise in a future error of pandas. Value '[ 0.76469016  0.01965364 -1.05651022 ...  0.01965364  0.01965364\n",
      " -0.97372838]' has dtype incompatible with int64, please explicitly cast to a compatible dtype first.\n",
      "  df_scaled.loc[:, c] = temporal_scaler[c].transform(df_scaled[[c]]).ravel()\n"
     ]
    }
   ],
   "source": [
    "from sklearn.preprocessing import StandardScaler\n",
    "\n",
    "# create scaler\n",
    "spatial_scaler   = {c: StandardScaler().fit(df_train[[c]]) for c in spatial_cols_to_scale}\n",
    "temporal_scaler  = {c: StandardScaler().fit(df_train[[c]]) for c in temporal_cols_to_scale}\n",
    "\n",
    "def scale_dataframe(df):\n",
    "    df_scaled = df.copy()\n",
    "    \n",
    "    for c in spatial_cols_to_scale:\n",
    "        df_scaled.loc[:, c] = spatial_scaler[c].transform(df_scaled[[c]]).ravel()\n",
    "    for c in temporal_cols_to_scale:\n",
    "        df_scaled.loc[:, c] = temporal_scaler[c].transform(df_scaled[[c]]).ravel()\n",
    "    return df_scaled\n",
    "\n",
    "# ------------- generate batches -------------\n",
    "df_train_scaled = scale_dataframe(df_train)\n",
    "df_val_scaled   = scale_dataframe(df_val)\n",
    "df_test_scaled  = scale_dataframe(df_test)\n",
    "\n",
    "train_batches = prepare_full_timeslice_batches(df_train_scaled,\n",
    "                                               spatial_df,\n",
    "                                               temporal_cols)\n",
    "\n",
    "val_batches   = prepare_full_timeslice_batches(df_val_scaled,\n",
    "                                               spatial_df,\n",
    "                                               temporal_cols)\n",
    "test_time_key =[]\n",
    "test_batches  = prepare_full_timeslice_batches(df_test_scaled,\n",
    "                                               spatial_df,\n",
    "                                               temporal_cols)"
   ]
  },
  {
   "cell_type": "code",
   "execution_count": 23,
   "metadata": {},
   "outputs": [],
   "source": [
    "node_order = spatial_df['ParkingSegmentID'].tolist()"
   ]
  },
  {
   "cell_type": "code",
   "execution_count": 24,
   "metadata": {},
   "outputs": [],
   "source": [
    "df_test_out = df_test.loc[(df_test['datetime_2'].isin(test_time_key)) & (df_test['ParkingSegmentID'].isin(node_order))].drop(columns=['datetime_2','day_val'])"
   ]
  },
  {
   "cell_type": "code",
   "execution_count": 25,
   "metadata": {},
   "outputs": [],
   "source": [
    "df_test_out['avg_available_spots'] = df_test_out['available_percent']\n",
    "df_test_out.drop(columns=['half_hour_interval','hour','available_percent'],inplace=True)\n",
    "df_test_out.to_csv('df_test_out.csv',index=False)\n"
   ]
  },
  {
   "cell_type": "code",
   "execution_count": null,
   "metadata": {
    "trusted": true
   },
   "outputs": [],
   "source": [
    "from sklearn.neighbors import NearestNeighbors\n",
    "import numpy as np\n",
    "\n",
    "def build_spatial_graph(spatial_df, k=8):\n",
    "    coords = spatial_df[['lat', 'lon']].values\n",
    "    N = len(coords)\n",
    "    \n",
    "    nn_model = NearestNeighbors(n_neighbors=min(k+1, N))\n",
    "    nn_model.fit(coords)\n",
    "    distances, indices = nn_model.kneighbors(coords)\n",
    "    \n",
    "    # create edges and weights\n",
    "    edge_dict = dict()\n",
    "    for i in range(N):\n",
    "        for j in range(1, min(k+1, N)):\n",
    "            neighbor_idx = indices[i, j]\n",
    "            if i != neighbor_idx:\n",
    "                edge = tuple(sorted((i, neighbor_idx)))\n",
    "                # use a Gaussian kernel for the weights\n",
    "                distance = distances[i, j]\n",
    "                weight = 1/distance\n",
    "                # if the edge already exists, take the average of the weights\n",
    "                if edge in edge_dict:\n",
    "                    edge_dict[edge] = (edge_dict[edge] + weight) / 2\n",
    "                else:\n",
    "                    edge_dict[edge] = weight\n",
    "\n",
    "    src, dst = zip(*edge_dict.keys())\n",
    "    edge_index = torch.tensor([src, dst], dtype=torch.long)\n",
    "    edge_weight = torch.tensor(list(edge_dict.values()), dtype=torch.float)\n",
    "    \n",
    "    return edge_index, edge_weight\n",
    "\n",
    "edge_index, edge_weight = build_spatial_graph(spatial_df, k=8)"
   ]
  },
  {
   "cell_type": "code",
   "execution_count": null,
   "metadata": {
    "trusted": true
   },
   "outputs": [],
   "source": [
    "class SpatioTemporalGNN(torch.nn.Module):\n",
    "    def __init__(self, spatial_features, temporal_features, hidden_dim=64, dropout=0.0, activation=torch.nn.ReLU()):\n",
    "        super().__init__()\n",
    "        \n",
    "        # spatial features encoder\n",
    "        self.spatial_encoder = torch.nn.Sequential(\n",
    "            torch.nn.Linear(spatial_features, hidden_dim),\n",
    "            activation,\n",
    "            torch.nn.Dropout(dropout),\n",
    "            torch.nn.Linear(hidden_dim, hidden_dim)\n",
    "        )\n",
    "        \n",
    "        # temporal features encoder\n",
    "        self.temporal_encoder = torch.nn.Sequential(\n",
    "            torch.nn.Linear(temporal_features, hidden_dim),\n",
    "            activation,\n",
    "            torch.nn.Dropout(dropout),\n",
    "            torch.nn.Linear(hidden_dim, hidden_dim)\n",
    "        )\n",
    "        \n",
    "        # GNN layers\n",
    "        self.conv1 = GCNConv(hidden_dim, hidden_dim)\n",
    "        self.conv2 = GCNConv(hidden_dim, hidden_dim)\n",
    "        \n",
    "        # prediction layer\n",
    "        self.predictor = torch.nn.Sequential(\n",
    "            torch.nn.Linear(hidden_dim, hidden_dim // 2),\n",
    "            activation,\n",
    "            torch.nn.Dropout(dropout),\n",
    "            torch.nn.Linear(hidden_dim // 2, 1)\n",
    "        )\n",
    "        self.gate_layer = torch.nn.Sequential(\n",
    "            torch.nn.Linear(hidden_dim * 2, hidden_dim),\n",
    "            torch.nn.Sigmoid()\n",
    "        )\n",
    "            \n",
    "    def forward(self, spatial_x, temporal_x, edge_index, edge_weight):\n",
    "        # encode spatial features\n",
    "        spatial_emb = self.spatial_encoder(spatial_x)\n",
    "        \n",
    "        # encode temporal features\n",
    "        temporal_emb = self.temporal_encoder(temporal_x)\n",
    "        # merge features\n",
    "        concat_feat = torch.cat([spatial_emb, temporal_emb], dim=1)\n",
    "        gate = self.gate_layer(concat_feat)  # [N, hidden_dim]\n",
    "        x = gate * spatial_emb + (1 - gate) * temporal_emb \n",
    "                # GNN process\n",
    "        x1 = F.relu(self.conv1(x, edge_index, edge_weight))\n",
    "        x2 = F.relu(self.conv2(x1, edge_index, edge_weight)) + x1\n",
    "        \n",
    "        # predict\n",
    "        return self.predictor(x)\n",
    "def run_epoch(batches, model, spatial_x,\n",
    "              edge_index, edge_attr,\n",
    "              optimizer=None,\n",
    "              batch_size=8,\n",
    "              collect_pred=False):\n",
    "\n",
    "    train_mode = optimizer is not None\n",
    "    model.train() if train_mode else model.eval()\n",
    "\n",
    "    total_loss, total_count = 0.0, 0\n",
    "    y_true_all, y_pred_all = [], []\n",
    "\n",
    "    for i in range(0, len(batches), batch_size):\n",
    "        slice_batch = batches[i : i + batch_size]\n",
    "\n",
    "        temporal_stack = torch.stack([\n",
    "            torch.from_numpy(b['temporal_features'])\n",
    "            for b in slice_batch\n",
    "        ]).to(spatial_x.device, dtype=spatial_x.dtype)\n",
    "\n",
    "        target_stack = torch.stack([\n",
    "            torch.from_numpy(b['target']).unsqueeze(1)\n",
    "            for b in slice_batch\n",
    "        ]).to(spatial_x.device, dtype=torch.float32)\n",
    "\n",
    "        batch_loss = 0.0\n",
    "        batch_count = 0\n",
    "        preds = []\n",
    "        for t_feat, tgt in zip(temporal_stack, target_stack):\n",
    "            out = model(spatial_x, t_feat, edge_index, edge_attr)\n",
    "            per_node_loss = F.mse_loss(out, tgt, reduction='sum')\n",
    "            batch_loss += per_node_loss\n",
    "            batch_count += out.numel()\n",
    "            preds.append(out)\n",
    "\n",
    "        if train_mode:\n",
    "            optimizer.zero_grad()\n",
    "            (batch_loss / batch_count).backward()  # use a tensor to perform backward\n",
    "            torch.nn.utils.clip_grad_norm_(model.parameters(), 1.0)\n",
    "            optimizer.step()\n",
    "\n",
    "        if collect_pred:\n",
    "            y_true_all.append(target_stack.detach().cpu())\n",
    "            y_pred_all.append(torch.stack(preds).detach().cpu())\n",
    "        total_loss += batch_loss.item()\n",
    "        total_count += batch_count\n",
    "\n",
    "    mean_loss = total_loss / total_count\n",
    "\n",
    "    if collect_pred:\n",
    "        y_true_all = torch.cat(y_true_all).numpy().flatten()\n",
    "        y_pred_all = torch.cat(y_pred_all).numpy().flatten()\n",
    "        return mean_loss, y_true_all, y_pred_all\n",
    "    else:\n",
    "        return mean_loss, None, None"
   ]
  },
  {
   "cell_type": "code",
   "execution_count": 28,
   "metadata": {
    "trusted": true
   },
   "outputs": [],
   "source": [
    "model = SpatioTemporalGNN(\n",
    "        spatial_features=len(spatial_cols),\n",
    "        temporal_features=len(temporal_cols),\n",
    "        hidden_dim=64,\n",
    "        dropout=0,\n",
    "        activation=torch.nn.ReLU()\n",
    "    )\n",
    "device = torch.device('cpu')"
   ]
  },
  {
   "cell_type": "code",
   "execution_count": 29,
   "metadata": {
    "trusted": true
   },
   "outputs": [
    {
     "data": {
      "text/html": [
       "<div>\n",
       "<style scoped>\n",
       "    .dataframe tbody tr th:only-of-type {\n",
       "        vertical-align: middle;\n",
       "    }\n",
       "\n",
       "    .dataframe tbody tr th {\n",
       "        vertical-align: top;\n",
       "    }\n",
       "\n",
       "    .dataframe thead th {\n",
       "        text-align: right;\n",
       "    }\n",
       "</style>\n",
       "<table border=\"1\" class=\"dataframe\">\n",
       "  <thead>\n",
       "    <tr style=\"text-align: right;\">\n",
       "      <th></th>\n",
       "      <th>ParkingSegmentID</th>\n",
       "      <th>lat</th>\n",
       "      <th>lon</th>\n",
       "    </tr>\n",
       "  </thead>\n",
       "  <tbody>\n",
       "    <tr>\n",
       "      <th>0</th>\n",
       "      <td>1001</td>\n",
       "      <td>22.99728</td>\n",
       "      <td>120.17506</td>\n",
       "    </tr>\n",
       "    <tr>\n",
       "      <th>1</th>\n",
       "      <td>1002</td>\n",
       "      <td>22.99443</td>\n",
       "      <td>120.18191</td>\n",
       "    </tr>\n",
       "    <tr>\n",
       "      <th>2</th>\n",
       "      <td>101</td>\n",
       "      <td>22.98781</td>\n",
       "      <td>120.20494</td>\n",
       "    </tr>\n",
       "    <tr>\n",
       "      <th>3</th>\n",
       "      <td>1011</td>\n",
       "      <td>22.99679</td>\n",
       "      <td>120.17929</td>\n",
       "    </tr>\n",
       "    <tr>\n",
       "      <th>4</th>\n",
       "      <td>1071</td>\n",
       "      <td>22.98840</td>\n",
       "      <td>120.19851</td>\n",
       "    </tr>\n",
       "    <tr>\n",
       "      <th>...</th>\n",
       "      <td>...</td>\n",
       "      <td>...</td>\n",
       "      <td>...</td>\n",
       "    </tr>\n",
       "    <tr>\n",
       "      <th>142</th>\n",
       "      <td>911</td>\n",
       "      <td>22.99547</td>\n",
       "      <td>120.18517</td>\n",
       "    </tr>\n",
       "    <tr>\n",
       "      <th>143</th>\n",
       "      <td>92</td>\n",
       "      <td>22.98643</td>\n",
       "      <td>120.20818</td>\n",
       "    </tr>\n",
       "    <tr>\n",
       "      <th>144</th>\n",
       "      <td>981</td>\n",
       "      <td>22.99706</td>\n",
       "      <td>120.17182</td>\n",
       "    </tr>\n",
       "    <tr>\n",
       "      <th>145</th>\n",
       "      <td>982</td>\n",
       "      <td>22.98248</td>\n",
       "      <td>120.16979</td>\n",
       "    </tr>\n",
       "    <tr>\n",
       "      <th>146</th>\n",
       "      <td>991</td>\n",
       "      <td>22.99511</td>\n",
       "      <td>120.16939</td>\n",
       "    </tr>\n",
       "  </tbody>\n",
       "</table>\n",
       "<p>147 rows × 3 columns</p>\n",
       "</div>"
      ],
      "text/plain": [
       "    ParkingSegmentID       lat        lon\n",
       "0               1001  22.99728  120.17506\n",
       "1               1002  22.99443  120.18191\n",
       "2                101  22.98781  120.20494\n",
       "3               1011  22.99679  120.17929\n",
       "4               1071  22.98840  120.19851\n",
       "..               ...       ...        ...\n",
       "142              911  22.99547  120.18517\n",
       "143               92  22.98643  120.20818\n",
       "144              981  22.99706  120.17182\n",
       "145              982  22.98248  120.16979\n",
       "146              991  22.99511  120.16939\n",
       "\n",
       "[147 rows x 3 columns]"
      ]
     },
     "execution_count": 29,
     "metadata": {},
     "output_type": "execute_result"
    }
   ],
   "source": [
    "spatial_df"
   ]
  },
  {
   "cell_type": "code",
   "execution_count": 30,
   "metadata": {
    "trusted": true
   },
   "outputs": [],
   "source": [
    "from tqdm import tqdm\n",
    "# static tensors\n",
    "spatial_x  = torch.from_numpy(spatial_df[spatial_cols].to_numpy(dtype=np.float64)).to(device).float()\n",
    "edge_index, edge_weight = build_spatial_graph(spatial_df, k=8)\n",
    "edge_index  = edge_index.to(device)\n",
    "edge_weight = edge_weight.to(device)"
   ]
  },
  {
   "cell_type": "code",
   "execution_count": null,
   "metadata": {
    "trusted": true
   },
   "outputs": [
    {
     "name": "stderr",
     "output_type": "stream",
     "text": [
      "  0%|          | 1/200 [00:10<35:25, 10.68s/it]"
     ]
    },
    {
     "name": "stdout",
     "output_type": "stream",
     "text": [
      "Epoch 00 | train 3473.6795 | val 2763.4116 | R² 0.320\n"
     ]
    },
    {
     "name": "stderr",
     "output_type": "stream",
     "text": [
      "  1%|          | 2/200 [00:21<34:52, 10.57s/it]"
     ]
    },
    {
     "name": "stdout",
     "output_type": "stream",
     "text": [
      "Epoch 01 | train 1822.8451 | val 1395.4665 | R² 0.657\n"
     ]
    },
    {
     "name": "stderr",
     "output_type": "stream",
     "text": [
      "  2%|▏         | 3/200 [00:30<33:31, 10.21s/it]"
     ]
    },
    {
     "name": "stdout",
     "output_type": "stream",
     "text": [
      "Epoch 02 | train 942.6729 | val 660.7950 | R² 0.837\n"
     ]
    },
    {
     "name": "stderr",
     "output_type": "stream",
     "text": [
      "  2%|▏         | 4/200 [00:41<34:02, 10.42s/it]"
     ]
    },
    {
     "name": "stdout",
     "output_type": "stream",
     "text": [
      "Epoch 03 | train 616.4034 | val 558.9885 | R² 0.862\n"
     ]
    },
    {
     "name": "stderr",
     "output_type": "stream",
     "text": [
      "  2%|▎         | 5/200 [00:51<32:55, 10.13s/it]"
     ]
    },
    {
     "name": "stdout",
     "output_type": "stream",
     "text": [
      "Epoch 04 | train 604.9626 | val 542.8347 | R² 0.866\n"
     ]
    },
    {
     "name": "stderr",
     "output_type": "stream",
     "text": [
      "  3%|▎         | 6/200 [01:02<33:41, 10.42s/it]"
     ]
    },
    {
     "name": "stdout",
     "output_type": "stream",
     "text": [
      "Epoch 05 | train 586.5207 | val 584.3017 | R² 0.856\n"
     ]
    },
    {
     "name": "stderr",
     "output_type": "stream",
     "text": [
      "  4%|▎         | 7/200 [01:13<34:15, 10.65s/it]"
     ]
    },
    {
     "name": "stdout",
     "output_type": "stream",
     "text": [
      "Epoch 06 | train 581.6451 | val 550.8194 | R² 0.864\n"
     ]
    },
    {
     "name": "stderr",
     "output_type": "stream",
     "text": [
      "  4%|▍         | 8/200 [01:24<34:46, 10.87s/it]"
     ]
    },
    {
     "name": "stdout",
     "output_type": "stream",
     "text": [
      "Epoch 07 | train 559.1936 | val 497.9651 | R² 0.877\n"
     ]
    },
    {
     "name": "stderr",
     "output_type": "stream",
     "text": [
      "  4%|▍         | 9/200 [01:36<35:27, 11.14s/it]"
     ]
    },
    {
     "name": "stdout",
     "output_type": "stream",
     "text": [
      "Epoch 08 | train 576.3652 | val 609.0917 | R² 0.850\n"
     ]
    },
    {
     "name": "stderr",
     "output_type": "stream",
     "text": [
      "  5%|▌         | 10/200 [01:49<37:24, 11.81s/it]"
     ]
    },
    {
     "name": "stdout",
     "output_type": "stream",
     "text": [
      "Epoch 09 | train 554.8329 | val 512.9755 | R² 0.874\n"
     ]
    },
    {
     "name": "stderr",
     "output_type": "stream",
     "text": [
      "  6%|▌         | 11/200 [02:01<37:24, 11.88s/it]"
     ]
    },
    {
     "name": "stdout",
     "output_type": "stream",
     "text": [
      "Epoch 10 | train 560.9353 | val 556.9912 | R² 0.863\n"
     ]
    },
    {
     "name": "stderr",
     "output_type": "stream",
     "text": [
      "  6%|▌         | 12/200 [02:14<37:34, 11.99s/it]"
     ]
    },
    {
     "name": "stdout",
     "output_type": "stream",
     "text": [
      "Epoch 11 | train 569.8935 | val 516.7101 | R² 0.873\n"
     ]
    },
    {
     "name": "stderr",
     "output_type": "stream",
     "text": [
      "  6%|▋         | 13/200 [02:27<39:00, 12.51s/it]"
     ]
    },
    {
     "name": "stdout",
     "output_type": "stream",
     "text": [
      "Epoch 12 | train 550.3718 | val 531.0015 | R² 0.869\n"
     ]
    },
    {
     "name": "stderr",
     "output_type": "stream",
     "text": [
      "  7%|▋         | 14/200 [02:41<40:07, 12.94s/it]"
     ]
    },
    {
     "name": "stdout",
     "output_type": "stream",
     "text": [
      "Epoch 13 | train 562.9805 | val 638.3903 | R² 0.843\n"
     ]
    },
    {
     "name": "stderr",
     "output_type": "stream",
     "text": [
      "  8%|▊         | 15/200 [02:54<39:49, 12.92s/it]"
     ]
    },
    {
     "name": "stdout",
     "output_type": "stream",
     "text": [
      "Epoch 14 | train 572.1967 | val 514.7701 | R² 0.873\n"
     ]
    },
    {
     "name": "stderr",
     "output_type": "stream",
     "text": [
      "  8%|▊         | 16/200 [03:07<39:14, 12.79s/it]"
     ]
    },
    {
     "name": "stdout",
     "output_type": "stream",
     "text": [
      "Epoch 15 | train 542.8919 | val 514.9479 | R² 0.873\n"
     ]
    },
    {
     "name": "stderr",
     "output_type": "stream",
     "text": [
      "  8%|▊         | 17/200 [03:21<40:12, 13.18s/it]"
     ]
    },
    {
     "name": "stdout",
     "output_type": "stream",
     "text": [
      "Epoch 16 | train 543.0921 | val 488.8950 | R² 0.880\n"
     ]
    },
    {
     "name": "stderr",
     "output_type": "stream",
     "text": [
      "  9%|▉         | 18/200 [03:35<40:34, 13.38s/it]"
     ]
    },
    {
     "name": "stdout",
     "output_type": "stream",
     "text": [
      "Epoch 17 | train 535.2276 | val 606.1218 | R² 0.851\n"
     ]
    },
    {
     "name": "stderr",
     "output_type": "stream",
     "text": [
      " 10%|▉         | 19/200 [03:48<40:43, 13.50s/it]"
     ]
    },
    {
     "name": "stdout",
     "output_type": "stream",
     "text": [
      "Epoch 18 | train 567.3454 | val 538.0104 | R² 0.868\n"
     ]
    },
    {
     "name": "stderr",
     "output_type": "stream",
     "text": [
      " 10%|█         | 20/200 [04:03<41:45, 13.92s/it]"
     ]
    },
    {
     "name": "stdout",
     "output_type": "stream",
     "text": [
      "Epoch 19 | train 560.6235 | val 550.4944 | R² 0.865\n"
     ]
    },
    {
     "name": "stderr",
     "output_type": "stream",
     "text": [
      " 10%|█         | 21/200 [04:18<42:11, 14.14s/it]"
     ]
    },
    {
     "name": "stdout",
     "output_type": "stream",
     "text": [
      "Epoch 20 | train 562.1655 | val 503.3210 | R² 0.876\n"
     ]
    },
    {
     "name": "stderr",
     "output_type": "stream",
     "text": [
      " 11%|█         | 22/200 [04:32<41:33, 14.01s/it]"
     ]
    },
    {
     "name": "stdout",
     "output_type": "stream",
     "text": [
      "Epoch 21 | train 538.2743 | val 488.8258 | R² 0.880\n"
     ]
    },
    {
     "name": "stderr",
     "output_type": "stream",
     "text": [
      " 12%|█▏        | 23/200 [04:43<39:17, 13.32s/it]"
     ]
    },
    {
     "name": "stdout",
     "output_type": "stream",
     "text": [
      "Epoch 22 | train 521.3335 | val 462.6665 | R² 0.886\n"
     ]
    },
    {
     "name": "stderr",
     "output_type": "stream",
     "text": [
      " 12%|█▏        | 24/200 [04:57<39:07, 13.34s/it]"
     ]
    },
    {
     "name": "stdout",
     "output_type": "stream",
     "text": [
      "Epoch 23 | train 531.0382 | val 588.2800 | R² 0.855\n"
     ]
    },
    {
     "name": "stderr",
     "output_type": "stream",
     "text": [
      " 12%|█▎        | 25/200 [05:10<39:00, 13.37s/it]"
     ]
    },
    {
     "name": "stdout",
     "output_type": "stream",
     "text": [
      "Epoch 24 | train 585.0305 | val 524.3283 | R² 0.871\n"
     ]
    },
    {
     "name": "stderr",
     "output_type": "stream",
     "text": [
      " 13%|█▎        | 26/200 [05:24<38:54, 13.42s/it]"
     ]
    },
    {
     "name": "stdout",
     "output_type": "stream",
     "text": [
      "Epoch 25 | train 580.1491 | val 1126.1741 | R² 0.723\n"
     ]
    },
    {
     "name": "stderr",
     "output_type": "stream",
     "text": [
      " 14%|█▎        | 27/200 [05:37<38:43, 13.43s/it]"
     ]
    },
    {
     "name": "stdout",
     "output_type": "stream",
     "text": [
      "Epoch 26 | train 582.9343 | val 479.6780 | R² 0.882\n"
     ]
    },
    {
     "name": "stderr",
     "output_type": "stream",
     "text": [
      " 14%|█▍        | 28/200 [05:49<37:34, 13.11s/it]"
     ]
    },
    {
     "name": "stdout",
     "output_type": "stream",
     "text": [
      "Epoch 27 | train 550.8593 | val 520.4095 | R² 0.872\n"
     ]
    },
    {
     "name": "stderr",
     "output_type": "stream",
     "text": [
      " 14%|█▍        | 29/200 [06:03<37:57, 13.32s/it]"
     ]
    },
    {
     "name": "stdout",
     "output_type": "stream",
     "text": [
      "Epoch 28 | train 576.0600 | val 548.2315 | R² 0.865\n"
     ]
    },
    {
     "name": "stderr",
     "output_type": "stream",
     "text": [
      " 15%|█▌        | 30/200 [06:17<38:06, 13.45s/it]"
     ]
    },
    {
     "name": "stdout",
     "output_type": "stream",
     "text": [
      "Epoch 29 | train 539.2600 | val 457.8540 | R² 0.887\n"
     ]
    },
    {
     "name": "stderr",
     "output_type": "stream",
     "text": [
      " 16%|█▌        | 31/200 [06:30<37:52, 13.45s/it]"
     ]
    },
    {
     "name": "stdout",
     "output_type": "stream",
     "text": [
      "Epoch 30 | train 526.6874 | val 546.2259 | R² 0.866\n"
     ]
    },
    {
     "name": "stderr",
     "output_type": "stream",
     "text": [
      " 16%|█▌        | 32/200 [06:43<36:43, 13.12s/it]"
     ]
    },
    {
     "name": "stdout",
     "output_type": "stream",
     "text": [
      "Epoch 31 | train 561.8868 | val 486.4773 | R² 0.880\n"
     ]
    },
    {
     "name": "stderr",
     "output_type": "stream",
     "text": [
      " 16%|█▋        | 33/200 [06:55<36:08, 12.99s/it]"
     ]
    },
    {
     "name": "stdout",
     "output_type": "stream",
     "text": [
      "Epoch 32 | train 524.0731 | val 470.2739 | R² 0.884\n"
     ]
    },
    {
     "name": "stderr",
     "output_type": "stream",
     "text": [
      " 17%|█▋        | 34/200 [07:07<34:58, 12.64s/it]"
     ]
    },
    {
     "name": "stdout",
     "output_type": "stream",
     "text": [
      "Epoch 33 | train 518.8003 | val 460.1340 | R² 0.887\n"
     ]
    },
    {
     "name": "stderr",
     "output_type": "stream",
     "text": [
      " 18%|█▊        | 35/200 [07:19<33:43, 12.27s/it]"
     ]
    },
    {
     "name": "stdout",
     "output_type": "stream",
     "text": [
      "Epoch 34 | train 490.6591 | val 397.6347 | R² 0.902\n"
     ]
    },
    {
     "name": "stderr",
     "output_type": "stream",
     "text": [
      " 18%|█▊        | 36/200 [07:32<34:16, 12.54s/it]"
     ]
    },
    {
     "name": "stdout",
     "output_type": "stream",
     "text": [
      "Epoch 35 | train 587.1969 | val 556.1875 | R² 0.863\n"
     ]
    },
    {
     "name": "stderr",
     "output_type": "stream",
     "text": [
      " 18%|█▊        | 37/200 [07:44<33:38, 12.39s/it]"
     ]
    },
    {
     "name": "stdout",
     "output_type": "stream",
     "text": [
      "Epoch 36 | train 567.3062 | val 456.7932 | R² 0.888\n"
     ]
    },
    {
     "name": "stderr",
     "output_type": "stream",
     "text": [
      " 19%|█▉        | 38/200 [07:56<33:33, 12.43s/it]"
     ]
    },
    {
     "name": "stdout",
     "output_type": "stream",
     "text": [
      "Epoch 37 | train 562.3157 | val 528.7163 | R² 0.870\n"
     ]
    },
    {
     "name": "stderr",
     "output_type": "stream",
     "text": [
      " 20%|█▉        | 39/200 [08:08<32:58, 12.29s/it]"
     ]
    },
    {
     "name": "stdout",
     "output_type": "stream",
     "text": [
      "Epoch 38 | train 545.7114 | val 375.9468 | R² 0.908\n"
     ]
    },
    {
     "name": "stderr",
     "output_type": "stream",
     "text": [
      " 20%|██        | 40/200 [08:20<32:10, 12.06s/it]"
     ]
    },
    {
     "name": "stdout",
     "output_type": "stream",
     "text": [
      "Epoch 39 | train 535.7912 | val 441.6257 | R² 0.891\n"
     ]
    },
    {
     "name": "stderr",
     "output_type": "stream",
     "text": [
      " 20%|██        | 41/200 [08:33<32:23, 12.23s/it]"
     ]
    },
    {
     "name": "stdout",
     "output_type": "stream",
     "text": [
      "Epoch 40 | train 533.3642 | val 357.5010 | R² 0.912\n"
     ]
    },
    {
     "name": "stderr",
     "output_type": "stream",
     "text": [
      " 21%|██        | 42/200 [08:46<33:03, 12.55s/it]"
     ]
    },
    {
     "name": "stdout",
     "output_type": "stream",
     "text": [
      "Epoch 41 | train 489.7037 | val 728.1262 | R² 0.821\n"
     ]
    },
    {
     "name": "stderr",
     "output_type": "stream",
     "text": [
      " 22%|██▏       | 43/200 [08:58<32:35, 12.46s/it]"
     ]
    },
    {
     "name": "stdout",
     "output_type": "stream",
     "text": [
      "Epoch 42 | train 453.0470 | val 741.4825 | R² 0.818\n"
     ]
    },
    {
     "name": "stderr",
     "output_type": "stream",
     "text": [
      " 22%|██▏       | 44/200 [09:11<32:36, 12.54s/it]"
     ]
    },
    {
     "name": "stdout",
     "output_type": "stream",
     "text": [
      "Epoch 43 | train 499.3554 | val 902.1584 | R² 0.778\n"
     ]
    },
    {
     "name": "stderr",
     "output_type": "stream",
     "text": [
      " 22%|██▎       | 45/200 [09:24<32:47, 12.69s/it]"
     ]
    },
    {
     "name": "stdout",
     "output_type": "stream",
     "text": [
      "Epoch 44 | train 550.9066 | val 464.5708 | R² 0.886\n"
     ]
    },
    {
     "name": "stderr",
     "output_type": "stream",
     "text": [
      " 23%|██▎       | 46/200 [09:37<33:17, 12.97s/it]"
     ]
    },
    {
     "name": "stdout",
     "output_type": "stream",
     "text": [
      "Epoch 45 | train 440.7199 | val 601.4083 | R² 0.852\n"
     ]
    },
    {
     "name": "stderr",
     "output_type": "stream",
     "text": [
      " 24%|██▎       | 47/200 [09:50<32:55, 12.91s/it]"
     ]
    },
    {
     "name": "stdout",
     "output_type": "stream",
     "text": [
      "Epoch 46 | train 417.4287 | val 331.6380 | R² 0.918\n"
     ]
    },
    {
     "name": "stderr",
     "output_type": "stream",
     "text": [
      " 24%|██▍       | 48/200 [10:04<33:00, 13.03s/it]"
     ]
    },
    {
     "name": "stdout",
     "output_type": "stream",
     "text": [
      "Epoch 47 | train 413.1614 | val 281.3213 | R² 0.931\n"
     ]
    },
    {
     "name": "stderr",
     "output_type": "stream",
     "text": [
      " 24%|██▍       | 49/200 [10:16<32:05, 12.75s/it]"
     ]
    },
    {
     "name": "stdout",
     "output_type": "stream",
     "text": [
      "Epoch 48 | train 468.7360 | val 413.7123 | R² 0.898\n"
     ]
    },
    {
     "name": "stderr",
     "output_type": "stream",
     "text": [
      " 25%|██▌       | 50/200 [10:27<30:57, 12.38s/it]"
     ]
    },
    {
     "name": "stdout",
     "output_type": "stream",
     "text": [
      "Epoch 49 | train 471.6431 | val 342.3599 | R² 0.916\n"
     ]
    },
    {
     "name": "stderr",
     "output_type": "stream",
     "text": [
      " 26%|██▌       | 51/200 [10:40<30:51, 12.43s/it]"
     ]
    },
    {
     "name": "stdout",
     "output_type": "stream",
     "text": [
      "Epoch 50 | train 392.3367 | val 220.0389 | R² 0.946\n"
     ]
    },
    {
     "name": "stderr",
     "output_type": "stream",
     "text": [
      " 26%|██▌       | 52/200 [10:53<31:22, 12.72s/it]"
     ]
    },
    {
     "name": "stdout",
     "output_type": "stream",
     "text": [
      "Epoch 51 | train 397.8274 | val 292.9623 | R² 0.928\n"
     ]
    },
    {
     "name": "stderr",
     "output_type": "stream",
     "text": [
      " 26%|██▋       | 53/200 [11:06<31:05, 12.69s/it]"
     ]
    },
    {
     "name": "stdout",
     "output_type": "stream",
     "text": [
      "Epoch 52 | train 363.1063 | val 256.3744 | R² 0.937\n"
     ]
    },
    {
     "name": "stderr",
     "output_type": "stream",
     "text": [
      " 27%|██▋       | 54/200 [11:18<30:40, 12.61s/it]"
     ]
    },
    {
     "name": "stdout",
     "output_type": "stream",
     "text": [
      "Epoch 53 | train 397.9300 | val 282.7463 | R² 0.930\n"
     ]
    },
    {
     "name": "stderr",
     "output_type": "stream",
     "text": [
      " 28%|██▊       | 55/200 [11:31<30:16, 12.53s/it]"
     ]
    },
    {
     "name": "stdout",
     "output_type": "stream",
     "text": [
      "Epoch 54 | train 363.0396 | val 299.0688 | R² 0.926\n"
     ]
    },
    {
     "name": "stderr",
     "output_type": "stream",
     "text": [
      " 28%|██▊       | 56/200 [11:43<29:40, 12.37s/it]"
     ]
    },
    {
     "name": "stdout",
     "output_type": "stream",
     "text": [
      "Epoch 55 | train 367.8605 | val 226.1412 | R² 0.944\n"
     ]
    },
    {
     "name": "stderr",
     "output_type": "stream",
     "text": [
      " 28%|██▊       | 57/200 [11:54<29:00, 12.17s/it]"
     ]
    },
    {
     "name": "stdout",
     "output_type": "stream",
     "text": [
      "Epoch 56 | train 384.6174 | val 219.1278 | R² 0.946\n"
     ]
    },
    {
     "name": "stderr",
     "output_type": "stream",
     "text": [
      " 29%|██▉       | 58/200 [12:07<29:25, 12.43s/it]"
     ]
    },
    {
     "name": "stdout",
     "output_type": "stream",
     "text": [
      "Epoch 57 | train 345.3100 | val 286.1805 | R² 0.930\n"
     ]
    },
    {
     "name": "stderr",
     "output_type": "stream",
     "text": [
      " 30%|██▉       | 59/200 [12:22<30:32, 13.00s/it]"
     ]
    },
    {
     "name": "stdout",
     "output_type": "stream",
     "text": [
      "Epoch 58 | train 359.8274 | val 268.4635 | R² 0.934\n"
     ]
    },
    {
     "name": "stderr",
     "output_type": "stream",
     "text": [
      " 30%|███       | 60/200 [12:35<30:18, 12.99s/it]"
     ]
    },
    {
     "name": "stdout",
     "output_type": "stream",
     "text": [
      "Epoch 59 | train 344.9809 | val 196.8056 | R² 0.952\n"
     ]
    },
    {
     "name": "stderr",
     "output_type": "stream",
     "text": [
      " 30%|███       | 61/200 [12:48<30:20, 13.10s/it]"
     ]
    },
    {
     "name": "stdout",
     "output_type": "stream",
     "text": [
      "Epoch 60 | train 396.3075 | val 186.2673 | R² 0.954\n"
     ]
    },
    {
     "name": "stderr",
     "output_type": "stream",
     "text": [
      " 31%|███       | 62/200 [13:00<29:19, 12.75s/it]"
     ]
    },
    {
     "name": "stdout",
     "output_type": "stream",
     "text": [
      "Epoch 61 | train 384.2726 | val 210.3650 | R² 0.948\n"
     ]
    },
    {
     "name": "stderr",
     "output_type": "stream",
     "text": [
      " 32%|███▏      | 63/200 [13:14<30:05, 13.18s/it]"
     ]
    },
    {
     "name": "stdout",
     "output_type": "stream",
     "text": [
      "Epoch 62 | train 361.1587 | val 369.2542 | R² 0.909\n"
     ]
    },
    {
     "name": "stderr",
     "output_type": "stream",
     "text": [
      " 32%|███▏      | 64/200 [13:28<30:09, 13.30s/it]"
     ]
    },
    {
     "name": "stdout",
     "output_type": "stream",
     "text": [
      "Epoch 63 | train 308.0573 | val 162.0458 | R² 0.960\n"
     ]
    },
    {
     "name": "stderr",
     "output_type": "stream",
     "text": [
      " 32%|███▎      | 65/200 [13:40<29:24, 13.07s/it]"
     ]
    },
    {
     "name": "stdout",
     "output_type": "stream",
     "text": [
      "Epoch 64 | train 325.1288 | val 234.0323 | R² 0.942\n"
     ]
    },
    {
     "name": "stderr",
     "output_type": "stream",
     "text": [
      " 33%|███▎      | 66/200 [13:51<28:02, 12.56s/it]"
     ]
    },
    {
     "name": "stdout",
     "output_type": "stream",
     "text": [
      "Epoch 65 | train 325.4499 | val 333.1339 | R² 0.918\n"
     ]
    },
    {
     "name": "stderr",
     "output_type": "stream",
     "text": [
      " 34%|███▎      | 67/200 [14:04<27:44, 12.52s/it]"
     ]
    },
    {
     "name": "stdout",
     "output_type": "stream",
     "text": [
      "Epoch 66 | train 339.9739 | val 232.6857 | R² 0.943\n"
     ]
    },
    {
     "name": "stderr",
     "output_type": "stream",
     "text": [
      " 34%|███▍      | 68/200 [14:18<28:51, 13.12s/it]"
     ]
    },
    {
     "name": "stdout",
     "output_type": "stream",
     "text": [
      "Epoch 67 | train 346.5404 | val 211.4615 | R² 0.948\n"
     ]
    },
    {
     "name": "stderr",
     "output_type": "stream",
     "text": [
      " 34%|███▍      | 69/200 [14:32<28:39, 13.13s/it]"
     ]
    },
    {
     "name": "stdout",
     "output_type": "stream",
     "text": [
      "Epoch 68 | train 289.1264 | val 377.8038 | R² 0.907\n"
     ]
    },
    {
     "name": "stderr",
     "output_type": "stream",
     "text": [
      " 35%|███▌      | 70/200 [14:45<28:56, 13.36s/it]"
     ]
    },
    {
     "name": "stdout",
     "output_type": "stream",
     "text": [
      "Epoch 69 | train 298.0420 | val 164.5072 | R² 0.960\n"
     ]
    },
    {
     "name": "stderr",
     "output_type": "stream",
     "text": [
      " 36%|███▌      | 71/200 [15:00<29:09, 13.56s/it]"
     ]
    },
    {
     "name": "stdout",
     "output_type": "stream",
     "text": [
      "Epoch 70 | train 304.0104 | val 308.2355 | R² 0.924\n"
     ]
    },
    {
     "name": "stderr",
     "output_type": "stream",
     "text": [
      " 36%|███▌      | 72/200 [15:14<29:16, 13.72s/it]"
     ]
    },
    {
     "name": "stdout",
     "output_type": "stream",
     "text": [
      "Epoch 71 | train 308.8591 | val 337.0444 | R² 0.917\n"
     ]
    },
    {
     "name": "stderr",
     "output_type": "stream",
     "text": [
      " 36%|███▋      | 73/200 [15:26<28:07, 13.28s/it]"
     ]
    },
    {
     "name": "stdout",
     "output_type": "stream",
     "text": [
      "Epoch 72 | train 327.7040 | val 328.9278 | R² 0.919\n"
     ]
    },
    {
     "name": "stderr",
     "output_type": "stream",
     "text": [
      " 36%|███▋      | 73/200 [15:40<27:15, 12.88s/it]"
     ]
    },
    {
     "name": "stdout",
     "output_type": "stream",
     "text": [
      "Epoch 73 | train 313.8606 | val 275.9366 | R² 0.932\n",
      "Early stopping triggered!\n"
     ]
    },
    {
     "name": "stderr",
     "output_type": "stream",
     "text": [
      "\n"
     ]
    }
   ],
   "source": [
    "\n",
    "# optimizer\n",
    "optimizer = torch.optim.Adam(model.parameters(), lr=3e-4)\n",
    "\n",
    "best_val, patience, wait = float('inf'), 10, 0   # stop if there is no improvement for 10 consecutive trials\n",
    "for epoch in tqdm(range(200)):\n",
    "    train_loss, _, _ = run_epoch(\n",
    "        train_batches, model, spatial_x,\n",
    "        edge_index, edge_weight,\n",
    "        optimizer=optimizer, batch_size=64)\n",
    "\n",
    "    val_loss, yv, pv = run_epoch(\n",
    "        val_batches,   model, spatial_x,\n",
    "        edge_index, edge_weight,\n",
    "        optimizer=None, batch_size=64, collect_pred=True)\n",
    "    r2 = 1 - np.sum((yv - pv)**2) / np.sum((yv - yv.mean())**2)\n",
    "    print(f\"Epoch {epoch:02d} | train {train_loss:.4f} | val {val_loss:.4f} | R² {r2:5.3f}\")\n",
    "\n",
    "    # ---- Early stopping ----\n",
    "    if val_loss < best_val - 1e-4:\n",
    "        best_val, wait = val_loss, 0\n",
    "        torch.save(model.state_dict(), \"best_gnn_4.pt\")\n",
    "    else:\n",
    "        wait += 1\n",
    "        if wait >= patience:\n",
    "            print(\"Early stopping triggered!\")\n",
    "            break"
   ]
  },
  {
   "cell_type": "code",
   "execution_count": null,
   "metadata": {
    "trusted": true
   },
   "outputs": [
    {
     "name": "stderr",
     "output_type": "stream",
     "text": [
      "/Users/yhk/miniforge3/envs/gnn_env/lib/python3.12/site-packages/tqdm/auto.py:21: TqdmWarning: IProgress not found. Please update jupyter and ipywidgets. See https://ipywidgets.readthedocs.io/en/stable/user_install.html\n",
      "  from .autonotebook import tqdm as notebook_tqdm\n",
      "[I 2025-06-01 22:25:47,693] A new study created in memory with name: no-name-55ff7644-f1d5-4079-bdb6-5cd91aa10d48\n"
     ]
    },
    {
     "name": "stdout",
     "output_type": "stream",
     "text": [
      "使用裝置: cpu\n",
      "Trial 0 params: 128, 0.2366351608948103, 0.0003521826323511964, 64, 8\n",
      "Trial 0 Epoch 0 start\n",
      "Trial 0 Epoch 0 end\n",
      "Trial 0 Epoch 1 start\n",
      "Trial 0 Epoch 1 end\n",
      "Trial 0 Epoch 2 start\n",
      "Trial 0 Epoch 2 end\n",
      "Trial 0 Epoch 3 start\n",
      "Trial 0 Epoch 3 end\n",
      "Trial 0 Epoch 4 start\n",
      "Trial 0 Epoch 4 end\n",
      "Trial 0 Epoch 5 start\n",
      "Trial 0 Epoch 5 end\n",
      "Trial 0 Epoch 6 start\n",
      "Trial 0 Epoch 6 end\n",
      "Trial 0 Epoch 7 start\n",
      "Trial 0 Epoch 7 end\n",
      "Trial 0 Epoch 8 start\n",
      "Trial 0 Epoch 8 end\n",
      "Trial 0 Epoch 9 start\n",
      "Trial 0 Epoch 9 end\n"
     ]
    },
    {
     "name": "stderr",
     "output_type": "stream",
     "text": [
      "[I 2025-06-01 22:28:46,118] Trial 0 finished with value: 478.1224738372816 and parameters: {'hidden_dim': 128, 'dropout': 0.2366351608948103, 'learning_rate': 0.0003521826323511964, 'batch_size': 64, 'k': 8}. Best is trial 0 with value: 478.1224738372816.\n"
     ]
    },
    {
     "name": "stdout",
     "output_type": "stream",
     "text": [
      "Trial 1 params: 256, 0.4423644918657752, 0.0036291877855355284, 8, 12\n",
      "Trial 1 Epoch 0 start\n",
      "Trial 1 Epoch 0 end\n",
      "Trial 1 Epoch 1 start\n",
      "Trial 1 Epoch 1 end\n",
      "Trial 1 Epoch 2 start\n",
      "Trial 1 Epoch 2 end\n",
      "Trial 1 Epoch 3 start\n",
      "Trial 1 Epoch 3 end\n",
      "Trial 1 Epoch 4 start\n",
      "Trial 1 Epoch 4 end\n",
      "Trial 1 Epoch 5 start\n",
      "Trial 1 Epoch 5 end\n",
      "Trial 1 Epoch 6 start\n",
      "Trial 1 Epoch 6 end\n",
      "Trial 1 Epoch 7 start\n",
      "Trial 1 Epoch 7 end\n",
      "Trial 1 Epoch 8 start\n",
      "Trial 1 Epoch 8 end\n",
      "Trial 1 Epoch 9 start\n",
      "Trial 1 Epoch 9 end\n"
     ]
    },
    {
     "name": "stderr",
     "output_type": "stream",
     "text": [
      "[I 2025-06-01 22:35:08,933] Trial 1 finished with value: 109.30080866466562 and parameters: {'hidden_dim': 256, 'dropout': 0.4423644918657752, 'learning_rate': 0.0036291877855355284, 'batch_size': 8, 'k': 12}. Best is trial 1 with value: 109.30080866466562.\n"
     ]
    },
    {
     "name": "stdout",
     "output_type": "stream",
     "text": [
      "Trial 2 params: 128, 0.22260073343341447, 0.0020871432549820607, 1024, 4\n",
      "Trial 2 Epoch 0 start\n",
      "Trial 2 Epoch 0 end\n",
      "Trial 2 Epoch 1 start\n",
      "Trial 2 Epoch 1 end\n",
      "Trial 2 Epoch 2 start\n",
      "Trial 2 Epoch 2 end\n",
      "Trial 2 Epoch 3 start\n",
      "Trial 2 Epoch 3 end\n",
      "Trial 2 Epoch 4 start\n",
      "Trial 2 Epoch 4 end\n",
      "Trial 2 Epoch 5 start\n",
      "Trial 2 Epoch 5 end\n",
      "Trial 2 Epoch 6 start\n",
      "Trial 2 Epoch 6 end\n",
      "Trial 2 Epoch 7 start\n",
      "Trial 2 Epoch 7 end\n",
      "Trial 2 Epoch 8 start\n",
      "Trial 2 Epoch 8 end\n",
      "Trial 2 Epoch 9 start\n",
      "Trial 2 Epoch 9 end\n"
     ]
    },
    {
     "name": "stderr",
     "output_type": "stream",
     "text": [
      "[I 2025-06-01 22:39:13,747] Trial 2 finished with value: 558.1448871875182 and parameters: {'hidden_dim': 128, 'dropout': 0.22260073343341447, 'learning_rate': 0.0020871432549820607, 'batch_size': 1024, 'k': 4}. Best is trial 1 with value: 109.30080866466562.\n"
     ]
    },
    {
     "name": "stdout",
     "output_type": "stream",
     "text": [
      "Trial 3 params: 64, 0.46051262681170324, 0.0003475160400376523, 1024, 10\n",
      "Trial 3 Epoch 0 start\n",
      "Trial 3 Epoch 0 end\n",
      "Trial 3 Epoch 1 start\n",
      "Trial 3 Epoch 1 end\n",
      "Trial 3 Epoch 2 start\n",
      "Trial 3 Epoch 2 end\n",
      "Trial 3 Epoch 3 start\n",
      "Trial 3 Epoch 3 end\n",
      "Trial 3 Epoch 4 start\n",
      "Trial 3 Epoch 4 end\n",
      "Trial 3 Epoch 5 start\n",
      "Trial 3 Epoch 5 end\n",
      "Trial 3 Epoch 6 start\n",
      "Trial 3 Epoch 6 end\n",
      "Trial 3 Epoch 7 start\n",
      "Trial 3 Epoch 7 end\n",
      "Trial 3 Epoch 8 start\n",
      "Trial 3 Epoch 8 end\n",
      "Trial 3 Epoch 9 start\n",
      "Trial 3 Epoch 9 end\n"
     ]
    },
    {
     "name": "stderr",
     "output_type": "stream",
     "text": [
      "[I 2025-06-01 22:43:18,668] Trial 3 finished with value: 3397.5142973145407 and parameters: {'hidden_dim': 64, 'dropout': 0.46051262681170324, 'learning_rate': 0.0003475160400376523, 'batch_size': 1024, 'k': 10}. Best is trial 1 with value: 109.30080866466562.\n"
     ]
    },
    {
     "name": "stdout",
     "output_type": "stream",
     "text": [
      "Trial 4 params: 256, 0.007910194943882787, 0.0006337070644261808, 64, 6\n",
      "Trial 4 Epoch 0 start\n",
      "Trial 4 Epoch 0 end\n",
      "Trial 4 Epoch 1 start\n",
      "Trial 4 Epoch 1 end\n",
      "Trial 4 Epoch 2 start\n",
      "Trial 4 Epoch 2 end\n",
      "Trial 4 Epoch 3 start\n",
      "Trial 4 Epoch 3 end\n",
      "Trial 4 Epoch 4 start\n",
      "Trial 4 Epoch 4 end\n",
      "Trial 4 Epoch 5 start\n",
      "Trial 4 Epoch 5 end\n",
      "Trial 4 Epoch 6 start\n",
      "Trial 4 Epoch 6 end\n",
      "Trial 4 Epoch 7 start\n",
      "Trial 4 Epoch 7 end\n",
      "Trial 4 Epoch 8 start\n",
      "Trial 4 Epoch 8 end\n",
      "Trial 4 Epoch 9 start\n",
      "Trial 4 Epoch 9 end\n"
     ]
    },
    {
     "name": "stderr",
     "output_type": "stream",
     "text": [
      "[I 2025-06-01 22:52:04,589] Trial 4 finished with value: 292.7007424163332 and parameters: {'hidden_dim': 256, 'dropout': 0.007910194943882787, 'learning_rate': 0.0006337070644261808, 'batch_size': 64, 'k': 6}. Best is trial 1 with value: 109.30080866466562.\n"
     ]
    },
    {
     "name": "stdout",
     "output_type": "stream",
     "text": [
      "Trial 5 params: 256, 0.08929844985423291, 0.0006828680202901697, 64, 4\n",
      "Trial 5 Epoch 0 start\n",
      "Trial 5 Epoch 0 end\n",
      "Trial 5 Epoch 1 start\n",
      "Trial 5 Epoch 1 end\n",
      "Trial 5 Epoch 2 start\n",
      "Trial 5 Epoch 2 end\n",
      "Trial 5 Epoch 3 start\n",
      "Trial 5 Epoch 3 end\n",
      "Trial 5 Epoch 4 start\n",
      "Trial 5 Epoch 4 end\n",
      "Trial 5 Epoch 5 start\n",
      "Trial 5 Epoch 5 end\n",
      "Trial 5 Epoch 6 start\n",
      "Trial 5 Epoch 6 end\n",
      "Trial 5 Epoch 7 start\n",
      "Trial 5 Epoch 7 end\n",
      "Trial 5 Epoch 8 start\n",
      "Trial 5 Epoch 8 end\n",
      "Trial 5 Epoch 9 start\n",
      "Trial 5 Epoch 9 end\n"
     ]
    },
    {
     "name": "stderr",
     "output_type": "stream",
     "text": [
      "[I 2025-06-01 22:59:32,287] Trial 5 finished with value: 183.24488086952198 and parameters: {'hidden_dim': 256, 'dropout': 0.08929844985423291, 'learning_rate': 0.0006828680202901697, 'batch_size': 64, 'k': 4}. Best is trial 1 with value: 109.30080866466562.\n"
     ]
    },
    {
     "name": "stdout",
     "output_type": "stream",
     "text": [
      "Trial 6 params: 64, 0.333100363765482, 0.0001731632035200915, 64, 8\n",
      "Trial 6 Epoch 0 start\n",
      "Trial 6 Epoch 0 end\n",
      "Trial 6 Epoch 1 start\n",
      "Trial 6 Epoch 1 end\n",
      "Trial 6 Epoch 2 start\n",
      "Trial 6 Epoch 2 end\n",
      "Trial 6 Epoch 3 start\n",
      "Trial 6 Epoch 3 end\n",
      "Trial 6 Epoch 4 start\n",
      "Trial 6 Epoch 4 end\n",
      "Trial 6 Epoch 5 start\n",
      "Trial 6 Epoch 5 end\n",
      "Trial 6 Epoch 6 start\n",
      "Trial 6 Epoch 6 end\n",
      "Trial 6 Epoch 7 start\n",
      "Trial 6 Epoch 7 end\n",
      "Trial 6 Epoch 8 start\n",
      "Trial 6 Epoch 8 end\n",
      "Trial 6 Epoch 9 start\n",
      "Trial 6 Epoch 9 end\n"
     ]
    },
    {
     "name": "stderr",
     "output_type": "stream",
     "text": [
      "[I 2025-06-01 23:03:38,377] Trial 6 finished with value: 589.4730024774831 and parameters: {'hidden_dim': 64, 'dropout': 0.333100363765482, 'learning_rate': 0.0001731632035200915, 'batch_size': 64, 'k': 8}. Best is trial 1 with value: 109.30080866466562.\n"
     ]
    },
    {
     "name": "stdout",
     "output_type": "stream",
     "text": [
      "Trial 7 params: 256, 0.44373062369577043, 0.00040861613289587973, 64, 12\n",
      "Trial 7 Epoch 0 start\n",
      "Trial 7 Epoch 0 end\n",
      "Trial 7 Epoch 1 start\n",
      "Trial 7 Epoch 1 end\n",
      "Trial 7 Epoch 2 start\n",
      "Trial 7 Epoch 2 end\n",
      "Trial 7 Epoch 3 start\n",
      "Trial 7 Epoch 3 end\n",
      "Trial 7 Epoch 4 start\n",
      "Trial 7 Epoch 4 end\n",
      "Trial 7 Epoch 5 start\n",
      "Trial 7 Epoch 5 end\n",
      "Trial 7 Epoch 6 start\n",
      "Trial 7 Epoch 6 end\n",
      "Trial 7 Epoch 7 start\n",
      "Trial 7 Epoch 7 end\n",
      "Trial 7 Epoch 8 start\n",
      "Trial 7 Epoch 8 end\n",
      "Trial 7 Epoch 9 start\n",
      "Trial 7 Epoch 9 end\n"
     ]
    },
    {
     "name": "stderr",
     "output_type": "stream",
     "text": [
      "[I 2025-06-01 23:11:43,016] Trial 7 finished with value: 324.9938756866937 and parameters: {'hidden_dim': 256, 'dropout': 0.44373062369577043, 'learning_rate': 0.00040861613289587973, 'batch_size': 64, 'k': 12}. Best is trial 1 with value: 109.30080866466562.\n"
     ]
    },
    {
     "name": "stdout",
     "output_type": "stream",
     "text": [
      "Trial 8 params: 256, 0.47795143211102076, 0.00015312757661108405, 8, 8\n",
      "Trial 8 Epoch 0 start\n",
      "Trial 8 Epoch 0 end\n",
      "Trial 8 Epoch 1 start\n",
      "Trial 8 Epoch 1 end\n",
      "Trial 8 Epoch 2 start\n",
      "Trial 8 Epoch 2 end\n",
      "Trial 8 Epoch 3 start\n",
      "Trial 8 Epoch 3 end\n",
      "Trial 8 Epoch 4 start\n",
      "Trial 8 Epoch 4 end\n",
      "Trial 8 Epoch 5 start\n",
      "Trial 8 Epoch 5 end\n",
      "Trial 8 Epoch 6 start\n",
      "Trial 8 Epoch 6 end\n",
      "Trial 8 Epoch 7 start\n",
      "Trial 8 Epoch 7 end\n",
      "Trial 8 Epoch 8 start\n",
      "Trial 8 Epoch 8 end\n",
      "Trial 8 Epoch 9 start\n",
      "Trial 8 Epoch 9 end\n"
     ]
    },
    {
     "name": "stderr",
     "output_type": "stream",
     "text": [
      "[I 2025-06-01 23:17:44,080] Trial 8 finished with value: 270.0272510191653 and parameters: {'hidden_dim': 256, 'dropout': 0.47795143211102076, 'learning_rate': 0.00015312757661108405, 'batch_size': 8, 'k': 8}. Best is trial 1 with value: 109.30080866466562.\n"
     ]
    },
    {
     "name": "stdout",
     "output_type": "stream",
     "text": [
      "Trial 9 params: 128, 0.08482557524015527, 0.00032644755858761394, 256, 10\n",
      "Trial 9 Epoch 0 start\n",
      "Trial 9 Epoch 0 end\n",
      "Trial 9 Epoch 1 start\n",
      "Trial 9 Epoch 1 end\n",
      "Trial 9 Epoch 2 start\n",
      "Trial 9 Epoch 2 end\n",
      "Trial 9 Epoch 3 start\n",
      "Trial 9 Epoch 3 end\n",
      "Trial 9 Epoch 4 start\n",
      "Trial 9 Epoch 4 end\n",
      "Trial 9 Epoch 5 start\n",
      "Trial 9 Epoch 5 end\n",
      "Trial 9 Epoch 6 start\n",
      "Trial 9 Epoch 6 end\n",
      "Trial 9 Epoch 7 start\n",
      "Trial 9 Epoch 7 end\n",
      "Trial 9 Epoch 8 start\n",
      "Trial 9 Epoch 8 end\n",
      "Trial 9 Epoch 9 start\n",
      "Trial 9 Epoch 9 end\n"
     ]
    },
    {
     "name": "stderr",
     "output_type": "stream",
     "text": [
      "[I 2025-06-01 23:22:31,436] Trial 9 finished with value: 529.030094376362 and parameters: {'hidden_dim': 128, 'dropout': 0.08482557524015527, 'learning_rate': 0.00032644755858761394, 'batch_size': 256, 'k': 10}. Best is trial 1 with value: 109.30080866466562.\n"
     ]
    },
    {
     "name": "stdout",
     "output_type": "stream",
     "text": [
      "Trial 10 params: 256, 0.3491763356234028, 0.009928413518508426, 8, 12\n",
      "Trial 10 Epoch 0 start\n",
      "Trial 10 Epoch 0 end\n",
      "Trial 10 Epoch 1 start\n",
      "Trial 10 Epoch 1 end\n",
      "Trial 10 Epoch 2 start\n",
      "Trial 10 Epoch 2 end\n",
      "Trial 10 Epoch 3 start\n",
      "Trial 10 Epoch 3 end\n",
      "Trial 10 Epoch 4 start\n",
      "Trial 10 Epoch 4 end\n",
      "Trial 10 Epoch 5 start\n",
      "Trial 10 Epoch 5 end\n",
      "Trial 10 Epoch 6 start\n",
      "Trial 10 Epoch 6 end\n",
      "Trial 10 Epoch 7 start\n",
      "Trial 10 Epoch 7 end\n",
      "Trial 10 Epoch 8 start\n",
      "Trial 10 Epoch 8 end\n",
      "Trial 10 Epoch 9 start\n",
      "Trial 10 Epoch 9 end\n"
     ]
    },
    {
     "name": "stderr",
     "output_type": "stream",
     "text": [
      "[I 2025-06-01 23:29:41,494] Trial 10 finished with value: 160.6209954844453 and parameters: {'hidden_dim': 256, 'dropout': 0.3491763356234028, 'learning_rate': 0.009928413518508426, 'batch_size': 8, 'k': 12}. Best is trial 1 with value: 109.30080866466562.\n"
     ]
    },
    {
     "name": "stdout",
     "output_type": "stream",
     "text": [
      "Trial 11 params: 256, 0.3546971429193309, 0.009454098414894588, 8, 12\n",
      "Trial 11 Epoch 0 start\n",
      "Trial 11 Epoch 0 end\n",
      "Trial 11 Epoch 1 start\n",
      "Trial 11 Epoch 1 end\n",
      "Trial 11 Epoch 2 start\n",
      "Trial 11 Epoch 2 end\n",
      "Trial 11 Epoch 3 start\n",
      "Trial 11 Epoch 3 end\n",
      "Trial 11 Epoch 4 start\n",
      "Trial 11 Epoch 4 end\n",
      "Trial 11 Epoch 5 start\n",
      "Trial 11 Epoch 5 end\n",
      "Trial 11 Epoch 6 start\n",
      "Trial 11 Epoch 6 end\n",
      "Trial 11 Epoch 7 start\n",
      "Trial 11 Epoch 7 end\n",
      "Trial 11 Epoch 8 start\n",
      "Trial 11 Epoch 8 end\n",
      "Trial 11 Epoch 9 start\n",
      "Trial 11 Epoch 9 end\n"
     ]
    },
    {
     "name": "stderr",
     "output_type": "stream",
     "text": [
      "[I 2025-06-01 23:36:03,690] Trial 11 finished with value: 369.42906702876036 and parameters: {'hidden_dim': 256, 'dropout': 0.3546971429193309, 'learning_rate': 0.009454098414894588, 'batch_size': 8, 'k': 12}. Best is trial 1 with value: 109.30080866466562.\n"
     ]
    },
    {
     "name": "stdout",
     "output_type": "stream",
     "text": [
      "Trial 12 params: 256, 0.35991271422117294, 0.00924474353499942, 512, 12\n",
      "Trial 12 Epoch 0 start\n",
      "Trial 12 Epoch 0 end\n",
      "Trial 12 Epoch 1 start\n",
      "Trial 12 Epoch 1 end\n",
      "Trial 12 Epoch 2 start\n",
      "Trial 12 Epoch 2 end\n",
      "Trial 12 Epoch 3 start\n",
      "Trial 12 Epoch 3 end\n",
      "Trial 12 Epoch 4 start\n",
      "Trial 12 Epoch 4 end\n",
      "Trial 12 Epoch 5 start\n",
      "Trial 12 Epoch 5 end\n",
      "Trial 12 Epoch 6 start\n",
      "Trial 12 Epoch 6 end\n",
      "Trial 12 Epoch 7 start\n",
      "Trial 12 Epoch 7 end\n",
      "Trial 12 Epoch 8 start\n",
      "Trial 12 Epoch 8 end\n",
      "Trial 12 Epoch 9 start\n",
      "Trial 12 Epoch 9 end\n"
     ]
    },
    {
     "name": "stderr",
     "output_type": "stream",
     "text": [
      "[I 2025-06-01 23:44:15,517] Trial 12 finished with value: 413.31341403796597 and parameters: {'hidden_dim': 256, 'dropout': 0.35991271422117294, 'learning_rate': 0.00924474353499942, 'batch_size': 512, 'k': 12}. Best is trial 1 with value: 109.30080866466562.\n"
     ]
    },
    {
     "name": "stdout",
     "output_type": "stream",
     "text": [
      "Trial 13 params: 256, 0.4019632290475871, 0.0035310026273022055, 8, 10\n",
      "Trial 13 Epoch 0 start\n",
      "Trial 13 Epoch 0 end\n",
      "Trial 13 Epoch 1 start\n",
      "Trial 13 Epoch 1 end\n",
      "Trial 13 Epoch 2 start\n",
      "Trial 13 Epoch 2 end\n",
      "Trial 13 Epoch 3 start\n",
      "Trial 13 Epoch 3 end\n",
      "Trial 13 Epoch 4 start\n",
      "Trial 13 Epoch 4 end\n",
      "Trial 13 Epoch 5 start\n",
      "Trial 13 Epoch 5 end\n",
      "Trial 13 Epoch 6 start\n",
      "Trial 13 Epoch 6 end\n",
      "Trial 13 Epoch 7 start\n",
      "Trial 13 Epoch 7 end\n",
      "Trial 13 Epoch 8 start\n",
      "Trial 13 Epoch 8 end\n",
      "Trial 13 Epoch 9 start\n",
      "Trial 13 Epoch 9 end\n"
     ]
    },
    {
     "name": "stderr",
     "output_type": "stream",
     "text": [
      "[I 2025-06-01 23:52:48,275] Trial 13 finished with value: 111.37260854783447 and parameters: {'hidden_dim': 256, 'dropout': 0.4019632290475871, 'learning_rate': 0.0035310026273022055, 'batch_size': 8, 'k': 10}. Best is trial 1 with value: 109.30080866466562.\n"
     ]
    },
    {
     "name": "stdout",
     "output_type": "stream",
     "text": [
      "Trial 14 params: 256, 0.4170134408312916, 0.0025668429951594004, 8, 10\n",
      "Trial 14 Epoch 0 start\n",
      "Trial 14 Epoch 0 end\n",
      "Trial 14 Epoch 1 start\n",
      "Trial 14 Epoch 1 end\n",
      "Trial 14 Epoch 2 start\n",
      "Trial 14 Epoch 2 end\n",
      "Trial 14 Epoch 3 start\n",
      "Trial 14 Epoch 3 end\n",
      "Trial 14 Epoch 4 start\n",
      "Trial 14 Epoch 4 end\n",
      "Trial 14 Epoch 5 start\n",
      "Trial 14 Epoch 5 end\n",
      "Trial 14 Epoch 6 start\n",
      "Trial 14 Epoch 6 end\n",
      "Trial 14 Epoch 7 start\n",
      "Trial 14 Epoch 7 end\n",
      "Trial 14 Epoch 8 start\n",
      "Trial 14 Epoch 8 end\n",
      "Trial 14 Epoch 9 start\n",
      "Trial 14 Epoch 9 end\n"
     ]
    },
    {
     "name": "stderr",
     "output_type": "stream",
     "text": [
      "[I 2025-06-02 00:00:50,907] Trial 14 finished with value: 98.51181403781062 and parameters: {'hidden_dim': 256, 'dropout': 0.4170134408312916, 'learning_rate': 0.0025668429951594004, 'batch_size': 8, 'k': 10}. Best is trial 14 with value: 98.51181403781062.\n"
     ]
    },
    {
     "name": "stdout",
     "output_type": "stream",
     "text": [
      "Trial 15 params: 64, 0.29013752057504955, 0.0025104268875080138, 8, 10\n",
      "Trial 15 Epoch 0 start\n",
      "Trial 15 Epoch 0 end\n",
      "Trial 15 Epoch 1 start\n",
      "Trial 15 Epoch 1 end\n",
      "Trial 15 Epoch 2 start\n",
      "Trial 15 Epoch 2 end\n",
      "Trial 15 Epoch 3 start\n",
      "Trial 15 Epoch 3 end\n",
      "Trial 15 Epoch 4 start\n",
      "Trial 15 Epoch 4 end\n",
      "Trial 15 Epoch 5 start\n",
      "Trial 15 Epoch 5 end\n",
      "Trial 15 Epoch 6 start\n",
      "Trial 15 Epoch 6 end\n",
      "Trial 15 Epoch 7 start\n",
      "Trial 15 Epoch 7 end\n",
      "Trial 15 Epoch 8 start\n",
      "Trial 15 Epoch 8 end\n",
      "Trial 15 Epoch 9 start\n",
      "Trial 15 Epoch 9 end\n"
     ]
    },
    {
     "name": "stderr",
     "output_type": "stream",
     "text": [
      "[I 2025-06-02 00:03:52,321] Trial 15 finished with value: 135.5605243639021 and parameters: {'hidden_dim': 64, 'dropout': 0.29013752057504955, 'learning_rate': 0.0025104268875080138, 'batch_size': 8, 'k': 10}. Best is trial 14 with value: 98.51181403781062.\n"
     ]
    },
    {
     "name": "stdout",
     "output_type": "stream",
     "text": [
      "Trial 16 params: 256, 0.4908112857712046, 0.0041234867026276765, 512, 10\n",
      "Trial 16 Epoch 0 start\n",
      "Trial 16 Epoch 0 end\n",
      "Trial 16 Epoch 1 start\n",
      "Trial 16 Epoch 1 end\n",
      "Trial 16 Epoch 2 start\n",
      "Trial 16 Epoch 2 end\n",
      "Trial 16 Epoch 3 start\n",
      "Trial 16 Epoch 3 end\n",
      "Trial 16 Epoch 4 start\n",
      "Trial 16 Epoch 4 end\n",
      "Trial 16 Epoch 5 start\n",
      "Trial 16 Epoch 5 end\n",
      "Trial 16 Epoch 6 start\n",
      "Trial 16 Epoch 6 end\n",
      "Trial 16 Epoch 7 start\n",
      "Trial 16 Epoch 7 end\n",
      "Trial 16 Epoch 8 start\n",
      "Trial 16 Epoch 8 end\n",
      "Trial 16 Epoch 9 start\n",
      "Trial 16 Epoch 9 end\n"
     ]
    },
    {
     "name": "stderr",
     "output_type": "stream",
     "text": [
      "[I 2025-06-02 00:15:23,418] Trial 16 finished with value: 295.70008368755543 and parameters: {'hidden_dim': 256, 'dropout': 0.4908112857712046, 'learning_rate': 0.0041234867026276765, 'batch_size': 512, 'k': 10}. Best is trial 14 with value: 98.51181403781062.\n"
     ]
    },
    {
     "name": "stdout",
     "output_type": "stream",
     "text": [
      "Trial 17 params: 256, 0.41494846269205726, 0.0015492849265619692, 256, 6\n",
      "Trial 17 Epoch 0 start\n",
      "Trial 17 Epoch 0 end\n",
      "Trial 17 Epoch 1 start\n",
      "Trial 17 Epoch 1 end\n",
      "Trial 17 Epoch 2 start\n",
      "Trial 17 Epoch 2 end\n",
      "Trial 17 Epoch 3 start\n",
      "Trial 17 Epoch 3 end\n",
      "Trial 17 Epoch 4 start\n",
      "Trial 17 Epoch 4 end\n",
      "Trial 17 Epoch 5 start\n",
      "Trial 17 Epoch 5 end\n",
      "Trial 17 Epoch 6 start\n",
      "Trial 17 Epoch 6 end\n",
      "Trial 17 Epoch 7 start\n",
      "Trial 17 Epoch 7 end\n",
      "Trial 17 Epoch 8 start\n",
      "Trial 17 Epoch 8 end\n",
      "Trial 17 Epoch 9 start\n",
      "Trial 17 Epoch 9 end\n"
     ]
    },
    {
     "name": "stderr",
     "output_type": "stream",
     "text": [
      "[I 2025-06-02 00:29:13,975] Trial 17 finished with value: 338.5340550349251 and parameters: {'hidden_dim': 256, 'dropout': 0.41494846269205726, 'learning_rate': 0.0015492849265619692, 'batch_size': 256, 'k': 6}. Best is trial 14 with value: 98.51181403781062.\n"
     ]
    },
    {
     "name": "stdout",
     "output_type": "stream",
     "text": [
      "Trial 18 params: 128, 0.18091725389561672, 0.005567003665363155, 8, 12\n",
      "Trial 18 Epoch 0 start\n",
      "Trial 18 Epoch 0 end\n",
      "Trial 18 Epoch 1 start\n",
      "Trial 18 Epoch 1 end\n",
      "Trial 18 Epoch 2 start\n",
      "Trial 18 Epoch 2 end\n",
      "Trial 18 Epoch 3 start\n",
      "Trial 18 Epoch 3 end\n",
      "Trial 18 Epoch 4 start\n",
      "Trial 18 Epoch 4 end\n",
      "Trial 18 Epoch 5 start\n",
      "Trial 18 Epoch 5 end\n",
      "Trial 18 Epoch 6 start\n",
      "Trial 18 Epoch 6 end\n",
      "Trial 18 Epoch 7 start\n",
      "Trial 18 Epoch 7 end\n",
      "Trial 18 Epoch 8 start\n",
      "Trial 18 Epoch 8 end\n",
      "Trial 18 Epoch 9 start\n",
      "Trial 18 Epoch 9 end\n"
     ]
    },
    {
     "name": "stderr",
     "output_type": "stream",
     "text": [
      "[I 2025-06-02 00:34:48,143] Trial 18 finished with value: 112.54180577910213 and parameters: {'hidden_dim': 128, 'dropout': 0.18091725389561672, 'learning_rate': 0.005567003665363155, 'batch_size': 8, 'k': 12}. Best is trial 14 with value: 98.51181403781062.\n"
     ]
    },
    {
     "name": "stdout",
     "output_type": "stream",
     "text": [
      "Trial 19 params: 64, 0.29867730753622146, 0.001456518794126008, 8, 8\n",
      "Trial 19 Epoch 0 start\n",
      "Trial 19 Epoch 0 end\n",
      "Trial 19 Epoch 1 start\n",
      "Trial 19 Epoch 1 end\n",
      "Trial 19 Epoch 2 start\n",
      "Trial 19 Epoch 2 end\n",
      "Trial 19 Epoch 3 start\n",
      "Trial 19 Epoch 3 end\n",
      "Trial 19 Epoch 4 start\n",
      "Trial 19 Epoch 4 end\n",
      "Trial 19 Epoch 5 start\n",
      "Trial 19 Epoch 5 end\n",
      "Trial 19 Epoch 6 start\n",
      "Trial 19 Epoch 6 end\n",
      "Trial 19 Epoch 7 start\n",
      "Trial 19 Epoch 7 end\n",
      "Trial 19 Epoch 8 start\n",
      "Trial 19 Epoch 8 end\n",
      "Trial 19 Epoch 9 start\n",
      "Trial 19 Epoch 9 end\n"
     ]
    },
    {
     "name": "stderr",
     "output_type": "stream",
     "text": [
      "[I 2025-06-02 00:38:49,963] Trial 19 finished with value: 130.36845093739385 and parameters: {'hidden_dim': 64, 'dropout': 0.29867730753622146, 'learning_rate': 0.001456518794126008, 'batch_size': 8, 'k': 8}. Best is trial 14 with value: 98.51181403781062.\n"
     ]
    },
    {
     "name": "stdout",
     "output_type": "stream",
     "text": [
      "Trial 20 params: 256, 0.40470940835652913, 0.0009739691632721773, 8, 10\n",
      "Trial 20 Epoch 0 start\n",
      "Trial 20 Epoch 0 end\n",
      "Trial 20 Epoch 1 start\n",
      "Trial 20 Epoch 1 end\n",
      "Trial 20 Epoch 2 start\n",
      "Trial 20 Epoch 2 end\n",
      "Trial 20 Epoch 3 start\n",
      "Trial 20 Epoch 3 end\n",
      "Trial 20 Epoch 4 start\n",
      "Trial 20 Epoch 4 end\n",
      "Trial 20 Epoch 5 start\n",
      "Trial 20 Epoch 5 end\n",
      "Trial 20 Epoch 6 start\n",
      "Trial 20 Epoch 6 end\n",
      "Trial 20 Epoch 7 start\n",
      "Trial 20 Epoch 7 end\n",
      "Trial 20 Epoch 8 start\n",
      "Trial 20 Epoch 8 end\n",
      "Trial 20 Epoch 9 start\n",
      "Trial 20 Epoch 9 end\n"
     ]
    },
    {
     "name": "stderr",
     "output_type": "stream",
     "text": [
      "[I 2025-06-02 00:46:31,409] Trial 20 finished with value: 113.62026004639067 and parameters: {'hidden_dim': 256, 'dropout': 0.40470940835652913, 'learning_rate': 0.0009739691632721773, 'batch_size': 8, 'k': 10}. Best is trial 14 with value: 98.51181403781062.\n"
     ]
    },
    {
     "name": "stdout",
     "output_type": "stream",
     "text": [
      "Trial 21 params: 256, 0.407909970348893, 0.003927124112799492, 8, 10\n",
      "Trial 21 Epoch 0 start\n",
      "Trial 21 Epoch 0 end\n",
      "Trial 21 Epoch 1 start\n",
      "Trial 21 Epoch 1 end\n",
      "Trial 21 Epoch 2 start\n",
      "Trial 21 Epoch 2 end\n",
      "Trial 21 Epoch 3 start\n",
      "Trial 21 Epoch 3 end\n",
      "Trial 21 Epoch 4 start\n",
      "Trial 21 Epoch 4 end\n",
      "Trial 21 Epoch 5 start\n",
      "Trial 21 Epoch 5 end\n",
      "Trial 21 Epoch 6 start\n",
      "Trial 21 Epoch 6 end\n",
      "Trial 21 Epoch 7 start\n",
      "Trial 21 Epoch 7 end\n",
      "Trial 21 Epoch 8 start\n",
      "Trial 21 Epoch 8 end\n",
      "Trial 21 Epoch 9 start\n",
      "Trial 21 Epoch 9 end\n"
     ]
    },
    {
     "name": "stderr",
     "output_type": "stream",
     "text": [
      "[I 2025-06-02 00:55:05,531] Trial 21 finished with value: 114.71525697672492 and parameters: {'hidden_dim': 256, 'dropout': 0.407909970348893, 'learning_rate': 0.003927124112799492, 'batch_size': 8, 'k': 10}. Best is trial 14 with value: 98.51181403781062.\n"
     ]
    },
    {
     "name": "stdout",
     "output_type": "stream",
     "text": [
      "Trial 22 params: 256, 0.4044152857951471, 0.00345156104161955, 8, 12\n",
      "Trial 22 Epoch 0 start\n",
      "Trial 22 Epoch 0 end\n",
      "Trial 22 Epoch 1 start\n",
      "Trial 22 Epoch 1 end\n",
      "Trial 22 Epoch 2 start\n",
      "Trial 22 Epoch 2 end\n",
      "Trial 22 Epoch 3 start\n",
      "Trial 22 Epoch 3 end\n",
      "Trial 22 Epoch 4 start\n",
      "Trial 22 Epoch 4 end\n",
      "Trial 22 Epoch 5 start\n",
      "Trial 22 Epoch 5 end\n",
      "Trial 22 Epoch 6 start\n",
      "Trial 22 Epoch 6 end\n",
      "Trial 22 Epoch 7 start\n",
      "Trial 22 Epoch 7 end\n",
      "Trial 22 Epoch 8 start\n",
      "Trial 22 Epoch 8 end\n",
      "Trial 22 Epoch 9 start\n",
      "Trial 22 Epoch 9 end\n"
     ]
    },
    {
     "name": "stderr",
     "output_type": "stream",
     "text": [
      "[I 2025-06-02 01:03:34,028] Trial 22 finished with value: 107.82913519967975 and parameters: {'hidden_dim': 256, 'dropout': 0.4044152857951471, 'learning_rate': 0.00345156104161955, 'batch_size': 8, 'k': 12}. Best is trial 14 with value: 98.51181403781062.\n"
     ]
    },
    {
     "name": "stdout",
     "output_type": "stream",
     "text": [
      "Trial 23 params: 256, 0.45694150629830976, 0.0056388843616049355, 8, 12\n",
      "Trial 23 Epoch 0 start\n",
      "Trial 23 Epoch 0 end\n",
      "Trial 23 Epoch 1 start\n",
      "Trial 23 Epoch 1 end\n",
      "Trial 23 Epoch 2 start\n",
      "Trial 23 Epoch 2 end\n",
      "Trial 23 Epoch 3 start\n",
      "Trial 23 Epoch 3 end\n",
      "Trial 23 Epoch 4 start\n",
      "Trial 23 Epoch 4 end\n",
      "Trial 23 Epoch 5 start\n",
      "Trial 23 Epoch 5 end\n",
      "Trial 23 Epoch 6 start\n",
      "Trial 23 Epoch 6 end\n",
      "Trial 23 Epoch 7 start\n",
      "Trial 23 Epoch 7 end\n",
      "Trial 23 Epoch 8 start\n",
      "Trial 23 Epoch 8 end\n",
      "Trial 23 Epoch 9 start\n",
      "Trial 23 Epoch 9 end\n"
     ]
    },
    {
     "name": "stderr",
     "output_type": "stream",
     "text": [
      "[I 2025-06-02 01:14:08,665] Trial 23 finished with value: 100.92858812983171 and parameters: {'hidden_dim': 256, 'dropout': 0.45694150629830976, 'learning_rate': 0.0056388843616049355, 'batch_size': 8, 'k': 12}. Best is trial 14 with value: 98.51181403781062.\n"
     ]
    },
    {
     "name": "stdout",
     "output_type": "stream",
     "text": [
      "Trial 24 params: 256, 0.4992323536774682, 0.005831743996938318, 8, 12\n",
      "Trial 24 Epoch 0 start\n",
      "Trial 24 Epoch 0 end\n",
      "Trial 24 Epoch 1 start\n",
      "Trial 24 Epoch 1 end\n",
      "Trial 24 Epoch 2 start\n",
      "Trial 24 Epoch 2 end\n",
      "Trial 24 Epoch 3 start\n",
      "Trial 24 Epoch 3 end\n",
      "Trial 24 Epoch 4 start\n",
      "Trial 24 Epoch 4 end\n",
      "Trial 24 Epoch 5 start\n",
      "Trial 24 Epoch 5 end\n",
      "Trial 24 Epoch 6 start\n",
      "Trial 24 Epoch 6 end\n",
      "Trial 24 Epoch 7 start\n",
      "Trial 24 Epoch 7 end\n",
      "Trial 24 Epoch 8 start\n",
      "Trial 24 Epoch 8 end\n",
      "Trial 24 Epoch 9 start\n",
      "Trial 24 Epoch 9 end\n"
     ]
    },
    {
     "name": "stderr",
     "output_type": "stream",
     "text": [
      "[I 2025-06-02 01:24:42,931] Trial 24 finished with value: 147.23475861111802 and parameters: {'hidden_dim': 256, 'dropout': 0.4992323536774682, 'learning_rate': 0.005831743996938318, 'batch_size': 8, 'k': 12}. Best is trial 14 with value: 98.51181403781062.\n"
     ]
    },
    {
     "name": "stdout",
     "output_type": "stream",
     "text": [
      "Trial 25 params: 256, 0.3856091392135485, 0.0060319302750906, 1024, 12\n",
      "Trial 25 Epoch 0 start\n",
      "Trial 25 Epoch 0 end\n",
      "Trial 25 Epoch 1 start\n",
      "Trial 25 Epoch 1 end\n",
      "Trial 25 Epoch 2 start\n",
      "Trial 25 Epoch 2 end\n",
      "Trial 25 Epoch 3 start\n",
      "Trial 25 Epoch 3 end\n",
      "Trial 25 Epoch 4 start\n",
      "Trial 25 Epoch 4 end\n",
      "Trial 25 Epoch 5 start\n",
      "Trial 25 Epoch 5 end\n",
      "Trial 25 Epoch 6 start\n",
      "Trial 25 Epoch 6 end\n",
      "Trial 25 Epoch 7 start\n",
      "Trial 25 Epoch 7 end\n",
      "Trial 25 Epoch 8 start\n",
      "Trial 25 Epoch 8 end\n",
      "Trial 25 Epoch 9 start\n",
      "Trial 25 Epoch 9 end\n"
     ]
    },
    {
     "name": "stderr",
     "output_type": "stream",
     "text": [
      "[I 2025-06-02 01:36:35,051] Trial 25 finished with value: 454.3688715437454 and parameters: {'hidden_dim': 256, 'dropout': 0.3856091392135485, 'learning_rate': 0.0060319302750906, 'batch_size': 1024, 'k': 12}. Best is trial 14 with value: 98.51181403781062.\n"
     ]
    },
    {
     "name": "stdout",
     "output_type": "stream",
     "text": [
      "Trial 26 params: 256, 0.29119339828658775, 0.0025850305054253083, 512, 10\n",
      "Trial 26 Epoch 0 start\n",
      "Trial 26 Epoch 0 end\n",
      "Trial 26 Epoch 1 start\n",
      "Trial 26 Epoch 1 end\n",
      "Trial 26 Epoch 2 start\n",
      "Trial 26 Epoch 2 end\n",
      "Trial 26 Epoch 3 start\n",
      "Trial 26 Epoch 3 end\n",
      "Trial 26 Epoch 4 start\n",
      "Trial 26 Epoch 4 end\n",
      "Trial 26 Epoch 5 start\n",
      "Trial 26 Epoch 5 end\n",
      "Trial 26 Epoch 6 start\n",
      "Trial 26 Epoch 6 end\n",
      "Trial 26 Epoch 7 start\n",
      "Trial 26 Epoch 7 end\n",
      "Trial 26 Epoch 8 start\n",
      "Trial 26 Epoch 8 end\n",
      "Trial 26 Epoch 9 start\n",
      "Trial 26 Epoch 9 end\n"
     ]
    },
    {
     "name": "stderr",
     "output_type": "stream",
     "text": [
      "[I 2025-06-02 01:50:51,026] Trial 26 finished with value: 357.3768674339407 and parameters: {'hidden_dim': 256, 'dropout': 0.29119339828658775, 'learning_rate': 0.0025850305054253083, 'batch_size': 512, 'k': 10}. Best is trial 14 with value: 98.51181403781062.\n"
     ]
    },
    {
     "name": "stdout",
     "output_type": "stream",
     "text": [
      "Trial 27 params: 256, 0.4387487974714176, 0.0017250499974080572, 256, 12\n",
      "Trial 27 Epoch 0 start\n",
      "Trial 27 Epoch 0 end\n",
      "Trial 27 Epoch 1 start\n",
      "Trial 27 Epoch 1 end\n",
      "Trial 27 Epoch 2 start\n",
      "Trial 27 Epoch 2 end\n",
      "Trial 27 Epoch 3 start\n",
      "Trial 27 Epoch 3 end\n",
      "Trial 27 Epoch 4 start\n",
      "Trial 27 Epoch 4 end\n",
      "Trial 27 Epoch 5 start\n",
      "Trial 27 Epoch 5 end\n",
      "Trial 27 Epoch 6 start\n",
      "Trial 27 Epoch 6 end\n",
      "Trial 27 Epoch 7 start\n",
      "Trial 27 Epoch 7 end\n",
      "Trial 27 Epoch 8 start\n",
      "Trial 27 Epoch 8 end\n",
      "Trial 27 Epoch 9 start\n",
      "Trial 27 Epoch 9 end\n"
     ]
    },
    {
     "name": "stderr",
     "output_type": "stream",
     "text": [
      "[I 2025-06-02 02:04:21,678] Trial 27 finished with value: 255.08180044246689 and parameters: {'hidden_dim': 256, 'dropout': 0.4387487974714176, 'learning_rate': 0.0017250499974080572, 'batch_size': 256, 'k': 12}. Best is trial 14 with value: 98.51181403781062.\n"
     ]
    },
    {
     "name": "stdout",
     "output_type": "stream",
     "text": [
      "Trial 28 params: 64, 0.3279347983560189, 0.0010417555214566805, 8, 12\n",
      "Trial 28 Epoch 0 start\n",
      "Trial 28 Epoch 0 end\n",
      "Trial 28 Epoch 1 start\n",
      "Trial 28 Epoch 1 end\n",
      "Trial 28 Epoch 2 start\n",
      "Trial 28 Epoch 2 end\n",
      "Trial 28 Epoch 3 start\n",
      "Trial 28 Epoch 3 end\n",
      "Trial 28 Epoch 4 start\n",
      "Trial 28 Epoch 4 end\n",
      "Trial 28 Epoch 5 start\n",
      "Trial 28 Epoch 5 end\n",
      "Trial 28 Epoch 6 start\n",
      "Trial 28 Epoch 6 end\n",
      "Trial 28 Epoch 7 start\n",
      "Trial 28 Epoch 7 end\n",
      "Trial 28 Epoch 8 start\n",
      "Trial 28 Epoch 8 end\n",
      "Trial 28 Epoch 9 start\n",
      "Trial 28 Epoch 9 end\n"
     ]
    },
    {
     "name": "stderr",
     "output_type": "stream",
     "text": [
      "[I 2025-06-02 02:10:19,052] Trial 28 finished with value: 127.69209948176895 and parameters: {'hidden_dim': 64, 'dropout': 0.3279347983560189, 'learning_rate': 0.0010417555214566805, 'batch_size': 8, 'k': 12}. Best is trial 14 with value: 98.51181403781062.\n"
     ]
    },
    {
     "name": "stdout",
     "output_type": "stream",
     "text": [
      "Trial 29 params: 128, 0.24876242376318541, 0.002720945829761053, 8, 10\n",
      "Trial 29 Epoch 0 start\n",
      "Trial 29 Epoch 0 end\n",
      "Trial 29 Epoch 1 start\n",
      "Trial 29 Epoch 1 end\n",
      "Trial 29 Epoch 2 start\n",
      "Trial 29 Epoch 2 end\n",
      "Trial 29 Epoch 3 start\n",
      "Trial 29 Epoch 3 end\n",
      "Trial 29 Epoch 4 start\n",
      "Trial 29 Epoch 4 end\n",
      "Trial 29 Epoch 5 start\n",
      "Trial 29 Epoch 5 end\n",
      "Trial 29 Epoch 6 start\n",
      "Trial 29 Epoch 6 end\n",
      "Trial 29 Epoch 7 start\n",
      "Trial 29 Epoch 7 end\n",
      "Trial 29 Epoch 8 start\n",
      "Trial 29 Epoch 8 end\n",
      "Trial 29 Epoch 9 start\n",
      "Trial 29 Epoch 9 end\n"
     ]
    },
    {
     "name": "stderr",
     "output_type": "stream",
     "text": [
      "[I 2025-06-02 02:13:38,228] Trial 29 finished with value: 105.4576534043124 and parameters: {'hidden_dim': 128, 'dropout': 0.24876242376318541, 'learning_rate': 0.002720945829761053, 'batch_size': 8, 'k': 10}. Best is trial 14 with value: 98.51181403781062.\n"
     ]
    },
    {
     "name": "stdout",
     "output_type": "stream",
     "text": [
      "Best params: {'hidden_dim': 256, 'dropout': 0.4170134408312916, 'learning_rate': 0.0025668429951594004, 'batch_size': 8, 'k': 10}\n",
      "Best value: 98.51181403781062\n"
     ]
    }
   ],
   "source": [
    "import optuna\n",
    "# expand the search space in Optuna\n",
    "def objective(trial):\n",
    "    hidden_dim = trial.suggest_categorical('hidden_dim', [64, 128, 256])\n",
    "    dropout = trial.suggest_float('dropout', 0.0, 0.5)\n",
    "    learning_rate = trial.suggest_float('learning_rate', 1e-4, 1e-2, log=True)\n",
    "    batch_size = trial.suggest_categorical('batch_size', [8,64,256, 512, 1024])\n",
    "    k = trial.suggest_int('k', 4, 12, step=2)\n",
    "    activation = torch.nn.ReLU()\n",
    "    # reconstruct spatial graph\n",
    "    edge_index, edge_weight = build_spatial_graph(spatial_df, k=k)\n",
    "    edge_index = edge_index.to(device)\n",
    "    edge_weight = edge_weight.to(device)\n",
    "    model = SpatioTemporalGNN(\n",
    "        spatial_features=len(spatial_cols),\n",
    "        temporal_features=len(temporal_cols),\n",
    "        hidden_dim=hidden_dim,\n",
    "        dropout=dropout,\n",
    "        activation=activation\n",
    "    ).to(device)\n",
    "    optimizer = torch.optim.Adam(model.parameters(), lr=learning_rate)\n",
    "    print(f\"Trial {trial.number} params: {hidden_dim}, {dropout}, {learning_rate}, {batch_size}, {k}\")\n",
    "    for epoch in range(10):\n",
    "        print(f\"Trial {trial.number} Epoch {epoch} start\")\n",
    "        run_epoch(train_batches, model, spatial_x, edge_index, edge_weight, optimizer, batch_size=batch_size)\n",
    "        print(f\"Trial {trial.number} Epoch {epoch} end\")\n",
    "    val_loss, yv, pv = run_epoch(val_batches, model, spatial_x, edge_index, edge_weight, optimizer=None, batch_size=batch_size, collect_pred=True)\n",
    "    r2 = 1 - np.sum((yv - pv)**2) / np.sum((yv - yv.mean())**2)\n",
    "    return val_loss\n",
    "\n",
    "device = torch.device('cpu')\n",
    "print('使用裝置:', device)\n",
    "\n",
    "study = optuna.create_study(direction='minimize')\n",
    "study.optimize(objective, n_trials=30)\n",
    "\n",
    "print('Best params:', study.best_params)\n",
    "print('Best value:', study.best_value)"
   ]
  },
  {
   "cell_type": "code",
   "execution_count": 33,
   "metadata": {
    "trusted": true
   },
   "outputs": [
    {
     "name": "stderr",
     "output_type": "stream",
     "text": [
      "  0%|          | 1/200 [00:46<2:34:52, 46.70s/it]"
     ]
    },
    {
     "name": "stdout",
     "output_type": "stream",
     "text": [
      "Epoch:  0 Val loss: 376.3598072260268 R square: 0.90740496\n"
     ]
    },
    {
     "name": "stderr",
     "output_type": "stream",
     "text": [
      "  1%|          | 2/200 [01:40<2:48:10, 50.96s/it]"
     ]
    },
    {
     "name": "stdout",
     "output_type": "stream",
     "text": [
      "Epoch:  1 Val loss: 208.58705046421736 R square: 0.9486817\n"
     ]
    },
    {
     "name": "stderr",
     "output_type": "stream",
     "text": [
      "  2%|▏         | 3/200 [02:40<3:00:46, 55.06s/it]"
     ]
    },
    {
     "name": "stdout",
     "output_type": "stream",
     "text": [
      "Epoch:  2 Val loss: 171.9377122613662 R square: 0.9576985\n"
     ]
    },
    {
     "name": "stderr",
     "output_type": "stream",
     "text": [
      "  2%|▏         | 4/200 [03:39<3:05:13, 56.70s/it]"
     ]
    },
    {
     "name": "stdout",
     "output_type": "stream",
     "text": [
      "Epoch:  3 Val loss: 144.07046915523213 R square: 0.9645546\n"
     ]
    },
    {
     "name": "stderr",
     "output_type": "stream",
     "text": [
      "  2%|▎         | 5/200 [04:39<3:07:12, 57.60s/it]"
     ]
    },
    {
     "name": "stdout",
     "output_type": "stream",
     "text": [
      "Epoch:  4 Val loss: 134.3823788822015 R square: 0.9669382\n"
     ]
    },
    {
     "name": "stderr",
     "output_type": "stream",
     "text": [
      "  3%|▎         | 6/200 [05:39<3:09:49, 58.71s/it]"
     ]
    },
    {
     "name": "stdout",
     "output_type": "stream",
     "text": [
      "Epoch:  5 Val loss: 119.62359728833677 R square: 0.97056925\n"
     ]
    },
    {
     "name": "stderr",
     "output_type": "stream",
     "text": [
      "  4%|▎         | 7/200 [06:42<3:13:05, 60.03s/it]"
     ]
    },
    {
     "name": "stdout",
     "output_type": "stream",
     "text": [
      "Epoch:  6 Val loss: 131.48798910741215 R square: 0.9676503\n"
     ]
    },
    {
     "name": "stderr",
     "output_type": "stream",
     "text": [
      "  4%|▍         | 8/200 [07:42<3:12:12, 60.07s/it]"
     ]
    },
    {
     "name": "stdout",
     "output_type": "stream",
     "text": [
      "Epoch:  7 Val loss: 100.5445490258375 R square: 0.97526324\n"
     ]
    },
    {
     "name": "stderr",
     "output_type": "stream",
     "text": [
      "  4%|▍         | 9/200 [08:46<3:14:24, 61.07s/it]"
     ]
    },
    {
     "name": "stdout",
     "output_type": "stream",
     "text": [
      "Epoch:  8 Val loss: 102.47195906948346 R square: 0.974789\n"
     ]
    },
    {
     "name": "stderr",
     "output_type": "stream",
     "text": [
      "  5%|▌         | 10/200 [09:53<3:20:05, 63.19s/it]"
     ]
    },
    {
     "name": "stdout",
     "output_type": "stream",
     "text": [
      "Epoch:  9 Val loss: 95.78979534871196 R square: 0.97643304\n"
     ]
    },
    {
     "name": "stderr",
     "output_type": "stream",
     "text": [
      "  6%|▌         | 11/200 [11:01<3:22:50, 64.40s/it]"
     ]
    },
    {
     "name": "stdout",
     "output_type": "stream",
     "text": [
      "Epoch:  10 Val loss: 98.18292116823892 R square: 0.97584426\n"
     ]
    },
    {
     "name": "stderr",
     "output_type": "stream",
     "text": [
      "  6%|▌         | 12/200 [12:08<3:24:49, 65.37s/it]"
     ]
    },
    {
     "name": "stdout",
     "output_type": "stream",
     "text": [
      "Epoch:  11 Val loss: 111.07063147465136 R square: 0.97267354\n"
     ]
    },
    {
     "name": "stderr",
     "output_type": "stream",
     "text": [
      "  6%|▋         | 13/200 [13:17<3:26:33, 66.28s/it]"
     ]
    },
    {
     "name": "stdout",
     "output_type": "stream",
     "text": [
      "Epoch:  12 Val loss: 102.13826235427179 R square: 0.9748711\n"
     ]
    },
    {
     "name": "stderr",
     "output_type": "stream",
     "text": [
      "  7%|▋         | 14/200 [14:26<3:28:31, 67.26s/it]"
     ]
    },
    {
     "name": "stdout",
     "output_type": "stream",
     "text": [
      "Epoch:  13 Val loss: 96.63633549491661 R square: 0.9762248\n"
     ]
    },
    {
     "name": "stderr",
     "output_type": "stream",
     "text": [
      "  8%|▊         | 15/200 [15:34<3:27:32, 67.31s/it]"
     ]
    },
    {
     "name": "stdout",
     "output_type": "stream",
     "text": [
      "Epoch:  14 Val loss: 91.54825185060321 R square: 0.9774766\n"
     ]
    },
    {
     "name": "stderr",
     "output_type": "stream",
     "text": [
      "  8%|▊         | 16/200 [16:39<3:24:55, 66.83s/it]"
     ]
    },
    {
     "name": "stdout",
     "output_type": "stream",
     "text": [
      "Epoch:  15 Val loss: 100.19777231081227 R square: 0.97534853\n"
     ]
    },
    {
     "name": "stderr",
     "output_type": "stream",
     "text": [
      "  8%|▊         | 17/200 [17:51<3:28:00, 68.20s/it]"
     ]
    },
    {
     "name": "stdout",
     "output_type": "stream",
     "text": [
      "Epoch:  16 Val loss: 90.01668128997945 R square: 0.97785336\n"
     ]
    },
    {
     "name": "stderr",
     "output_type": "stream",
     "text": [
      "  9%|▉         | 18/200 [19:00<3:28:14, 68.65s/it]"
     ]
    },
    {
     "name": "stdout",
     "output_type": "stream",
     "text": [
      "Epoch:  17 Val loss: 93.37302692087798 R square: 0.9770276\n"
     ]
    },
    {
     "name": "stderr",
     "output_type": "stream",
     "text": [
      " 10%|▉         | 19/200 [20:06<3:24:25, 67.77s/it]"
     ]
    },
    {
     "name": "stdout",
     "output_type": "stream",
     "text": [
      "Epoch:  18 Val loss: 111.39668428843828 R square: 0.9725933\n"
     ]
    },
    {
     "name": "stderr",
     "output_type": "stream",
     "text": [
      " 10%|█         | 20/200 [21:14<3:23:45, 67.92s/it]"
     ]
    },
    {
     "name": "stdout",
     "output_type": "stream",
     "text": [
      "Epoch:  19 Val loss: 89.67240452057803 R square: 0.97793806\n"
     ]
    },
    {
     "name": "stderr",
     "output_type": "stream",
     "text": [
      " 10%|█         | 21/200 [22:24<3:24:20, 68.49s/it]"
     ]
    },
    {
     "name": "stdout",
     "output_type": "stream",
     "text": [
      "Epoch:  20 Val loss: 95.44567714418288 R square: 0.9765177\n"
     ]
    },
    {
     "name": "stderr",
     "output_type": "stream",
     "text": [
      " 11%|█         | 22/200 [23:34<3:23:59, 68.76s/it]"
     ]
    },
    {
     "name": "stdout",
     "output_type": "stream",
     "text": [
      "Epoch:  21 Val loss: 93.29162381304532 R square: 0.9770476\n"
     ]
    },
    {
     "name": "stderr",
     "output_type": "stream",
     "text": [
      " 12%|█▏        | 23/200 [24:41<3:21:48, 68.41s/it]"
     ]
    },
    {
     "name": "stdout",
     "output_type": "stream",
     "text": [
      "Epoch:  22 Val loss: 96.80263389232063 R square: 0.97618383\n"
     ]
    },
    {
     "name": "stderr",
     "output_type": "stream",
     "text": [
      " 12%|█▏        | 24/200 [25:48<3:19:16, 67.93s/it]"
     ]
    },
    {
     "name": "stdout",
     "output_type": "stream",
     "text": [
      "Epoch:  23 Val loss: 97.63878821740329 R square: 0.97597814\n"
     ]
    },
    {
     "name": "stderr",
     "output_type": "stream",
     "text": [
      " 12%|█▎        | 25/200 [26:54<3:16:25, 67.35s/it]"
     ]
    },
    {
     "name": "stdout",
     "output_type": "stream",
     "text": [
      "Epoch:  24 Val loss: 92.84095179446626 R square: 0.97715855\n"
     ]
    },
    {
     "name": "stderr",
     "output_type": "stream",
     "text": [
      " 13%|█▎        | 26/200 [28:02<3:15:56, 67.56s/it]"
     ]
    },
    {
     "name": "stdout",
     "output_type": "stream",
     "text": [
      "Epoch:  25 Val loss: 100.74948863718751 R square: 0.9752128\n"
     ]
    },
    {
     "name": "stderr",
     "output_type": "stream",
     "text": [
      " 14%|█▎        | 27/200 [29:09<3:14:08, 67.33s/it]"
     ]
    },
    {
     "name": "stdout",
     "output_type": "stream",
     "text": [
      "Epoch:  26 Val loss: 92.71688703267543 R square: 0.97718906\n"
     ]
    },
    {
     "name": "stderr",
     "output_type": "stream",
     "text": [
      " 14%|█▍        | 28/200 [30:16<3:13:13, 67.40s/it]"
     ]
    },
    {
     "name": "stdout",
     "output_type": "stream",
     "text": [
      "Epoch:  27 Val loss: 92.27639142212914 R square: 0.9772974\n"
     ]
    },
    {
     "name": "stderr",
     "output_type": "stream",
     "text": [
      " 14%|█▍        | 29/200 [31:24<3:12:18, 67.48s/it]"
     ]
    },
    {
     "name": "stdout",
     "output_type": "stream",
     "text": [
      "Epoch:  28 Val loss: 85.32420389364637 R square: 0.97900784\n"
     ]
    },
    {
     "name": "stderr",
     "output_type": "stream",
     "text": [
      " 15%|█▌        | 30/200 [32:31<3:10:46, 67.33s/it]"
     ]
    },
    {
     "name": "stdout",
     "output_type": "stream",
     "text": [
      "Epoch:  29 Val loss: 87.49435927880592 R square: 0.97847396\n"
     ]
    },
    {
     "name": "stderr",
     "output_type": "stream",
     "text": [
      " 16%|█▌        | 31/200 [33:38<3:09:43, 67.36s/it]"
     ]
    },
    {
     "name": "stdout",
     "output_type": "stream",
     "text": [
      "Epoch:  30 Val loss: 92.32985960066121 R square: 0.97728425\n"
     ]
    },
    {
     "name": "stderr",
     "output_type": "stream",
     "text": [
      " 16%|█▌        | 32/200 [34:47<3:09:43, 67.76s/it]"
     ]
    },
    {
     "name": "stdout",
     "output_type": "stream",
     "text": [
      "Epoch:  31 Val loss: 101.14460190668838 R square: 0.9751156\n"
     ]
    },
    {
     "name": "stderr",
     "output_type": "stream",
     "text": [
      " 16%|█▋        | 33/200 [35:55<3:08:38, 67.78s/it]"
     ]
    },
    {
     "name": "stdout",
     "output_type": "stream",
     "text": [
      "Epoch:  32 Val loss: 84.67918953703588 R square: 0.97916657\n"
     ]
    },
    {
     "name": "stderr",
     "output_type": "stream",
     "text": [
      " 17%|█▋        | 34/200 [37:01<3:05:57, 67.21s/it]"
     ]
    },
    {
     "name": "stdout",
     "output_type": "stream",
     "text": [
      "Epoch:  33 Val loss: 84.95832977298714 R square: 0.97909784\n"
     ]
    },
    {
     "name": "stderr",
     "output_type": "stream",
     "text": [
      " 18%|█▊        | 35/200 [37:42<2:43:39, 59.51s/it]"
     ]
    },
    {
     "name": "stdout",
     "output_type": "stream",
     "text": [
      "Epoch:  34 Val loss: 82.85434617284794 R square: 0.9796155\n"
     ]
    },
    {
     "name": "stderr",
     "output_type": "stream",
     "text": [
      " 18%|█▊        | 36/200 [38:23<2:27:20, 53.91s/it]"
     ]
    },
    {
     "name": "stdout",
     "output_type": "stream",
     "text": [
      "Epoch:  35 Val loss: 99.82570422352863 R square: 0.9754401\n"
     ]
    },
    {
     "name": "stderr",
     "output_type": "stream",
     "text": [
      " 18%|█▊        | 37/200 [39:05<2:16:43, 50.33s/it]"
     ]
    },
    {
     "name": "stdout",
     "output_type": "stream",
     "text": [
      "Epoch:  36 Val loss: 94.21895727688153 R square: 0.9768195\n"
     ]
    },
    {
     "name": "stderr",
     "output_type": "stream",
     "text": [
      " 19%|█▉        | 38/200 [39:47<2:08:54, 47.75s/it]"
     ]
    },
    {
     "name": "stdout",
     "output_type": "stream",
     "text": [
      "Epoch:  37 Val loss: 87.98999322627955 R square: 0.978352\n"
     ]
    },
    {
     "name": "stderr",
     "output_type": "stream",
     "text": [
      " 20%|█▉        | 39/200 [40:29<2:03:55, 46.19s/it]"
     ]
    },
    {
     "name": "stdout",
     "output_type": "stream",
     "text": [
      "Epoch:  38 Val loss: 87.71558624401344 R square: 0.97841954\n"
     ]
    },
    {
     "name": "stderr",
     "output_type": "stream",
     "text": [
      " 20%|██        | 40/200 [41:12<2:00:02, 45.02s/it]"
     ]
    },
    {
     "name": "stdout",
     "output_type": "stream",
     "text": [
      "Epoch:  39 Val loss: 91.17900452850141 R square: 0.97756743\n"
     ]
    },
    {
     "name": "stderr",
     "output_type": "stream",
     "text": [
      " 20%|██        | 41/200 [41:55<1:58:00, 44.53s/it]"
     ]
    },
    {
     "name": "stdout",
     "output_type": "stream",
     "text": [
      "Epoch:  40 Val loss: 92.1528811680732 R square: 0.9773278\n"
     ]
    },
    {
     "name": "stderr",
     "output_type": "stream",
     "text": [
      " 21%|██        | 42/200 [42:38<1:56:01, 44.06s/it]"
     ]
    },
    {
     "name": "stdout",
     "output_type": "stream",
     "text": [
      "Epoch:  41 Val loss: 92.01312900312378 R square: 0.9773622\n"
     ]
    },
    {
     "name": "stderr",
     "output_type": "stream",
     "text": [
      " 22%|██▏       | 43/200 [43:20<1:54:00, 43.57s/it]"
     ]
    },
    {
     "name": "stdout",
     "output_type": "stream",
     "text": [
      "Epoch:  42 Val loss: 81.21910969206502 R square: 0.98001784\n"
     ]
    },
    {
     "name": "stderr",
     "output_type": "stream",
     "text": [
      " 22%|██▏       | 44/200 [44:03<1:52:21, 43.22s/it]"
     ]
    },
    {
     "name": "stdout",
     "output_type": "stream",
     "text": [
      "Epoch:  43 Val loss: 101.3738220109146 R square: 0.9750592\n"
     ]
    },
    {
     "name": "stderr",
     "output_type": "stream",
     "text": [
      " 22%|██▎       | 45/200 [44:44<1:50:17, 42.69s/it]"
     ]
    },
    {
     "name": "stdout",
     "output_type": "stream",
     "text": [
      "Epoch:  44 Val loss: 88.39661379358381 R square: 0.97825193\n"
     ]
    },
    {
     "name": "stderr",
     "output_type": "stream",
     "text": [
      " 23%|██▎       | 46/200 [45:26<1:48:51, 42.41s/it]"
     ]
    },
    {
     "name": "stdout",
     "output_type": "stream",
     "text": [
      "Epoch:  45 Val loss: 88.60846481368125 R square: 0.97819984\n"
     ]
    },
    {
     "name": "stderr",
     "output_type": "stream",
     "text": [
      " 24%|██▎       | 47/200 [46:08<1:47:59, 42.35s/it]"
     ]
    },
    {
     "name": "stdout",
     "output_type": "stream",
     "text": [
      "Epoch:  46 Val loss: 85.23132284468294 R square: 0.9790307\n"
     ]
    },
    {
     "name": "stderr",
     "output_type": "stream",
     "text": [
      " 24%|██▍       | 48/200 [46:50<1:46:45, 42.14s/it]"
     ]
    },
    {
     "name": "stdout",
     "output_type": "stream",
     "text": [
      "Epoch:  47 Val loss: 91.39435342689146 R square: 0.97751445\n"
     ]
    },
    {
     "name": "stderr",
     "output_type": "stream",
     "text": [
      " 24%|██▍       | 49/200 [47:31<1:44:56, 41.70s/it]"
     ]
    },
    {
     "name": "stdout",
     "output_type": "stream",
     "text": [
      "Epoch:  48 Val loss: 89.39030301523776 R square: 0.9780075\n"
     ]
    },
    {
     "name": "stderr",
     "output_type": "stream",
     "text": [
      " 25%|██▌       | 50/200 [48:11<1:43:10, 41.27s/it]"
     ]
    },
    {
     "name": "stdout",
     "output_type": "stream",
     "text": [
      "Epoch:  49 Val loss: 89.45660420265853 R square: 0.97799116\n"
     ]
    },
    {
     "name": "stderr",
     "output_type": "stream",
     "text": [
      " 26%|██▌       | 51/200 [48:54<1:43:33, 41.70s/it]"
     ]
    },
    {
     "name": "stdout",
     "output_type": "stream",
     "text": [
      "Epoch:  50 Val loss: 85.71794241638494 R square: 0.978911\n"
     ]
    },
    {
     "name": "stderr",
     "output_type": "stream",
     "text": [
      " 26%|██▌       | 52/200 [49:35<1:42:38, 41.61s/it]"
     ]
    },
    {
     "name": "stdout",
     "output_type": "stream",
     "text": [
      "Epoch:  51 Val loss: 86.65594060591654 R square: 0.9786802\n"
     ]
    },
    {
     "name": "stderr",
     "output_type": "stream",
     "text": [
      " 26%|██▋       | 53/200 [50:18<1:42:44, 41.93s/it]"
     ]
    },
    {
     "name": "stdout",
     "output_type": "stream",
     "text": [
      "Epoch:  52 Val loss: 90.50726653709596 R square: 0.97773266\n"
     ]
    },
    {
     "name": "stderr",
     "output_type": "stream",
     "text": [
      " 27%|██▋       | 54/200 [51:00<1:42:11, 42.00s/it]"
     ]
    },
    {
     "name": "stdout",
     "output_type": "stream",
     "text": [
      "Epoch:  53 Val loss: 84.90760561799324 R square: 0.97911036\n"
     ]
    },
    {
     "name": "stderr",
     "output_type": "stream",
     "text": [
      " 28%|██▊       | 55/200 [51:42<1:41:35, 42.04s/it]"
     ]
    },
    {
     "name": "stdout",
     "output_type": "stream",
     "text": [
      "Epoch:  54 Val loss: 85.65443027469819 R square: 0.9789266\n"
     ]
    },
    {
     "name": "stderr",
     "output_type": "stream",
     "text": [
      " 28%|██▊       | 56/200 [52:24<1:41:11, 42.17s/it]"
     ]
    },
    {
     "name": "stdout",
     "output_type": "stream",
     "text": [
      "Epoch:  55 Val loss: 86.39426907905367 R square: 0.97874457\n"
     ]
    },
    {
     "name": "stderr",
     "output_type": "stream",
     "text": [
      " 28%|██▊       | 57/200 [53:08<1:41:14, 42.48s/it]"
     ]
    },
    {
     "name": "stdout",
     "output_type": "stream",
     "text": [
      "Epoch:  56 Val loss: 87.05180326355573 R square: 0.9785828\n"
     ]
    },
    {
     "name": "stderr",
     "output_type": "stream",
     "text": [
      " 29%|██▉       | 58/200 [53:49<1:39:56, 42.23s/it]"
     ]
    },
    {
     "name": "stdout",
     "output_type": "stream",
     "text": [
      "Epoch:  57 Val loss: 86.96610848206518 R square: 0.9786039\n"
     ]
    },
    {
     "name": "stderr",
     "output_type": "stream",
     "text": [
      " 30%|██▉       | 59/200 [54:33<1:40:08, 42.62s/it]"
     ]
    },
    {
     "name": "stdout",
     "output_type": "stream",
     "text": [
      "Epoch:  58 Val loss: 85.60852873807866 R square: 0.9789379\n"
     ]
    },
    {
     "name": "stderr",
     "output_type": "stream",
     "text": [
      " 30%|███       | 60/200 [55:16<1:39:37, 42.69s/it]"
     ]
    },
    {
     "name": "stdout",
     "output_type": "stream",
     "text": [
      "Epoch:  59 Val loss: 96.0799296585641 R square: 0.97636163\n"
     ]
    },
    {
     "name": "stderr",
     "output_type": "stream",
     "text": [
      " 30%|███       | 61/200 [55:59<1:39:07, 42.79s/it]"
     ]
    },
    {
     "name": "stdout",
     "output_type": "stream",
     "text": [
      "Epoch:  60 Val loss: 89.84929077256663 R square: 0.97789454\n"
     ]
    },
    {
     "name": "stderr",
     "output_type": "stream",
     "text": [
      " 31%|███       | 62/200 [56:42<1:38:45, 42.94s/it]"
     ]
    },
    {
     "name": "stdout",
     "output_type": "stream",
     "text": [
      "Epoch:  61 Val loss: 82.59672428083596 R square: 0.97967887\n"
     ]
    },
    {
     "name": "stderr",
     "output_type": "stream",
     "text": [
      " 31%|███       | 62/200 [57:25<2:07:49, 55.58s/it]"
     ]
    },
    {
     "name": "stdout",
     "output_type": "stream",
     "text": [
      "Early stopping triggered!\n"
     ]
    },
    {
     "name": "stderr",
     "output_type": "stream",
     "text": [
      "\n"
     ]
    }
   ],
   "source": [
    "import torch.nn as nn\n",
    "hidden_dim = study.best_params['hidden_dim']\n",
    "dropout = study.best_params['dropout']\n",
    "learning_rate = study.best_params['learning_rate']\n",
    "batch_size = study.best_params['batch_size']\n",
    "k = study.best_params['k']\n",
    "\n",
    "activation = nn.ReLU()\n",
    "\n",
    "patience = 20\n",
    "edge_index, edge_weight = build_spatial_graph(spatial_df, k=k)\n",
    "edge_index = edge_index.to(device)\n",
    "edge_weight = edge_weight.to(device)\n",
    "model = SpatioTemporalGNN(\n",
    "    spatial_features=len(spatial_cols),\n",
    "    temporal_features=len(temporal_cols),\n",
    "    hidden_dim=hidden_dim,\n",
    "    dropout=dropout,\n",
    "    activation=activation\n",
    ").to(device)\n",
    "optimizer = torch.optim.Adam(model.parameters(), lr=learning_rate)\n",
    "best_val = float('inf')\n",
    "wait = 0\n",
    "for epoch in tqdm(range(200)):\n",
    "    run_epoch(train_batches, model, spatial_x, edge_index, edge_weight, optimizer, batch_size=batch_size)\n",
    "    val_loss, yv, pv = run_epoch(val_batches, model, spatial_x, edge_index, edge_weight, optimizer=None, batch_size=batch_size, collect_pred=True)\n",
    "    if val_loss < best_val - 1e-4:\n",
    "        best_val, wait = val_loss, 0\n",
    "        torch.save(model.state_dict(), \"best_gnn_4.pt\")\n",
    "    else:\n",
    "        wait += 1\n",
    "        if wait >= patience:\n",
    "            print(\"Early stopping triggered!\")\n",
    "            break\n",
    "    r2 = 1 - np.sum((yv - pv)**2) / np.sum((yv - yv.mean())**2)\n",
    "    print(\"Epoch: \", epoch,\"Val loss:\",val_loss, \"R square:\", r2)\n",
    "    \n"
   ]
  },
  {
   "cell_type": "code",
   "execution_count": null,
   "metadata": {
    "trusted": true
   },
   "outputs": [],
   "source": [
    "model = SpatioTemporalGNN(\n",
    "        spatial_features=len(spatial_cols),\n",
    "        temporal_features=len(temporal_cols),\n",
    "        hidden_dim=hidden_dim,\n",
    "        dropout=dropout,\n",
    "        activation=activation\n",
    "    )\n",
    "# load the weights\n",
    "model.load_state_dict(torch.load(\"best_gnn_4.pt\"))\n",
    "val_loss, y_true, y_pred = run_epoch(test_batches, model,\n",
    "                                 spatial_x, edge_index, edge_weight,\n",
    "                                 optimizer=None, collect_pred=True)\n",
    "\n"
   ]
  },
  {
   "cell_type": "code",
   "execution_count": null,
   "metadata": {},
   "outputs": [
    {
     "name": "stdout",
     "output_type": "stream",
     "text": [
      "Adjusted R square: 0.9461\n",
      "MSE: 207.2974\n"
     ]
    }
   ],
   "source": [
    "# calculate adjusted R square\n",
    "n = len(y_true)  # number of samples\n",
    "p = len(spatial_cols) + len(temporal_cols)  # number of features\n",
    "r2 = 1 - np.sum((y_true - y_pred)**2) / np.sum((y_true - y_true.mean())**2)\n",
    "adjusted_r2 = 1 - (1-r2)*(n-1)/(n-p-1)\n",
    "\n",
    "# calculate MSE\n",
    "mse = np.mean((y_true - y_pred)**2)\n",
    "\n",
    "print(f\"Adjusted R square: {adjusted_r2:.4f}\")\n",
    "print(f\"MSE: {mse:.4f}\")"
   ]
  },
  {
   "cell_type": "code",
   "execution_count": null,
   "metadata": {},
   "outputs": [],
   "source": []
  }
 ],
 "metadata": {
  "kernelspec": {
   "display_name": "gnn_env",
   "language": "python",
   "name": "python3"
  },
  "language_info": {
   "codemirror_mode": {
    "name": "ipython",
    "version": 3
   },
   "file_extension": ".py",
   "mimetype": "text/x-python",
   "name": "python",
   "nbconvert_exporter": "python",
   "pygments_lexer": "ipython3",
   "version": "3.12.9"
  }
 },
 "nbformat": 4,
 "nbformat_minor": 4
}
