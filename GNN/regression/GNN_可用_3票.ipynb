{
 "cells": [
  {
   "cell_type": "code",
   "execution_count": null,
   "metadata": {
    "trusted": true
   },
   "outputs": [],
   "source": [
    "import numpy as np\n",
    "import pandas as pd\n",
    "import torch\n",
    "import torch.nn.functional as F\n",
    "\n",
    "# importing after the general libraries to avoid initialization issues\n",
    "\n",
    "from torch_geometric.data import Data, DataLoader\n",
    "from torch_geometric.nn import GCNConv, GATConv"
   ]
  },
  {
   "cell_type": "code",
   "execution_count": 2,
   "metadata": {
    "trusted": true
   },
   "outputs": [
    {
     "name": "stderr",
     "output_type": "stream",
     "text": [
      "/var/folders/wt/6hl8qhss3jz9zrdh6n8f3_qh0000gn/T/ipykernel_36205/3642721045.py:1: DtypeWarning: Columns (47,48) have mixed types. Specify dtype option on import or set low_memory=False.\n",
      "  df_1 = pd.read_csv(\"中西_dataset.csv\")\n"
     ]
    },
    {
     "data": {
      "text/html": [
       "<div>\n",
       "<style scoped>\n",
       "    .dataframe tbody tr th:only-of-type {\n",
       "        vertical-align: middle;\n",
       "    }\n",
       "\n",
       "    .dataframe tbody tr th {\n",
       "        vertical-align: top;\n",
       "    }\n",
       "\n",
       "    .dataframe thead th {\n",
       "        text-align: right;\n",
       "    }\n",
       "</style>\n",
       "<table border=\"1\" class=\"dataframe\">\n",
       "  <thead>\n",
       "    <tr style=\"text-align: right;\">\n",
       "      <th></th>\n",
       "      <th>ParkingSegmentID</th>\n",
       "      <th>year_val</th>\n",
       "      <th>month_val</th>\n",
       "      <th>day_val</th>\n",
       "      <th>half_hour_interval</th>\n",
       "      <th>weekday_x</th>\n",
       "      <th>district</th>\n",
       "      <th>avg_available_spots</th>\n",
       "      <th>TotalSpaces</th>\n",
       "      <th>lat</th>\n",
       "      <th>...</th>\n",
       "      <th>vapour_pressure_deficit</th>\n",
       "      <th>dew_point_2m</th>\n",
       "      <th>terrestrial_radiation_instant</th>\n",
       "      <th>latitude</th>\n",
       "      <th>longitude</th>\n",
       "      <th>hour</th>\n",
       "      <th>date</th>\n",
       "      <th>weekday_y</th>\n",
       "      <th>is_national_holiday</th>\n",
       "      <th>holiday_name</th>\n",
       "    </tr>\n",
       "  </thead>\n",
       "  <tbody>\n",
       "    <tr>\n",
       "      <th>0</th>\n",
       "      <td>1421</td>\n",
       "      <td>2024</td>\n",
       "      <td>7</td>\n",
       "      <td>20</td>\n",
       "      <td>46</td>\n",
       "      <td>Saturday</td>\n",
       "      <td>中西區</td>\n",
       "      <td>1.0</td>\n",
       "      <td>3</td>\n",
       "      <td>22.9948</td>\n",
       "      <td>...</td>\n",
       "      <td>0.90</td>\n",
       "      <td>25.2</td>\n",
       "      <td>0.0</td>\n",
       "      <td>22.981</td>\n",
       "      <td>120.177</td>\n",
       "      <td>23</td>\n",
       "      <td>2024-07-20</td>\n",
       "      <td>Sat</td>\n",
       "      <td>False</td>\n",
       "      <td>NaN</td>\n",
       "    </tr>\n",
       "    <tr>\n",
       "      <th>1</th>\n",
       "      <td>1421</td>\n",
       "      <td>2024</td>\n",
       "      <td>7</td>\n",
       "      <td>24</td>\n",
       "      <td>40</td>\n",
       "      <td>Wednesday</td>\n",
       "      <td>中西區</td>\n",
       "      <td>1.0</td>\n",
       "      <td>3</td>\n",
       "      <td>22.9948</td>\n",
       "      <td>...</td>\n",
       "      <td>0.21</td>\n",
       "      <td>25.8</td>\n",
       "      <td>0.0</td>\n",
       "      <td>22.981</td>\n",
       "      <td>120.177</td>\n",
       "      <td>20</td>\n",
       "      <td>2024-07-24</td>\n",
       "      <td>Wed</td>\n",
       "      <td>False</td>\n",
       "      <td>NaN</td>\n",
       "    </tr>\n",
       "    <tr>\n",
       "      <th>2</th>\n",
       "      <td>1421</td>\n",
       "      <td>2024</td>\n",
       "      <td>7</td>\n",
       "      <td>24</td>\n",
       "      <td>18</td>\n",
       "      <td>Wednesday</td>\n",
       "      <td>中西區</td>\n",
       "      <td>1.0</td>\n",
       "      <td>3</td>\n",
       "      <td>22.9948</td>\n",
       "      <td>...</td>\n",
       "      <td>0.70</td>\n",
       "      <td>25.0</td>\n",
       "      <td>967.1</td>\n",
       "      <td>22.981</td>\n",
       "      <td>120.177</td>\n",
       "      <td>9</td>\n",
       "      <td>2024-07-24</td>\n",
       "      <td>Wed</td>\n",
       "      <td>False</td>\n",
       "      <td>NaN</td>\n",
       "    </tr>\n",
       "    <tr>\n",
       "      <th>3</th>\n",
       "      <td>1421</td>\n",
       "      <td>2024</td>\n",
       "      <td>8</td>\n",
       "      <td>21</td>\n",
       "      <td>9</td>\n",
       "      <td>Wednesday</td>\n",
       "      <td>中西區</td>\n",
       "      <td>2.0</td>\n",
       "      <td>3</td>\n",
       "      <td>22.9948</td>\n",
       "      <td>...</td>\n",
       "      <td>0.95</td>\n",
       "      <td>21.5</td>\n",
       "      <td>0.0</td>\n",
       "      <td>22.981</td>\n",
       "      <td>120.177</td>\n",
       "      <td>4</td>\n",
       "      <td>2024-08-21</td>\n",
       "      <td>Wed</td>\n",
       "      <td>False</td>\n",
       "      <td>NaN</td>\n",
       "    </tr>\n",
       "    <tr>\n",
       "      <th>4</th>\n",
       "      <td>1421</td>\n",
       "      <td>2024</td>\n",
       "      <td>9</td>\n",
       "      <td>9</td>\n",
       "      <td>5</td>\n",
       "      <td>Monday</td>\n",
       "      <td>中西區</td>\n",
       "      <td>1.0</td>\n",
       "      <td>3</td>\n",
       "      <td>22.9948</td>\n",
       "      <td>...</td>\n",
       "      <td>0.99</td>\n",
       "      <td>22.2</td>\n",
       "      <td>0.0</td>\n",
       "      <td>22.981</td>\n",
       "      <td>120.177</td>\n",
       "      <td>2</td>\n",
       "      <td>2024-09-09</td>\n",
       "      <td>Mon</td>\n",
       "      <td>False</td>\n",
       "      <td>NaN</td>\n",
       "    </tr>\n",
       "  </tbody>\n",
       "</table>\n",
       "<p>5 rows × 49 columns</p>\n",
       "</div>"
      ],
      "text/plain": [
       "   ParkingSegmentID  year_val  month_val  day_val  half_hour_interval  \\\n",
       "0              1421      2024          7       20                  46   \n",
       "1              1421      2024          7       24                  40   \n",
       "2              1421      2024          7       24                  18   \n",
       "3              1421      2024          8       21                   9   \n",
       "4              1421      2024          9        9                   5   \n",
       "\n",
       "   weekday_x district  avg_available_spots  TotalSpaces      lat  ...  \\\n",
       "0   Saturday      中西區                  1.0            3  22.9948  ...   \n",
       "1  Wednesday      中西區                  1.0            3  22.9948  ...   \n",
       "2  Wednesday      中西區                  1.0            3  22.9948  ...   \n",
       "3  Wednesday      中西區                  2.0            3  22.9948  ...   \n",
       "4     Monday      中西區                  1.0            3  22.9948  ...   \n",
       "\n",
       "   vapour_pressure_deficit  dew_point_2m  terrestrial_radiation_instant  \\\n",
       "0                     0.90          25.2                            0.0   \n",
       "1                     0.21          25.8                            0.0   \n",
       "2                     0.70          25.0                          967.1   \n",
       "3                     0.95          21.5                            0.0   \n",
       "4                     0.99          22.2                            0.0   \n",
       "\n",
       "  latitude longitude hour        date  weekday_y  is_national_holiday  \\\n",
       "0   22.981   120.177   23  2024-07-20        Sat                False   \n",
       "1   22.981   120.177   20  2024-07-24        Wed                False   \n",
       "2   22.981   120.177    9  2024-07-24        Wed                False   \n",
       "3   22.981   120.177    4  2024-08-21        Wed                False   \n",
       "4   22.981   120.177    2  2024-09-09        Mon                False   \n",
       "\n",
       "   holiday_name  \n",
       "0           NaN  \n",
       "1           NaN  \n",
       "2           NaN  \n",
       "3           NaN  \n",
       "4           NaN  \n",
       "\n",
       "[5 rows x 49 columns]"
      ]
     },
     "execution_count": 2,
     "metadata": {},
     "output_type": "execute_result"
    }
   ],
   "source": [
    "df_1 = pd.read_csv(\"中西_dataset.csv\")\n",
    "df_1.head()"
   ]
  },
  {
   "cell_type": "code",
   "execution_count": 3,
   "metadata": {
    "trusted": true
   },
   "outputs": [
    {
     "name": "stderr",
     "output_type": "stream",
     "text": [
      "/var/folders/wt/6hl8qhss3jz9zrdh6n8f3_qh0000gn/T/ipykernel_36205/1002289959.py:1: DtypeWarning: Columns (0,47) have mixed types. Specify dtype option on import or set low_memory=False.\n",
      "  df_2 = pd.read_csv(\"安平_dataset.csv\")\n"
     ]
    },
    {
     "data": {
      "text/html": [
       "<div>\n",
       "<style scoped>\n",
       "    .dataframe tbody tr th:only-of-type {\n",
       "        vertical-align: middle;\n",
       "    }\n",
       "\n",
       "    .dataframe tbody tr th {\n",
       "        vertical-align: top;\n",
       "    }\n",
       "\n",
       "    .dataframe thead th {\n",
       "        text-align: right;\n",
       "    }\n",
       "</style>\n",
       "<table border=\"1\" class=\"dataframe\">\n",
       "  <thead>\n",
       "    <tr style=\"text-align: right;\">\n",
       "      <th></th>\n",
       "      <th>ParkingSegmentID</th>\n",
       "      <th>year_val</th>\n",
       "      <th>month_val</th>\n",
       "      <th>day_val</th>\n",
       "      <th>half_hour_interval</th>\n",
       "      <th>weekday_x</th>\n",
       "      <th>district</th>\n",
       "      <th>avg_available_spots</th>\n",
       "      <th>TotalSpaces</th>\n",
       "      <th>lat</th>\n",
       "      <th>...</th>\n",
       "      <th>vapour_pressure_deficit</th>\n",
       "      <th>dew_point_2m</th>\n",
       "      <th>terrestrial_radiation_instant</th>\n",
       "      <th>latitude</th>\n",
       "      <th>longitude</th>\n",
       "      <th>hour</th>\n",
       "      <th>date</th>\n",
       "      <th>weekday_y</th>\n",
       "      <th>is_national_holiday</th>\n",
       "      <th>holiday_name</th>\n",
       "    </tr>\n",
       "  </thead>\n",
       "  <tbody>\n",
       "    <tr>\n",
       "      <th>0</th>\n",
       "      <td>137</td>\n",
       "      <td>2025</td>\n",
       "      <td>3</td>\n",
       "      <td>28</td>\n",
       "      <td>47</td>\n",
       "      <td>Friday</td>\n",
       "      <td>安平區</td>\n",
       "      <td>46.500000</td>\n",
       "      <td>57</td>\n",
       "      <td>22.98953</td>\n",
       "      <td>...</td>\n",
       "      <td>1.17</td>\n",
       "      <td>15.5</td>\n",
       "      <td>0.0</td>\n",
       "      <td>22.981</td>\n",
       "      <td>120.177</td>\n",
       "      <td>23</td>\n",
       "      <td>2025-03-28</td>\n",
       "      <td>Fri</td>\n",
       "      <td>False</td>\n",
       "      <td>NaN</td>\n",
       "    </tr>\n",
       "    <tr>\n",
       "      <th>1</th>\n",
       "      <td>137</td>\n",
       "      <td>2024</td>\n",
       "      <td>7</td>\n",
       "      <td>11</td>\n",
       "      <td>26</td>\n",
       "      <td>Thursday</td>\n",
       "      <td>安平區</td>\n",
       "      <td>15.000000</td>\n",
       "      <td>57</td>\n",
       "      <td>22.98953</td>\n",
       "      <td>...</td>\n",
       "      <td>2.38</td>\n",
       "      <td>22.9</td>\n",
       "      <td>1290.3</td>\n",
       "      <td>22.981</td>\n",
       "      <td>120.177</td>\n",
       "      <td>13</td>\n",
       "      <td>2024-07-11</td>\n",
       "      <td>Thu</td>\n",
       "      <td>False</td>\n",
       "      <td>NaN</td>\n",
       "    </tr>\n",
       "    <tr>\n",
       "      <th>2</th>\n",
       "      <td>137</td>\n",
       "      <td>2025</td>\n",
       "      <td>3</td>\n",
       "      <td>28</td>\n",
       "      <td>17</td>\n",
       "      <td>Friday</td>\n",
       "      <td>安平區</td>\n",
       "      <td>29.833333</td>\n",
       "      <td>57</td>\n",
       "      <td>22.98953</td>\n",
       "      <td>...</td>\n",
       "      <td>1.10</td>\n",
       "      <td>20.0</td>\n",
       "      <td>639.6</td>\n",
       "      <td>22.981</td>\n",
       "      <td>120.177</td>\n",
       "      <td>8</td>\n",
       "      <td>2025-03-28</td>\n",
       "      <td>Fri</td>\n",
       "      <td>False</td>\n",
       "      <td>NaN</td>\n",
       "    </tr>\n",
       "    <tr>\n",
       "      <th>3</th>\n",
       "      <td>137</td>\n",
       "      <td>2024</td>\n",
       "      <td>7</td>\n",
       "      <td>11</td>\n",
       "      <td>22</td>\n",
       "      <td>Thursday</td>\n",
       "      <td>安平區</td>\n",
       "      <td>24.000000</td>\n",
       "      <td>57</td>\n",
       "      <td>22.98953</td>\n",
       "      <td>...</td>\n",
       "      <td>2.00</td>\n",
       "      <td>24.1</td>\n",
       "      <td>1278.5</td>\n",
       "      <td>22.981</td>\n",
       "      <td>120.177</td>\n",
       "      <td>11</td>\n",
       "      <td>2024-07-11</td>\n",
       "      <td>Thu</td>\n",
       "      <td>False</td>\n",
       "      <td>NaN</td>\n",
       "    </tr>\n",
       "    <tr>\n",
       "      <th>4</th>\n",
       "      <td>137</td>\n",
       "      <td>2025</td>\n",
       "      <td>3</td>\n",
       "      <td>28</td>\n",
       "      <td>10</td>\n",
       "      <td>Friday</td>\n",
       "      <td>安平區</td>\n",
       "      <td>49.000000</td>\n",
       "      <td>57</td>\n",
       "      <td>22.98953</td>\n",
       "      <td>...</td>\n",
       "      <td>0.65</td>\n",
       "      <td>20.8</td>\n",
       "      <td>0.0</td>\n",
       "      <td>22.981</td>\n",
       "      <td>120.177</td>\n",
       "      <td>5</td>\n",
       "      <td>2025-03-28</td>\n",
       "      <td>Fri</td>\n",
       "      <td>False</td>\n",
       "      <td>NaN</td>\n",
       "    </tr>\n",
       "  </tbody>\n",
       "</table>\n",
       "<p>5 rows × 49 columns</p>\n",
       "</div>"
      ],
      "text/plain": [
       "  ParkingSegmentID  year_val  month_val  day_val  half_hour_interval  \\\n",
       "0              137      2025          3       28                  47   \n",
       "1              137      2024          7       11                  26   \n",
       "2              137      2025          3       28                  17   \n",
       "3              137      2024          7       11                  22   \n",
       "4              137      2025          3       28                  10   \n",
       "\n",
       "  weekday_x district  avg_available_spots  TotalSpaces       lat  ...  \\\n",
       "0    Friday      安平區            46.500000           57  22.98953  ...   \n",
       "1  Thursday      安平區            15.000000           57  22.98953  ...   \n",
       "2    Friday      安平區            29.833333           57  22.98953  ...   \n",
       "3  Thursday      安平區            24.000000           57  22.98953  ...   \n",
       "4    Friday      安平區            49.000000           57  22.98953  ...   \n",
       "\n",
       "   vapour_pressure_deficit  dew_point_2m  terrestrial_radiation_instant  \\\n",
       "0                     1.17          15.5                            0.0   \n",
       "1                     2.38          22.9                         1290.3   \n",
       "2                     1.10          20.0                          639.6   \n",
       "3                     2.00          24.1                         1278.5   \n",
       "4                     0.65          20.8                            0.0   \n",
       "\n",
       "  latitude longitude hour        date  weekday_y  is_national_holiday  \\\n",
       "0   22.981   120.177   23  2025-03-28        Fri                False   \n",
       "1   22.981   120.177   13  2024-07-11        Thu                False   \n",
       "2   22.981   120.177    8  2025-03-28        Fri                False   \n",
       "3   22.981   120.177   11  2024-07-11        Thu                False   \n",
       "4   22.981   120.177    5  2025-03-28        Fri                False   \n",
       "\n",
       "   holiday_name  \n",
       "0           NaN  \n",
       "1           NaN  \n",
       "2           NaN  \n",
       "3           NaN  \n",
       "4           NaN  \n",
       "\n",
       "[5 rows x 49 columns]"
      ]
     },
     "execution_count": 3,
     "metadata": {},
     "output_type": "execute_result"
    }
   ],
   "source": [
    "df_2 = pd.read_csv(\"安平_dataset.csv\")\n",
    "df_2.head()"
   ]
  },
  {
   "cell_type": "code",
   "execution_count": 4,
   "metadata": {
    "trusted": true
   },
   "outputs": [
    {
     "name": "stdout",
     "output_type": "stream",
     "text": [
      "<class 'pandas.core.frame.DataFrame'>\n",
      "Index: 2892758 entries, 0 to 719269\n",
      "Data columns (total 49 columns):\n",
      " #   Column                         Dtype  \n",
      "---  ------                         -----  \n",
      " 0   ParkingSegmentID               object \n",
      " 1   year_val                       int64  \n",
      " 2   month_val                      int64  \n",
      " 3   day_val                        int64  \n",
      " 4   half_hour_interval             int64  \n",
      " 5   weekday_x                      object \n",
      " 6   district                       object \n",
      " 7   avg_available_spots            float64\n",
      " 8   TotalSpaces                    int64  \n",
      " 9   lat                            float64\n",
      " 10  lon                            float64\n",
      " 11  firstHourFee                   int64  \n",
      " 12  laterHourFee                   int64  \n",
      " 13  datetime                       object \n",
      " 14  datetime_hour                  object \n",
      " 15  time                           object \n",
      " 16  precipitation                  float64\n",
      " 17  apparent_temperature           float64\n",
      " 18  relative_humidity_2m           int64  \n",
      " 19  temperature_2m                 float64\n",
      " 20  cloud_cover                    int64  \n",
      " 21  cloud_cover_low                int64  \n",
      " 22  cloud_cover_mid                int64  \n",
      " 23  cloud_cover_high               int64  \n",
      " 24  visibility                     float64\n",
      " 25  wind_speed_10m                 float64\n",
      " 26  temperature_80m                float64\n",
      " 27  temperature_120m               float64\n",
      " 28  showers                        float64\n",
      " 29  pressure_msl                   float64\n",
      " 30  surface_pressure               float64\n",
      " 31  wind_speed_80m                 float64\n",
      " 32  wind_speed_120m                float64\n",
      " 33  wind_direction_10m             int64  \n",
      " 34  wind_direction_80m             int64  \n",
      " 35  wind_direction_120m            int64  \n",
      " 36  wind_gusts_10m                 float64\n",
      " 37  evapotranspiration             float64\n",
      " 38  et0_fao_evapotranspiration     float64\n",
      " 39  vapour_pressure_deficit        float64\n",
      " 40  dew_point_2m                   float64\n",
      " 41  terrestrial_radiation_instant  float64\n",
      " 42  latitude                       float64\n",
      " 43  longitude                      float64\n",
      " 44  hour                           int64  \n",
      " 45  date                           object \n",
      " 46  weekday_y                      object \n",
      " 47  is_national_holiday            object \n",
      " 48  holiday_name                   object \n",
      "dtypes: float64(23), int64(16), object(10)\n",
      "memory usage: 1.1+ GB\n"
     ]
    },
    {
     "data": {
      "text/plain": [
       "ParkingSegmentID                       0\n",
       "year_val                               0\n",
       "month_val                              0\n",
       "day_val                                0\n",
       "half_hour_interval                     0\n",
       "weekday_x                              0\n",
       "district                               0\n",
       "avg_available_spots                    0\n",
       "TotalSpaces                            0\n",
       "lat                                    0\n",
       "lon                                    0\n",
       "firstHourFee                           0\n",
       "laterHourFee                           0\n",
       "datetime                               0\n",
       "datetime_hour                          0\n",
       "time                                   0\n",
       "precipitation                          0\n",
       "apparent_temperature                   0\n",
       "relative_humidity_2m                   0\n",
       "temperature_2m                         0\n",
       "cloud_cover                            0\n",
       "cloud_cover_low                        0\n",
       "cloud_cover_mid                        0\n",
       "cloud_cover_high                       0\n",
       "visibility                             0\n",
       "wind_speed_10m                         0\n",
       "temperature_80m                        0\n",
       "temperature_120m                       0\n",
       "showers                                0\n",
       "pressure_msl                           0\n",
       "surface_pressure                       0\n",
       "wind_speed_80m                         0\n",
       "wind_speed_120m                        0\n",
       "wind_direction_10m                     0\n",
       "wind_direction_80m                     0\n",
       "wind_direction_120m                    0\n",
       "wind_gusts_10m                         0\n",
       "evapotranspiration                     0\n",
       "et0_fao_evapotranspiration             0\n",
       "vapour_pressure_deficit                0\n",
       "dew_point_2m                           0\n",
       "terrestrial_radiation_instant          0\n",
       "latitude                               0\n",
       "longitude                              0\n",
       "hour                                   0\n",
       "date                                   0\n",
       "weekday_y                          39906\n",
       "is_national_holiday                39906\n",
       "holiday_name                     2694181\n",
       "dtype: int64"
      ]
     },
     "execution_count": 4,
     "metadata": {},
     "output_type": "execute_result"
    }
   ],
   "source": [
    "df = pd.concat([df_1, df_2])\n",
    "df.head()\n",
    "df.info()\n",
    "df.describe()\n",
    "df.isnull().sum()"
   ]
  },
  {
   "cell_type": "code",
   "execution_count": null,
   "metadata": {
    "trusted": true
   },
   "outputs": [],
   "source": [
    "df[\"ParkingSegmentID\"] = df[\"ParkingSegmentID\"].astype(str)\n",
    "df.loc[\n",
    "    (df[\"ParkingSegmentID\"] == \"1192\") &\n",
    "    (df[\"half_hour_interval\"] == 20) &\n",
    "    (df[\"month_val\"] == 3) &\n",
    "    (df[\"day_val\"] == 8),\n",
    "    \"TotalSpaces\"\n",
    "] = 63\n",
    "indices_to_drop = df[(df['ParkingSegmentID'] == \"1131\") & (df['year_val'] == 2025) & (df['month_val'] == 3) & (df['day_val'] == 27)].index\n",
    "df.drop(indices_to_drop, inplace=True)\n",
    "indices_to_drop = df[(df[\"year_val\"] == 2025) & (df[\"month_val\"] == 2) & (df[\"day_val\"] == 20) & (df[\"half_hour_interval\"] == 29) & (df[\"ParkingSegmentID\"] == \"54555420\") & (df[\"TotalSpaces\"] == 1036)].index\n",
    "df.drop(indices_to_drop, inplace=True)\n",
    "condition = df[\"avg_available_spots\"] > df[\"TotalSpaces\"]\n",
    "# extract the values from df[\"TotalSpaces\"] on the right side that meet the condition\n",
    "values_to_assign = df.loc[condition, \"TotalSpaces\"].values\n",
    "df.loc[condition, \"avg_available_spots\"] = values_to_assign"
   ]
  },
  {
   "cell_type": "code",
   "execution_count": 6,
   "metadata": {
    "trusted": true
   },
   "outputs": [
    {
     "name": "stdout",
     "output_type": "stream",
     "text": [
      "<class 'pandas.core.frame.DataFrame'>\n",
      "Index: 2892661 entries, 0 to 719269\n",
      "Data columns (total 49 columns):\n",
      " #   Column                         Dtype  \n",
      "---  ------                         -----  \n",
      " 0   ParkingSegmentID               object \n",
      " 1   year_val                       int64  \n",
      " 2   month_val                      int64  \n",
      " 3   day_val                        int64  \n",
      " 4   half_hour_interval             int64  \n",
      " 5   weekday_x                      object \n",
      " 6   district                       object \n",
      " 7   avg_available_spots            float64\n",
      " 8   TotalSpaces                    int64  \n",
      " 9   lat                            float64\n",
      " 10  lon                            float64\n",
      " 11  firstHourFee                   int64  \n",
      " 12  laterHourFee                   int64  \n",
      " 13  datetime                       object \n",
      " 14  datetime_hour                  object \n",
      " 15  time                           object \n",
      " 16  precipitation                  float64\n",
      " 17  apparent_temperature           float64\n",
      " 18  relative_humidity_2m           int64  \n",
      " 19  temperature_2m                 float64\n",
      " 20  cloud_cover                    int64  \n",
      " 21  cloud_cover_low                int64  \n",
      " 22  cloud_cover_mid                int64  \n",
      " 23  cloud_cover_high               int64  \n",
      " 24  visibility                     float64\n",
      " 25  wind_speed_10m                 float64\n",
      " 26  temperature_80m                float64\n",
      " 27  temperature_120m               float64\n",
      " 28  showers                        float64\n",
      " 29  pressure_msl                   float64\n",
      " 30  surface_pressure               float64\n",
      " 31  wind_speed_80m                 float64\n",
      " 32  wind_speed_120m                float64\n",
      " 33  wind_direction_10m             int64  \n",
      " 34  wind_direction_80m             int64  \n",
      " 35  wind_direction_120m            int64  \n",
      " 36  wind_gusts_10m                 float64\n",
      " 37  evapotranspiration             float64\n",
      " 38  et0_fao_evapotranspiration     float64\n",
      " 39  vapour_pressure_deficit        float64\n",
      " 40  dew_point_2m                   float64\n",
      " 41  terrestrial_radiation_instant  float64\n",
      " 42  latitude                       float64\n",
      " 43  longitude                      float64\n",
      " 44  hour                           int64  \n",
      " 45  date                           object \n",
      " 46  weekday_y                      object \n",
      " 47  is_national_holiday            object \n",
      " 48  holiday_name                   object \n",
      "dtypes: float64(23), int64(16), object(10)\n",
      "memory usage: 1.1+ GB\n",
      "  ParkingSegmentID  year_val  month_val  day_val  half_hour_interval  \\\n",
      "0             1421      2024          7       20                  46   \n",
      "1             1421      2024          7       24                  40   \n",
      "2             1421      2024          7       24                  18   \n",
      "3             1421      2024          8       21                   9   \n",
      "4             1421      2024          9        9                   5   \n",
      "\n",
      "   weekday_x district  avg_available_spots  TotalSpaces      lat  ...  \\\n",
      "0   Saturday      中西區                  1.0            3  22.9948  ...   \n",
      "1  Wednesday      中西區                  1.0            3  22.9948  ...   \n",
      "2  Wednesday      中西區                  1.0            3  22.9948  ...   \n",
      "3  Wednesday      中西區                  2.0            3  22.9948  ...   \n",
      "4     Monday      中西區                  1.0            3  22.9948  ...   \n",
      "\n",
      "   vapour_pressure_deficit  dew_point_2m  terrestrial_radiation_instant  \\\n",
      "0                     0.90          25.2                            0.0   \n",
      "1                     0.21          25.8                            0.0   \n",
      "2                     0.70          25.0                          967.1   \n",
      "3                     0.95          21.5                            0.0   \n",
      "4                     0.99          22.2                            0.0   \n",
      "\n",
      "  latitude longitude hour        date  weekday_y  is_national_holiday  \\\n",
      "0   22.981   120.177   23  2024-07-20        Sat                False   \n",
      "1   22.981   120.177   20  2024-07-24        Wed                False   \n",
      "2   22.981   120.177    9  2024-07-24        Wed                False   \n",
      "3   22.981   120.177    4  2024-08-21        Wed                False   \n",
      "4   22.981   120.177    2  2024-09-09        Mon                False   \n",
      "\n",
      "   holiday_name  \n",
      "0           NaN  \n",
      "1           NaN  \n",
      "2           NaN  \n",
      "3           NaN  \n",
      "4           NaN  \n",
      "\n",
      "[5 rows x 49 columns]\n"
     ]
    }
   ],
   "source": [
    "df.info()\n",
    "df.describe()\n",
    "df.isnull().sum()\n",
    "print(df.head())"
   ]
  },
  {
   "cell_type": "code",
   "execution_count": 7,
   "metadata": {
    "trusted": true
   },
   "outputs": [],
   "source": [
    "df[\"weekday\"] = df[\"weekday_x\"]"
   ]
  },
  {
   "cell_type": "code",
   "execution_count": 8,
   "metadata": {
    "trusted": true
   },
   "outputs": [],
   "source": [
    "\n",
    "district_mapping = {'中西區': 0, '安平區': 1}\n",
    "df['district'] = df['district'].map(district_mapping)"
   ]
  },
  {
   "cell_type": "code",
   "execution_count": 9,
   "metadata": {
    "trusted": true
   },
   "outputs": [],
   "source": []
  },
  {
   "cell_type": "code",
   "execution_count": 9,
   "metadata": {
    "trusted": true
   },
   "outputs": [],
   "source": [
    "df[\"datetime_2\"] = (\n",
    "    df[\"year_val\"].astype(str) + \"_\" +\n",
    "    df[\"month_val\"].astype(str) + \"_\" +\n",
    "    df[\"day_val\"].astype(str) + \"_\" +\n",
    "    df[\"half_hour_interval\"].astype(str)\n",
    ")"
   ]
  },
  {
   "cell_type": "code",
   "execution_count": 10,
   "metadata": {
    "trusted": true
   },
   "outputs": [],
   "source": [
    "pd.set_option('display.max_columns', None)\n",
    "weekday_mapping = {'Monday': 0, 'Tuesday': 1, 'Wednesday': 2, 'Thursday': 3,\n",
    "                       'Friday': 4, 'Saturday': 5, 'Sunday': 6}\n",
    "df['weekday_num'] = df['weekday'].map(weekday_mapping)\n",
    "df['wind_direction_10m_sin'] = np.sin(np.deg2rad(df['wind_direction_10m']))\n",
    "df['wind_direction_10m_cos'] = np.cos(np.deg2rad(df['wind_direction_10m']))\n",
    "df['wind_direction_120m_sin'] = np.sin(np.deg2rad(df['wind_direction_120m']))\n",
    "df['wind_direction_120m_cos'] = np.cos(np.deg2rad(df['wind_direction_120m']))\n",
    "df['wind_direction_80m_sin'] = np.sin(np.deg2rad(df['wind_direction_80m']))\n",
    "df['wind_direction_80m_cos'] = np.cos(np.deg2rad(df['wind_direction_80m']))\n",
    "df.drop(columns=[\"wind_direction_10m\",\"wind_direction_120m\",\"wind_direction_80m\"],inplace=True)"
   ]
  },
  {
   "cell_type": "code",
   "execution_count": null,
   "metadata": {
    "trusted": true
   },
   "outputs": [],
   "source": [
    "\n",
    "df_final = df.drop(columns=[          \n",
    "    'weekday',        \n",
    "    'weekday_y',\"date\",\"latitude\",\"longitude\",\"datetime_hour\",\"time\", \"weekday_x\",\"holiday_name\",\n",
    "])"
   ]
  },
  {
   "cell_type": "code",
   "execution_count": 12,
   "metadata": {
    "trusted": true
   },
   "outputs": [
    {
     "data": {
      "text/html": [
       "<div>\n",
       "<style scoped>\n",
       "    .dataframe tbody tr th:only-of-type {\n",
       "        vertical-align: middle;\n",
       "    }\n",
       "\n",
       "    .dataframe tbody tr th {\n",
       "        vertical-align: top;\n",
       "    }\n",
       "\n",
       "    .dataframe thead th {\n",
       "        text-align: right;\n",
       "    }\n",
       "</style>\n",
       "<table border=\"1\" class=\"dataframe\">\n",
       "  <thead>\n",
       "    <tr style=\"text-align: right;\">\n",
       "      <th></th>\n",
       "      <th>ParkingSegmentID</th>\n",
       "      <th>year_val</th>\n",
       "      <th>month_val</th>\n",
       "      <th>day_val</th>\n",
       "      <th>half_hour_interval</th>\n",
       "      <th>district</th>\n",
       "      <th>avg_available_spots</th>\n",
       "      <th>TotalSpaces</th>\n",
       "      <th>lat</th>\n",
       "      <th>lon</th>\n",
       "      <th>firstHourFee</th>\n",
       "      <th>laterHourFee</th>\n",
       "      <th>datetime</th>\n",
       "      <th>precipitation</th>\n",
       "      <th>apparent_temperature</th>\n",
       "      <th>relative_humidity_2m</th>\n",
       "      <th>temperature_2m</th>\n",
       "      <th>cloud_cover</th>\n",
       "      <th>cloud_cover_low</th>\n",
       "      <th>cloud_cover_mid</th>\n",
       "      <th>cloud_cover_high</th>\n",
       "      <th>visibility</th>\n",
       "      <th>wind_speed_10m</th>\n",
       "      <th>temperature_80m</th>\n",
       "      <th>temperature_120m</th>\n",
       "      <th>showers</th>\n",
       "      <th>pressure_msl</th>\n",
       "      <th>surface_pressure</th>\n",
       "      <th>wind_speed_80m</th>\n",
       "      <th>wind_speed_120m</th>\n",
       "      <th>wind_gusts_10m</th>\n",
       "      <th>evapotranspiration</th>\n",
       "      <th>et0_fao_evapotranspiration</th>\n",
       "      <th>vapour_pressure_deficit</th>\n",
       "      <th>dew_point_2m</th>\n",
       "      <th>terrestrial_radiation_instant</th>\n",
       "      <th>hour</th>\n",
       "      <th>is_national_holiday</th>\n",
       "      <th>datetime_2</th>\n",
       "      <th>weekday_num</th>\n",
       "      <th>wind_direction_10m_sin</th>\n",
       "      <th>wind_direction_10m_cos</th>\n",
       "      <th>wind_direction_120m_sin</th>\n",
       "      <th>wind_direction_120m_cos</th>\n",
       "      <th>wind_direction_80m_sin</th>\n",
       "      <th>wind_direction_80m_cos</th>\n",
       "    </tr>\n",
       "  </thead>\n",
       "  <tbody>\n",
       "    <tr>\n",
       "      <th>0</th>\n",
       "      <td>1421</td>\n",
       "      <td>2024</td>\n",
       "      <td>7</td>\n",
       "      <td>20</td>\n",
       "      <td>46</td>\n",
       "      <td>0</td>\n",
       "      <td>1.000000</td>\n",
       "      <td>3</td>\n",
       "      <td>22.99480</td>\n",
       "      <td>120.19519</td>\n",
       "      <td>0</td>\n",
       "      <td>0</td>\n",
       "      <td>2024-07-20 23:00:00</td>\n",
       "      <td>0.8</td>\n",
       "      <td>35.4</td>\n",
       "      <td>78</td>\n",
       "      <td>29.4</td>\n",
       "      <td>15</td>\n",
       "      <td>0</td>\n",
       "      <td>0</td>\n",
       "      <td>10</td>\n",
       "      <td>24140.0</td>\n",
       "      <td>5.8</td>\n",
       "      <td>28.7</td>\n",
       "      <td>28.6</td>\n",
       "      <td>0.8</td>\n",
       "      <td>1010.1</td>\n",
       "      <td>1009.5</td>\n",
       "      <td>7.4</td>\n",
       "      <td>7.7</td>\n",
       "      <td>7.9</td>\n",
       "      <td>0.0</td>\n",
       "      <td>0.01</td>\n",
       "      <td>0.90</td>\n",
       "      <td>25.2</td>\n",
       "      <td>0.0</td>\n",
       "      <td>23</td>\n",
       "      <td>False</td>\n",
       "      <td>2024_7_20_46</td>\n",
       "      <td>5</td>\n",
       "      <td>-0.069756</td>\n",
       "      <td>-0.997564</td>\n",
       "      <td>-0.422618</td>\n",
       "      <td>-0.906308</td>\n",
       "      <td>-0.390731</td>\n",
       "      <td>-0.920505</td>\n",
       "    </tr>\n",
       "    <tr>\n",
       "      <th>1</th>\n",
       "      <td>1421</td>\n",
       "      <td>2024</td>\n",
       "      <td>7</td>\n",
       "      <td>24</td>\n",
       "      <td>40</td>\n",
       "      <td>0</td>\n",
       "      <td>1.000000</td>\n",
       "      <td>3</td>\n",
       "      <td>22.99480</td>\n",
       "      <td>120.19519</td>\n",
       "      <td>0</td>\n",
       "      <td>0</td>\n",
       "      <td>2024-07-24 20:00:00</td>\n",
       "      <td>15.2</td>\n",
       "      <td>27.6</td>\n",
       "      <td>94</td>\n",
       "      <td>26.9</td>\n",
       "      <td>100</td>\n",
       "      <td>100</td>\n",
       "      <td>100</td>\n",
       "      <td>100</td>\n",
       "      <td>2300.0</td>\n",
       "      <td>45.1</td>\n",
       "      <td>26.5</td>\n",
       "      <td>26.4</td>\n",
       "      <td>1.2</td>\n",
       "      <td>985.5</td>\n",
       "      <td>984.9</td>\n",
       "      <td>72.7</td>\n",
       "      <td>77.2</td>\n",
       "      <td>74.5</td>\n",
       "      <td>0.0</td>\n",
       "      <td>0.03</td>\n",
       "      <td>0.21</td>\n",
       "      <td>25.8</td>\n",
       "      <td>0.0</td>\n",
       "      <td>20</td>\n",
       "      <td>False</td>\n",
       "      <td>2024_7_24_40</td>\n",
       "      <td>2</td>\n",
       "      <td>-0.707107</td>\n",
       "      <td>0.707107</td>\n",
       "      <td>-0.642788</td>\n",
       "      <td>0.766044</td>\n",
       "      <td>-0.656059</td>\n",
       "      <td>0.754710</td>\n",
       "    </tr>\n",
       "    <tr>\n",
       "      <th>2</th>\n",
       "      <td>1421</td>\n",
       "      <td>2024</td>\n",
       "      <td>7</td>\n",
       "      <td>24</td>\n",
       "      <td>18</td>\n",
       "      <td>0</td>\n",
       "      <td>1.000000</td>\n",
       "      <td>3</td>\n",
       "      <td>22.99480</td>\n",
       "      <td>120.19519</td>\n",
       "      <td>20</td>\n",
       "      <td>20</td>\n",
       "      <td>2024-07-24 09:00:00</td>\n",
       "      <td>0.8</td>\n",
       "      <td>28.5</td>\n",
       "      <td>82</td>\n",
       "      <td>28.4</td>\n",
       "      <td>100</td>\n",
       "      <td>100</td>\n",
       "      <td>100</td>\n",
       "      <td>100</td>\n",
       "      <td>9660.0</td>\n",
       "      <td>45.3</td>\n",
       "      <td>27.9</td>\n",
       "      <td>27.7</td>\n",
       "      <td>0.8</td>\n",
       "      <td>989.1</td>\n",
       "      <td>988.5</td>\n",
       "      <td>68.6</td>\n",
       "      <td>72.6</td>\n",
       "      <td>66.2</td>\n",
       "      <td>0.0</td>\n",
       "      <td>0.15</td>\n",
       "      <td>0.70</td>\n",
       "      <td>25.0</td>\n",
       "      <td>967.1</td>\n",
       "      <td>9</td>\n",
       "      <td>False</td>\n",
       "      <td>2024_7_24_18</td>\n",
       "      <td>2</td>\n",
       "      <td>-0.358368</td>\n",
       "      <td>0.933580</td>\n",
       "      <td>-0.309017</td>\n",
       "      <td>0.951057</td>\n",
       "      <td>-0.309017</td>\n",
       "      <td>0.951057</td>\n",
       "    </tr>\n",
       "    <tr>\n",
       "      <th>3</th>\n",
       "      <td>1421</td>\n",
       "      <td>2024</td>\n",
       "      <td>8</td>\n",
       "      <td>21</td>\n",
       "      <td>9</td>\n",
       "      <td>0</td>\n",
       "      <td>2.000000</td>\n",
       "      <td>3</td>\n",
       "      <td>22.99480</td>\n",
       "      <td>120.19519</td>\n",
       "      <td>0</td>\n",
       "      <td>0</td>\n",
       "      <td>2024-08-21 04:30:00</td>\n",
       "      <td>0.0</td>\n",
       "      <td>30.0</td>\n",
       "      <td>73</td>\n",
       "      <td>26.8</td>\n",
       "      <td>99</td>\n",
       "      <td>0</td>\n",
       "      <td>90</td>\n",
       "      <td>90</td>\n",
       "      <td>24140.0</td>\n",
       "      <td>10.1</td>\n",
       "      <td>26.8</td>\n",
       "      <td>26.8</td>\n",
       "      <td>0.0</td>\n",
       "      <td>1010.4</td>\n",
       "      <td>1009.8</td>\n",
       "      <td>17.1</td>\n",
       "      <td>18.9</td>\n",
       "      <td>19.4</td>\n",
       "      <td>0.0</td>\n",
       "      <td>0.04</td>\n",
       "      <td>0.95</td>\n",
       "      <td>21.5</td>\n",
       "      <td>0.0</td>\n",
       "      <td>4</td>\n",
       "      <td>False</td>\n",
       "      <td>2024_8_21_9</td>\n",
       "      <td>2</td>\n",
       "      <td>0.573576</td>\n",
       "      <td>-0.819152</td>\n",
       "      <td>0.406737</td>\n",
       "      <td>-0.913545</td>\n",
       "      <td>0.469472</td>\n",
       "      <td>-0.882948</td>\n",
       "    </tr>\n",
       "    <tr>\n",
       "      <th>4</th>\n",
       "      <td>1421</td>\n",
       "      <td>2024</td>\n",
       "      <td>9</td>\n",
       "      <td>9</td>\n",
       "      <td>5</td>\n",
       "      <td>0</td>\n",
       "      <td>1.000000</td>\n",
       "      <td>3</td>\n",
       "      <td>22.99480</td>\n",
       "      <td>120.19519</td>\n",
       "      <td>0</td>\n",
       "      <td>0</td>\n",
       "      <td>2024-09-09 02:30:00</td>\n",
       "      <td>0.0</td>\n",
       "      <td>31.5</td>\n",
       "      <td>73</td>\n",
       "      <td>27.5</td>\n",
       "      <td>100</td>\n",
       "      <td>0</td>\n",
       "      <td>5</td>\n",
       "      <td>100</td>\n",
       "      <td>24140.0</td>\n",
       "      <td>7.1</td>\n",
       "      <td>26.7</td>\n",
       "      <td>26.5</td>\n",
       "      <td>0.0</td>\n",
       "      <td>1006.8</td>\n",
       "      <td>1006.2</td>\n",
       "      <td>8.7</td>\n",
       "      <td>8.8</td>\n",
       "      <td>8.3</td>\n",
       "      <td>0.0</td>\n",
       "      <td>0.02</td>\n",
       "      <td>0.99</td>\n",
       "      <td>22.2</td>\n",
       "      <td>0.0</td>\n",
       "      <td>2</td>\n",
       "      <td>False</td>\n",
       "      <td>2024_9_9_5</td>\n",
       "      <td>0</td>\n",
       "      <td>0.754710</td>\n",
       "      <td>-0.656059</td>\n",
       "      <td>0.707107</td>\n",
       "      <td>-0.707107</td>\n",
       "      <td>0.707107</td>\n",
       "      <td>-0.707107</td>\n",
       "    </tr>\n",
       "    <tr>\n",
       "      <th>...</th>\n",
       "      <td>...</td>\n",
       "      <td>...</td>\n",
       "      <td>...</td>\n",
       "      <td>...</td>\n",
       "      <td>...</td>\n",
       "      <td>...</td>\n",
       "      <td>...</td>\n",
       "      <td>...</td>\n",
       "      <td>...</td>\n",
       "      <td>...</td>\n",
       "      <td>...</td>\n",
       "      <td>...</td>\n",
       "      <td>...</td>\n",
       "      <td>...</td>\n",
       "      <td>...</td>\n",
       "      <td>...</td>\n",
       "      <td>...</td>\n",
       "      <td>...</td>\n",
       "      <td>...</td>\n",
       "      <td>...</td>\n",
       "      <td>...</td>\n",
       "      <td>...</td>\n",
       "      <td>...</td>\n",
       "      <td>...</td>\n",
       "      <td>...</td>\n",
       "      <td>...</td>\n",
       "      <td>...</td>\n",
       "      <td>...</td>\n",
       "      <td>...</td>\n",
       "      <td>...</td>\n",
       "      <td>...</td>\n",
       "      <td>...</td>\n",
       "      <td>...</td>\n",
       "      <td>...</td>\n",
       "      <td>...</td>\n",
       "      <td>...</td>\n",
       "      <td>...</td>\n",
       "      <td>...</td>\n",
       "      <td>...</td>\n",
       "      <td>...</td>\n",
       "      <td>...</td>\n",
       "      <td>...</td>\n",
       "      <td>...</td>\n",
       "      <td>...</td>\n",
       "      <td>...</td>\n",
       "      <td>...</td>\n",
       "    </tr>\n",
       "    <tr>\n",
       "      <th>719265</th>\n",
       "      <td>89053916</td>\n",
       "      <td>2025</td>\n",
       "      <td>5</td>\n",
       "      <td>9</td>\n",
       "      <td>47</td>\n",
       "      <td>1</td>\n",
       "      <td>103.000000</td>\n",
       "      <td>160</td>\n",
       "      <td>22.99884</td>\n",
       "      <td>120.16250</td>\n",
       "      <td>60</td>\n",
       "      <td>60</td>\n",
       "      <td>2025-05-09 23:30:00</td>\n",
       "      <td>0.0</td>\n",
       "      <td>33.3</td>\n",
       "      <td>57</td>\n",
       "      <td>30.4</td>\n",
       "      <td>100</td>\n",
       "      <td>0</td>\n",
       "      <td>10</td>\n",
       "      <td>100</td>\n",
       "      <td>24140.0</td>\n",
       "      <td>9.5</td>\n",
       "      <td>29.1</td>\n",
       "      <td>28.9</td>\n",
       "      <td>0.0</td>\n",
       "      <td>1009.5</td>\n",
       "      <td>1008.9</td>\n",
       "      <td>12.1</td>\n",
       "      <td>12.8</td>\n",
       "      <td>12.6</td>\n",
       "      <td>-0.0</td>\n",
       "      <td>0.07</td>\n",
       "      <td>1.86</td>\n",
       "      <td>20.9</td>\n",
       "      <td>0.0</td>\n",
       "      <td>23</td>\n",
       "      <td>False</td>\n",
       "      <td>2025_5_9_47</td>\n",
       "      <td>4</td>\n",
       "      <td>0.156434</td>\n",
       "      <td>-0.987688</td>\n",
       "      <td>0.207912</td>\n",
       "      <td>-0.978148</td>\n",
       "      <td>0.207912</td>\n",
       "      <td>-0.978148</td>\n",
       "    </tr>\n",
       "    <tr>\n",
       "      <th>719266</th>\n",
       "      <td>89053916</td>\n",
       "      <td>2025</td>\n",
       "      <td>5</td>\n",
       "      <td>9</td>\n",
       "      <td>25</td>\n",
       "      <td>1</td>\n",
       "      <td>84.333333</td>\n",
       "      <td>160</td>\n",
       "      <td>22.99884</td>\n",
       "      <td>120.16250</td>\n",
       "      <td>60</td>\n",
       "      <td>60</td>\n",
       "      <td>2025-05-09 12:30:00</td>\n",
       "      <td>0.0</td>\n",
       "      <td>36.7</td>\n",
       "      <td>51</td>\n",
       "      <td>33.5</td>\n",
       "      <td>100</td>\n",
       "      <td>0</td>\n",
       "      <td>5</td>\n",
       "      <td>100</td>\n",
       "      <td>24140.0</td>\n",
       "      <td>23.4</td>\n",
       "      <td>30.7</td>\n",
       "      <td>30.4</td>\n",
       "      <td>0.0</td>\n",
       "      <td>1009.1</td>\n",
       "      <td>1008.5</td>\n",
       "      <td>29.3</td>\n",
       "      <td>30.2</td>\n",
       "      <td>24.1</td>\n",
       "      <td>0.0</td>\n",
       "      <td>0.75</td>\n",
       "      <td>2.53</td>\n",
       "      <td>22.0</td>\n",
       "      <td>1336.1</td>\n",
       "      <td>12</td>\n",
       "      <td>False</td>\n",
       "      <td>2025_5_9_25</td>\n",
       "      <td>4</td>\n",
       "      <td>-0.422618</td>\n",
       "      <td>-0.906308</td>\n",
       "      <td>-0.358368</td>\n",
       "      <td>-0.933580</td>\n",
       "      <td>-0.358368</td>\n",
       "      <td>-0.933580</td>\n",
       "    </tr>\n",
       "    <tr>\n",
       "      <th>719267</th>\n",
       "      <td>89053916</td>\n",
       "      <td>2025</td>\n",
       "      <td>5</td>\n",
       "      <td>9</td>\n",
       "      <td>5</td>\n",
       "      <td>1</td>\n",
       "      <td>107.000000</td>\n",
       "      <td>160</td>\n",
       "      <td>22.99884</td>\n",
       "      <td>120.16250</td>\n",
       "      <td>60</td>\n",
       "      <td>60</td>\n",
       "      <td>2025-05-09 02:30:00</td>\n",
       "      <td>0.0</td>\n",
       "      <td>32.4</td>\n",
       "      <td>62</td>\n",
       "      <td>29.4</td>\n",
       "      <td>100</td>\n",
       "      <td>0</td>\n",
       "      <td>0</td>\n",
       "      <td>100</td>\n",
       "      <td>24140.0</td>\n",
       "      <td>10.6</td>\n",
       "      <td>28.2</td>\n",
       "      <td>28.0</td>\n",
       "      <td>0.0</td>\n",
       "      <td>1007.9</td>\n",
       "      <td>1007.3</td>\n",
       "      <td>14.9</td>\n",
       "      <td>15.6</td>\n",
       "      <td>16.6</td>\n",
       "      <td>-0.0</td>\n",
       "      <td>0.07</td>\n",
       "      <td>1.56</td>\n",
       "      <td>21.4</td>\n",
       "      <td>0.0</td>\n",
       "      <td>2</td>\n",
       "      <td>False</td>\n",
       "      <td>2025_5_9_5</td>\n",
       "      <td>4</td>\n",
       "      <td>0.173648</td>\n",
       "      <td>-0.984808</td>\n",
       "      <td>0.156434</td>\n",
       "      <td>-0.987688</td>\n",
       "      <td>0.139173</td>\n",
       "      <td>-0.990268</td>\n",
       "    </tr>\n",
       "    <tr>\n",
       "      <th>719268</th>\n",
       "      <td>89053916</td>\n",
       "      <td>2025</td>\n",
       "      <td>5</td>\n",
       "      <td>9</td>\n",
       "      <td>9</td>\n",
       "      <td>1</td>\n",
       "      <td>107.000000</td>\n",
       "      <td>160</td>\n",
       "      <td>22.99884</td>\n",
       "      <td>120.16250</td>\n",
       "      <td>60</td>\n",
       "      <td>60</td>\n",
       "      <td>2025-05-09 04:30:00</td>\n",
       "      <td>0.0</td>\n",
       "      <td>31.1</td>\n",
       "      <td>62</td>\n",
       "      <td>29.0</td>\n",
       "      <td>100</td>\n",
       "      <td>0</td>\n",
       "      <td>0</td>\n",
       "      <td>100</td>\n",
       "      <td>24140.0</td>\n",
       "      <td>15.6</td>\n",
       "      <td>27.9</td>\n",
       "      <td>27.7</td>\n",
       "      <td>0.0</td>\n",
       "      <td>1007.7</td>\n",
       "      <td>1007.1</td>\n",
       "      <td>22.6</td>\n",
       "      <td>24.1</td>\n",
       "      <td>27.4</td>\n",
       "      <td>0.0</td>\n",
       "      <td>0.10</td>\n",
       "      <td>1.52</td>\n",
       "      <td>21.0</td>\n",
       "      <td>0.0</td>\n",
       "      <td>4</td>\n",
       "      <td>False</td>\n",
       "      <td>2025_5_9_9</td>\n",
       "      <td>4</td>\n",
       "      <td>0.139173</td>\n",
       "      <td>-0.990268</td>\n",
       "      <td>0.139173</td>\n",
       "      <td>-0.990268</td>\n",
       "      <td>0.139173</td>\n",
       "      <td>-0.990268</td>\n",
       "    </tr>\n",
       "    <tr>\n",
       "      <th>719269</th>\n",
       "      <td>89053916</td>\n",
       "      <td>2025</td>\n",
       "      <td>5</td>\n",
       "      <td>9</td>\n",
       "      <td>29</td>\n",
       "      <td>1</td>\n",
       "      <td>82.500000</td>\n",
       "      <td>160</td>\n",
       "      <td>22.99884</td>\n",
       "      <td>120.16250</td>\n",
       "      <td>60</td>\n",
       "      <td>60</td>\n",
       "      <td>2025-05-09 14:30:00</td>\n",
       "      <td>0.0</td>\n",
       "      <td>36.4</td>\n",
       "      <td>50</td>\n",
       "      <td>33.4</td>\n",
       "      <td>100</td>\n",
       "      <td>0</td>\n",
       "      <td>0</td>\n",
       "      <td>100</td>\n",
       "      <td>24140.0</td>\n",
       "      <td>21.0</td>\n",
       "      <td>30.6</td>\n",
       "      <td>30.4</td>\n",
       "      <td>0.0</td>\n",
       "      <td>1008.6</td>\n",
       "      <td>1008.0</td>\n",
       "      <td>26.3</td>\n",
       "      <td>27.1</td>\n",
       "      <td>23.0</td>\n",
       "      <td>0.0</td>\n",
       "      <td>0.70</td>\n",
       "      <td>2.57</td>\n",
       "      <td>21.6</td>\n",
       "      <td>1166.6</td>\n",
       "      <td>14</td>\n",
       "      <td>False</td>\n",
       "      <td>2025_5_9_29</td>\n",
       "      <td>4</td>\n",
       "      <td>-0.615661</td>\n",
       "      <td>-0.788011</td>\n",
       "      <td>-0.587785</td>\n",
       "      <td>-0.809017</td>\n",
       "      <td>-0.587785</td>\n",
       "      <td>-0.809017</td>\n",
       "    </tr>\n",
       "  </tbody>\n",
       "</table>\n",
       "<p>2892661 rows × 46 columns</p>\n",
       "</div>"
      ],
      "text/plain": [
       "       ParkingSegmentID  year_val  month_val  day_val  half_hour_interval  \\\n",
       "0                  1421      2024          7       20                  46   \n",
       "1                  1421      2024          7       24                  40   \n",
       "2                  1421      2024          7       24                  18   \n",
       "3                  1421      2024          8       21                   9   \n",
       "4                  1421      2024          9        9                   5   \n",
       "...                 ...       ...        ...      ...                 ...   \n",
       "719265         89053916      2025          5        9                  47   \n",
       "719266         89053916      2025          5        9                  25   \n",
       "719267         89053916      2025          5        9                   5   \n",
       "719268         89053916      2025          5        9                   9   \n",
       "719269         89053916      2025          5        9                  29   \n",
       "\n",
       "        district  avg_available_spots  TotalSpaces       lat        lon  \\\n",
       "0              0             1.000000            3  22.99480  120.19519   \n",
       "1              0             1.000000            3  22.99480  120.19519   \n",
       "2              0             1.000000            3  22.99480  120.19519   \n",
       "3              0             2.000000            3  22.99480  120.19519   \n",
       "4              0             1.000000            3  22.99480  120.19519   \n",
       "...          ...                  ...          ...       ...        ...   \n",
       "719265         1           103.000000          160  22.99884  120.16250   \n",
       "719266         1            84.333333          160  22.99884  120.16250   \n",
       "719267         1           107.000000          160  22.99884  120.16250   \n",
       "719268         1           107.000000          160  22.99884  120.16250   \n",
       "719269         1            82.500000          160  22.99884  120.16250   \n",
       "\n",
       "        firstHourFee  laterHourFee             datetime  precipitation  \\\n",
       "0                  0             0  2024-07-20 23:00:00            0.8   \n",
       "1                  0             0  2024-07-24 20:00:00           15.2   \n",
       "2                 20            20  2024-07-24 09:00:00            0.8   \n",
       "3                  0             0  2024-08-21 04:30:00            0.0   \n",
       "4                  0             0  2024-09-09 02:30:00            0.0   \n",
       "...              ...           ...                  ...            ...   \n",
       "719265            60            60  2025-05-09 23:30:00            0.0   \n",
       "719266            60            60  2025-05-09 12:30:00            0.0   \n",
       "719267            60            60  2025-05-09 02:30:00            0.0   \n",
       "719268            60            60  2025-05-09 04:30:00            0.0   \n",
       "719269            60            60  2025-05-09 14:30:00            0.0   \n",
       "\n",
       "        apparent_temperature  relative_humidity_2m  temperature_2m  \\\n",
       "0                       35.4                    78            29.4   \n",
       "1                       27.6                    94            26.9   \n",
       "2                       28.5                    82            28.4   \n",
       "3                       30.0                    73            26.8   \n",
       "4                       31.5                    73            27.5   \n",
       "...                      ...                   ...             ...   \n",
       "719265                  33.3                    57            30.4   \n",
       "719266                  36.7                    51            33.5   \n",
       "719267                  32.4                    62            29.4   \n",
       "719268                  31.1                    62            29.0   \n",
       "719269                  36.4                    50            33.4   \n",
       "\n",
       "        cloud_cover  cloud_cover_low  cloud_cover_mid  cloud_cover_high  \\\n",
       "0                15                0                0                10   \n",
       "1               100              100              100               100   \n",
       "2               100              100              100               100   \n",
       "3                99                0               90                90   \n",
       "4               100                0                5               100   \n",
       "...             ...              ...              ...               ...   \n",
       "719265          100                0               10               100   \n",
       "719266          100                0                5               100   \n",
       "719267          100                0                0               100   \n",
       "719268          100                0                0               100   \n",
       "719269          100                0                0               100   \n",
       "\n",
       "        visibility  wind_speed_10m  temperature_80m  temperature_120m  \\\n",
       "0          24140.0             5.8             28.7              28.6   \n",
       "1           2300.0            45.1             26.5              26.4   \n",
       "2           9660.0            45.3             27.9              27.7   \n",
       "3          24140.0            10.1             26.8              26.8   \n",
       "4          24140.0             7.1             26.7              26.5   \n",
       "...            ...             ...              ...               ...   \n",
       "719265     24140.0             9.5             29.1              28.9   \n",
       "719266     24140.0            23.4             30.7              30.4   \n",
       "719267     24140.0            10.6             28.2              28.0   \n",
       "719268     24140.0            15.6             27.9              27.7   \n",
       "719269     24140.0            21.0             30.6              30.4   \n",
       "\n",
       "        showers  pressure_msl  surface_pressure  wind_speed_80m  \\\n",
       "0           0.8        1010.1            1009.5             7.4   \n",
       "1           1.2         985.5             984.9            72.7   \n",
       "2           0.8         989.1             988.5            68.6   \n",
       "3           0.0        1010.4            1009.8            17.1   \n",
       "4           0.0        1006.8            1006.2             8.7   \n",
       "...         ...           ...               ...             ...   \n",
       "719265      0.0        1009.5            1008.9            12.1   \n",
       "719266      0.0        1009.1            1008.5            29.3   \n",
       "719267      0.0        1007.9            1007.3            14.9   \n",
       "719268      0.0        1007.7            1007.1            22.6   \n",
       "719269      0.0        1008.6            1008.0            26.3   \n",
       "\n",
       "        wind_speed_120m  wind_gusts_10m  evapotranspiration  \\\n",
       "0                   7.7             7.9                 0.0   \n",
       "1                  77.2            74.5                 0.0   \n",
       "2                  72.6            66.2                 0.0   \n",
       "3                  18.9            19.4                 0.0   \n",
       "4                   8.8             8.3                 0.0   \n",
       "...                 ...             ...                 ...   \n",
       "719265             12.8            12.6                -0.0   \n",
       "719266             30.2            24.1                 0.0   \n",
       "719267             15.6            16.6                -0.0   \n",
       "719268             24.1            27.4                 0.0   \n",
       "719269             27.1            23.0                 0.0   \n",
       "\n",
       "        et0_fao_evapotranspiration  vapour_pressure_deficit  dew_point_2m  \\\n",
       "0                             0.01                     0.90          25.2   \n",
       "1                             0.03                     0.21          25.8   \n",
       "2                             0.15                     0.70          25.0   \n",
       "3                             0.04                     0.95          21.5   \n",
       "4                             0.02                     0.99          22.2   \n",
       "...                            ...                      ...           ...   \n",
       "719265                        0.07                     1.86          20.9   \n",
       "719266                        0.75                     2.53          22.0   \n",
       "719267                        0.07                     1.56          21.4   \n",
       "719268                        0.10                     1.52          21.0   \n",
       "719269                        0.70                     2.57          21.6   \n",
       "\n",
       "        terrestrial_radiation_instant  hour is_national_holiday    datetime_2  \\\n",
       "0                                 0.0    23               False  2024_7_20_46   \n",
       "1                                 0.0    20               False  2024_7_24_40   \n",
       "2                               967.1     9               False  2024_7_24_18   \n",
       "3                                 0.0     4               False   2024_8_21_9   \n",
       "4                                 0.0     2               False    2024_9_9_5   \n",
       "...                               ...   ...                 ...           ...   \n",
       "719265                            0.0    23               False   2025_5_9_47   \n",
       "719266                         1336.1    12               False   2025_5_9_25   \n",
       "719267                            0.0     2               False    2025_5_9_5   \n",
       "719268                            0.0     4               False    2025_5_9_9   \n",
       "719269                         1166.6    14               False   2025_5_9_29   \n",
       "\n",
       "        weekday_num  wind_direction_10m_sin  wind_direction_10m_cos  \\\n",
       "0                 5               -0.069756               -0.997564   \n",
       "1                 2               -0.707107                0.707107   \n",
       "2                 2               -0.358368                0.933580   \n",
       "3                 2                0.573576               -0.819152   \n",
       "4                 0                0.754710               -0.656059   \n",
       "...             ...                     ...                     ...   \n",
       "719265            4                0.156434               -0.987688   \n",
       "719266            4               -0.422618               -0.906308   \n",
       "719267            4                0.173648               -0.984808   \n",
       "719268            4                0.139173               -0.990268   \n",
       "719269            4               -0.615661               -0.788011   \n",
       "\n",
       "        wind_direction_120m_sin  wind_direction_120m_cos  \\\n",
       "0                     -0.422618                -0.906308   \n",
       "1                     -0.642788                 0.766044   \n",
       "2                     -0.309017                 0.951057   \n",
       "3                      0.406737                -0.913545   \n",
       "4                      0.707107                -0.707107   \n",
       "...                         ...                      ...   \n",
       "719265                 0.207912                -0.978148   \n",
       "719266                -0.358368                -0.933580   \n",
       "719267                 0.156434                -0.987688   \n",
       "719268                 0.139173                -0.990268   \n",
       "719269                -0.587785                -0.809017   \n",
       "\n",
       "        wind_direction_80m_sin  wind_direction_80m_cos  \n",
       "0                    -0.390731               -0.920505  \n",
       "1                    -0.656059                0.754710  \n",
       "2                    -0.309017                0.951057  \n",
       "3                     0.469472               -0.882948  \n",
       "4                     0.707107               -0.707107  \n",
       "...                        ...                     ...  \n",
       "719265                0.207912               -0.978148  \n",
       "719266               -0.358368               -0.933580  \n",
       "719267                0.139173               -0.990268  \n",
       "719268                0.139173               -0.990268  \n",
       "719269               -0.587785               -0.809017  \n",
       "\n",
       "[2892661 rows x 46 columns]"
      ]
     },
     "execution_count": 12,
     "metadata": {},
     "output_type": "execute_result"
    }
   ],
   "source": [
    "df_final"
   ]
  },
  {
   "cell_type": "code",
   "execution_count": null,
   "metadata": {
    "trusted": true
   },
   "outputs": [],
   "source": [
    "def add_cyclical_features(df):\n",
    "    # month (1–12 → 12 periods)\n",
    "    \n",
    "    # date (1–31 → 31 periods)\n",
    "    df['day_sin'] = np.sin(2 * np.pi * df['day_val'] / 31)\n",
    "    df['day_cos'] = np.cos(2 * np.pi * df['day_val'] / 31)\n",
    "    \n",
    "    # half-hour intervals (0–47 → 48 periods)\n",
    "    df['half_hour_sin'] = np.sin(2 * np.pi * df['half_hour_interval'] / 48)\n",
    "    df['half_hour_cos'] = np.cos(2 * np.pi * df['half_hour_interval'] / 48)\n",
    "    \n",
    "    return df\n",
    "\n",
    "df_final = add_cyclical_features(df_final)\n",
    "df_final = pd.get_dummies(df_final, columns=['month_val', 'weekday_num'])\n",
    "df_final[\"day_off\"] = df_final[\"is_national_holiday\"] | df_final[\"weekday_num_6\"] | df_final[\"weekday_num_5\"]\n",
    "df_final.drop(columns=[\"is_national_holiday\"], inplace = True)"
   ]
  },
  {
   "cell_type": "code",
   "execution_count": null,
   "metadata": {},
   "outputs": [],
   "source": []
  },
  {
   "cell_type": "code",
   "execution_count": 14,
   "metadata": {
    "trusted": true
   },
   "outputs": [
    {
     "name": "stderr",
     "output_type": "stream",
     "text": [
      "/var/folders/wt/6hl8qhss3jz9zrdh6n8f3_qh0000gn/T/ipykernel_36205/1851175704.py:5: SettingWithCopyWarning: \n",
      "A value is trying to be set on a copy of a slice from a DataFrame\n",
      "\n",
      "See the caveats in the documentation: https://pandas.pydata.org/pandas-docs/stable/user_guide/indexing.html#returning-a-view-versus-a-copy\n",
      "  df_train.drop(columns=[\"datetime\"], inplace=True)\n",
      "/var/folders/wt/6hl8qhss3jz9zrdh6n8f3_qh0000gn/T/ipykernel_36205/1851175704.py:6: SettingWithCopyWarning: \n",
      "A value is trying to be set on a copy of a slice from a DataFrame\n",
      "\n",
      "See the caveats in the documentation: https://pandas.pydata.org/pandas-docs/stable/user_guide/indexing.html#returning-a-view-versus-a-copy\n",
      "  df_val.drop(columns=[\"datetime\"], inplace=True)\n",
      "/var/folders/wt/6hl8qhss3jz9zrdh6n8f3_qh0000gn/T/ipykernel_36205/1851175704.py:7: SettingWithCopyWarning: \n",
      "A value is trying to be set on a copy of a slice from a DataFrame\n",
      "\n",
      "See the caveats in the documentation: https://pandas.pydata.org/pandas-docs/stable/user_guide/indexing.html#returning-a-view-versus-a-copy\n",
      "  df_test.drop(columns=[\"datetime\"], inplace=True)\n"
     ]
    },
    {
     "data": {
      "text/html": [
       "<div>\n",
       "<style scoped>\n",
       "    .dataframe tbody tr th:only-of-type {\n",
       "        vertical-align: middle;\n",
       "    }\n",
       "\n",
       "    .dataframe tbody tr th {\n",
       "        vertical-align: top;\n",
       "    }\n",
       "\n",
       "    .dataframe thead th {\n",
       "        text-align: right;\n",
       "    }\n",
       "</style>\n",
       "<table border=\"1\" class=\"dataframe\">\n",
       "  <thead>\n",
       "    <tr style=\"text-align: right;\">\n",
       "      <th></th>\n",
       "      <th>ParkingSegmentID</th>\n",
       "      <th>year_val</th>\n",
       "      <th>day_val</th>\n",
       "      <th>half_hour_interval</th>\n",
       "      <th>district</th>\n",
       "      <th>avg_available_spots</th>\n",
       "      <th>TotalSpaces</th>\n",
       "      <th>lat</th>\n",
       "      <th>lon</th>\n",
       "      <th>firstHourFee</th>\n",
       "      <th>laterHourFee</th>\n",
       "      <th>precipitation</th>\n",
       "      <th>apparent_temperature</th>\n",
       "      <th>relative_humidity_2m</th>\n",
       "      <th>temperature_2m</th>\n",
       "      <th>cloud_cover</th>\n",
       "      <th>cloud_cover_low</th>\n",
       "      <th>cloud_cover_mid</th>\n",
       "      <th>cloud_cover_high</th>\n",
       "      <th>visibility</th>\n",
       "      <th>wind_speed_10m</th>\n",
       "      <th>temperature_80m</th>\n",
       "      <th>temperature_120m</th>\n",
       "      <th>showers</th>\n",
       "      <th>pressure_msl</th>\n",
       "      <th>surface_pressure</th>\n",
       "      <th>wind_speed_80m</th>\n",
       "      <th>wind_speed_120m</th>\n",
       "      <th>wind_gusts_10m</th>\n",
       "      <th>evapotranspiration</th>\n",
       "      <th>et0_fao_evapotranspiration</th>\n",
       "      <th>vapour_pressure_deficit</th>\n",
       "      <th>dew_point_2m</th>\n",
       "      <th>terrestrial_radiation_instant</th>\n",
       "      <th>hour</th>\n",
       "      <th>datetime_2</th>\n",
       "      <th>wind_direction_10m_sin</th>\n",
       "      <th>wind_direction_10m_cos</th>\n",
       "      <th>wind_direction_120m_sin</th>\n",
       "      <th>wind_direction_120m_cos</th>\n",
       "      <th>wind_direction_80m_sin</th>\n",
       "      <th>wind_direction_80m_cos</th>\n",
       "      <th>day_sin</th>\n",
       "      <th>day_cos</th>\n",
       "      <th>half_hour_sin</th>\n",
       "      <th>half_hour_cos</th>\n",
       "      <th>month_val_1</th>\n",
       "      <th>month_val_2</th>\n",
       "      <th>month_val_3</th>\n",
       "      <th>month_val_4</th>\n",
       "      <th>month_val_5</th>\n",
       "      <th>month_val_6</th>\n",
       "      <th>month_val_7</th>\n",
       "      <th>month_val_8</th>\n",
       "      <th>month_val_9</th>\n",
       "      <th>month_val_10</th>\n",
       "      <th>month_val_11</th>\n",
       "      <th>month_val_12</th>\n",
       "      <th>weekday_num_0</th>\n",
       "      <th>weekday_num_1</th>\n",
       "      <th>weekday_num_2</th>\n",
       "      <th>weekday_num_3</th>\n",
       "      <th>weekday_num_4</th>\n",
       "      <th>weekday_num_5</th>\n",
       "      <th>weekday_num_6</th>\n",
       "      <th>day_off</th>\n",
       "    </tr>\n",
       "  </thead>\n",
       "  <tbody>\n",
       "    <tr>\n",
       "      <th>66246</th>\n",
       "      <td>1421</td>\n",
       "      <td>2025</td>\n",
       "      <td>27</td>\n",
       "      <td>5</td>\n",
       "      <td>0</td>\n",
       "      <td>1.0</td>\n",
       "      <td>3</td>\n",
       "      <td>22.99480</td>\n",
       "      <td>120.19519</td>\n",
       "      <td>0</td>\n",
       "      <td>0</td>\n",
       "      <td>0.0</td>\n",
       "      <td>26.7</td>\n",
       "      <td>71</td>\n",
       "      <td>24.7</td>\n",
       "      <td>0</td>\n",
       "      <td>0</td>\n",
       "      <td>0</td>\n",
       "      <td>0</td>\n",
       "      <td>24140.0</td>\n",
       "      <td>9.6</td>\n",
       "      <td>23.4</td>\n",
       "      <td>23.2</td>\n",
       "      <td>0.0</td>\n",
       "      <td>1013.6</td>\n",
       "      <td>1013.0</td>\n",
       "      <td>11.3</td>\n",
       "      <td>11.9</td>\n",
       "      <td>8.6</td>\n",
       "      <td>-0.0</td>\n",
       "      <td>0.03</td>\n",
       "      <td>0.90</td>\n",
       "      <td>19.1</td>\n",
       "      <td>0.0</td>\n",
       "      <td>2</td>\n",
       "      <td>2025_4_27_5</td>\n",
       "      <td>0.224951</td>\n",
       "      <td>0.974370</td>\n",
       "      <td>0.156434</td>\n",
       "      <td>0.987688</td>\n",
       "      <td>0.156434</td>\n",
       "      <td>0.987688</td>\n",
       "      <td>-0.724793</td>\n",
       "      <td>0.688967</td>\n",
       "      <td>0.608761</td>\n",
       "      <td>0.793353</td>\n",
       "      <td>False</td>\n",
       "      <td>False</td>\n",
       "      <td>False</td>\n",
       "      <td>True</td>\n",
       "      <td>False</td>\n",
       "      <td>False</td>\n",
       "      <td>False</td>\n",
       "      <td>False</td>\n",
       "      <td>False</td>\n",
       "      <td>False</td>\n",
       "      <td>False</td>\n",
       "      <td>False</td>\n",
       "      <td>False</td>\n",
       "      <td>False</td>\n",
       "      <td>False</td>\n",
       "      <td>False</td>\n",
       "      <td>False</td>\n",
       "      <td>False</td>\n",
       "      <td>True</td>\n",
       "      <td>True</td>\n",
       "    </tr>\n",
       "    <tr>\n",
       "      <th>66247</th>\n",
       "      <td>1421</td>\n",
       "      <td>2025</td>\n",
       "      <td>28</td>\n",
       "      <td>40</td>\n",
       "      <td>0</td>\n",
       "      <td>1.0</td>\n",
       "      <td>3</td>\n",
       "      <td>22.99480</td>\n",
       "      <td>120.19519</td>\n",
       "      <td>0</td>\n",
       "      <td>0</td>\n",
       "      <td>0.0</td>\n",
       "      <td>28.1</td>\n",
       "      <td>62</td>\n",
       "      <td>27.4</td>\n",
       "      <td>0</td>\n",
       "      <td>0</td>\n",
       "      <td>0</td>\n",
       "      <td>0</td>\n",
       "      <td>24140.0</td>\n",
       "      <td>19.5</td>\n",
       "      <td>25.9</td>\n",
       "      <td>25.7</td>\n",
       "      <td>0.0</td>\n",
       "      <td>1011.2</td>\n",
       "      <td>1010.6</td>\n",
       "      <td>27.0</td>\n",
       "      <td>27.9</td>\n",
       "      <td>24.1</td>\n",
       "      <td>-0.0</td>\n",
       "      <td>0.11</td>\n",
       "      <td>1.39</td>\n",
       "      <td>19.5</td>\n",
       "      <td>0.0</td>\n",
       "      <td>20</td>\n",
       "      <td>2025_4_28_40</td>\n",
       "      <td>0.034899</td>\n",
       "      <td>0.999391</td>\n",
       "      <td>0.034899</td>\n",
       "      <td>0.999391</td>\n",
       "      <td>0.034899</td>\n",
       "      <td>0.999391</td>\n",
       "      <td>-0.571268</td>\n",
       "      <td>0.820763</td>\n",
       "      <td>-0.866025</td>\n",
       "      <td>0.500000</td>\n",
       "      <td>False</td>\n",
       "      <td>False</td>\n",
       "      <td>False</td>\n",
       "      <td>True</td>\n",
       "      <td>False</td>\n",
       "      <td>False</td>\n",
       "      <td>False</td>\n",
       "      <td>False</td>\n",
       "      <td>False</td>\n",
       "      <td>False</td>\n",
       "      <td>False</td>\n",
       "      <td>False</td>\n",
       "      <td>True</td>\n",
       "      <td>False</td>\n",
       "      <td>False</td>\n",
       "      <td>False</td>\n",
       "      <td>False</td>\n",
       "      <td>False</td>\n",
       "      <td>False</td>\n",
       "      <td>False</td>\n",
       "    </tr>\n",
       "    <tr>\n",
       "      <th>66250</th>\n",
       "      <td>1421</td>\n",
       "      <td>2025</td>\n",
       "      <td>4</td>\n",
       "      <td>20</td>\n",
       "      <td>0</td>\n",
       "      <td>1.0</td>\n",
       "      <td>3</td>\n",
       "      <td>22.99480</td>\n",
       "      <td>120.19519</td>\n",
       "      <td>20</td>\n",
       "      <td>20</td>\n",
       "      <td>0.0</td>\n",
       "      <td>36.2</td>\n",
       "      <td>49</td>\n",
       "      <td>31.9</td>\n",
       "      <td>83</td>\n",
       "      <td>0</td>\n",
       "      <td>0</td>\n",
       "      <td>82</td>\n",
       "      <td>24140.0</td>\n",
       "      <td>6.5</td>\n",
       "      <td>29.4</td>\n",
       "      <td>29.2</td>\n",
       "      <td>0.0</td>\n",
       "      <td>1009.3</td>\n",
       "      <td>1008.7</td>\n",
       "      <td>6.1</td>\n",
       "      <td>6.3</td>\n",
       "      <td>5.0</td>\n",
       "      <td>0.0</td>\n",
       "      <td>0.61</td>\n",
       "      <td>2.41</td>\n",
       "      <td>19.9</td>\n",
       "      <td>1187.1</td>\n",
       "      <td>10</td>\n",
       "      <td>2025_5_4_20</td>\n",
       "      <td>-0.829038</td>\n",
       "      <td>0.559193</td>\n",
       "      <td>-0.766044</td>\n",
       "      <td>0.642788</td>\n",
       "      <td>-0.766044</td>\n",
       "      <td>0.642788</td>\n",
       "      <td>0.724793</td>\n",
       "      <td>0.688967</td>\n",
       "      <td>0.500000</td>\n",
       "      <td>-0.866025</td>\n",
       "      <td>False</td>\n",
       "      <td>False</td>\n",
       "      <td>False</td>\n",
       "      <td>False</td>\n",
       "      <td>True</td>\n",
       "      <td>False</td>\n",
       "      <td>False</td>\n",
       "      <td>False</td>\n",
       "      <td>False</td>\n",
       "      <td>False</td>\n",
       "      <td>False</td>\n",
       "      <td>False</td>\n",
       "      <td>False</td>\n",
       "      <td>False</td>\n",
       "      <td>False</td>\n",
       "      <td>False</td>\n",
       "      <td>False</td>\n",
       "      <td>False</td>\n",
       "      <td>True</td>\n",
       "      <td>True</td>\n",
       "    </tr>\n",
       "    <tr>\n",
       "      <th>66256</th>\n",
       "      <td>181</td>\n",
       "      <td>2025</td>\n",
       "      <td>29</td>\n",
       "      <td>5</td>\n",
       "      <td>0</td>\n",
       "      <td>28.5</td>\n",
       "      <td>51</td>\n",
       "      <td>22.98488</td>\n",
       "      <td>120.20178</td>\n",
       "      <td>0</td>\n",
       "      <td>0</td>\n",
       "      <td>0.0</td>\n",
       "      <td>27.9</td>\n",
       "      <td>63</td>\n",
       "      <td>26.2</td>\n",
       "      <td>7</td>\n",
       "      <td>0</td>\n",
       "      <td>0</td>\n",
       "      <td>5</td>\n",
       "      <td>24140.0</td>\n",
       "      <td>9.8</td>\n",
       "      <td>24.9</td>\n",
       "      <td>24.7</td>\n",
       "      <td>0.0</td>\n",
       "      <td>1010.3</td>\n",
       "      <td>1009.7</td>\n",
       "      <td>14.4</td>\n",
       "      <td>15.2</td>\n",
       "      <td>11.2</td>\n",
       "      <td>-0.0</td>\n",
       "      <td>0.05</td>\n",
       "      <td>1.26</td>\n",
       "      <td>18.6</td>\n",
       "      <td>0.0</td>\n",
       "      <td>2</td>\n",
       "      <td>2025_4_29_5</td>\n",
       "      <td>-0.469472</td>\n",
       "      <td>-0.882948</td>\n",
       "      <td>-0.529919</td>\n",
       "      <td>-0.848048</td>\n",
       "      <td>-0.529919</td>\n",
       "      <td>-0.848048</td>\n",
       "      <td>-0.394356</td>\n",
       "      <td>0.918958</td>\n",
       "      <td>0.608761</td>\n",
       "      <td>0.793353</td>\n",
       "      <td>False</td>\n",
       "      <td>False</td>\n",
       "      <td>False</td>\n",
       "      <td>True</td>\n",
       "      <td>False</td>\n",
       "      <td>False</td>\n",
       "      <td>False</td>\n",
       "      <td>False</td>\n",
       "      <td>False</td>\n",
       "      <td>False</td>\n",
       "      <td>False</td>\n",
       "      <td>False</td>\n",
       "      <td>False</td>\n",
       "      <td>True</td>\n",
       "      <td>False</td>\n",
       "      <td>False</td>\n",
       "      <td>False</td>\n",
       "      <td>False</td>\n",
       "      <td>False</td>\n",
       "      <td>False</td>\n",
       "    </tr>\n",
       "    <tr>\n",
       "      <th>66261</th>\n",
       "      <td>181</td>\n",
       "      <td>2025</td>\n",
       "      <td>6</td>\n",
       "      <td>47</td>\n",
       "      <td>0</td>\n",
       "      <td>30.0</td>\n",
       "      <td>51</td>\n",
       "      <td>22.98488</td>\n",
       "      <td>120.20178</td>\n",
       "      <td>0</td>\n",
       "      <td>0</td>\n",
       "      <td>0.0</td>\n",
       "      <td>32.7</td>\n",
       "      <td>67</td>\n",
       "      <td>28.8</td>\n",
       "      <td>23</td>\n",
       "      <td>8</td>\n",
       "      <td>0</td>\n",
       "      <td>14</td>\n",
       "      <td>24140.0</td>\n",
       "      <td>6.9</td>\n",
       "      <td>27.3</td>\n",
       "      <td>27.1</td>\n",
       "      <td>0.0</td>\n",
       "      <td>1009.3</td>\n",
       "      <td>1008.7</td>\n",
       "      <td>7.8</td>\n",
       "      <td>7.9</td>\n",
       "      <td>7.6</td>\n",
       "      <td>-0.0</td>\n",
       "      <td>0.03</td>\n",
       "      <td>1.30</td>\n",
       "      <td>22.1</td>\n",
       "      <td>0.0</td>\n",
       "      <td>23</td>\n",
       "      <td>2025_5_6_47</td>\n",
       "      <td>-0.469472</td>\n",
       "      <td>-0.882948</td>\n",
       "      <td>-0.374607</td>\n",
       "      <td>-0.927184</td>\n",
       "      <td>-0.374607</td>\n",
       "      <td>-0.927184</td>\n",
       "      <td>0.937752</td>\n",
       "      <td>0.347305</td>\n",
       "      <td>-0.130526</td>\n",
       "      <td>0.991445</td>\n",
       "      <td>False</td>\n",
       "      <td>False</td>\n",
       "      <td>False</td>\n",
       "      <td>False</td>\n",
       "      <td>True</td>\n",
       "      <td>False</td>\n",
       "      <td>False</td>\n",
       "      <td>False</td>\n",
       "      <td>False</td>\n",
       "      <td>False</td>\n",
       "      <td>False</td>\n",
       "      <td>False</td>\n",
       "      <td>False</td>\n",
       "      <td>True</td>\n",
       "      <td>False</td>\n",
       "      <td>False</td>\n",
       "      <td>False</td>\n",
       "      <td>False</td>\n",
       "      <td>False</td>\n",
       "      <td>False</td>\n",
       "    </tr>\n",
       "  </tbody>\n",
       "</table>\n",
       "</div>"
      ],
      "text/plain": [
       "      ParkingSegmentID  year_val  day_val  half_hour_interval  district  \\\n",
       "66246             1421      2025       27                   5         0   \n",
       "66247             1421      2025       28                  40         0   \n",
       "66250             1421      2025        4                  20         0   \n",
       "66256              181      2025       29                   5         0   \n",
       "66261              181      2025        6                  47         0   \n",
       "\n",
       "       avg_available_spots  TotalSpaces       lat        lon  firstHourFee  \\\n",
       "66246                  1.0            3  22.99480  120.19519             0   \n",
       "66247                  1.0            3  22.99480  120.19519             0   \n",
       "66250                  1.0            3  22.99480  120.19519            20   \n",
       "66256                 28.5           51  22.98488  120.20178             0   \n",
       "66261                 30.0           51  22.98488  120.20178             0   \n",
       "\n",
       "       laterHourFee  precipitation  apparent_temperature  \\\n",
       "66246             0            0.0                  26.7   \n",
       "66247             0            0.0                  28.1   \n",
       "66250            20            0.0                  36.2   \n",
       "66256             0            0.0                  27.9   \n",
       "66261             0            0.0                  32.7   \n",
       "\n",
       "       relative_humidity_2m  temperature_2m  cloud_cover  cloud_cover_low  \\\n",
       "66246                    71            24.7            0                0   \n",
       "66247                    62            27.4            0                0   \n",
       "66250                    49            31.9           83                0   \n",
       "66256                    63            26.2            7                0   \n",
       "66261                    67            28.8           23                8   \n",
       "\n",
       "       cloud_cover_mid  cloud_cover_high  visibility  wind_speed_10m  \\\n",
       "66246                0                 0     24140.0             9.6   \n",
       "66247                0                 0     24140.0            19.5   \n",
       "66250                0                82     24140.0             6.5   \n",
       "66256                0                 5     24140.0             9.8   \n",
       "66261                0                14     24140.0             6.9   \n",
       "\n",
       "       temperature_80m  temperature_120m  showers  pressure_msl  \\\n",
       "66246             23.4              23.2      0.0        1013.6   \n",
       "66247             25.9              25.7      0.0        1011.2   \n",
       "66250             29.4              29.2      0.0        1009.3   \n",
       "66256             24.9              24.7      0.0        1010.3   \n",
       "66261             27.3              27.1      0.0        1009.3   \n",
       "\n",
       "       surface_pressure  wind_speed_80m  wind_speed_120m  wind_gusts_10m  \\\n",
       "66246            1013.0            11.3             11.9             8.6   \n",
       "66247            1010.6            27.0             27.9            24.1   \n",
       "66250            1008.7             6.1              6.3             5.0   \n",
       "66256            1009.7            14.4             15.2            11.2   \n",
       "66261            1008.7             7.8              7.9             7.6   \n",
       "\n",
       "       evapotranspiration  et0_fao_evapotranspiration  \\\n",
       "66246                -0.0                        0.03   \n",
       "66247                -0.0                        0.11   \n",
       "66250                 0.0                        0.61   \n",
       "66256                -0.0                        0.05   \n",
       "66261                -0.0                        0.03   \n",
       "\n",
       "       vapour_pressure_deficit  dew_point_2m  terrestrial_radiation_instant  \\\n",
       "66246                     0.90          19.1                            0.0   \n",
       "66247                     1.39          19.5                            0.0   \n",
       "66250                     2.41          19.9                         1187.1   \n",
       "66256                     1.26          18.6                            0.0   \n",
       "66261                     1.30          22.1                            0.0   \n",
       "\n",
       "       hour    datetime_2  wind_direction_10m_sin  wind_direction_10m_cos  \\\n",
       "66246     2   2025_4_27_5                0.224951                0.974370   \n",
       "66247    20  2025_4_28_40                0.034899                0.999391   \n",
       "66250    10   2025_5_4_20               -0.829038                0.559193   \n",
       "66256     2   2025_4_29_5               -0.469472               -0.882948   \n",
       "66261    23   2025_5_6_47               -0.469472               -0.882948   \n",
       "\n",
       "       wind_direction_120m_sin  wind_direction_120m_cos  \\\n",
       "66246                 0.156434                 0.987688   \n",
       "66247                 0.034899                 0.999391   \n",
       "66250                -0.766044                 0.642788   \n",
       "66256                -0.529919                -0.848048   \n",
       "66261                -0.374607                -0.927184   \n",
       "\n",
       "       wind_direction_80m_sin  wind_direction_80m_cos   day_sin   day_cos  \\\n",
       "66246                0.156434                0.987688 -0.724793  0.688967   \n",
       "66247                0.034899                0.999391 -0.571268  0.820763   \n",
       "66250               -0.766044                0.642788  0.724793  0.688967   \n",
       "66256               -0.529919               -0.848048 -0.394356  0.918958   \n",
       "66261               -0.374607               -0.927184  0.937752  0.347305   \n",
       "\n",
       "       half_hour_sin  half_hour_cos  month_val_1  month_val_2  month_val_3  \\\n",
       "66246       0.608761       0.793353        False        False        False   \n",
       "66247      -0.866025       0.500000        False        False        False   \n",
       "66250       0.500000      -0.866025        False        False        False   \n",
       "66256       0.608761       0.793353        False        False        False   \n",
       "66261      -0.130526       0.991445        False        False        False   \n",
       "\n",
       "       month_val_4  month_val_5  month_val_6  month_val_7  month_val_8  \\\n",
       "66246         True        False        False        False        False   \n",
       "66247         True        False        False        False        False   \n",
       "66250        False         True        False        False        False   \n",
       "66256         True        False        False        False        False   \n",
       "66261        False         True        False        False        False   \n",
       "\n",
       "       month_val_9  month_val_10  month_val_11  month_val_12  weekday_num_0  \\\n",
       "66246        False         False         False         False          False   \n",
       "66247        False         False         False         False           True   \n",
       "66250        False         False         False         False          False   \n",
       "66256        False         False         False         False          False   \n",
       "66261        False         False         False         False          False   \n",
       "\n",
       "       weekday_num_1  weekday_num_2  weekday_num_3  weekday_num_4  \\\n",
       "66246          False          False          False          False   \n",
       "66247          False          False          False          False   \n",
       "66250          False          False          False          False   \n",
       "66256           True          False          False          False   \n",
       "66261           True          False          False          False   \n",
       "\n",
       "       weekday_num_5  weekday_num_6  day_off  \n",
       "66246          False           True     True  \n",
       "66247          False          False    False  \n",
       "66250          False           True     True  \n",
       "66256          False          False    False  \n",
       "66261          False          False    False  "
      ]
     },
     "execution_count": 14,
     "metadata": {},
     "output_type": "execute_result"
    }
   ],
   "source": [
    "df_final[\"datetime\"] = pd.to_datetime(df_final[\"datetime\"])\n",
    "df_train = df_final[df_final[\"datetime\"] < \"2025-01-23\"]\n",
    "df_val = df_final[(df_final[\"datetime\"] >= \"2025-01-23\") & (df_final[\"datetime\"] < \"2025-03-23\")]\n",
    "df_test = df_final[df_final[\"datetime\"] >= \"2025-03-23\"]\n",
    "df_train.drop(columns=[\"datetime\"], inplace=True)\n",
    "df_val.drop(columns=[\"datetime\"], inplace=True)\n",
    "df_test.drop(columns=[\"datetime\"], inplace=True)\n",
    "df_train.head()\n",
    "df_val.head()\n",
    "df_test.head()"
   ]
  },
  {
   "cell_type": "code",
   "execution_count": 15,
   "metadata": {
    "trusted": true
   },
   "outputs": [
    {
     "name": "stderr",
     "output_type": "stream",
     "text": [
      "/var/folders/wt/6hl8qhss3jz9zrdh6n8f3_qh0000gn/T/ipykernel_36205/3745555813.py:1: SettingWithCopyWarning: \n",
      "A value is trying to be set on a copy of a slice from a DataFrame.\n",
      "Try using .loc[row_indexer,col_indexer] = value instead\n",
      "\n",
      "See the caveats in the documentation: https://pandas.pydata.org/pandas-docs/stable/user_guide/indexing.html#returning-a-view-versus-a-copy\n",
      "  df_train['available_percent'] = df_train[\"avg_available_spots\"]\n",
      "/var/folders/wt/6hl8qhss3jz9zrdh6n8f3_qh0000gn/T/ipykernel_36205/3745555813.py:2: SettingWithCopyWarning: \n",
      "A value is trying to be set on a copy of a slice from a DataFrame.\n",
      "Try using .loc[row_indexer,col_indexer] = value instead\n",
      "\n",
      "See the caveats in the documentation: https://pandas.pydata.org/pandas-docs/stable/user_guide/indexing.html#returning-a-view-versus-a-copy\n",
      "  df_val['available_percent'] = df_val[\"avg_available_spots\"]\n",
      "/var/folders/wt/6hl8qhss3jz9zrdh6n8f3_qh0000gn/T/ipykernel_36205/3745555813.py:3: SettingWithCopyWarning: \n",
      "A value is trying to be set on a copy of a slice from a DataFrame.\n",
      "Try using .loc[row_indexer,col_indexer] = value instead\n",
      "\n",
      "See the caveats in the documentation: https://pandas.pydata.org/pandas-docs/stable/user_guide/indexing.html#returning-a-view-versus-a-copy\n",
      "  df_test['available_percent'] = df_test[\"avg_available_spots\"]\n",
      "/var/folders/wt/6hl8qhss3jz9zrdh6n8f3_qh0000gn/T/ipykernel_36205/3745555813.py:4: SettingWithCopyWarning: \n",
      "A value is trying to be set on a copy of a slice from a DataFrame\n",
      "\n",
      "See the caveats in the documentation: https://pandas.pydata.org/pandas-docs/stable/user_guide/indexing.html#returning-a-view-versus-a-copy\n",
      "  df_train.drop(columns=[\"avg_available_spots\"], inplace=True)\n",
      "/var/folders/wt/6hl8qhss3jz9zrdh6n8f3_qh0000gn/T/ipykernel_36205/3745555813.py:5: SettingWithCopyWarning: \n",
      "A value is trying to be set on a copy of a slice from a DataFrame\n",
      "\n",
      "See the caveats in the documentation: https://pandas.pydata.org/pandas-docs/stable/user_guide/indexing.html#returning-a-view-versus-a-copy\n",
      "  df_val.drop(columns=[\"avg_available_spots\"], inplace=True)\n",
      "/var/folders/wt/6hl8qhss3jz9zrdh6n8f3_qh0000gn/T/ipykernel_36205/3745555813.py:6: SettingWithCopyWarning: \n",
      "A value is trying to be set on a copy of a slice from a DataFrame\n",
      "\n",
      "See the caveats in the documentation: https://pandas.pydata.org/pandas-docs/stable/user_guide/indexing.html#returning-a-view-versus-a-copy\n",
      "  df_test.drop(columns=[\"avg_available_spots\"], inplace=True)\n"
     ]
    }
   ],
   "source": [
    "df_train['available_percent'] = df_train[\"avg_available_spots\"]\n",
    "df_val['available_percent'] = df_val[\"avg_available_spots\"]\n",
    "df_test['available_percent'] = df_test[\"avg_available_spots\"]\n",
    "df_train.drop(columns=[\"avg_available_spots\"], inplace=True)\n",
    "df_val.drop(columns=[\"avg_available_spots\"], inplace=True)\n",
    "df_test.drop(columns=[\"avg_available_spots\"], inplace=True)"
   ]
  },
  {
   "cell_type": "code",
   "execution_count": null,
   "metadata": {
    "trusted": true
   },
   "outputs": [
    {
     "name": "stdout",
     "output_type": "stream",
     "text": [
      "147\n",
      "152\n",
      "157\n",
      "val 停車場數量: 147\n",
      "test 停車場數量: 147\n"
     ]
    }
   ],
   "source": [
    "print(len(df_train.loc[df_train['datetime_2'] == \"2024_1_23_2\", 'ParkingSegmentID'].unique()))\n",
    "print(len(df_train['ParkingSegmentID'].unique()))\n",
    "print(len(df_test['ParkingSegmentID'].unique()))\n",
    "# retrieve all parking lot IDs from the training set\n",
    "train_seg_id = set(df_train.loc[df_train['datetime_2'] == \"2024_1_23_2\", 'ParkingSegmentID'].unique())\n",
    "\n",
    "# filter validation/test sets to retain only the IDs present in the training set\n",
    "df_train = df_train[df_train['ParkingSegmentID'].isin(train_seg_id)].copy()\n",
    "df_val = df_val[df_val['ParkingSegmentID'].isin(train_seg_id)].copy()\n",
    "df_test = df_test[df_test['ParkingSegmentID'].isin(train_seg_id)].copy()\n",
    "\n",
    "print(\"val 停車場數量:\", len(df_val['ParkingSegmentID'].unique()))\n",
    "print(\"test 停車場數量:\", len(df_test['ParkingSegmentID'].unique()))"
   ]
  },
  {
   "cell_type": "code",
   "execution_count": 17,
   "metadata": {
    "trusted": true
   },
   "outputs": [
    {
     "data": {
      "text/plain": [
       "Index(['ParkingSegmentID', 'year_val', 'day_val', 'half_hour_interval',\n",
       "       'district', 'TotalSpaces', 'lat', 'lon', 'firstHourFee', 'laterHourFee',\n",
       "       'precipitation', 'apparent_temperature', 'relative_humidity_2m',\n",
       "       'temperature_2m', 'cloud_cover', 'cloud_cover_low', 'cloud_cover_mid',\n",
       "       'cloud_cover_high', 'visibility', 'wind_speed_10m', 'temperature_80m',\n",
       "       'temperature_120m', 'showers', 'pressure_msl', 'surface_pressure',\n",
       "       'wind_speed_80m', 'wind_speed_120m', 'wind_gusts_10m',\n",
       "       'evapotranspiration', 'et0_fao_evapotranspiration',\n",
       "       'vapour_pressure_deficit', 'dew_point_2m',\n",
       "       'terrestrial_radiation_instant', 'hour', 'datetime_2',\n",
       "       'wind_direction_10m_sin', 'wind_direction_10m_cos',\n",
       "       'wind_direction_120m_sin', 'wind_direction_120m_cos',\n",
       "       'wind_direction_80m_sin', 'wind_direction_80m_cos', 'day_sin',\n",
       "       'day_cos', 'half_hour_sin', 'half_hour_cos', 'month_val_1',\n",
       "       'month_val_2', 'month_val_3', 'month_val_4', 'month_val_5',\n",
       "       'month_val_6', 'month_val_7', 'month_val_8', 'month_val_9',\n",
       "       'month_val_10', 'month_val_11', 'month_val_12', 'weekday_num_0',\n",
       "       'weekday_num_1', 'weekday_num_2', 'weekday_num_3', 'weekday_num_4',\n",
       "       'weekday_num_5', 'weekday_num_6', 'day_off', 'available_percent'],\n",
       "      dtype='object')"
      ]
     },
     "execution_count": 17,
     "metadata": {},
     "output_type": "execute_result"
    }
   ],
   "source": [
    "df_train.columns"
   ]
  },
  {
   "cell_type": "code",
   "execution_count": 18,
   "metadata": {
    "trusted": true
   },
   "outputs": [],
   "source": [
    "spatial_cols = ['lat', 'lon'\n",
    "                   ]\n",
    "temporal_cols = [\n",
    " 'TotalSpaces',\n",
    " 'firstHourFee',\n",
    " 'relative_humidity_2m',\n",
    " 'et0_fao_evapotranspiration',\n",
    " 'terrestrial_radiation_instant',\n",
    " 'day_sin',\n",
    " 'half_hour_sin',\n",
    " 'half_hour_cos',\n",
    " 'month_val_4',\n",
    " 'weekday_num_0',\n",
    " 'weekday_num_5',\n",
    " 'weekday_num_6',\n",
    " 'day_off']\n",
    "spatial_cols_to_scale = ['lat', 'lon']\n",
    "temporal_cols_to_scale = [ 'TotalSpaces',\n",
    " 'firstHourFee',\n",
    " 'relative_humidity_2m',\n",
    " 'et0_fao_evapotranspiration',\n",
    " 'terrestrial_radiation_instant']"
   ]
  },
  {
   "cell_type": "code",
   "execution_count": null,
   "metadata": {
    "trusted": true
   },
   "outputs": [],
   "source": [
    "def build_spatial_df(df, spatial_cols):\n",
    "    # return the static feature table deduplicated by ParkingSegmentID\n",
    "    spatial_df = (\n",
    "        df.groupby('ParkingSegmentID')[spatial_cols]\n",
    "          .first()            \n",
    "          .reset_index()\n",
    "    )\n",
    "    return spatial_df\n",
    "\n",
    "spatial_df = build_spatial_df(df_train, spatial_cols)   \n",
    "N = len(spatial_df)"
   ]
  },
  {
   "cell_type": "code",
   "execution_count": null,
   "metadata": {
    "trusted": true
   },
   "outputs": [],
   "source": [
    "from collections import defaultdict\n",
    "import numpy as np\n",
    "import torch\n",
    "test_time_key =[]\n",
    "def prepare_full_timeslice_batches(df, spatial_df,\n",
    "                                   temporal_cols, target_col='available_percent'):\n",
    "    \"\"\"\n",
    "    only keep the slices where all N nodes are present at that time point.\n",
    "    return batches: List[Dict], where each batch includes:\n",
    "    temporal_features : [N, d_t] numpy array\n",
    "    target            : [N] numpy array\n",
    "    time_key          : time index (optional)\n",
    "    \"\"\"\n",
    "    # create node ordering → to facilitate alignment with the order in spatial_df\n",
    "    node_order = spatial_df['ParkingSegmentID'].tolist()\n",
    "    node_idx_map = {pid: idx for idx, pid in enumerate(node_order)}\n",
    "    N = len(node_order)\n",
    "    batches = []\n",
    "    # group by time step\n",
    "    for time_key, g in df.groupby('datetime_2'):\n",
    "        if len(g) != N:\n",
    "            # incomplete data at this time point, skip directly\n",
    "            continue\n",
    "        # align according to node_order\n",
    "        g_sorted = g.set_index('ParkingSegmentID').loc[node_order]\n",
    "        assert len(g_sorted) == N, f\"time {time_key} 節點遺失！\"\n",
    "        \n",
    "        t_mat = g_sorted[temporal_cols].to_numpy(dtype=np.float32)                  # [N, d_t]\n",
    "        tgt   = g_sorted[target_col].to_numpy(dtype=np.float32)                     # [N]\n",
    "        test_time_key.append(time_key)\n",
    "        batches.append({\n",
    "            'time_key': time_key,\n",
    "            'temporal_features': t_mat,\n",
    "            'target': tgt,\n",
    "\n",
    "        })\n",
    "    return batches"
   ]
  },
  {
   "cell_type": "code",
   "execution_count": null,
   "metadata": {},
   "outputs": [],
   "source": [
    "\n",
    "import matplotlib.pyplot as plt\n",
    "\n",
    "# count the number of data records for each parking lot\n",
    "count_per_parking = df_train['ParkingSegmentID'].value_counts()\n",
    "\n",
    "# then count how many parking lots have exactly n data records\n",
    "count_of_counts = count_per_parking.value_counts().sort_index()\n",
    "\n",
    "plt.figure(figsize=(10,6))\n",
    "plt.bar(count_of_counts.index, count_of_counts.values, width=1.0, edgecolor='black')\n",
    "plt.xlabel('每個停車場的資料筆數')\n",
    "plt.ylabel('有這麼多資料的停車場數量')\n",
    "plt.title('停車場資料筆數分布')\n",
    "plt.tight_layout()\n",
    "plt.show()"
   ]
  },
  {
   "cell_type": "code",
   "execution_count": null,
   "metadata": {
    "trusted": true
   },
   "outputs": [
    {
     "name": "stderr",
     "output_type": "stream",
     "text": [
      "/var/folders/wt/6hl8qhss3jz9zrdh6n8f3_qh0000gn/T/ipykernel_36205/2811152063.py:13: FutureWarning: Setting an item of incompatible dtype is deprecated and will raise in a future error of pandas. Value '[-0.36874861 -0.36874861 -0.36874861 ... -0.19343778 -0.19343778\n",
      " -0.19343778]' has dtype incompatible with int64, please explicitly cast to a compatible dtype first.\n",
      "  df_scaled.loc[:, c] = temporal_scaler[c].transform(df_scaled[[c]]).ravel()\n",
      "/var/folders/wt/6hl8qhss3jz9zrdh6n8f3_qh0000gn/T/ipykernel_36205/2811152063.py:13: FutureWarning: Setting an item of incompatible dtype is deprecated and will raise in a future error of pandas. Value '[-1.09947748 -1.09947748  0.76159863 ...  0.76159863  0.76159863\n",
      "  0.76159863]' has dtype incompatible with int64, please explicitly cast to a compatible dtype first.\n",
      "  df_scaled.loc[:, c] = temporal_scaler[c].transform(df_scaled[[c]]).ravel()\n",
      "/var/folders/wt/6hl8qhss3jz9zrdh6n8f3_qh0000gn/T/ipykernel_36205/2811152063.py:13: FutureWarning: Setting an item of incompatible dtype is deprecated and will raise in a future error of pandas. Value '[1.34416301 2.66867237 1.67529035 ... 0.01965364 0.51634465 0.01965364]' has dtype incompatible with int64, please explicitly cast to a compatible dtype first.\n",
      "  df_scaled.loc[:, c] = temporal_scaler[c].transform(df_scaled[[c]]).ravel()\n",
      "/var/folders/wt/6hl8qhss3jz9zrdh6n8f3_qh0000gn/T/ipykernel_36205/2811152063.py:13: FutureWarning: Setting an item of incompatible dtype is deprecated and will raise in a future error of pandas. Value '[-0.36874861 -0.33184107 -0.33184107 ... -0.19343778 -0.19343778\n",
      " -0.19343778]' has dtype incompatible with int64, please explicitly cast to a compatible dtype first.\n",
      "  df_scaled.loc[:, c] = temporal_scaler[c].transform(df_scaled[[c]]).ravel()\n",
      "/var/folders/wt/6hl8qhss3jz9zrdh6n8f3_qh0000gn/T/ipykernel_36205/2811152063.py:13: FutureWarning: Setting an item of incompatible dtype is deprecated and will raise in a future error of pandas. Value '[ 0.76159863 -1.09947748  0.76159863 ...  0.76159863  0.76159863\n",
      "  0.76159863]' has dtype incompatible with int64, please explicitly cast to a compatible dtype first.\n",
      "  df_scaled.loc[:, c] = temporal_scaler[c].transform(df_scaled[[c]]).ravel()\n",
      "/var/folders/wt/6hl8qhss3jz9zrdh6n8f3_qh0000gn/T/ipykernel_36205/2811152063.py:13: FutureWarning: Setting an item of incompatible dtype is deprecated and will raise in a future error of pandas. Value '[-0.3114737   0.59912649  1.01303567 ... -1.05651022 -3.29161978\n",
      " -2.21545591]' has dtype incompatible with int64, please explicitly cast to a compatible dtype first.\n",
      "  df_scaled.loc[:, c] = temporal_scaler[c].transform(df_scaled[[c]]).ravel()\n",
      "/var/folders/wt/6hl8qhss3jz9zrdh6n8f3_qh0000gn/T/ipykernel_36205/2811152063.py:13: FutureWarning: Setting an item of incompatible dtype is deprecated and will raise in a future error of pandas. Value '[-0.36874861 -0.36874861 -0.36874861 ... -0.19343778 -0.19343778\n",
      " -0.19343778]' has dtype incompatible with int64, please explicitly cast to a compatible dtype first.\n",
      "  df_scaled.loc[:, c] = temporal_scaler[c].transform(df_scaled[[c]]).ravel()\n",
      "/var/folders/wt/6hl8qhss3jz9zrdh6n8f3_qh0000gn/T/ipykernel_36205/2811152063.py:13: FutureWarning: Setting an item of incompatible dtype is deprecated and will raise in a future error of pandas. Value '[-1.09947748 -1.09947748  0.76159863 ...  0.76159863  0.76159863\n",
      "  0.76159863]' has dtype incompatible with int64, please explicitly cast to a compatible dtype first.\n",
      "  df_scaled.loc[:, c] = temporal_scaler[c].transform(df_scaled[[c]]).ravel()\n",
      "/var/folders/wt/6hl8qhss3jz9zrdh6n8f3_qh0000gn/T/ipykernel_36205/2811152063.py:13: FutureWarning: Setting an item of incompatible dtype is deprecated and will raise in a future error of pandas. Value '[ 0.76469016  0.01965364 -1.05651022 ...  0.01965364  0.01965364\n",
      " -0.97372838]' has dtype incompatible with int64, please explicitly cast to a compatible dtype first.\n",
      "  df_scaled.loc[:, c] = temporal_scaler[c].transform(df_scaled[[c]]).ravel()\n"
     ]
    }
   ],
   "source": [
    "from sklearn.preprocessing import StandardScaler\n",
    "\n",
    "# create scaler\n",
    "spatial_scaler   = {c: StandardScaler().fit(df_train[[c]]) for c in spatial_cols_to_scale}\n",
    "temporal_scaler  = {c: StandardScaler().fit(df_train[[c]]) for c in temporal_cols_to_scale}\n",
    "\n",
    "def scale_dataframe(df):\n",
    "    df_scaled = df.copy()\n",
    "    \n",
    "    for c in spatial_cols_to_scale:\n",
    "        df_scaled.loc[:, c] = spatial_scaler[c].transform(df_scaled[[c]]).ravel()\n",
    "    for c in temporal_cols_to_scale:\n",
    "        df_scaled.loc[:, c] = temporal_scaler[c].transform(df_scaled[[c]]).ravel()\n",
    "    return df_scaled\n",
    "\n",
    "# ------------- generate batches -------------\n",
    "df_train_scaled = scale_dataframe(df_train)\n",
    "df_val_scaled   = scale_dataframe(df_val)\n",
    "df_test_scaled  = scale_dataframe(df_test)\n",
    "\n",
    "train_batches = prepare_full_timeslice_batches(df_train_scaled,\n",
    "                                               spatial_df,\n",
    "                                               temporal_cols)\n",
    "\n",
    "val_batches   = prepare_full_timeslice_batches(df_val_scaled,\n",
    "                                               spatial_df,\n",
    "                                               temporal_cols)\n",
    "test_time_key =[]\n",
    "test_batches  = prepare_full_timeslice_batches(df_test_scaled,\n",
    "                                               spatial_df,\n",
    "                                               temporal_cols)"
   ]
  },
  {
   "cell_type": "code",
   "execution_count": 23,
   "metadata": {},
   "outputs": [],
   "source": [
    "node_order = spatial_df['ParkingSegmentID'].tolist()"
   ]
  },
  {
   "cell_type": "code",
   "execution_count": 24,
   "metadata": {},
   "outputs": [],
   "source": [
    "df_test_out = df_test.loc[(df_test['datetime_2'].isin(test_time_key)) & (df_test['ParkingSegmentID'].isin(node_order))].drop(columns=['datetime_2','day_val'])"
   ]
  },
  {
   "cell_type": "code",
   "execution_count": 25,
   "metadata": {},
   "outputs": [],
   "source": [
    "df_test_out['avg_available_spots'] = df_test_out['available_percent']\n",
    "df_test_out.drop(columns=['half_hour_interval','hour','available_percent'],inplace=True)\n",
    "df_test_out.to_csv('df_test_out.csv',index=False)\n"
   ]
  },
  {
   "cell_type": "code",
   "execution_count": null,
   "metadata": {
    "trusted": true
   },
   "outputs": [],
   "source": [
    "from sklearn.neighbors import NearestNeighbors\n",
    "import numpy as np\n",
    "\n",
    "def build_spatial_graph(spatial_df, k=8):\n",
    "    coords = spatial_df[['lat', 'lon']].values\n",
    "    N = len(coords)\n",
    "    \n",
    "    nn_model = NearestNeighbors(n_neighbors=min(k+1, N))\n",
    "    nn_model.fit(coords)\n",
    "    distances, indices = nn_model.kneighbors(coords)\n",
    "    \n",
    "    # create edges and weights\n",
    "    edge_dict = dict()\n",
    "    for i in range(N):\n",
    "        for j in range(1, min(k+1, N)):\n",
    "            neighbor_idx = indices[i, j]\n",
    "            if i != neighbor_idx:\n",
    "                edge = tuple(sorted((i, neighbor_idx)))\n",
    "                # use a Gaussian kernel for the weights\n",
    "                distance = distances[i, j]\n",
    "                weight = 1/distance\n",
    "                # if the edge already exists, take the average of the weights\n",
    "                if edge in edge_dict:\n",
    "                    edge_dict[edge] = (edge_dict[edge] + weight) / 2\n",
    "                else:\n",
    "                    edge_dict[edge] = weight\n",
    "\n",
    "    src, dst = zip(*edge_dict.keys())\n",
    "    edge_index = torch.tensor([src, dst], dtype=torch.long)\n",
    "    edge_weight = torch.tensor(list(edge_dict.values()), dtype=torch.float)\n",
    "    \n",
    "    return edge_index, edge_weight\n",
    "\n",
    "edge_index, edge_weight = build_spatial_graph(spatial_df, k=8)"
   ]
  },
  {
   "cell_type": "code",
   "execution_count": null,
   "metadata": {
    "trusted": true
   },
   "outputs": [],
   "source": [
    "class SpatioTemporalGNN(torch.nn.Module):\n",
    "    def __init__(self, spatial_features, temporal_features, hidden_dim=64, dropout=0.0, activation=torch.nn.ReLU()):\n",
    "        super().__init__()\n",
    "        \n",
    "        # spatial features encoder\n",
    "        self.spatial_encoder = torch.nn.Sequential(\n",
    "            torch.nn.Linear(spatial_features, hidden_dim),\n",
    "            activation,\n",
    "            torch.nn.Dropout(dropout),\n",
    "            torch.nn.Linear(hidden_dim, hidden_dim)\n",
    "        )\n",
    "        \n",
    "        # temporal features encoder  \n",
    "        self.temporal_encoder = torch.nn.Sequential(\n",
    "            torch.nn.Linear(temporal_features, hidden_dim),\n",
    "            activation,\n",
    "            torch.nn.Dropout(dropout),\n",
    "            torch.nn.Linear(hidden_dim, hidden_dim)\n",
    "        )\n",
    "        \n",
    "        # GNN layers\n",
    "        self.conv1 = GCNConv(hidden_dim, hidden_dim)\n",
    "        self.conv2 = GCNConv(hidden_dim, hidden_dim)\n",
    "        \n",
    "        # prediction layer\n",
    "        self.predictor = torch.nn.Sequential(\n",
    "            torch.nn.Linear(hidden_dim, hidden_dim // 2),\n",
    "            activation,\n",
    "            torch.nn.Dropout(dropout),\n",
    "            torch.nn.Linear(hidden_dim // 2, 1)\n",
    "        )\n",
    "        self.gate_layer = torch.nn.Sequential(\n",
    "            torch.nn.Linear(hidden_dim * 2, hidden_dim),\n",
    "            torch.nn.Sigmoid()\n",
    "        )\n",
    "            \n",
    "    def forward(self, spatial_x, temporal_x, edge_index, edge_weight):\n",
    "        # encode spatial features\n",
    "        spatial_emb = self.spatial_encoder(spatial_x)\n",
    "        \n",
    "        # encode temporal features\n",
    "        temporal_emb = self.temporal_encoder(temporal_x)\n",
    "        # merge features\n",
    "        concat_feat = torch.cat([spatial_emb, temporal_emb], dim=1)\n",
    "        gate = self.gate_layer(concat_feat)  # [N, hidden_dim]\n",
    "        x = gate * spatial_emb + (1 - gate) * temporal_emb \n",
    "                # GNN process\n",
    "        x1 = F.relu(self.conv1(x, edge_index, edge_weight))\n",
    "        x2 = F.relu(self.conv2(x1, edge_index, edge_weight)) + x1\n",
    "        \n",
    "        # predict\n",
    "        return self.predictor(x)\n",
    "def run_epoch(batches, model, spatial_x,\n",
    "              edge_index, edge_attr,\n",
    "              optimizer=None,\n",
    "              batch_size=8,\n",
    "              collect_pred=False):\n",
    "\n",
    "    train_mode = optimizer is not None\n",
    "    model.train() if train_mode else model.eval()\n",
    "\n",
    "    total_loss, total_count = 0.0, 0\n",
    "    y_true_all, y_pred_all = [], []\n",
    "\n",
    "    for i in range(0, len(batches), batch_size):\n",
    "        slice_batch = batches[i : i + batch_size]\n",
    "\n",
    "        temporal_stack = torch.stack([\n",
    "            torch.from_numpy(b['temporal_features'])\n",
    "            for b in slice_batch\n",
    "        ]).to(spatial_x.device, dtype=spatial_x.dtype)\n",
    "\n",
    "        target_stack = torch.stack([\n",
    "            torch.from_numpy(b['target']).unsqueeze(1)\n",
    "            for b in slice_batch\n",
    "        ]).to(spatial_x.device, dtype=torch.float32)\n",
    "\n",
    "        batch_loss = 0.0\n",
    "        batch_count = 0\n",
    "        preds = []\n",
    "        for t_feat, tgt in zip(temporal_stack, target_stack):\n",
    "            out = model(spatial_x, t_feat, edge_index, edge_attr)\n",
    "            per_node_loss = F.mse_loss(out, tgt, reduction='sum')\n",
    "            batch_loss += per_node_loss\n",
    "            batch_count += out.numel()\n",
    "            preds.append(out)\n",
    "\n",
    "        if train_mode:\n",
    "            optimizer.zero_grad()\n",
    "            (batch_loss / batch_count).backward()  # use a tensor to perform backward\n",
    "            torch.nn.utils.clip_grad_norm_(model.parameters(), 1.0)\n",
    "            optimizer.step()\n",
    "\n",
    "        if collect_pred:\n",
    "            y_true_all.append(target_stack.detach().cpu())\n",
    "            y_pred_all.append(torch.stack(preds).detach().cpu())\n",
    "        total_loss += batch_loss.item()\n",
    "        total_count += batch_count\n",
    "\n",
    "    mean_loss = total_loss / total_count\n",
    "\n",
    "    if collect_pred:\n",
    "        y_true_all = torch.cat(y_true_all).numpy().flatten()\n",
    "        y_pred_all = torch.cat(y_pred_all).numpy().flatten()\n",
    "        return mean_loss, y_true_all, y_pred_all\n",
    "    else:\n",
    "        return mean_loss, None, None"
   ]
  },
  {
   "cell_type": "code",
   "execution_count": 28,
   "metadata": {
    "trusted": true
   },
   "outputs": [],
   "source": [
    "model = SpatioTemporalGNN(\n",
    "        spatial_features=len(spatial_cols),\n",
    "        temporal_features=len(temporal_cols),\n",
    "        hidden_dim=64,\n",
    "        dropout=0,\n",
    "        activation=torch.nn.ReLU()\n",
    "    )\n",
    "device = torch.device('cpu')"
   ]
  },
  {
   "cell_type": "code",
   "execution_count": 29,
   "metadata": {
    "trusted": true
   },
   "outputs": [
    {
     "data": {
      "text/html": [
       "<div>\n",
       "<style scoped>\n",
       "    .dataframe tbody tr th:only-of-type {\n",
       "        vertical-align: middle;\n",
       "    }\n",
       "\n",
       "    .dataframe tbody tr th {\n",
       "        vertical-align: top;\n",
       "    }\n",
       "\n",
       "    .dataframe thead th {\n",
       "        text-align: right;\n",
       "    }\n",
       "</style>\n",
       "<table border=\"1\" class=\"dataframe\">\n",
       "  <thead>\n",
       "    <tr style=\"text-align: right;\">\n",
       "      <th></th>\n",
       "      <th>ParkingSegmentID</th>\n",
       "      <th>lat</th>\n",
       "      <th>lon</th>\n",
       "    </tr>\n",
       "  </thead>\n",
       "  <tbody>\n",
       "    <tr>\n",
       "      <th>0</th>\n",
       "      <td>1001</td>\n",
       "      <td>22.99728</td>\n",
       "      <td>120.17506</td>\n",
       "    </tr>\n",
       "    <tr>\n",
       "      <th>1</th>\n",
       "      <td>1002</td>\n",
       "      <td>22.99443</td>\n",
       "      <td>120.18191</td>\n",
       "    </tr>\n",
       "    <tr>\n",
       "      <th>2</th>\n",
       "      <td>101</td>\n",
       "      <td>22.98781</td>\n",
       "      <td>120.20494</td>\n",
       "    </tr>\n",
       "    <tr>\n",
       "      <th>3</th>\n",
       "      <td>1011</td>\n",
       "      <td>22.99679</td>\n",
       "      <td>120.17929</td>\n",
       "    </tr>\n",
       "    <tr>\n",
       "      <th>4</th>\n",
       "      <td>1071</td>\n",
       "      <td>22.98840</td>\n",
       "      <td>120.19851</td>\n",
       "    </tr>\n",
       "    <tr>\n",
       "      <th>...</th>\n",
       "      <td>...</td>\n",
       "      <td>...</td>\n",
       "      <td>...</td>\n",
       "    </tr>\n",
       "    <tr>\n",
       "      <th>142</th>\n",
       "      <td>911</td>\n",
       "      <td>22.99547</td>\n",
       "      <td>120.18517</td>\n",
       "    </tr>\n",
       "    <tr>\n",
       "      <th>143</th>\n",
       "      <td>92</td>\n",
       "      <td>22.98643</td>\n",
       "      <td>120.20818</td>\n",
       "    </tr>\n",
       "    <tr>\n",
       "      <th>144</th>\n",
       "      <td>981</td>\n",
       "      <td>22.99706</td>\n",
       "      <td>120.17182</td>\n",
       "    </tr>\n",
       "    <tr>\n",
       "      <th>145</th>\n",
       "      <td>982</td>\n",
       "      <td>22.98248</td>\n",
       "      <td>120.16979</td>\n",
       "    </tr>\n",
       "    <tr>\n",
       "      <th>146</th>\n",
       "      <td>991</td>\n",
       "      <td>22.99511</td>\n",
       "      <td>120.16939</td>\n",
       "    </tr>\n",
       "  </tbody>\n",
       "</table>\n",
       "<p>147 rows × 3 columns</p>\n",
       "</div>"
      ],
      "text/plain": [
       "    ParkingSegmentID       lat        lon\n",
       "0               1001  22.99728  120.17506\n",
       "1               1002  22.99443  120.18191\n",
       "2                101  22.98781  120.20494\n",
       "3               1011  22.99679  120.17929\n",
       "4               1071  22.98840  120.19851\n",
       "..               ...       ...        ...\n",
       "142              911  22.99547  120.18517\n",
       "143               92  22.98643  120.20818\n",
       "144              981  22.99706  120.17182\n",
       "145              982  22.98248  120.16979\n",
       "146              991  22.99511  120.16939\n",
       "\n",
       "[147 rows x 3 columns]"
      ]
     },
     "execution_count": 29,
     "metadata": {},
     "output_type": "execute_result"
    }
   ],
   "source": [
    "spatial_df"
   ]
  },
  {
   "cell_type": "code",
   "execution_count": 30,
   "metadata": {
    "trusted": true
   },
   "outputs": [],
   "source": [
    "from tqdm import tqdm\n",
    "# static tensors\n",
    "spatial_x  = torch.from_numpy(spatial_df[spatial_cols].to_numpy(dtype=np.float64)).to(device).float()\n",
    "edge_index, edge_weight = build_spatial_graph(spatial_df, k=8)\n",
    "edge_index  = edge_index.to(device)\n",
    "edge_weight = edge_weight.to(device)"
   ]
  },
  {
   "cell_type": "code",
   "execution_count": null,
   "metadata": {
    "trusted": true
   },
   "outputs": [
    {
     "name": "stderr",
     "output_type": "stream",
     "text": [
      "  0%|          | 1/200 [00:13<43:24, 13.09s/it]"
     ]
    },
    {
     "name": "stdout",
     "output_type": "stream",
     "text": [
      "Epoch 00 | train 3582.4807 | val 3211.8926 | R² 0.210\n"
     ]
    },
    {
     "name": "stderr",
     "output_type": "stream",
     "text": [
      "  1%|          | 2/200 [00:25<41:58, 12.72s/it]"
     ]
    },
    {
     "name": "stdout",
     "output_type": "stream",
     "text": [
      "Epoch 01 | train 2051.6124 | val 1449.6685 | R² 0.643\n"
     ]
    },
    {
     "name": "stderr",
     "output_type": "stream",
     "text": [
      "  2%|▏         | 3/200 [00:38<42:11, 12.85s/it]"
     ]
    },
    {
     "name": "stdout",
     "output_type": "stream",
     "text": [
      "Epoch 02 | train 887.8893 | val 630.8102 | R² 0.845\n"
     ]
    },
    {
     "name": "stderr",
     "output_type": "stream",
     "text": [
      "  2%|▏         | 4/200 [00:50<40:51, 12.51s/it]"
     ]
    },
    {
     "name": "stdout",
     "output_type": "stream",
     "text": [
      "Epoch 03 | train 609.0787 | val 693.2309 | R² 0.829\n"
     ]
    },
    {
     "name": "stderr",
     "output_type": "stream",
     "text": [
      "  2%|▎         | 5/200 [01:02<40:28, 12.45s/it]"
     ]
    },
    {
     "name": "stdout",
     "output_type": "stream",
     "text": [
      "Epoch 04 | train 579.3442 | val 531.0089 | R² 0.869\n"
     ]
    },
    {
     "name": "stderr",
     "output_type": "stream",
     "text": [
      "  3%|▎         | 6/200 [01:15<40:10, 12.42s/it]"
     ]
    },
    {
     "name": "stdout",
     "output_type": "stream",
     "text": [
      "Epoch 05 | train 568.9225 | val 496.1938 | R² 0.878\n"
     ]
    },
    {
     "name": "stderr",
     "output_type": "stream",
     "text": [
      "  4%|▎         | 7/200 [01:28<41:13, 12.82s/it]"
     ]
    },
    {
     "name": "stdout",
     "output_type": "stream",
     "text": [
      "Epoch 06 | train 568.1038 | val 539.2298 | R² 0.867\n"
     ]
    },
    {
     "name": "stderr",
     "output_type": "stream",
     "text": [
      "  4%|▍         | 8/200 [01:41<40:44, 12.73s/it]"
     ]
    },
    {
     "name": "stdout",
     "output_type": "stream",
     "text": [
      "Epoch 07 | train 565.0711 | val 524.1987 | R² 0.871\n"
     ]
    },
    {
     "name": "stderr",
     "output_type": "stream",
     "text": [
      "  4%|▍         | 9/200 [01:53<39:54, 12.54s/it]"
     ]
    },
    {
     "name": "stdout",
     "output_type": "stream",
     "text": [
      "Epoch 08 | train 569.3657 | val 613.6497 | R² 0.849\n"
     ]
    },
    {
     "name": "stderr",
     "output_type": "stream",
     "text": [
      "  5%|▌         | 10/200 [02:06<39:38, 12.52s/it]"
     ]
    },
    {
     "name": "stdout",
     "output_type": "stream",
     "text": [
      "Epoch 09 | train 560.0812 | val 546.2818 | R² 0.866\n"
     ]
    },
    {
     "name": "stderr",
     "output_type": "stream",
     "text": [
      "  6%|▌         | 11/200 [02:17<38:09, 12.11s/it]"
     ]
    },
    {
     "name": "stdout",
     "output_type": "stream",
     "text": [
      "Epoch 10 | train 570.8448 | val 525.5744 | R² 0.871\n"
     ]
    },
    {
     "name": "stderr",
     "output_type": "stream",
     "text": [
      "  6%|▌         | 12/200 [02:28<37:08, 11.85s/it]"
     ]
    },
    {
     "name": "stdout",
     "output_type": "stream",
     "text": [
      "Epoch 11 | train 584.6080 | val 647.4003 | R² 0.841\n"
     ]
    },
    {
     "name": "stderr",
     "output_type": "stream",
     "text": [
      "  6%|▋         | 13/200 [02:40<37:19, 11.98s/it]"
     ]
    },
    {
     "name": "stdout",
     "output_type": "stream",
     "text": [
      "Epoch 12 | train 577.9892 | val 589.8029 | R² 0.855\n"
     ]
    },
    {
     "name": "stderr",
     "output_type": "stream",
     "text": [
      "  7%|▋         | 14/200 [02:52<36:53, 11.90s/it]"
     ]
    },
    {
     "name": "stdout",
     "output_type": "stream",
     "text": [
      "Epoch 13 | train 561.5900 | val 594.8505 | R² 0.854\n"
     ]
    },
    {
     "name": "stderr",
     "output_type": "stream",
     "text": [
      "  8%|▊         | 15/200 [03:04<36:45, 11.92s/it]"
     ]
    },
    {
     "name": "stdout",
     "output_type": "stream",
     "text": [
      "Epoch 14 | train 571.2045 | val 578.9403 | R² 0.858\n"
     ]
    },
    {
     "name": "stderr",
     "output_type": "stream",
     "text": [
      "  8%|▊         | 15/200 [03:16<40:28, 13.13s/it]"
     ]
    },
    {
     "name": "stdout",
     "output_type": "stream",
     "text": [
      "Epoch 15 | train 574.7393 | val 559.1239 | R² 0.862\n",
      "Early stopping triggered!\n"
     ]
    },
    {
     "name": "stderr",
     "output_type": "stream",
     "text": [
      "\n"
     ]
    }
   ],
   "source": [
    "\n",
    "# optimizer\n",
    "optimizer = torch.optim.Adam(model.parameters(), lr=3e-4)\n",
    "\n",
    "best_val, patience, wait = float('inf'), 10, 0   # stop if there is no improvement for 10 consecutive trials\n",
    "\n",
    "for epoch in tqdm(range(200)):\n",
    "    train_loss, _, _ = run_epoch(\n",
    "        train_batches, model, spatial_x,\n",
    "        edge_index, edge_weight,\n",
    "        optimizer=optimizer, batch_size=64)\n",
    "\n",
    "    val_loss, yv, pv = run_epoch(\n",
    "        val_batches,   model, spatial_x,\n",
    "        edge_index, edge_weight,\n",
    "        optimizer=None, batch_size=64, collect_pred=True)\n",
    "    r2 = 1 - np.sum((yv - pv)**2) / np.sum((yv - yv.mean())**2)\n",
    "    print(f\"Epoch {epoch:02d} | train {train_loss:.4f} | val {val_loss:.4f} | R² {r2:5.3f}\")\n",
    "\n",
    "    # ---- Early stopping ----\n",
    "    if val_loss < best_val - 1e-4:\n",
    "        best_val, wait = val_loss, 0\n",
    "        torch.save(model.state_dict(), \"best_gnn_3.pt\")\n",
    "    else:\n",
    "        wait += 1\n",
    "        if wait >= patience:\n",
    "            print(\"Early stopping triggered!\")\n",
    "            break"
   ]
  },
  {
   "cell_type": "code",
   "execution_count": null,
   "metadata": {
    "trusted": true
   },
   "outputs": [
    {
     "name": "stderr",
     "output_type": "stream",
     "text": [
      "  0%|          | 1/200 [00:11<38:45, 11.69s/it]"
     ]
    },
    {
     "name": "stdout",
     "output_type": "stream",
     "text": [
      "Epoch 00 | train 4455.0082 | val 4692.0123 | R² -0.154\n"
     ]
    },
    {
     "name": "stderr",
     "output_type": "stream",
     "text": [
      "  1%|          | 2/200 [00:22<36:07, 10.94s/it]"
     ]
    },
    {
     "name": "stdout",
     "output_type": "stream",
     "text": [
      "Epoch 01 | train 4455.0082 | val 4692.0123 | R² -0.154\n"
     ]
    },
    {
     "name": "stderr",
     "output_type": "stream",
     "text": [
      "  2%|▏         | 3/200 [00:32<35:30, 10.82s/it]"
     ]
    },
    {
     "name": "stdout",
     "output_type": "stream",
     "text": [
      "Epoch 02 | train 4455.0082 | val 4692.0123 | R² -0.154\n"
     ]
    },
    {
     "name": "stderr",
     "output_type": "stream",
     "text": [
      "  2%|▏         | 4/200 [00:43<35:45, 10.95s/it]"
     ]
    },
    {
     "name": "stdout",
     "output_type": "stream",
     "text": [
      "Epoch 03 | train 4455.0082 | val 4692.0123 | R² -0.154\n"
     ]
    },
    {
     "name": "stderr",
     "output_type": "stream",
     "text": [
      "  2%|▎         | 5/200 [00:54<35:09, 10.82s/it]"
     ]
    },
    {
     "name": "stdout",
     "output_type": "stream",
     "text": [
      "Epoch 04 | train 4455.0082 | val 4692.0123 | R² -0.154\n"
     ]
    },
    {
     "name": "stderr",
     "output_type": "stream",
     "text": [
      "  3%|▎         | 6/200 [01:04<34:22, 10.63s/it]"
     ]
    },
    {
     "name": "stdout",
     "output_type": "stream",
     "text": [
      "Epoch 05 | train 4455.0082 | val 4692.0123 | R² -0.154\n"
     ]
    },
    {
     "name": "stderr",
     "output_type": "stream",
     "text": [
      "  4%|▎         | 7/200 [01:15<34:31, 10.73s/it]"
     ]
    },
    {
     "name": "stdout",
     "output_type": "stream",
     "text": [
      "Epoch 06 | train 4455.0082 | val 4692.0123 | R² -0.154\n"
     ]
    },
    {
     "name": "stderr",
     "output_type": "stream",
     "text": [
      "  4%|▍         | 8/200 [01:26<34:01, 10.63s/it]"
     ]
    },
    {
     "name": "stdout",
     "output_type": "stream",
     "text": [
      "Epoch 07 | train 4455.0082 | val 4692.0123 | R² -0.154\n"
     ]
    },
    {
     "name": "stderr",
     "output_type": "stream",
     "text": [
      "  4%|▍         | 9/200 [01:36<33:32, 10.54s/it]"
     ]
    },
    {
     "name": "stdout",
     "output_type": "stream",
     "text": [
      "Epoch 08 | train 4455.0082 | val 4692.0123 | R² -0.154\n"
     ]
    },
    {
     "name": "stderr",
     "output_type": "stream",
     "text": [
      "  5%|▌         | 10/200 [01:46<33:12, 10.49s/it]"
     ]
    },
    {
     "name": "stdout",
     "output_type": "stream",
     "text": [
      "Epoch 09 | train 4455.0082 | val 4692.0123 | R² -0.154\n"
     ]
    },
    {
     "name": "stderr",
     "output_type": "stream",
     "text": [
      "  6%|▌         | 11/200 [01:57<32:54, 10.45s/it]"
     ]
    },
    {
     "name": "stdout",
     "output_type": "stream",
     "text": [
      "Epoch 10 | train 4455.0082 | val 4692.0123 | R² -0.154\n"
     ]
    },
    {
     "name": "stderr",
     "output_type": "stream",
     "text": [
      "  6%|▌         | 12/200 [02:07<32:48, 10.47s/it]"
     ]
    },
    {
     "name": "stdout",
     "output_type": "stream",
     "text": [
      "Epoch 11 | train 4455.0082 | val 4692.0123 | R² -0.154\n"
     ]
    },
    {
     "name": "stderr",
     "output_type": "stream",
     "text": [
      "  6%|▋         | 13/200 [02:18<32:34, 10.45s/it]"
     ]
    },
    {
     "name": "stdout",
     "output_type": "stream",
     "text": [
      "Epoch 12 | train 4455.0082 | val 4692.0123 | R² -0.154\n"
     ]
    },
    {
     "name": "stderr",
     "output_type": "stream",
     "text": [
      "  7%|▋         | 14/200 [02:28<31:57, 10.31s/it]"
     ]
    },
    {
     "name": "stdout",
     "output_type": "stream",
     "text": [
      "Epoch 13 | train 4455.0082 | val 4692.0123 | R² -0.154\n"
     ]
    },
    {
     "name": "stderr",
     "output_type": "stream",
     "text": [
      "  8%|▊         | 15/200 [02:38<31:48, 10.32s/it]"
     ]
    },
    {
     "name": "stdout",
     "output_type": "stream",
     "text": [
      "Epoch 14 | train 4455.0082 | val 4692.0123 | R² -0.154\n"
     ]
    },
    {
     "name": "stderr",
     "output_type": "stream",
     "text": [
      "  8%|▊         | 16/200 [02:48<31:42, 10.34s/it]"
     ]
    },
    {
     "name": "stdout",
     "output_type": "stream",
     "text": [
      "Epoch 15 | train 4455.0082 | val 4692.0123 | R² -0.154\n"
     ]
    },
    {
     "name": "stderr",
     "output_type": "stream",
     "text": [
      "  8%|▊         | 17/200 [02:59<31:38, 10.38s/it]"
     ]
    },
    {
     "name": "stdout",
     "output_type": "stream",
     "text": [
      "Epoch 16 | train 4455.0082 | val 4692.0123 | R² -0.154\n"
     ]
    },
    {
     "name": "stderr",
     "output_type": "stream",
     "text": [
      "  9%|▉         | 18/200 [03:09<31:14, 10.30s/it]"
     ]
    },
    {
     "name": "stdout",
     "output_type": "stream",
     "text": [
      "Epoch 17 | train 4455.0082 | val 4692.0123 | R² -0.154\n"
     ]
    },
    {
     "name": "stderr",
     "output_type": "stream",
     "text": [
      " 10%|▉         | 19/200 [03:19<30:28, 10.10s/it]"
     ]
    },
    {
     "name": "stdout",
     "output_type": "stream",
     "text": [
      "Epoch 18 | train 4455.0082 | val 4692.0123 | R² -0.154\n"
     ]
    },
    {
     "name": "stderr",
     "output_type": "stream",
     "text": [
      " 10%|█         | 20/200 [03:29<30:15, 10.09s/it]"
     ]
    },
    {
     "name": "stdout",
     "output_type": "stream",
     "text": [
      "Epoch 19 | train 4455.0082 | val 4692.0123 | R² -0.154\n"
     ]
    },
    {
     "name": "stderr",
     "output_type": "stream",
     "text": [
      " 10%|█         | 20/200 [03:39<32:52, 10.96s/it]"
     ]
    },
    {
     "name": "stdout",
     "output_type": "stream",
     "text": [
      "Epoch 20 | train 4455.0082 | val 4692.0123 | R² -0.154\n",
      "Early stopping triggered!\n"
     ]
    },
    {
     "name": "stderr",
     "output_type": "stream",
     "text": [
      "\n"
     ]
    }
   ],
   "source": [
    "\n",
    "\n",
    "# optimizer\n",
    "optimizer = torch.optim.Adam(model.parameters(), lr=3e-4)\n",
    "model = SpatioTemporalGNN(\n",
    "        spatial_features=len(spatial_cols),\n",
    "        temporal_features=len(temporal_cols),\n",
    "        hidden_dim=64,\n",
    "        dropout=0,\n",
    "        activation=torch.nn.ReLU()\n",
    "    )\n",
    "best_val, patience, wait = float('inf'), 20, 0   # stop if there is no improvement for 10 consecutive trials\n",
    "for epoch in tqdm(range(200)):\n",
    "    train_loss, _, _ = run_epoch(\n",
    "        train_batches, model, spatial_x,\n",
    "        edge_index, edge_weight,\n",
    "        optimizer=optimizer, batch_size=8)\n",
    "\n",
    "    val_loss, yv, pv = run_epoch(\n",
    "        val_batches,   model, spatial_x,\n",
    "        edge_index, edge_weight,\n",
    "        optimizer=None, batch_size=8, collect_pred=True)\n",
    "    r2 = 1 - np.sum((yv - pv)**2) / np.sum((yv - yv.mean())**2)\n",
    "    print(f\"Epoch {epoch:02d} | train {train_loss:.4f} | val {val_loss:.4f} | R² {r2:5.3f}\")\n",
    "\n",
    "    # ---- Early stopping ----\n",
    "    if val_loss < best_val - 1e-4:\n",
    "        best_val, wait = val_loss, 0\n",
    "        torch.save(model.state_dict(), \"best_gnn_3.pt\")\n",
    "    else:\n",
    "        wait += 1\n",
    "        if wait >= patience:\n",
    "            print(\"Early stopping triggered!\")\n",
    "            break"
   ]
  },
  {
   "cell_type": "code",
   "execution_count": 33,
   "metadata": {},
   "outputs": [
    {
     "name": "stdout",
     "output_type": "stream",
     "text": [
      "真實值 yv: 0.0 873.0 21.445133 63.754044\n",
      "預測值 pv: -3.7818441 -3.2136226 -3.6450315 0.060483437\n",
      "只猜平均的 baseline MSE: 4064.5781\n",
      "模型預測的 MSE: 4692.0117\n"
     ]
    }
   ],
   "source": [
    "print(\"真實值 yv:\", yv.min(), yv.max(), yv.mean(), yv.std())\n",
    "print(\"預測值 pv:\", pv.min(), pv.max(), pv.mean(), pv.std())\n",
    "print(\"只猜平均的 baseline MSE:\", np.mean((yv - yv.mean())**2))\n",
    "print(\"模型預測的 MSE:\", np.mean((yv - pv)**2))"
   ]
  },
  {
   "cell_type": "code",
   "execution_count": null,
   "metadata": {
    "trusted": true
   },
   "outputs": [
    {
     "name": "stdout",
     "output_type": "stream",
     "text": [
      "極端值區間 MAE: 3.6409\n",
      "中間值區間 MAE: 26.0259\n"
     ]
    }
   ],
   "source": [
    "import numpy as np\n",
    "import pandas as pd\n",
    "# create the model object\n",
    "model = SpatioTemporalGNN(\n",
    "        spatial_features=len(spatial_cols),\n",
    "        temporal_features=len(temporal_cols),\n",
    "        hidden_dim=64,\n",
    "        dropout=0,\n",
    "        activation=torch.nn.ReLU()\n",
    "    )\n",
    "# load the weights\n",
    "model.load_state_dict(torch.load(\"best_gnn_3.pt\"))\n",
    "\n",
    "# move to the appropriate device.\n",
    "model = model.to(device)\n",
    "val_loss, y_true, y_pred = run_epoch(val_batches, model,\n",
    "                                 spatial_x, edge_index, edge_weight,\n",
    "                                 optimizer=None, collect_pred=True)\n",
    "\n",
    "df_eval = pd.DataFrame({\n",
    "    'true': y_true,\n",
    "    'pred': y_pred\n",
    "})\n",
    "df_eval['available_percent'] = y_true  # \n",
    "\n",
    "# define the extreme value range\n",
    "extreme_mask = (df_eval['available_percent'] < 0.05)\n",
    "middle_mask = (df_eval['available_percent'] >= 0.05)\n",
    "\n",
    "# calculate the MAE for the extreme and middle intervals\n",
    "mae_extreme = np.mean(np.abs(df_eval.loc[extreme_mask, 'pred'] - df_eval.loc[extreme_mask, 'true']))\n",
    "mae_middle = np.mean(np.abs(df_eval.loc[middle_mask, 'pred'] - df_eval.loc[middle_mask, 'true']))\n",
    "\n",
    "print(f\"極端值區間 MAE: {mae_extreme:.4f}\")\n",
    "print(f\"中間值區間 MAE: {mae_middle:.4f}\")"
   ]
  },
  {
   "cell_type": "code",
   "execution_count": null,
   "metadata": {
    "trusted": true
   },
   "outputs": [
    {
     "name": "stderr",
     "output_type": "stream",
     "text": [
      "/Users/yhk/miniforge3/envs/gnn_env/lib/python3.12/site-packages/tqdm/auto.py:21: TqdmWarning: IProgress not found. Please update jupyter and ipywidgets. See https://ipywidgets.readthedocs.io/en/stable/user_install.html\n",
      "  from .autonotebook import tqdm as notebook_tqdm\n",
      "[I 2025-06-01 22:19:57,410] A new study created in memory with name: no-name-809667ce-b38e-4ef7-a3c0-b88df7584bfb\n"
     ]
    },
    {
     "name": "stdout",
     "output_type": "stream",
     "text": [
      "使用裝置: cpu\n",
      "Trial 0 params: 64, 0.3432213667790133, 0.0004291178492894481, 1024, 10\n",
      "Trial 0 Epoch 0 start\n",
      "Trial 0 Epoch 0 end\n",
      "Trial 0 Epoch 1 start\n",
      "Trial 0 Epoch 1 end\n",
      "Trial 0 Epoch 2 start\n",
      "Trial 0 Epoch 2 end\n",
      "Trial 0 Epoch 3 start\n",
      "Trial 0 Epoch 3 end\n",
      "Trial 0 Epoch 4 start\n",
      "Trial 0 Epoch 4 end\n",
      "Trial 0 Epoch 5 start\n",
      "Trial 0 Epoch 5 end\n",
      "Trial 0 Epoch 6 start\n",
      "Trial 0 Epoch 6 end\n",
      "Trial 0 Epoch 7 start\n",
      "Trial 0 Epoch 7 end\n",
      "Trial 0 Epoch 8 start\n",
      "Trial 0 Epoch 8 end\n",
      "Trial 0 Epoch 9 start\n",
      "Trial 0 Epoch 9 end\n"
     ]
    },
    {
     "name": "stderr",
     "output_type": "stream",
     "text": [
      "[I 2025-06-01 22:23:26,147] Trial 0 finished with value: 2717.9692261801188 and parameters: {'hidden_dim': 64, 'dropout': 0.3432213667790133, 'learning_rate': 0.0004291178492894481, 'batch_size': 1024, 'k': 10}. Best is trial 0 with value: 2717.9692261801188.\n"
     ]
    },
    {
     "name": "stdout",
     "output_type": "stream",
     "text": [
      "Trial 1 params: 256, 0.09898686695684428, 0.0035522091125145573, 512, 4\n",
      "Trial 1 Epoch 0 start\n",
      "Trial 1 Epoch 0 end\n",
      "Trial 1 Epoch 1 start\n",
      "Trial 1 Epoch 1 end\n",
      "Trial 1 Epoch 2 start\n",
      "Trial 1 Epoch 2 end\n",
      "Trial 1 Epoch 3 start\n",
      "Trial 1 Epoch 3 end\n",
      "Trial 1 Epoch 4 start\n",
      "Trial 1 Epoch 4 end\n",
      "Trial 1 Epoch 5 start\n",
      "Trial 1 Epoch 5 end\n",
      "Trial 1 Epoch 6 start\n",
      "Trial 1 Epoch 6 end\n",
      "Trial 1 Epoch 7 start\n",
      "Trial 1 Epoch 7 end\n",
      "Trial 1 Epoch 8 start\n",
      "Trial 1 Epoch 8 end\n",
      "Trial 1 Epoch 9 start\n",
      "Trial 1 Epoch 9 end\n"
     ]
    },
    {
     "name": "stderr",
     "output_type": "stream",
     "text": [
      "[I 2025-06-01 22:31:50,241] Trial 1 finished with value: 289.8350112273899 and parameters: {'hidden_dim': 256, 'dropout': 0.09898686695684428, 'learning_rate': 0.0035522091125145573, 'batch_size': 512, 'k': 4}. Best is trial 1 with value: 289.8350112273899.\n"
     ]
    },
    {
     "name": "stdout",
     "output_type": "stream",
     "text": [
      "Trial 2 params: 64, 0.26559324621935043, 0.0011895067066478963, 512, 8\n",
      "Trial 2 Epoch 0 start\n",
      "Trial 2 Epoch 0 end\n",
      "Trial 2 Epoch 1 start\n",
      "Trial 2 Epoch 1 end\n",
      "Trial 2 Epoch 2 start\n",
      "Trial 2 Epoch 2 end\n",
      "Trial 2 Epoch 3 start\n",
      "Trial 2 Epoch 3 end\n",
      "Trial 2 Epoch 4 start\n",
      "Trial 2 Epoch 4 end\n",
      "Trial 2 Epoch 5 start\n",
      "Trial 2 Epoch 5 end\n",
      "Trial 2 Epoch 6 start\n",
      "Trial 2 Epoch 6 end\n",
      "Trial 2 Epoch 7 start\n",
      "Trial 2 Epoch 7 end\n",
      "Trial 2 Epoch 8 start\n",
      "Trial 2 Epoch 8 end\n",
      "Trial 2 Epoch 9 start\n",
      "Trial 2 Epoch 9 end\n"
     ]
    },
    {
     "name": "stderr",
     "output_type": "stream",
     "text": [
      "[I 2025-06-01 22:37:15,567] Trial 2 finished with value: 670.5879506492 and parameters: {'hidden_dim': 64, 'dropout': 0.26559324621935043, 'learning_rate': 0.0011895067066478963, 'batch_size': 512, 'k': 8}. Best is trial 1 with value: 289.8350112273899.\n"
     ]
    },
    {
     "name": "stdout",
     "output_type": "stream",
     "text": [
      "Trial 3 params: 256, 0.029464244727983535, 0.00014047835154048808, 64, 6\n",
      "Trial 3 Epoch 0 start\n",
      "Trial 3 Epoch 0 end\n",
      "Trial 3 Epoch 1 start\n",
      "Trial 3 Epoch 1 end\n",
      "Trial 3 Epoch 2 start\n",
      "Trial 3 Epoch 2 end\n",
      "Trial 3 Epoch 3 start\n",
      "Trial 3 Epoch 3 end\n",
      "Trial 3 Epoch 4 start\n",
      "Trial 3 Epoch 4 end\n",
      "Trial 3 Epoch 5 start\n",
      "Trial 3 Epoch 5 end\n",
      "Trial 3 Epoch 6 start\n",
      "Trial 3 Epoch 6 end\n",
      "Trial 3 Epoch 7 start\n",
      "Trial 3 Epoch 7 end\n",
      "Trial 3 Epoch 8 start\n",
      "Trial 3 Epoch 8 end\n",
      "Trial 3 Epoch 9 start\n",
      "Trial 3 Epoch 9 end\n"
     ]
    },
    {
     "name": "stderr",
     "output_type": "stream",
     "text": [
      "[I 2025-06-01 22:46:05,105] Trial 3 finished with value: 524.4193347253639 and parameters: {'hidden_dim': 256, 'dropout': 0.029464244727983535, 'learning_rate': 0.00014047835154048808, 'batch_size': 64, 'k': 6}. Best is trial 1 with value: 289.8350112273899.\n"
     ]
    },
    {
     "name": "stdout",
     "output_type": "stream",
     "text": [
      "Trial 4 params: 128, 0.15784432394128078, 0.0021819360022041047, 512, 8\n",
      "Trial 4 Epoch 0 start\n",
      "Trial 4 Epoch 0 end\n",
      "Trial 4 Epoch 1 start\n",
      "Trial 4 Epoch 1 end\n",
      "Trial 4 Epoch 2 start\n",
      "Trial 4 Epoch 2 end\n",
      "Trial 4 Epoch 3 start\n",
      "Trial 4 Epoch 3 end\n",
      "Trial 4 Epoch 4 start\n",
      "Trial 4 Epoch 4 end\n",
      "Trial 4 Epoch 5 start\n",
      "Trial 4 Epoch 5 end\n",
      "Trial 4 Epoch 6 start\n",
      "Trial 4 Epoch 6 end\n",
      "Trial 4 Epoch 7 start\n",
      "Trial 4 Epoch 7 end\n",
      "Trial 4 Epoch 8 start\n",
      "Trial 4 Epoch 8 end\n",
      "Trial 4 Epoch 9 start\n",
      "Trial 4 Epoch 9 end\n"
     ]
    },
    {
     "name": "stderr",
     "output_type": "stream",
     "text": [
      "[I 2025-06-01 22:51:23,755] Trial 4 finished with value: 464.7963575198654 and parameters: {'hidden_dim': 128, 'dropout': 0.15784432394128078, 'learning_rate': 0.0021819360022041047, 'batch_size': 512, 'k': 8}. Best is trial 1 with value: 289.8350112273899.\n"
     ]
    },
    {
     "name": "stdout",
     "output_type": "stream",
     "text": [
      "Trial 5 params: 128, 0.3130655375111758, 0.00011903321854929911, 1024, 6\n",
      "Trial 5 Epoch 0 start\n",
      "Trial 5 Epoch 0 end\n",
      "Trial 5 Epoch 1 start\n",
      "Trial 5 Epoch 1 end\n",
      "Trial 5 Epoch 2 start\n",
      "Trial 5 Epoch 2 end\n",
      "Trial 5 Epoch 3 start\n",
      "Trial 5 Epoch 3 end\n",
      "Trial 5 Epoch 4 start\n",
      "Trial 5 Epoch 4 end\n",
      "Trial 5 Epoch 5 start\n",
      "Trial 5 Epoch 5 end\n",
      "Trial 5 Epoch 6 start\n",
      "Trial 5 Epoch 6 end\n",
      "Trial 5 Epoch 7 start\n",
      "Trial 5 Epoch 7 end\n",
      "Trial 5 Epoch 8 start\n",
      "Trial 5 Epoch 8 end\n",
      "Trial 5 Epoch 9 start\n",
      "Trial 5 Epoch 9 end\n"
     ]
    },
    {
     "name": "stderr",
     "output_type": "stream",
     "text": [
      "[I 2025-06-01 22:56:23,720] Trial 5 finished with value: 3769.7252562413514 and parameters: {'hidden_dim': 128, 'dropout': 0.3130655375111758, 'learning_rate': 0.00011903321854929911, 'batch_size': 1024, 'k': 6}. Best is trial 1 with value: 289.8350112273899.\n"
     ]
    },
    {
     "name": "stdout",
     "output_type": "stream",
     "text": [
      "Trial 6 params: 64, 0.4375843491844308, 0.0081983061975827, 64, 4\n",
      "Trial 6 Epoch 0 start\n",
      "Trial 6 Epoch 0 end\n",
      "Trial 6 Epoch 1 start\n",
      "Trial 6 Epoch 1 end\n",
      "Trial 6 Epoch 2 start\n",
      "Trial 6 Epoch 2 end\n",
      "Trial 6 Epoch 3 start\n",
      "Trial 6 Epoch 3 end\n",
      "Trial 6 Epoch 4 start\n",
      "Trial 6 Epoch 4 end\n",
      "Trial 6 Epoch 5 start\n",
      "Trial 6 Epoch 5 end\n",
      "Trial 6 Epoch 6 start\n",
      "Trial 6 Epoch 6 end\n",
      "Trial 6 Epoch 7 start\n",
      "Trial 6 Epoch 7 end\n",
      "Trial 6 Epoch 8 start\n",
      "Trial 6 Epoch 8 end\n",
      "Trial 6 Epoch 9 start\n",
      "Trial 6 Epoch 9 end\n"
     ]
    },
    {
     "name": "stderr",
     "output_type": "stream",
     "text": [
      "[I 2025-06-01 23:00:10,171] Trial 6 finished with value: 253.65596646697657 and parameters: {'hidden_dim': 64, 'dropout': 0.4375843491844308, 'learning_rate': 0.0081983061975827, 'batch_size': 64, 'k': 4}. Best is trial 6 with value: 253.65596646697657.\n"
     ]
    },
    {
     "name": "stdout",
     "output_type": "stream",
     "text": [
      "Trial 7 params: 128, 0.29994374422874026, 0.008523564742936921, 64, 6\n",
      "Trial 7 Epoch 0 start\n",
      "Trial 7 Epoch 0 end\n",
      "Trial 7 Epoch 1 start\n",
      "Trial 7 Epoch 1 end\n",
      "Trial 7 Epoch 2 start\n",
      "Trial 7 Epoch 2 end\n",
      "Trial 7 Epoch 3 start\n",
      "Trial 7 Epoch 3 end\n",
      "Trial 7 Epoch 4 start\n",
      "Trial 7 Epoch 4 end\n",
      "Trial 7 Epoch 5 start\n",
      "Trial 7 Epoch 5 end\n",
      "Trial 7 Epoch 6 start\n",
      "Trial 7 Epoch 6 end\n",
      "Trial 7 Epoch 7 start\n",
      "Trial 7 Epoch 7 end\n",
      "Trial 7 Epoch 8 start\n",
      "Trial 7 Epoch 8 end\n",
      "Trial 7 Epoch 9 start\n",
      "Trial 7 Epoch 9 end\n"
     ]
    },
    {
     "name": "stderr",
     "output_type": "stream",
     "text": [
      "[I 2025-06-01 23:04:57,908] Trial 7 finished with value: 218.17344867301367 and parameters: {'hidden_dim': 128, 'dropout': 0.29994374422874026, 'learning_rate': 0.008523564742936921, 'batch_size': 64, 'k': 6}. Best is trial 7 with value: 218.17344867301367.\n"
     ]
    },
    {
     "name": "stdout",
     "output_type": "stream",
     "text": [
      "Trial 8 params: 128, 0.3730650222630268, 0.0029047401451151116, 512, 4\n",
      "Trial 8 Epoch 0 start\n",
      "Trial 8 Epoch 0 end\n",
      "Trial 8 Epoch 1 start\n",
      "Trial 8 Epoch 1 end\n",
      "Trial 8 Epoch 2 start\n",
      "Trial 8 Epoch 2 end\n",
      "Trial 8 Epoch 3 start\n",
      "Trial 8 Epoch 3 end\n",
      "Trial 8 Epoch 4 start\n",
      "Trial 8 Epoch 4 end\n",
      "Trial 8 Epoch 5 start\n",
      "Trial 8 Epoch 5 end\n",
      "Trial 8 Epoch 6 start\n",
      "Trial 8 Epoch 6 end\n",
      "Trial 8 Epoch 7 start\n",
      "Trial 8 Epoch 7 end\n",
      "Trial 8 Epoch 8 start\n",
      "Trial 8 Epoch 8 end\n",
      "Trial 8 Epoch 9 start\n",
      "Trial 8 Epoch 9 end\n"
     ]
    },
    {
     "name": "stderr",
     "output_type": "stream",
     "text": [
      "[I 2025-06-01 23:10:06,103] Trial 8 finished with value: 321.77410988756037 and parameters: {'hidden_dim': 128, 'dropout': 0.3730650222630268, 'learning_rate': 0.0029047401451151116, 'batch_size': 512, 'k': 4}. Best is trial 7 with value: 218.17344867301367.\n"
     ]
    },
    {
     "name": "stdout",
     "output_type": "stream",
     "text": [
      "Trial 9 params: 128, 0.03771453539713915, 0.0011622768962219318, 1024, 8\n",
      "Trial 9 Epoch 0 start\n",
      "Trial 9 Epoch 0 end\n",
      "Trial 9 Epoch 1 start\n",
      "Trial 9 Epoch 1 end\n",
      "Trial 9 Epoch 2 start\n",
      "Trial 9 Epoch 2 end\n",
      "Trial 9 Epoch 3 start\n",
      "Trial 9 Epoch 3 end\n",
      "Trial 9 Epoch 4 start\n",
      "Trial 9 Epoch 4 end\n",
      "Trial 9 Epoch 5 start\n",
      "Trial 9 Epoch 5 end\n",
      "Trial 9 Epoch 6 start\n",
      "Trial 9 Epoch 6 end\n",
      "Trial 9 Epoch 7 start\n",
      "Trial 9 Epoch 7 end\n",
      "Trial 9 Epoch 8 start\n",
      "Trial 9 Epoch 8 end\n",
      "Trial 9 Epoch 9 start\n",
      "Trial 9 Epoch 9 end\n"
     ]
    },
    {
     "name": "stderr",
     "output_type": "stream",
     "text": [
      "[I 2025-06-01 23:14:48,731] Trial 9 finished with value: 1570.9565404724617 and parameters: {'hidden_dim': 128, 'dropout': 0.03771453539713915, 'learning_rate': 0.0011622768962219318, 'batch_size': 1024, 'k': 8}. Best is trial 7 with value: 218.17344867301367.\n"
     ]
    },
    {
     "name": "stdout",
     "output_type": "stream",
     "text": [
      "Trial 10 params: 128, 0.4947396919811826, 0.009660424245636502, 256, 12\n",
      "Trial 10 Epoch 0 start\n",
      "Trial 10 Epoch 0 end\n",
      "Trial 10 Epoch 1 start\n",
      "Trial 10 Epoch 1 end\n",
      "Trial 10 Epoch 2 start\n",
      "Trial 10 Epoch 2 end\n",
      "Trial 10 Epoch 3 start\n",
      "Trial 10 Epoch 3 end\n",
      "Trial 10 Epoch 4 start\n",
      "Trial 10 Epoch 4 end\n",
      "Trial 10 Epoch 5 start\n",
      "Trial 10 Epoch 5 end\n",
      "Trial 10 Epoch 6 start\n",
      "Trial 10 Epoch 6 end\n",
      "Trial 10 Epoch 7 start\n",
      "Trial 10 Epoch 7 end\n",
      "Trial 10 Epoch 8 start\n",
      "Trial 10 Epoch 8 end\n",
      "Trial 10 Epoch 9 start\n",
      "Trial 10 Epoch 9 end\n"
     ]
    },
    {
     "name": "stderr",
     "output_type": "stream",
     "text": [
      "[I 2025-06-01 23:20:25,611] Trial 10 finished with value: 245.2775443916909 and parameters: {'hidden_dim': 128, 'dropout': 0.4947396919811826, 'learning_rate': 0.009660424245636502, 'batch_size': 256, 'k': 12}. Best is trial 7 with value: 218.17344867301367.\n"
     ]
    },
    {
     "name": "stdout",
     "output_type": "stream",
     "text": [
      "Trial 11 params: 128, 0.49754330872073216, 0.008937781609716087, 256, 12\n",
      "Trial 11 Epoch 0 start\n",
      "Trial 11 Epoch 0 end\n",
      "Trial 11 Epoch 1 start\n",
      "Trial 11 Epoch 1 end\n",
      "Trial 11 Epoch 2 start\n",
      "Trial 11 Epoch 2 end\n",
      "Trial 11 Epoch 3 start\n",
      "Trial 11 Epoch 3 end\n",
      "Trial 11 Epoch 4 start\n",
      "Trial 11 Epoch 4 end\n",
      "Trial 11 Epoch 5 start\n",
      "Trial 11 Epoch 5 end\n",
      "Trial 11 Epoch 6 start\n",
      "Trial 11 Epoch 6 end\n",
      "Trial 11 Epoch 7 start\n",
      "Trial 11 Epoch 7 end\n",
      "Trial 11 Epoch 8 start\n",
      "Trial 11 Epoch 8 end\n",
      "Trial 11 Epoch 9 start\n",
      "Trial 11 Epoch 9 end\n"
     ]
    },
    {
     "name": "stderr",
     "output_type": "stream",
     "text": [
      "[I 2025-06-01 23:25:52,894] Trial 11 finished with value: 242.75229312187724 and parameters: {'hidden_dim': 128, 'dropout': 0.49754330872073216, 'learning_rate': 0.008937781609716087, 'batch_size': 256, 'k': 12}. Best is trial 7 with value: 218.17344867301367.\n"
     ]
    },
    {
     "name": "stdout",
     "output_type": "stream",
     "text": [
      "Trial 12 params: 128, 0.1962057667124289, 0.004916012087647943, 256, 12\n",
      "Trial 12 Epoch 0 start\n",
      "Trial 12 Epoch 0 end\n",
      "Trial 12 Epoch 1 start\n",
      "Trial 12 Epoch 1 end\n",
      "Trial 12 Epoch 2 start\n",
      "Trial 12 Epoch 2 end\n",
      "Trial 12 Epoch 3 start\n",
      "Trial 12 Epoch 3 end\n",
      "Trial 12 Epoch 4 start\n",
      "Trial 12 Epoch 4 end\n",
      "Trial 12 Epoch 5 start\n",
      "Trial 12 Epoch 5 end\n",
      "Trial 12 Epoch 6 start\n",
      "Trial 12 Epoch 6 end\n",
      "Trial 12 Epoch 7 start\n",
      "Trial 12 Epoch 7 end\n",
      "Trial 12 Epoch 8 start\n",
      "Trial 12 Epoch 8 end\n",
      "Trial 12 Epoch 9 start\n",
      "Trial 12 Epoch 9 end\n"
     ]
    },
    {
     "name": "stderr",
     "output_type": "stream",
     "text": [
      "[I 2025-06-01 23:31:38,155] Trial 12 finished with value: 366.7403697167052 and parameters: {'hidden_dim': 128, 'dropout': 0.1962057667124289, 'learning_rate': 0.004916012087647943, 'batch_size': 256, 'k': 12}. Best is trial 7 with value: 218.17344867301367.\n"
     ]
    },
    {
     "name": "stdout",
     "output_type": "stream",
     "text": [
      "Trial 13 params: 128, 0.4142158521253431, 0.005981363336843829, 8, 10\n",
      "Trial 13 Epoch 0 start\n",
      "Trial 13 Epoch 0 end\n",
      "Trial 13 Epoch 1 start\n",
      "Trial 13 Epoch 1 end\n",
      "Trial 13 Epoch 2 start\n",
      "Trial 13 Epoch 2 end\n",
      "Trial 13 Epoch 3 start\n",
      "Trial 13 Epoch 3 end\n",
      "Trial 13 Epoch 4 start\n",
      "Trial 13 Epoch 4 end\n",
      "Trial 13 Epoch 5 start\n",
      "Trial 13 Epoch 5 end\n",
      "Trial 13 Epoch 6 start\n",
      "Trial 13 Epoch 6 end\n",
      "Trial 13 Epoch 7 start\n",
      "Trial 13 Epoch 7 end\n",
      "Trial 13 Epoch 8 start\n",
      "Trial 13 Epoch 8 end\n",
      "Trial 13 Epoch 9 start\n",
      "Trial 13 Epoch 9 end\n"
     ]
    },
    {
     "name": "stderr",
     "output_type": "stream",
     "text": [
      "[I 2025-06-01 23:37:40,561] Trial 13 finished with value: 123.98050341482512 and parameters: {'hidden_dim': 128, 'dropout': 0.4142158521253431, 'learning_rate': 0.005981363336843829, 'batch_size': 8, 'k': 10}. Best is trial 13 with value: 123.98050341482512.\n"
     ]
    },
    {
     "name": "stdout",
     "output_type": "stream",
     "text": [
      "Trial 14 params: 128, 0.39750122679558036, 0.0005322831906168875, 8, 10\n",
      "Trial 14 Epoch 0 start\n",
      "Trial 14 Epoch 0 end\n",
      "Trial 14 Epoch 1 start\n",
      "Trial 14 Epoch 1 end\n",
      "Trial 14 Epoch 2 start\n",
      "Trial 14 Epoch 2 end\n",
      "Trial 14 Epoch 3 start\n",
      "Trial 14 Epoch 3 end\n",
      "Trial 14 Epoch 4 start\n",
      "Trial 14 Epoch 4 end\n",
      "Trial 14 Epoch 5 start\n",
      "Trial 14 Epoch 5 end\n",
      "Trial 14 Epoch 6 start\n",
      "Trial 14 Epoch 6 end\n",
      "Trial 14 Epoch 7 start\n",
      "Trial 14 Epoch 7 end\n",
      "Trial 14 Epoch 8 start\n",
      "Trial 14 Epoch 8 end\n",
      "Trial 14 Epoch 9 start\n",
      "Trial 14 Epoch 9 end\n"
     ]
    },
    {
     "name": "stderr",
     "output_type": "stream",
     "text": [
      "[I 2025-06-01 23:41:37,690] Trial 14 finished with value: 182.5437713167636 and parameters: {'hidden_dim': 128, 'dropout': 0.39750122679558036, 'learning_rate': 0.0005322831906168875, 'batch_size': 8, 'k': 10}. Best is trial 13 with value: 123.98050341482512.\n"
     ]
    },
    {
     "name": "stdout",
     "output_type": "stream",
     "text": [
      "Trial 15 params: 256, 0.4009925469444758, 0.00037728860599326033, 8, 10\n",
      "Trial 15 Epoch 0 start\n",
      "Trial 15 Epoch 0 end\n",
      "Trial 15 Epoch 1 start\n",
      "Trial 15 Epoch 1 end\n",
      "Trial 15 Epoch 2 start\n",
      "Trial 15 Epoch 2 end\n",
      "Trial 15 Epoch 3 start\n",
      "Trial 15 Epoch 3 end\n",
      "Trial 15 Epoch 4 start\n",
      "Trial 15 Epoch 4 end\n",
      "Trial 15 Epoch 5 start\n",
      "Trial 15 Epoch 5 end\n",
      "Trial 15 Epoch 6 start\n",
      "Trial 15 Epoch 6 end\n",
      "Trial 15 Epoch 7 start\n",
      "Trial 15 Epoch 7 end\n",
      "Trial 15 Epoch 8 start\n",
      "Trial 15 Epoch 8 end\n",
      "Trial 15 Epoch 9 start\n",
      "Trial 15 Epoch 9 end\n"
     ]
    },
    {
     "name": "stderr",
     "output_type": "stream",
     "text": [
      "[I 2025-06-01 23:48:21,497] Trial 15 finished with value: 165.7682322415111 and parameters: {'hidden_dim': 256, 'dropout': 0.4009925469444758, 'learning_rate': 0.00037728860599326033, 'batch_size': 8, 'k': 10}. Best is trial 13 with value: 123.98050341482512.\n"
     ]
    },
    {
     "name": "stdout",
     "output_type": "stream",
     "text": [
      "Trial 16 params: 256, 0.4246820353610063, 0.00029224854823083887, 8, 10\n",
      "Trial 16 Epoch 0 start\n",
      "Trial 16 Epoch 0 end\n",
      "Trial 16 Epoch 1 start\n",
      "Trial 16 Epoch 1 end\n",
      "Trial 16 Epoch 2 start\n",
      "Trial 16 Epoch 2 end\n",
      "Trial 16 Epoch 3 start\n",
      "Trial 16 Epoch 3 end\n",
      "Trial 16 Epoch 4 start\n",
      "Trial 16 Epoch 4 end\n",
      "Trial 16 Epoch 5 start\n",
      "Trial 16 Epoch 5 end\n",
      "Trial 16 Epoch 6 start\n",
      "Trial 16 Epoch 6 end\n",
      "Trial 16 Epoch 7 start\n",
      "Trial 16 Epoch 7 end\n",
      "Trial 16 Epoch 8 start\n",
      "Trial 16 Epoch 8 end\n",
      "Trial 16 Epoch 9 start\n",
      "Trial 16 Epoch 9 end\n"
     ]
    },
    {
     "name": "stderr",
     "output_type": "stream",
     "text": [
      "[I 2025-06-01 23:56:14,168] Trial 16 finished with value: 187.29889837710357 and parameters: {'hidden_dim': 256, 'dropout': 0.4246820353610063, 'learning_rate': 0.00029224854823083887, 'batch_size': 8, 'k': 10}. Best is trial 13 with value: 123.98050341482512.\n"
     ]
    },
    {
     "name": "stdout",
     "output_type": "stream",
     "text": [
      "Trial 17 params: 256, 0.24832978391376667, 0.00030040704489628644, 8, 10\n",
      "Trial 17 Epoch 0 start\n",
      "Trial 17 Epoch 0 end\n",
      "Trial 17 Epoch 1 start\n",
      "Trial 17 Epoch 1 end\n",
      "Trial 17 Epoch 2 start\n",
      "Trial 17 Epoch 2 end\n",
      "Trial 17 Epoch 3 start\n",
      "Trial 17 Epoch 3 end\n",
      "Trial 17 Epoch 4 start\n",
      "Trial 17 Epoch 4 end\n",
      "Trial 17 Epoch 5 start\n",
      "Trial 17 Epoch 5 end\n",
      "Trial 17 Epoch 6 start\n",
      "Trial 17 Epoch 6 end\n",
      "Trial 17 Epoch 7 start\n",
      "Trial 17 Epoch 7 end\n",
      "Trial 17 Epoch 8 start\n",
      "Trial 17 Epoch 8 end\n",
      "Trial 17 Epoch 9 start\n",
      "Trial 17 Epoch 9 end\n"
     ]
    },
    {
     "name": "stderr",
     "output_type": "stream",
     "text": [
      "[I 2025-06-02 00:04:23,922] Trial 17 finished with value: 169.73236259523603 and parameters: {'hidden_dim': 256, 'dropout': 0.24832978391376667, 'learning_rate': 0.00030040704489628644, 'batch_size': 8, 'k': 10}. Best is trial 13 with value: 123.98050341482512.\n"
     ]
    },
    {
     "name": "stdout",
     "output_type": "stream",
     "text": [
      "Trial 18 params: 256, 0.4393492695891383, 0.0005755938835205114, 8, 10\n",
      "Trial 18 Epoch 0 start\n",
      "Trial 18 Epoch 0 end\n",
      "Trial 18 Epoch 1 start\n",
      "Trial 18 Epoch 1 end\n",
      "Trial 18 Epoch 2 start\n",
      "Trial 18 Epoch 2 end\n",
      "Trial 18 Epoch 3 start\n",
      "Trial 18 Epoch 3 end\n",
      "Trial 18 Epoch 4 start\n",
      "Trial 18 Epoch 4 end\n",
      "Trial 18 Epoch 5 start\n",
      "Trial 18 Epoch 5 end\n",
      "Trial 18 Epoch 6 start\n",
      "Trial 18 Epoch 6 end\n",
      "Trial 18 Epoch 7 start\n",
      "Trial 18 Epoch 7 end\n",
      "Trial 18 Epoch 8 start\n",
      "Trial 18 Epoch 8 end\n",
      "Trial 18 Epoch 9 start\n",
      "Trial 18 Epoch 9 end\n"
     ]
    },
    {
     "name": "stderr",
     "output_type": "stream",
     "text": [
      "[I 2025-06-02 00:13:38,685] Trial 18 finished with value: 156.0657460323502 and parameters: {'hidden_dim': 256, 'dropout': 0.4393492695891383, 'learning_rate': 0.0005755938835205114, 'batch_size': 8, 'k': 10}. Best is trial 13 with value: 123.98050341482512.\n"
     ]
    },
    {
     "name": "stdout",
     "output_type": "stream",
     "text": [
      "Trial 19 params: 256, 0.45957046513043576, 0.0006386552398950821, 8, 8\n",
      "Trial 19 Epoch 0 start\n",
      "Trial 19 Epoch 0 end\n",
      "Trial 19 Epoch 1 start\n",
      "Trial 19 Epoch 1 end\n",
      "Trial 19 Epoch 2 start\n",
      "Trial 19 Epoch 2 end\n",
      "Trial 19 Epoch 3 start\n",
      "Trial 19 Epoch 3 end\n",
      "Trial 19 Epoch 4 start\n",
      "Trial 19 Epoch 4 end\n",
      "Trial 19 Epoch 5 start\n",
      "Trial 19 Epoch 5 end\n",
      "Trial 19 Epoch 6 start\n",
      "Trial 19 Epoch 6 end\n",
      "Trial 19 Epoch 7 start\n",
      "Trial 19 Epoch 7 end\n",
      "Trial 19 Epoch 8 start\n",
      "Trial 19 Epoch 8 end\n",
      "Trial 19 Epoch 9 start\n",
      "Trial 19 Epoch 9 end\n"
     ]
    },
    {
     "name": "stderr",
     "output_type": "stream",
     "text": [
      "[I 2025-06-02 00:24:20,183] Trial 19 finished with value: 135.7977270555756 and parameters: {'hidden_dim': 256, 'dropout': 0.45957046513043576, 'learning_rate': 0.0006386552398950821, 'batch_size': 8, 'k': 8}. Best is trial 13 with value: 123.98050341482512.\n"
     ]
    },
    {
     "name": "stdout",
     "output_type": "stream",
     "text": [
      "Trial 20 params: 256, 0.4696184877042564, 0.0017817236172335844, 8, 8\n",
      "Trial 20 Epoch 0 start\n",
      "Trial 20 Epoch 0 end\n",
      "Trial 20 Epoch 1 start\n",
      "Trial 20 Epoch 1 end\n",
      "Trial 20 Epoch 2 start\n",
      "Trial 20 Epoch 2 end\n",
      "Trial 20 Epoch 3 start\n",
      "Trial 20 Epoch 3 end\n",
      "Trial 20 Epoch 4 start\n",
      "Trial 20 Epoch 4 end\n",
      "Trial 20 Epoch 5 start\n",
      "Trial 20 Epoch 5 end\n",
      "Trial 20 Epoch 6 start\n",
      "Trial 20 Epoch 6 end\n",
      "Trial 20 Epoch 7 start\n",
      "Trial 20 Epoch 7 end\n",
      "Trial 20 Epoch 8 start\n",
      "Trial 20 Epoch 8 end\n",
      "Trial 20 Epoch 9 start\n",
      "Trial 20 Epoch 9 end\n"
     ]
    },
    {
     "name": "stderr",
     "output_type": "stream",
     "text": [
      "[I 2025-06-02 00:33:14,797] Trial 20 finished with value: 109.0742006893348 and parameters: {'hidden_dim': 256, 'dropout': 0.4696184877042564, 'learning_rate': 0.0017817236172335844, 'batch_size': 8, 'k': 8}. Best is trial 20 with value: 109.0742006893348.\n"
     ]
    },
    {
     "name": "stdout",
     "output_type": "stream",
     "text": [
      "Trial 21 params: 256, 0.46451032650240776, 0.0017778608384730094, 8, 8\n",
      "Trial 21 Epoch 0 start\n",
      "Trial 21 Epoch 0 end\n",
      "Trial 21 Epoch 1 start\n",
      "Trial 21 Epoch 1 end\n",
      "Trial 21 Epoch 2 start\n",
      "Trial 21 Epoch 2 end\n",
      "Trial 21 Epoch 3 start\n",
      "Trial 21 Epoch 3 end\n",
      "Trial 21 Epoch 4 start\n",
      "Trial 21 Epoch 4 end\n",
      "Trial 21 Epoch 5 start\n",
      "Trial 21 Epoch 5 end\n",
      "Trial 21 Epoch 6 start\n",
      "Trial 21 Epoch 6 end\n",
      "Trial 21 Epoch 7 start\n",
      "Trial 21 Epoch 7 end\n",
      "Trial 21 Epoch 8 start\n",
      "Trial 21 Epoch 8 end\n",
      "Trial 21 Epoch 9 start\n",
      "Trial 21 Epoch 9 end\n"
     ]
    },
    {
     "name": "stderr",
     "output_type": "stream",
     "text": [
      "[I 2025-06-02 00:42:40,952] Trial 21 finished with value: 102.87183113006165 and parameters: {'hidden_dim': 256, 'dropout': 0.46451032650240776, 'learning_rate': 0.0017778608384730094, 'batch_size': 8, 'k': 8}. Best is trial 21 with value: 102.87183113006165.\n"
     ]
    },
    {
     "name": "stdout",
     "output_type": "stream",
     "text": [
      "Trial 22 params: 256, 0.4779727011553309, 0.0016804068216440997, 8, 8\n",
      "Trial 22 Epoch 0 start\n",
      "Trial 22 Epoch 0 end\n",
      "Trial 22 Epoch 1 start\n",
      "Trial 22 Epoch 1 end\n",
      "Trial 22 Epoch 2 start\n",
      "Trial 22 Epoch 2 end\n",
      "Trial 22 Epoch 3 start\n",
      "Trial 22 Epoch 3 end\n",
      "Trial 22 Epoch 4 start\n",
      "Trial 22 Epoch 4 end\n",
      "Trial 22 Epoch 5 start\n",
      "Trial 22 Epoch 5 end\n",
      "Trial 22 Epoch 6 start\n",
      "Trial 22 Epoch 6 end\n",
      "Trial 22 Epoch 7 start\n",
      "Trial 22 Epoch 7 end\n",
      "Trial 22 Epoch 8 start\n",
      "Trial 22 Epoch 8 end\n",
      "Trial 22 Epoch 9 start\n",
      "Trial 22 Epoch 9 end\n"
     ]
    },
    {
     "name": "stderr",
     "output_type": "stream",
     "text": [
      "[I 2025-06-02 00:52:18,431] Trial 22 finished with value: 113.62602968448341 and parameters: {'hidden_dim': 256, 'dropout': 0.4779727011553309, 'learning_rate': 0.0016804068216440997, 'batch_size': 8, 'k': 8}. Best is trial 21 with value: 102.87183113006165.\n"
     ]
    },
    {
     "name": "stdout",
     "output_type": "stream",
     "text": [
      "Trial 23 params: 256, 0.4857520786950789, 0.0018830217606573226, 8, 6\n",
      "Trial 23 Epoch 0 start\n",
      "Trial 23 Epoch 0 end\n",
      "Trial 23 Epoch 1 start\n",
      "Trial 23 Epoch 1 end\n",
      "Trial 23 Epoch 2 start\n",
      "Trial 23 Epoch 2 end\n",
      "Trial 23 Epoch 3 start\n",
      "Trial 23 Epoch 3 end\n",
      "Trial 23 Epoch 4 start\n",
      "Trial 23 Epoch 4 end\n",
      "Trial 23 Epoch 5 start\n",
      "Trial 23 Epoch 5 end\n",
      "Trial 23 Epoch 6 start\n",
      "Trial 23 Epoch 6 end\n",
      "Trial 23 Epoch 7 start\n",
      "Trial 23 Epoch 7 end\n",
      "Trial 23 Epoch 8 start\n",
      "Trial 23 Epoch 8 end\n",
      "Trial 23 Epoch 9 start\n",
      "Trial 23 Epoch 9 end\n"
     ]
    },
    {
     "name": "stderr",
     "output_type": "stream",
     "text": [
      "[I 2025-06-02 01:01:45,632] Trial 23 finished with value: 124.45278832071806 and parameters: {'hidden_dim': 256, 'dropout': 0.4857520786950789, 'learning_rate': 0.0018830217606573226, 'batch_size': 8, 'k': 6}. Best is trial 21 with value: 102.87183113006165.\n"
     ]
    },
    {
     "name": "stdout",
     "output_type": "stream",
     "text": [
      "Trial 24 params: 256, 0.36436798673767684, 0.001658698294061642, 8, 8\n",
      "Trial 24 Epoch 0 start\n",
      "Trial 24 Epoch 0 end\n",
      "Trial 24 Epoch 1 start\n",
      "Trial 24 Epoch 1 end\n",
      "Trial 24 Epoch 2 start\n",
      "Trial 24 Epoch 2 end\n",
      "Trial 24 Epoch 3 start\n",
      "Trial 24 Epoch 3 end\n",
      "Trial 24 Epoch 4 start\n",
      "Trial 24 Epoch 4 end\n",
      "Trial 24 Epoch 5 start\n",
      "Trial 24 Epoch 5 end\n",
      "Trial 24 Epoch 6 start\n",
      "Trial 24 Epoch 6 end\n",
      "Trial 24 Epoch 7 start\n",
      "Trial 24 Epoch 7 end\n",
      "Trial 24 Epoch 8 start\n",
      "Trial 24 Epoch 8 end\n",
      "Trial 24 Epoch 9 start\n",
      "Trial 24 Epoch 9 end\n"
     ]
    },
    {
     "name": "stderr",
     "output_type": "stream",
     "text": [
      "[I 2025-06-02 01:12:07,195] Trial 24 finished with value: 107.09642297844839 and parameters: {'hidden_dim': 256, 'dropout': 0.36436798673767684, 'learning_rate': 0.001658698294061642, 'batch_size': 8, 'k': 8}. Best is trial 21 with value: 102.87183113006165.\n"
     ]
    },
    {
     "name": "stdout",
     "output_type": "stream",
     "text": [
      "Trial 25 params: 256, 0.3552684028190114, 0.0008611862022873909, 8, 6\n",
      "Trial 25 Epoch 0 start\n",
      "Trial 25 Epoch 0 end\n",
      "Trial 25 Epoch 1 start\n",
      "Trial 25 Epoch 1 end\n",
      "Trial 25 Epoch 2 start\n",
      "Trial 25 Epoch 2 end\n",
      "Trial 25 Epoch 3 start\n",
      "Trial 25 Epoch 3 end\n",
      "Trial 25 Epoch 4 start\n",
      "Trial 25 Epoch 4 end\n",
      "Trial 25 Epoch 5 start\n",
      "Trial 25 Epoch 5 end\n",
      "Trial 25 Epoch 6 start\n",
      "Trial 25 Epoch 6 end\n",
      "Trial 25 Epoch 7 start\n",
      "Trial 25 Epoch 7 end\n",
      "Trial 25 Epoch 8 start\n",
      "Trial 25 Epoch 8 end\n",
      "Trial 25 Epoch 9 start\n",
      "Trial 25 Epoch 9 end\n"
     ]
    },
    {
     "name": "stderr",
     "output_type": "stream",
     "text": [
      "[I 2025-06-02 01:22:02,508] Trial 25 finished with value: 127.54158487580477 and parameters: {'hidden_dim': 256, 'dropout': 0.3552684028190114, 'learning_rate': 0.0008611862022873909, 'batch_size': 8, 'k': 6}. Best is trial 21 with value: 102.87183113006165.\n"
     ]
    },
    {
     "name": "stdout",
     "output_type": "stream",
     "text": [
      "Trial 26 params: 256, 0.33319945447736915, 0.0026953534045743538, 8, 8\n",
      "Trial 26 Epoch 0 start\n",
      "Trial 26 Epoch 0 end\n",
      "Trial 26 Epoch 1 start\n",
      "Trial 26 Epoch 1 end\n",
      "Trial 26 Epoch 2 start\n",
      "Trial 26 Epoch 2 end\n",
      "Trial 26 Epoch 3 start\n",
      "Trial 26 Epoch 3 end\n",
      "Trial 26 Epoch 4 start\n",
      "Trial 26 Epoch 4 end\n",
      "Trial 26 Epoch 5 start\n",
      "Trial 26 Epoch 5 end\n",
      "Trial 26 Epoch 6 start\n",
      "Trial 26 Epoch 6 end\n",
      "Trial 26 Epoch 7 start\n",
      "Trial 26 Epoch 7 end\n",
      "Trial 26 Epoch 8 start\n",
      "Trial 26 Epoch 8 end\n",
      "Trial 26 Epoch 9 start\n",
      "Trial 26 Epoch 9 end\n"
     ]
    },
    {
     "name": "stderr",
     "output_type": "stream",
     "text": [
      "[I 2025-06-02 01:33:09,406] Trial 26 finished with value: 100.78241675781153 and parameters: {'hidden_dim': 256, 'dropout': 0.33319945447736915, 'learning_rate': 0.0026953534045743538, 'batch_size': 8, 'k': 8}. Best is trial 26 with value: 100.78241675781153.\n"
     ]
    },
    {
     "name": "stdout",
     "output_type": "stream",
     "text": [
      "Trial 27 params: 256, 0.3166328851655084, 0.003083641657607423, 8, 8\n",
      "Trial 27 Epoch 0 start\n",
      "Trial 27 Epoch 0 end\n",
      "Trial 27 Epoch 1 start\n",
      "Trial 27 Epoch 1 end\n",
      "Trial 27 Epoch 2 start\n",
      "Trial 27 Epoch 2 end\n",
      "Trial 27 Epoch 3 start\n",
      "Trial 27 Epoch 3 end\n",
      "Trial 27 Epoch 4 start\n",
      "Trial 27 Epoch 4 end\n",
      "Trial 27 Epoch 5 start\n",
      "Trial 27 Epoch 5 end\n",
      "Trial 27 Epoch 6 start\n",
      "Trial 27 Epoch 6 end\n",
      "Trial 27 Epoch 7 start\n",
      "Trial 27 Epoch 7 end\n",
      "Trial 27 Epoch 8 start\n",
      "Trial 27 Epoch 8 end\n",
      "Trial 27 Epoch 9 start\n",
      "Trial 27 Epoch 9 end\n"
     ]
    },
    {
     "name": "stderr",
     "output_type": "stream",
     "text": [
      "[I 2025-06-02 01:43:12,489] Trial 27 finished with value: 123.02322099858519 and parameters: {'hidden_dim': 256, 'dropout': 0.3166328851655084, 'learning_rate': 0.003083641657607423, 'batch_size': 8, 'k': 8}. Best is trial 26 with value: 100.78241675781153.\n"
     ]
    },
    {
     "name": "stdout",
     "output_type": "stream",
     "text": [
      "Trial 28 params: 256, 0.23769805668298707, 0.0041229878669569115, 8, 8\n",
      "Trial 28 Epoch 0 start\n",
      "Trial 28 Epoch 0 end\n",
      "Trial 28 Epoch 1 start\n",
      "Trial 28 Epoch 1 end\n",
      "Trial 28 Epoch 2 start\n",
      "Trial 28 Epoch 2 end\n",
      "Trial 28 Epoch 3 start\n",
      "Trial 28 Epoch 3 end\n",
      "Trial 28 Epoch 4 start\n",
      "Trial 28 Epoch 4 end\n",
      "Trial 28 Epoch 5 start\n",
      "Trial 28 Epoch 5 end\n",
      "Trial 28 Epoch 6 start\n",
      "Trial 28 Epoch 6 end\n",
      "Trial 28 Epoch 7 start\n",
      "Trial 28 Epoch 7 end\n",
      "Trial 28 Epoch 8 start\n",
      "Trial 28 Epoch 8 end\n",
      "Trial 28 Epoch 9 start\n",
      "Trial 28 Epoch 9 end\n"
     ]
    },
    {
     "name": "stderr",
     "output_type": "stream",
     "text": [
      "[I 2025-06-02 01:52:40,058] Trial 28 finished with value: 128.21762661367836 and parameters: {'hidden_dim': 256, 'dropout': 0.23769805668298707, 'learning_rate': 0.0041229878669569115, 'batch_size': 8, 'k': 8}. Best is trial 26 with value: 100.78241675781153.\n"
     ]
    },
    {
     "name": "stdout",
     "output_type": "stream",
     "text": [
      "Trial 29 params: 64, 0.3726111379943007, 0.0025666705626350224, 1024, 6\n",
      "Trial 29 Epoch 0 start\n",
      "Trial 29 Epoch 0 end\n",
      "Trial 29 Epoch 1 start\n",
      "Trial 29 Epoch 1 end\n",
      "Trial 29 Epoch 2 start\n",
      "Trial 29 Epoch 2 end\n",
      "Trial 29 Epoch 3 start\n",
      "Trial 29 Epoch 3 end\n",
      "Trial 29 Epoch 4 start\n",
      "Trial 29 Epoch 4 end\n",
      "Trial 29 Epoch 5 start\n",
      "Trial 29 Epoch 5 end\n",
      "Trial 29 Epoch 6 start\n",
      "Trial 29 Epoch 6 end\n",
      "Trial 29 Epoch 7 start\n",
      "Trial 29 Epoch 7 end\n",
      "Trial 29 Epoch 8 start\n",
      "Trial 29 Epoch 8 end\n",
      "Trial 29 Epoch 9 start\n",
      "Trial 29 Epoch 9 end\n"
     ]
    },
    {
     "name": "stderr",
     "output_type": "stream",
     "text": [
      "[I 2025-06-02 01:57:34,562] Trial 29 finished with value: 646.9284678548643 and parameters: {'hidden_dim': 64, 'dropout': 0.3726111379943007, 'learning_rate': 0.0025666705626350224, 'batch_size': 1024, 'k': 6}. Best is trial 26 with value: 100.78241675781153.\n"
     ]
    },
    {
     "name": "stdout",
     "output_type": "stream",
     "text": [
      "Best params: {'hidden_dim': 256, 'dropout': 0.33319945447736915, 'learning_rate': 0.0026953534045743538, 'batch_size': 8, 'k': 8}\n",
      "Best value: 100.78241675781153\n"
     ]
    }
   ],
   "source": [
    "import optuna\n",
    "# expand the search space in Optuna\n",
    "def objective(trial):\n",
    "    hidden_dim = trial.suggest_categorical('hidden_dim', [64, 128, 256])\n",
    "    dropout = trial.suggest_float('dropout', 0.0, 0.5)\n",
    "    learning_rate = trial.suggest_float('learning_rate', 1e-4, 1e-2, log=True)\n",
    "    batch_size = trial.suggest_categorical('batch_size', [8,64,256, 512, 1024])\n",
    "    k = trial.suggest_int('k', 4, 12, step=2)\n",
    "    activation = torch.nn.ReLU()\n",
    "    # reconstruct spatial graph\n",
    "    edge_index, edge_weight = build_spatial_graph(spatial_df, k=k)\n",
    "    edge_index = edge_index.to(device)\n",
    "    edge_weight = edge_weight.to(device)\n",
    "    model = SpatioTemporalGNN(\n",
    "        spatial_features=len(spatial_cols),\n",
    "        temporal_features=len(temporal_cols),\n",
    "        hidden_dim=hidden_dim,\n",
    "        dropout=dropout,\n",
    "        activation=activation\n",
    "    ).to(device)\n",
    "    optimizer = torch.optim.Adam(model.parameters(), lr=learning_rate)\n",
    "    print(f\"Trial {trial.number} params: {hidden_dim}, {dropout}, {learning_rate}, {batch_size}, {k}\")\n",
    "    for epoch in range(10):\n",
    "        print(f\"Trial {trial.number} Epoch {epoch} start\")\n",
    "        run_epoch(train_batches, model, spatial_x, edge_index, edge_weight, optimizer, batch_size=batch_size)\n",
    "        print(f\"Trial {trial.number} Epoch {epoch} end\")\n",
    "    val_loss, yv, pv = run_epoch(val_batches, model, spatial_x, edge_index, edge_weight, optimizer=None, batch_size=batch_size, collect_pred=True)\n",
    "    r2 = 1 - np.sum((yv - pv)**2) / np.sum((yv - yv.mean())**2)\n",
    "    return val_loss\n",
    "\n",
    "device = torch.device('cpu')\n",
    "print('使用裝置:', device)\n",
    "\n",
    "study = optuna.create_study(direction='minimize')\n",
    "study.optimize(objective, n_trials=30)\n",
    "\n",
    "print('Best params:', study.best_params)\n",
    "print('Best value:', study.best_value)"
   ]
  },
  {
   "cell_type": "code",
   "execution_count": 36,
   "metadata": {
    "trusted": true
   },
   "outputs": [
    {
     "name": "stderr",
     "output_type": "stream",
     "text": [
      "  0%|          | 1/200 [01:30<4:59:05, 90.18s/it]"
     ]
    },
    {
     "name": "stdout",
     "output_type": "stream",
     "text": [
      "Epoch:  0 Val loss: 315.0645456454506 R square: 0.9224853\n"
     ]
    },
    {
     "name": "stderr",
     "output_type": "stream",
     "text": [
      "  1%|          | 2/200 [03:01<4:59:57, 90.90s/it]"
     ]
    },
    {
     "name": "stdout",
     "output_type": "stream",
     "text": [
      "Epoch:  1 Val loss: 213.19707092261388 R square: 0.94754755\n"
     ]
    },
    {
     "name": "stderr",
     "output_type": "stream",
     "text": [
      "  2%|▏         | 3/200 [04:26<4:49:18, 88.12s/it]"
     ]
    },
    {
     "name": "stdout",
     "output_type": "stream",
     "text": [
      "Epoch:  2 Val loss: 180.63489245424114 R square: 0.9555588\n"
     ]
    },
    {
     "name": "stderr",
     "output_type": "stream",
     "text": [
      "  2%|▏         | 4/200 [05:41<4:31:01, 82.97s/it]"
     ]
    },
    {
     "name": "stdout",
     "output_type": "stream",
     "text": [
      "Epoch:  3 Val loss: 144.38843852667438 R square: 0.9644764\n"
     ]
    },
    {
     "name": "stderr",
     "output_type": "stream",
     "text": [
      "  2%|▎         | 5/200 [06:54<4:18:00, 79.39s/it]"
     ]
    },
    {
     "name": "stdout",
     "output_type": "stream",
     "text": [
      "Epoch:  4 Val loss: 142.49906880763876 R square: 0.96494126\n"
     ]
    },
    {
     "name": "stderr",
     "output_type": "stream",
     "text": [
      "  3%|▎         | 6/200 [07:52<3:52:50, 72.01s/it]"
     ]
    },
    {
     "name": "stdout",
     "output_type": "stream",
     "text": [
      "Epoch:  5 Val loss: 122.64284416377696 R square: 0.9698264\n"
     ]
    },
    {
     "name": "stderr",
     "output_type": "stream",
     "text": [
      "  4%|▎         | 7/200 [08:50<3:37:06, 67.50s/it]"
     ]
    },
    {
     "name": "stdout",
     "output_type": "stream",
     "text": [
      "Epoch:  6 Val loss: 131.23900218773562 R square: 0.9677115\n"
     ]
    },
    {
     "name": "stderr",
     "output_type": "stream",
     "text": [
      "  4%|▍         | 8/200 [09:48<3:26:11, 64.43s/it]"
     ]
    },
    {
     "name": "stdout",
     "output_type": "stream",
     "text": [
      "Epoch:  7 Val loss: 122.19996024064315 R square: 0.9699354\n"
     ]
    },
    {
     "name": "stderr",
     "output_type": "stream",
     "text": [
      "  4%|▍         | 9/200 [10:51<3:23:43, 64.00s/it]"
     ]
    },
    {
     "name": "stdout",
     "output_type": "stream",
     "text": [
      "Epoch:  8 Val loss: 105.12925461369079 R square: 0.9741353\n"
     ]
    },
    {
     "name": "stderr",
     "output_type": "stream",
     "text": [
      "  5%|▌         | 10/200 [11:55<3:22:55, 64.08s/it]"
     ]
    },
    {
     "name": "stdout",
     "output_type": "stream",
     "text": [
      "Epoch:  9 Val loss: 109.60803614800061 R square: 0.97303337\n"
     ]
    },
    {
     "name": "stderr",
     "output_type": "stream",
     "text": [
      "  6%|▌         | 11/200 [12:59<3:21:49, 64.07s/it]"
     ]
    },
    {
     "name": "stdout",
     "output_type": "stream",
     "text": [
      "Epoch:  10 Val loss: 104.46831932757878 R square: 0.9742979\n"
     ]
    },
    {
     "name": "stderr",
     "output_type": "stream",
     "text": [
      "  6%|▌         | 12/200 [14:02<3:19:27, 63.66s/it]"
     ]
    },
    {
     "name": "stdout",
     "output_type": "stream",
     "text": [
      "Epoch:  11 Val loss: 94.34374184357056 R square: 0.9767888\n"
     ]
    },
    {
     "name": "stderr",
     "output_type": "stream",
     "text": [
      "  6%|▋         | 13/200 [15:07<3:20:03, 64.19s/it]"
     ]
    },
    {
     "name": "stdout",
     "output_type": "stream",
     "text": [
      "Epoch:  12 Val loss: 102.35873575602592 R square: 0.97481686\n"
     ]
    },
    {
     "name": "stderr",
     "output_type": "stream",
     "text": [
      "  7%|▋         | 14/200 [16:12<3:19:48, 64.45s/it]"
     ]
    },
    {
     "name": "stdout",
     "output_type": "stream",
     "text": [
      "Epoch:  13 Val loss: 91.9996112425634 R square: 0.9773655\n"
     ]
    },
    {
     "name": "stderr",
     "output_type": "stream",
     "text": [
      "  8%|▊         | 15/200 [17:18<3:20:18, 64.97s/it]"
     ]
    },
    {
     "name": "stdout",
     "output_type": "stream",
     "text": [
      "Epoch:  14 Val loss: 103.64082768079827 R square: 0.97450143\n"
     ]
    },
    {
     "name": "stderr",
     "output_type": "stream",
     "text": [
      "  8%|▊         | 16/200 [18:19<3:14:41, 63.49s/it]"
     ]
    },
    {
     "name": "stdout",
     "output_type": "stream",
     "text": [
      "Epoch:  15 Val loss: 97.544042000174 R square: 0.97600144\n"
     ]
    },
    {
     "name": "stderr",
     "output_type": "stream",
     "text": [
      "  8%|▊         | 17/200 [19:18<3:10:13, 62.37s/it]"
     ]
    },
    {
     "name": "stdout",
     "output_type": "stream",
     "text": [
      "Epoch:  16 Val loss: 95.03738146636547 R square: 0.9766182\n"
     ]
    },
    {
     "name": "stderr",
     "output_type": "stream",
     "text": [
      "  9%|▉         | 18/200 [20:18<3:06:22, 61.44s/it]"
     ]
    },
    {
     "name": "stdout",
     "output_type": "stream",
     "text": [
      "Epoch:  17 Val loss: 114.47213446508323 R square: 0.9718366\n"
     ]
    },
    {
     "name": "stderr",
     "output_type": "stream",
     "text": [
      " 10%|▉         | 19/200 [21:18<3:04:00, 61.00s/it]"
     ]
    },
    {
     "name": "stdout",
     "output_type": "stream",
     "text": [
      "Epoch:  18 Val loss: 106.42105663824604 R square: 0.97381747\n"
     ]
    },
    {
     "name": "stderr",
     "output_type": "stream",
     "text": [
      " 10%|█         | 20/200 [22:16<3:00:49, 60.27s/it]"
     ]
    },
    {
     "name": "stdout",
     "output_type": "stream",
     "text": [
      "Epoch:  19 Val loss: 92.90713131514786 R square: 0.9771422\n"
     ]
    },
    {
     "name": "stderr",
     "output_type": "stream",
     "text": [
      " 10%|█         | 21/200 [23:14<2:57:26, 59.48s/it]"
     ]
    },
    {
     "name": "stdout",
     "output_type": "stream",
     "text": [
      "Epoch:  20 Val loss: 110.54899554218764 R square: 0.97280186\n"
     ]
    },
    {
     "name": "stderr",
     "output_type": "stream",
     "text": [
      " 11%|█         | 22/200 [24:13<2:55:56, 59.31s/it]"
     ]
    },
    {
     "name": "stdout",
     "output_type": "stream",
     "text": [
      "Epoch:  21 Val loss: 104.66022700378872 R square: 0.9742507\n"
     ]
    },
    {
     "name": "stderr",
     "output_type": "stream",
     "text": [
      " 12%|█▏        | 23/200 [25:20<3:01:50, 61.64s/it]"
     ]
    },
    {
     "name": "stdout",
     "output_type": "stream",
     "text": [
      "Epoch:  22 Val loss: 96.28373531583766 R square: 0.9763115\n"
     ]
    },
    {
     "name": "stderr",
     "output_type": "stream",
     "text": [
      " 12%|█▏        | 24/200 [26:24<3:03:11, 62.45s/it]"
     ]
    },
    {
     "name": "stdout",
     "output_type": "stream",
     "text": [
      "Epoch:  23 Val loss: 102.38640039031752 R square: 0.97481006\n"
     ]
    },
    {
     "name": "stderr",
     "output_type": "stream",
     "text": [
      " 12%|█▎        | 25/200 [27:30<3:05:07, 63.47s/it]"
     ]
    },
    {
     "name": "stdout",
     "output_type": "stream",
     "text": [
      "Epoch:  24 Val loss: 86.93438404975267 R square: 0.9786117\n"
     ]
    },
    {
     "name": "stderr",
     "output_type": "stream",
     "text": [
      " 13%|█▎        | 26/200 [28:37<3:06:57, 64.47s/it]"
     ]
    },
    {
     "name": "stdout",
     "output_type": "stream",
     "text": [
      "Epoch:  25 Val loss: 95.85951081102355 R square: 0.9764159\n"
     ]
    },
    {
     "name": "stderr",
     "output_type": "stream",
     "text": [
      " 14%|█▎        | 27/200 [29:42<3:06:49, 64.80s/it]"
     ]
    },
    {
     "name": "stdout",
     "output_type": "stream",
     "text": [
      "Epoch:  26 Val loss: 89.90130005069933 R square: 0.9778818\n"
     ]
    },
    {
     "name": "stderr",
     "output_type": "stream",
     "text": [
      " 14%|█▍        | 28/200 [30:48<3:06:09, 64.94s/it]"
     ]
    },
    {
     "name": "stdout",
     "output_type": "stream",
     "text": [
      "Epoch:  27 Val loss: 85.77862728716639 R square: 0.9788961\n"
     ]
    },
    {
     "name": "stderr",
     "output_type": "stream",
     "text": [
      " 14%|█▍        | 29/200 [31:55<3:07:08, 65.66s/it]"
     ]
    },
    {
     "name": "stdout",
     "output_type": "stream",
     "text": [
      "Epoch:  28 Val loss: 101.05808979918093 R square: 0.9751369\n"
     ]
    },
    {
     "name": "stderr",
     "output_type": "stream",
     "text": [
      " 15%|█▌        | 30/200 [33:02<3:07:36, 66.22s/it]"
     ]
    },
    {
     "name": "stdout",
     "output_type": "stream",
     "text": [
      "Epoch:  29 Val loss: 95.6966603499652 R square: 0.9764559\n"
     ]
    },
    {
     "name": "stderr",
     "output_type": "stream",
     "text": [
      " 16%|█▌        | 31/200 [34:14<3:11:16, 67.91s/it]"
     ]
    },
    {
     "name": "stdout",
     "output_type": "stream",
     "text": [
      "Epoch:  30 Val loss: 109.53817247818738 R square: 0.97305053\n"
     ]
    },
    {
     "name": "stderr",
     "output_type": "stream",
     "text": [
      " 16%|█▌        | 32/200 [35:22<3:09:54, 67.83s/it]"
     ]
    },
    {
     "name": "stdout",
     "output_type": "stream",
     "text": [
      "Epoch:  31 Val loss: 100.74175491793855 R square: 0.9752147\n"
     ]
    },
    {
     "name": "stderr",
     "output_type": "stream",
     "text": [
      " 16%|█▋        | 33/200 [36:30<3:08:51, 67.85s/it]"
     ]
    },
    {
     "name": "stdout",
     "output_type": "stream",
     "text": [
      "Epoch:  32 Val loss: 101.27107624604348 R square: 0.9750845\n"
     ]
    },
    {
     "name": "stderr",
     "output_type": "stream",
     "text": [
      " 17%|█▋        | 34/200 [37:38<3:08:11, 68.02s/it]"
     ]
    },
    {
     "name": "stdout",
     "output_type": "stream",
     "text": [
      "Epoch:  33 Val loss: 97.40102642191164 R square: 0.9760366\n"
     ]
    },
    {
     "name": "stderr",
     "output_type": "stream",
     "text": [
      " 18%|█▊        | 35/200 [38:46<3:07:01, 68.01s/it]"
     ]
    },
    {
     "name": "stdout",
     "output_type": "stream",
     "text": [
      "Epoch:  34 Val loss: 92.40694879885572 R square: 0.9772653\n"
     ]
    },
    {
     "name": "stderr",
     "output_type": "stream",
     "text": [
      " 18%|█▊        | 36/200 [39:55<3:06:31, 68.24s/it]"
     ]
    },
    {
     "name": "stdout",
     "output_type": "stream",
     "text": [
      "Epoch:  35 Val loss: 89.39426037238891 R square: 0.9780065\n"
     ]
    },
    {
     "name": "stderr",
     "output_type": "stream",
     "text": [
      " 18%|█▊        | 37/200 [41:03<3:05:00, 68.10s/it]"
     ]
    },
    {
     "name": "stdout",
     "output_type": "stream",
     "text": [
      "Epoch:  36 Val loss: 92.70413872765916 R square: 0.97719216\n"
     ]
    },
    {
     "name": "stderr",
     "output_type": "stream",
     "text": [
      " 19%|█▉        | 38/200 [42:09<3:02:27, 67.58s/it]"
     ]
    },
    {
     "name": "stdout",
     "output_type": "stream",
     "text": [
      "Epoch:  37 Val loss: 87.68629034001694 R square: 0.9784267\n"
     ]
    },
    {
     "name": "stderr",
     "output_type": "stream",
     "text": [
      " 20%|█▉        | 39/200 [43:14<2:59:25, 66.86s/it]"
     ]
    },
    {
     "name": "stdout",
     "output_type": "stream",
     "text": [
      "Epoch:  38 Val loss: 101.15812795314532 R square: 0.97511226\n"
     ]
    },
    {
     "name": "stderr",
     "output_type": "stream",
     "text": [
      " 20%|██        | 40/200 [44:20<2:57:21, 66.51s/it]"
     ]
    },
    {
     "name": "stdout",
     "output_type": "stream",
     "text": [
      "Epoch:  39 Val loss: 88.97369787782652 R square: 0.97810996\n"
     ]
    },
    {
     "name": "stderr",
     "output_type": "stream",
     "text": [
      " 20%|██        | 41/200 [45:24<2:54:32, 65.86s/it]"
     ]
    },
    {
     "name": "stdout",
     "output_type": "stream",
     "text": [
      "Epoch:  40 Val loss: 96.21141895590453 R square: 0.97632927\n"
     ]
    },
    {
     "name": "stderr",
     "output_type": "stream",
     "text": [
      " 21%|██        | 42/200 [46:28<2:51:55, 65.29s/it]"
     ]
    },
    {
     "name": "stdout",
     "output_type": "stream",
     "text": [
      "Epoch:  41 Val loss: 92.61481265199441 R square: 0.97721416\n"
     ]
    },
    {
     "name": "stderr",
     "output_type": "stream",
     "text": [
      " 22%|██▏       | 43/200 [47:33<2:50:41, 65.23s/it]"
     ]
    },
    {
     "name": "stdout",
     "output_type": "stream",
     "text": [
      "Epoch:  42 Val loss: 111.38198196833545 R square: 0.9725969\n"
     ]
    },
    {
     "name": "stderr",
     "output_type": "stream",
     "text": [
      " 22%|██▏       | 44/200 [48:37<2:48:21, 64.75s/it]"
     ]
    },
    {
     "name": "stdout",
     "output_type": "stream",
     "text": [
      "Epoch:  43 Val loss: 93.81039842474749 R square: 0.97692\n"
     ]
    },
    {
     "name": "stderr",
     "output_type": "stream",
     "text": [
      " 22%|██▎       | 45/200 [49:42<2:47:21, 64.78s/it]"
     ]
    },
    {
     "name": "stdout",
     "output_type": "stream",
     "text": [
      "Epoch:  44 Val loss: 92.3721171876942 R square: 0.9772739\n"
     ]
    },
    {
     "name": "stderr",
     "output_type": "stream",
     "text": [
      " 23%|██▎       | 46/200 [50:45<2:44:57, 64.27s/it]"
     ]
    },
    {
     "name": "stdout",
     "output_type": "stream",
     "text": [
      "Epoch:  45 Val loss: 102.41735145070513 R square: 0.97480243\n"
     ]
    },
    {
     "name": "stderr",
     "output_type": "stream",
     "text": [
      " 24%|██▎       | 47/200 [51:50<2:44:11, 64.39s/it]"
     ]
    },
    {
     "name": "stdout",
     "output_type": "stream",
     "text": [
      "Epoch:  46 Val loss: 91.30930310042714 R square: 0.97753537\n"
     ]
    },
    {
     "name": "stderr",
     "output_type": "stream",
     "text": [
      " 24%|██▎       | 47/200 [52:55<2:52:16, 67.56s/it]"
     ]
    },
    {
     "name": "stdout",
     "output_type": "stream",
     "text": [
      "Early stopping triggered!\n"
     ]
    },
    {
     "name": "stderr",
     "output_type": "stream",
     "text": [
      "\n"
     ]
    }
   ],
   "source": [
    "import torch.nn as nn\n",
    "hidden_dim = study.best_params['hidden_dim']\n",
    "dropout = study.best_params['dropout']\n",
    "learning_rate = study.best_params['learning_rate']\n",
    "batch_size = study.best_params['batch_size']\n",
    "k = study.best_params['k']\n",
    "\n",
    "activation = nn.ReLU()\n",
    "\n",
    "patience = 20\n",
    "edge_index, edge_weight = build_spatial_graph(spatial_df, k=k)\n",
    "edge_index = edge_index.to(device)\n",
    "edge_weight = edge_weight.to(device)\n",
    "model = SpatioTemporalGNN(\n",
    "    spatial_features=len(spatial_cols),\n",
    "    temporal_features=len(temporal_cols),\n",
    "    hidden_dim=hidden_dim,\n",
    "    dropout=dropout,\n",
    "    activation=activation\n",
    ").to(device)\n",
    "optimizer = torch.optim.Adam(model.parameters(), lr=learning_rate)\n",
    "best_val = float('inf')\n",
    "wait = 0\n",
    "for epoch in tqdm(range(200)):\n",
    "    run_epoch(train_batches, model, spatial_x, edge_index, edge_weight, optimizer, batch_size=batch_size)\n",
    "    val_loss, yv, pv = run_epoch(val_batches, model, spatial_x, edge_index, edge_weight, optimizer=None, batch_size=batch_size, collect_pred=True)\n",
    "    if val_loss < best_val - 1e-4:\n",
    "        best_val, wait = val_loss, 0\n",
    "        torch.save(model.state_dict(), \"best_gnn_3.pt\")\n",
    "    else:\n",
    "        wait += 1\n",
    "        if wait >= patience:\n",
    "            print(\"Early stopping triggered!\")\n",
    "            break\n",
    "    r2 = 1 - np.sum((yv - pv)**2) / np.sum((yv - yv.mean())**2)\n",
    "    print(\"Epoch: \", epoch,\"Val loss:\",val_loss, \"R square:\", r2)\n",
    "    \n"
   ]
  },
  {
   "cell_type": "code",
   "execution_count": null,
   "metadata": {
    "trusted": true
   },
   "outputs": [],
   "source": [
    "model = SpatioTemporalGNN(\n",
    "        spatial_features=len(spatial_cols),\n",
    "        temporal_features=len(temporal_cols),\n",
    "        hidden_dim=hidden_dim,\n",
    "        dropout=dropout,\n",
    "        activation=activation\n",
    "    )\n",
    "# load the weights\n",
    "model.load_state_dict(torch.load(\"best_gnn_3.pt\"))\n",
    "val_loss, y_true, y_pred = run_epoch(test_batches, model,\n",
    "                                 spatial_x, edge_index, edge_weight,\n",
    "                                 optimizer=None, collect_pred=True)\n",
    "\n"
   ]
  },
  {
   "cell_type": "code",
   "execution_count": null,
   "metadata": {},
   "outputs": [
    {
     "name": "stdout",
     "output_type": "stream",
     "text": [
      "Adjusted R square: 0.9646\n",
      "MSE: 136.3294\n"
     ]
    }
   ],
   "source": [
    "# calculate adjusted R square\n",
    "n = len(y_true)  # number of samples\n",
    "p = len(spatial_cols) + len(temporal_cols)  # number of features\n",
    "r2 = 1 - np.sum((y_true - y_pred)**2) / np.sum((y_true - y_true.mean())**2)\n",
    "adjusted_r2 = 1 - (1-r2)*(n-1)/(n-p-1)\n",
    "\n",
    "# calculate MSE\n",
    "mse = np.mean((y_true - y_pred)**2)\n",
    "\n",
    "print(f\"Adjusted R square: {adjusted_r2:.4f}\")\n",
    "print(f\"MSE: {mse:.4f}\")"
   ]
  }
 ],
 "metadata": {
  "kernelspec": {
   "display_name": "gnn_env",
   "language": "python",
   "name": "python3"
  },
  "language_info": {
   "codemirror_mode": {
    "name": "ipython",
    "version": 3
   },
   "file_extension": ".py",
   "mimetype": "text/x-python",
   "name": "python",
   "nbconvert_exporter": "python",
   "pygments_lexer": "ipython3",
   "version": "3.12.9"
  }
 },
 "nbformat": 4,
 "nbformat_minor": 4
}
