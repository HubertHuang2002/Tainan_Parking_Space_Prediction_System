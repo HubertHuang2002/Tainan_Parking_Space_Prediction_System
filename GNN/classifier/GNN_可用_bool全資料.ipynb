{
 "cells": [
  {
   "cell_type": "code",
   "execution_count": null,
   "metadata": {
    "trusted": true
   },
   "outputs": [],
   "source": [
    "import numpy as np\n",
    "import pandas as pd\n",
    "import torch\n",
    "import torch.nn.functional as F\n",
    "\n",
    "# importing after the general libraries to avoid initialization issues\n",
    "\n",
    "from torch_geometric.data import Data, DataLoader\n",
    "from torch_geometric.nn import GCNConv, GATConv"
   ]
  },
  {
   "cell_type": "code",
   "execution_count": 44,
   "metadata": {
    "trusted": true
   },
   "outputs": [
    {
     "name": "stderr",
     "output_type": "stream",
     "text": [
      "/var/folders/wt/6hl8qhss3jz9zrdh6n8f3_qh0000gn/T/ipykernel_13890/3642721045.py:1: DtypeWarning: Columns (47,48) have mixed types. Specify dtype option on import or set low_memory=False.\n",
      "  df_1 = pd.read_csv(\"中西_dataset.csv\")\n"
     ]
    },
    {
     "data": {
      "text/html": [
       "<div>\n",
       "<style scoped>\n",
       "    .dataframe tbody tr th:only-of-type {\n",
       "        vertical-align: middle;\n",
       "    }\n",
       "\n",
       "    .dataframe tbody tr th {\n",
       "        vertical-align: top;\n",
       "    }\n",
       "\n",
       "    .dataframe thead th {\n",
       "        text-align: right;\n",
       "    }\n",
       "</style>\n",
       "<table border=\"1\" class=\"dataframe\">\n",
       "  <thead>\n",
       "    <tr style=\"text-align: right;\">\n",
       "      <th></th>\n",
       "      <th>ParkingSegmentID</th>\n",
       "      <th>year_val</th>\n",
       "      <th>month_val</th>\n",
       "      <th>day_val</th>\n",
       "      <th>half_hour_interval</th>\n",
       "      <th>weekday_x</th>\n",
       "      <th>district</th>\n",
       "      <th>avg_available_spots</th>\n",
       "      <th>TotalSpaces</th>\n",
       "      <th>lat</th>\n",
       "      <th>lon</th>\n",
       "      <th>firstHourFee</th>\n",
       "      <th>laterHourFee</th>\n",
       "      <th>datetime</th>\n",
       "      <th>datetime_hour</th>\n",
       "      <th>time</th>\n",
       "      <th>precipitation</th>\n",
       "      <th>apparent_temperature</th>\n",
       "      <th>relative_humidity_2m</th>\n",
       "      <th>temperature_2m</th>\n",
       "      <th>cloud_cover</th>\n",
       "      <th>cloud_cover_low</th>\n",
       "      <th>cloud_cover_mid</th>\n",
       "      <th>cloud_cover_high</th>\n",
       "      <th>visibility</th>\n",
       "      <th>wind_speed_10m</th>\n",
       "      <th>temperature_80m</th>\n",
       "      <th>temperature_120m</th>\n",
       "      <th>showers</th>\n",
       "      <th>pressure_msl</th>\n",
       "      <th>surface_pressure</th>\n",
       "      <th>wind_speed_80m</th>\n",
       "      <th>wind_speed_120m</th>\n",
       "      <th>wind_direction_10m</th>\n",
       "      <th>wind_direction_80m</th>\n",
       "      <th>wind_direction_120m</th>\n",
       "      <th>wind_gusts_10m</th>\n",
       "      <th>evapotranspiration</th>\n",
       "      <th>et0_fao_evapotranspiration</th>\n",
       "      <th>vapour_pressure_deficit</th>\n",
       "      <th>dew_point_2m</th>\n",
       "      <th>terrestrial_radiation_instant</th>\n",
       "      <th>latitude</th>\n",
       "      <th>longitude</th>\n",
       "      <th>hour</th>\n",
       "      <th>date</th>\n",
       "      <th>weekday_y</th>\n",
       "      <th>is_national_holiday</th>\n",
       "      <th>holiday_name</th>\n",
       "    </tr>\n",
       "  </thead>\n",
       "  <tbody>\n",
       "    <tr>\n",
       "      <th>0</th>\n",
       "      <td>1421</td>\n",
       "      <td>2024</td>\n",
       "      <td>7</td>\n",
       "      <td>20</td>\n",
       "      <td>46</td>\n",
       "      <td>Saturday</td>\n",
       "      <td>中西區</td>\n",
       "      <td>1.0</td>\n",
       "      <td>3</td>\n",
       "      <td>22.9948</td>\n",
       "      <td>120.19519</td>\n",
       "      <td>0</td>\n",
       "      <td>0</td>\n",
       "      <td>2024-07-20 23:00:00</td>\n",
       "      <td>2024-07-20 23:00:00</td>\n",
       "      <td>2024-07-20 23:00:00</td>\n",
       "      <td>0.8</td>\n",
       "      <td>35.4</td>\n",
       "      <td>78</td>\n",
       "      <td>29.4</td>\n",
       "      <td>15</td>\n",
       "      <td>0</td>\n",
       "      <td>0</td>\n",
       "      <td>10</td>\n",
       "      <td>24140.0</td>\n",
       "      <td>5.8</td>\n",
       "      <td>28.7</td>\n",
       "      <td>28.6</td>\n",
       "      <td>0.8</td>\n",
       "      <td>1010.1</td>\n",
       "      <td>1009.5</td>\n",
       "      <td>7.4</td>\n",
       "      <td>7.7</td>\n",
       "      <td>184</td>\n",
       "      <td>203</td>\n",
       "      <td>205</td>\n",
       "      <td>7.9</td>\n",
       "      <td>0.0</td>\n",
       "      <td>0.01</td>\n",
       "      <td>0.90</td>\n",
       "      <td>25.2</td>\n",
       "      <td>0.0</td>\n",
       "      <td>22.981</td>\n",
       "      <td>120.177</td>\n",
       "      <td>23</td>\n",
       "      <td>2024-07-20</td>\n",
       "      <td>Sat</td>\n",
       "      <td>False</td>\n",
       "      <td>NaN</td>\n",
       "    </tr>\n",
       "    <tr>\n",
       "      <th>1</th>\n",
       "      <td>1421</td>\n",
       "      <td>2024</td>\n",
       "      <td>7</td>\n",
       "      <td>24</td>\n",
       "      <td>40</td>\n",
       "      <td>Wednesday</td>\n",
       "      <td>中西區</td>\n",
       "      <td>1.0</td>\n",
       "      <td>3</td>\n",
       "      <td>22.9948</td>\n",
       "      <td>120.19519</td>\n",
       "      <td>0</td>\n",
       "      <td>0</td>\n",
       "      <td>2024-07-24 20:00:00</td>\n",
       "      <td>2024-07-24 20:00:00</td>\n",
       "      <td>2024-07-24 20:00:00</td>\n",
       "      <td>15.2</td>\n",
       "      <td>27.6</td>\n",
       "      <td>94</td>\n",
       "      <td>26.9</td>\n",
       "      <td>100</td>\n",
       "      <td>100</td>\n",
       "      <td>100</td>\n",
       "      <td>100</td>\n",
       "      <td>2300.0</td>\n",
       "      <td>45.1</td>\n",
       "      <td>26.5</td>\n",
       "      <td>26.4</td>\n",
       "      <td>1.2</td>\n",
       "      <td>985.5</td>\n",
       "      <td>984.9</td>\n",
       "      <td>72.7</td>\n",
       "      <td>77.2</td>\n",
       "      <td>315</td>\n",
       "      <td>319</td>\n",
       "      <td>320</td>\n",
       "      <td>74.5</td>\n",
       "      <td>0.0</td>\n",
       "      <td>0.03</td>\n",
       "      <td>0.21</td>\n",
       "      <td>25.8</td>\n",
       "      <td>0.0</td>\n",
       "      <td>22.981</td>\n",
       "      <td>120.177</td>\n",
       "      <td>20</td>\n",
       "      <td>2024-07-24</td>\n",
       "      <td>Wed</td>\n",
       "      <td>False</td>\n",
       "      <td>NaN</td>\n",
       "    </tr>\n",
       "    <tr>\n",
       "      <th>2</th>\n",
       "      <td>1421</td>\n",
       "      <td>2024</td>\n",
       "      <td>7</td>\n",
       "      <td>24</td>\n",
       "      <td>18</td>\n",
       "      <td>Wednesday</td>\n",
       "      <td>中西區</td>\n",
       "      <td>1.0</td>\n",
       "      <td>3</td>\n",
       "      <td>22.9948</td>\n",
       "      <td>120.19519</td>\n",
       "      <td>20</td>\n",
       "      <td>20</td>\n",
       "      <td>2024-07-24 09:00:00</td>\n",
       "      <td>2024-07-24 09:00:00</td>\n",
       "      <td>2024-07-24 09:00:00</td>\n",
       "      <td>0.8</td>\n",
       "      <td>28.5</td>\n",
       "      <td>82</td>\n",
       "      <td>28.4</td>\n",
       "      <td>100</td>\n",
       "      <td>100</td>\n",
       "      <td>100</td>\n",
       "      <td>100</td>\n",
       "      <td>9660.0</td>\n",
       "      <td>45.3</td>\n",
       "      <td>27.9</td>\n",
       "      <td>27.7</td>\n",
       "      <td>0.8</td>\n",
       "      <td>989.1</td>\n",
       "      <td>988.5</td>\n",
       "      <td>68.6</td>\n",
       "      <td>72.6</td>\n",
       "      <td>339</td>\n",
       "      <td>342</td>\n",
       "      <td>342</td>\n",
       "      <td>66.2</td>\n",
       "      <td>0.0</td>\n",
       "      <td>0.15</td>\n",
       "      <td>0.70</td>\n",
       "      <td>25.0</td>\n",
       "      <td>967.1</td>\n",
       "      <td>22.981</td>\n",
       "      <td>120.177</td>\n",
       "      <td>9</td>\n",
       "      <td>2024-07-24</td>\n",
       "      <td>Wed</td>\n",
       "      <td>False</td>\n",
       "      <td>NaN</td>\n",
       "    </tr>\n",
       "    <tr>\n",
       "      <th>3</th>\n",
       "      <td>1421</td>\n",
       "      <td>2024</td>\n",
       "      <td>8</td>\n",
       "      <td>21</td>\n",
       "      <td>9</td>\n",
       "      <td>Wednesday</td>\n",
       "      <td>中西區</td>\n",
       "      <td>2.0</td>\n",
       "      <td>3</td>\n",
       "      <td>22.9948</td>\n",
       "      <td>120.19519</td>\n",
       "      <td>0</td>\n",
       "      <td>0</td>\n",
       "      <td>2024-08-21 04:30:00</td>\n",
       "      <td>2024-08-21 04:00:00</td>\n",
       "      <td>2024-08-21 04:00:00</td>\n",
       "      <td>0.0</td>\n",
       "      <td>30.0</td>\n",
       "      <td>73</td>\n",
       "      <td>26.8</td>\n",
       "      <td>99</td>\n",
       "      <td>0</td>\n",
       "      <td>90</td>\n",
       "      <td>90</td>\n",
       "      <td>24140.0</td>\n",
       "      <td>10.1</td>\n",
       "      <td>26.8</td>\n",
       "      <td>26.8</td>\n",
       "      <td>0.0</td>\n",
       "      <td>1010.4</td>\n",
       "      <td>1009.8</td>\n",
       "      <td>17.1</td>\n",
       "      <td>18.9</td>\n",
       "      <td>145</td>\n",
       "      <td>152</td>\n",
       "      <td>156</td>\n",
       "      <td>19.4</td>\n",
       "      <td>0.0</td>\n",
       "      <td>0.04</td>\n",
       "      <td>0.95</td>\n",
       "      <td>21.5</td>\n",
       "      <td>0.0</td>\n",
       "      <td>22.981</td>\n",
       "      <td>120.177</td>\n",
       "      <td>4</td>\n",
       "      <td>2024-08-21</td>\n",
       "      <td>Wed</td>\n",
       "      <td>False</td>\n",
       "      <td>NaN</td>\n",
       "    </tr>\n",
       "    <tr>\n",
       "      <th>4</th>\n",
       "      <td>1421</td>\n",
       "      <td>2024</td>\n",
       "      <td>9</td>\n",
       "      <td>9</td>\n",
       "      <td>5</td>\n",
       "      <td>Monday</td>\n",
       "      <td>中西區</td>\n",
       "      <td>1.0</td>\n",
       "      <td>3</td>\n",
       "      <td>22.9948</td>\n",
       "      <td>120.19519</td>\n",
       "      <td>0</td>\n",
       "      <td>0</td>\n",
       "      <td>2024-09-09 02:30:00</td>\n",
       "      <td>2024-09-09 02:00:00</td>\n",
       "      <td>2024-09-09 02:00:00</td>\n",
       "      <td>0.0</td>\n",
       "      <td>31.5</td>\n",
       "      <td>73</td>\n",
       "      <td>27.5</td>\n",
       "      <td>100</td>\n",
       "      <td>0</td>\n",
       "      <td>5</td>\n",
       "      <td>100</td>\n",
       "      <td>24140.0</td>\n",
       "      <td>7.1</td>\n",
       "      <td>26.7</td>\n",
       "      <td>26.5</td>\n",
       "      <td>0.0</td>\n",
       "      <td>1006.8</td>\n",
       "      <td>1006.2</td>\n",
       "      <td>8.7</td>\n",
       "      <td>8.8</td>\n",
       "      <td>131</td>\n",
       "      <td>135</td>\n",
       "      <td>135</td>\n",
       "      <td>8.3</td>\n",
       "      <td>0.0</td>\n",
       "      <td>0.02</td>\n",
       "      <td>0.99</td>\n",
       "      <td>22.2</td>\n",
       "      <td>0.0</td>\n",
       "      <td>22.981</td>\n",
       "      <td>120.177</td>\n",
       "      <td>2</td>\n",
       "      <td>2024-09-09</td>\n",
       "      <td>Mon</td>\n",
       "      <td>False</td>\n",
       "      <td>NaN</td>\n",
       "    </tr>\n",
       "  </tbody>\n",
       "</table>\n",
       "</div>"
      ],
      "text/plain": [
       "   ParkingSegmentID  year_val  month_val  day_val  half_hour_interval  \\\n",
       "0              1421      2024          7       20                  46   \n",
       "1              1421      2024          7       24                  40   \n",
       "2              1421      2024          7       24                  18   \n",
       "3              1421      2024          8       21                   9   \n",
       "4              1421      2024          9        9                   5   \n",
       "\n",
       "   weekday_x district  avg_available_spots  TotalSpaces      lat        lon  \\\n",
       "0   Saturday      中西區                  1.0            3  22.9948  120.19519   \n",
       "1  Wednesday      中西區                  1.0            3  22.9948  120.19519   \n",
       "2  Wednesday      中西區                  1.0            3  22.9948  120.19519   \n",
       "3  Wednesday      中西區                  2.0            3  22.9948  120.19519   \n",
       "4     Monday      中西區                  1.0            3  22.9948  120.19519   \n",
       "\n",
       "   firstHourFee  laterHourFee             datetime        datetime_hour  \\\n",
       "0             0             0  2024-07-20 23:00:00  2024-07-20 23:00:00   \n",
       "1             0             0  2024-07-24 20:00:00  2024-07-24 20:00:00   \n",
       "2            20            20  2024-07-24 09:00:00  2024-07-24 09:00:00   \n",
       "3             0             0  2024-08-21 04:30:00  2024-08-21 04:00:00   \n",
       "4             0             0  2024-09-09 02:30:00  2024-09-09 02:00:00   \n",
       "\n",
       "                  time  precipitation  apparent_temperature  \\\n",
       "0  2024-07-20 23:00:00            0.8                  35.4   \n",
       "1  2024-07-24 20:00:00           15.2                  27.6   \n",
       "2  2024-07-24 09:00:00            0.8                  28.5   \n",
       "3  2024-08-21 04:00:00            0.0                  30.0   \n",
       "4  2024-09-09 02:00:00            0.0                  31.5   \n",
       "\n",
       "   relative_humidity_2m  temperature_2m  cloud_cover  cloud_cover_low  \\\n",
       "0                    78            29.4           15                0   \n",
       "1                    94            26.9          100              100   \n",
       "2                    82            28.4          100              100   \n",
       "3                    73            26.8           99                0   \n",
       "4                    73            27.5          100                0   \n",
       "\n",
       "   cloud_cover_mid  cloud_cover_high  visibility  wind_speed_10m  \\\n",
       "0                0                10     24140.0             5.8   \n",
       "1              100               100      2300.0            45.1   \n",
       "2              100               100      9660.0            45.3   \n",
       "3               90                90     24140.0            10.1   \n",
       "4                5               100     24140.0             7.1   \n",
       "\n",
       "   temperature_80m  temperature_120m  showers  pressure_msl  surface_pressure  \\\n",
       "0             28.7              28.6      0.8        1010.1            1009.5   \n",
       "1             26.5              26.4      1.2         985.5             984.9   \n",
       "2             27.9              27.7      0.8         989.1             988.5   \n",
       "3             26.8              26.8      0.0        1010.4            1009.8   \n",
       "4             26.7              26.5      0.0        1006.8            1006.2   \n",
       "\n",
       "   wind_speed_80m  wind_speed_120m  wind_direction_10m  wind_direction_80m  \\\n",
       "0             7.4              7.7                 184                 203   \n",
       "1            72.7             77.2                 315                 319   \n",
       "2            68.6             72.6                 339                 342   \n",
       "3            17.1             18.9                 145                 152   \n",
       "4             8.7              8.8                 131                 135   \n",
       "\n",
       "   wind_direction_120m  wind_gusts_10m  evapotranspiration  \\\n",
       "0                  205             7.9                 0.0   \n",
       "1                  320            74.5                 0.0   \n",
       "2                  342            66.2                 0.0   \n",
       "3                  156            19.4                 0.0   \n",
       "4                  135             8.3                 0.0   \n",
       "\n",
       "   et0_fao_evapotranspiration  vapour_pressure_deficit  dew_point_2m  \\\n",
       "0                        0.01                     0.90          25.2   \n",
       "1                        0.03                     0.21          25.8   \n",
       "2                        0.15                     0.70          25.0   \n",
       "3                        0.04                     0.95          21.5   \n",
       "4                        0.02                     0.99          22.2   \n",
       "\n",
       "   terrestrial_radiation_instant  latitude  longitude  hour        date  \\\n",
       "0                            0.0    22.981    120.177    23  2024-07-20   \n",
       "1                            0.0    22.981    120.177    20  2024-07-24   \n",
       "2                          967.1    22.981    120.177     9  2024-07-24   \n",
       "3                            0.0    22.981    120.177     4  2024-08-21   \n",
       "4                            0.0    22.981    120.177     2  2024-09-09   \n",
       "\n",
       "  weekday_y is_national_holiday holiday_name  \n",
       "0       Sat               False          NaN  \n",
       "1       Wed               False          NaN  \n",
       "2       Wed               False          NaN  \n",
       "3       Wed               False          NaN  \n",
       "4       Mon               False          NaN  "
      ]
     },
     "execution_count": 44,
     "metadata": {},
     "output_type": "execute_result"
    }
   ],
   "source": [
    "df_1 = pd.read_csv(\"中西_dataset.csv\")\n",
    "df_1.head()"
   ]
  },
  {
   "cell_type": "code",
   "execution_count": 45,
   "metadata": {
    "trusted": true
   },
   "outputs": [
    {
     "name": "stderr",
     "output_type": "stream",
     "text": [
      "/var/folders/wt/6hl8qhss3jz9zrdh6n8f3_qh0000gn/T/ipykernel_13890/1002289959.py:1: DtypeWarning: Columns (0,47) have mixed types. Specify dtype option on import or set low_memory=False.\n",
      "  df_2 = pd.read_csv(\"安平_dataset.csv\")\n"
     ]
    },
    {
     "data": {
      "text/html": [
       "<div>\n",
       "<style scoped>\n",
       "    .dataframe tbody tr th:only-of-type {\n",
       "        vertical-align: middle;\n",
       "    }\n",
       "\n",
       "    .dataframe tbody tr th {\n",
       "        vertical-align: top;\n",
       "    }\n",
       "\n",
       "    .dataframe thead th {\n",
       "        text-align: right;\n",
       "    }\n",
       "</style>\n",
       "<table border=\"1\" class=\"dataframe\">\n",
       "  <thead>\n",
       "    <tr style=\"text-align: right;\">\n",
       "      <th></th>\n",
       "      <th>ParkingSegmentID</th>\n",
       "      <th>year_val</th>\n",
       "      <th>month_val</th>\n",
       "      <th>day_val</th>\n",
       "      <th>half_hour_interval</th>\n",
       "      <th>weekday_x</th>\n",
       "      <th>district</th>\n",
       "      <th>avg_available_spots</th>\n",
       "      <th>TotalSpaces</th>\n",
       "      <th>lat</th>\n",
       "      <th>lon</th>\n",
       "      <th>firstHourFee</th>\n",
       "      <th>laterHourFee</th>\n",
       "      <th>datetime</th>\n",
       "      <th>datetime_hour</th>\n",
       "      <th>time</th>\n",
       "      <th>precipitation</th>\n",
       "      <th>apparent_temperature</th>\n",
       "      <th>relative_humidity_2m</th>\n",
       "      <th>temperature_2m</th>\n",
       "      <th>cloud_cover</th>\n",
       "      <th>cloud_cover_low</th>\n",
       "      <th>cloud_cover_mid</th>\n",
       "      <th>cloud_cover_high</th>\n",
       "      <th>visibility</th>\n",
       "      <th>wind_speed_10m</th>\n",
       "      <th>temperature_80m</th>\n",
       "      <th>temperature_120m</th>\n",
       "      <th>showers</th>\n",
       "      <th>pressure_msl</th>\n",
       "      <th>surface_pressure</th>\n",
       "      <th>wind_speed_80m</th>\n",
       "      <th>wind_speed_120m</th>\n",
       "      <th>wind_direction_10m</th>\n",
       "      <th>wind_direction_80m</th>\n",
       "      <th>wind_direction_120m</th>\n",
       "      <th>wind_gusts_10m</th>\n",
       "      <th>evapotranspiration</th>\n",
       "      <th>et0_fao_evapotranspiration</th>\n",
       "      <th>vapour_pressure_deficit</th>\n",
       "      <th>dew_point_2m</th>\n",
       "      <th>terrestrial_radiation_instant</th>\n",
       "      <th>latitude</th>\n",
       "      <th>longitude</th>\n",
       "      <th>hour</th>\n",
       "      <th>date</th>\n",
       "      <th>weekday_y</th>\n",
       "      <th>is_national_holiday</th>\n",
       "      <th>holiday_name</th>\n",
       "    </tr>\n",
       "  </thead>\n",
       "  <tbody>\n",
       "    <tr>\n",
       "      <th>0</th>\n",
       "      <td>137</td>\n",
       "      <td>2025</td>\n",
       "      <td>3</td>\n",
       "      <td>28</td>\n",
       "      <td>47</td>\n",
       "      <td>Friday</td>\n",
       "      <td>安平區</td>\n",
       "      <td>46.500000</td>\n",
       "      <td>57</td>\n",
       "      <td>22.98953</td>\n",
       "      <td>120.18424</td>\n",
       "      <td>0</td>\n",
       "      <td>0</td>\n",
       "      <td>2025-03-28 23:30:00</td>\n",
       "      <td>2025-03-28 23:00:00</td>\n",
       "      <td>2025-03-28 23:00:00</td>\n",
       "      <td>0.0</td>\n",
       "      <td>23.2</td>\n",
       "      <td>60</td>\n",
       "      <td>23.7</td>\n",
       "      <td>26</td>\n",
       "      <td>20</td>\n",
       "      <td>0</td>\n",
       "      <td>5</td>\n",
       "      <td>24140.0</td>\n",
       "      <td>15.7</td>\n",
       "      <td>22.4</td>\n",
       "      <td>22.2</td>\n",
       "      <td>0.0</td>\n",
       "      <td>1014.4</td>\n",
       "      <td>1013.8</td>\n",
       "      <td>20.3</td>\n",
       "      <td>21.1</td>\n",
       "      <td>351</td>\n",
       "      <td>353</td>\n",
       "      <td>352</td>\n",
       "      <td>15.8</td>\n",
       "      <td>-0.0</td>\n",
       "      <td>0.09</td>\n",
       "      <td>1.17</td>\n",
       "      <td>15.5</td>\n",
       "      <td>0.0</td>\n",
       "      <td>22.981</td>\n",
       "      <td>120.177</td>\n",
       "      <td>23</td>\n",
       "      <td>2025-03-28</td>\n",
       "      <td>Fri</td>\n",
       "      <td>False</td>\n",
       "      <td>NaN</td>\n",
       "    </tr>\n",
       "    <tr>\n",
       "      <th>1</th>\n",
       "      <td>137</td>\n",
       "      <td>2024</td>\n",
       "      <td>7</td>\n",
       "      <td>11</td>\n",
       "      <td>26</td>\n",
       "      <td>Thursday</td>\n",
       "      <td>安平區</td>\n",
       "      <td>15.000000</td>\n",
       "      <td>57</td>\n",
       "      <td>22.98953</td>\n",
       "      <td>120.18424</td>\n",
       "      <td>20</td>\n",
       "      <td>20</td>\n",
       "      <td>2024-07-11 13:00:00</td>\n",
       "      <td>2024-07-11 13:00:00</td>\n",
       "      <td>2024-07-11 13:00:00</td>\n",
       "      <td>0.0</td>\n",
       "      <td>36.5</td>\n",
       "      <td>54</td>\n",
       "      <td>33.5</td>\n",
       "      <td>100</td>\n",
       "      <td>70</td>\n",
       "      <td>0</td>\n",
       "      <td>100</td>\n",
       "      <td>24140.0</td>\n",
       "      <td>21.5</td>\n",
       "      <td>31.1</td>\n",
       "      <td>30.9</td>\n",
       "      <td>0.0</td>\n",
       "      <td>1006.9</td>\n",
       "      <td>1006.3</td>\n",
       "      <td>26.7</td>\n",
       "      <td>27.5</td>\n",
       "      <td>218</td>\n",
       "      <td>215</td>\n",
       "      <td>214</td>\n",
       "      <td>22.0</td>\n",
       "      <td>0.0</td>\n",
       "      <td>0.61</td>\n",
       "      <td>2.38</td>\n",
       "      <td>22.9</td>\n",
       "      <td>1290.3</td>\n",
       "      <td>22.981</td>\n",
       "      <td>120.177</td>\n",
       "      <td>13</td>\n",
       "      <td>2024-07-11</td>\n",
       "      <td>Thu</td>\n",
       "      <td>False</td>\n",
       "      <td>NaN</td>\n",
       "    </tr>\n",
       "    <tr>\n",
       "      <th>2</th>\n",
       "      <td>137</td>\n",
       "      <td>2025</td>\n",
       "      <td>3</td>\n",
       "      <td>28</td>\n",
       "      <td>17</td>\n",
       "      <td>Friday</td>\n",
       "      <td>安平區</td>\n",
       "      <td>29.833333</td>\n",
       "      <td>57</td>\n",
       "      <td>22.98953</td>\n",
       "      <td>120.18424</td>\n",
       "      <td>20</td>\n",
       "      <td>20</td>\n",
       "      <td>2025-03-28 08:30:00</td>\n",
       "      <td>2025-03-28 08:00:00</td>\n",
       "      <td>2025-03-28 08:00:00</td>\n",
       "      <td>0.0</td>\n",
       "      <td>27.9</td>\n",
       "      <td>68</td>\n",
       "      <td>26.4</td>\n",
       "      <td>100</td>\n",
       "      <td>0</td>\n",
       "      <td>5</td>\n",
       "      <td>100</td>\n",
       "      <td>24140.0</td>\n",
       "      <td>15.9</td>\n",
       "      <td>24.9</td>\n",
       "      <td>24.7</td>\n",
       "      <td>0.0</td>\n",
       "      <td>1012.0</td>\n",
       "      <td>1011.4</td>\n",
       "      <td>21.0</td>\n",
       "      <td>21.8</td>\n",
       "      <td>347</td>\n",
       "      <td>347</td>\n",
       "      <td>347</td>\n",
       "      <td>19.8</td>\n",
       "      <td>-0.0</td>\n",
       "      <td>0.24</td>\n",
       "      <td>1.10</td>\n",
       "      <td>20.0</td>\n",
       "      <td>639.6</td>\n",
       "      <td>22.981</td>\n",
       "      <td>120.177</td>\n",
       "      <td>8</td>\n",
       "      <td>2025-03-28</td>\n",
       "      <td>Fri</td>\n",
       "      <td>False</td>\n",
       "      <td>NaN</td>\n",
       "    </tr>\n",
       "    <tr>\n",
       "      <th>3</th>\n",
       "      <td>137</td>\n",
       "      <td>2024</td>\n",
       "      <td>7</td>\n",
       "      <td>11</td>\n",
       "      <td>22</td>\n",
       "      <td>Thursday</td>\n",
       "      <td>安平區</td>\n",
       "      <td>24.000000</td>\n",
       "      <td>57</td>\n",
       "      <td>22.98953</td>\n",
       "      <td>120.18424</td>\n",
       "      <td>20</td>\n",
       "      <td>20</td>\n",
       "      <td>2024-07-11 11:00:00</td>\n",
       "      <td>2024-07-11 11:00:00</td>\n",
       "      <td>2024-07-11 11:00:00</td>\n",
       "      <td>0.0</td>\n",
       "      <td>36.0</td>\n",
       "      <td>60</td>\n",
       "      <td>32.9</td>\n",
       "      <td>100</td>\n",
       "      <td>90</td>\n",
       "      <td>0</td>\n",
       "      <td>100</td>\n",
       "      <td>24140.0</td>\n",
       "      <td>22.7</td>\n",
       "      <td>30.8</td>\n",
       "      <td>30.5</td>\n",
       "      <td>0.0</td>\n",
       "      <td>1007.7</td>\n",
       "      <td>1007.1</td>\n",
       "      <td>27.9</td>\n",
       "      <td>29.1</td>\n",
       "      <td>209</td>\n",
       "      <td>205</td>\n",
       "      <td>205</td>\n",
       "      <td>23.0</td>\n",
       "      <td>0.0</td>\n",
       "      <td>0.53</td>\n",
       "      <td>2.00</td>\n",
       "      <td>24.1</td>\n",
       "      <td>1278.5</td>\n",
       "      <td>22.981</td>\n",
       "      <td>120.177</td>\n",
       "      <td>11</td>\n",
       "      <td>2024-07-11</td>\n",
       "      <td>Thu</td>\n",
       "      <td>False</td>\n",
       "      <td>NaN</td>\n",
       "    </tr>\n",
       "    <tr>\n",
       "      <th>4</th>\n",
       "      <td>137</td>\n",
       "      <td>2025</td>\n",
       "      <td>3</td>\n",
       "      <td>28</td>\n",
       "      <td>10</td>\n",
       "      <td>Friday</td>\n",
       "      <td>安平區</td>\n",
       "      <td>49.000000</td>\n",
       "      <td>57</td>\n",
       "      <td>22.98953</td>\n",
       "      <td>120.18424</td>\n",
       "      <td>0</td>\n",
       "      <td>0</td>\n",
       "      <td>2025-03-28 05:00:00</td>\n",
       "      <td>2025-03-28 05:00:00</td>\n",
       "      <td>2025-03-28 05:00:00</td>\n",
       "      <td>0.0</td>\n",
       "      <td>28.1</td>\n",
       "      <td>79</td>\n",
       "      <td>24.7</td>\n",
       "      <td>93</td>\n",
       "      <td>0</td>\n",
       "      <td>70</td>\n",
       "      <td>75</td>\n",
       "      <td>24140.0</td>\n",
       "      <td>5.7</td>\n",
       "      <td>23.8</td>\n",
       "      <td>23.6</td>\n",
       "      <td>0.0</td>\n",
       "      <td>1009.6</td>\n",
       "      <td>1009.0</td>\n",
       "      <td>7.7</td>\n",
       "      <td>7.9</td>\n",
       "      <td>325</td>\n",
       "      <td>332</td>\n",
       "      <td>332</td>\n",
       "      <td>6.8</td>\n",
       "      <td>-0.0</td>\n",
       "      <td>0.01</td>\n",
       "      <td>0.65</td>\n",
       "      <td>20.8</td>\n",
       "      <td>0.0</td>\n",
       "      <td>22.981</td>\n",
       "      <td>120.177</td>\n",
       "      <td>5</td>\n",
       "      <td>2025-03-28</td>\n",
       "      <td>Fri</td>\n",
       "      <td>False</td>\n",
       "      <td>NaN</td>\n",
       "    </tr>\n",
       "  </tbody>\n",
       "</table>\n",
       "</div>"
      ],
      "text/plain": [
       "  ParkingSegmentID  year_val  month_val  day_val  half_hour_interval  \\\n",
       "0              137      2025          3       28                  47   \n",
       "1              137      2024          7       11                  26   \n",
       "2              137      2025          3       28                  17   \n",
       "3              137      2024          7       11                  22   \n",
       "4              137      2025          3       28                  10   \n",
       "\n",
       "  weekday_x district  avg_available_spots  TotalSpaces       lat        lon  \\\n",
       "0    Friday      安平區            46.500000           57  22.98953  120.18424   \n",
       "1  Thursday      安平區            15.000000           57  22.98953  120.18424   \n",
       "2    Friday      安平區            29.833333           57  22.98953  120.18424   \n",
       "3  Thursday      安平區            24.000000           57  22.98953  120.18424   \n",
       "4    Friday      安平區            49.000000           57  22.98953  120.18424   \n",
       "\n",
       "   firstHourFee  laterHourFee             datetime        datetime_hour  \\\n",
       "0             0             0  2025-03-28 23:30:00  2025-03-28 23:00:00   \n",
       "1            20            20  2024-07-11 13:00:00  2024-07-11 13:00:00   \n",
       "2            20            20  2025-03-28 08:30:00  2025-03-28 08:00:00   \n",
       "3            20            20  2024-07-11 11:00:00  2024-07-11 11:00:00   \n",
       "4             0             0  2025-03-28 05:00:00  2025-03-28 05:00:00   \n",
       "\n",
       "                  time  precipitation  apparent_temperature  \\\n",
       "0  2025-03-28 23:00:00            0.0                  23.2   \n",
       "1  2024-07-11 13:00:00            0.0                  36.5   \n",
       "2  2025-03-28 08:00:00            0.0                  27.9   \n",
       "3  2024-07-11 11:00:00            0.0                  36.0   \n",
       "4  2025-03-28 05:00:00            0.0                  28.1   \n",
       "\n",
       "   relative_humidity_2m  temperature_2m  cloud_cover  cloud_cover_low  \\\n",
       "0                    60            23.7           26               20   \n",
       "1                    54            33.5          100               70   \n",
       "2                    68            26.4          100                0   \n",
       "3                    60            32.9          100               90   \n",
       "4                    79            24.7           93                0   \n",
       "\n",
       "   cloud_cover_mid  cloud_cover_high  visibility  wind_speed_10m  \\\n",
       "0                0                 5     24140.0            15.7   \n",
       "1                0               100     24140.0            21.5   \n",
       "2                5               100     24140.0            15.9   \n",
       "3                0               100     24140.0            22.7   \n",
       "4               70                75     24140.0             5.7   \n",
       "\n",
       "   temperature_80m  temperature_120m  showers  pressure_msl  surface_pressure  \\\n",
       "0             22.4              22.2      0.0        1014.4            1013.8   \n",
       "1             31.1              30.9      0.0        1006.9            1006.3   \n",
       "2             24.9              24.7      0.0        1012.0            1011.4   \n",
       "3             30.8              30.5      0.0        1007.7            1007.1   \n",
       "4             23.8              23.6      0.0        1009.6            1009.0   \n",
       "\n",
       "   wind_speed_80m  wind_speed_120m  wind_direction_10m  wind_direction_80m  \\\n",
       "0            20.3             21.1                 351                 353   \n",
       "1            26.7             27.5                 218                 215   \n",
       "2            21.0             21.8                 347                 347   \n",
       "3            27.9             29.1                 209                 205   \n",
       "4             7.7              7.9                 325                 332   \n",
       "\n",
       "   wind_direction_120m  wind_gusts_10m  evapotranspiration  \\\n",
       "0                  352            15.8                -0.0   \n",
       "1                  214            22.0                 0.0   \n",
       "2                  347            19.8                -0.0   \n",
       "3                  205            23.0                 0.0   \n",
       "4                  332             6.8                -0.0   \n",
       "\n",
       "   et0_fao_evapotranspiration  vapour_pressure_deficit  dew_point_2m  \\\n",
       "0                        0.09                     1.17          15.5   \n",
       "1                        0.61                     2.38          22.9   \n",
       "2                        0.24                     1.10          20.0   \n",
       "3                        0.53                     2.00          24.1   \n",
       "4                        0.01                     0.65          20.8   \n",
       "\n",
       "   terrestrial_radiation_instant  latitude  longitude  hour        date  \\\n",
       "0                            0.0    22.981    120.177    23  2025-03-28   \n",
       "1                         1290.3    22.981    120.177    13  2024-07-11   \n",
       "2                          639.6    22.981    120.177     8  2025-03-28   \n",
       "3                         1278.5    22.981    120.177    11  2024-07-11   \n",
       "4                            0.0    22.981    120.177     5  2025-03-28   \n",
       "\n",
       "  weekday_y is_national_holiday holiday_name  \n",
       "0       Fri               False          NaN  \n",
       "1       Thu               False          NaN  \n",
       "2       Fri               False          NaN  \n",
       "3       Thu               False          NaN  \n",
       "4       Fri               False          NaN  "
      ]
     },
     "execution_count": 45,
     "metadata": {},
     "output_type": "execute_result"
    }
   ],
   "source": [
    "df_2 = pd.read_csv(\"安平_dataset.csv\")\n",
    "df_2.head()"
   ]
  },
  {
   "cell_type": "code",
   "execution_count": 46,
   "metadata": {
    "trusted": true
   },
   "outputs": [
    {
     "name": "stdout",
     "output_type": "stream",
     "text": [
      "<class 'pandas.core.frame.DataFrame'>\n",
      "Index: 2892758 entries, 0 to 719269\n",
      "Data columns (total 49 columns):\n",
      " #   Column                         Dtype  \n",
      "---  ------                         -----  \n",
      " 0   ParkingSegmentID               object \n",
      " 1   year_val                       int64  \n",
      " 2   month_val                      int64  \n",
      " 3   day_val                        int64  \n",
      " 4   half_hour_interval             int64  \n",
      " 5   weekday_x                      object \n",
      " 6   district                       object \n",
      " 7   avg_available_spots            float64\n",
      " 8   TotalSpaces                    int64  \n",
      " 9   lat                            float64\n",
      " 10  lon                            float64\n",
      " 11  firstHourFee                   int64  \n",
      " 12  laterHourFee                   int64  \n",
      " 13  datetime                       object \n",
      " 14  datetime_hour                  object \n",
      " 15  time                           object \n",
      " 16  precipitation                  float64\n",
      " 17  apparent_temperature           float64\n",
      " 18  relative_humidity_2m           int64  \n",
      " 19  temperature_2m                 float64\n",
      " 20  cloud_cover                    int64  \n",
      " 21  cloud_cover_low                int64  \n",
      " 22  cloud_cover_mid                int64  \n",
      " 23  cloud_cover_high               int64  \n",
      " 24  visibility                     float64\n",
      " 25  wind_speed_10m                 float64\n",
      " 26  temperature_80m                float64\n",
      " 27  temperature_120m               float64\n",
      " 28  showers                        float64\n",
      " 29  pressure_msl                   float64\n",
      " 30  surface_pressure               float64\n",
      " 31  wind_speed_80m                 float64\n",
      " 32  wind_speed_120m                float64\n",
      " 33  wind_direction_10m             int64  \n",
      " 34  wind_direction_80m             int64  \n",
      " 35  wind_direction_120m            int64  \n",
      " 36  wind_gusts_10m                 float64\n",
      " 37  evapotranspiration             float64\n",
      " 38  et0_fao_evapotranspiration     float64\n",
      " 39  vapour_pressure_deficit        float64\n",
      " 40  dew_point_2m                   float64\n",
      " 41  terrestrial_radiation_instant  float64\n",
      " 42  latitude                       float64\n",
      " 43  longitude                      float64\n",
      " 44  hour                           int64  \n",
      " 45  date                           object \n",
      " 46  weekday_y                      object \n",
      " 47  is_national_holiday            object \n",
      " 48  holiday_name                   object \n",
      "dtypes: float64(23), int64(16), object(10)\n",
      "memory usage: 1.1+ GB\n"
     ]
    },
    {
     "data": {
      "text/plain": [
       "ParkingSegmentID                       0\n",
       "year_val                               0\n",
       "month_val                              0\n",
       "day_val                                0\n",
       "half_hour_interval                     0\n",
       "weekday_x                              0\n",
       "district                               0\n",
       "avg_available_spots                    0\n",
       "TotalSpaces                            0\n",
       "lat                                    0\n",
       "lon                                    0\n",
       "firstHourFee                           0\n",
       "laterHourFee                           0\n",
       "datetime                               0\n",
       "datetime_hour                          0\n",
       "time                                   0\n",
       "precipitation                          0\n",
       "apparent_temperature                   0\n",
       "relative_humidity_2m                   0\n",
       "temperature_2m                         0\n",
       "cloud_cover                            0\n",
       "cloud_cover_low                        0\n",
       "cloud_cover_mid                        0\n",
       "cloud_cover_high                       0\n",
       "visibility                             0\n",
       "wind_speed_10m                         0\n",
       "temperature_80m                        0\n",
       "temperature_120m                       0\n",
       "showers                                0\n",
       "pressure_msl                           0\n",
       "surface_pressure                       0\n",
       "wind_speed_80m                         0\n",
       "wind_speed_120m                        0\n",
       "wind_direction_10m                     0\n",
       "wind_direction_80m                     0\n",
       "wind_direction_120m                    0\n",
       "wind_gusts_10m                         0\n",
       "evapotranspiration                     0\n",
       "et0_fao_evapotranspiration             0\n",
       "vapour_pressure_deficit                0\n",
       "dew_point_2m                           0\n",
       "terrestrial_radiation_instant          0\n",
       "latitude                               0\n",
       "longitude                              0\n",
       "hour                                   0\n",
       "date                                   0\n",
       "weekday_y                          39906\n",
       "is_national_holiday                39906\n",
       "holiday_name                     2694181\n",
       "dtype: int64"
      ]
     },
     "execution_count": 46,
     "metadata": {},
     "output_type": "execute_result"
    }
   ],
   "source": [
    "df = pd.concat([df_1, df_2])\n",
    "df.head()\n",
    "df.info()\n",
    "df.describe()\n",
    "df.isnull().sum()"
   ]
  },
  {
   "cell_type": "code",
   "execution_count": null,
   "metadata": {
    "trusted": true
   },
   "outputs": [],
   "source": [
    "df[\"ParkingSegmentID\"] = df[\"ParkingSegmentID\"].astype(str)\n",
    "df.loc[\n",
    "    (df[\"ParkingSegmentID\"] == \"1192\") &\n",
    "    (df[\"half_hour_interval\"] == 20) &\n",
    "    (df[\"month_val\"] == 3) &\n",
    "    (df[\"day_val\"] == 8),\n",
    "    \"TotalSpaces\"\n",
    "] = 63\n",
    "indices_to_drop = df[(df['ParkingSegmentID'] == \"1131\") & (df['year_val'] == 2025) & (df['month_val'] == 3) & (df['day_val'] == 27)].index\n",
    "df.drop(indices_to_drop, inplace=True)\n",
    "indices_to_drop = df[(df[\"year_val\"] == 2025) & (df[\"month_val\"] == 2) & (df[\"day_val\"] == 20) & (df[\"half_hour_interval\"] == 29) & (df[\"ParkingSegmentID\"] == \"54555420\") & (df[\"TotalSpaces\"] == 1036)].index\n",
    "df.drop(indices_to_drop, inplace=True)\n",
    "condition = df[\"avg_available_spots\"] > df[\"TotalSpaces\"]\n",
    "# extract the values from `df[\"TotalSpaces\"]` on the right side that meet the condition\n",
    "values_to_assign = df.loc[condition, \"TotalSpaces\"].values\n",
    "df.loc[condition, \"avg_available_spots\"] = values_to_assign"
   ]
  },
  {
   "cell_type": "code",
   "execution_count": 48,
   "metadata": {
    "trusted": true
   },
   "outputs": [
    {
     "name": "stdout",
     "output_type": "stream",
     "text": [
      "<class 'pandas.core.frame.DataFrame'>\n",
      "Index: 2892661 entries, 0 to 719269\n",
      "Data columns (total 49 columns):\n",
      " #   Column                         Dtype  \n",
      "---  ------                         -----  \n",
      " 0   ParkingSegmentID               object \n",
      " 1   year_val                       int64  \n",
      " 2   month_val                      int64  \n",
      " 3   day_val                        int64  \n",
      " 4   half_hour_interval             int64  \n",
      " 5   weekday_x                      object \n",
      " 6   district                       object \n",
      " 7   avg_available_spots            float64\n",
      " 8   TotalSpaces                    int64  \n",
      " 9   lat                            float64\n",
      " 10  lon                            float64\n",
      " 11  firstHourFee                   int64  \n",
      " 12  laterHourFee                   int64  \n",
      " 13  datetime                       object \n",
      " 14  datetime_hour                  object \n",
      " 15  time                           object \n",
      " 16  precipitation                  float64\n",
      " 17  apparent_temperature           float64\n",
      " 18  relative_humidity_2m           int64  \n",
      " 19  temperature_2m                 float64\n",
      " 20  cloud_cover                    int64  \n",
      " 21  cloud_cover_low                int64  \n",
      " 22  cloud_cover_mid                int64  \n",
      " 23  cloud_cover_high               int64  \n",
      " 24  visibility                     float64\n",
      " 25  wind_speed_10m                 float64\n",
      " 26  temperature_80m                float64\n",
      " 27  temperature_120m               float64\n",
      " 28  showers                        float64\n",
      " 29  pressure_msl                   float64\n",
      " 30  surface_pressure               float64\n",
      " 31  wind_speed_80m                 float64\n",
      " 32  wind_speed_120m                float64\n",
      " 33  wind_direction_10m             int64  \n",
      " 34  wind_direction_80m             int64  \n",
      " 35  wind_direction_120m            int64  \n",
      " 36  wind_gusts_10m                 float64\n",
      " 37  evapotranspiration             float64\n",
      " 38  et0_fao_evapotranspiration     float64\n",
      " 39  vapour_pressure_deficit        float64\n",
      " 40  dew_point_2m                   float64\n",
      " 41  terrestrial_radiation_instant  float64\n",
      " 42  latitude                       float64\n",
      " 43  longitude                      float64\n",
      " 44  hour                           int64  \n",
      " 45  date                           object \n",
      " 46  weekday_y                      object \n",
      " 47  is_national_holiday            object \n",
      " 48  holiday_name                   object \n",
      "dtypes: float64(23), int64(16), object(10)\n",
      "memory usage: 1.1+ GB\n",
      "  ParkingSegmentID  year_val  month_val  day_val  half_hour_interval  \\\n",
      "0             1421      2024          7       20                  46   \n",
      "1             1421      2024          7       24                  40   \n",
      "2             1421      2024          7       24                  18   \n",
      "3             1421      2024          8       21                   9   \n",
      "4             1421      2024          9        9                   5   \n",
      "\n",
      "   weekday_x district  avg_available_spots  TotalSpaces      lat        lon  \\\n",
      "0   Saturday      中西區                  1.0            3  22.9948  120.19519   \n",
      "1  Wednesday      中西區                  1.0            3  22.9948  120.19519   \n",
      "2  Wednesday      中西區                  1.0            3  22.9948  120.19519   \n",
      "3  Wednesday      中西區                  2.0            3  22.9948  120.19519   \n",
      "4     Monday      中西區                  1.0            3  22.9948  120.19519   \n",
      "\n",
      "   firstHourFee  laterHourFee             datetime        datetime_hour  \\\n",
      "0             0             0  2024-07-20 23:00:00  2024-07-20 23:00:00   \n",
      "1             0             0  2024-07-24 20:00:00  2024-07-24 20:00:00   \n",
      "2            20            20  2024-07-24 09:00:00  2024-07-24 09:00:00   \n",
      "3             0             0  2024-08-21 04:30:00  2024-08-21 04:00:00   \n",
      "4             0             0  2024-09-09 02:30:00  2024-09-09 02:00:00   \n",
      "\n",
      "                  time  precipitation  apparent_temperature  \\\n",
      "0  2024-07-20 23:00:00            0.8                  35.4   \n",
      "1  2024-07-24 20:00:00           15.2                  27.6   \n",
      "2  2024-07-24 09:00:00            0.8                  28.5   \n",
      "3  2024-08-21 04:00:00            0.0                  30.0   \n",
      "4  2024-09-09 02:00:00            0.0                  31.5   \n",
      "\n",
      "   relative_humidity_2m  temperature_2m  cloud_cover  cloud_cover_low  \\\n",
      "0                    78            29.4           15                0   \n",
      "1                    94            26.9          100              100   \n",
      "2                    82            28.4          100              100   \n",
      "3                    73            26.8           99                0   \n",
      "4                    73            27.5          100                0   \n",
      "\n",
      "   cloud_cover_mid  cloud_cover_high  visibility  wind_speed_10m  \\\n",
      "0                0                10     24140.0             5.8   \n",
      "1              100               100      2300.0            45.1   \n",
      "2              100               100      9660.0            45.3   \n",
      "3               90                90     24140.0            10.1   \n",
      "4                5               100     24140.0             7.1   \n",
      "\n",
      "   temperature_80m  temperature_120m  showers  pressure_msl  surface_pressure  \\\n",
      "0             28.7              28.6      0.8        1010.1            1009.5   \n",
      "1             26.5              26.4      1.2         985.5             984.9   \n",
      "2             27.9              27.7      0.8         989.1             988.5   \n",
      "3             26.8              26.8      0.0        1010.4            1009.8   \n",
      "4             26.7              26.5      0.0        1006.8            1006.2   \n",
      "\n",
      "   wind_speed_80m  wind_speed_120m  wind_direction_10m  wind_direction_80m  \\\n",
      "0             7.4              7.7                 184                 203   \n",
      "1            72.7             77.2                 315                 319   \n",
      "2            68.6             72.6                 339                 342   \n",
      "3            17.1             18.9                 145                 152   \n",
      "4             8.7              8.8                 131                 135   \n",
      "\n",
      "   wind_direction_120m  wind_gusts_10m  evapotranspiration  \\\n",
      "0                  205             7.9                 0.0   \n",
      "1                  320            74.5                 0.0   \n",
      "2                  342            66.2                 0.0   \n",
      "3                  156            19.4                 0.0   \n",
      "4                  135             8.3                 0.0   \n",
      "\n",
      "   et0_fao_evapotranspiration  vapour_pressure_deficit  dew_point_2m  \\\n",
      "0                        0.01                     0.90          25.2   \n",
      "1                        0.03                     0.21          25.8   \n",
      "2                        0.15                     0.70          25.0   \n",
      "3                        0.04                     0.95          21.5   \n",
      "4                        0.02                     0.99          22.2   \n",
      "\n",
      "   terrestrial_radiation_instant  latitude  longitude  hour        date  \\\n",
      "0                            0.0    22.981    120.177    23  2024-07-20   \n",
      "1                            0.0    22.981    120.177    20  2024-07-24   \n",
      "2                          967.1    22.981    120.177     9  2024-07-24   \n",
      "3                            0.0    22.981    120.177     4  2024-08-21   \n",
      "4                            0.0    22.981    120.177     2  2024-09-09   \n",
      "\n",
      "  weekday_y is_national_holiday holiday_name  \n",
      "0       Sat               False          NaN  \n",
      "1       Wed               False          NaN  \n",
      "2       Wed               False          NaN  \n",
      "3       Wed               False          NaN  \n",
      "4       Mon               False          NaN  \n"
     ]
    }
   ],
   "source": [
    "df.info()\n",
    "df.describe()\n",
    "df.isnull().sum()\n",
    "print(df.head())"
   ]
  },
  {
   "cell_type": "code",
   "execution_count": 49,
   "metadata": {
    "trusted": true
   },
   "outputs": [],
   "source": [
    "df[\"weekday\"] = df[\"weekday_x\"]"
   ]
  },
  {
   "cell_type": "code",
   "execution_count": 50,
   "metadata": {
    "trusted": true
   },
   "outputs": [],
   "source": [
    "\n",
    "district_mapping = {'中西區': 0, '安平區': 1}\n",
    "df['district'] = df['district'].map(district_mapping)"
   ]
  },
  {
   "cell_type": "code",
   "execution_count": 51,
   "metadata": {
    "trusted": true
   },
   "outputs": [],
   "source": [
    "df['wind_direction_10m_sin'] = np.sin(np.deg2rad(df['wind_direction_10m']))\n",
    "df['wind_direction_10m_cos'] = np.cos(np.deg2rad(df['wind_direction_10m']))\n",
    "df['wind_direction_120m_sin'] = np.sin(np.deg2rad(df['wind_direction_120m']))\n",
    "df['wind_direction_120m_cos'] = np.cos(np.deg2rad(df['wind_direction_120m']))\n",
    "df['wind_direction_80m_sin'] = np.sin(np.deg2rad(df['wind_direction_80m']))\n",
    "df['wind_direction_80m_cos'] = np.cos(np.deg2rad(df['wind_direction_80m']))\n",
    "df.drop(columns=[\"wind_direction_10m\",\"wind_direction_120m\",\"wind_direction_80m\"],inplace=True)"
   ]
  },
  {
   "cell_type": "code",
   "execution_count": 52,
   "metadata": {
    "trusted": true
   },
   "outputs": [],
   "source": [
    "df[\"datetime_2\"] = (\n",
    "    df[\"year_val\"].astype(str) + \"_\" +\n",
    "    df[\"month_val\"].astype(str) + \"_\" +\n",
    "    df[\"day_val\"].astype(str) + \"_\" +\n",
    "    df[\"half_hour_interval\"].astype(str)\n",
    ")"
   ]
  },
  {
   "cell_type": "code",
   "execution_count": 53,
   "metadata": {
    "trusted": true
   },
   "outputs": [],
   "source": [
    "pd.set_option('display.max_columns', None)\n",
    "weekday_mapping = {'Monday': 0, 'Tuesday': 1, 'Wednesday': 2, 'Thursday': 3,\n",
    "                       'Friday': 4, 'Saturday': 5, 'Sunday': 6}\n",
    "df['weekday_num'] = df['weekday'].map(weekday_mapping)\n"
   ]
  },
  {
   "cell_type": "code",
   "execution_count": null,
   "metadata": {
    "trusted": true
   },
   "outputs": [],
   "source": [
    "\n",
    "df_final = df.drop(columns=[        \n",
    "    'weekday',         \n",
    "    'weekday_y',\"date\",\"latitude\",\"longitude\",\"datetime_hour\",\"time\", \"weekday_x\",\"holiday_name\",\n",
    "])"
   ]
  },
  {
   "cell_type": "code",
   "execution_count": 55,
   "metadata": {
    "trusted": true
   },
   "outputs": [
    {
     "data": {
      "text/html": [
       "<div>\n",
       "<style scoped>\n",
       "    .dataframe tbody tr th:only-of-type {\n",
       "        vertical-align: middle;\n",
       "    }\n",
       "\n",
       "    .dataframe tbody tr th {\n",
       "        vertical-align: top;\n",
       "    }\n",
       "\n",
       "    .dataframe thead th {\n",
       "        text-align: right;\n",
       "    }\n",
       "</style>\n",
       "<table border=\"1\" class=\"dataframe\">\n",
       "  <thead>\n",
       "    <tr style=\"text-align: right;\">\n",
       "      <th></th>\n",
       "      <th>ParkingSegmentID</th>\n",
       "      <th>year_val</th>\n",
       "      <th>month_val</th>\n",
       "      <th>day_val</th>\n",
       "      <th>half_hour_interval</th>\n",
       "      <th>district</th>\n",
       "      <th>avg_available_spots</th>\n",
       "      <th>TotalSpaces</th>\n",
       "      <th>lat</th>\n",
       "      <th>lon</th>\n",
       "      <th>firstHourFee</th>\n",
       "      <th>laterHourFee</th>\n",
       "      <th>datetime</th>\n",
       "      <th>precipitation</th>\n",
       "      <th>apparent_temperature</th>\n",
       "      <th>relative_humidity_2m</th>\n",
       "      <th>temperature_2m</th>\n",
       "      <th>cloud_cover</th>\n",
       "      <th>cloud_cover_low</th>\n",
       "      <th>cloud_cover_mid</th>\n",
       "      <th>cloud_cover_high</th>\n",
       "      <th>visibility</th>\n",
       "      <th>wind_speed_10m</th>\n",
       "      <th>temperature_80m</th>\n",
       "      <th>temperature_120m</th>\n",
       "      <th>showers</th>\n",
       "      <th>pressure_msl</th>\n",
       "      <th>surface_pressure</th>\n",
       "      <th>wind_speed_80m</th>\n",
       "      <th>wind_speed_120m</th>\n",
       "      <th>wind_gusts_10m</th>\n",
       "      <th>evapotranspiration</th>\n",
       "      <th>et0_fao_evapotranspiration</th>\n",
       "      <th>vapour_pressure_deficit</th>\n",
       "      <th>dew_point_2m</th>\n",
       "      <th>terrestrial_radiation_instant</th>\n",
       "      <th>hour</th>\n",
       "      <th>is_national_holiday</th>\n",
       "      <th>wind_direction_10m_sin</th>\n",
       "      <th>wind_direction_10m_cos</th>\n",
       "      <th>wind_direction_120m_sin</th>\n",
       "      <th>wind_direction_120m_cos</th>\n",
       "      <th>wind_direction_80m_sin</th>\n",
       "      <th>wind_direction_80m_cos</th>\n",
       "      <th>datetime_2</th>\n",
       "      <th>weekday_num</th>\n",
       "    </tr>\n",
       "  </thead>\n",
       "  <tbody>\n",
       "    <tr>\n",
       "      <th>0</th>\n",
       "      <td>1421</td>\n",
       "      <td>2024</td>\n",
       "      <td>7</td>\n",
       "      <td>20</td>\n",
       "      <td>46</td>\n",
       "      <td>0</td>\n",
       "      <td>1.000000</td>\n",
       "      <td>3</td>\n",
       "      <td>22.99480</td>\n",
       "      <td>120.19519</td>\n",
       "      <td>0</td>\n",
       "      <td>0</td>\n",
       "      <td>2024-07-20 23:00:00</td>\n",
       "      <td>0.8</td>\n",
       "      <td>35.4</td>\n",
       "      <td>78</td>\n",
       "      <td>29.4</td>\n",
       "      <td>15</td>\n",
       "      <td>0</td>\n",
       "      <td>0</td>\n",
       "      <td>10</td>\n",
       "      <td>24140.0</td>\n",
       "      <td>5.8</td>\n",
       "      <td>28.7</td>\n",
       "      <td>28.6</td>\n",
       "      <td>0.8</td>\n",
       "      <td>1010.1</td>\n",
       "      <td>1009.5</td>\n",
       "      <td>7.4</td>\n",
       "      <td>7.7</td>\n",
       "      <td>7.9</td>\n",
       "      <td>0.0</td>\n",
       "      <td>0.01</td>\n",
       "      <td>0.90</td>\n",
       "      <td>25.2</td>\n",
       "      <td>0.0</td>\n",
       "      <td>23</td>\n",
       "      <td>False</td>\n",
       "      <td>-0.069756</td>\n",
       "      <td>-0.997564</td>\n",
       "      <td>-0.422618</td>\n",
       "      <td>-0.906308</td>\n",
       "      <td>-0.390731</td>\n",
       "      <td>-0.920505</td>\n",
       "      <td>2024_7_20_46</td>\n",
       "      <td>5</td>\n",
       "    </tr>\n",
       "    <tr>\n",
       "      <th>1</th>\n",
       "      <td>1421</td>\n",
       "      <td>2024</td>\n",
       "      <td>7</td>\n",
       "      <td>24</td>\n",
       "      <td>40</td>\n",
       "      <td>0</td>\n",
       "      <td>1.000000</td>\n",
       "      <td>3</td>\n",
       "      <td>22.99480</td>\n",
       "      <td>120.19519</td>\n",
       "      <td>0</td>\n",
       "      <td>0</td>\n",
       "      <td>2024-07-24 20:00:00</td>\n",
       "      <td>15.2</td>\n",
       "      <td>27.6</td>\n",
       "      <td>94</td>\n",
       "      <td>26.9</td>\n",
       "      <td>100</td>\n",
       "      <td>100</td>\n",
       "      <td>100</td>\n",
       "      <td>100</td>\n",
       "      <td>2300.0</td>\n",
       "      <td>45.1</td>\n",
       "      <td>26.5</td>\n",
       "      <td>26.4</td>\n",
       "      <td>1.2</td>\n",
       "      <td>985.5</td>\n",
       "      <td>984.9</td>\n",
       "      <td>72.7</td>\n",
       "      <td>77.2</td>\n",
       "      <td>74.5</td>\n",
       "      <td>0.0</td>\n",
       "      <td>0.03</td>\n",
       "      <td>0.21</td>\n",
       "      <td>25.8</td>\n",
       "      <td>0.0</td>\n",
       "      <td>20</td>\n",
       "      <td>False</td>\n",
       "      <td>-0.707107</td>\n",
       "      <td>0.707107</td>\n",
       "      <td>-0.642788</td>\n",
       "      <td>0.766044</td>\n",
       "      <td>-0.656059</td>\n",
       "      <td>0.754710</td>\n",
       "      <td>2024_7_24_40</td>\n",
       "      <td>2</td>\n",
       "    </tr>\n",
       "    <tr>\n",
       "      <th>2</th>\n",
       "      <td>1421</td>\n",
       "      <td>2024</td>\n",
       "      <td>7</td>\n",
       "      <td>24</td>\n",
       "      <td>18</td>\n",
       "      <td>0</td>\n",
       "      <td>1.000000</td>\n",
       "      <td>3</td>\n",
       "      <td>22.99480</td>\n",
       "      <td>120.19519</td>\n",
       "      <td>20</td>\n",
       "      <td>20</td>\n",
       "      <td>2024-07-24 09:00:00</td>\n",
       "      <td>0.8</td>\n",
       "      <td>28.5</td>\n",
       "      <td>82</td>\n",
       "      <td>28.4</td>\n",
       "      <td>100</td>\n",
       "      <td>100</td>\n",
       "      <td>100</td>\n",
       "      <td>100</td>\n",
       "      <td>9660.0</td>\n",
       "      <td>45.3</td>\n",
       "      <td>27.9</td>\n",
       "      <td>27.7</td>\n",
       "      <td>0.8</td>\n",
       "      <td>989.1</td>\n",
       "      <td>988.5</td>\n",
       "      <td>68.6</td>\n",
       "      <td>72.6</td>\n",
       "      <td>66.2</td>\n",
       "      <td>0.0</td>\n",
       "      <td>0.15</td>\n",
       "      <td>0.70</td>\n",
       "      <td>25.0</td>\n",
       "      <td>967.1</td>\n",
       "      <td>9</td>\n",
       "      <td>False</td>\n",
       "      <td>-0.358368</td>\n",
       "      <td>0.933580</td>\n",
       "      <td>-0.309017</td>\n",
       "      <td>0.951057</td>\n",
       "      <td>-0.309017</td>\n",
       "      <td>0.951057</td>\n",
       "      <td>2024_7_24_18</td>\n",
       "      <td>2</td>\n",
       "    </tr>\n",
       "    <tr>\n",
       "      <th>3</th>\n",
       "      <td>1421</td>\n",
       "      <td>2024</td>\n",
       "      <td>8</td>\n",
       "      <td>21</td>\n",
       "      <td>9</td>\n",
       "      <td>0</td>\n",
       "      <td>2.000000</td>\n",
       "      <td>3</td>\n",
       "      <td>22.99480</td>\n",
       "      <td>120.19519</td>\n",
       "      <td>0</td>\n",
       "      <td>0</td>\n",
       "      <td>2024-08-21 04:30:00</td>\n",
       "      <td>0.0</td>\n",
       "      <td>30.0</td>\n",
       "      <td>73</td>\n",
       "      <td>26.8</td>\n",
       "      <td>99</td>\n",
       "      <td>0</td>\n",
       "      <td>90</td>\n",
       "      <td>90</td>\n",
       "      <td>24140.0</td>\n",
       "      <td>10.1</td>\n",
       "      <td>26.8</td>\n",
       "      <td>26.8</td>\n",
       "      <td>0.0</td>\n",
       "      <td>1010.4</td>\n",
       "      <td>1009.8</td>\n",
       "      <td>17.1</td>\n",
       "      <td>18.9</td>\n",
       "      <td>19.4</td>\n",
       "      <td>0.0</td>\n",
       "      <td>0.04</td>\n",
       "      <td>0.95</td>\n",
       "      <td>21.5</td>\n",
       "      <td>0.0</td>\n",
       "      <td>4</td>\n",
       "      <td>False</td>\n",
       "      <td>0.573576</td>\n",
       "      <td>-0.819152</td>\n",
       "      <td>0.406737</td>\n",
       "      <td>-0.913545</td>\n",
       "      <td>0.469472</td>\n",
       "      <td>-0.882948</td>\n",
       "      <td>2024_8_21_9</td>\n",
       "      <td>2</td>\n",
       "    </tr>\n",
       "    <tr>\n",
       "      <th>4</th>\n",
       "      <td>1421</td>\n",
       "      <td>2024</td>\n",
       "      <td>9</td>\n",
       "      <td>9</td>\n",
       "      <td>5</td>\n",
       "      <td>0</td>\n",
       "      <td>1.000000</td>\n",
       "      <td>3</td>\n",
       "      <td>22.99480</td>\n",
       "      <td>120.19519</td>\n",
       "      <td>0</td>\n",
       "      <td>0</td>\n",
       "      <td>2024-09-09 02:30:00</td>\n",
       "      <td>0.0</td>\n",
       "      <td>31.5</td>\n",
       "      <td>73</td>\n",
       "      <td>27.5</td>\n",
       "      <td>100</td>\n",
       "      <td>0</td>\n",
       "      <td>5</td>\n",
       "      <td>100</td>\n",
       "      <td>24140.0</td>\n",
       "      <td>7.1</td>\n",
       "      <td>26.7</td>\n",
       "      <td>26.5</td>\n",
       "      <td>0.0</td>\n",
       "      <td>1006.8</td>\n",
       "      <td>1006.2</td>\n",
       "      <td>8.7</td>\n",
       "      <td>8.8</td>\n",
       "      <td>8.3</td>\n",
       "      <td>0.0</td>\n",
       "      <td>0.02</td>\n",
       "      <td>0.99</td>\n",
       "      <td>22.2</td>\n",
       "      <td>0.0</td>\n",
       "      <td>2</td>\n",
       "      <td>False</td>\n",
       "      <td>0.754710</td>\n",
       "      <td>-0.656059</td>\n",
       "      <td>0.707107</td>\n",
       "      <td>-0.707107</td>\n",
       "      <td>0.707107</td>\n",
       "      <td>-0.707107</td>\n",
       "      <td>2024_9_9_5</td>\n",
       "      <td>0</td>\n",
       "    </tr>\n",
       "    <tr>\n",
       "      <th>...</th>\n",
       "      <td>...</td>\n",
       "      <td>...</td>\n",
       "      <td>...</td>\n",
       "      <td>...</td>\n",
       "      <td>...</td>\n",
       "      <td>...</td>\n",
       "      <td>...</td>\n",
       "      <td>...</td>\n",
       "      <td>...</td>\n",
       "      <td>...</td>\n",
       "      <td>...</td>\n",
       "      <td>...</td>\n",
       "      <td>...</td>\n",
       "      <td>...</td>\n",
       "      <td>...</td>\n",
       "      <td>...</td>\n",
       "      <td>...</td>\n",
       "      <td>...</td>\n",
       "      <td>...</td>\n",
       "      <td>...</td>\n",
       "      <td>...</td>\n",
       "      <td>...</td>\n",
       "      <td>...</td>\n",
       "      <td>...</td>\n",
       "      <td>...</td>\n",
       "      <td>...</td>\n",
       "      <td>...</td>\n",
       "      <td>...</td>\n",
       "      <td>...</td>\n",
       "      <td>...</td>\n",
       "      <td>...</td>\n",
       "      <td>...</td>\n",
       "      <td>...</td>\n",
       "      <td>...</td>\n",
       "      <td>...</td>\n",
       "      <td>...</td>\n",
       "      <td>...</td>\n",
       "      <td>...</td>\n",
       "      <td>...</td>\n",
       "      <td>...</td>\n",
       "      <td>...</td>\n",
       "      <td>...</td>\n",
       "      <td>...</td>\n",
       "      <td>...</td>\n",
       "      <td>...</td>\n",
       "      <td>...</td>\n",
       "    </tr>\n",
       "    <tr>\n",
       "      <th>719265</th>\n",
       "      <td>89053916</td>\n",
       "      <td>2025</td>\n",
       "      <td>5</td>\n",
       "      <td>9</td>\n",
       "      <td>47</td>\n",
       "      <td>1</td>\n",
       "      <td>103.000000</td>\n",
       "      <td>160</td>\n",
       "      <td>22.99884</td>\n",
       "      <td>120.16250</td>\n",
       "      <td>60</td>\n",
       "      <td>60</td>\n",
       "      <td>2025-05-09 23:30:00</td>\n",
       "      <td>0.0</td>\n",
       "      <td>33.3</td>\n",
       "      <td>57</td>\n",
       "      <td>30.4</td>\n",
       "      <td>100</td>\n",
       "      <td>0</td>\n",
       "      <td>10</td>\n",
       "      <td>100</td>\n",
       "      <td>24140.0</td>\n",
       "      <td>9.5</td>\n",
       "      <td>29.1</td>\n",
       "      <td>28.9</td>\n",
       "      <td>0.0</td>\n",
       "      <td>1009.5</td>\n",
       "      <td>1008.9</td>\n",
       "      <td>12.1</td>\n",
       "      <td>12.8</td>\n",
       "      <td>12.6</td>\n",
       "      <td>-0.0</td>\n",
       "      <td>0.07</td>\n",
       "      <td>1.86</td>\n",
       "      <td>20.9</td>\n",
       "      <td>0.0</td>\n",
       "      <td>23</td>\n",
       "      <td>False</td>\n",
       "      <td>0.156434</td>\n",
       "      <td>-0.987688</td>\n",
       "      <td>0.207912</td>\n",
       "      <td>-0.978148</td>\n",
       "      <td>0.207912</td>\n",
       "      <td>-0.978148</td>\n",
       "      <td>2025_5_9_47</td>\n",
       "      <td>4</td>\n",
       "    </tr>\n",
       "    <tr>\n",
       "      <th>719266</th>\n",
       "      <td>89053916</td>\n",
       "      <td>2025</td>\n",
       "      <td>5</td>\n",
       "      <td>9</td>\n",
       "      <td>25</td>\n",
       "      <td>1</td>\n",
       "      <td>84.333333</td>\n",
       "      <td>160</td>\n",
       "      <td>22.99884</td>\n",
       "      <td>120.16250</td>\n",
       "      <td>60</td>\n",
       "      <td>60</td>\n",
       "      <td>2025-05-09 12:30:00</td>\n",
       "      <td>0.0</td>\n",
       "      <td>36.7</td>\n",
       "      <td>51</td>\n",
       "      <td>33.5</td>\n",
       "      <td>100</td>\n",
       "      <td>0</td>\n",
       "      <td>5</td>\n",
       "      <td>100</td>\n",
       "      <td>24140.0</td>\n",
       "      <td>23.4</td>\n",
       "      <td>30.7</td>\n",
       "      <td>30.4</td>\n",
       "      <td>0.0</td>\n",
       "      <td>1009.1</td>\n",
       "      <td>1008.5</td>\n",
       "      <td>29.3</td>\n",
       "      <td>30.2</td>\n",
       "      <td>24.1</td>\n",
       "      <td>0.0</td>\n",
       "      <td>0.75</td>\n",
       "      <td>2.53</td>\n",
       "      <td>22.0</td>\n",
       "      <td>1336.1</td>\n",
       "      <td>12</td>\n",
       "      <td>False</td>\n",
       "      <td>-0.422618</td>\n",
       "      <td>-0.906308</td>\n",
       "      <td>-0.358368</td>\n",
       "      <td>-0.933580</td>\n",
       "      <td>-0.358368</td>\n",
       "      <td>-0.933580</td>\n",
       "      <td>2025_5_9_25</td>\n",
       "      <td>4</td>\n",
       "    </tr>\n",
       "    <tr>\n",
       "      <th>719267</th>\n",
       "      <td>89053916</td>\n",
       "      <td>2025</td>\n",
       "      <td>5</td>\n",
       "      <td>9</td>\n",
       "      <td>5</td>\n",
       "      <td>1</td>\n",
       "      <td>107.000000</td>\n",
       "      <td>160</td>\n",
       "      <td>22.99884</td>\n",
       "      <td>120.16250</td>\n",
       "      <td>60</td>\n",
       "      <td>60</td>\n",
       "      <td>2025-05-09 02:30:00</td>\n",
       "      <td>0.0</td>\n",
       "      <td>32.4</td>\n",
       "      <td>62</td>\n",
       "      <td>29.4</td>\n",
       "      <td>100</td>\n",
       "      <td>0</td>\n",
       "      <td>0</td>\n",
       "      <td>100</td>\n",
       "      <td>24140.0</td>\n",
       "      <td>10.6</td>\n",
       "      <td>28.2</td>\n",
       "      <td>28.0</td>\n",
       "      <td>0.0</td>\n",
       "      <td>1007.9</td>\n",
       "      <td>1007.3</td>\n",
       "      <td>14.9</td>\n",
       "      <td>15.6</td>\n",
       "      <td>16.6</td>\n",
       "      <td>-0.0</td>\n",
       "      <td>0.07</td>\n",
       "      <td>1.56</td>\n",
       "      <td>21.4</td>\n",
       "      <td>0.0</td>\n",
       "      <td>2</td>\n",
       "      <td>False</td>\n",
       "      <td>0.173648</td>\n",
       "      <td>-0.984808</td>\n",
       "      <td>0.156434</td>\n",
       "      <td>-0.987688</td>\n",
       "      <td>0.139173</td>\n",
       "      <td>-0.990268</td>\n",
       "      <td>2025_5_9_5</td>\n",
       "      <td>4</td>\n",
       "    </tr>\n",
       "    <tr>\n",
       "      <th>719268</th>\n",
       "      <td>89053916</td>\n",
       "      <td>2025</td>\n",
       "      <td>5</td>\n",
       "      <td>9</td>\n",
       "      <td>9</td>\n",
       "      <td>1</td>\n",
       "      <td>107.000000</td>\n",
       "      <td>160</td>\n",
       "      <td>22.99884</td>\n",
       "      <td>120.16250</td>\n",
       "      <td>60</td>\n",
       "      <td>60</td>\n",
       "      <td>2025-05-09 04:30:00</td>\n",
       "      <td>0.0</td>\n",
       "      <td>31.1</td>\n",
       "      <td>62</td>\n",
       "      <td>29.0</td>\n",
       "      <td>100</td>\n",
       "      <td>0</td>\n",
       "      <td>0</td>\n",
       "      <td>100</td>\n",
       "      <td>24140.0</td>\n",
       "      <td>15.6</td>\n",
       "      <td>27.9</td>\n",
       "      <td>27.7</td>\n",
       "      <td>0.0</td>\n",
       "      <td>1007.7</td>\n",
       "      <td>1007.1</td>\n",
       "      <td>22.6</td>\n",
       "      <td>24.1</td>\n",
       "      <td>27.4</td>\n",
       "      <td>0.0</td>\n",
       "      <td>0.10</td>\n",
       "      <td>1.52</td>\n",
       "      <td>21.0</td>\n",
       "      <td>0.0</td>\n",
       "      <td>4</td>\n",
       "      <td>False</td>\n",
       "      <td>0.139173</td>\n",
       "      <td>-0.990268</td>\n",
       "      <td>0.139173</td>\n",
       "      <td>-0.990268</td>\n",
       "      <td>0.139173</td>\n",
       "      <td>-0.990268</td>\n",
       "      <td>2025_5_9_9</td>\n",
       "      <td>4</td>\n",
       "    </tr>\n",
       "    <tr>\n",
       "      <th>719269</th>\n",
       "      <td>89053916</td>\n",
       "      <td>2025</td>\n",
       "      <td>5</td>\n",
       "      <td>9</td>\n",
       "      <td>29</td>\n",
       "      <td>1</td>\n",
       "      <td>82.500000</td>\n",
       "      <td>160</td>\n",
       "      <td>22.99884</td>\n",
       "      <td>120.16250</td>\n",
       "      <td>60</td>\n",
       "      <td>60</td>\n",
       "      <td>2025-05-09 14:30:00</td>\n",
       "      <td>0.0</td>\n",
       "      <td>36.4</td>\n",
       "      <td>50</td>\n",
       "      <td>33.4</td>\n",
       "      <td>100</td>\n",
       "      <td>0</td>\n",
       "      <td>0</td>\n",
       "      <td>100</td>\n",
       "      <td>24140.0</td>\n",
       "      <td>21.0</td>\n",
       "      <td>30.6</td>\n",
       "      <td>30.4</td>\n",
       "      <td>0.0</td>\n",
       "      <td>1008.6</td>\n",
       "      <td>1008.0</td>\n",
       "      <td>26.3</td>\n",
       "      <td>27.1</td>\n",
       "      <td>23.0</td>\n",
       "      <td>0.0</td>\n",
       "      <td>0.70</td>\n",
       "      <td>2.57</td>\n",
       "      <td>21.6</td>\n",
       "      <td>1166.6</td>\n",
       "      <td>14</td>\n",
       "      <td>False</td>\n",
       "      <td>-0.615661</td>\n",
       "      <td>-0.788011</td>\n",
       "      <td>-0.587785</td>\n",
       "      <td>-0.809017</td>\n",
       "      <td>-0.587785</td>\n",
       "      <td>-0.809017</td>\n",
       "      <td>2025_5_9_29</td>\n",
       "      <td>4</td>\n",
       "    </tr>\n",
       "  </tbody>\n",
       "</table>\n",
       "<p>2892661 rows × 46 columns</p>\n",
       "</div>"
      ],
      "text/plain": [
       "       ParkingSegmentID  year_val  month_val  day_val  half_hour_interval  \\\n",
       "0                  1421      2024          7       20                  46   \n",
       "1                  1421      2024          7       24                  40   \n",
       "2                  1421      2024          7       24                  18   \n",
       "3                  1421      2024          8       21                   9   \n",
       "4                  1421      2024          9        9                   5   \n",
       "...                 ...       ...        ...      ...                 ...   \n",
       "719265         89053916      2025          5        9                  47   \n",
       "719266         89053916      2025          5        9                  25   \n",
       "719267         89053916      2025          5        9                   5   \n",
       "719268         89053916      2025          5        9                   9   \n",
       "719269         89053916      2025          5        9                  29   \n",
       "\n",
       "        district  avg_available_spots  TotalSpaces       lat        lon  \\\n",
       "0              0             1.000000            3  22.99480  120.19519   \n",
       "1              0             1.000000            3  22.99480  120.19519   \n",
       "2              0             1.000000            3  22.99480  120.19519   \n",
       "3              0             2.000000            3  22.99480  120.19519   \n",
       "4              0             1.000000            3  22.99480  120.19519   \n",
       "...          ...                  ...          ...       ...        ...   \n",
       "719265         1           103.000000          160  22.99884  120.16250   \n",
       "719266         1            84.333333          160  22.99884  120.16250   \n",
       "719267         1           107.000000          160  22.99884  120.16250   \n",
       "719268         1           107.000000          160  22.99884  120.16250   \n",
       "719269         1            82.500000          160  22.99884  120.16250   \n",
       "\n",
       "        firstHourFee  laterHourFee             datetime  precipitation  \\\n",
       "0                  0             0  2024-07-20 23:00:00            0.8   \n",
       "1                  0             0  2024-07-24 20:00:00           15.2   \n",
       "2                 20            20  2024-07-24 09:00:00            0.8   \n",
       "3                  0             0  2024-08-21 04:30:00            0.0   \n",
       "4                  0             0  2024-09-09 02:30:00            0.0   \n",
       "...              ...           ...                  ...            ...   \n",
       "719265            60            60  2025-05-09 23:30:00            0.0   \n",
       "719266            60            60  2025-05-09 12:30:00            0.0   \n",
       "719267            60            60  2025-05-09 02:30:00            0.0   \n",
       "719268            60            60  2025-05-09 04:30:00            0.0   \n",
       "719269            60            60  2025-05-09 14:30:00            0.0   \n",
       "\n",
       "        apparent_temperature  relative_humidity_2m  temperature_2m  \\\n",
       "0                       35.4                    78            29.4   \n",
       "1                       27.6                    94            26.9   \n",
       "2                       28.5                    82            28.4   \n",
       "3                       30.0                    73            26.8   \n",
       "4                       31.5                    73            27.5   \n",
       "...                      ...                   ...             ...   \n",
       "719265                  33.3                    57            30.4   \n",
       "719266                  36.7                    51            33.5   \n",
       "719267                  32.4                    62            29.4   \n",
       "719268                  31.1                    62            29.0   \n",
       "719269                  36.4                    50            33.4   \n",
       "\n",
       "        cloud_cover  cloud_cover_low  cloud_cover_mid  cloud_cover_high  \\\n",
       "0                15                0                0                10   \n",
       "1               100              100              100               100   \n",
       "2               100              100              100               100   \n",
       "3                99                0               90                90   \n",
       "4               100                0                5               100   \n",
       "...             ...              ...              ...               ...   \n",
       "719265          100                0               10               100   \n",
       "719266          100                0                5               100   \n",
       "719267          100                0                0               100   \n",
       "719268          100                0                0               100   \n",
       "719269          100                0                0               100   \n",
       "\n",
       "        visibility  wind_speed_10m  temperature_80m  temperature_120m  \\\n",
       "0          24140.0             5.8             28.7              28.6   \n",
       "1           2300.0            45.1             26.5              26.4   \n",
       "2           9660.0            45.3             27.9              27.7   \n",
       "3          24140.0            10.1             26.8              26.8   \n",
       "4          24140.0             7.1             26.7              26.5   \n",
       "...            ...             ...              ...               ...   \n",
       "719265     24140.0             9.5             29.1              28.9   \n",
       "719266     24140.0            23.4             30.7              30.4   \n",
       "719267     24140.0            10.6             28.2              28.0   \n",
       "719268     24140.0            15.6             27.9              27.7   \n",
       "719269     24140.0            21.0             30.6              30.4   \n",
       "\n",
       "        showers  pressure_msl  surface_pressure  wind_speed_80m  \\\n",
       "0           0.8        1010.1            1009.5             7.4   \n",
       "1           1.2         985.5             984.9            72.7   \n",
       "2           0.8         989.1             988.5            68.6   \n",
       "3           0.0        1010.4            1009.8            17.1   \n",
       "4           0.0        1006.8            1006.2             8.7   \n",
       "...         ...           ...               ...             ...   \n",
       "719265      0.0        1009.5            1008.9            12.1   \n",
       "719266      0.0        1009.1            1008.5            29.3   \n",
       "719267      0.0        1007.9            1007.3            14.9   \n",
       "719268      0.0        1007.7            1007.1            22.6   \n",
       "719269      0.0        1008.6            1008.0            26.3   \n",
       "\n",
       "        wind_speed_120m  wind_gusts_10m  evapotranspiration  \\\n",
       "0                   7.7             7.9                 0.0   \n",
       "1                  77.2            74.5                 0.0   \n",
       "2                  72.6            66.2                 0.0   \n",
       "3                  18.9            19.4                 0.0   \n",
       "4                   8.8             8.3                 0.0   \n",
       "...                 ...             ...                 ...   \n",
       "719265             12.8            12.6                -0.0   \n",
       "719266             30.2            24.1                 0.0   \n",
       "719267             15.6            16.6                -0.0   \n",
       "719268             24.1            27.4                 0.0   \n",
       "719269             27.1            23.0                 0.0   \n",
       "\n",
       "        et0_fao_evapotranspiration  vapour_pressure_deficit  dew_point_2m  \\\n",
       "0                             0.01                     0.90          25.2   \n",
       "1                             0.03                     0.21          25.8   \n",
       "2                             0.15                     0.70          25.0   \n",
       "3                             0.04                     0.95          21.5   \n",
       "4                             0.02                     0.99          22.2   \n",
       "...                            ...                      ...           ...   \n",
       "719265                        0.07                     1.86          20.9   \n",
       "719266                        0.75                     2.53          22.0   \n",
       "719267                        0.07                     1.56          21.4   \n",
       "719268                        0.10                     1.52          21.0   \n",
       "719269                        0.70                     2.57          21.6   \n",
       "\n",
       "        terrestrial_radiation_instant  hour is_national_holiday  \\\n",
       "0                                 0.0    23               False   \n",
       "1                                 0.0    20               False   \n",
       "2                               967.1     9               False   \n",
       "3                                 0.0     4               False   \n",
       "4                                 0.0     2               False   \n",
       "...                               ...   ...                 ...   \n",
       "719265                            0.0    23               False   \n",
       "719266                         1336.1    12               False   \n",
       "719267                            0.0     2               False   \n",
       "719268                            0.0     4               False   \n",
       "719269                         1166.6    14               False   \n",
       "\n",
       "        wind_direction_10m_sin  wind_direction_10m_cos  \\\n",
       "0                    -0.069756               -0.997564   \n",
       "1                    -0.707107                0.707107   \n",
       "2                    -0.358368                0.933580   \n",
       "3                     0.573576               -0.819152   \n",
       "4                     0.754710               -0.656059   \n",
       "...                        ...                     ...   \n",
       "719265                0.156434               -0.987688   \n",
       "719266               -0.422618               -0.906308   \n",
       "719267                0.173648               -0.984808   \n",
       "719268                0.139173               -0.990268   \n",
       "719269               -0.615661               -0.788011   \n",
       "\n",
       "        wind_direction_120m_sin  wind_direction_120m_cos  \\\n",
       "0                     -0.422618                -0.906308   \n",
       "1                     -0.642788                 0.766044   \n",
       "2                     -0.309017                 0.951057   \n",
       "3                      0.406737                -0.913545   \n",
       "4                      0.707107                -0.707107   \n",
       "...                         ...                      ...   \n",
       "719265                 0.207912                -0.978148   \n",
       "719266                -0.358368                -0.933580   \n",
       "719267                 0.156434                -0.987688   \n",
       "719268                 0.139173                -0.990268   \n",
       "719269                -0.587785                -0.809017   \n",
       "\n",
       "        wind_direction_80m_sin  wind_direction_80m_cos    datetime_2  \\\n",
       "0                    -0.390731               -0.920505  2024_7_20_46   \n",
       "1                    -0.656059                0.754710  2024_7_24_40   \n",
       "2                    -0.309017                0.951057  2024_7_24_18   \n",
       "3                     0.469472               -0.882948   2024_8_21_9   \n",
       "4                     0.707107               -0.707107    2024_9_9_5   \n",
       "...                        ...                     ...           ...   \n",
       "719265                0.207912               -0.978148   2025_5_9_47   \n",
       "719266               -0.358368               -0.933580   2025_5_9_25   \n",
       "719267                0.139173               -0.990268    2025_5_9_5   \n",
       "719268                0.139173               -0.990268    2025_5_9_9   \n",
       "719269               -0.587785               -0.809017   2025_5_9_29   \n",
       "\n",
       "        weekday_num  \n",
       "0                 5  \n",
       "1                 2  \n",
       "2                 2  \n",
       "3                 2  \n",
       "4                 0  \n",
       "...             ...  \n",
       "719265            4  \n",
       "719266            4  \n",
       "719267            4  \n",
       "719268            4  \n",
       "719269            4  \n",
       "\n",
       "[2892661 rows x 46 columns]"
      ]
     },
     "execution_count": 55,
     "metadata": {},
     "output_type": "execute_result"
    }
   ],
   "source": [
    "df_final"
   ]
  },
  {
   "cell_type": "code",
   "execution_count": null,
   "metadata": {
    "trusted": true
   },
   "outputs": [],
   "source": [
    "def add_cyclical_features(df):\n",
    "    # month (1–12 → 12 periods)\n",
    "    \n",
    "    # date (1–31 → 31 periods, but using 28 is more stable)\n",
    "    df['day_sin'] = np.sin(2 * np.pi * df['day_val'] / 31)\n",
    "    df['day_cos'] = np.cos(2 * np.pi * df['day_val'] / 31)\n",
    "    \n",
    "    # half-hour intervals (0–47 → 48 periods)\n",
    "    df['half_hour_sin'] = np.sin(2 * np.pi * df['half_hour_interval'] / 48)\n",
    "    df['half_hour_cos'] = np.cos(2 * np.pi * df['half_hour_interval'] / 48)\n",
    "    \n",
    "    \n",
    "    return df\n",
    "\n",
    "df_final = add_cyclical_features(df_final)\n",
    "df_final = pd.get_dummies(df_final, columns=['month_val', 'weekday_num'])\n",
    "df_final[\"day_off\"] = df_final[\"is_national_holiday\"] | df_final[\"weekday_num_6\"] | df_final[\"weekday_num_5\"]\n",
    "df_final.drop(columns=[\"is_national_holiday\"], inplace = True)"
   ]
  },
  {
   "cell_type": "code",
   "execution_count": null,
   "metadata": {},
   "outputs": [],
   "source": []
  },
  {
   "cell_type": "code",
   "execution_count": 57,
   "metadata": {
    "trusted": true
   },
   "outputs": [
    {
     "name": "stderr",
     "output_type": "stream",
     "text": [
      "/var/folders/wt/6hl8qhss3jz9zrdh6n8f3_qh0000gn/T/ipykernel_13890/1851175704.py:5: SettingWithCopyWarning: \n",
      "A value is trying to be set on a copy of a slice from a DataFrame\n",
      "\n",
      "See the caveats in the documentation: https://pandas.pydata.org/pandas-docs/stable/user_guide/indexing.html#returning-a-view-versus-a-copy\n",
      "  df_train.drop(columns=[\"datetime\"], inplace=True)\n",
      "/var/folders/wt/6hl8qhss3jz9zrdh6n8f3_qh0000gn/T/ipykernel_13890/1851175704.py:6: SettingWithCopyWarning: \n",
      "A value is trying to be set on a copy of a slice from a DataFrame\n",
      "\n",
      "See the caveats in the documentation: https://pandas.pydata.org/pandas-docs/stable/user_guide/indexing.html#returning-a-view-versus-a-copy\n",
      "  df_val.drop(columns=[\"datetime\"], inplace=True)\n",
      "/var/folders/wt/6hl8qhss3jz9zrdh6n8f3_qh0000gn/T/ipykernel_13890/1851175704.py:7: SettingWithCopyWarning: \n",
      "A value is trying to be set on a copy of a slice from a DataFrame\n",
      "\n",
      "See the caveats in the documentation: https://pandas.pydata.org/pandas-docs/stable/user_guide/indexing.html#returning-a-view-versus-a-copy\n",
      "  df_test.drop(columns=[\"datetime\"], inplace=True)\n"
     ]
    },
    {
     "data": {
      "text/html": [
       "<div>\n",
       "<style scoped>\n",
       "    .dataframe tbody tr th:only-of-type {\n",
       "        vertical-align: middle;\n",
       "    }\n",
       "\n",
       "    .dataframe tbody tr th {\n",
       "        vertical-align: top;\n",
       "    }\n",
       "\n",
       "    .dataframe thead th {\n",
       "        text-align: right;\n",
       "    }\n",
       "</style>\n",
       "<table border=\"1\" class=\"dataframe\">\n",
       "  <thead>\n",
       "    <tr style=\"text-align: right;\">\n",
       "      <th></th>\n",
       "      <th>ParkingSegmentID</th>\n",
       "      <th>year_val</th>\n",
       "      <th>day_val</th>\n",
       "      <th>half_hour_interval</th>\n",
       "      <th>district</th>\n",
       "      <th>avg_available_spots</th>\n",
       "      <th>TotalSpaces</th>\n",
       "      <th>lat</th>\n",
       "      <th>lon</th>\n",
       "      <th>firstHourFee</th>\n",
       "      <th>laterHourFee</th>\n",
       "      <th>precipitation</th>\n",
       "      <th>apparent_temperature</th>\n",
       "      <th>relative_humidity_2m</th>\n",
       "      <th>temperature_2m</th>\n",
       "      <th>cloud_cover</th>\n",
       "      <th>cloud_cover_low</th>\n",
       "      <th>cloud_cover_mid</th>\n",
       "      <th>cloud_cover_high</th>\n",
       "      <th>visibility</th>\n",
       "      <th>wind_speed_10m</th>\n",
       "      <th>temperature_80m</th>\n",
       "      <th>temperature_120m</th>\n",
       "      <th>showers</th>\n",
       "      <th>pressure_msl</th>\n",
       "      <th>surface_pressure</th>\n",
       "      <th>wind_speed_80m</th>\n",
       "      <th>wind_speed_120m</th>\n",
       "      <th>wind_gusts_10m</th>\n",
       "      <th>evapotranspiration</th>\n",
       "      <th>et0_fao_evapotranspiration</th>\n",
       "      <th>vapour_pressure_deficit</th>\n",
       "      <th>dew_point_2m</th>\n",
       "      <th>terrestrial_radiation_instant</th>\n",
       "      <th>hour</th>\n",
       "      <th>wind_direction_10m_sin</th>\n",
       "      <th>wind_direction_10m_cos</th>\n",
       "      <th>wind_direction_120m_sin</th>\n",
       "      <th>wind_direction_120m_cos</th>\n",
       "      <th>wind_direction_80m_sin</th>\n",
       "      <th>wind_direction_80m_cos</th>\n",
       "      <th>datetime_2</th>\n",
       "      <th>day_sin</th>\n",
       "      <th>day_cos</th>\n",
       "      <th>half_hour_sin</th>\n",
       "      <th>half_hour_cos</th>\n",
       "      <th>month_val_1</th>\n",
       "      <th>month_val_2</th>\n",
       "      <th>month_val_3</th>\n",
       "      <th>month_val_4</th>\n",
       "      <th>month_val_5</th>\n",
       "      <th>month_val_6</th>\n",
       "      <th>month_val_7</th>\n",
       "      <th>month_val_8</th>\n",
       "      <th>month_val_9</th>\n",
       "      <th>month_val_10</th>\n",
       "      <th>month_val_11</th>\n",
       "      <th>month_val_12</th>\n",
       "      <th>weekday_num_0</th>\n",
       "      <th>weekday_num_1</th>\n",
       "      <th>weekday_num_2</th>\n",
       "      <th>weekday_num_3</th>\n",
       "      <th>weekday_num_4</th>\n",
       "      <th>weekday_num_5</th>\n",
       "      <th>weekday_num_6</th>\n",
       "      <th>day_off</th>\n",
       "    </tr>\n",
       "  </thead>\n",
       "  <tbody>\n",
       "    <tr>\n",
       "      <th>66246</th>\n",
       "      <td>1421</td>\n",
       "      <td>2025</td>\n",
       "      <td>27</td>\n",
       "      <td>5</td>\n",
       "      <td>0</td>\n",
       "      <td>1.0</td>\n",
       "      <td>3</td>\n",
       "      <td>22.99480</td>\n",
       "      <td>120.19519</td>\n",
       "      <td>0</td>\n",
       "      <td>0</td>\n",
       "      <td>0.0</td>\n",
       "      <td>26.7</td>\n",
       "      <td>71</td>\n",
       "      <td>24.7</td>\n",
       "      <td>0</td>\n",
       "      <td>0</td>\n",
       "      <td>0</td>\n",
       "      <td>0</td>\n",
       "      <td>24140.0</td>\n",
       "      <td>9.6</td>\n",
       "      <td>23.4</td>\n",
       "      <td>23.2</td>\n",
       "      <td>0.0</td>\n",
       "      <td>1013.6</td>\n",
       "      <td>1013.0</td>\n",
       "      <td>11.3</td>\n",
       "      <td>11.9</td>\n",
       "      <td>8.6</td>\n",
       "      <td>-0.0</td>\n",
       "      <td>0.03</td>\n",
       "      <td>0.90</td>\n",
       "      <td>19.1</td>\n",
       "      <td>0.0</td>\n",
       "      <td>2</td>\n",
       "      <td>0.224951</td>\n",
       "      <td>0.974370</td>\n",
       "      <td>0.156434</td>\n",
       "      <td>0.987688</td>\n",
       "      <td>0.156434</td>\n",
       "      <td>0.987688</td>\n",
       "      <td>2025_4_27_5</td>\n",
       "      <td>-0.724793</td>\n",
       "      <td>0.688967</td>\n",
       "      <td>0.608761</td>\n",
       "      <td>0.793353</td>\n",
       "      <td>False</td>\n",
       "      <td>False</td>\n",
       "      <td>False</td>\n",
       "      <td>True</td>\n",
       "      <td>False</td>\n",
       "      <td>False</td>\n",
       "      <td>False</td>\n",
       "      <td>False</td>\n",
       "      <td>False</td>\n",
       "      <td>False</td>\n",
       "      <td>False</td>\n",
       "      <td>False</td>\n",
       "      <td>False</td>\n",
       "      <td>False</td>\n",
       "      <td>False</td>\n",
       "      <td>False</td>\n",
       "      <td>False</td>\n",
       "      <td>False</td>\n",
       "      <td>True</td>\n",
       "      <td>True</td>\n",
       "    </tr>\n",
       "    <tr>\n",
       "      <th>66247</th>\n",
       "      <td>1421</td>\n",
       "      <td>2025</td>\n",
       "      <td>28</td>\n",
       "      <td>40</td>\n",
       "      <td>0</td>\n",
       "      <td>1.0</td>\n",
       "      <td>3</td>\n",
       "      <td>22.99480</td>\n",
       "      <td>120.19519</td>\n",
       "      <td>0</td>\n",
       "      <td>0</td>\n",
       "      <td>0.0</td>\n",
       "      <td>28.1</td>\n",
       "      <td>62</td>\n",
       "      <td>27.4</td>\n",
       "      <td>0</td>\n",
       "      <td>0</td>\n",
       "      <td>0</td>\n",
       "      <td>0</td>\n",
       "      <td>24140.0</td>\n",
       "      <td>19.5</td>\n",
       "      <td>25.9</td>\n",
       "      <td>25.7</td>\n",
       "      <td>0.0</td>\n",
       "      <td>1011.2</td>\n",
       "      <td>1010.6</td>\n",
       "      <td>27.0</td>\n",
       "      <td>27.9</td>\n",
       "      <td>24.1</td>\n",
       "      <td>-0.0</td>\n",
       "      <td>0.11</td>\n",
       "      <td>1.39</td>\n",
       "      <td>19.5</td>\n",
       "      <td>0.0</td>\n",
       "      <td>20</td>\n",
       "      <td>0.034899</td>\n",
       "      <td>0.999391</td>\n",
       "      <td>0.034899</td>\n",
       "      <td>0.999391</td>\n",
       "      <td>0.034899</td>\n",
       "      <td>0.999391</td>\n",
       "      <td>2025_4_28_40</td>\n",
       "      <td>-0.571268</td>\n",
       "      <td>0.820763</td>\n",
       "      <td>-0.866025</td>\n",
       "      <td>0.500000</td>\n",
       "      <td>False</td>\n",
       "      <td>False</td>\n",
       "      <td>False</td>\n",
       "      <td>True</td>\n",
       "      <td>False</td>\n",
       "      <td>False</td>\n",
       "      <td>False</td>\n",
       "      <td>False</td>\n",
       "      <td>False</td>\n",
       "      <td>False</td>\n",
       "      <td>False</td>\n",
       "      <td>False</td>\n",
       "      <td>True</td>\n",
       "      <td>False</td>\n",
       "      <td>False</td>\n",
       "      <td>False</td>\n",
       "      <td>False</td>\n",
       "      <td>False</td>\n",
       "      <td>False</td>\n",
       "      <td>False</td>\n",
       "    </tr>\n",
       "    <tr>\n",
       "      <th>66250</th>\n",
       "      <td>1421</td>\n",
       "      <td>2025</td>\n",
       "      <td>4</td>\n",
       "      <td>20</td>\n",
       "      <td>0</td>\n",
       "      <td>1.0</td>\n",
       "      <td>3</td>\n",
       "      <td>22.99480</td>\n",
       "      <td>120.19519</td>\n",
       "      <td>20</td>\n",
       "      <td>20</td>\n",
       "      <td>0.0</td>\n",
       "      <td>36.2</td>\n",
       "      <td>49</td>\n",
       "      <td>31.9</td>\n",
       "      <td>83</td>\n",
       "      <td>0</td>\n",
       "      <td>0</td>\n",
       "      <td>82</td>\n",
       "      <td>24140.0</td>\n",
       "      <td>6.5</td>\n",
       "      <td>29.4</td>\n",
       "      <td>29.2</td>\n",
       "      <td>0.0</td>\n",
       "      <td>1009.3</td>\n",
       "      <td>1008.7</td>\n",
       "      <td>6.1</td>\n",
       "      <td>6.3</td>\n",
       "      <td>5.0</td>\n",
       "      <td>0.0</td>\n",
       "      <td>0.61</td>\n",
       "      <td>2.41</td>\n",
       "      <td>19.9</td>\n",
       "      <td>1187.1</td>\n",
       "      <td>10</td>\n",
       "      <td>-0.829038</td>\n",
       "      <td>0.559193</td>\n",
       "      <td>-0.766044</td>\n",
       "      <td>0.642788</td>\n",
       "      <td>-0.766044</td>\n",
       "      <td>0.642788</td>\n",
       "      <td>2025_5_4_20</td>\n",
       "      <td>0.724793</td>\n",
       "      <td>0.688967</td>\n",
       "      <td>0.500000</td>\n",
       "      <td>-0.866025</td>\n",
       "      <td>False</td>\n",
       "      <td>False</td>\n",
       "      <td>False</td>\n",
       "      <td>False</td>\n",
       "      <td>True</td>\n",
       "      <td>False</td>\n",
       "      <td>False</td>\n",
       "      <td>False</td>\n",
       "      <td>False</td>\n",
       "      <td>False</td>\n",
       "      <td>False</td>\n",
       "      <td>False</td>\n",
       "      <td>False</td>\n",
       "      <td>False</td>\n",
       "      <td>False</td>\n",
       "      <td>False</td>\n",
       "      <td>False</td>\n",
       "      <td>False</td>\n",
       "      <td>True</td>\n",
       "      <td>True</td>\n",
       "    </tr>\n",
       "    <tr>\n",
       "      <th>66256</th>\n",
       "      <td>181</td>\n",
       "      <td>2025</td>\n",
       "      <td>29</td>\n",
       "      <td>5</td>\n",
       "      <td>0</td>\n",
       "      <td>28.5</td>\n",
       "      <td>51</td>\n",
       "      <td>22.98488</td>\n",
       "      <td>120.20178</td>\n",
       "      <td>0</td>\n",
       "      <td>0</td>\n",
       "      <td>0.0</td>\n",
       "      <td>27.9</td>\n",
       "      <td>63</td>\n",
       "      <td>26.2</td>\n",
       "      <td>7</td>\n",
       "      <td>0</td>\n",
       "      <td>0</td>\n",
       "      <td>5</td>\n",
       "      <td>24140.0</td>\n",
       "      <td>9.8</td>\n",
       "      <td>24.9</td>\n",
       "      <td>24.7</td>\n",
       "      <td>0.0</td>\n",
       "      <td>1010.3</td>\n",
       "      <td>1009.7</td>\n",
       "      <td>14.4</td>\n",
       "      <td>15.2</td>\n",
       "      <td>11.2</td>\n",
       "      <td>-0.0</td>\n",
       "      <td>0.05</td>\n",
       "      <td>1.26</td>\n",
       "      <td>18.6</td>\n",
       "      <td>0.0</td>\n",
       "      <td>2</td>\n",
       "      <td>-0.469472</td>\n",
       "      <td>-0.882948</td>\n",
       "      <td>-0.529919</td>\n",
       "      <td>-0.848048</td>\n",
       "      <td>-0.529919</td>\n",
       "      <td>-0.848048</td>\n",
       "      <td>2025_4_29_5</td>\n",
       "      <td>-0.394356</td>\n",
       "      <td>0.918958</td>\n",
       "      <td>0.608761</td>\n",
       "      <td>0.793353</td>\n",
       "      <td>False</td>\n",
       "      <td>False</td>\n",
       "      <td>False</td>\n",
       "      <td>True</td>\n",
       "      <td>False</td>\n",
       "      <td>False</td>\n",
       "      <td>False</td>\n",
       "      <td>False</td>\n",
       "      <td>False</td>\n",
       "      <td>False</td>\n",
       "      <td>False</td>\n",
       "      <td>False</td>\n",
       "      <td>False</td>\n",
       "      <td>True</td>\n",
       "      <td>False</td>\n",
       "      <td>False</td>\n",
       "      <td>False</td>\n",
       "      <td>False</td>\n",
       "      <td>False</td>\n",
       "      <td>False</td>\n",
       "    </tr>\n",
       "    <tr>\n",
       "      <th>66261</th>\n",
       "      <td>181</td>\n",
       "      <td>2025</td>\n",
       "      <td>6</td>\n",
       "      <td>47</td>\n",
       "      <td>0</td>\n",
       "      <td>30.0</td>\n",
       "      <td>51</td>\n",
       "      <td>22.98488</td>\n",
       "      <td>120.20178</td>\n",
       "      <td>0</td>\n",
       "      <td>0</td>\n",
       "      <td>0.0</td>\n",
       "      <td>32.7</td>\n",
       "      <td>67</td>\n",
       "      <td>28.8</td>\n",
       "      <td>23</td>\n",
       "      <td>8</td>\n",
       "      <td>0</td>\n",
       "      <td>14</td>\n",
       "      <td>24140.0</td>\n",
       "      <td>6.9</td>\n",
       "      <td>27.3</td>\n",
       "      <td>27.1</td>\n",
       "      <td>0.0</td>\n",
       "      <td>1009.3</td>\n",
       "      <td>1008.7</td>\n",
       "      <td>7.8</td>\n",
       "      <td>7.9</td>\n",
       "      <td>7.6</td>\n",
       "      <td>-0.0</td>\n",
       "      <td>0.03</td>\n",
       "      <td>1.30</td>\n",
       "      <td>22.1</td>\n",
       "      <td>0.0</td>\n",
       "      <td>23</td>\n",
       "      <td>-0.469472</td>\n",
       "      <td>-0.882948</td>\n",
       "      <td>-0.374607</td>\n",
       "      <td>-0.927184</td>\n",
       "      <td>-0.374607</td>\n",
       "      <td>-0.927184</td>\n",
       "      <td>2025_5_6_47</td>\n",
       "      <td>0.937752</td>\n",
       "      <td>0.347305</td>\n",
       "      <td>-0.130526</td>\n",
       "      <td>0.991445</td>\n",
       "      <td>False</td>\n",
       "      <td>False</td>\n",
       "      <td>False</td>\n",
       "      <td>False</td>\n",
       "      <td>True</td>\n",
       "      <td>False</td>\n",
       "      <td>False</td>\n",
       "      <td>False</td>\n",
       "      <td>False</td>\n",
       "      <td>False</td>\n",
       "      <td>False</td>\n",
       "      <td>False</td>\n",
       "      <td>False</td>\n",
       "      <td>True</td>\n",
       "      <td>False</td>\n",
       "      <td>False</td>\n",
       "      <td>False</td>\n",
       "      <td>False</td>\n",
       "      <td>False</td>\n",
       "      <td>False</td>\n",
       "    </tr>\n",
       "  </tbody>\n",
       "</table>\n",
       "</div>"
      ],
      "text/plain": [
       "      ParkingSegmentID  year_val  day_val  half_hour_interval  district  \\\n",
       "66246             1421      2025       27                   5         0   \n",
       "66247             1421      2025       28                  40         0   \n",
       "66250             1421      2025        4                  20         0   \n",
       "66256              181      2025       29                   5         0   \n",
       "66261              181      2025        6                  47         0   \n",
       "\n",
       "       avg_available_spots  TotalSpaces       lat        lon  firstHourFee  \\\n",
       "66246                  1.0            3  22.99480  120.19519             0   \n",
       "66247                  1.0            3  22.99480  120.19519             0   \n",
       "66250                  1.0            3  22.99480  120.19519            20   \n",
       "66256                 28.5           51  22.98488  120.20178             0   \n",
       "66261                 30.0           51  22.98488  120.20178             0   \n",
       "\n",
       "       laterHourFee  precipitation  apparent_temperature  \\\n",
       "66246             0            0.0                  26.7   \n",
       "66247             0            0.0                  28.1   \n",
       "66250            20            0.0                  36.2   \n",
       "66256             0            0.0                  27.9   \n",
       "66261             0            0.0                  32.7   \n",
       "\n",
       "       relative_humidity_2m  temperature_2m  cloud_cover  cloud_cover_low  \\\n",
       "66246                    71            24.7            0                0   \n",
       "66247                    62            27.4            0                0   \n",
       "66250                    49            31.9           83                0   \n",
       "66256                    63            26.2            7                0   \n",
       "66261                    67            28.8           23                8   \n",
       "\n",
       "       cloud_cover_mid  cloud_cover_high  visibility  wind_speed_10m  \\\n",
       "66246                0                 0     24140.0             9.6   \n",
       "66247                0                 0     24140.0            19.5   \n",
       "66250                0                82     24140.0             6.5   \n",
       "66256                0                 5     24140.0             9.8   \n",
       "66261                0                14     24140.0             6.9   \n",
       "\n",
       "       temperature_80m  temperature_120m  showers  pressure_msl  \\\n",
       "66246             23.4              23.2      0.0        1013.6   \n",
       "66247             25.9              25.7      0.0        1011.2   \n",
       "66250             29.4              29.2      0.0        1009.3   \n",
       "66256             24.9              24.7      0.0        1010.3   \n",
       "66261             27.3              27.1      0.0        1009.3   \n",
       "\n",
       "       surface_pressure  wind_speed_80m  wind_speed_120m  wind_gusts_10m  \\\n",
       "66246            1013.0            11.3             11.9             8.6   \n",
       "66247            1010.6            27.0             27.9            24.1   \n",
       "66250            1008.7             6.1              6.3             5.0   \n",
       "66256            1009.7            14.4             15.2            11.2   \n",
       "66261            1008.7             7.8              7.9             7.6   \n",
       "\n",
       "       evapotranspiration  et0_fao_evapotranspiration  \\\n",
       "66246                -0.0                        0.03   \n",
       "66247                -0.0                        0.11   \n",
       "66250                 0.0                        0.61   \n",
       "66256                -0.0                        0.05   \n",
       "66261                -0.0                        0.03   \n",
       "\n",
       "       vapour_pressure_deficit  dew_point_2m  terrestrial_radiation_instant  \\\n",
       "66246                     0.90          19.1                            0.0   \n",
       "66247                     1.39          19.5                            0.0   \n",
       "66250                     2.41          19.9                         1187.1   \n",
       "66256                     1.26          18.6                            0.0   \n",
       "66261                     1.30          22.1                            0.0   \n",
       "\n",
       "       hour  wind_direction_10m_sin  wind_direction_10m_cos  \\\n",
       "66246     2                0.224951                0.974370   \n",
       "66247    20                0.034899                0.999391   \n",
       "66250    10               -0.829038                0.559193   \n",
       "66256     2               -0.469472               -0.882948   \n",
       "66261    23               -0.469472               -0.882948   \n",
       "\n",
       "       wind_direction_120m_sin  wind_direction_120m_cos  \\\n",
       "66246                 0.156434                 0.987688   \n",
       "66247                 0.034899                 0.999391   \n",
       "66250                -0.766044                 0.642788   \n",
       "66256                -0.529919                -0.848048   \n",
       "66261                -0.374607                -0.927184   \n",
       "\n",
       "       wind_direction_80m_sin  wind_direction_80m_cos    datetime_2   day_sin  \\\n",
       "66246                0.156434                0.987688   2025_4_27_5 -0.724793   \n",
       "66247                0.034899                0.999391  2025_4_28_40 -0.571268   \n",
       "66250               -0.766044                0.642788   2025_5_4_20  0.724793   \n",
       "66256               -0.529919               -0.848048   2025_4_29_5 -0.394356   \n",
       "66261               -0.374607               -0.927184   2025_5_6_47  0.937752   \n",
       "\n",
       "        day_cos  half_hour_sin  half_hour_cos  month_val_1  month_val_2  \\\n",
       "66246  0.688967       0.608761       0.793353        False        False   \n",
       "66247  0.820763      -0.866025       0.500000        False        False   \n",
       "66250  0.688967       0.500000      -0.866025        False        False   \n",
       "66256  0.918958       0.608761       0.793353        False        False   \n",
       "66261  0.347305      -0.130526       0.991445        False        False   \n",
       "\n",
       "       month_val_3  month_val_4  month_val_5  month_val_6  month_val_7  \\\n",
       "66246        False         True        False        False        False   \n",
       "66247        False         True        False        False        False   \n",
       "66250        False        False         True        False        False   \n",
       "66256        False         True        False        False        False   \n",
       "66261        False        False         True        False        False   \n",
       "\n",
       "       month_val_8  month_val_9  month_val_10  month_val_11  month_val_12  \\\n",
       "66246        False        False         False         False         False   \n",
       "66247        False        False         False         False         False   \n",
       "66250        False        False         False         False         False   \n",
       "66256        False        False         False         False         False   \n",
       "66261        False        False         False         False         False   \n",
       "\n",
       "       weekday_num_0  weekday_num_1  weekday_num_2  weekday_num_3  \\\n",
       "66246          False          False          False          False   \n",
       "66247           True          False          False          False   \n",
       "66250          False          False          False          False   \n",
       "66256          False           True          False          False   \n",
       "66261          False           True          False          False   \n",
       "\n",
       "       weekday_num_4  weekday_num_5  weekday_num_6  day_off  \n",
       "66246          False          False           True     True  \n",
       "66247          False          False          False    False  \n",
       "66250          False          False           True     True  \n",
       "66256          False          False          False    False  \n",
       "66261          False          False          False    False  "
      ]
     },
     "execution_count": 57,
     "metadata": {},
     "output_type": "execute_result"
    }
   ],
   "source": [
    "df_final[\"datetime\"] = pd.to_datetime(df_final[\"datetime\"])\n",
    "df_train = df_final[df_final[\"datetime\"] < \"2025-01-23\"]\n",
    "df_val = df_final[(df_final[\"datetime\"] >= \"2025-01-23\") & (df_final[\"datetime\"] < \"2025-03-23\")]\n",
    "df_test = df_final[df_final[\"datetime\"] >= \"2025-03-23\"]\n",
    "df_train.drop(columns=[\"datetime\"], inplace=True)\n",
    "df_val.drop(columns=[\"datetime\"], inplace=True)\n",
    "df_test.drop(columns=[\"datetime\"], inplace=True)\n",
    "df_train.head()\n",
    "df_val.head()\n",
    "df_test.head()"
   ]
  },
  {
   "cell_type": "code",
   "execution_count": 58,
   "metadata": {
    "trusted": true
   },
   "outputs": [
    {
     "name": "stderr",
     "output_type": "stream",
     "text": [
      "/var/folders/wt/6hl8qhss3jz9zrdh6n8f3_qh0000gn/T/ipykernel_13890/3947941934.py:1: SettingWithCopyWarning: \n",
      "A value is trying to be set on a copy of a slice from a DataFrame.\n",
      "Try using .loc[row_indexer,col_indexer] = value instead\n",
      "\n",
      "See the caveats in the documentation: https://pandas.pydata.org/pandas-docs/stable/user_guide/indexing.html#returning-a-view-versus-a-copy\n",
      "  df_train['available_percent'] = df_train[\"avg_available_spots\"]/df_train[\"TotalSpaces\"]\n",
      "/var/folders/wt/6hl8qhss3jz9zrdh6n8f3_qh0000gn/T/ipykernel_13890/3947941934.py:2: SettingWithCopyWarning: \n",
      "A value is trying to be set on a copy of a slice from a DataFrame.\n",
      "Try using .loc[row_indexer,col_indexer] = value instead\n",
      "\n",
      "See the caveats in the documentation: https://pandas.pydata.org/pandas-docs/stable/user_guide/indexing.html#returning-a-view-versus-a-copy\n",
      "  df_val['available_percent'] = df_val[\"avg_available_spots\"]/df_val[\"TotalSpaces\"]\n",
      "/var/folders/wt/6hl8qhss3jz9zrdh6n8f3_qh0000gn/T/ipykernel_13890/3947941934.py:3: SettingWithCopyWarning: \n",
      "A value is trying to be set on a copy of a slice from a DataFrame.\n",
      "Try using .loc[row_indexer,col_indexer] = value instead\n",
      "\n",
      "See the caveats in the documentation: https://pandas.pydata.org/pandas-docs/stable/user_guide/indexing.html#returning-a-view-versus-a-copy\n",
      "  df_test['available_percent'] = df_test[\"avg_available_spots\"]/df_test[\"TotalSpaces\"]\n",
      "/var/folders/wt/6hl8qhss3jz9zrdh6n8f3_qh0000gn/T/ipykernel_13890/3947941934.py:4: SettingWithCopyWarning: \n",
      "A value is trying to be set on a copy of a slice from a DataFrame.\n",
      "Try using .loc[row_indexer,col_indexer] = value instead\n",
      "\n",
      "See the caveats in the documentation: https://pandas.pydata.org/pandas-docs/stable/user_guide/indexing.html#returning-a-view-versus-a-copy\n",
      "  df_train['is_full'] = (df_train['available_percent'] < 0.05).astype(float)\n",
      "/var/folders/wt/6hl8qhss3jz9zrdh6n8f3_qh0000gn/T/ipykernel_13890/3947941934.py:5: SettingWithCopyWarning: \n",
      "A value is trying to be set on a copy of a slice from a DataFrame.\n",
      "Try using .loc[row_indexer,col_indexer] = value instead\n",
      "\n",
      "See the caveats in the documentation: https://pandas.pydata.org/pandas-docs/stable/user_guide/indexing.html#returning-a-view-versus-a-copy\n",
      "  df_val['is_full'] = (df_val['available_percent'] < 0.05).astype(float)\n",
      "/var/folders/wt/6hl8qhss3jz9zrdh6n8f3_qh0000gn/T/ipykernel_13890/3947941934.py:6: SettingWithCopyWarning: \n",
      "A value is trying to be set on a copy of a slice from a DataFrame.\n",
      "Try using .loc[row_indexer,col_indexer] = value instead\n",
      "\n",
      "See the caveats in the documentation: https://pandas.pydata.org/pandas-docs/stable/user_guide/indexing.html#returning-a-view-versus-a-copy\n",
      "  df_test['is_full'] = (df_test['available_percent'] < 0.05).astype(float)\n",
      "/var/folders/wt/6hl8qhss3jz9zrdh6n8f3_qh0000gn/T/ipykernel_13890/3947941934.py:7: SettingWithCopyWarning: \n",
      "A value is trying to be set on a copy of a slice from a DataFrame\n",
      "\n",
      "See the caveats in the documentation: https://pandas.pydata.org/pandas-docs/stable/user_guide/indexing.html#returning-a-view-versus-a-copy\n",
      "  df_train.drop(columns=[\"avg_available_spots\", \"available_percent\"], inplace=True)\n",
      "/var/folders/wt/6hl8qhss3jz9zrdh6n8f3_qh0000gn/T/ipykernel_13890/3947941934.py:8: SettingWithCopyWarning: \n",
      "A value is trying to be set on a copy of a slice from a DataFrame\n",
      "\n",
      "See the caveats in the documentation: https://pandas.pydata.org/pandas-docs/stable/user_guide/indexing.html#returning-a-view-versus-a-copy\n",
      "  df_val.drop(columns=[\"avg_available_spots\", \"available_percent\"], inplace=True)\n",
      "/var/folders/wt/6hl8qhss3jz9zrdh6n8f3_qh0000gn/T/ipykernel_13890/3947941934.py:9: SettingWithCopyWarning: \n",
      "A value is trying to be set on a copy of a slice from a DataFrame\n",
      "\n",
      "See the caveats in the documentation: https://pandas.pydata.org/pandas-docs/stable/user_guide/indexing.html#returning-a-view-versus-a-copy\n",
      "  df_test.drop(columns=[\"avg_available_spots\", \"available_percent\"], inplace=True)\n"
     ]
    }
   ],
   "source": [
    "df_train['available_percent'] = df_train[\"avg_available_spots\"]/df_train[\"TotalSpaces\"]\n",
    "df_val['available_percent'] = df_val[\"avg_available_spots\"]/df_val[\"TotalSpaces\"]\n",
    "df_test['available_percent'] = df_test[\"avg_available_spots\"]/df_test[\"TotalSpaces\"]\n",
    "df_train['is_full'] = (df_train['available_percent'] < 0.05).astype(float)\n",
    "df_val['is_full'] = (df_val['available_percent'] < 0.05).astype(float)\n",
    "df_test['is_full'] = (df_test['available_percent'] < 0.05).astype(float)\n",
    "df_train.drop(columns=[\"avg_available_spots\", \"available_percent\"], inplace=True)\n",
    "df_val.drop(columns=[\"avg_available_spots\", \"available_percent\"], inplace=True)\n",
    "df_test.drop(columns=[\"avg_available_spots\", \"available_percent\"], inplace=True)"
   ]
  },
  {
   "cell_type": "code",
   "execution_count": null,
   "metadata": {
    "trusted": true
   },
   "outputs": [
    {
     "name": "stdout",
     "output_type": "stream",
     "text": [
      "147\n",
      "152\n",
      "157\n",
      "val 停車場數量: 147\n",
      "test 停車場數量: 147\n"
     ]
    }
   ],
   "source": [
    "print(len(df_train.loc[df_train['datetime_2'] == \"2024_1_23_2\", 'ParkingSegmentID'].unique()))\n",
    "print(len(df_train['ParkingSegmentID'].unique()))\n",
    "print(len(df_test['ParkingSegmentID'].unique()))\n",
    "# retrieve all parking lot IDs from the training set\n",
    "train_seg_id = set(df_train.loc[df_train['datetime_2'] == \"2024_1_23_2\", 'ParkingSegmentID'].unique())\n",
    "\n",
    "# filter validation/test sets to retain only the IDs present in the training set\n",
    "df_train = df_train[df_train['ParkingSegmentID'].isin(train_seg_id)].copy()\n",
    "df_val = df_val[df_val['ParkingSegmentID'].isin(train_seg_id)].copy()\n",
    "df_test = df_test[df_test['ParkingSegmentID'].isin(train_seg_id)].copy()\n",
    "\n",
    "print(\"val 停車場數量:\", len(df_val['ParkingSegmentID'].unique()))\n",
    "print(\"test 停車場數量:\", len(df_test['ParkingSegmentID'].unique()))"
   ]
  },
  {
   "cell_type": "code",
   "execution_count": 60,
   "metadata": {
    "trusted": true
   },
   "outputs": [
    {
     "data": {
      "text/plain": [
       "Index(['ParkingSegmentID', 'year_val', 'day_val', 'half_hour_interval',\n",
       "       'district', 'TotalSpaces', 'lat', 'lon', 'firstHourFee', 'laterHourFee',\n",
       "       'precipitation', 'apparent_temperature', 'relative_humidity_2m',\n",
       "       'temperature_2m', 'cloud_cover', 'cloud_cover_low', 'cloud_cover_mid',\n",
       "       'cloud_cover_high', 'visibility', 'wind_speed_10m', 'temperature_80m',\n",
       "       'temperature_120m', 'showers', 'pressure_msl', 'surface_pressure',\n",
       "       'wind_speed_80m', 'wind_speed_120m', 'wind_gusts_10m',\n",
       "       'evapotranspiration', 'et0_fao_evapotranspiration',\n",
       "       'vapour_pressure_deficit', 'dew_point_2m',\n",
       "       'terrestrial_radiation_instant', 'hour', 'wind_direction_10m_sin',\n",
       "       'wind_direction_10m_cos', 'wind_direction_120m_sin',\n",
       "       'wind_direction_120m_cos', 'wind_direction_80m_sin',\n",
       "       'wind_direction_80m_cos', 'datetime_2', 'day_sin', 'day_cos',\n",
       "       'half_hour_sin', 'half_hour_cos', 'month_val_1', 'month_val_2',\n",
       "       'month_val_3', 'month_val_4', 'month_val_5', 'month_val_6',\n",
       "       'month_val_7', 'month_val_8', 'month_val_9', 'month_val_10',\n",
       "       'month_val_11', 'month_val_12', 'weekday_num_0', 'weekday_num_1',\n",
       "       'weekday_num_2', 'weekday_num_3', 'weekday_num_4', 'weekday_num_5',\n",
       "       'weekday_num_6', 'day_off', 'is_full'],\n",
       "      dtype='object')"
      ]
     },
     "execution_count": 60,
     "metadata": {},
     "output_type": "execute_result"
    }
   ],
   "source": [
    "df_train.columns"
   ]
  },
  {
   "cell_type": "code",
   "execution_count": 61,
   "metadata": {
    "trusted": true
   },
   "outputs": [],
   "source": [
    "spatial_cols = ['lat', 'lon', 'district'\n",
    "                   ]\n",
    "temporal_cols = ['year_val',\n",
    " 'TotalSpaces', 'firstHourFee', 'laterHourFee',\n",
    "       'precipitation', 'apparent_temperature', 'relative_humidity_2m',\n",
    "       'temperature_2m', 'cloud_cover', 'cloud_cover_low', 'cloud_cover_mid',\n",
    "       'cloud_cover_high', 'visibility', 'wind_speed_10m', 'temperature_80m',\n",
    "       'temperature_120m', 'showers', 'pressure_msl', 'surface_pressure',\n",
    "       'wind_speed_80m', 'wind_speed_120m',  'wind_gusts_10m',\n",
    "       'evapotranspiration', 'et0_fao_evapotranspiration',\n",
    "       'vapour_pressure_deficit', 'dew_point_2m',\n",
    "       'terrestrial_radiation_instant', 'day_sin',\n",
    "       'day_cos', 'half_hour_sin', 'half_hour_cos', 'month_val_1',\n",
    "       'month_val_2', 'month_val_3', 'month_val_4', 'month_val_5',\n",
    "       'month_val_6', 'month_val_7', 'month_val_8', 'month_val_9',\n",
    "       'month_val_10', 'month_val_11', 'month_val_12', 'weekday_num_0',\n",
    "       'weekday_num_1', 'weekday_num_2', 'weekday_num_3', 'weekday_num_4',\n",
    "       'weekday_num_5', 'weekday_num_6', 'day_off',\"wind_direction_10m_sin\", \"wind_direction_10m_cos\", \"wind_direction_120m_sin\", \"wind_direction_120m_cos\", \"wind_direction_80m_sin\", \"wind_direction_80m_cos\"]\n",
    "spatial_cols_to_scale = ['lat', 'lon']\n",
    "temporal_cols_to_scale = [\n",
    " 'TotalSpaces', 'firstHourFee', 'laterHourFee',\n",
    "       'precipitation', 'apparent_temperature', 'relative_humidity_2m',\n",
    "       'temperature_2m', 'cloud_cover', 'cloud_cover_low', 'cloud_cover_mid',\n",
    "       'cloud_cover_high', 'visibility', 'wind_speed_10m', 'temperature_80m',\n",
    "       'temperature_120m', 'showers', 'pressure_msl', 'surface_pressure',\n",
    "       'wind_speed_80m', 'wind_speed_120m','wind_gusts_10m',\n",
    "       'evapotranspiration', 'et0_fao_evapotranspiration',\n",
    "       'vapour_pressure_deficit', 'dew_point_2m',\n",
    "       'terrestrial_radiation_instant'\n",
    "]"
   ]
  },
  {
   "cell_type": "code",
   "execution_count": null,
   "metadata": {
    "trusted": true
   },
   "outputs": [],
   "source": [
    "def build_spatial_df(df, spatial_cols):\n",
    "    # return the static feature table deduplicated by ParkingSegmentID\n",
    "    spatial_df = (\n",
    "        df.groupby('ParkingSegmentID')[spatial_cols]\n",
    "          .first()      \n",
    "          .reset_index()\n",
    "    )\n",
    "    return spatial_df\n",
    "\n",
    "spatial_df = build_spatial_df(df_train, spatial_cols)   \n",
    "N = len(spatial_df)"
   ]
  },
  {
   "cell_type": "code",
   "execution_count": null,
   "metadata": {
    "trusted": true
   },
   "outputs": [],
   "source": [
    "from collections import defaultdict\n",
    "import numpy as np\n",
    "import torch\n",
    "\n",
    "def prepare_full_timeslice_batches(df, spatial_df,\n",
    "                                   temporal_cols, target_col='is_full'):\n",
    "    \"\"\"\n",
    "    only keep the slices where all N nodes are present at that time point.\n",
    "    return batches: List[Dict], where each batch includes:\n",
    "    temporal_features : [N, d_t] numpy array\n",
    "    target            : [N] numpy array\n",
    "    time_key          : time index (optional)\n",
    "    \"\"\"\n",
    "    # Create node ordering → to facilitate alignment with the order in spatial_df\n",
    "    node_order = spatial_df['ParkingSegmentID'].tolist()\n",
    "    node_idx_map = {pid: idx for idx, pid in enumerate(node_order)}\n",
    "    N = len(node_order)\n",
    "    batches = []\n",
    "    # group by time step\n",
    "    for time_key, g in df.groupby('datetime_2'):\n",
    "        if len(g) != N:\n",
    "            # incomplete data at this time point, skip directly\n",
    "            continue\n",
    "        # align according to `node_order`.\n",
    "        g_sorted = g.set_index('ParkingSegmentID').loc[node_order]\n",
    "        assert len(g_sorted) == N, f\"time {time_key} 節點遺失！\"\n",
    "        \n",
    "        t_mat = g_sorted[temporal_cols].to_numpy(dtype=np.float32)                  # [N, d_t]\n",
    "        tgt   = g_sorted[target_col].to_numpy(dtype=np.float32)                     # [N]\n",
    "        \n",
    "        batches.append({\n",
    "            'time_key': time_key,\n",
    "            'temporal_features': t_mat,\n",
    "            'target': tgt,\n",
    "\n",
    "        })\n",
    "    return batches"
   ]
  },
  {
   "cell_type": "code",
   "execution_count": null,
   "metadata": {},
   "outputs": [],
   "source": [
    "\n",
    "import matplotlib.pyplot as plt\n",
    "\n",
    "# count the number of data records for each parking lot\n",
    "count_per_parking = df_train['ParkingSegmentID'].value_counts()\n",
    "\n",
    "# then count how many parking lots have exactly n data records\n",
    "count_of_counts = count_per_parking.value_counts().sort_index()\n",
    "\n",
    "plt.figure(figsize=(10,6))\n",
    "plt.bar(count_of_counts.index, count_of_counts.values, width=1.0, edgecolor='black')\n",
    "plt.xlabel('每個停車場的資料筆數')\n",
    "plt.ylabel('有這麼多資料的停車場數量')\n",
    "plt.title('停車場資料筆數分布')\n",
    "plt.tight_layout()\n",
    "plt.show()"
   ]
  },
  {
   "cell_type": "code",
   "execution_count": null,
   "metadata": {
    "trusted": true
   },
   "outputs": [
    {
     "name": "stderr",
     "output_type": "stream",
     "text": [
      "/var/folders/wt/6hl8qhss3jz9zrdh6n8f3_qh0000gn/T/ipykernel_13890/454140995.py:13: FutureWarning: Setting an item of incompatible dtype is deprecated and will raise in a future error of pandas. Value '[-0.36874861 -0.36874861 -0.36874861 ... -0.19343778 -0.19343778\n",
      " -0.19343778]' has dtype incompatible with int64, please explicitly cast to a compatible dtype first.\n",
      "  df_scaled.loc[:, c] = temporal_scaler[c].transform(df_scaled[[c]]).ravel()\n",
      "/var/folders/wt/6hl8qhss3jz9zrdh6n8f3_qh0000gn/T/ipykernel_13890/454140995.py:13: FutureWarning: Setting an item of incompatible dtype is deprecated and will raise in a future error of pandas. Value '[-1.09947748 -1.09947748  0.76159863 ...  0.76159863  0.76159863\n",
      "  0.76159863]' has dtype incompatible with int64, please explicitly cast to a compatible dtype first.\n",
      "  df_scaled.loc[:, c] = temporal_scaler[c].transform(df_scaled[[c]]).ravel()\n",
      "/var/folders/wt/6hl8qhss3jz9zrdh6n8f3_qh0000gn/T/ipykernel_13890/454140995.py:13: FutureWarning: Setting an item of incompatible dtype is deprecated and will raise in a future error of pandas. Value '[-1.09008235 -1.09008235  0.70324844 ...  0.70324844  0.70324844\n",
      "  0.70324844]' has dtype incompatible with int64, please explicitly cast to a compatible dtype first.\n",
      "  df_scaled.loc[:, c] = temporal_scaler[c].transform(df_scaled[[c]]).ravel()\n",
      "/var/folders/wt/6hl8qhss3jz9zrdh6n8f3_qh0000gn/T/ipykernel_13890/454140995.py:13: FutureWarning: Setting an item of incompatible dtype is deprecated and will raise in a future error of pandas. Value '[1.34416301 2.66867237 1.67529035 ... 0.01965364 0.51634465 0.01965364]' has dtype incompatible with int64, please explicitly cast to a compatible dtype first.\n",
      "  df_scaled.loc[:, c] = temporal_scaler[c].transform(df_scaled[[c]]).ravel()\n",
      "/var/folders/wt/6hl8qhss3jz9zrdh6n8f3_qh0000gn/T/ipykernel_13890/454140995.py:13: FutureWarning: Setting an item of incompatible dtype is deprecated and will raise in a future error of pandas. Value '[-0.94792812  1.0191977   1.0191977  ...  1.0191977   1.0191977\n",
      " -1.17935469]' has dtype incompatible with int64, please explicitly cast to a compatible dtype first.\n",
      "  df_scaled.loc[:, c] = temporal_scaler[c].transform(df_scaled[[c]]).ravel()\n",
      "/var/folders/wt/6hl8qhss3jz9zrdh6n8f3_qh0000gn/T/ipykernel_13890/454140995.py:13: FutureWarning: Setting an item of incompatible dtype is deprecated and will raise in a future error of pandas. Value '[-0.67144968  2.01799738  2.01799738 ...  2.01799738  2.01799738\n",
      " -0.53697733]' has dtype incompatible with int64, please explicitly cast to a compatible dtype first.\n",
      "  df_scaled.loc[:, c] = temporal_scaler[c].transform(df_scaled[[c]]).ravel()\n",
      "/var/folders/wt/6hl8qhss3jz9zrdh6n8f3_qh0000gn/T/ipykernel_13890/454140995.py:13: FutureWarning: Setting an item of incompatible dtype is deprecated and will raise in a future error of pandas. Value '[-0.52800503  2.25151917  2.25151917 ... -0.52800503 -0.52800503\n",
      " -0.52800503]' has dtype incompatible with int64, please explicitly cast to a compatible dtype first.\n",
      "  df_scaled.loc[:, c] = temporal_scaler[c].transform(df_scaled[[c]]).ravel()\n",
      "/var/folders/wt/6hl8qhss3jz9zrdh6n8f3_qh0000gn/T/ipykernel_13890/454140995.py:13: FutureWarning: Setting an item of incompatible dtype is deprecated and will raise in a future error of pandas. Value '[-0.60758068  1.44346148  1.44346148 ... -0.83547425 -0.83547425\n",
      " -0.83547425]' has dtype incompatible with int64, please explicitly cast to a compatible dtype first.\n",
      "  df_scaled.loc[:, c] = temporal_scaler[c].transform(df_scaled[[c]]).ravel()\n",
      "/var/folders/wt/6hl8qhss3jz9zrdh6n8f3_qh0000gn/T/ipykernel_13890/454140995.py:13: FutureWarning: Setting an item of incompatible dtype is deprecated and will raise in a future error of pandas. Value '[-0.36874861 -0.33184107 -0.33184107 ... -0.19343778 -0.19343778\n",
      " -0.19343778]' has dtype incompatible with int64, please explicitly cast to a compatible dtype first.\n",
      "  df_scaled.loc[:, c] = temporal_scaler[c].transform(df_scaled[[c]]).ravel()\n",
      "/var/folders/wt/6hl8qhss3jz9zrdh6n8f3_qh0000gn/T/ipykernel_13890/454140995.py:13: FutureWarning: Setting an item of incompatible dtype is deprecated and will raise in a future error of pandas. Value '[ 0.76159863 -1.09947748  0.76159863 ...  0.76159863  0.76159863\n",
      "  0.76159863]' has dtype incompatible with int64, please explicitly cast to a compatible dtype first.\n",
      "  df_scaled.loc[:, c] = temporal_scaler[c].transform(df_scaled[[c]]).ravel()\n",
      "/var/folders/wt/6hl8qhss3jz9zrdh6n8f3_qh0000gn/T/ipykernel_13890/454140995.py:13: FutureWarning: Setting an item of incompatible dtype is deprecated and will raise in a future error of pandas. Value '[ 0.70324844 -1.09008235  1.59991384 ...  0.70324844  0.70324844\n",
      "  0.70324844]' has dtype incompatible with int64, please explicitly cast to a compatible dtype first.\n",
      "  df_scaled.loc[:, c] = temporal_scaler[c].transform(df_scaled[[c]]).ravel()\n",
      "/var/folders/wt/6hl8qhss3jz9zrdh6n8f3_qh0000gn/T/ipykernel_13890/454140995.py:13: FutureWarning: Setting an item of incompatible dtype is deprecated and will raise in a future error of pandas. Value '[-0.3114737   0.59912649  1.01303567 ... -1.05651022 -3.29161978\n",
      " -2.21545591]' has dtype incompatible with int64, please explicitly cast to a compatible dtype first.\n",
      "  df_scaled.loc[:, c] = temporal_scaler[c].transform(df_scaled[[c]]).ravel()\n",
      "/var/folders/wt/6hl8qhss3jz9zrdh6n8f3_qh0000gn/T/ipykernel_13890/454140995.py:13: FutureWarning: Setting an item of incompatible dtype is deprecated and will raise in a future error of pandas. Value '[-1.29506797 -1.29506797 -1.29506797 ... -0.41564701 -1.0636414\n",
      " -1.0636414 ]' has dtype incompatible with int64, please explicitly cast to a compatible dtype first.\n",
      "  df_scaled.loc[:, c] = temporal_scaler[c].transform(df_scaled[[c]]).ravel()\n",
      "/var/folders/wt/6hl8qhss3jz9zrdh6n8f3_qh0000gn/T/ipykernel_13890/454140995.py:13: FutureWarning: Setting an item of incompatible dtype is deprecated and will raise in a future error of pandas. Value '[-0.67144968 -0.67144968 -0.67144968 ... -0.67144968 -0.67144968\n",
      " -0.67144968]' has dtype incompatible with int64, please explicitly cast to a compatible dtype first.\n",
      "  df_scaled.loc[:, c] = temporal_scaler[c].transform(df_scaled[[c]]).ravel()\n",
      "/var/folders/wt/6hl8qhss3jz9zrdh6n8f3_qh0000gn/T/ipykernel_13890/454140995.py:13: FutureWarning: Setting an item of incompatible dtype is deprecated and will raise in a future error of pandas. Value '[-0.52800503 -0.52800503 -0.52800503 ... -0.52800503 -0.52800503\n",
      " -0.52800503]' has dtype incompatible with int64, please explicitly cast to a compatible dtype first.\n",
      "  df_scaled.loc[:, c] = temporal_scaler[c].transform(df_scaled[[c]]).ravel()\n",
      "/var/folders/wt/6hl8qhss3jz9zrdh6n8f3_qh0000gn/T/ipykernel_13890/454140995.py:13: FutureWarning: Setting an item of incompatible dtype is deprecated and will raise in a future error of pandas. Value '[-0.83547425 -0.83547425 -0.83547425 ... -0.03784675 -0.63037004\n",
      " -0.60758068]' has dtype incompatible with int64, please explicitly cast to a compatible dtype first.\n",
      "  df_scaled.loc[:, c] = temporal_scaler[c].transform(df_scaled[[c]]).ravel()\n",
      "/var/folders/wt/6hl8qhss3jz9zrdh6n8f3_qh0000gn/T/ipykernel_13890/454140995.py:13: FutureWarning: Setting an item of incompatible dtype is deprecated and will raise in a future error of pandas. Value '[-0.36874861 -0.36874861 -0.36874861 ... -0.19343778 -0.19343778\n",
      " -0.19343778]' has dtype incompatible with int64, please explicitly cast to a compatible dtype first.\n",
      "  df_scaled.loc[:, c] = temporal_scaler[c].transform(df_scaled[[c]]).ravel()\n",
      "/var/folders/wt/6hl8qhss3jz9zrdh6n8f3_qh0000gn/T/ipykernel_13890/454140995.py:13: FutureWarning: Setting an item of incompatible dtype is deprecated and will raise in a future error of pandas. Value '[-1.09947748 -1.09947748  0.76159863 ...  0.76159863  0.76159863\n",
      "  0.76159863]' has dtype incompatible with int64, please explicitly cast to a compatible dtype first.\n",
      "  df_scaled.loc[:, c] = temporal_scaler[c].transform(df_scaled[[c]]).ravel()\n",
      "/var/folders/wt/6hl8qhss3jz9zrdh6n8f3_qh0000gn/T/ipykernel_13890/454140995.py:13: FutureWarning: Setting an item of incompatible dtype is deprecated and will raise in a future error of pandas. Value '[-1.09008235 -1.09008235  0.70324844 ...  0.70324844  0.70324844\n",
      "  0.70324844]' has dtype incompatible with int64, please explicitly cast to a compatible dtype first.\n",
      "  df_scaled.loc[:, c] = temporal_scaler[c].transform(df_scaled[[c]]).ravel()\n",
      "/var/folders/wt/6hl8qhss3jz9zrdh6n8f3_qh0000gn/T/ipykernel_13890/454140995.py:13: FutureWarning: Setting an item of incompatible dtype is deprecated and will raise in a future error of pandas. Value '[ 0.76469016  0.01965364 -1.05651022 ...  0.01965364  0.01965364\n",
      " -0.97372838]' has dtype incompatible with int64, please explicitly cast to a compatible dtype first.\n",
      "  df_scaled.loc[:, c] = temporal_scaler[c].transform(df_scaled[[c]]).ravel()\n",
      "/var/folders/wt/6hl8qhss3jz9zrdh6n8f3_qh0000gn/T/ipykernel_13890/454140995.py:13: FutureWarning: Setting an item of incompatible dtype is deprecated and will raise in a future error of pandas. Value '[-1.29506797 -1.29506797  0.62577254 ...  1.0191977   1.0191977\n",
      "  1.0191977 ]' has dtype incompatible with int64, please explicitly cast to a compatible dtype first.\n",
      "  df_scaled.loc[:, c] = temporal_scaler[c].transform(df_scaled[[c]]).ravel()\n",
      "/var/folders/wt/6hl8qhss3jz9zrdh6n8f3_qh0000gn/T/ipykernel_13890/454140995.py:13: FutureWarning: Setting an item of incompatible dtype is deprecated and will raise in a future error of pandas. Value '[-0.67144968 -0.67144968 -0.67144968 ... -0.67144968 -0.67144968\n",
      " -0.67144968]' has dtype incompatible with int64, please explicitly cast to a compatible dtype first.\n",
      "  df_scaled.loc[:, c] = temporal_scaler[c].transform(df_scaled[[c]]).ravel()\n",
      "/var/folders/wt/6hl8qhss3jz9zrdh6n8f3_qh0000gn/T/ipykernel_13890/454140995.py:13: FutureWarning: Setting an item of incompatible dtype is deprecated and will raise in a future error of pandas. Value '[-0.52800503 -0.52800503 -0.52800503 ... -0.52800503 -0.52800503\n",
      " -0.52800503]' has dtype incompatible with int64, please explicitly cast to a compatible dtype first.\n",
      "  df_scaled.loc[:, c] = temporal_scaler[c].transform(df_scaled[[c]]).ravel()\n",
      "/var/folders/wt/6hl8qhss3jz9zrdh6n8f3_qh0000gn/T/ipykernel_13890/454140995.py:13: FutureWarning: Setting an item of incompatible dtype is deprecated and will raise in a future error of pandas. Value '[-0.83547425 -0.83547425  1.03325305 ...  1.44346148  1.44346148\n",
      "  1.44346148]' has dtype incompatible with int64, please explicitly cast to a compatible dtype first.\n",
      "  df_scaled.loc[:, c] = temporal_scaler[c].transform(df_scaled[[c]]).ravel()\n"
     ]
    }
   ],
   "source": [
    "from sklearn.preprocessing import StandardScaler\n",
    "\n",
    "# create scaler \n",
    "spatial_scaler   = {c: StandardScaler().fit(df_train[[c]]) for c in spatial_cols_to_scale}\n",
    "temporal_scaler  = {c: StandardScaler().fit(df_train[[c]]) for c in temporal_cols_to_scale}\n",
    "\n",
    "def scale_dataframe(df):\n",
    "    df_scaled = df.copy()\n",
    "    \n",
    "    for c in spatial_cols_to_scale:\n",
    "        df_scaled.loc[:, c] = spatial_scaler[c].transform(df_scaled[[c]]).ravel()\n",
    "    for c in temporal_cols_to_scale:\n",
    "        df_scaled.loc[:, c] = temporal_scaler[c].transform(df_scaled[[c]]).ravel()\n",
    "    return df_scaled\n",
    "\n",
    "# ------------- generate batches -------------\n",
    "df_train_scaled = scale_dataframe(df_train)\n",
    "df_val_scaled   = scale_dataframe(df_val)\n",
    "df_test_scaled  = scale_dataframe(df_test)\n",
    "\n",
    "train_batches = prepare_full_timeslice_batches(df_train_scaled,\n",
    "                                               spatial_df,\n",
    "                                               temporal_cols)\n",
    "\n",
    "val_batches   = prepare_full_timeslice_batches(df_val_scaled,\n",
    "                                               spatial_df,\n",
    "                                               temporal_cols)\n",
    "\n",
    "test_batches  = prepare_full_timeslice_batches(df_test_scaled,\n",
    "                                               spatial_df,\n",
    "                                               temporal_cols)"
   ]
  },
  {
   "cell_type": "code",
   "execution_count": null,
   "metadata": {
    "trusted": true
   },
   "outputs": [],
   "source": [
    "from sklearn.neighbors import NearestNeighbors\n",
    "import numpy as np\n",
    "\n",
    "def build_spatial_graph(spatial_df, k=8):\n",
    "    coords = spatial_df[['lat', 'lon']].values\n",
    "    N = len(coords)\n",
    "    \n",
    "    nn_model = NearestNeighbors(n_neighbors=min(k+1, N))\n",
    "    nn_model.fit(coords)\n",
    "    distances, indices = nn_model.kneighbors(coords)\n",
    "    \n",
    "    # create edges and weights\n",
    "    edge_dict = dict()\n",
    "    for i in range(N):\n",
    "        for j in range(1, min(k+1, N)):\n",
    "            neighbor_idx = indices[i, j]\n",
    "            if i != neighbor_idx:\n",
    "                edge = tuple(sorted((i, neighbor_idx)))\n",
    "                # use a Gaussian kernel for the weights\n",
    "                distance = distances[i, j]\n",
    "                weight = 1/distance\n",
    "                # if the edge already exists, take the average of the weights\n",
    "                if edge in edge_dict:\n",
    "                    edge_dict[edge] = (edge_dict[edge] + weight) / 2\n",
    "                else:\n",
    "                    edge_dict[edge] = weight\n",
    "\n",
    "    src, dst = zip(*edge_dict.keys())\n",
    "    edge_index = torch.tensor([src, dst], dtype=torch.long)\n",
    "    edge_weight = torch.tensor(list(edge_dict.values()), dtype=torch.float)\n",
    "    \n",
    "    return edge_index, edge_weight\n",
    "\n",
    "edge_index, edge_weight = build_spatial_graph(spatial_df, k=8)"
   ]
  },
  {
   "cell_type": "code",
   "execution_count": null,
   "metadata": {
    "trusted": true
   },
   "outputs": [],
   "source": [
    "class SpatioTemporalGNN(torch.nn.Module):\n",
    "    def __init__(self, spatial_features, temporal_features, hidden_dim=64, dropout=0.0, activation=torch.nn.ReLU()):\n",
    "        super().__init__()\n",
    "        \n",
    "        # spatial features encoder\n",
    "        self.spatial_encoder = torch.nn.Sequential(\n",
    "            torch.nn.Linear(spatial_features, hidden_dim),\n",
    "            activation,\n",
    "            torch.nn.Dropout(dropout),\n",
    "            torch.nn.Linear(hidden_dim, hidden_dim)\n",
    "        )\n",
    "        \n",
    "        # temporal features encoder \n",
    "        self.temporal_encoder = torch.nn.Sequential(\n",
    "            torch.nn.Linear(temporal_features, hidden_dim),\n",
    "            activation,\n",
    "            torch.nn.Dropout(dropout),\n",
    "            torch.nn.Linear(hidden_dim, hidden_dim)\n",
    "        )\n",
    "        \n",
    "        # GNN layers\n",
    "        self.conv1 = GCNConv(hidden_dim, hidden_dim)\n",
    "        self.conv2 = GCNConv(hidden_dim, hidden_dim)\n",
    "        \n",
    "        # prediction layer\n",
    "        self.predictor = torch.nn.Sequential(\n",
    "            torch.nn.Linear(hidden_dim, hidden_dim // 2),\n",
    "            activation,\n",
    "            torch.nn.Dropout(dropout),\n",
    "            torch.nn.Linear(hidden_dim // 2, 1),\n",
    "            torch.nn.Sigmoid()\n",
    "        )\n",
    "        self.gate_layer = torch.nn.Sequential(\n",
    "            torch.nn.Linear(hidden_dim * 2, hidden_dim),\n",
    "            torch.nn.Sigmoid()\n",
    "        )\n",
    "            \n",
    "\n",
    "    def forward(self, spatial_x, temporal_x, edge_index, edge_weight):\n",
    "        # encode spatial features\n",
    "        spatial_emb = self.spatial_encoder(spatial_x)\n",
    "        \n",
    "        # encode temporal features\n",
    "        temporal_emb = self.temporal_encoder(temporal_x)\n",
    "        # merge features\n",
    "        concat_feat = torch.cat([spatial_emb, temporal_emb], dim=1)\n",
    "        gate = self.gate_layer(concat_feat)  # [N, hidden_dim]\n",
    "        x = gate * spatial_emb + (1 - gate) * temporal_emb \n",
    "                # GNN process\n",
    "        x1 = F.relu(self.conv1(x, edge_index, edge_weight))\n",
    "        x2 = F.relu(self.conv2(x1, edge_index, edge_weight)) + x1\n",
    "        \n",
    "        # predict\n",
    "        return self.predictor(x)\n",
    "def run_epoch(batches, model, spatial_x,\n",
    "              edge_index, edge_attr,\n",
    "              optimizer=None,\n",
    "              batch_size=8,\n",
    "              collect_pred=False):\n",
    "\n",
    "    train_mode = optimizer is not None\n",
    "    model.train() if train_mode else model.eval()\n",
    "\n",
    "    total_loss, total_count = 0.0, 0\n",
    "    y_true_all, y_pred_all = [], []\n",
    "\n",
    "    for i in range(0, len(batches), batch_size):\n",
    "        slice_batch = batches[i : i + batch_size]\n",
    "\n",
    "        temporal_stack = torch.stack([\n",
    "            torch.from_numpy(b['temporal_features'])\n",
    "            for b in slice_batch\n",
    "        ]).to(spatial_x.device, dtype=spatial_x.dtype)\n",
    "\n",
    "        target_stack = torch.stack([\n",
    "            torch.from_numpy(b['target']).unsqueeze(1)\n",
    "            for b in slice_batch\n",
    "        ]).to(spatial_x.device, dtype=torch.float32)\n",
    "\n",
    "        batch_loss = 0.0\n",
    "        batch_count = 0\n",
    "        preds = []\n",
    "        for t_feat, tgt in zip(temporal_stack, target_stack):\n",
    "            out = model(spatial_x, t_feat, edge_index, edge_attr)\n",
    "            per_node_loss = F.binary_cross_entropy(out, tgt, reduction='sum')\n",
    "            batch_loss += per_node_loss\n",
    "            batch_count += out.numel()\n",
    "            preds.append(out)\n",
    "\n",
    "        if train_mode:\n",
    "            optimizer.zero_grad()\n",
    "            (batch_loss / batch_count).backward()  # use tensor to perform backward\n",
    "            torch.nn.utils.clip_grad_norm_(model.parameters(), 1.0)\n",
    "            optimizer.step()\n",
    "\n",
    "        if collect_pred:\n",
    "            y_true_all.append(target_stack.detach().cpu())\n",
    "            y_pred_all.append(torch.stack(preds).detach().cpu())\n",
    "        total_loss += batch_loss.item()\n",
    "        total_count += batch_count\n",
    "\n",
    "    mean_loss = total_loss / total_count\n",
    "\n",
    "    if collect_pred:\n",
    "        y_true_all = torch.cat(y_true_all).numpy().flatten()\n",
    "        y_pred_all = torch.cat(y_pred_all).numpy().flatten()\n",
    "        y_pred_label = (y_pred_all > 0.5).astype(int)\n",
    "        y_true_label = y_true_all.astype(int)\n",
    "        accuracy = (y_pred_label == y_true_label).mean()\n",
    "        print(f'Accuracy: {accuracy:.4f}')\n",
    "        return mean_loss, y_true_all, y_pred_all\n",
    "    else:\n",
    "        return mean_loss, None, None"
   ]
  },
  {
   "cell_type": "code",
   "execution_count": 68,
   "metadata": {
    "trusted": true
   },
   "outputs": [],
   "source": [
    "model = SpatioTemporalGNN(\n",
    "        spatial_features=len(spatial_cols),\n",
    "        temporal_features=len(temporal_cols),\n",
    "        hidden_dim=64,\n",
    "        dropout=0,\n",
    "        activation=torch.nn.ReLU()\n",
    "    )\n",
    "device = torch.device('cpu')"
   ]
  },
  {
   "cell_type": "code",
   "execution_count": 69,
   "metadata": {
    "trusted": true
   },
   "outputs": [
    {
     "data": {
      "text/html": [
       "<div>\n",
       "<style scoped>\n",
       "    .dataframe tbody tr th:only-of-type {\n",
       "        vertical-align: middle;\n",
       "    }\n",
       "\n",
       "    .dataframe tbody tr th {\n",
       "        vertical-align: top;\n",
       "    }\n",
       "\n",
       "    .dataframe thead th {\n",
       "        text-align: right;\n",
       "    }\n",
       "</style>\n",
       "<table border=\"1\" class=\"dataframe\">\n",
       "  <thead>\n",
       "    <tr style=\"text-align: right;\">\n",
       "      <th></th>\n",
       "      <th>ParkingSegmentID</th>\n",
       "      <th>lat</th>\n",
       "      <th>lon</th>\n",
       "      <th>district</th>\n",
       "    </tr>\n",
       "  </thead>\n",
       "  <tbody>\n",
       "    <tr>\n",
       "      <th>0</th>\n",
       "      <td>1001</td>\n",
       "      <td>22.99728</td>\n",
       "      <td>120.17506</td>\n",
       "      <td>1</td>\n",
       "    </tr>\n",
       "    <tr>\n",
       "      <th>1</th>\n",
       "      <td>1002</td>\n",
       "      <td>22.99443</td>\n",
       "      <td>120.18191</td>\n",
       "      <td>1</td>\n",
       "    </tr>\n",
       "    <tr>\n",
       "      <th>2</th>\n",
       "      <td>101</td>\n",
       "      <td>22.98781</td>\n",
       "      <td>120.20494</td>\n",
       "      <td>0</td>\n",
       "    </tr>\n",
       "    <tr>\n",
       "      <th>3</th>\n",
       "      <td>1011</td>\n",
       "      <td>22.99679</td>\n",
       "      <td>120.17929</td>\n",
       "      <td>1</td>\n",
       "    </tr>\n",
       "    <tr>\n",
       "      <th>4</th>\n",
       "      <td>1071</td>\n",
       "      <td>22.98840</td>\n",
       "      <td>120.19851</td>\n",
       "      <td>0</td>\n",
       "    </tr>\n",
       "    <tr>\n",
       "      <th>...</th>\n",
       "      <td>...</td>\n",
       "      <td>...</td>\n",
       "      <td>...</td>\n",
       "      <td>...</td>\n",
       "    </tr>\n",
       "    <tr>\n",
       "      <th>142</th>\n",
       "      <td>911</td>\n",
       "      <td>22.99547</td>\n",
       "      <td>120.18517</td>\n",
       "      <td>1</td>\n",
       "    </tr>\n",
       "    <tr>\n",
       "      <th>143</th>\n",
       "      <td>92</td>\n",
       "      <td>22.98643</td>\n",
       "      <td>120.20818</td>\n",
       "      <td>0</td>\n",
       "    </tr>\n",
       "    <tr>\n",
       "      <th>144</th>\n",
       "      <td>981</td>\n",
       "      <td>22.99706</td>\n",
       "      <td>120.17182</td>\n",
       "      <td>1</td>\n",
       "    </tr>\n",
       "    <tr>\n",
       "      <th>145</th>\n",
       "      <td>982</td>\n",
       "      <td>22.98248</td>\n",
       "      <td>120.16979</td>\n",
       "      <td>1</td>\n",
       "    </tr>\n",
       "    <tr>\n",
       "      <th>146</th>\n",
       "      <td>991</td>\n",
       "      <td>22.99511</td>\n",
       "      <td>120.16939</td>\n",
       "      <td>1</td>\n",
       "    </tr>\n",
       "  </tbody>\n",
       "</table>\n",
       "<p>147 rows × 4 columns</p>\n",
       "</div>"
      ],
      "text/plain": [
       "    ParkingSegmentID       lat        lon  district\n",
       "0               1001  22.99728  120.17506         1\n",
       "1               1002  22.99443  120.18191         1\n",
       "2                101  22.98781  120.20494         0\n",
       "3               1011  22.99679  120.17929         1\n",
       "4               1071  22.98840  120.19851         0\n",
       "..               ...       ...        ...       ...\n",
       "142              911  22.99547  120.18517         1\n",
       "143               92  22.98643  120.20818         0\n",
       "144              981  22.99706  120.17182         1\n",
       "145              982  22.98248  120.16979         1\n",
       "146              991  22.99511  120.16939         1\n",
       "\n",
       "[147 rows x 4 columns]"
      ]
     },
     "execution_count": 69,
     "metadata": {},
     "output_type": "execute_result"
    }
   ],
   "source": [
    "spatial_df"
   ]
  },
  {
   "cell_type": "code",
   "execution_count": 70,
   "metadata": {
    "trusted": true
   },
   "outputs": [],
   "source": [
    "from tqdm import tqdm\n",
    "# static tensors\n",
    "spatial_x  = torch.from_numpy(spatial_df[spatial_cols].to_numpy(dtype=np.float64)).to(device).float()\n",
    "edge_index, edge_weight = build_spatial_graph(spatial_df, k=8)\n",
    "edge_index  = edge_index.to(device)\n",
    "edge_weight = edge_weight.to(device)"
   ]
  },
  {
   "cell_type": "code",
   "execution_count": null,
   "metadata": {
    "trusted": true
   },
   "outputs": [
    {
     "name": "stderr",
     "output_type": "stream",
     "text": [
      "  0%|          | 0/200 [00:00<?, ?it/s]/Users/yhk/miniforge3/envs/gnn_env/lib/python3.12/site-packages/sklearn/metrics/_classification.py:1565: UndefinedMetricWarning: Precision is ill-defined and being set to 0.0 due to no predicted samples. Use `zero_division` parameter to control this behavior.\n",
      "  _warn_prf(average, modifier, f\"{metric.capitalize()} is\", len(result))\n",
      "  0%|          | 1/200 [00:10<35:21, 10.66s/it]"
     ]
    },
    {
     "name": "stdout",
     "output_type": "stream",
     "text": [
      "Accuracy: 0.9474\n",
      "Epoch 00 | train 0.2752 | val 0.2065 | Accuracy 0.9474 | AUC 0.5980 | Precision 0.0000 | Recall 0.0000 | F1 0.0000\n"
     ]
    },
    {
     "name": "stderr",
     "output_type": "stream",
     "text": [
      "/Users/yhk/miniforge3/envs/gnn_env/lib/python3.12/site-packages/sklearn/metrics/_classification.py:1565: UndefinedMetricWarning: Precision is ill-defined and being set to 0.0 due to no predicted samples. Use `zero_division` parameter to control this behavior.\n",
      "  _warn_prf(average, modifier, f\"{metric.capitalize()} is\", len(result))\n",
      "  1%|          | 2/200 [00:20<33:25, 10.13s/it]"
     ]
    },
    {
     "name": "stdout",
     "output_type": "stream",
     "text": [
      "Accuracy: 0.9474\n",
      "Epoch 01 | train 0.2269 | val 0.2067 | Accuracy 0.9474 | AUC 0.6167 | Precision 0.0000 | Recall 0.0000 | F1 0.0000\n"
     ]
    },
    {
     "name": "stderr",
     "output_type": "stream",
     "text": [
      "/Users/yhk/miniforge3/envs/gnn_env/lib/python3.12/site-packages/sklearn/metrics/_classification.py:1565: UndefinedMetricWarning: Precision is ill-defined and being set to 0.0 due to no predicted samples. Use `zero_division` parameter to control this behavior.\n",
      "  _warn_prf(average, modifier, f\"{metric.capitalize()} is\", len(result))\n",
      "  2%|▏         | 3/200 [00:31<33:59, 10.35s/it]"
     ]
    },
    {
     "name": "stdout",
     "output_type": "stream",
     "text": [
      "Accuracy: 0.9474\n",
      "Epoch 02 | train 0.2314 | val 0.2095 | Accuracy 0.9474 | AUC 0.6261 | Precision 0.0000 | Recall 0.0000 | F1 0.0000\n"
     ]
    },
    {
     "name": "stderr",
     "output_type": "stream",
     "text": [
      "/Users/yhk/miniforge3/envs/gnn_env/lib/python3.12/site-packages/sklearn/metrics/_classification.py:1565: UndefinedMetricWarning: Precision is ill-defined and being set to 0.0 due to no predicted samples. Use `zero_division` parameter to control this behavior.\n",
      "  _warn_prf(average, modifier, f\"{metric.capitalize()} is\", len(result))\n",
      "  2%|▏         | 4/200 [00:41<33:38, 10.30s/it]"
     ]
    },
    {
     "name": "stdout",
     "output_type": "stream",
     "text": [
      "Accuracy: 0.9474\n",
      "Epoch 03 | train 0.2262 | val 0.2045 | Accuracy 0.9474 | AUC 0.6362 | Precision 0.0000 | Recall 0.0000 | F1 0.0000\n"
     ]
    },
    {
     "name": "stderr",
     "output_type": "stream",
     "text": [
      "/Users/yhk/miniforge3/envs/gnn_env/lib/python3.12/site-packages/sklearn/metrics/_classification.py:1565: UndefinedMetricWarning: Precision is ill-defined and being set to 0.0 due to no predicted samples. Use `zero_division` parameter to control this behavior.\n",
      "  _warn_prf(average, modifier, f\"{metric.capitalize()} is\", len(result))\n",
      "  2%|▎         | 5/200 [00:51<33:17, 10.25s/it]"
     ]
    },
    {
     "name": "stdout",
     "output_type": "stream",
     "text": [
      "Accuracy: 0.9474\n",
      "Epoch 04 | train 0.2217 | val 0.2021 | Accuracy 0.9474 | AUC 0.6491 | Precision 0.0000 | Recall 0.0000 | F1 0.0000\n"
     ]
    },
    {
     "name": "stderr",
     "output_type": "stream",
     "text": [
      "/Users/yhk/miniforge3/envs/gnn_env/lib/python3.12/site-packages/sklearn/metrics/_classification.py:1565: UndefinedMetricWarning: Precision is ill-defined and being set to 0.0 due to no predicted samples. Use `zero_division` parameter to control this behavior.\n",
      "  _warn_prf(average, modifier, f\"{metric.capitalize()} is\", len(result))\n",
      "  3%|▎         | 6/200 [01:01<33:09, 10.26s/it]"
     ]
    },
    {
     "name": "stdout",
     "output_type": "stream",
     "text": [
      "Accuracy: 0.9474\n",
      "Epoch 05 | train 0.2215 | val 0.2333 | Accuracy 0.9474 | AUC 0.6586 | Precision 0.0000 | Recall 0.0000 | F1 0.0000\n"
     ]
    },
    {
     "name": "stderr",
     "output_type": "stream",
     "text": [
      "/Users/yhk/miniforge3/envs/gnn_env/lib/python3.12/site-packages/sklearn/metrics/_classification.py:1565: UndefinedMetricWarning: Precision is ill-defined and being set to 0.0 due to no predicted samples. Use `zero_division` parameter to control this behavior.\n",
      "  _warn_prf(average, modifier, f\"{metric.capitalize()} is\", len(result))\n",
      "  4%|▎         | 7/200 [01:11<32:58, 10.25s/it]"
     ]
    },
    {
     "name": "stdout",
     "output_type": "stream",
     "text": [
      "Accuracy: 0.9474\n",
      "Epoch 06 | train 0.2226 | val 0.2143 | Accuracy 0.9474 | AUC 0.6729 | Precision 0.0000 | Recall 0.0000 | F1 0.0000\n"
     ]
    },
    {
     "name": "stderr",
     "output_type": "stream",
     "text": [
      "/Users/yhk/miniforge3/envs/gnn_env/lib/python3.12/site-packages/sklearn/metrics/_classification.py:1565: UndefinedMetricWarning: Precision is ill-defined and being set to 0.0 due to no predicted samples. Use `zero_division` parameter to control this behavior.\n",
      "  _warn_prf(average, modifier, f\"{metric.capitalize()} is\", len(result))\n",
      "  4%|▍         | 8/200 [01:22<32:50, 10.27s/it]"
     ]
    },
    {
     "name": "stdout",
     "output_type": "stream",
     "text": [
      "Accuracy: 0.9474\n",
      "Epoch 07 | train 0.2213 | val 0.1996 | Accuracy 0.9474 | AUC 0.6884 | Precision 0.0000 | Recall 0.0000 | F1 0.0000\n"
     ]
    },
    {
     "name": "stderr",
     "output_type": "stream",
     "text": [
      "/Users/yhk/miniforge3/envs/gnn_env/lib/python3.12/site-packages/sklearn/metrics/_classification.py:1565: UndefinedMetricWarning: Precision is ill-defined and being set to 0.0 due to no predicted samples. Use `zero_division` parameter to control this behavior.\n",
      "  _warn_prf(average, modifier, f\"{metric.capitalize()} is\", len(result))\n",
      "  4%|▍         | 9/200 [01:32<32:44, 10.28s/it]"
     ]
    },
    {
     "name": "stdout",
     "output_type": "stream",
     "text": [
      "Accuracy: 0.9474\n",
      "Epoch 08 | train 0.2191 | val 0.2009 | Accuracy 0.9474 | AUC 0.7003 | Precision 0.0000 | Recall 0.0000 | F1 0.0000\n"
     ]
    },
    {
     "name": "stderr",
     "output_type": "stream",
     "text": [
      "/Users/yhk/miniforge3/envs/gnn_env/lib/python3.12/site-packages/sklearn/metrics/_classification.py:1565: UndefinedMetricWarning: Precision is ill-defined and being set to 0.0 due to no predicted samples. Use `zero_division` parameter to control this behavior.\n",
      "  _warn_prf(average, modifier, f\"{metric.capitalize()} is\", len(result))\n",
      "  5%|▌         | 10/200 [01:44<33:57, 10.72s/it]"
     ]
    },
    {
     "name": "stdout",
     "output_type": "stream",
     "text": [
      "Accuracy: 0.9474\n",
      "Epoch 09 | train 0.2180 | val 0.1968 | Accuracy 0.9474 | AUC 0.7044 | Precision 0.0000 | Recall 0.0000 | F1 0.0000\n"
     ]
    },
    {
     "name": "stderr",
     "output_type": "stream",
     "text": [
      "/Users/yhk/miniforge3/envs/gnn_env/lib/python3.12/site-packages/sklearn/metrics/_classification.py:1565: UndefinedMetricWarning: Precision is ill-defined and being set to 0.0 due to no predicted samples. Use `zero_division` parameter to control this behavior.\n",
      "  _warn_prf(average, modifier, f\"{metric.capitalize()} is\", len(result))\n",
      "  6%|▌         | 11/200 [01:55<33:59, 10.79s/it]"
     ]
    },
    {
     "name": "stdout",
     "output_type": "stream",
     "text": [
      "Accuracy: 0.9474\n",
      "Epoch 10 | train 0.2132 | val 0.1956 | Accuracy 0.9474 | AUC 0.7062 | Precision 0.0000 | Recall 0.0000 | F1 0.0000\n"
     ]
    },
    {
     "name": "stderr",
     "output_type": "stream",
     "text": [
      "/Users/yhk/miniforge3/envs/gnn_env/lib/python3.12/site-packages/sklearn/metrics/_classification.py:1565: UndefinedMetricWarning: Precision is ill-defined and being set to 0.0 due to no predicted samples. Use `zero_division` parameter to control this behavior.\n",
      "  _warn_prf(average, modifier, f\"{metric.capitalize()} is\", len(result))\n",
      "  6%|▌         | 12/200 [02:07<35:04, 11.19s/it]"
     ]
    },
    {
     "name": "stdout",
     "output_type": "stream",
     "text": [
      "Accuracy: 0.9474\n",
      "Epoch 11 | train 0.2153 | val 0.1950 | Accuracy 0.9474 | AUC 0.7083 | Precision 0.0000 | Recall 0.0000 | F1 0.0000\n"
     ]
    },
    {
     "name": "stderr",
     "output_type": "stream",
     "text": [
      "/Users/yhk/miniforge3/envs/gnn_env/lib/python3.12/site-packages/sklearn/metrics/_classification.py:1565: UndefinedMetricWarning: Precision is ill-defined and being set to 0.0 due to no predicted samples. Use `zero_division` parameter to control this behavior.\n",
      "  _warn_prf(average, modifier, f\"{metric.capitalize()} is\", len(result))\n",
      "  6%|▋         | 13/200 [02:18<34:53, 11.20s/it]"
     ]
    },
    {
     "name": "stdout",
     "output_type": "stream",
     "text": [
      "Accuracy: 0.9474\n",
      "Epoch 12 | train 0.2130 | val 0.1918 | Accuracy 0.9474 | AUC 0.7090 | Precision 0.0000 | Recall 0.0000 | F1 0.0000\n"
     ]
    },
    {
     "name": "stderr",
     "output_type": "stream",
     "text": [
      "/Users/yhk/miniforge3/envs/gnn_env/lib/python3.12/site-packages/sklearn/metrics/_classification.py:1565: UndefinedMetricWarning: Precision is ill-defined and being set to 0.0 due to no predicted samples. Use `zero_division` parameter to control this behavior.\n",
      "  _warn_prf(average, modifier, f\"{metric.capitalize()} is\", len(result))\n",
      "  7%|▋         | 14/200 [02:30<35:03, 11.31s/it]"
     ]
    },
    {
     "name": "stdout",
     "output_type": "stream",
     "text": [
      "Accuracy: 0.9474\n",
      "Epoch 13 | train 0.2139 | val 0.1940 | Accuracy 0.9474 | AUC 0.7093 | Precision 0.0000 | Recall 0.0000 | F1 0.0000\n"
     ]
    },
    {
     "name": "stderr",
     "output_type": "stream",
     "text": [
      "/Users/yhk/miniforge3/envs/gnn_env/lib/python3.12/site-packages/sklearn/metrics/_classification.py:1565: UndefinedMetricWarning: Precision is ill-defined and being set to 0.0 due to no predicted samples. Use `zero_division` parameter to control this behavior.\n",
      "  _warn_prf(average, modifier, f\"{metric.capitalize()} is\", len(result))\n",
      "  8%|▊         | 15/200 [02:41<34:39, 11.24s/it]"
     ]
    },
    {
     "name": "stdout",
     "output_type": "stream",
     "text": [
      "Accuracy: 0.9474\n",
      "Epoch 14 | train 0.2114 | val 0.1911 | Accuracy 0.9474 | AUC 0.7104 | Precision 0.0000 | Recall 0.0000 | F1 0.0000\n"
     ]
    },
    {
     "name": "stderr",
     "output_type": "stream",
     "text": [
      "/Users/yhk/miniforge3/envs/gnn_env/lib/python3.12/site-packages/sklearn/metrics/_classification.py:1565: UndefinedMetricWarning: Precision is ill-defined and being set to 0.0 due to no predicted samples. Use `zero_division` parameter to control this behavior.\n",
      "  _warn_prf(average, modifier, f\"{metric.capitalize()} is\", len(result))\n",
      "  8%|▊         | 16/200 [02:52<34:06, 11.12s/it]"
     ]
    },
    {
     "name": "stdout",
     "output_type": "stream",
     "text": [
      "Accuracy: 0.9474\n",
      "Epoch 15 | train 0.2118 | val 0.1908 | Accuracy 0.9474 | AUC 0.7121 | Precision 0.0000 | Recall 0.0000 | F1 0.0000\n"
     ]
    },
    {
     "name": "stderr",
     "output_type": "stream",
     "text": [
      "/Users/yhk/miniforge3/envs/gnn_env/lib/python3.12/site-packages/sklearn/metrics/_classification.py:1565: UndefinedMetricWarning: Precision is ill-defined and being set to 0.0 due to no predicted samples. Use `zero_division` parameter to control this behavior.\n",
      "  _warn_prf(average, modifier, f\"{metric.capitalize()} is\", len(result))\n",
      "  8%|▊         | 17/200 [03:02<33:25, 10.96s/it]"
     ]
    },
    {
     "name": "stdout",
     "output_type": "stream",
     "text": [
      "Accuracy: 0.9474\n",
      "Epoch 16 | train 0.2102 | val 0.1919 | Accuracy 0.9474 | AUC 0.7135 | Precision 0.0000 | Recall 0.0000 | F1 0.0000\n"
     ]
    },
    {
     "name": "stderr",
     "output_type": "stream",
     "text": [
      "/Users/yhk/miniforge3/envs/gnn_env/lib/python3.12/site-packages/sklearn/metrics/_classification.py:1565: UndefinedMetricWarning: Precision is ill-defined and being set to 0.0 due to no predicted samples. Use `zero_division` parameter to control this behavior.\n",
      "  _warn_prf(average, modifier, f\"{metric.capitalize()} is\", len(result))\n",
      "  9%|▉         | 18/200 [03:14<33:53, 11.17s/it]"
     ]
    },
    {
     "name": "stdout",
     "output_type": "stream",
     "text": [
      "Accuracy: 0.9474\n",
      "Epoch 17 | train 0.2196 | val 0.1891 | Accuracy 0.9474 | AUC 0.7150 | Precision 0.0000 | Recall 0.0000 | F1 0.0000\n"
     ]
    },
    {
     "name": "stderr",
     "output_type": "stream",
     "text": [
      "/Users/yhk/miniforge3/envs/gnn_env/lib/python3.12/site-packages/sklearn/metrics/_classification.py:1565: UndefinedMetricWarning: Precision is ill-defined and being set to 0.0 due to no predicted samples. Use `zero_division` parameter to control this behavior.\n",
      "  _warn_prf(average, modifier, f\"{metric.capitalize()} is\", len(result))\n",
      " 10%|▉         | 19/200 [03:24<32:40, 10.83s/it]"
     ]
    },
    {
     "name": "stdout",
     "output_type": "stream",
     "text": [
      "Accuracy: 0.9474\n",
      "Epoch 18 | train 0.2132 | val 0.1890 | Accuracy 0.9474 | AUC 0.7154 | Precision 0.0000 | Recall 0.0000 | F1 0.0000\n"
     ]
    },
    {
     "name": "stderr",
     "output_type": "stream",
     "text": [
      "/Users/yhk/miniforge3/envs/gnn_env/lib/python3.12/site-packages/sklearn/metrics/_classification.py:1565: UndefinedMetricWarning: Precision is ill-defined and being set to 0.0 due to no predicted samples. Use `zero_division` parameter to control this behavior.\n",
      "  _warn_prf(average, modifier, f\"{metric.capitalize()} is\", len(result))\n",
      " 10%|█         | 20/200 [03:34<31:44, 10.58s/it]"
     ]
    },
    {
     "name": "stdout",
     "output_type": "stream",
     "text": [
      "Accuracy: 0.9474\n",
      "Epoch 19 | train 0.2085 | val 0.1890 | Accuracy 0.9474 | AUC 0.7174 | Precision 0.0000 | Recall 0.0000 | F1 0.0000\n"
     ]
    },
    {
     "name": "stderr",
     "output_type": "stream",
     "text": [
      "/Users/yhk/miniforge3/envs/gnn_env/lib/python3.12/site-packages/sklearn/metrics/_classification.py:1565: UndefinedMetricWarning: Precision is ill-defined and being set to 0.0 due to no predicted samples. Use `zero_division` parameter to control this behavior.\n",
      "  _warn_prf(average, modifier, f\"{metric.capitalize()} is\", len(result))\n",
      " 10%|█         | 21/200 [03:44<31:12, 10.46s/it]"
     ]
    },
    {
     "name": "stdout",
     "output_type": "stream",
     "text": [
      "Accuracy: 0.9474\n",
      "Epoch 20 | train 0.2117 | val 0.1886 | Accuracy 0.9474 | AUC 0.7179 | Precision 0.0000 | Recall 0.0000 | F1 0.0000\n"
     ]
    },
    {
     "name": "stderr",
     "output_type": "stream",
     "text": [
      "/Users/yhk/miniforge3/envs/gnn_env/lib/python3.12/site-packages/sklearn/metrics/_classification.py:1565: UndefinedMetricWarning: Precision is ill-defined and being set to 0.0 due to no predicted samples. Use `zero_division` parameter to control this behavior.\n",
      "  _warn_prf(average, modifier, f\"{metric.capitalize()} is\", len(result))\n",
      " 11%|█         | 22/200 [03:54<30:26, 10.26s/it]"
     ]
    },
    {
     "name": "stdout",
     "output_type": "stream",
     "text": [
      "Accuracy: 0.9474\n",
      "Epoch 21 | train 0.2139 | val 0.1922 | Accuracy 0.9474 | AUC 0.7183 | Precision 0.0000 | Recall 0.0000 | F1 0.0000\n"
     ]
    },
    {
     "name": "stderr",
     "output_type": "stream",
     "text": [
      "/Users/yhk/miniforge3/envs/gnn_env/lib/python3.12/site-packages/sklearn/metrics/_classification.py:1565: UndefinedMetricWarning: Precision is ill-defined and being set to 0.0 due to no predicted samples. Use `zero_division` parameter to control this behavior.\n",
      "  _warn_prf(average, modifier, f\"{metric.capitalize()} is\", len(result))\n",
      " 12%|█▏        | 23/200 [04:03<29:30, 10.00s/it]"
     ]
    },
    {
     "name": "stdout",
     "output_type": "stream",
     "text": [
      "Accuracy: 0.9474\n",
      "Epoch 22 | train 0.2101 | val 0.1894 | Accuracy 0.9474 | AUC 0.7178 | Precision 0.0000 | Recall 0.0000 | F1 0.0000\n"
     ]
    },
    {
     "name": "stderr",
     "output_type": "stream",
     "text": [
      "/Users/yhk/miniforge3/envs/gnn_env/lib/python3.12/site-packages/sklearn/metrics/_classification.py:1565: UndefinedMetricWarning: Precision is ill-defined and being set to 0.0 due to no predicted samples. Use `zero_division` parameter to control this behavior.\n",
      "  _warn_prf(average, modifier, f\"{metric.capitalize()} is\", len(result))\n",
      " 12%|█▏        | 24/200 [04:13<29:13,  9.97s/it]"
     ]
    },
    {
     "name": "stdout",
     "output_type": "stream",
     "text": [
      "Accuracy: 0.9474\n",
      "Epoch 23 | train 0.2100 | val 0.1983 | Accuracy 0.9474 | AUC 0.7181 | Precision 0.0000 | Recall 0.0000 | F1 0.0000\n"
     ]
    },
    {
     "name": "stderr",
     "output_type": "stream",
     "text": [
      "/Users/yhk/miniforge3/envs/gnn_env/lib/python3.12/site-packages/sklearn/metrics/_classification.py:1565: UndefinedMetricWarning: Precision is ill-defined and being set to 0.0 due to no predicted samples. Use `zero_division` parameter to control this behavior.\n",
      "  _warn_prf(average, modifier, f\"{metric.capitalize()} is\", len(result))\n",
      " 12%|█▎        | 25/200 [04:23<28:58,  9.93s/it]"
     ]
    },
    {
     "name": "stdout",
     "output_type": "stream",
     "text": [
      "Accuracy: 0.9474\n",
      "Epoch 24 | train 0.2083 | val 0.1940 | Accuracy 0.9474 | AUC 0.7188 | Precision 0.0000 | Recall 0.0000 | F1 0.0000\n"
     ]
    },
    {
     "name": "stderr",
     "output_type": "stream",
     "text": [
      "/Users/yhk/miniforge3/envs/gnn_env/lib/python3.12/site-packages/sklearn/metrics/_classification.py:1565: UndefinedMetricWarning: Precision is ill-defined and being set to 0.0 due to no predicted samples. Use `zero_division` parameter to control this behavior.\n",
      "  _warn_prf(average, modifier, f\"{metric.capitalize()} is\", len(result))\n",
      " 13%|█▎        | 26/200 [04:34<29:54, 10.32s/it]"
     ]
    },
    {
     "name": "stdout",
     "output_type": "stream",
     "text": [
      "Accuracy: 0.9474\n",
      "Epoch 25 | train 0.2099 | val 0.1974 | Accuracy 0.9474 | AUC 0.7196 | Precision 0.0000 | Recall 0.0000 | F1 0.0000\n"
     ]
    },
    {
     "name": "stderr",
     "output_type": "stream",
     "text": [
      "/Users/yhk/miniforge3/envs/gnn_env/lib/python3.12/site-packages/sklearn/metrics/_classification.py:1565: UndefinedMetricWarning: Precision is ill-defined and being set to 0.0 due to no predicted samples. Use `zero_division` parameter to control this behavior.\n",
      "  _warn_prf(average, modifier, f\"{metric.capitalize()} is\", len(result))\n",
      " 14%|█▎        | 27/200 [04:44<29:41, 10.30s/it]"
     ]
    },
    {
     "name": "stdout",
     "output_type": "stream",
     "text": [
      "Accuracy: 0.9474\n",
      "Epoch 26 | train 0.2071 | val 0.1887 | Accuracy 0.9474 | AUC 0.7206 | Precision 0.0000 | Recall 0.0000 | F1 0.0000\n"
     ]
    },
    {
     "name": "stderr",
     "output_type": "stream",
     "text": [
      "/Users/yhk/miniforge3/envs/gnn_env/lib/python3.12/site-packages/sklearn/metrics/_classification.py:1565: UndefinedMetricWarning: Precision is ill-defined and being set to 0.0 due to no predicted samples. Use `zero_division` parameter to control this behavior.\n",
      "  _warn_prf(average, modifier, f\"{metric.capitalize()} is\", len(result))\n",
      " 14%|█▍        | 28/200 [04:55<29:40, 10.35s/it]"
     ]
    },
    {
     "name": "stdout",
     "output_type": "stream",
     "text": [
      "Accuracy: 0.9474\n",
      "Epoch 27 | train 0.2078 | val 0.1955 | Accuracy 0.9474 | AUC 0.7210 | Precision 0.0000 | Recall 0.0000 | F1 0.0000\n"
     ]
    },
    {
     "name": "stderr",
     "output_type": "stream",
     "text": [
      "/Users/yhk/miniforge3/envs/gnn_env/lib/python3.12/site-packages/sklearn/metrics/_classification.py:1565: UndefinedMetricWarning: Precision is ill-defined and being set to 0.0 due to no predicted samples. Use `zero_division` parameter to control this behavior.\n",
      "  _warn_prf(average, modifier, f\"{metric.capitalize()} is\", len(result))\n",
      " 14%|█▍        | 29/200 [05:06<30:19, 10.64s/it]"
     ]
    },
    {
     "name": "stdout",
     "output_type": "stream",
     "text": [
      "Accuracy: 0.9474\n",
      "Epoch 28 | train 0.2072 | val 0.1884 | Accuracy 0.9474 | AUC 0.7226 | Precision 0.0000 | Recall 0.0000 | F1 0.0000\n"
     ]
    },
    {
     "name": "stderr",
     "output_type": "stream",
     "text": [
      "/Users/yhk/miniforge3/envs/gnn_env/lib/python3.12/site-packages/sklearn/metrics/_classification.py:1565: UndefinedMetricWarning: Precision is ill-defined and being set to 0.0 due to no predicted samples. Use `zero_division` parameter to control this behavior.\n",
      "  _warn_prf(average, modifier, f\"{metric.capitalize()} is\", len(result))\n",
      " 15%|█▌        | 30/200 [05:17<30:33, 10.79s/it]"
     ]
    },
    {
     "name": "stdout",
     "output_type": "stream",
     "text": [
      "Accuracy: 0.9474\n",
      "Epoch 29 | train 0.2067 | val 0.1954 | Accuracy 0.9474 | AUC 0.7238 | Precision 0.0000 | Recall 0.0000 | F1 0.0000\n"
     ]
    },
    {
     "name": "stderr",
     "output_type": "stream",
     "text": [
      "/Users/yhk/miniforge3/envs/gnn_env/lib/python3.12/site-packages/sklearn/metrics/_classification.py:1565: UndefinedMetricWarning: Precision is ill-defined and being set to 0.0 due to no predicted samples. Use `zero_division` parameter to control this behavior.\n",
      "  _warn_prf(average, modifier, f\"{metric.capitalize()} is\", len(result))\n",
      " 16%|█▌        | 31/200 [05:27<29:51, 10.60s/it]"
     ]
    },
    {
     "name": "stdout",
     "output_type": "stream",
     "text": [
      "Accuracy: 0.9474\n",
      "Epoch 30 | train 0.2054 | val 0.1963 | Accuracy 0.9474 | AUC 0.7252 | Precision 0.0000 | Recall 0.0000 | F1 0.0000\n"
     ]
    },
    {
     "name": "stderr",
     "output_type": "stream",
     "text": [
      "/Users/yhk/miniforge3/envs/gnn_env/lib/python3.12/site-packages/sklearn/metrics/_classification.py:1565: UndefinedMetricWarning: Precision is ill-defined and being set to 0.0 due to no predicted samples. Use `zero_division` parameter to control this behavior.\n",
      "  _warn_prf(average, modifier, f\"{metric.capitalize()} is\", len(result))\n",
      " 16%|█▌        | 32/200 [05:37<28:53, 10.32s/it]"
     ]
    },
    {
     "name": "stdout",
     "output_type": "stream",
     "text": [
      "Accuracy: 0.9474\n",
      "Epoch 31 | train 0.2055 | val 0.1875 | Accuracy 0.9474 | AUC 0.7271 | Precision 0.0000 | Recall 0.0000 | F1 0.0000\n"
     ]
    },
    {
     "name": "stderr",
     "output_type": "stream",
     "text": [
      "/Users/yhk/miniforge3/envs/gnn_env/lib/python3.12/site-packages/sklearn/metrics/_classification.py:1565: UndefinedMetricWarning: Precision is ill-defined and being set to 0.0 due to no predicted samples. Use `zero_division` parameter to control this behavior.\n",
      "  _warn_prf(average, modifier, f\"{metric.capitalize()} is\", len(result))\n",
      " 16%|█▋        | 33/200 [05:47<28:45, 10.33s/it]"
     ]
    },
    {
     "name": "stdout",
     "output_type": "stream",
     "text": [
      "Accuracy: 0.9474\n",
      "Epoch 32 | train 0.2064 | val 0.1910 | Accuracy 0.9474 | AUC 0.7284 | Precision 0.0000 | Recall 0.0000 | F1 0.0000\n"
     ]
    },
    {
     "name": "stderr",
     "output_type": "stream",
     "text": [
      "/Users/yhk/miniforge3/envs/gnn_env/lib/python3.12/site-packages/sklearn/metrics/_classification.py:1565: UndefinedMetricWarning: Precision is ill-defined and being set to 0.0 due to no predicted samples. Use `zero_division` parameter to control this behavior.\n",
      "  _warn_prf(average, modifier, f\"{metric.capitalize()} is\", len(result))\n",
      " 17%|█▋        | 34/200 [05:57<28:04, 10.15s/it]"
     ]
    },
    {
     "name": "stdout",
     "output_type": "stream",
     "text": [
      "Accuracy: 0.9474\n",
      "Epoch 33 | train 0.2084 | val 0.1911 | Accuracy 0.9474 | AUC 0.7317 | Precision 0.0000 | Recall 0.0000 | F1 0.0000\n"
     ]
    },
    {
     "name": "stderr",
     "output_type": "stream",
     "text": [
      "/Users/yhk/miniforge3/envs/gnn_env/lib/python3.12/site-packages/sklearn/metrics/_classification.py:1565: UndefinedMetricWarning: Precision is ill-defined and being set to 0.0 due to no predicted samples. Use `zero_division` parameter to control this behavior.\n",
      "  _warn_prf(average, modifier, f\"{metric.capitalize()} is\", len(result))\n",
      " 18%|█▊        | 35/200 [06:07<27:32, 10.01s/it]"
     ]
    },
    {
     "name": "stdout",
     "output_type": "stream",
     "text": [
      "Accuracy: 0.9474\n",
      "Epoch 34 | train 0.2107 | val 0.1883 | Accuracy 0.9474 | AUC 0.7329 | Precision 0.0000 | Recall 0.0000 | F1 0.0000\n"
     ]
    },
    {
     "name": "stderr",
     "output_type": "stream",
     "text": [
      "/Users/yhk/miniforge3/envs/gnn_env/lib/python3.12/site-packages/sklearn/metrics/_classification.py:1565: UndefinedMetricWarning: Precision is ill-defined and being set to 0.0 due to no predicted samples. Use `zero_division` parameter to control this behavior.\n",
      "  _warn_prf(average, modifier, f\"{metric.capitalize()} is\", len(result))\n",
      " 18%|█▊        | 36/200 [06:16<26:50,  9.82s/it]"
     ]
    },
    {
     "name": "stdout",
     "output_type": "stream",
     "text": [
      "Accuracy: 0.9474\n",
      "Epoch 35 | train 0.2079 | val 0.1904 | Accuracy 0.9474 | AUC 0.7347 | Precision 0.0000 | Recall 0.0000 | F1 0.0000\n"
     ]
    },
    {
     "name": "stderr",
     "output_type": "stream",
     "text": [
      "/Users/yhk/miniforge3/envs/gnn_env/lib/python3.12/site-packages/sklearn/metrics/_classification.py:1565: UndefinedMetricWarning: Precision is ill-defined and being set to 0.0 due to no predicted samples. Use `zero_division` parameter to control this behavior.\n",
      "  _warn_prf(average, modifier, f\"{metric.capitalize()} is\", len(result))\n",
      " 18%|█▊        | 37/200 [06:25<26:08,  9.62s/it]"
     ]
    },
    {
     "name": "stdout",
     "output_type": "stream",
     "text": [
      "Accuracy: 0.9474\n",
      "Epoch 36 | train 0.2068 | val 0.1897 | Accuracy 0.9474 | AUC 0.7365 | Precision 0.0000 | Recall 0.0000 | F1 0.0000\n"
     ]
    },
    {
     "name": "stderr",
     "output_type": "stream",
     "text": [
      "/Users/yhk/miniforge3/envs/gnn_env/lib/python3.12/site-packages/sklearn/metrics/_classification.py:1565: UndefinedMetricWarning: Precision is ill-defined and being set to 0.0 due to no predicted samples. Use `zero_division` parameter to control this behavior.\n",
      "  _warn_prf(average, modifier, f\"{metric.capitalize()} is\", len(result))\n",
      " 19%|█▉        | 38/200 [06:35<25:46,  9.55s/it]"
     ]
    },
    {
     "name": "stdout",
     "output_type": "stream",
     "text": [
      "Accuracy: 0.9474\n",
      "Epoch 37 | train 0.2092 | val 0.1906 | Accuracy 0.9474 | AUC 0.7409 | Precision 0.0000 | Recall 0.0000 | F1 0.0000\n"
     ]
    },
    {
     "name": "stderr",
     "output_type": "stream",
     "text": [
      "/Users/yhk/miniforge3/envs/gnn_env/lib/python3.12/site-packages/sklearn/metrics/_classification.py:1565: UndefinedMetricWarning: Precision is ill-defined and being set to 0.0 due to no predicted samples. Use `zero_division` parameter to control this behavior.\n",
      "  _warn_prf(average, modifier, f\"{metric.capitalize()} is\", len(result))\n",
      " 20%|█▉        | 39/200 [06:45<26:17,  9.80s/it]"
     ]
    },
    {
     "name": "stdout",
     "output_type": "stream",
     "text": [
      "Accuracy: 0.9474\n",
      "Epoch 38 | train 0.2054 | val 0.1868 | Accuracy 0.9474 | AUC 0.7426 | Precision 0.0000 | Recall 0.0000 | F1 0.0000\n"
     ]
    },
    {
     "name": "stderr",
     "output_type": "stream",
     "text": [
      "/Users/yhk/miniforge3/envs/gnn_env/lib/python3.12/site-packages/sklearn/metrics/_classification.py:1565: UndefinedMetricWarning: Precision is ill-defined and being set to 0.0 due to no predicted samples. Use `zero_division` parameter to control this behavior.\n",
      "  _warn_prf(average, modifier, f\"{metric.capitalize()} is\", len(result))\n",
      " 20%|██        | 40/200 [06:56<26:49, 10.06s/it]"
     ]
    },
    {
     "name": "stdout",
     "output_type": "stream",
     "text": [
      "Accuracy: 0.9474\n",
      "Epoch 39 | train 0.2075 | val 0.1863 | Accuracy 0.9474 | AUC 0.7455 | Precision 0.0000 | Recall 0.0000 | F1 0.0000\n"
     ]
    },
    {
     "name": "stderr",
     "output_type": "stream",
     "text": [
      "/Users/yhk/miniforge3/envs/gnn_env/lib/python3.12/site-packages/sklearn/metrics/_classification.py:1565: UndefinedMetricWarning: Precision is ill-defined and being set to 0.0 due to no predicted samples. Use `zero_division` parameter to control this behavior.\n",
      "  _warn_prf(average, modifier, f\"{metric.capitalize()} is\", len(result))\n",
      " 20%|██        | 41/200 [07:06<26:25,  9.97s/it]"
     ]
    },
    {
     "name": "stdout",
     "output_type": "stream",
     "text": [
      "Accuracy: 0.9474\n",
      "Epoch 40 | train 0.2048 | val 0.1852 | Accuracy 0.9474 | AUC 0.7492 | Precision 0.0000 | Recall 0.0000 | F1 0.0000\n"
     ]
    },
    {
     "name": "stderr",
     "output_type": "stream",
     "text": [
      "/Users/yhk/miniforge3/envs/gnn_env/lib/python3.12/site-packages/sklearn/metrics/_classification.py:1565: UndefinedMetricWarning: Precision is ill-defined and being set to 0.0 due to no predicted samples. Use `zero_division` parameter to control this behavior.\n",
      "  _warn_prf(average, modifier, f\"{metric.capitalize()} is\", len(result))\n",
      " 21%|██        | 42/200 [07:16<26:26, 10.04s/it]"
     ]
    },
    {
     "name": "stdout",
     "output_type": "stream",
     "text": [
      "Accuracy: 0.9474\n",
      "Epoch 41 | train 0.2146 | val 0.1863 | Accuracy 0.9474 | AUC 0.7522 | Precision 0.0000 | Recall 0.0000 | F1 0.0000\n"
     ]
    },
    {
     "name": "stderr",
     "output_type": "stream",
     "text": [
      " 22%|██▏       | 43/200 [07:26<26:03,  9.96s/it]"
     ]
    },
    {
     "name": "stdout",
     "output_type": "stream",
     "text": [
      "Accuracy: 0.9471\n",
      "Epoch 42 | train 0.2052 | val 0.1903 | Accuracy 0.9471 | AUC 0.7551 | Precision 0.0811 | Recall 0.0005 | F1 0.0009\n"
     ]
    },
    {
     "name": "stderr",
     "output_type": "stream",
     "text": [
      " 22%|██▏       | 44/200 [07:35<25:05,  9.65s/it]"
     ]
    },
    {
     "name": "stdout",
     "output_type": "stream",
     "text": [
      "Accuracy: 0.9463\n",
      "Epoch 43 | train 0.2033 | val 0.2056 | Accuracy 0.9463 | AUC 0.7579 | Precision 0.1932 | Recall 0.0063 | F1 0.0122\n"
     ]
    },
    {
     "name": "stderr",
     "output_type": "stream",
     "text": [
      "/Users/yhk/miniforge3/envs/gnn_env/lib/python3.12/site-packages/sklearn/metrics/_classification.py:1565: UndefinedMetricWarning: Precision is ill-defined and being set to 0.0 due to no predicted samples. Use `zero_division` parameter to control this behavior.\n",
      "  _warn_prf(average, modifier, f\"{metric.capitalize()} is\", len(result))\n",
      " 22%|██▎       | 45/200 [07:45<25:55, 10.03s/it]"
     ]
    },
    {
     "name": "stdout",
     "output_type": "stream",
     "text": [
      "Accuracy: 0.9474\n",
      "Epoch 44 | train 0.2036 | val 0.1837 | Accuracy 0.9474 | AUC 0.7632 | Precision 0.0000 | Recall 0.0000 | F1 0.0000\n"
     ]
    },
    {
     "name": "stderr",
     "output_type": "stream",
     "text": [
      "/Users/yhk/miniforge3/envs/gnn_env/lib/python3.12/site-packages/sklearn/metrics/_classification.py:1565: UndefinedMetricWarning: Precision is ill-defined and being set to 0.0 due to no predicted samples. Use `zero_division` parameter to control this behavior.\n",
      "  _warn_prf(average, modifier, f\"{metric.capitalize()} is\", len(result))\n",
      " 23%|██▎       | 46/200 [07:55<25:41, 10.01s/it]"
     ]
    },
    {
     "name": "stdout",
     "output_type": "stream",
     "text": [
      "Accuracy: 0.9474\n",
      "Epoch 45 | train 0.2144 | val 0.2027 | Accuracy 0.9474 | AUC 0.7591 | Precision 0.0000 | Recall 0.0000 | F1 0.0000\n"
     ]
    },
    {
     "name": "stderr",
     "output_type": "stream",
     "text": [
      " 24%|██▎       | 47/200 [08:06<26:05, 10.23s/it]"
     ]
    },
    {
     "name": "stdout",
     "output_type": "stream",
     "text": [
      "Accuracy: 0.9472\n",
      "Epoch 46 | train 0.2046 | val 0.1869 | Accuracy 0.9472 | AUC 0.7652 | Precision 0.0345 | Recall 0.0002 | F1 0.0003\n"
     ]
    },
    {
     "name": "stderr",
     "output_type": "stream",
     "text": [
      "/Users/yhk/miniforge3/envs/gnn_env/lib/python3.12/site-packages/sklearn/metrics/_classification.py:1565: UndefinedMetricWarning: Precision is ill-defined and being set to 0.0 due to no predicted samples. Use `zero_division` parameter to control this behavior.\n",
      "  _warn_prf(average, modifier, f\"{metric.capitalize()} is\", len(result))\n",
      " 24%|██▍       | 48/200 [08:16<25:38, 10.12s/it]"
     ]
    },
    {
     "name": "stdout",
     "output_type": "stream",
     "text": [
      "Accuracy: 0.9474\n",
      "Epoch 47 | train 0.2103 | val 0.1864 | Accuracy 0.9474 | AUC 0.7630 | Precision 0.0000 | Recall 0.0000 | F1 0.0000\n"
     ]
    },
    {
     "name": "stderr",
     "output_type": "stream",
     "text": [
      "/Users/yhk/miniforge3/envs/gnn_env/lib/python3.12/site-packages/sklearn/metrics/_classification.py:1565: UndefinedMetricWarning: Precision is ill-defined and being set to 0.0 due to no predicted samples. Use `zero_division` parameter to control this behavior.\n",
      "  _warn_prf(average, modifier, f\"{metric.capitalize()} is\", len(result))\n",
      " 24%|██▍       | 49/200 [08:26<25:17, 10.05s/it]"
     ]
    },
    {
     "name": "stdout",
     "output_type": "stream",
     "text": [
      "Accuracy: 0.9474\n",
      "Epoch 48 | train 0.2038 | val 0.1847 | Accuracy 0.9474 | AUC 0.7649 | Precision 0.0000 | Recall 0.0000 | F1 0.0000\n"
     ]
    },
    {
     "name": "stderr",
     "output_type": "stream",
     "text": [
      "/Users/yhk/miniforge3/envs/gnn_env/lib/python3.12/site-packages/sklearn/metrics/_classification.py:1565: UndefinedMetricWarning: Precision is ill-defined and being set to 0.0 due to no predicted samples. Use `zero_division` parameter to control this behavior.\n",
      "  _warn_prf(average, modifier, f\"{metric.capitalize()} is\", len(result))\n",
      " 25%|██▌       | 50/200 [08:35<24:46,  9.91s/it]"
     ]
    },
    {
     "name": "stdout",
     "output_type": "stream",
     "text": [
      "Accuracy: 0.9474\n",
      "Epoch 49 | train 0.2054 | val 0.1975 | Accuracy 0.9474 | AUC 0.7703 | Precision 0.0000 | Recall 0.0000 | F1 0.0000\n"
     ]
    },
    {
     "name": "stderr",
     "output_type": "stream",
     "text": [
      "/Users/yhk/miniforge3/envs/gnn_env/lib/python3.12/site-packages/sklearn/metrics/_classification.py:1565: UndefinedMetricWarning: Precision is ill-defined and being set to 0.0 due to no predicted samples. Use `zero_division` parameter to control this behavior.\n",
      "  _warn_prf(average, modifier, f\"{metric.capitalize()} is\", len(result))\n",
      " 26%|██▌       | 51/200 [08:45<24:13,  9.75s/it]"
     ]
    },
    {
     "name": "stdout",
     "output_type": "stream",
     "text": [
      "Accuracy: 0.9474\n",
      "Epoch 50 | train 0.2106 | val 0.1889 | Accuracy 0.9474 | AUC 0.7721 | Precision 0.0000 | Recall 0.0000 | F1 0.0000\n"
     ]
    },
    {
     "name": "stderr",
     "output_type": "stream",
     "text": [
      "/Users/yhk/miniforge3/envs/gnn_env/lib/python3.12/site-packages/sklearn/metrics/_classification.py:1565: UndefinedMetricWarning: Precision is ill-defined and being set to 0.0 due to no predicted samples. Use `zero_division` parameter to control this behavior.\n",
      "  _warn_prf(average, modifier, f\"{metric.capitalize()} is\", len(result))\n",
      " 26%|██▌       | 52/200 [08:54<23:56,  9.71s/it]"
     ]
    },
    {
     "name": "stdout",
     "output_type": "stream",
     "text": [
      "Accuracy: 0.9474\n",
      "Epoch 51 | train 0.2022 | val 0.1862 | Accuracy 0.9474 | AUC 0.7755 | Precision 0.0000 | Recall 0.0000 | F1 0.0000\n"
     ]
    },
    {
     "name": "stderr",
     "output_type": "stream",
     "text": [
      "/Users/yhk/miniforge3/envs/gnn_env/lib/python3.12/site-packages/sklearn/metrics/_classification.py:1565: UndefinedMetricWarning: Precision is ill-defined and being set to 0.0 due to no predicted samples. Use `zero_division` parameter to control this behavior.\n",
      "  _warn_prf(average, modifier, f\"{metric.capitalize()} is\", len(result))\n",
      " 26%|██▋       | 53/200 [09:04<23:40,  9.66s/it]"
     ]
    },
    {
     "name": "stdout",
     "output_type": "stream",
     "text": [
      "Accuracy: 0.9474\n",
      "Epoch 52 | train 0.2060 | val 0.1836 | Accuracy 0.9474 | AUC 0.7791 | Precision 0.0000 | Recall 0.0000 | F1 0.0000\n"
     ]
    },
    {
     "name": "stderr",
     "output_type": "stream",
     "text": [
      "/Users/yhk/miniforge3/envs/gnn_env/lib/python3.12/site-packages/sklearn/metrics/_classification.py:1565: UndefinedMetricWarning: Precision is ill-defined and being set to 0.0 due to no predicted samples. Use `zero_division` parameter to control this behavior.\n",
      "  _warn_prf(average, modifier, f\"{metric.capitalize()} is\", len(result))\n",
      " 27%|██▋       | 54/200 [09:13<23:16,  9.56s/it]"
     ]
    },
    {
     "name": "stdout",
     "output_type": "stream",
     "text": [
      "Accuracy: 0.9474\n",
      "Epoch 53 | train 0.2043 | val 0.1915 | Accuracy 0.9474 | AUC 0.7814 | Precision 0.0000 | Recall 0.0000 | F1 0.0000\n"
     ]
    },
    {
     "name": "stderr",
     "output_type": "stream",
     "text": [
      "/Users/yhk/miniforge3/envs/gnn_env/lib/python3.12/site-packages/sklearn/metrics/_classification.py:1565: UndefinedMetricWarning: Precision is ill-defined and being set to 0.0 due to no predicted samples. Use `zero_division` parameter to control this behavior.\n",
      "  _warn_prf(average, modifier, f\"{metric.capitalize()} is\", len(result))\n",
      " 28%|██▊       | 55/200 [09:23<23:12,  9.60s/it]"
     ]
    },
    {
     "name": "stdout",
     "output_type": "stream",
     "text": [
      "Accuracy: 0.9474\n",
      "Epoch 54 | train 0.2019 | val 0.1835 | Accuracy 0.9474 | AUC 0.7880 | Precision 0.0000 | Recall 0.0000 | F1 0.0000\n"
     ]
    },
    {
     "name": "stderr",
     "output_type": "stream",
     "text": [
      "/Users/yhk/miniforge3/envs/gnn_env/lib/python3.12/site-packages/sklearn/metrics/_classification.py:1565: UndefinedMetricWarning: Precision is ill-defined and being set to 0.0 due to no predicted samples. Use `zero_division` parameter to control this behavior.\n",
      "  _warn_prf(average, modifier, f\"{metric.capitalize()} is\", len(result))\n",
      " 28%|██▊       | 56/200 [09:32<22:52,  9.53s/it]"
     ]
    },
    {
     "name": "stdout",
     "output_type": "stream",
     "text": [
      "Accuracy: 0.9474\n",
      "Epoch 55 | train 0.2030 | val 0.1857 | Accuracy 0.9474 | AUC 0.7866 | Precision 0.0000 | Recall 0.0000 | F1 0.0000\n"
     ]
    },
    {
     "name": "stderr",
     "output_type": "stream",
     "text": [
      " 28%|██▊       | 57/200 [09:42<22:39,  9.51s/it]"
     ]
    },
    {
     "name": "stdout",
     "output_type": "stream",
     "text": [
      "Accuracy: 0.9473\n",
      "Epoch 56 | train 0.2021 | val 0.1888 | Accuracy 0.9473 | AUC 0.7866 | Precision 0.0000 | Recall 0.0000 | F1 0.0000\n"
     ]
    },
    {
     "name": "stderr",
     "output_type": "stream",
     "text": [
      " 29%|██▉       | 58/200 [09:52<22:40,  9.58s/it]"
     ]
    },
    {
     "name": "stdout",
     "output_type": "stream",
     "text": [
      "Accuracy: 0.9474\n",
      "Epoch 57 | train 0.2017 | val 0.1815 | Accuracy 0.9474 | AUC 0.7957 | Precision 0.0000 | Recall 0.0000 | F1 0.0000\n"
     ]
    },
    {
     "name": "stderr",
     "output_type": "stream",
     "text": [
      "/Users/yhk/miniforge3/envs/gnn_env/lib/python3.12/site-packages/sklearn/metrics/_classification.py:1565: UndefinedMetricWarning: Precision is ill-defined and being set to 0.0 due to no predicted samples. Use `zero_division` parameter to control this behavior.\n",
      "  _warn_prf(average, modifier, f\"{metric.capitalize()} is\", len(result))\n",
      " 30%|██▉       | 59/200 [10:01<22:29,  9.57s/it]"
     ]
    },
    {
     "name": "stdout",
     "output_type": "stream",
     "text": [
      "Accuracy: 0.9474\n",
      "Epoch 58 | train 0.2042 | val 0.1833 | Accuracy 0.9474 | AUC 0.7977 | Precision 0.0000 | Recall 0.0000 | F1 0.0000\n"
     ]
    },
    {
     "name": "stderr",
     "output_type": "stream",
     "text": [
      "/Users/yhk/miniforge3/envs/gnn_env/lib/python3.12/site-packages/sklearn/metrics/_classification.py:1565: UndefinedMetricWarning: Precision is ill-defined and being set to 0.0 due to no predicted samples. Use `zero_division` parameter to control this behavior.\n",
      "  _warn_prf(average, modifier, f\"{metric.capitalize()} is\", len(result))\n",
      " 30%|███       | 60/200 [10:10<21:54,  9.39s/it]"
     ]
    },
    {
     "name": "stdout",
     "output_type": "stream",
     "text": [
      "Accuracy: 0.9474\n",
      "Epoch 59 | train 0.2072 | val 0.1844 | Accuracy 0.9474 | AUC 0.8003 | Precision 0.0000 | Recall 0.0000 | F1 0.0000\n"
     ]
    },
    {
     "name": "stderr",
     "output_type": "stream",
     "text": [
      "/Users/yhk/miniforge3/envs/gnn_env/lib/python3.12/site-packages/sklearn/metrics/_classification.py:1565: UndefinedMetricWarning: Precision is ill-defined and being set to 0.0 due to no predicted samples. Use `zero_division` parameter to control this behavior.\n",
      "  _warn_prf(average, modifier, f\"{metric.capitalize()} is\", len(result))\n",
      " 30%|███       | 61/200 [10:20<22:09,  9.56s/it]"
     ]
    },
    {
     "name": "stdout",
     "output_type": "stream",
     "text": [
      "Accuracy: 0.9474\n",
      "Epoch 60 | train 0.2010 | val 0.1812 | Accuracy 0.9474 | AUC 0.8014 | Precision 0.0000 | Recall 0.0000 | F1 0.0000\n"
     ]
    },
    {
     "name": "stderr",
     "output_type": "stream",
     "text": [
      " 31%|███       | 62/200 [10:30<22:29,  9.78s/it]"
     ]
    },
    {
     "name": "stdout",
     "output_type": "stream",
     "text": [
      "Accuracy: 0.9474\n",
      "Epoch 61 | train 0.2049 | val 0.1853 | Accuracy 0.9474 | AUC 0.8029 | Precision 0.0000 | Recall 0.0000 | F1 0.0000\n"
     ]
    },
    {
     "name": "stderr",
     "output_type": "stream",
     "text": [
      " 32%|███▏      | 63/200 [10:41<22:40,  9.93s/it]"
     ]
    },
    {
     "name": "stdout",
     "output_type": "stream",
     "text": [
      "Accuracy: 0.9463\n",
      "Epoch 62 | train 0.1992 | val 0.1991 | Accuracy 0.9463 | AUC 0.8086 | Precision 0.1000 | Recall 0.0027 | F1 0.0052\n"
     ]
    },
    {
     "name": "stderr",
     "output_type": "stream",
     "text": [
      " 32%|███▏      | 64/200 [10:50<22:16,  9.83s/it]"
     ]
    },
    {
     "name": "stdout",
     "output_type": "stream",
     "text": [
      "Accuracy: 0.9437\n",
      "Epoch 63 | train 0.2003 | val 0.2132 | Accuracy 0.9437 | AUC 0.8122 | Precision 0.1766 | Recall 0.0191 | F1 0.0344\n"
     ]
    },
    {
     "name": "stderr",
     "output_type": "stream",
     "text": [
      "/Users/yhk/miniforge3/envs/gnn_env/lib/python3.12/site-packages/sklearn/metrics/_classification.py:1565: UndefinedMetricWarning: Precision is ill-defined and being set to 0.0 due to no predicted samples. Use `zero_division` parameter to control this behavior.\n",
      "  _warn_prf(average, modifier, f\"{metric.capitalize()} is\", len(result))\n",
      " 32%|███▎      | 65/200 [11:00<22:12,  9.87s/it]"
     ]
    },
    {
     "name": "stdout",
     "output_type": "stream",
     "text": [
      "Accuracy: 0.9474\n",
      "Epoch 64 | train 0.1971 | val 0.1798 | Accuracy 0.9474 | AUC 0.8166 | Precision 0.0000 | Recall 0.0000 | F1 0.0000\n"
     ]
    },
    {
     "name": "stderr",
     "output_type": "stream",
     "text": [
      "/Users/yhk/miniforge3/envs/gnn_env/lib/python3.12/site-packages/sklearn/metrics/_classification.py:1565: UndefinedMetricWarning: Precision is ill-defined and being set to 0.0 due to no predicted samples. Use `zero_division` parameter to control this behavior.\n",
      "  _warn_prf(average, modifier, f\"{metric.capitalize()} is\", len(result))\n",
      " 33%|███▎      | 66/200 [11:10<22:10,  9.93s/it]"
     ]
    },
    {
     "name": "stdout",
     "output_type": "stream",
     "text": [
      "Accuracy: 0.9474\n",
      "Epoch 65 | train 0.1964 | val 0.1937 | Accuracy 0.9474 | AUC 0.8221 | Precision 0.0000 | Recall 0.0000 | F1 0.0000\n"
     ]
    },
    {
     "name": "stderr",
     "output_type": "stream",
     "text": [
      "/Users/yhk/miniforge3/envs/gnn_env/lib/python3.12/site-packages/sklearn/metrics/_classification.py:1565: UndefinedMetricWarning: Precision is ill-defined and being set to 0.0 due to no predicted samples. Use `zero_division` parameter to control this behavior.\n",
      "  _warn_prf(average, modifier, f\"{metric.capitalize()} is\", len(result))\n",
      " 34%|███▎      | 67/200 [11:20<21:53,  9.87s/it]"
     ]
    },
    {
     "name": "stdout",
     "output_type": "stream",
     "text": [
      "Accuracy: 0.9474\n",
      "Epoch 66 | train 0.1944 | val 0.1827 | Accuracy 0.9474 | AUC 0.8231 | Precision 0.0000 | Recall 0.0000 | F1 0.0000\n"
     ]
    },
    {
     "name": "stderr",
     "output_type": "stream",
     "text": [
      "/Users/yhk/miniforge3/envs/gnn_env/lib/python3.12/site-packages/sklearn/metrics/_classification.py:1565: UndefinedMetricWarning: Precision is ill-defined and being set to 0.0 due to no predicted samples. Use `zero_division` parameter to control this behavior.\n",
      "  _warn_prf(average, modifier, f\"{metric.capitalize()} is\", len(result))\n",
      " 34%|███▍      | 68/200 [11:30<21:49,  9.92s/it]"
     ]
    },
    {
     "name": "stdout",
     "output_type": "stream",
     "text": [
      "Accuracy: 0.9474\n",
      "Epoch 67 | train 0.1961 | val 0.1757 | Accuracy 0.9474 | AUC 0.8234 | Precision 0.0000 | Recall 0.0000 | F1 0.0000\n"
     ]
    },
    {
     "name": "stderr",
     "output_type": "stream",
     "text": [
      "/Users/yhk/miniforge3/envs/gnn_env/lib/python3.12/site-packages/sklearn/metrics/_classification.py:1565: UndefinedMetricWarning: Precision is ill-defined and being set to 0.0 due to no predicted samples. Use `zero_division` parameter to control this behavior.\n",
      "  _warn_prf(average, modifier, f\"{metric.capitalize()} is\", len(result))\n",
      " 34%|███▍      | 69/200 [11:40<21:27,  9.82s/it]"
     ]
    },
    {
     "name": "stdout",
     "output_type": "stream",
     "text": [
      "Accuracy: 0.9474\n",
      "Epoch 68 | train 0.2019 | val 0.1797 | Accuracy 0.9474 | AUC 0.8248 | Precision 0.0000 | Recall 0.0000 | F1 0.0000\n"
     ]
    },
    {
     "name": "stderr",
     "output_type": "stream",
     "text": [
      "/Users/yhk/miniforge3/envs/gnn_env/lib/python3.12/site-packages/sklearn/metrics/_classification.py:1565: UndefinedMetricWarning: Precision is ill-defined and being set to 0.0 due to no predicted samples. Use `zero_division` parameter to control this behavior.\n",
      "  _warn_prf(average, modifier, f\"{metric.capitalize()} is\", len(result))\n",
      " 35%|███▌      | 70/200 [11:51<22:03, 10.18s/it]"
     ]
    },
    {
     "name": "stdout",
     "output_type": "stream",
     "text": [
      "Accuracy: 0.9474\n",
      "Epoch 69 | train 0.1922 | val 0.1796 | Accuracy 0.9474 | AUC 0.8274 | Precision 0.0000 | Recall 0.0000 | F1 0.0000\n"
     ]
    },
    {
     "name": "stderr",
     "output_type": "stream",
     "text": [
      " 36%|███▌      | 71/200 [12:01<22:02, 10.25s/it]"
     ]
    },
    {
     "name": "stdout",
     "output_type": "stream",
     "text": [
      "Accuracy: 0.9445\n",
      "Epoch 70 | train 0.2083 | val 0.1936 | Accuracy 0.9445 | AUC 0.8274 | Precision 0.2084 | Recall 0.0195 | F1 0.0357\n"
     ]
    },
    {
     "name": "stderr",
     "output_type": "stream",
     "text": [
      " 36%|███▌      | 72/200 [12:11<21:39, 10.15s/it]"
     ]
    },
    {
     "name": "stdout",
     "output_type": "stream",
     "text": [
      "Accuracy: 0.9474\n",
      "Epoch 71 | train 0.2028 | val 0.1749 | Accuracy 0.9474 | AUC 0.8276 | Precision 0.0000 | Recall 0.0000 | F1 0.0000\n"
     ]
    },
    {
     "name": "stderr",
     "output_type": "stream",
     "text": [
      " 36%|███▋      | 73/200 [12:21<21:36, 10.21s/it]"
     ]
    },
    {
     "name": "stdout",
     "output_type": "stream",
     "text": [
      "Accuracy: 0.9474\n",
      "Epoch 72 | train 0.1953 | val 0.1780 | Accuracy 0.9474 | AUC 0.8317 | Precision 0.0000 | Recall 0.0000 | F1 0.0000\n"
     ]
    },
    {
     "name": "stderr",
     "output_type": "stream",
     "text": [
      "/Users/yhk/miniforge3/envs/gnn_env/lib/python3.12/site-packages/sklearn/metrics/_classification.py:1565: UndefinedMetricWarning: Precision is ill-defined and being set to 0.0 due to no predicted samples. Use `zero_division` parameter to control this behavior.\n",
      "  _warn_prf(average, modifier, f\"{metric.capitalize()} is\", len(result))\n",
      " 37%|███▋      | 74/200 [12:31<21:07, 10.06s/it]"
     ]
    },
    {
     "name": "stdout",
     "output_type": "stream",
     "text": [
      "Accuracy: 0.9474\n",
      "Epoch 73 | train 0.1991 | val 0.2013 | Accuracy 0.9474 | AUC 0.8348 | Precision 0.0000 | Recall 0.0000 | F1 0.0000\n"
     ]
    },
    {
     "name": "stderr",
     "output_type": "stream",
     "text": [
      "/Users/yhk/miniforge3/envs/gnn_env/lib/python3.12/site-packages/sklearn/metrics/_classification.py:1565: UndefinedMetricWarning: Precision is ill-defined and being set to 0.0 due to no predicted samples. Use `zero_division` parameter to control this behavior.\n",
      "  _warn_prf(average, modifier, f\"{metric.capitalize()} is\", len(result))\n",
      " 38%|███▊      | 75/200 [12:41<20:49,  9.99s/it]"
     ]
    },
    {
     "name": "stdout",
     "output_type": "stream",
     "text": [
      "Accuracy: 0.9474\n",
      "Epoch 74 | train 0.1964 | val 0.1754 | Accuracy 0.9474 | AUC 0.8341 | Precision 0.0000 | Recall 0.0000 | F1 0.0000\n"
     ]
    },
    {
     "name": "stderr",
     "output_type": "stream",
     "text": [
      "/Users/yhk/miniforge3/envs/gnn_env/lib/python3.12/site-packages/sklearn/metrics/_classification.py:1565: UndefinedMetricWarning: Precision is ill-defined and being set to 0.0 due to no predicted samples. Use `zero_division` parameter to control this behavior.\n",
      "  _warn_prf(average, modifier, f\"{metric.capitalize()} is\", len(result))\n",
      " 38%|███▊      | 76/200 [12:51<20:49, 10.08s/it]"
     ]
    },
    {
     "name": "stdout",
     "output_type": "stream",
     "text": [
      "Accuracy: 0.9474\n",
      "Epoch 75 | train 0.1921 | val 0.1824 | Accuracy 0.9474 | AUC 0.8371 | Precision 0.0000 | Recall 0.0000 | F1 0.0000\n"
     ]
    },
    {
     "name": "stderr",
     "output_type": "stream",
     "text": [
      "/Users/yhk/miniforge3/envs/gnn_env/lib/python3.12/site-packages/sklearn/metrics/_classification.py:1565: UndefinedMetricWarning: Precision is ill-defined and being set to 0.0 due to no predicted samples. Use `zero_division` parameter to control this behavior.\n",
      "  _warn_prf(average, modifier, f\"{metric.capitalize()} is\", len(result))\n",
      " 38%|███▊      | 77/200 [13:02<20:53, 10.19s/it]"
     ]
    },
    {
     "name": "stdout",
     "output_type": "stream",
     "text": [
      "Accuracy: 0.9474\n",
      "Epoch 76 | train 0.2159 | val 0.2526 | Accuracy 0.9474 | AUC 0.8307 | Precision 0.0000 | Recall 0.0000 | F1 0.0000\n"
     ]
    },
    {
     "name": "stderr",
     "output_type": "stream",
     "text": [
      "/Users/yhk/miniforge3/envs/gnn_env/lib/python3.12/site-packages/sklearn/metrics/_classification.py:1565: UndefinedMetricWarning: Precision is ill-defined and being set to 0.0 due to no predicted samples. Use `zero_division` parameter to control this behavior.\n",
      "  _warn_prf(average, modifier, f\"{metric.capitalize()} is\", len(result))\n",
      " 39%|███▉      | 78/200 [13:12<20:46, 10.22s/it]"
     ]
    },
    {
     "name": "stdout",
     "output_type": "stream",
     "text": [
      "Accuracy: 0.9474\n",
      "Epoch 77 | train 0.2011 | val 0.1791 | Accuracy 0.9474 | AUC 0.8243 | Precision 0.0000 | Recall 0.0000 | F1 0.0000\n"
     ]
    },
    {
     "name": "stderr",
     "output_type": "stream",
     "text": [
      "/Users/yhk/miniforge3/envs/gnn_env/lib/python3.12/site-packages/sklearn/metrics/_classification.py:1565: UndefinedMetricWarning: Precision is ill-defined and being set to 0.0 due to no predicted samples. Use `zero_division` parameter to control this behavior.\n",
      "  _warn_prf(average, modifier, f\"{metric.capitalize()} is\", len(result))\n",
      " 40%|███▉      | 79/200 [13:22<20:15, 10.04s/it]"
     ]
    },
    {
     "name": "stdout",
     "output_type": "stream",
     "text": [
      "Accuracy: 0.9474\n",
      "Epoch 78 | train 0.1995 | val 0.1789 | Accuracy 0.9474 | AUC 0.8297 | Precision 0.0000 | Recall 0.0000 | F1 0.0000\n"
     ]
    },
    {
     "name": "stderr",
     "output_type": "stream",
     "text": [
      "/Users/yhk/miniforge3/envs/gnn_env/lib/python3.12/site-packages/sklearn/metrics/_classification.py:1565: UndefinedMetricWarning: Precision is ill-defined and being set to 0.0 due to no predicted samples. Use `zero_division` parameter to control this behavior.\n",
      "  _warn_prf(average, modifier, f\"{metric.capitalize()} is\", len(result))\n",
      " 40%|████      | 80/200 [13:32<20:21, 10.18s/it]"
     ]
    },
    {
     "name": "stdout",
     "output_type": "stream",
     "text": [
      "Accuracy: 0.9474\n",
      "Epoch 79 | train 0.1987 | val 0.1785 | Accuracy 0.9474 | AUC 0.8315 | Precision 0.0000 | Recall 0.0000 | F1 0.0000\n"
     ]
    },
    {
     "name": "stderr",
     "output_type": "stream",
     "text": [
      " 40%|████      | 81/200 [13:43<20:23, 10.28s/it]"
     ]
    },
    {
     "name": "stdout",
     "output_type": "stream",
     "text": [
      "Accuracy: 0.9472\n",
      "Epoch 80 | train 0.1946 | val 0.1862 | Accuracy 0.9472 | AUC 0.8325 | Precision 0.0000 | Recall 0.0000 | F1 0.0000\n"
     ]
    },
    {
     "name": "stderr",
     "output_type": "stream",
     "text": [
      "/Users/yhk/miniforge3/envs/gnn_env/lib/python3.12/site-packages/sklearn/metrics/_classification.py:1565: UndefinedMetricWarning: Precision is ill-defined and being set to 0.0 due to no predicted samples. Use `zero_division` parameter to control this behavior.\n",
      "  _warn_prf(average, modifier, f\"{metric.capitalize()} is\", len(result))\n",
      " 40%|████      | 81/200 [13:53<20:24, 10.29s/it]"
     ]
    },
    {
     "name": "stdout",
     "output_type": "stream",
     "text": [
      "Accuracy: 0.9474\n",
      "Epoch 81 | train 0.2034 | val 0.1845 | Accuracy 0.9474 | AUC 0.8242 | Precision 0.0000 | Recall 0.0000 | F1 0.0000\n",
      "Early stopping triggered!\n"
     ]
    },
    {
     "name": "stderr",
     "output_type": "stream",
     "text": [
      "\n"
     ]
    }
   ],
   "source": [
    "from sklearn.metrics import accuracy_score, roc_auc_score, precision_score, recall_score, f1_score\n",
    "\n",
    "# optimizer\n",
    "optimizer = torch.optim.Adam(model.parameters(), lr=3e-4)\n",
    "\n",
    "best_val, patience, wait = float('inf'), 10, 0   # stop if there is no improvement for 10 consecutive trials\n",
    "for epoch in tqdm(range(200)):\n",
    "    train_loss, _, _ = run_epoch(\n",
    "        train_batches, model, spatial_x,\n",
    "        edge_index, edge_weight,\n",
    "        optimizer=optimizer, batch_size=64)\n",
    "\n",
    "    val_loss, yv, pv = run_epoch(\n",
    "        val_batches,   model, spatial_x,\n",
    "        edge_index, edge_weight,\n",
    "        optimizer=None, batch_size=64, collect_pred=True)\n",
    "    \n",
    "    # metric calculations\n",
    "    pred_label = (pv >= 0.5).astype(int)\n",
    "    accuracy  = accuracy_score(yv, pred_label)\n",
    "    auc       = roc_auc_score(yv, pv)\n",
    "    precision = precision_score(yv, pred_label)\n",
    "    recall    = recall_score(yv, pred_label)\n",
    "    f1        = f1_score(yv, pred_label)\n",
    "    print(f\"Epoch {epoch:02d} | train {train_loss:.4f} | val {val_loss:.4f} | \"\n",
    "        f\"Accuracy {accuracy:.4f} | AUC {auc:.4f} | Precision {precision:.4f} | Recall {recall:.4f} | F1 {f1:.4f}\")\n",
    "\n",
    "    # ---- Early stopping ----\n",
    "    if val_loss < best_val - 1e-4:\n",
    "        best_val, wait = val_loss, 0\n",
    "        torch.save(model.state_dict(), \"best_gnn_1.pt\")\n",
    "    else:\n",
    "        wait += 1\n",
    "        if wait >= patience:\n",
    "            print(\"Early stopping triggered!\")\n",
    "            break"
   ]
  },
  {
   "cell_type": "code",
   "execution_count": null,
   "metadata": {
    "trusted": true
   },
   "outputs": [
    {
     "name": "stderr",
     "output_type": "stream",
     "text": [
      "/Users/yhk/miniforge3/envs/gnn_env/lib/python3.12/site-packages/tqdm/auto.py:21: TqdmWarning: IProgress not found. Please update jupyter and ipywidgets. See https://ipywidgets.readthedocs.io/en/stable/user_install.html\n",
      "  from .autonotebook import tqdm as notebook_tqdm\n",
      "[I 2025-06-01 16:45:31,259] A new study created in memory with name: no-name-76491e8b-fbe4-40f0-b341-14441785aa04\n"
     ]
    },
    {
     "name": "stdout",
     "output_type": "stream",
     "text": [
      "使用裝置: cpu\n",
      "Trial 0 params: 256, 0.03538644257093149, 0.0009922447105299088, 64, 6\n",
      "Trial 0 Epoch 0 start\n",
      "Trial 0 Epoch 0 end\n",
      "Trial 0 Epoch 1 start\n",
      "Trial 0 Epoch 1 end\n",
      "Trial 0 Epoch 2 start\n",
      "Trial 0 Epoch 2 end\n",
      "Trial 0 Epoch 3 start\n",
      "Trial 0 Epoch 3 end\n",
      "Trial 0 Epoch 4 start\n",
      "Trial 0 Epoch 4 end\n",
      "Trial 0 Epoch 5 start\n",
      "Trial 0 Epoch 5 end\n",
      "Trial 0 Epoch 6 start\n",
      "Trial 0 Epoch 6 end\n",
      "Trial 0 Epoch 7 start\n",
      "Trial 0 Epoch 7 end\n",
      "Trial 0 Epoch 8 start\n",
      "Trial 0 Epoch 8 end\n",
      "Trial 0 Epoch 9 start\n",
      "Trial 0 Epoch 9 end\n"
     ]
    },
    {
     "name": "stderr",
     "output_type": "stream",
     "text": [
      "[I 2025-06-01 16:54:22,059] Trial 0 finished with value: 5.2598871460886425 and parameters: {'hidden_dim': 256, 'dropout': 0.03538644257093149, 'learning_rate': 0.0009922447105299088, 'batch_size': 64, 'k': 6}. Best is trial 0 with value: 5.2598871460886425.\n"
     ]
    },
    {
     "name": "stdout",
     "output_type": "stream",
     "text": [
      "Accuracy: 0.9474\n",
      "Trial 1 params: 64, 0.28036275081987044, 0.0030289048102028807, 256, 6\n",
      "Trial 1 Epoch 0 start\n",
      "Trial 1 Epoch 0 end\n",
      "Trial 1 Epoch 1 start\n",
      "Trial 1 Epoch 1 end\n",
      "Trial 1 Epoch 2 start\n",
      "Trial 1 Epoch 2 end\n",
      "Trial 1 Epoch 3 start\n",
      "Trial 1 Epoch 3 end\n",
      "Trial 1 Epoch 4 start\n",
      "Trial 1 Epoch 4 end\n",
      "Trial 1 Epoch 5 start\n",
      "Trial 1 Epoch 5 end\n",
      "Trial 1 Epoch 6 start\n",
      "Trial 1 Epoch 6 end\n",
      "Trial 1 Epoch 7 start\n",
      "Trial 1 Epoch 7 end\n",
      "Trial 1 Epoch 8 start\n",
      "Trial 1 Epoch 8 end\n",
      "Trial 1 Epoch 9 start\n",
      "Trial 1 Epoch 9 end\n"
     ]
    },
    {
     "name": "stderr",
     "output_type": "stream",
     "text": [
      "[I 2025-06-01 16:57:00,477] Trial 1 finished with value: 0.20198693129619388 and parameters: {'hidden_dim': 64, 'dropout': 0.28036275081987044, 'learning_rate': 0.0030289048102028807, 'batch_size': 256, 'k': 6}. Best is trial 1 with value: 0.20198693129619388.\n"
     ]
    },
    {
     "name": "stdout",
     "output_type": "stream",
     "text": [
      "Accuracy: 0.9474\n",
      "Trial 2 params: 128, 0.2516329604804925, 0.0006381089522819854, 256, 6\n",
      "Trial 2 Epoch 0 start\n",
      "Trial 2 Epoch 0 end\n",
      "Trial 2 Epoch 1 start\n",
      "Trial 2 Epoch 1 end\n",
      "Trial 2 Epoch 2 start\n",
      "Trial 2 Epoch 2 end\n",
      "Trial 2 Epoch 3 start\n",
      "Trial 2 Epoch 3 end\n",
      "Trial 2 Epoch 4 start\n",
      "Trial 2 Epoch 4 end\n",
      "Trial 2 Epoch 5 start\n",
      "Trial 2 Epoch 5 end\n",
      "Trial 2 Epoch 6 start\n",
      "Trial 2 Epoch 6 end\n",
      "Trial 2 Epoch 7 start\n",
      "Trial 2 Epoch 7 end\n",
      "Trial 2 Epoch 8 start\n",
      "Trial 2 Epoch 8 end\n",
      "Trial 2 Epoch 9 start\n",
      "Trial 2 Epoch 9 end\n"
     ]
    },
    {
     "name": "stderr",
     "output_type": "stream",
     "text": [
      "[I 2025-06-01 17:00:23,636] Trial 2 finished with value: 0.20862921327321657 and parameters: {'hidden_dim': 128, 'dropout': 0.2516329604804925, 'learning_rate': 0.0006381089522819854, 'batch_size': 256, 'k': 6}. Best is trial 1 with value: 0.20198693129619388.\n"
     ]
    },
    {
     "name": "stdout",
     "output_type": "stream",
     "text": [
      "Accuracy: 0.9474\n",
      "Trial 3 params: 256, 0.16076978477620213, 0.00028795197482396666, 8, 6\n",
      "Trial 3 Epoch 0 start\n",
      "Trial 3 Epoch 0 end\n",
      "Trial 3 Epoch 1 start\n",
      "Trial 3 Epoch 1 end\n",
      "Trial 3 Epoch 2 start\n",
      "Trial 3 Epoch 2 end\n",
      "Trial 3 Epoch 3 start\n",
      "Trial 3 Epoch 3 end\n",
      "Trial 3 Epoch 4 start\n",
      "Trial 3 Epoch 4 end\n",
      "Trial 3 Epoch 5 start\n",
      "Trial 3 Epoch 5 end\n",
      "Trial 3 Epoch 6 start\n",
      "Trial 3 Epoch 6 end\n",
      "Trial 3 Epoch 7 start\n",
      "Trial 3 Epoch 7 end\n",
      "Trial 3 Epoch 8 start\n",
      "Trial 3 Epoch 8 end\n",
      "Trial 3 Epoch 9 start\n",
      "Trial 3 Epoch 9 end\n"
     ]
    },
    {
     "name": "stderr",
     "output_type": "stream",
     "text": [
      "[I 2025-06-01 17:08:18,783] Trial 3 finished with value: 0.1890521727455613 and parameters: {'hidden_dim': 256, 'dropout': 0.16076978477620213, 'learning_rate': 0.00028795197482396666, 'batch_size': 8, 'k': 6}. Best is trial 3 with value: 0.1890521727455613.\n"
     ]
    },
    {
     "name": "stdout",
     "output_type": "stream",
     "text": [
      "Accuracy: 0.9478\n",
      "Trial 4 params: 256, 0.49526093978725805, 0.00017283556377828464, 512, 10\n",
      "Trial 4 Epoch 0 start\n",
      "Trial 4 Epoch 0 end\n",
      "Trial 4 Epoch 1 start\n",
      "Trial 4 Epoch 1 end\n",
      "Trial 4 Epoch 2 start\n",
      "Trial 4 Epoch 2 end\n",
      "Trial 4 Epoch 3 start\n",
      "Trial 4 Epoch 3 end\n",
      "Trial 4 Epoch 4 start\n",
      "Trial 4 Epoch 4 end\n",
      "Trial 4 Epoch 5 start\n",
      "Trial 4 Epoch 5 end\n",
      "Trial 4 Epoch 6 start\n",
      "Trial 4 Epoch 6 end\n",
      "Trial 4 Epoch 7 start\n",
      "Trial 4 Epoch 7 end\n",
      "Trial 4 Epoch 8 start\n",
      "Trial 4 Epoch 8 end\n",
      "Trial 4 Epoch 9 start\n",
      "Trial 4 Epoch 9 end\n"
     ]
    },
    {
     "name": "stderr",
     "output_type": "stream",
     "text": [
      "[I 2025-06-01 17:18:09,028] Trial 4 finished with value: 0.20610228285513352 and parameters: {'hidden_dim': 256, 'dropout': 0.49526093978725805, 'learning_rate': 0.00017283556377828464, 'batch_size': 512, 'k': 10}. Best is trial 3 with value: 0.1890521727455613.\n"
     ]
    },
    {
     "name": "stdout",
     "output_type": "stream",
     "text": [
      "Accuracy: 0.9474\n",
      "Trial 5 params: 256, 0.3854579367591242, 0.002027279387781879, 256, 4\n",
      "Trial 5 Epoch 0 start\n",
      "Trial 5 Epoch 0 end\n",
      "Trial 5 Epoch 1 start\n",
      "Trial 5 Epoch 1 end\n",
      "Trial 5 Epoch 2 start\n",
      "Trial 5 Epoch 2 end\n",
      "Trial 5 Epoch 3 start\n",
      "Trial 5 Epoch 3 end\n",
      "Trial 5 Epoch 4 start\n",
      "Trial 5 Epoch 4 end\n",
      "Trial 5 Epoch 5 start\n",
      "Trial 5 Epoch 5 end\n",
      "Trial 5 Epoch 6 start\n",
      "Trial 5 Epoch 6 end\n",
      "Trial 5 Epoch 7 start\n",
      "Trial 5 Epoch 7 end\n",
      "Trial 5 Epoch 8 start\n",
      "Trial 5 Epoch 8 end\n",
      "Trial 5 Epoch 9 start\n",
      "Trial 5 Epoch 9 end\n"
     ]
    },
    {
     "name": "stderr",
     "output_type": "stream",
     "text": [
      "[I 2025-06-01 17:29:23,080] Trial 5 finished with value: 5.2598871460886425 and parameters: {'hidden_dim': 256, 'dropout': 0.3854579367591242, 'learning_rate': 0.002027279387781879, 'batch_size': 256, 'k': 4}. Best is trial 3 with value: 0.1890521727455613.\n"
     ]
    },
    {
     "name": "stdout",
     "output_type": "stream",
     "text": [
      "Accuracy: 0.9474\n",
      "Trial 6 params: 64, 0.023567233136950527, 0.0007958219315226435, 1024, 8\n",
      "Trial 6 Epoch 0 start\n",
      "Trial 6 Epoch 0 end\n",
      "Trial 6 Epoch 1 start\n",
      "Trial 6 Epoch 1 end\n",
      "Trial 6 Epoch 2 start\n",
      "Trial 6 Epoch 2 end\n",
      "Trial 6 Epoch 3 start\n",
      "Trial 6 Epoch 3 end\n",
      "Trial 6 Epoch 4 start\n",
      "Trial 6 Epoch 4 end\n",
      "Trial 6 Epoch 5 start\n",
      "Trial 6 Epoch 5 end\n",
      "Trial 6 Epoch 6 start\n",
      "Trial 6 Epoch 6 end\n",
      "Trial 6 Epoch 7 start\n",
      "Trial 6 Epoch 7 end\n",
      "Trial 6 Epoch 8 start\n",
      "Trial 6 Epoch 8 end\n",
      "Trial 6 Epoch 9 start\n",
      "Trial 6 Epoch 9 end\n"
     ]
    },
    {
     "name": "stderr",
     "output_type": "stream",
     "text": [
      "[I 2025-06-01 17:33:11,306] Trial 6 finished with value: 0.2061031162998086 and parameters: {'hidden_dim': 64, 'dropout': 0.023567233136950527, 'learning_rate': 0.0007958219315226435, 'batch_size': 1024, 'k': 8}. Best is trial 3 with value: 0.1890521727455613.\n"
     ]
    },
    {
     "name": "stdout",
     "output_type": "stream",
     "text": [
      "Accuracy: 0.9474\n",
      "Trial 7 params: 128, 0.46277616642040625, 0.00033025236336526844, 8, 6\n",
      "Trial 7 Epoch 0 start\n",
      "Trial 7 Epoch 0 end\n",
      "Trial 7 Epoch 1 start\n",
      "Trial 7 Epoch 1 end\n",
      "Trial 7 Epoch 2 start\n",
      "Trial 7 Epoch 2 end\n",
      "Trial 7 Epoch 3 start\n",
      "Trial 7 Epoch 3 end\n",
      "Trial 7 Epoch 4 start\n",
      "Trial 7 Epoch 4 end\n",
      "Trial 7 Epoch 5 start\n",
      "Trial 7 Epoch 5 end\n",
      "Trial 7 Epoch 6 start\n",
      "Trial 7 Epoch 6 end\n",
      "Trial 7 Epoch 7 start\n",
      "Trial 7 Epoch 7 end\n",
      "Trial 7 Epoch 8 start\n",
      "Trial 7 Epoch 8 end\n",
      "Trial 7 Epoch 9 start\n",
      "Trial 7 Epoch 9 end\n"
     ]
    },
    {
     "name": "stderr",
     "output_type": "stream",
     "text": [
      "[I 2025-06-01 17:36:38,847] Trial 7 finished with value: 0.19784554597010565 and parameters: {'hidden_dim': 128, 'dropout': 0.46277616642040625, 'learning_rate': 0.00033025236336526844, 'batch_size': 8, 'k': 6}. Best is trial 3 with value: 0.1890521727455613.\n"
     ]
    },
    {
     "name": "stdout",
     "output_type": "stream",
     "text": [
      "Accuracy: 0.9474\n",
      "Trial 8 params: 128, 0.2697069640531652, 0.000159240512684952, 1024, 8\n",
      "Trial 8 Epoch 0 start\n",
      "Trial 8 Epoch 0 end\n",
      "Trial 8 Epoch 1 start\n",
      "Trial 8 Epoch 1 end\n",
      "Trial 8 Epoch 2 start\n",
      "Trial 8 Epoch 2 end\n",
      "Trial 8 Epoch 3 start\n",
      "Trial 8 Epoch 3 end\n",
      "Trial 8 Epoch 4 start\n",
      "Trial 8 Epoch 4 end\n",
      "Trial 8 Epoch 5 start\n",
      "Trial 8 Epoch 5 end\n",
      "Trial 8 Epoch 6 start\n",
      "Trial 8 Epoch 6 end\n",
      "Trial 8 Epoch 7 start\n",
      "Trial 8 Epoch 7 end\n",
      "Trial 8 Epoch 8 start\n",
      "Trial 8 Epoch 8 end\n",
      "Trial 8 Epoch 9 start\n",
      "Trial 8 Epoch 9 end\n"
     ]
    },
    {
     "name": "stderr",
     "output_type": "stream",
     "text": [
      "[I 2025-06-01 17:40:54,301] Trial 8 finished with value: 0.20870648998027957 and parameters: {'hidden_dim': 128, 'dropout': 0.2697069640531652, 'learning_rate': 0.000159240512684952, 'batch_size': 1024, 'k': 8}. Best is trial 3 with value: 0.1890521727455613.\n"
     ]
    },
    {
     "name": "stdout",
     "output_type": "stream",
     "text": [
      "Accuracy: 0.9474\n",
      "Trial 9 params: 128, 0.2700451317173009, 0.0006344812261825161, 64, 12\n",
      "Trial 9 Epoch 0 start\n",
      "Trial 9 Epoch 0 end\n",
      "Trial 9 Epoch 1 start\n",
      "Trial 9 Epoch 1 end\n",
      "Trial 9 Epoch 2 start\n",
      "Trial 9 Epoch 2 end\n",
      "Trial 9 Epoch 3 start\n",
      "Trial 9 Epoch 3 end\n",
      "Trial 9 Epoch 4 start\n",
      "Trial 9 Epoch 4 end\n",
      "Trial 9 Epoch 5 start\n",
      "Trial 9 Epoch 5 end\n",
      "Trial 9 Epoch 6 start\n",
      "Trial 9 Epoch 6 end\n",
      "Trial 9 Epoch 7 start\n",
      "Trial 9 Epoch 7 end\n",
      "Trial 9 Epoch 8 start\n",
      "Trial 9 Epoch 8 end\n",
      "Trial 9 Epoch 9 start\n",
      "Trial 9 Epoch 9 end\n"
     ]
    },
    {
     "name": "stderr",
     "output_type": "stream",
     "text": [
      "[I 2025-06-01 17:45:34,047] Trial 9 finished with value: 0.1997564077896879 and parameters: {'hidden_dim': 128, 'dropout': 0.2700451317173009, 'learning_rate': 0.0006344812261825161, 'batch_size': 64, 'k': 12}. Best is trial 3 with value: 0.1890521727455613.\n"
     ]
    },
    {
     "name": "stdout",
     "output_type": "stream",
     "text": [
      "Accuracy: 0.9474\n",
      "Trial 10 params: 256, 0.13402608614680905, 0.007937900788287927, 8, 4\n",
      "Trial 10 Epoch 0 start\n",
      "Trial 10 Epoch 0 end\n",
      "Trial 10 Epoch 1 start\n",
      "Trial 10 Epoch 1 end\n",
      "Trial 10 Epoch 2 start\n",
      "Trial 10 Epoch 2 end\n",
      "Trial 10 Epoch 3 start\n",
      "Trial 10 Epoch 3 end\n",
      "Trial 10 Epoch 4 start\n",
      "Trial 10 Epoch 4 end\n",
      "Trial 10 Epoch 5 start\n",
      "Trial 10 Epoch 5 end\n",
      "Trial 10 Epoch 6 start\n",
      "Trial 10 Epoch 6 end\n",
      "Trial 10 Epoch 7 start\n",
      "Trial 10 Epoch 7 end\n",
      "Trial 10 Epoch 8 start\n",
      "Trial 10 Epoch 8 end\n",
      "Trial 10 Epoch 9 start\n",
      "Trial 10 Epoch 9 end\n"
     ]
    },
    {
     "name": "stderr",
     "output_type": "stream",
     "text": [
      "[I 2025-06-01 17:54:11,189] Trial 10 finished with value: 5.2598871460886425 and parameters: {'hidden_dim': 256, 'dropout': 0.13402608614680905, 'learning_rate': 0.007937900788287927, 'batch_size': 8, 'k': 4}. Best is trial 3 with value: 0.1890521727455613.\n"
     ]
    },
    {
     "name": "stdout",
     "output_type": "stream",
     "text": [
      "Accuracy: 0.9474\n",
      "Trial 11 params: 128, 0.14575179463148874, 0.0003180016320059195, 8, 6\n",
      "Trial 11 Epoch 0 start\n",
      "Trial 11 Epoch 0 end\n",
      "Trial 11 Epoch 1 start\n",
      "Trial 11 Epoch 1 end\n",
      "Trial 11 Epoch 2 start\n",
      "Trial 11 Epoch 2 end\n",
      "Trial 11 Epoch 3 start\n",
      "Trial 11 Epoch 3 end\n",
      "Trial 11 Epoch 4 start\n",
      "Trial 11 Epoch 4 end\n",
      "Trial 11 Epoch 5 start\n",
      "Trial 11 Epoch 5 end\n",
      "Trial 11 Epoch 6 start\n",
      "Trial 11 Epoch 6 end\n",
      "Trial 11 Epoch 7 start\n",
      "Trial 11 Epoch 7 end\n",
      "Trial 11 Epoch 8 start\n",
      "Trial 11 Epoch 8 end\n",
      "Trial 11 Epoch 9 start\n",
      "Trial 11 Epoch 9 end\n"
     ]
    },
    {
     "name": "stderr",
     "output_type": "stream",
     "text": [
      "[I 2025-06-01 17:57:38,094] Trial 11 finished with value: 0.19339418825717236 and parameters: {'hidden_dim': 128, 'dropout': 0.14575179463148874, 'learning_rate': 0.0003180016320059195, 'batch_size': 8, 'k': 6}. Best is trial 3 with value: 0.1890521727455613.\n"
     ]
    },
    {
     "name": "stdout",
     "output_type": "stream",
     "text": [
      "Accuracy: 0.9476\n",
      "Trial 12 params: 256, 0.14916287483173302, 0.00010279494609844131, 8, 4\n",
      "Trial 12 Epoch 0 start\n",
      "Trial 12 Epoch 0 end\n",
      "Trial 12 Epoch 1 start\n",
      "Trial 12 Epoch 1 end\n",
      "Trial 12 Epoch 2 start\n",
      "Trial 12 Epoch 2 end\n",
      "Trial 12 Epoch 3 start\n",
      "Trial 12 Epoch 3 end\n",
      "Trial 12 Epoch 4 start\n",
      "Trial 12 Epoch 4 end\n",
      "Trial 12 Epoch 5 start\n",
      "Trial 12 Epoch 5 end\n",
      "Trial 12 Epoch 6 start\n",
      "Trial 12 Epoch 6 end\n",
      "Trial 12 Epoch 7 start\n",
      "Trial 12 Epoch 7 end\n",
      "Trial 12 Epoch 8 start\n",
      "Trial 12 Epoch 8 end\n",
      "Trial 12 Epoch 9 start\n",
      "Trial 12 Epoch 9 end\n"
     ]
    },
    {
     "name": "stderr",
     "output_type": "stream",
     "text": [
      "[I 2025-06-01 18:06:18,164] Trial 12 finished with value: 0.1900994953559249 and parameters: {'hidden_dim': 256, 'dropout': 0.14916287483173302, 'learning_rate': 0.00010279494609844131, 'batch_size': 8, 'k': 4}. Best is trial 3 with value: 0.1890521727455613.\n"
     ]
    },
    {
     "name": "stdout",
     "output_type": "stream",
     "text": [
      "Accuracy: 0.9474\n",
      "Trial 13 params: 256, 0.14427627680896046, 0.00011543142843489611, 8, 4\n",
      "Trial 13 Epoch 0 start\n",
      "Trial 13 Epoch 0 end\n",
      "Trial 13 Epoch 1 start\n",
      "Trial 13 Epoch 1 end\n",
      "Trial 13 Epoch 2 start\n",
      "Trial 13 Epoch 2 end\n",
      "Trial 13 Epoch 3 start\n",
      "Trial 13 Epoch 3 end\n",
      "Trial 13 Epoch 4 start\n",
      "Trial 13 Epoch 4 end\n",
      "Trial 13 Epoch 5 start\n",
      "Trial 13 Epoch 5 end\n",
      "Trial 13 Epoch 6 start\n",
      "Trial 13 Epoch 6 end\n",
      "Trial 13 Epoch 7 start\n",
      "Trial 13 Epoch 7 end\n",
      "Trial 13 Epoch 8 start\n",
      "Trial 13 Epoch 8 end\n",
      "Trial 13 Epoch 9 start\n",
      "Trial 13 Epoch 9 end\n"
     ]
    },
    {
     "name": "stderr",
     "output_type": "stream",
     "text": [
      "[I 2025-06-01 18:14:35,529] Trial 13 finished with value: 0.1888834753631286 and parameters: {'hidden_dim': 256, 'dropout': 0.14427627680896046, 'learning_rate': 0.00011543142843489611, 'batch_size': 8, 'k': 4}. Best is trial 13 with value: 0.1888834753631286.\n"
     ]
    },
    {
     "name": "stdout",
     "output_type": "stream",
     "text": [
      "Accuracy: 0.9477\n",
      "Trial 14 params: 256, 0.08772363036814851, 0.00030638810061827407, 8, 4\n",
      "Trial 14 Epoch 0 start\n",
      "Trial 14 Epoch 0 end\n",
      "Trial 14 Epoch 1 start\n",
      "Trial 14 Epoch 1 end\n",
      "Trial 14 Epoch 2 start\n",
      "Trial 14 Epoch 2 end\n",
      "Trial 14 Epoch 3 start\n",
      "Trial 14 Epoch 3 end\n",
      "Trial 14 Epoch 4 start\n",
      "Trial 14 Epoch 4 end\n",
      "Trial 14 Epoch 5 start\n",
      "Trial 14 Epoch 5 end\n",
      "Trial 14 Epoch 6 start\n",
      "Trial 14 Epoch 6 end\n",
      "Trial 14 Epoch 7 start\n",
      "Trial 14 Epoch 7 end\n",
      "Trial 14 Epoch 8 start\n",
      "Trial 14 Epoch 8 end\n",
      "Trial 14 Epoch 9 start\n",
      "Trial 14 Epoch 9 end\n"
     ]
    },
    {
     "name": "stderr",
     "output_type": "stream",
     "text": [
      "[I 2025-06-01 18:22:26,292] Trial 14 finished with value: 0.18992752254350517 and parameters: {'hidden_dim': 256, 'dropout': 0.08772363036814851, 'learning_rate': 0.00030638810061827407, 'batch_size': 8, 'k': 4}. Best is trial 13 with value: 0.1888834753631286.\n"
     ]
    },
    {
     "name": "stdout",
     "output_type": "stream",
     "text": [
      "Accuracy: 0.9475\n",
      "Trial 15 params: 256, 0.18943181378633753, 0.00012403934740108768, 512, 10\n",
      "Trial 15 Epoch 0 start\n",
      "Trial 15 Epoch 0 end\n",
      "Trial 15 Epoch 1 start\n",
      "Trial 15 Epoch 1 end\n",
      "Trial 15 Epoch 2 start\n",
      "Trial 15 Epoch 2 end\n",
      "Trial 15 Epoch 3 start\n",
      "Trial 15 Epoch 3 end\n",
      "Trial 15 Epoch 4 start\n",
      "Trial 15 Epoch 4 end\n",
      "Trial 15 Epoch 5 start\n",
      "Trial 15 Epoch 5 end\n",
      "Trial 15 Epoch 6 start\n",
      "Trial 15 Epoch 6 end\n",
      "Trial 15 Epoch 7 start\n",
      "Trial 15 Epoch 7 end\n",
      "Trial 15 Epoch 8 start\n",
      "Trial 15 Epoch 8 end\n",
      "Trial 15 Epoch 9 start\n",
      "Trial 15 Epoch 9 end\n"
     ]
    },
    {
     "name": "stderr",
     "output_type": "stream",
     "text": [
      "[I 2025-06-01 18:33:11,196] Trial 15 finished with value: 0.20657692555173715 and parameters: {'hidden_dim': 256, 'dropout': 0.18943181378633753, 'learning_rate': 0.00012403934740108768, 'batch_size': 512, 'k': 10}. Best is trial 13 with value: 0.1888834753631286.\n"
     ]
    },
    {
     "name": "stdout",
     "output_type": "stream",
     "text": [
      "Accuracy: 0.9474\n",
      "Trial 16 params: 256, 0.18864678542007912, 0.0002041005608433995, 8, 4\n",
      "Trial 16 Epoch 0 start\n",
      "Trial 16 Epoch 0 end\n",
      "Trial 16 Epoch 1 start\n",
      "Trial 16 Epoch 1 end\n",
      "Trial 16 Epoch 2 start\n",
      "Trial 16 Epoch 2 end\n",
      "Trial 16 Epoch 3 start\n",
      "Trial 16 Epoch 3 end\n",
      "Trial 16 Epoch 4 start\n",
      "Trial 16 Epoch 4 end\n",
      "Trial 16 Epoch 5 start\n",
      "Trial 16 Epoch 5 end\n",
      "Trial 16 Epoch 6 start\n",
      "Trial 16 Epoch 6 end\n",
      "Trial 16 Epoch 7 start\n",
      "Trial 16 Epoch 7 end\n",
      "Trial 16 Epoch 8 start\n",
      "Trial 16 Epoch 8 end\n",
      "Trial 16 Epoch 9 start\n",
      "Trial 16 Epoch 9 end\n"
     ]
    },
    {
     "name": "stderr",
     "output_type": "stream",
     "text": [
      "[I 2025-06-01 18:40:34,904] Trial 16 finished with value: 0.18907371587436503 and parameters: {'hidden_dim': 256, 'dropout': 0.18864678542007912, 'learning_rate': 0.0002041005608433995, 'batch_size': 8, 'k': 4}. Best is trial 13 with value: 0.1888834753631286.\n"
     ]
    },
    {
     "name": "stdout",
     "output_type": "stream",
     "text": [
      "Accuracy: 0.9480\n",
      "Trial 17 params: 64, 0.07891424210698186, 0.0004236444934161389, 8, 8\n",
      "Trial 17 Epoch 0 start\n",
      "Trial 17 Epoch 0 end\n",
      "Trial 17 Epoch 1 start\n",
      "Trial 17 Epoch 1 end\n",
      "Trial 17 Epoch 2 start\n",
      "Trial 17 Epoch 2 end\n",
      "Trial 17 Epoch 3 start\n",
      "Trial 17 Epoch 3 end\n",
      "Trial 17 Epoch 4 start\n",
      "Trial 17 Epoch 4 end\n",
      "Trial 17 Epoch 5 start\n",
      "Trial 17 Epoch 5 end\n",
      "Trial 17 Epoch 6 start\n",
      "Trial 17 Epoch 6 end\n",
      "Trial 17 Epoch 7 start\n",
      "Trial 17 Epoch 7 end\n",
      "Trial 17 Epoch 8 start\n",
      "Trial 17 Epoch 8 end\n",
      "Trial 17 Epoch 9 start\n",
      "Trial 17 Epoch 9 end\n"
     ]
    },
    {
     "name": "stderr",
     "output_type": "stream",
     "text": [
      "[I 2025-06-01 18:43:05,447] Trial 17 finished with value: 0.19807145562500228 and parameters: {'hidden_dim': 64, 'dropout': 0.07891424210698186, 'learning_rate': 0.0004236444934161389, 'batch_size': 8, 'k': 8}. Best is trial 13 with value: 0.1888834753631286.\n"
     ]
    },
    {
     "name": "stdout",
     "output_type": "stream",
     "text": [
      "Accuracy: 0.9474\n",
      "Trial 18 params: 256, 0.35464959877601726, 0.0015942728233259464, 8, 6\n",
      "Trial 18 Epoch 0 start\n",
      "Trial 18 Epoch 0 end\n",
      "Trial 18 Epoch 1 start\n",
      "Trial 18 Epoch 1 end\n",
      "Trial 18 Epoch 2 start\n",
      "Trial 18 Epoch 2 end\n",
      "Trial 18 Epoch 3 start\n",
      "Trial 18 Epoch 3 end\n",
      "Trial 18 Epoch 4 start\n",
      "Trial 18 Epoch 4 end\n",
      "Trial 18 Epoch 5 start\n",
      "Trial 18 Epoch 5 end\n",
      "Trial 18 Epoch 6 start\n",
      "Trial 18 Epoch 6 end\n",
      "Trial 18 Epoch 7 start\n",
      "Trial 18 Epoch 7 end\n",
      "Trial 18 Epoch 8 start\n",
      "Trial 18 Epoch 8 end\n",
      "Trial 18 Epoch 9 start\n",
      "Trial 18 Epoch 9 end\n"
     ]
    },
    {
     "name": "stderr",
     "output_type": "stream",
     "text": [
      "[I 2025-06-01 18:51:55,269] Trial 18 finished with value: 5.2598871460886425 and parameters: {'hidden_dim': 256, 'dropout': 0.35464959877601726, 'learning_rate': 0.0015942728233259464, 'batch_size': 8, 'k': 6}. Best is trial 13 with value: 0.1888834753631286.\n"
     ]
    },
    {
     "name": "stdout",
     "output_type": "stream",
     "text": [
      "Accuracy: 0.9474\n",
      "Trial 19 params: 256, 0.2051546611173679, 0.00022874530969912676, 64, 8\n",
      "Trial 19 Epoch 0 start\n",
      "Trial 19 Epoch 0 end\n",
      "Trial 19 Epoch 1 start\n",
      "Trial 19 Epoch 1 end\n",
      "Trial 19 Epoch 2 start\n",
      "Trial 19 Epoch 2 end\n",
      "Trial 19 Epoch 3 start\n",
      "Trial 19 Epoch 3 end\n",
      "Trial 19 Epoch 4 start\n",
      "Trial 19 Epoch 4 end\n",
      "Trial 19 Epoch 5 start\n",
      "Trial 19 Epoch 5 end\n",
      "Trial 19 Epoch 6 start\n",
      "Trial 19 Epoch 6 end\n",
      "Trial 19 Epoch 7 start\n",
      "Trial 19 Epoch 7 end\n",
      "Trial 19 Epoch 8 start\n",
      "Trial 19 Epoch 8 end\n",
      "Trial 19 Epoch 9 start\n",
      "Trial 19 Epoch 9 end\n"
     ]
    },
    {
     "name": "stderr",
     "output_type": "stream",
     "text": [
      "[I 2025-06-01 19:01:05,031] Trial 19 finished with value: 0.20547032039587684 and parameters: {'hidden_dim': 256, 'dropout': 0.2051546611173679, 'learning_rate': 0.00022874530969912676, 'batch_size': 64, 'k': 8}. Best is trial 13 with value: 0.1888834753631286.\n"
     ]
    },
    {
     "name": "stdout",
     "output_type": "stream",
     "text": [
      "Accuracy: 0.9474\n",
      "Best params: {'hidden_dim': 256, 'dropout': 0.14427627680896046, 'learning_rate': 0.00011543142843489611, 'batch_size': 8, 'k': 4}\n",
      "Best value: 0.1888834753631286\n"
     ]
    }
   ],
   "source": [
    "import optuna\n",
    "# expand the search space in Optuna.\n",
    "def objective(trial):\n",
    "    hidden_dim = trial.suggest_categorical('hidden_dim', [64, 128, 256])\n",
    "    dropout = trial.suggest_float('dropout', 0.0, 0.5)\n",
    "    learning_rate = trial.suggest_float('learning_rate', 1e-4, 1e-2, log=True)\n",
    "    batch_size = trial.suggest_categorical('batch_size', [8,64,256, 512, 1024])\n",
    "    k = trial.suggest_int('k', 4, 12, step=2)\n",
    "    activation = torch.nn.ReLU()\n",
    "    # reconstruct spatial graph\n",
    "    edge_index, edge_weight = build_spatial_graph(spatial_df, k=k)\n",
    "    edge_index = edge_index.to(device)\n",
    "    edge_weight = edge_weight.to(device)\n",
    "    model = SpatioTemporalGNN(\n",
    "        spatial_features=len(spatial_cols),\n",
    "        temporal_features=len(temporal_cols),\n",
    "        hidden_dim=hidden_dim,\n",
    "        dropout=dropout,\n",
    "        activation=activation\n",
    "    ).to(device)\n",
    "    optimizer = torch.optim.Adam(model.parameters(), lr=learning_rate)\n",
    "    print(f\"Trial {trial.number} params: {hidden_dim}, {dropout}, {learning_rate}, {batch_size}, {k}\")\n",
    "    for epoch in range(10):\n",
    "        print(f\"Trial {trial.number} Epoch {epoch} start\")\n",
    "        run_epoch(train_batches, model, spatial_x, edge_index, edge_weight, optimizer, batch_size=batch_size)\n",
    "        print(f\"Trial {trial.number} Epoch {epoch} end\")\n",
    "    val_loss, yv, pv = run_epoch(val_batches, model, spatial_x, edge_index, edge_weight, optimizer=None, batch_size=batch_size, collect_pred=True)\n",
    "    r2 = 1 - np.sum((yv - pv)**2) / np.sum((yv - yv.mean())**2)\n",
    "    return val_loss\n",
    "\n",
    "device = torch.device('cpu')\n",
    "print('使用裝置:', device)\n",
    "\n",
    "study = optuna.create_study(direction='minimize')\n",
    "study.optimize(objective, n_trials=20)\n",
    "\n",
    "print('Best params:', study.best_params)\n",
    "print('Best value:', study.best_value)"
   ]
  },
  {
   "cell_type": "code",
   "execution_count": 73,
   "metadata": {
    "trusted": true
   },
   "outputs": [
    {
     "name": "stderr",
     "output_type": "stream",
     "text": [
      "  0%|          | 0/200 [00:00<?, ?it/s]/Users/yhk/miniforge3/envs/gnn_env/lib/python3.12/site-packages/sklearn/metrics/_classification.py:1565: UndefinedMetricWarning: Precision is ill-defined and being set to 0.0 due to no predicted samples. Use `zero_division` parameter to control this behavior.\n",
      "  _warn_prf(average, modifier, f\"{metric.capitalize()} is\", len(result))\n",
      "  0%|          | 1/200 [00:49<2:43:11, 49.20s/it]"
     ]
    },
    {
     "name": "stdout",
     "output_type": "stream",
     "text": [
      "Accuracy: 0.9474\n",
      "Epoch:  0 Val loss: 0.2059828694004008 accuracy: 0.9474011285391136 f1 score: 0.0 precision: 0.0 recall: 0.0 auc: 0.6814207887584072\n"
     ]
    },
    {
     "name": "stderr",
     "output_type": "stream",
     "text": [
      "/Users/yhk/miniforge3/envs/gnn_env/lib/python3.12/site-packages/sklearn/metrics/_classification.py:1565: UndefinedMetricWarning: Precision is ill-defined and being set to 0.0 due to no predicted samples. Use `zero_division` parameter to control this behavior.\n",
      "  _warn_prf(average, modifier, f\"{metric.capitalize()} is\", len(result))\n",
      "  1%|          | 2/200 [01:36<2:38:46, 48.11s/it]"
     ]
    },
    {
     "name": "stdout",
     "output_type": "stream",
     "text": [
      "Accuracy: 0.9474\n",
      "Epoch:  1 Val loss: 0.20592070886626052 accuracy: 0.9474011285391136 f1 score: 0.0 precision: 0.0 recall: 0.0 auc: 0.6867931299188338\n"
     ]
    },
    {
     "name": "stderr",
     "output_type": "stream",
     "text": [
      "/Users/yhk/miniforge3/envs/gnn_env/lib/python3.12/site-packages/sklearn/metrics/_classification.py:1565: UndefinedMetricWarning: Precision is ill-defined and being set to 0.0 due to no predicted samples. Use `zero_division` parameter to control this behavior.\n",
      "  _warn_prf(average, modifier, f\"{metric.capitalize()} is\", len(result))\n",
      "  2%|▏         | 3/200 [02:20<2:32:00, 46.30s/it]"
     ]
    },
    {
     "name": "stdout",
     "output_type": "stream",
     "text": [
      "Accuracy: 0.9474\n",
      "Epoch:  2 Val loss: 0.2054389405464102 accuracy: 0.9474011285391136 f1 score: 0.0 precision: 0.0 recall: 0.0 auc: 0.6879682908847216\n"
     ]
    },
    {
     "name": "stderr",
     "output_type": "stream",
     "text": [
      "/Users/yhk/miniforge3/envs/gnn_env/lib/python3.12/site-packages/sklearn/metrics/_classification.py:1565: UndefinedMetricWarning: Precision is ill-defined and being set to 0.0 due to no predicted samples. Use `zero_division` parameter to control this behavior.\n",
      "  _warn_prf(average, modifier, f\"{metric.capitalize()} is\", len(result))\n",
      "  2%|▏         | 4/200 [03:06<2:30:47, 46.16s/it]"
     ]
    },
    {
     "name": "stdout",
     "output_type": "stream",
     "text": [
      "Accuracy: 0.9474\n",
      "Epoch:  3 Val loss: 0.2044369247320079 accuracy: 0.9474011285391136 f1 score: 0.0 precision: 0.0 recall: 0.0 auc: 0.688171406937218\n"
     ]
    },
    {
     "name": "stderr",
     "output_type": "stream",
     "text": [
      "/Users/yhk/miniforge3/envs/gnn_env/lib/python3.12/site-packages/sklearn/metrics/_classification.py:1565: UndefinedMetricWarning: Precision is ill-defined and being set to 0.0 due to no predicted samples. Use `zero_division` parameter to control this behavior.\n",
      "  _warn_prf(average, modifier, f\"{metric.capitalize()} is\", len(result))\n",
      "  2%|▎         | 5/200 [03:50<2:27:25, 45.36s/it]"
     ]
    },
    {
     "name": "stdout",
     "output_type": "stream",
     "text": [
      "Accuracy: 0.9474\n",
      "Epoch:  4 Val loss: 0.2034470694721774 accuracy: 0.9474011285391136 f1 score: 0.0 precision: 0.0 recall: 0.0 auc: 0.687625198744469\n"
     ]
    },
    {
     "name": "stderr",
     "output_type": "stream",
     "text": [
      "/Users/yhk/miniforge3/envs/gnn_env/lib/python3.12/site-packages/sklearn/metrics/_classification.py:1565: UndefinedMetricWarning: Precision is ill-defined and being set to 0.0 due to no predicted samples. Use `zero_division` parameter to control this behavior.\n",
      "  _warn_prf(average, modifier, f\"{metric.capitalize()} is\", len(result))\n",
      "  3%|▎         | 6/200 [04:36<2:27:21, 45.57s/it]"
     ]
    },
    {
     "name": "stdout",
     "output_type": "stream",
     "text": [
      "Accuracy: 0.9474\n",
      "Epoch:  5 Val loss: 0.20069276404364797 accuracy: 0.9474011285391136 f1 score: 0.0 precision: 0.0 recall: 0.0 auc: 0.68695687761054\n"
     ]
    },
    {
     "name": "stderr",
     "output_type": "stream",
     "text": [
      "/Users/yhk/miniforge3/envs/gnn_env/lib/python3.12/site-packages/sklearn/metrics/_classification.py:1565: UndefinedMetricWarning: Precision is ill-defined and being set to 0.0 due to no predicted samples. Use `zero_division` parameter to control this behavior.\n",
      "  _warn_prf(average, modifier, f\"{metric.capitalize()} is\", len(result))\n",
      "  4%|▎         | 7/200 [05:21<2:26:17, 45.48s/it]"
     ]
    },
    {
     "name": "stdout",
     "output_type": "stream",
     "text": [
      "Accuracy: 0.9474\n",
      "Epoch:  6 Val loss: 0.19573819514322982 accuracy: 0.9474011285391136 f1 score: 0.0 precision: 0.0 recall: 0.0 auc: 0.6875705105534872\n"
     ]
    },
    {
     "name": "stderr",
     "output_type": "stream",
     "text": [
      "/Users/yhk/miniforge3/envs/gnn_env/lib/python3.12/site-packages/sklearn/metrics/_classification.py:1565: UndefinedMetricWarning: Precision is ill-defined and being set to 0.0 due to no predicted samples. Use `zero_division` parameter to control this behavior.\n",
      "  _warn_prf(average, modifier, f\"{metric.capitalize()} is\", len(result))\n",
      "  4%|▍         | 8/200 [06:07<2:26:01, 45.64s/it]"
     ]
    },
    {
     "name": "stdout",
     "output_type": "stream",
     "text": [
      "Accuracy: 0.9474\n",
      "Epoch:  7 Val loss: 0.1949992597059164 accuracy: 0.9474011285391136 f1 score: 0.0 precision: 0.0 recall: 0.0 auc: 0.6899622185529029\n"
     ]
    },
    {
     "name": "stderr",
     "output_type": "stream",
     "text": [
      "/Users/yhk/miniforge3/envs/gnn_env/lib/python3.12/site-packages/sklearn/metrics/_classification.py:1565: UndefinedMetricWarning: Precision is ill-defined and being set to 0.0 due to no predicted samples. Use `zero_division` parameter to control this behavior.\n",
      "  _warn_prf(average, modifier, f\"{metric.capitalize()} is\", len(result))\n",
      "  4%|▍         | 9/200 [06:53<2:25:16, 45.64s/it]"
     ]
    },
    {
     "name": "stdout",
     "output_type": "stream",
     "text": [
      "Accuracy: 0.9474\n",
      "Epoch:  8 Val loss: 0.19208127501072392 accuracy: 0.9474011285391136 f1 score: 0.0 precision: 0.0 recall: 0.0 auc: 0.6926968802292465\n"
     ]
    },
    {
     "name": "stderr",
     "output_type": "stream",
     "text": [
      "/Users/yhk/miniforge3/envs/gnn_env/lib/python3.12/site-packages/sklearn/metrics/_classification.py:1565: UndefinedMetricWarning: Precision is ill-defined and being set to 0.0 due to no predicted samples. Use `zero_division` parameter to control this behavior.\n",
      "  _warn_prf(average, modifier, f\"{metric.capitalize()} is\", len(result))\n",
      "  5%|▌         | 10/200 [07:38<2:23:41, 45.38s/it]"
     ]
    },
    {
     "name": "stdout",
     "output_type": "stream",
     "text": [
      "Accuracy: 0.9474\n",
      "Epoch:  9 Val loss: 0.18921245545966464 accuracy: 0.9474011285391136 f1 score: 0.0 precision: 0.0 recall: 0.0 auc: 0.6963852910606265\n"
     ]
    },
    {
     "name": "stderr",
     "output_type": "stream",
     "text": [
      "  6%|▌         | 11/200 [08:24<2:23:19, 45.50s/it]"
     ]
    },
    {
     "name": "stdout",
     "output_type": "stream",
     "text": [
      "Accuracy: 0.9478\n",
      "Epoch:  10 Val loss: 0.18868062508176658 accuracy: 0.9478485669541873 f1 score: 0.027202472952086554 precision: 0.7213114754098361 recall: 0.013862633900441084 auc: 0.6989145096739793\n"
     ]
    },
    {
     "name": "stderr",
     "output_type": "stream",
     "text": [
      "  6%|▌         | 12/200 [09:10<2:23:38, 45.84s/it]"
     ]
    },
    {
     "name": "stdout",
     "output_type": "stream",
     "text": [
      "Accuracy: 0.9479\n",
      "Epoch:  11 Val loss: 0.19050266182708 accuracy: 0.9478651387473381 f1 score: 0.0317020621729763 precision: 0.6866666666666666 recall: 0.01622558286074354 auc: 0.701080182840806\n"
     ]
    },
    {
     "name": "stderr",
     "output_type": "stream",
     "text": [
      "  6%|▋         | 13/200 [09:55<2:22:08, 45.61s/it]"
     ]
    },
    {
     "name": "stdout",
     "output_type": "stream",
     "text": [
      "Accuracy: 0.9476\n",
      "Epoch:  12 Val loss: 0.19201894613137963 accuracy: 0.947616561850075 f1 score: 0.011260556771973726 precision: 0.782608695652174 recall: 0.005671077504725898 auc: 0.7030517965587393\n"
     ]
    },
    {
     "name": "stderr",
     "output_type": "stream",
     "text": [
      "  7%|▋         | 14/200 [10:42<2:22:31, 45.97s/it]"
     ]
    },
    {
     "name": "stdout",
     "output_type": "stream",
     "text": [
      "Accuracy: 0.9479\n",
      "Epoch:  13 Val loss: 0.19315263002105104 accuracy: 0.9479397118165171 f1 score: 0.03708812260536398 precision: 0.6836158192090396 recall: 0.01906112161310649 auc: 0.7059991771668848\n"
     ]
    },
    {
     "name": "stderr",
     "output_type": "stream",
     "text": [
      "  8%|▊         | 15/200 [11:27<2:21:12, 45.80s/it]"
     ]
    },
    {
     "name": "stdout",
     "output_type": "stream",
     "text": [
      "Accuracy: 0.9476\n",
      "Epoch:  14 Val loss: 0.19477603320679862 accuracy: 0.9475917041603487 f1 score: 0.009397024275646046 precision: 0.8108108108108109 recall: 0.004725897920604915 auc: 0.7090694525862258\n"
     ]
    },
    {
     "name": "stderr",
     "output_type": "stream",
     "text": [
      "  8%|▊         | 16/200 [12:14<2:21:00, 45.98s/it]"
     ]
    },
    {
     "name": "stdout",
     "output_type": "stream",
     "text": [
      "Accuracy: 0.9478\n",
      "Epoch:  15 Val loss: 0.20242052545179012 accuracy: 0.9478402810576119 f1 score: 0.026596567187258387 precision: 0.7226890756302521 recall: 0.013547574039067423 auc: 0.7124896702915732\n"
     ]
    },
    {
     "name": "stderr",
     "output_type": "stream",
     "text": [
      "  8%|▊         | 17/200 [13:00<2:20:27, 46.05s/it]"
     ]
    },
    {
     "name": "stdout",
     "output_type": "stream",
     "text": [
      "Accuracy: 0.9479\n",
      "Epoch:  16 Val loss: 0.20042134441536397 accuracy: 0.9479314259199416 f1 score: 0.03233754234678164 precision: 0.7191780821917808 recall: 0.0165406427221172 auc: 0.7174603934134046\n"
     ]
    },
    {
     "name": "stderr",
     "output_type": "stream",
     "text": [
      "  9%|▉         | 18/200 [13:46<2:19:37, 46.03s/it]"
     ]
    },
    {
     "name": "stdout",
     "output_type": "stream",
     "text": [
      "Accuracy: 0.9479\n",
      "Epoch:  17 Val loss: 0.19995095301991314 accuracy: 0.9479479977130926 f1 score: 0.03294334975369458 precision: 0.722972972972973 recall: 0.016855702583490863 auc: 0.7305995888215167\n"
     ]
    },
    {
     "name": "stderr",
     "output_type": "stream",
     "text": [
      " 10%|▉         | 19/200 [14:32<2:18:30, 45.92s/it]"
     ]
    },
    {
     "name": "stdout",
     "output_type": "stream",
     "text": [
      "Accuracy: 0.9480\n",
      "Epoch:  18 Val loss: 0.21965794921769807 accuracy: 0.947956283609668 f1 score: 0.03857339660186744 precision: 0.6810810810810811 recall: 0.01984877126654064 auc: 0.737542470559239\n"
     ]
    },
    {
     "name": "stderr",
     "output_type": "stream",
     "text": [
      " 10%|█         | 20/200 [15:17<2:17:27, 45.82s/it]"
     ]
    },
    {
     "name": "stdout",
     "output_type": "stream",
     "text": [
      "Accuracy: 0.9480\n",
      "Epoch:  19 Val loss: 0.2445104285240355 accuracy: 0.9479894271959698 f1 score: 0.044742048394460505 precision: 0.6591928251121076 recall: 0.023156899810964082 auc: 0.7485769145965876\n"
     ]
    },
    {
     "name": "stderr",
     "output_type": "stream",
     "text": [
      " 10%|█         | 21/200 [16:03<2:16:48, 45.86s/it]"
     ]
    },
    {
     "name": "stdout",
     "output_type": "stream",
     "text": [
      "Accuracy: 0.9480\n",
      "Epoch:  20 Val loss: 0.24678647098065398 accuracy: 0.947956283609668 f1 score: 0.0382789771857296 precision: 0.6830601092896175 recall: 0.01969124133585381 auc: 0.7594244620788028\n"
     ]
    },
    {
     "name": "stderr",
     "output_type": "stream",
     "text": [
      " 11%|█         | 22/200 [16:48<2:15:30, 45.68s/it]"
     ]
    },
    {
     "name": "stdout",
     "output_type": "stream",
     "text": [
      "Accuracy: 0.9480\n",
      "Epoch:  21 Val loss: 0.2508940795452383 accuracy: 0.9480225707822715 f1 score: 0.05055244437717572 precision: 0.6447876447876448 recall: 0.026307498424700693 auc: 0.7635800708990637\n"
     ]
    },
    {
     "name": "stderr",
     "output_type": "stream",
     "text": [
      " 12%|█▏        | 23/200 [17:34<2:14:42, 45.66s/it]"
     ]
    },
    {
     "name": "stdout",
     "output_type": "stream",
     "text": [
      "Accuracy: 0.9480\n",
      "Epoch:  22 Val loss: 0.2538325508339755 accuracy: 0.9479728554028188 f1 score: 0.03887953467013623 precision: 0.6864864864864865 recall: 0.020006301197227475 auc: 0.7690004381668452\n"
     ]
    },
    {
     "name": "stderr",
     "output_type": "stream",
     "text": [
      " 12%|█▏        | 24/200 [18:21<2:14:40, 45.91s/it]"
     ]
    },
    {
     "name": "stdout",
     "output_type": "stream",
     "text": [
      "Accuracy: 0.9480\n",
      "Epoch:  23 Val loss: 0.24804670115497146 accuracy: 0.9480391425754223 f1 score: 0.05599879572482312 precision: 0.6305084745762712 recall: 0.02930056710775047 auc: 0.7641282148228634\n"
     ]
    },
    {
     "name": "stderr",
     "output_type": "stream",
     "text": [
      " 12%|█▎        | 25/200 [19:07<2:14:06, 45.98s/it]"
     ]
    },
    {
     "name": "stdout",
     "output_type": "stream",
     "text": [
      "Accuracy: 0.9480\n",
      "Epoch:  24 Val loss: 0.23421610071302568 accuracy: 0.9479728554028188 f1 score: 0.03858520900321544 precision: 0.6885245901639344 recall: 0.01984877126654064 auc: 0.776288289910601\n"
     ]
    },
    {
     "name": "stderr",
     "output_type": "stream",
     "text": [
      " 13%|█▎        | 26/200 [19:53<2:13:40, 46.09s/it]"
     ]
    },
    {
     "name": "stdout",
     "output_type": "stream",
     "text": [
      "Accuracy: 0.9480\n",
      "Epoch:  25 Val loss: 0.2341106738810447 accuracy: 0.9480059989891206 f1 score: 0.03949181080667381 precision: 0.6972972972972973 recall: 0.020321361058601134 auc: 0.7735343053673626\n"
     ]
    },
    {
     "name": "stderr",
     "output_type": "stream",
     "text": [
      " 14%|█▎        | 27/200 [20:37<2:11:25, 45.58s/it]"
     ]
    },
    {
     "name": "stdout",
     "output_type": "stream",
     "text": [
      "Accuracy: 0.9480\n",
      "Epoch:  26 Val loss: 0.25789261727161317 accuracy: 0.9480059989891206 f1 score: 0.04736602398664035 precision: 0.6527196652719666 recall: 0.024574669187145556 auc: 0.7582966190595866\n"
     ]
    },
    {
     "name": "stderr",
     "output_type": "stream",
     "text": [
      " 14%|█▍        | 28/200 [21:23<2:10:16, 45.45s/it]"
     ]
    },
    {
     "name": "stdout",
     "output_type": "stream",
     "text": [
      "Accuracy: 0.9481\n",
      "Epoch:  27 Val loss: 0.2323011816665589 accuracy: 0.9480722861617241 f1 score: 0.04858053742219523 precision: 0.6694560669456067 recall: 0.02520478890989288 auc: 0.7838751287481588\n"
     ]
    },
    {
     "name": "stderr",
     "output_type": "stream",
     "text": [
      " 14%|█▍        | 29/200 [22:08<2:09:33, 45.46s/it]"
     ]
    },
    {
     "name": "stdout",
     "output_type": "stream",
     "text": [
      "Accuracy: 0.9481\n",
      "Epoch:  28 Val loss: 0.2528082093984918 accuracy: 0.9480805720582995 f1 score: 0.051181102362204724 precision: 0.66015625 recall: 0.026622558286074353 auc: 0.7736807981866987\n"
     ]
    },
    {
     "name": "stderr",
     "output_type": "stream",
     "text": [
      " 15%|█▌        | 30/200 [22:54<2:09:32, 45.72s/it]"
     ]
    },
    {
     "name": "stdout",
     "output_type": "stream",
     "text": [
      "Accuracy: 0.9481\n",
      "Epoch:  29 Val loss: 0.23287072453097457 accuracy: 0.9480971438514505 f1 score: 0.04946889226100152 precision: 0.6735537190082644 recall: 0.02567737870195337 auc: 0.7802100989301577\n"
     ]
    },
    {
     "name": "stderr",
     "output_type": "stream",
     "text": [
      " 15%|█▌        | 30/200 [23:39<2:14:02, 47.31s/it]"
     ]
    },
    {
     "name": "stdout",
     "output_type": "stream",
     "text": [
      "Accuracy: 0.9479\n",
      "Early stopping triggered!\n"
     ]
    },
    {
     "name": "stderr",
     "output_type": "stream",
     "text": [
      "\n"
     ]
    }
   ],
   "source": [
    "import torch.nn as nn\n",
    "from sklearn.metrics import accuracy_score, roc_auc_score, precision_score, recall_score, f1_score\n",
    "hidden_dim = study.best_params['hidden_dim']\n",
    "dropout = study.best_params['dropout']\n",
    "learning_rate = study.best_params['learning_rate']\n",
    "batch_size = study.best_params['batch_size']\n",
    "k = study.best_params['k']\n",
    "\n",
    "activation = nn.ReLU()\n",
    "\n",
    "patience = 20\n",
    "edge_index, edge_weight = build_spatial_graph(spatial_df, k=k)\n",
    "edge_index = edge_index.to(device)\n",
    "edge_weight = edge_weight.to(device)\n",
    "model = SpatioTemporalGNN(\n",
    "    spatial_features=len(spatial_cols),\n",
    "    temporal_features=len(temporal_cols),\n",
    "    hidden_dim=hidden_dim,\n",
    "    dropout=dropout,\n",
    "    activation=activation\n",
    ").to(device)\n",
    "optimizer = torch.optim.Adam(model.parameters(), lr=learning_rate)\n",
    "best_val = float('inf')\n",
    "wait = 0\n",
    "for epoch in tqdm(range(200)):\n",
    "    run_epoch(train_batches, model, spatial_x, edge_index, edge_weight, optimizer, batch_size=batch_size)\n",
    "    val_loss, yv, pv = run_epoch(val_batches, model, spatial_x, edge_index, edge_weight, optimizer=None, batch_size=batch_size, collect_pred=True)\n",
    "    if val_loss < best_val - 1e-4:\n",
    "        best_val, wait = val_loss, 0\n",
    "        torch.save(model.state_dict(), \"best_gnn_ball.pt\")\n",
    "    else:\n",
    "        wait += 1\n",
    "        if wait >= patience:\n",
    "            print(\"Early stopping triggered!\")\n",
    "            break\n",
    "    pv_b = (pv >= 0.5).astype(int)\n",
    "    accuracy = accuracy_score(yv, pv_b)\n",
    "    f1 = f1_score(yv, pv_b)\n",
    "    precision = precision_score(yv, pv_b)\n",
    "    recall = recall_score(yv, pv_b)\n",
    "    auc = roc_auc_score(yv, pv)\n",
    "    print(\"Epoch: \", epoch,\"Val loss:\",val_loss, \"accuracy:\", accuracy, \"f1 score:\", f1, \"precision:\",precision, \"recall:\", recall,\"auc:\",auc)\n",
    "    \n"
   ]
  },
  {
   "cell_type": "code",
   "execution_count": 74,
   "metadata": {
    "trusted": true
   },
   "outputs": [
    {
     "name": "stdout",
     "output_type": "stream",
     "text": [
      "Accuracy: 0.9478\n",
      "最佳 F1-score: 0.1650，對應 threshold: 0.0940\n",
      "Accuracy: 0.9470\n"
     ]
    }
   ],
   "source": [
    "from sklearn.metrics import precision_recall_curve\n",
    "model = SpatioTemporalGNN(\n",
    "    spatial_features=len(spatial_cols),\n",
    "    temporal_features=len(temporal_cols),\n",
    "    hidden_dim=hidden_dim,\n",
    "    dropout=dropout,\n",
    "    activation=activation\n",
    ").to(device)\n",
    "model.load_state_dict(torch.load(\"best_gnn_ball.pt\"))\n",
    "val_loss,yv,pv = run_epoch(val_batches, model,\n",
    "                                 spatial_x, edge_index, edge_weight,\n",
    "                                 optimizer=None, collect_pred=True)\n",
    "precisions, recalls, thresholds = precision_recall_curve(yv, pv)\n",
    "f1_scores = 2 * (precisions * recalls) / (precisions + recalls + 1e-8)\n",
    "best_idx = f1_scores.argmax()\n",
    "best_threshold = thresholds[best_idx]\n",
    "\n",
    "print(f\"最佳 F1-score: {f1_scores[best_idx]:.4f}，對應 threshold: {best_threshold:.4f}\")\n",
    "test_loss, y_true, y_pred = run_epoch(test_batches, model,\n",
    "                                 spatial_x, edge_index, edge_weight,\n",
    "                                 optimizer=None, collect_pred=True)\n"
   ]
  },
  {
   "cell_type": "code",
   "execution_count": null,
   "metadata": {},
   "outputs": [
    {
     "name": "stdout",
     "output_type": "stream",
     "text": [
      "Accuracy: 0.8904\n",
      "F1: 0.1497\n",
      "Precision: 0.1266\n",
      "Recall: 0.1829\n",
      "ROC-AUC: 0.6825\n",
      "PRC-AUC: 0.1075\n"
     ]
    }
   ],
   "source": [
    "from sklearn.metrics import accuracy_score, f1_score, precision_score, recall_score, roc_auc_score, precision_recall_curve, auc\n",
    "\n",
    "y_pred_b = (y_pred >= best_threshold).astype(int)\n",
    "accuracy = accuracy_score(y_true, y_pred_b)\n",
    "f1 = f1_score(y_true, y_pred_b)\n",
    "precision = precision_score(y_true, y_pred_b)\n",
    "recall = recall_score(y_true, y_pred_b)\n",
    "roc_auc = roc_auc_score(y_true, y_pred) \n",
    "\n",
    "precisions, recalls, thresholds = precision_recall_curve(y_true, y_pred)\n",
    "prc_auc = auc(recalls, precisions)  \n",
    "\n",
    "print(f\"Accuracy: {accuracy:.4f}\")\n",
    "print(f\"F1: {f1:.4f}\")\n",
    "print(f\"Precision: {precision:.4f}\")\n",
    "print(f\"Recall: {recall:.4f}\")\n",
    "print(f\"ROC-AUC: {roc_auc:.4f}\")\n",
    "print(f\"PRC-AUC: {prc_auc:.4f}\")"
   ]
  },
  {
   "cell_type": "code",
   "execution_count": null,
   "metadata": {},
   "outputs": [
    {
     "name": "stdout",
     "output_type": "stream",
     "text": [
      "Accuracy: 0.9470\n",
      "F1: 0.0206\n",
      "Precision: 0.4171\n",
      "Recall: 0.0106\n",
      "ROC-AUC: 0.6825\n",
      "PRC-AUC: 0.1075\n"
     ]
    },
    {
     "ename": "",
     "evalue": "",
     "output_type": "error",
     "traceback": [
      "\u001b[1;31m在目前儲存格或上一個儲存格中執行程式碼時，Kernel 已損毀。\n",
      "\u001b[1;31m請檢閱儲存格中的程式碼，找出失敗的可能原因。\n",
      "\u001b[1;31m如需詳細資訊，請按一下<a href='https://aka.ms/vscodeJupyterKernelCrash'>這裡</a>。\n",
      "\u001b[1;31m如需詳細資料，請檢視 Jupyter <a href='command:jupyter.viewOutput'>記錄</a>。"
     ]
    }
   ],
   "source": [
    "from sklearn.metrics import accuracy_score, f1_score, precision_score, recall_score, roc_auc_score, precision_recall_curve, auc\n",
    "\n",
    "y_pred_b = (y_pred >= 0.5).astype(int)\n",
    "accuracy = accuracy_score(y_true, y_pred_b)\n",
    "f1 = f1_score(y_true, y_pred_b)\n",
    "precision = precision_score(y_true, y_pred_b)\n",
    "recall = recall_score(y_true, y_pred_b)\n",
    "roc_auc = roc_auc_score(y_true, y_pred)  \n",
    "\n",
    "precisions, recalls, thresholds = precision_recall_curve(y_true, y_pred)\n",
    "prc_auc = auc(recalls, precisions)  \n",
    "\n",
    "print(f\"Accuracy: {accuracy:.4f}\")\n",
    "print(f\"F1: {f1:.4f}\")\n",
    "print(f\"Precision: {precision:.4f}\")\n",
    "print(f\"Recall: {recall:.4f}\")\n",
    "print(f\"ROC-AUC: {roc_auc:.4f}\")\n",
    "print(f\"PRC-AUC: {prc_auc:.4f}\")"
   ]
  }
 ],
 "metadata": {
  "kernelspec": {
   "display_name": "gnn_env",
   "language": "python",
   "name": "python3"
  },
  "language_info": {
   "codemirror_mode": {
    "name": "ipython",
    "version": 3
   },
   "file_extension": ".py",
   "mimetype": "text/x-python",
   "name": "python",
   "nbconvert_exporter": "python",
   "pygments_lexer": "ipython3",
   "version": "3.12.9"
  }
 },
 "nbformat": 4,
 "nbformat_minor": 4
}
