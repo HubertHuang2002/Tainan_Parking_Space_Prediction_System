{
 "cells": [
  {
   "cell_type": "code",
   "execution_count": 1,
   "id": "4325db16",
   "metadata": {},
   "outputs": [],
   "source": [
    "import pandas as pd\n",
    "from sklearn.ensemble import RandomForestClassifier\n",
    "from sklearn.feature_selection import SelectFromModel\n",
    "import numpy as np\n",
    "import joblib\n",
    "from itertools import product\n",
    "import time\n",
    "from tqdm import tqdm\n",
    "from sklearn.metrics import (\n",
    "    accuracy_score, precision_score, recall_score, f1_score,\n",
    "    roc_auc_score, precision_recall_curve, roc_curve, auc\n",
    ")"
   ]
  },
  {
   "cell_type": "code",
   "execution_count": 3,
   "id": "f2b080aa",
   "metadata": {},
   "outputs": [],
   "source": [
    "df_train = pd.read_csv('train_dataset_bool.csv')\n",
    "df_valid = pd.read_csv('valid_dataset_bool.csv')\n",
    "df_test = pd.read_csv('gnn_test_bool.csv')"
   ]
  },
  {
   "cell_type": "code",
   "execution_count": 4,
   "id": "50c95013",
   "metadata": {},
   "outputs": [],
   "source": [
    "X_train = df_train.drop(columns=[\"is_full\"])\n",
    "y_train = df_train[\"is_full\"]\n",
    "X_valid = df_valid.drop(columns=[\"is_full\"])\n",
    "y_valid = df_valid[\"is_full\"]\n",
    "X_test = df_test.drop(columns=[\"is_full\"])\n",
    "y_test = df_test[\"is_full\"]"
   ]
  },
  {
   "cell_type": "code",
   "execution_count": 5,
   "id": "203cd7c5",
   "metadata": {},
   "outputs": [],
   "source": [
    "param_grid = {\n",
    "    'n_estimators': [100, 200],\n",
    "    'max_depth': [10, 20],\n",
    "}"
   ]
  },
  {
   "cell_type": "code",
   "execution_count": 6,
   "id": "baa9abbf",
   "metadata": {},
   "outputs": [],
   "source": [
    "param_combinations = list(product(param_grid['n_estimators'], param_grid['max_depth']))\n",
    "\n",
    "best_score = -1\n",
    "best_model = None\n",
    "best_params = None\n",
    "best_metrics = {}"
   ]
  },
  {
   "cell_type": "code",
   "execution_count": 7,
   "id": "6a6f6647",
   "metadata": {},
   "outputs": [
    {
     "name": "stderr",
     "output_type": "stream",
     "text": [
      "  0%|          | 0/4 [00:00<?, ?it/s]"
     ]
    },
    {
     "name": "stdout",
     "output_type": "stream",
     "text": [
      "\n",
      "Training with n_estimators=100, max_depth=10\n"
     ]
    },
    {
     "name": "stderr",
     "output_type": "stream",
     "text": [
      " 25%|██▌       | 1/4 [03:36<10:48, 216.24s/it]"
     ]
    },
    {
     "name": "stdout",
     "output_type": "stream",
     "text": [
      "→ accuracy: 0.8952, precision: 0.3252, recall: 0.7466, f1: 0.4531, roc_auc: 0.9083\n",
      "→ prc_auc: 0.4013, best_threshold: 0.1284, time elapsed:216.2365\n",
      "\n",
      "Training with n_estimators=100, max_depth=20\n"
     ]
    },
    {
     "name": "stderr",
     "output_type": "stream",
     "text": [
      " 50%|█████     | 2/4 [08:59<09:18, 279.18s/it]"
     ]
    },
    {
     "name": "stdout",
     "output_type": "stream",
     "text": [
      "→ accuracy: 0.9113, precision: 0.3544, recall: 0.6391, f1: 0.4560, roc_auc: 0.9192\n",
      "→ prc_auc: 0.4016, best_threshold: 0.2407, time elapsed:323.2316\n",
      "\n",
      "Training with n_estimators=200, max_depth=10\n"
     ]
    },
    {
     "name": "stderr",
     "output_type": "stream",
     "text": [
      " 75%|███████▌  | 3/4 [16:05<05:46, 346.42s/it]"
     ]
    },
    {
     "name": "stdout",
     "output_type": "stream",
     "text": [
      "→ accuracy: 0.8993, precision: 0.3321, recall: 0.7231, f1: 0.4551, roc_auc: 0.9089\n",
      "→ prc_auc: 0.4023, best_threshold: 0.1453, time elapsed:426.4481\n",
      "\n",
      "Training with n_estimators=200, max_depth=20\n"
     ]
    },
    {
     "name": "stderr",
     "output_type": "stream",
     "text": [
      "100%|██████████| 4/4 [26:38<00:00, 399.69s/it]"
     ]
    },
    {
     "name": "stdout",
     "output_type": "stream",
     "text": [
      "→ accuracy: 0.9058, precision: 0.3436, recall: 0.6823, f1: 0.4571, roc_auc: 0.9202\n",
      "→ prc_auc: 0.4013, best_threshold: 0.2184, time elapsed:632.8296\n"
     ]
    },
    {
     "name": "stderr",
     "output_type": "stream",
     "text": [
      "\n"
     ]
    }
   ],
   "source": [
    "for n_estimators, max_depth in tqdm(param_combinations):\n",
    "    print(f\"\\nTraining with n_estimators={n_estimators}, max_depth={max_depth}\")\n",
    "    model = RandomForestClassifier(\n",
    "        n_estimators=n_estimators,\n",
    "        max_depth=max_depth,\n",
    "        random_state=42,\n",
    "        n_jobs=-1\n",
    "    )\n",
    "    start_time = time.time()\n",
    "    model.fit(X_train, y_train)\n",
    "    #y_pred = model.predict(X_valid)\n",
    "    y_proba = model.predict_proba(X_valid)[:, 1]\n",
    "    \n",
    "    precisions, recalls, thresholds = precision_recall_curve(y_valid, y_proba)\n",
    "    f1_scores = 2 * (precisions * recalls) / (precisions + recalls + 1e-8)\n",
    "    best_idx = f1_scores.argmax()\n",
    "    best_threshold = thresholds[best_idx]\n",
    "    prc_auc = auc(recalls, precisions)\n",
    "\n",
    "    y_pred = (y_proba >= best_threshold).astype(int)\n",
    "\n",
    "    accuracy = accuracy_score(y_valid, y_pred)\n",
    "    precision = precision_score(y_valid, y_pred)\n",
    "    recall = recall_score(y_valid, y_pred)\n",
    "    f1 = f1_score(y_valid, y_pred)\n",
    "    roc_auc = roc_auc_score(y_valid, y_proba)\n",
    "    \n",
    "\n",
    "    #fpr, tpr, thresholds = roc_curve(y_valid, y_proba)\n",
    "    #youden_j = tpr - fpr\n",
    "    #best_threshold_index = np.argmax(youden_j)\n",
    "    #best_threshold = thresholds[best_threshold_index]\n",
    "    \n",
    "    end_time = time.time()\n",
    "    time_elapsed = end_time - start_time\n",
    "    \n",
    "    print(f\"→ accuracy: {accuracy:.4f}, precision: {precision:.4f}, recall: {recall:.4f}, f1: {f1:.4f}, roc_auc: {roc_auc:.4f}\")\n",
    "    print(f\"→ prc_auc: {prc_auc:.4f}, best_threshold: {best_threshold:.4f}, time elapsed:{time_elapsed:.4f}\")\n",
    "\n",
    "    if f1 > best_score:\n",
    "            best_score = f1\n",
    "            best_model = model\n",
    "            best_params = {'n_estimators': n_estimators, 'max_depth': max_depth}\n",
    "            best_metrics = {\n",
    "                'Accuracy': accuracy,\n",
    "                'Precision': precision,\n",
    "                'Recall': recall,\n",
    "                'F1 Score': f1,\n",
    "                'ROC-AUC': roc_auc,\n",
    "                'PRC-AUC': prc_auc,\n",
    "                'Best Threshold': best_threshold\n",
    "            }"
   ]
  },
  {
   "cell_type": "code",
   "execution_count": 24,
   "id": "ef01f1c0",
   "metadata": {},
   "outputs": [
    {
     "name": "stdout",
     "output_type": "stream",
     "text": [
      "Best parameters (highest f1): 0.4570557722690603\n"
     ]
    }
   ],
   "source": [
    "print(\"Best parameters (highest f1):\", best_metrics[\"F1 Score\"])"
   ]
  },
  {
   "cell_type": "code",
   "execution_count": null,
   "id": "0696530d",
   "metadata": {},
   "outputs": [
    {
     "name": "stdout",
     "output_type": "stream",
     "text": [
      "TotalSpaces: 0.338827\n",
      "lon: 0.126238\n",
      "lat: 0.125860\n",
      "half_hour_sin: 0.026278\n",
      "half_hour_cos: 0.020237\n",
      "laterHourFee: 0.017789\n",
      "dew_point_2m: 0.014492\n",
      "pressure_msl: 0.014311\n",
      "surface_pressure: 0.014284\n",
      "day_sin: 0.012727\n",
      "apparent_temperature: 0.012125\n",
      "vapour_pressure_deficit: 0.011959\n",
      "relative_humidity_2m: 0.011463\n",
      "temperature_80m: 0.011228\n",
      "district: 0.011145\n",
      "temperature_120m: 0.011117\n",
      "temperature_2m: 0.010970\n",
      "day_cos: 0.010890\n",
      "wind_speed_10m: 0.010550\n",
      "wind_speed_120m: 0.010544\n",
      "firstHourFee: 0.010405\n",
      "wind_speed_80m: 0.010363\n",
      "et0_fao_evapotranspiration: 0.010290\n",
      "wind_gusts_10m: 0.010205\n",
      "wind_direction_10m_sin: 0.009739\n",
      "terrestrial_radiation_instant: 0.009731\n",
      "wind_direction_10m_cos: 0.009389\n",
      "wind_direction_120m_sin: 0.009211\n",
      "wind_direction_80m_sin: 0.009186\n",
      "wind_direction_80m_cos: 0.009130\n",
      "wind_direction_120m_cos: 0.009086\n",
      "day_off: 0.006306\n",
      "cloud_cover: 0.006183\n",
      "cloud_cover_low: 0.005451\n",
      "cloud_cover_high: 0.004939\n",
      "month_val_2: 0.004560\n",
      "cloud_cover_mid: 0.004415\n",
      "weekday_num_6: 0.003013\n",
      "weekday_num_5: 0.002607\n",
      "month_val_3: 0.002487\n",
      "month_val_11: 0.002429\n",
      "month_val_10: 0.002230\n",
      "month_val_5: 0.002055\n",
      "precipitation: 0.001925\n",
      "month_val_12: 0.001886\n",
      "weekday_num_4: 0.001792\n",
      "month_val_4: 0.001778\n",
      "visibility: 0.001777\n",
      "showers: 0.001634\n",
      "weekday_num_0: 0.001631\n",
      "weekday_num_1: 0.001595\n",
      "month_val_6: 0.001432\n",
      "weekday_num_2: 0.001418\n",
      "weekday_num_3: 0.001404\n",
      "month_val_9: 0.001267\n",
      "month_val_1: 0.001198\n",
      "year_val: 0.001043\n",
      "month_val_7: 0.000933\n",
      "month_val_8: 0.000840\n",
      "evapotranspiration: 0.000000\n"
     ]
    }
   ],
   "source": [
    "# create feature importance series and sort it\n",
    "feature_importances = pd.Series(best_model.feature_importances_, index=X_train.columns)\n",
    "sorted_importances = feature_importances.sort_values(ascending=False)\n",
    "\n",
    "\n",
    "with open(\"feature_importances_all_data_v6_bool.txt\", \"w\", encoding=\"utf-8\") as f:\n",
    "    for feature, importance in sorted_importances.items():\n",
    "        line = f\"{feature}: {importance:.6f}\"\n",
    "        print(line)           \n",
    "        f.write(line + \"\\n\")  "
   ]
  },
  {
   "cell_type": "code",
   "execution_count": null,
   "id": "ddb0b2b1",
   "metadata": {},
   "outputs": [
    {
     "name": "stderr",
     "output_type": "stream",
     "text": [
      "c:\\Users\\user\\AppData\\Local\\Programs\\Python\\Python310\\lib\\site-packages\\sklearn\\utils\\validation.py:2732: UserWarning: X has feature names, but SelectFromModel was fitted without feature names\n",
      "  warnings.warn(\n"
     ]
    },
    {
     "name": "stdout",
     "output_type": "stream",
     "text": [
      "被選中的特徵： ['TotalSpaces', 'lat', 'lon', 'laterHourFee', 'half_hour_sin', 'half_hour_cos']\n"
     ]
    }
   ],
   "source": [
    "sfm = SelectFromModel(best_model, threshold='mean')  \n",
    "X_selected = sfm.transform(X_train)\n",
    "selected_features = X_train.columns[sfm.get_support()]\n",
    "print(\"被選中的特徵：\", selected_features.tolist())"
   ]
  },
  {
   "cell_type": "code",
   "execution_count": null,
   "id": "e7546c17",
   "metadata": {},
   "outputs": [
    {
     "name": "stdout",
     "output_type": "stream",
     "text": [
      "accuracy: 0.9441\n",
      "precision: 0.4728\n",
      "recall: 0.5114\n",
      "f1: 0.4913\n",
      "roc_auc: 0.9243\n",
      "prc_auc: 0.4177\n",
      "best_threshold: 0.2184\n"
     ]
    }
   ],
   "source": [
    "# y_test: true value of the test set\n",
    "# y_pred: model prediction\n",
    "y_proba = model.predict_proba(X_test)[:, 1]\n",
    "    \n",
    "precisions, recalls, thresholds = precision_recall_curve(y_test, y_proba)\n",
    "prc_auc = auc(recalls, precisions)\n",
    "\n",
    "y_pred = (y_proba >= best_metrics[\"Best Threshold\"]).astype(int)\n",
    "\n",
    "accuracy = accuracy_score(y_test, y_pred)\n",
    "precision = precision_score(y_test, y_pred)\n",
    "recall = recall_score(y_test, y_pred)\n",
    "f1 = f1_score(y_test, y_pred)\n",
    "roc_auc = roc_auc_score(y_test, y_proba)\n",
    "\n",
    "best_threshold = best_metrics[\"Best Threshold\"]\n",
    "\n",
    "\n",
    "print(f\"accuracy: {accuracy:.4f}\")\n",
    "print(f\"precision: {precision:.4f}\")\n",
    "print(f\"recall: {recall:.4f}\")\n",
    "print(f\"f1: {f1:.4f}\")\n",
    "print(f\"roc_auc: {roc_auc:.4f}\")\n",
    "print(f\"prc_auc: {prc_auc:.4f}\")\n",
    "print(f\"best_threshold: {best_threshold:.4f}\")\n",
    "\n",
    "test_metrics = {\n",
    "    'Accuracy': accuracy,\n",
    "    'Precision': precision,\n",
    "    'Recall': recall,\n",
    "    'F1 Score': f1,\n",
    "    'ROC-AUC': roc_auc,\n",
    "    'PRC-AUC': prc_auc,\n",
    "    'Best Threshold': best_threshold\n",
    "}"
   ]
  },
  {
   "cell_type": "code",
   "execution_count": 36,
   "id": "abf5f778",
   "metadata": {},
   "outputs": [],
   "source": [
    "with open(\"performance_all_feature_bool.txt\", \"w\") as f:\n",
    "    f.write(f\"Best Parameters: {best_params}\\n\")\n",
    "    f.write(f\"\\nValid Performance:\\n\")\n",
    "    for metric, value in best_metrics.items():\n",
    "        f.write(f\"{metric}: {value:.4f}\\n\")\n",
    "    f.write(f\"\\nTest Performance:\\n\")\n",
    "    for metric, value in test_metrics.items():\n",
    "        f.write(f\"{metric}: {value:.4f}\\n\")"
   ]
  },
  {
   "cell_type": "code",
   "execution_count": null,
   "id": "07730bdd",
   "metadata": {},
   "outputs": [
    {
     "data": {
      "text/plain": [
       "['random_forest_model_all_feature_v2_bool.pkl']"
      ]
     },
     "execution_count": 37,
     "metadata": {},
     "output_type": "execute_result"
    }
   ],
   "source": [
    "# save model\n",
    "joblib.dump(best_model, 'random_forest_model_all_feature_v2_bool.pkl')"
   ]
  },
  {
   "cell_type": "code",
   "execution_count": 38,
   "id": "808b992d",
   "metadata": {},
   "outputs": [
    {
     "name": "stdout",
     "output_type": "stream",
     "text": [
      "2079088\n"
     ]
    }
   ],
   "source": [
    "print(len(df_train))"
   ]
  },
  {
   "cell_type": "code",
   "execution_count": 39,
   "id": "83d8905b",
   "metadata": {},
   "outputs": [
    {
     "name": "stdout",
     "output_type": "stream",
     "text": [
      "Index(['year_val', 'district', 'TotalSpaces', 'lat', 'lon', 'firstHourFee',\n",
      "       'laterHourFee', 'precipitation', 'apparent_temperature',\n",
      "       'relative_humidity_2m', 'temperature_2m', 'cloud_cover',\n",
      "       'cloud_cover_low', 'cloud_cover_mid', 'cloud_cover_high', 'visibility',\n",
      "       'wind_speed_10m', 'temperature_80m', 'temperature_120m', 'showers',\n",
      "       'pressure_msl', 'surface_pressure', 'wind_speed_80m', 'wind_speed_120m',\n",
      "       'wind_gusts_10m', 'evapotranspiration', 'et0_fao_evapotranspiration',\n",
      "       'vapour_pressure_deficit', 'dew_point_2m',\n",
      "       'terrestrial_radiation_instant', 'weekday_num_0', 'weekday_num_1',\n",
      "       'weekday_num_2', 'weekday_num_3', 'weekday_num_4', 'weekday_num_5',\n",
      "       'weekday_num_6', 'month_val_1', 'month_val_2', 'month_val_3',\n",
      "       'month_val_4', 'month_val_5', 'month_val_6', 'month_val_7',\n",
      "       'month_val_8', 'month_val_9', 'month_val_10', 'month_val_11',\n",
      "       'month_val_12', 'day_sin', 'day_cos', 'half_hour_sin', 'half_hour_cos',\n",
      "       'day_off', 'wind_direction_10m_sin', 'wind_direction_10m_cos',\n",
      "       'wind_direction_120m_sin', 'wind_direction_120m_cos',\n",
      "       'wind_direction_80m_sin', 'wind_direction_80m_cos', 'is_full'],\n",
      "      dtype='object')\n"
     ]
    }
   ],
   "source": [
    "print(df_train.columns)"
   ]
  }
 ],
 "metadata": {
  "kernelspec": {
   "display_name": "Python 3",
   "language": "python",
   "name": "python3"
  },
  "language_info": {
   "codemirror_mode": {
    "name": "ipython",
    "version": 3
   },
   "file_extension": ".py",
   "mimetype": "text/x-python",
   "name": "python",
   "nbconvert_exporter": "python",
   "pygments_lexer": "ipython3",
   "version": "3.10.0"
  }
 },
 "nbformat": 4,
 "nbformat_minor": 5
}
