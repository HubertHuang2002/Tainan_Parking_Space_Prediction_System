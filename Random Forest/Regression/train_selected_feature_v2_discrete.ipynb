{
 "cells": [
  {
   "cell_type": "code",
   "execution_count": 1,
   "id": "4325db16",
   "metadata": {},
   "outputs": [],
   "source": [
    "import pandas as pd\n",
    "from sklearn.ensemble import RandomForestRegressor\n",
    "from sklearn.feature_selection import SelectFromModel\n",
    "from sklearn.metrics import r2_score\n",
    "from sklearn.metrics import mean_absolute_error, mean_squared_error\n",
    "import numpy as np\n",
    "import joblib\n",
    "from itertools import product\n",
    "import time\n",
    "from tqdm import tqdm"
   ]
  },
  {
   "cell_type": "code",
   "execution_count": 2,
   "id": "2ecbc98f",
   "metadata": {},
   "outputs": [],
   "source": [
    "#vote_3\n",
    "#vote_4\n",
    "#elastic_feature\n",
    "typename = \"elastic_feature\"\n",
    "best_model_filename = 'random_forest_model_' + typename + '_v6.pkl'\n",
    "best_model_feature_importance = \"feature_importances_\" + typename + \"_v6.txt\"\n",
    "best_model_perforamnce = \"performance_\" + typename + \".txt\""
   ]
  },
  {
   "cell_type": "code",
   "execution_count": 3,
   "id": "f2b080aa",
   "metadata": {},
   "outputs": [],
   "source": [
    "df_train = pd.read_csv('train_dataset.csv')\n",
    "df_valid = pd.read_csv('valid_dataset.csv')\n",
    "df_test = pd.read_csv('gnn_test_discrete.csv')"
   ]
  },
  {
   "cell_type": "code",
   "execution_count": null,
   "id": "56aa1975",
   "metadata": {},
   "outputs": [],
   "source": [
    "# read the list of column names\n",
    "# discrete_elastic_feature.txt\n",
    "# discrete_vote_3.txt\n",
    "# discrete_vote_4.txt\n",
    "with open(\"discrete_\" + typename + \".txt\", \"r\") as f:\n",
    "    columns_to_keep = [line.strip() for line in f if line.strip()]\n",
    "\n",
    "columns_to_keep.append(\"avg_available_spots\")\n",
    "\n",
    "# filter columns in the DataFrame\n",
    "df_train = df_train[columns_to_keep]\n",
    "df_valid = df_valid[columns_to_keep]\n",
    "df_test = df_test[columns_to_keep]\n",
    "\n"
   ]
  },
  {
   "cell_type": "code",
   "execution_count": 5,
   "id": "50c95013",
   "metadata": {},
   "outputs": [],
   "source": [
    "X_train = df_train.drop(columns=[\"avg_available_spots\"])\n",
    "y_train = df_train[\"avg_available_spots\"]\n",
    "X_valid = df_valid.drop(columns=[\"avg_available_spots\"])\n",
    "y_valid = df_valid[\"avg_available_spots\"]\n",
    "X_test = df_test.drop(columns=[\"avg_available_spots\"])\n",
    "y_test = df_test[\"avg_available_spots\"]"
   ]
  },
  {
   "cell_type": "code",
   "execution_count": 6,
   "id": "203cd7c5",
   "metadata": {},
   "outputs": [],
   "source": [
    "param_grid = {\n",
    "    'n_estimators': [100, 200],\n",
    "    'max_depth': [10, 20],\n",
    "}"
   ]
  },
  {
   "cell_type": "code",
   "execution_count": 7,
   "id": "baa9abbf",
   "metadata": {},
   "outputs": [],
   "source": [
    "param_combinations = list(product(param_grid['n_estimators'], param_grid['max_depth']))\n",
    "\n",
    "best_model = None\n",
    "best_mse = float('inf')\n",
    "best_result = None"
   ]
  },
  {
   "cell_type": "code",
   "execution_count": null,
   "id": "f66aaa9a",
   "metadata": {},
   "outputs": [],
   "source": [
    "# calculate adjusted R²\n",
    "def adjusted_r2(r2, n_samples, n_features):\n",
    "    return 1 - (1 - r2) * ((n_samples - 1) / (n_samples - n_features - 1))\n",
    "\n",
    "n_valid_samples = X_valid.shape[0]\n",
    "n_features = X_valid.shape[1]"
   ]
  },
  {
   "cell_type": "code",
   "execution_count": 9,
   "id": "5911d4fb",
   "metadata": {},
   "outputs": [
    {
     "data": {
      "text/plain": [
       "Index(['TotalSpaces', 'lon', 'district', 'half_hour_sin', 'day_off',\n",
       "       'half_hour_cos', 'terrestrial_radiation_instant', 'lat', 'firstHourFee',\n",
       "       'laterHourFee', 'et0_fao_evapotranspiration', 'relative_humidity_2m',\n",
       "       'weekday_num_5', 'dew_point_2m', 'weekday_num_6', 'surface_pressure',\n",
       "       'pressure_msl', 'wind_speed_10m', 'avg_available_spots'],\n",
       "      dtype='object')"
      ]
     },
     "execution_count": 9,
     "metadata": {},
     "output_type": "execute_result"
    }
   ],
   "source": [
    "df_train.columns"
   ]
  },
  {
   "cell_type": "code",
   "execution_count": 10,
   "id": "18244309",
   "metadata": {},
   "outputs": [
    {
     "data": {
      "text/html": [
       "<div>\n",
       "<style scoped>\n",
       "    .dataframe tbody tr th:only-of-type {\n",
       "        vertical-align: middle;\n",
       "    }\n",
       "\n",
       "    .dataframe tbody tr th {\n",
       "        vertical-align: top;\n",
       "    }\n",
       "\n",
       "    .dataframe thead th {\n",
       "        text-align: right;\n",
       "    }\n",
       "</style>\n",
       "<table border=\"1\" class=\"dataframe\">\n",
       "  <thead>\n",
       "    <tr style=\"text-align: right;\">\n",
       "      <th></th>\n",
       "      <th>TotalSpaces</th>\n",
       "      <th>lon</th>\n",
       "      <th>district</th>\n",
       "      <th>half_hour_sin</th>\n",
       "      <th>day_off</th>\n",
       "      <th>half_hour_cos</th>\n",
       "      <th>terrestrial_radiation_instant</th>\n",
       "      <th>lat</th>\n",
       "      <th>firstHourFee</th>\n",
       "      <th>laterHourFee</th>\n",
       "      <th>et0_fao_evapotranspiration</th>\n",
       "      <th>relative_humidity_2m</th>\n",
       "      <th>weekday_num_5</th>\n",
       "      <th>dew_point_2m</th>\n",
       "      <th>weekday_num_6</th>\n",
       "      <th>surface_pressure</th>\n",
       "      <th>pressure_msl</th>\n",
       "      <th>wind_speed_10m</th>\n",
       "      <th>avg_available_spots</th>\n",
       "    </tr>\n",
       "  </thead>\n",
       "  <tbody>\n",
       "    <tr>\n",
       "      <th>0</th>\n",
       "      <td>3</td>\n",
       "      <td>120.19519</td>\n",
       "      <td>1</td>\n",
       "      <td>-0.258819</td>\n",
       "      <td>1</td>\n",
       "      <td>0.965926</td>\n",
       "      <td>0.0</td>\n",
       "      <td>22.9948</td>\n",
       "      <td>0</td>\n",
       "      <td>0</td>\n",
       "      <td>0.01</td>\n",
       "      <td>78</td>\n",
       "      <td>1</td>\n",
       "      <td>25.2</td>\n",
       "      <td>0</td>\n",
       "      <td>1009.5</td>\n",
       "      <td>1010.1</td>\n",
       "      <td>5.8</td>\n",
       "      <td>1.0</td>\n",
       "    </tr>\n",
       "    <tr>\n",
       "      <th>1</th>\n",
       "      <td>3</td>\n",
       "      <td>120.19519</td>\n",
       "      <td>1</td>\n",
       "      <td>-0.866025</td>\n",
       "      <td>0</td>\n",
       "      <td>0.500000</td>\n",
       "      <td>0.0</td>\n",
       "      <td>22.9948</td>\n",
       "      <td>0</td>\n",
       "      <td>0</td>\n",
       "      <td>0.03</td>\n",
       "      <td>94</td>\n",
       "      <td>0</td>\n",
       "      <td>25.8</td>\n",
       "      <td>0</td>\n",
       "      <td>984.9</td>\n",
       "      <td>985.5</td>\n",
       "      <td>45.1</td>\n",
       "      <td>1.0</td>\n",
       "    </tr>\n",
       "    <tr>\n",
       "      <th>2</th>\n",
       "      <td>3</td>\n",
       "      <td>120.19519</td>\n",
       "      <td>1</td>\n",
       "      <td>0.707107</td>\n",
       "      <td>0</td>\n",
       "      <td>-0.707107</td>\n",
       "      <td>967.1</td>\n",
       "      <td>22.9948</td>\n",
       "      <td>20</td>\n",
       "      <td>20</td>\n",
       "      <td>0.15</td>\n",
       "      <td>82</td>\n",
       "      <td>0</td>\n",
       "      <td>25.0</td>\n",
       "      <td>0</td>\n",
       "      <td>988.5</td>\n",
       "      <td>989.1</td>\n",
       "      <td>45.3</td>\n",
       "      <td>1.0</td>\n",
       "    </tr>\n",
       "    <tr>\n",
       "      <th>3</th>\n",
       "      <td>3</td>\n",
       "      <td>120.19519</td>\n",
       "      <td>1</td>\n",
       "      <td>0.923880</td>\n",
       "      <td>0</td>\n",
       "      <td>0.382683</td>\n",
       "      <td>0.0</td>\n",
       "      <td>22.9948</td>\n",
       "      <td>0</td>\n",
       "      <td>0</td>\n",
       "      <td>0.04</td>\n",
       "      <td>73</td>\n",
       "      <td>0</td>\n",
       "      <td>21.5</td>\n",
       "      <td>0</td>\n",
       "      <td>1009.8</td>\n",
       "      <td>1010.4</td>\n",
       "      <td>10.1</td>\n",
       "      <td>2.0</td>\n",
       "    </tr>\n",
       "    <tr>\n",
       "      <th>4</th>\n",
       "      <td>3</td>\n",
       "      <td>120.19519</td>\n",
       "      <td>1</td>\n",
       "      <td>0.608761</td>\n",
       "      <td>0</td>\n",
       "      <td>0.793353</td>\n",
       "      <td>0.0</td>\n",
       "      <td>22.9948</td>\n",
       "      <td>0</td>\n",
       "      <td>0</td>\n",
       "      <td>0.02</td>\n",
       "      <td>73</td>\n",
       "      <td>0</td>\n",
       "      <td>22.2</td>\n",
       "      <td>0</td>\n",
       "      <td>1006.2</td>\n",
       "      <td>1006.8</td>\n",
       "      <td>7.1</td>\n",
       "      <td>1.0</td>\n",
       "    </tr>\n",
       "  </tbody>\n",
       "</table>\n",
       "</div>"
      ],
      "text/plain": [
       "   TotalSpaces        lon  district  half_hour_sin  day_off  half_hour_cos  \\\n",
       "0            3  120.19519         1      -0.258819        1       0.965926   \n",
       "1            3  120.19519         1      -0.866025        0       0.500000   \n",
       "2            3  120.19519         1       0.707107        0      -0.707107   \n",
       "3            3  120.19519         1       0.923880        0       0.382683   \n",
       "4            3  120.19519         1       0.608761        0       0.793353   \n",
       "\n",
       "   terrestrial_radiation_instant      lat  firstHourFee  laterHourFee  \\\n",
       "0                            0.0  22.9948             0             0   \n",
       "1                            0.0  22.9948             0             0   \n",
       "2                          967.1  22.9948            20            20   \n",
       "3                            0.0  22.9948             0             0   \n",
       "4                            0.0  22.9948             0             0   \n",
       "\n",
       "   et0_fao_evapotranspiration  relative_humidity_2m  weekday_num_5  \\\n",
       "0                        0.01                    78              1   \n",
       "1                        0.03                    94              0   \n",
       "2                        0.15                    82              0   \n",
       "3                        0.04                    73              0   \n",
       "4                        0.02                    73              0   \n",
       "\n",
       "   dew_point_2m  weekday_num_6  surface_pressure  pressure_msl  \\\n",
       "0          25.2              0            1009.5        1010.1   \n",
       "1          25.8              0             984.9         985.5   \n",
       "2          25.0              0             988.5         989.1   \n",
       "3          21.5              0            1009.8        1010.4   \n",
       "4          22.2              0            1006.2        1006.8   \n",
       "\n",
       "   wind_speed_10m  avg_available_spots  \n",
       "0             5.8                  1.0  \n",
       "1            45.1                  1.0  \n",
       "2            45.3                  1.0  \n",
       "3            10.1                  2.0  \n",
       "4             7.1                  1.0  "
      ]
     },
     "execution_count": 10,
     "metadata": {},
     "output_type": "execute_result"
    }
   ],
   "source": [
    "df_train.head(5)"
   ]
  },
  {
   "cell_type": "code",
   "execution_count": 11,
   "id": "6a6f6647",
   "metadata": {},
   "outputs": [
    {
     "name": "stderr",
     "output_type": "stream",
     "text": [
      "  0%|          | 0/4 [00:00<?, ?it/s]"
     ]
    },
    {
     "name": "stdout",
     "output_type": "stream",
     "text": [
      "\n",
      "Training with n_estimators=100, max_depth=10\n"
     ]
    },
    {
     "name": "stderr",
     "output_type": "stream",
     "text": [
      " 25%|██▌       | 1/4 [06:44<20:12, 404.18s/it]"
     ]
    },
    {
     "name": "stdout",
     "output_type": "stream",
     "text": [
      "→ MSE: 213.2714, RMSE: 14.6038, R²: 0.9413, Adjusted R²: 0.9413, time elapsed:404.1793\n",
      "\n",
      "Training with n_estimators=100, max_depth=20\n"
     ]
    },
    {
     "name": "stderr",
     "output_type": "stream",
     "text": [
      " 50%|█████     | 2/4 [17:16<17:57, 538.53s/it]"
     ]
    },
    {
     "name": "stdout",
     "output_type": "stream",
     "text": [
      "→ MSE: 222.2438, RMSE: 14.9078, R²: 0.9388, Adjusted R²: 0.9388, time elapsed:632.5791\n",
      "\n",
      "Training with n_estimators=200, max_depth=10\n"
     ]
    },
    {
     "name": "stderr",
     "output_type": "stream",
     "text": [
      " 75%|███████▌  | 3/4 [30:46<11:02, 662.28s/it]"
     ]
    },
    {
     "name": "stdout",
     "output_type": "stream",
     "text": [
      "→ MSE: 215.1088, RMSE: 14.6666, R²: 0.9408, Adjusted R²: 0.9408, time elapsed:809.2876\n",
      "\n",
      "Training with n_estimators=200, max_depth=20\n"
     ]
    },
    {
     "name": "stderr",
     "output_type": "stream",
     "text": [
      "100%|██████████| 4/4 [51:18<00:00, 769.73s/it]"
     ]
    },
    {
     "name": "stdout",
     "output_type": "stream",
     "text": [
      "→ MSE: 222.8368, RMSE: 14.9277, R²: 0.9387, Adjusted R²: 0.9387, time elapsed:1232.5873\n"
     ]
    },
    {
     "name": "stderr",
     "output_type": "stream",
     "text": [
      "\n"
     ]
    }
   ],
   "source": [
    "for n_estimators, max_depth in tqdm(param_combinations):\n",
    "    print(f\"\\nTraining with n_estimators={n_estimators}, max_depth={max_depth}\")\n",
    "    model = RandomForestRegressor(\n",
    "        n_estimators=n_estimators,\n",
    "        max_depth=max_depth,\n",
    "        random_state=42,\n",
    "        n_jobs=-1\n",
    "    )\n",
    "    start_time = time.time()\n",
    "    model.fit(X_train, y_train)\n",
    "    y_pred = model.predict(X_valid)\n",
    "\n",
    "    mse = mean_squared_error(y_valid, y_pred)\n",
    "    r2 = r2_score(y_valid, y_pred)\n",
    "    rmse = np.sqrt(mse)\n",
    "    adj_r2 = adjusted_r2(r2, n_valid_samples, n_features)\n",
    "    end_time = time.time()\n",
    "    time_elapsed = end_time - start_time\n",
    "    \n",
    "    print(f\"→ MSE: {mse:.4f}, RMSE: {rmse:.4f}, R²: {r2:.4f}, Adjusted R²: {adj_r2:.4f}, time elapsed:{time_elapsed:.4f}\")\n",
    "\n",
    "    if mse < best_mse:\n",
    "        best_mse = mse\n",
    "        best_model = model\n",
    "        best_result = {\n",
    "            'n_estimators': n_estimators,\n",
    "            'max_depth': max_depth,\n",
    "            'mse': mse,\n",
    "            'rmse': rmse,\n",
    "            'r2': r2,\n",
    "            'Adjusted r2': adj_r2\n",
    "        }"
   ]
  },
  {
   "cell_type": "code",
   "execution_count": 12,
   "id": "ef01f1c0",
   "metadata": {},
   "outputs": [
    {
     "name": "stdout",
     "output_type": "stream",
     "text": [
      "Best parameters (lowest MSE): {'n_estimators': 100, 'max_depth': 10, 'mse': 213.2714055025146, 'rmse': np.float64(14.603814758566154), 'r2': 0.9413143904108454, 'Adjusted r2': 0.9413118266444597}\n"
     ]
    }
   ],
   "source": [
    "print(\"Best parameters (lowest MSE):\", best_result)"
   ]
  },
  {
   "cell_type": "code",
   "execution_count": null,
   "id": "0696530d",
   "metadata": {},
   "outputs": [
    {
     "name": "stdout",
     "output_type": "stream",
     "text": [
      "TotalSpaces: 0.891228\n",
      "day_off: 0.050018\n",
      "half_hour_sin: 0.018497\n",
      "lon: 0.010246\n",
      "half_hour_cos: 0.006895\n",
      "weekday_num_5: 0.003081\n",
      "weekday_num_6: 0.002616\n",
      "firstHourFee: 0.002365\n",
      "relative_humidity_2m: 0.002337\n",
      "laterHourFee: 0.002252\n",
      "et0_fao_evapotranspiration: 0.001860\n",
      "pressure_msl: 0.001768\n",
      "dew_point_2m: 0.001722\n",
      "surface_pressure: 0.001632\n",
      "wind_speed_10m: 0.001486\n",
      "lat: 0.000815\n",
      "terrestrial_radiation_instant: 0.000676\n",
      "district: 0.000505\n"
     ]
    }
   ],
   "source": [
    "# create feature importance series and sort it\n",
    "feature_importances = pd.Series(best_model.feature_importances_, index=X_train.columns)\n",
    "sorted_importances = feature_importances.sort_values(ascending=False)\n",
    "\n",
    "with open(best_model_feature_importance, \"w\", encoding=\"utf-8\") as f:\n",
    "    for feature, importance in sorted_importances.items():\n",
    "        line = f\"{feature}: {importance:.6f}\"\n",
    "        print(line)           \n",
    "        f.write(line + \"\\n\")  "
   ]
  },
  {
   "cell_type": "code",
   "execution_count": null,
   "id": "ddb0b2b1",
   "metadata": {},
   "outputs": [
    {
     "name": "stderr",
     "output_type": "stream",
     "text": [
      "c:\\Users\\user\\AppData\\Local\\Programs\\Python\\Python310\\lib\\site-packages\\sklearn\\utils\\validation.py:2732: UserWarning: X has feature names, but SelectFromModel was fitted without feature names\n",
      "  warnings.warn(\n"
     ]
    },
    {
     "name": "stdout",
     "output_type": "stream",
     "text": [
      "被選中的特徵： ['TotalSpaces']\n"
     ]
    }
   ],
   "source": [
    "sfm = SelectFromModel(best_model, threshold='mean') \n",
    "X_selected = sfm.transform(X_train)\n",
    "selected_features = X_train.columns[sfm.get_support()]\n",
    "print(\"被選中的特徵：\", selected_features.tolist())"
   ]
  },
  {
   "cell_type": "code",
   "execution_count": null,
   "id": "e7546c17",
   "metadata": {},
   "outputs": [
    {
     "name": "stdout",
     "output_type": "stream",
     "text": [
      "R² score: 0.9700, Adjusted R^2:0.9700\n",
      "MAE (Mean Absolute Error): 3.8846\n",
      "RMSE (Root Mean Squared Error): 10.7512\n"
     ]
    }
   ],
   "source": [
    "# y_test: ture value of the test set\n",
    "# y_pred: model prediction\n",
    "y_pred = best_model.predict(X_test)\n",
    "r2 = r2_score(y_test, y_pred)\n",
    "\n",
    "n = len(y_test)         # number of samples\n",
    "p = X_test.shape[1]     # number of features\n",
    "adjusted_r2 = 1 - (1 - r2) * (n - 1) / (n - p - 1)\n",
    "\n",
    "print(f\"R² score: {r2:.4f}, Adjusted R^2:{adjusted_r2:.4f}\")\n",
    "# calculate MAE\n",
    "mae = mean_absolute_error(y_test, y_pred)\n",
    "\n",
    "# calculate RMSE\n",
    "rmse = np.sqrt(mean_squared_error(y_test, y_pred))\n",
    "\n",
    "print(f\"MAE (Mean Absolute Error): {mae:.4f}\")\n",
    "print(f\"RMSE (Root Mean Squared Error): {rmse:.4f}\")"
   ]
  },
  {
   "cell_type": "code",
   "execution_count": null,
   "id": "07730bdd",
   "metadata": {},
   "outputs": [
    {
     "data": {
      "text/plain": [
       "['random_forest_model_elastic_feature_v6.pkl']"
      ]
     },
     "execution_count": 16,
     "metadata": {},
     "output_type": "execute_result"
    }
   ],
   "source": [
    "\n",
    "\n",
    "# save model\n",
    "joblib.dump(best_model, best_model_filename)"
   ]
  },
  {
   "cell_type": "code",
   "execution_count": 17,
   "id": "13739f8a",
   "metadata": {},
   "outputs": [],
   "source": [
    "'''\n",
    "best_result = {\n",
    "            'n_estimators': n_estimators,\n",
    "            'max_depth': max_depth,\n",
    "            'mse': mse,\n",
    "            'rmse': rmse,\n",
    "            'r2': r2,\n",
    "        }\n",
    "'''\n",
    "with open(best_model_perforamnce, \"w\") as f:\n",
    "    for metric, value in best_result.items():\n",
    "        f.write(f\"{metric}: {value:.4f}\\n\")"
   ]
  },
  {
   "cell_type": "code",
   "execution_count": 18,
   "id": "808b992d",
   "metadata": {},
   "outputs": [
    {
     "name": "stdout",
     "output_type": "stream",
     "text": [
      "2079088\n"
     ]
    }
   ],
   "source": [
    "print(len(df_train))"
   ]
  },
  {
   "cell_type": "code",
   "execution_count": 19,
   "id": "83d8905b",
   "metadata": {},
   "outputs": [
    {
     "name": "stdout",
     "output_type": "stream",
     "text": [
      "Index(['TotalSpaces', 'lon', 'district', 'half_hour_sin', 'day_off',\n",
      "       'half_hour_cos', 'terrestrial_radiation_instant', 'lat', 'firstHourFee',\n",
      "       'laterHourFee', 'et0_fao_evapotranspiration', 'relative_humidity_2m',\n",
      "       'weekday_num_5', 'dew_point_2m', 'weekday_num_6', 'surface_pressure',\n",
      "       'pressure_msl', 'wind_speed_10m', 'avg_available_spots'],\n",
      "      dtype='object')\n"
     ]
    }
   ],
   "source": [
    "print(df_train.columns)"
   ]
  }
 ],
 "metadata": {
  "kernelspec": {
   "display_name": "Python 3",
   "language": "python",
   "name": "python3"
  },
  "language_info": {
   "codemirror_mode": {
    "name": "ipython",
    "version": 3
   },
   "file_extension": ".py",
   "mimetype": "text/x-python",
   "name": "python",
   "nbconvert_exporter": "python",
   "pygments_lexer": "ipython3",
   "version": "3.10.0"
  }
 },
 "nbformat": 4,
 "nbformat_minor": 5
}
