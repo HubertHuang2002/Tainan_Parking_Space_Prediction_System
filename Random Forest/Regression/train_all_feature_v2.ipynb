{
 "cells": [
  {
   "cell_type": "code",
   "execution_count": 1,
   "id": "4325db16",
   "metadata": {},
   "outputs": [],
   "source": [
    "import pandas as pd\n",
    "from sklearn.ensemble import RandomForestRegressor\n",
    "from sklearn.feature_selection import SelectFromModel\n",
    "from sklearn.metrics import r2_score\n",
    "from sklearn.metrics import mean_absolute_error, mean_squared_error\n",
    "import numpy as np\n",
    "import joblib\n",
    "from itertools import product\n",
    "import time\n",
    "from tqdm import tqdm"
   ]
  },
  {
   "cell_type": "code",
   "execution_count": 2,
   "id": "f2b080aa",
   "metadata": {},
   "outputs": [],
   "source": [
    "df_train = pd.read_csv('train_dataset.csv')\n",
    "df_valid = pd.read_csv('valid_dataset.csv')\n",
    "df_test = pd.read_csv('test_dataset.csv')"
   ]
  },
  {
   "cell_type": "code",
   "execution_count": 3,
   "id": "50c95013",
   "metadata": {},
   "outputs": [],
   "source": [
    "X_train = df_train.drop(columns=[\"avg_available_spots\"])\n",
    "y_train = df_train[\"avg_available_spots\"]\n",
    "X_valid = df_valid.drop(columns=[\"avg_available_spots\"])\n",
    "y_valid = df_valid[\"avg_available_spots\"]\n",
    "X_test = df_test.drop(columns=[\"avg_available_spots\"])\n",
    "y_test = df_test[\"avg_available_spots\"]"
   ]
  },
  {
   "cell_type": "code",
   "execution_count": 4,
   "id": "6736f555",
   "metadata": {},
   "outputs": [],
   "source": [
    "model = RandomForestRegressor(random_state=42)"
   ]
  },
  {
   "cell_type": "code",
   "execution_count": 5,
   "id": "203cd7c5",
   "metadata": {},
   "outputs": [],
   "source": [
    "param_grid = {\n",
    "    'n_estimators': [100, 200],\n",
    "    'max_depth': [10, 20],\n",
    "}"
   ]
  },
  {
   "cell_type": "code",
   "execution_count": 6,
   "id": "baa9abbf",
   "metadata": {},
   "outputs": [],
   "source": [
    "param_combinations = list(product(param_grid['n_estimators'], param_grid['max_depth']))\n",
    "\n",
    "best_model = None\n",
    "best_mse = float('inf')\n",
    "best_result = None"
   ]
  },
  {
   "cell_type": "code",
   "execution_count": null,
   "id": "f66aaa9a",
   "metadata": {},
   "outputs": [],
   "source": [
    "# calculate ajusted R²\n",
    "def adjusted_r2(r2, n_samples, n_features):\n",
    "    return 1 - (1 - r2) * ((n_samples - 1) / (n_samples - n_features - 1))\n",
    "\n",
    "n_valid_samples = X_valid.shape[0]\n",
    "n_features = X_valid.shape[1]"
   ]
  },
  {
   "cell_type": "code",
   "execution_count": 8,
   "id": "6a6f6647",
   "metadata": {},
   "outputs": [
    {
     "name": "stderr",
     "output_type": "stream",
     "text": [
      "  0%|          | 0/4 [00:00<?, ?it/s]"
     ]
    },
    {
     "name": "stdout",
     "output_type": "stream",
     "text": [
      "\n",
      "Training with n_estimators=100, max_depth=10\n"
     ]
    },
    {
     "name": "stderr",
     "output_type": "stream",
     "text": [
      " 25%|██▌       | 1/4 [18:55<56:47, 1135.69s/it]"
     ]
    },
    {
     "name": "stdout",
     "output_type": "stream",
     "text": [
      "→ MSE: 249.2706, RMSE: 15.7883, R²: 0.9314, Adjusted R²: 0.9314, time elapsed:1135.6865\n",
      "\n",
      "Training with n_estimators=100, max_depth=20\n"
     ]
    },
    {
     "name": "stderr",
     "output_type": "stream",
     "text": [
      " 50%|█████     | 2/4 [49:48<51:54, 1557.39s/it]"
     ]
    },
    {
     "name": "stdout",
     "output_type": "stream",
     "text": [
      "→ MSE: 250.6828, RMSE: 15.8330, R²: 0.9310, Adjusted R²: 0.9310, time elapsed:1852.5415\n",
      "\n",
      "Training with n_estimators=200, max_depth=10\n"
     ]
    },
    {
     "name": "stderr",
     "output_type": "stream",
     "text": [
      " 75%|███████▌  | 3/4 [1:25:48<30:32, 1832.77s/it]"
     ]
    },
    {
     "name": "stdout",
     "output_type": "stream",
     "text": [
      "→ MSE: 249.8893, RMSE: 15.8079, R²: 0.9312, Adjusted R²: 0.9312, time elapsed:2160.2114\n",
      "\n",
      "Training with n_estimators=200, max_depth=20\n"
     ]
    },
    {
     "name": "stderr",
     "output_type": "stream",
     "text": [
      "100%|██████████| 4/4 [2:26:36<00:00, 2199.17s/it]"
     ]
    },
    {
     "name": "stdout",
     "output_type": "stream",
     "text": [
      "→ MSE: 252.4147, RMSE: 15.8876, R²: 0.9305, Adjusted R²: 0.9305, time elapsed:3647.9366\n"
     ]
    },
    {
     "name": "stderr",
     "output_type": "stream",
     "text": [
      "\n"
     ]
    }
   ],
   "source": [
    "for n_estimators, max_depth in tqdm(param_combinations):\n",
    "    print(f\"\\nTraining with n_estimators={n_estimators}, max_depth={max_depth}\")\n",
    "    model = RandomForestRegressor(\n",
    "        n_estimators=n_estimators,\n",
    "        max_depth=max_depth,\n",
    "        random_state=42,\n",
    "        n_jobs=-1\n",
    "    )\n",
    "    start_time = time.time()\n",
    "    model.fit(X_train, y_train)\n",
    "    y_pred = model.predict(X_valid)\n",
    "\n",
    "    mse = mean_squared_error(y_valid, y_pred)\n",
    "    r2 = r2_score(y_valid, y_pred)\n",
    "    rmse = np.sqrt(mse)\n",
    "    adj_r2 = adjusted_r2(r2, n_valid_samples, n_features)\n",
    "    end_time = time.time()\n",
    "    time_elapsed = end_time - start_time\n",
    "    \n",
    "    print(f\"→ MSE: {mse:.4f}, RMSE: {rmse:.4f}, R²: {r2:.4f}, Adjusted R²: {adj_r2:.4f}, time elapsed:{time_elapsed:.4f}\")\n",
    "\n",
    "    if mse < best_mse:\n",
    "        best_mse = mse\n",
    "        best_model = model\n",
    "        best_result = {\n",
    "            'n_estimators': n_estimators,\n",
    "            'max_depth': max_depth,\n",
    "            'mse': mse,\n",
    "            'rmse': rmse,\n",
    "            'r2': r2,\n",
    "        }"
   ]
  },
  {
   "cell_type": "code",
   "execution_count": 9,
   "id": "ef01f1c0",
   "metadata": {},
   "outputs": [
    {
     "name": "stdout",
     "output_type": "stream",
     "text": [
      "Best parameters (lowest MSE): {'n_estimators': 100, 'max_depth': 10, 'mse': 249.27064355725577, 'rmse': np.float64(15.78830717832839), 'r2': 0.9314085278550577}\n"
     ]
    }
   ],
   "source": [
    "print(\"Best parameters (lowest MSE):\", best_result)"
   ]
  },
  {
   "cell_type": "code",
   "execution_count": null,
   "id": "0696530d",
   "metadata": {},
   "outputs": [
    {
     "name": "stdout",
     "output_type": "stream",
     "text": [
      "TotalSpaces: 0.887314\n",
      "day_off: 0.049817\n",
      "half_hour_sin: 0.018329\n",
      "lon: 0.010231\n",
      "half_hour_cos: 0.006784\n",
      "weekday_num_4: 0.002670\n",
      "firstHourFee: 0.002420\n",
      "laterHourFee: 0.002232\n",
      "weekday_num_5: 0.002147\n",
      "weekday_num_6: 0.002081\n",
      "relative_humidity_2m: 0.001662\n",
      "day_sin: 0.001593\n",
      "month_val_4: 0.001229\n",
      "et0_fao_evapotranspiration: 0.001127\n",
      "month_val_2: 0.001030\n",
      "day_cos: 0.000964\n",
      "lat: 0.000804\n",
      "surface_pressure: 0.000585\n",
      "pressure_msl: 0.000583\n",
      "weekday_num_0: 0.000542\n",
      "vapour_pressure_deficit: 0.000452\n",
      "district: 0.000438\n",
      "dew_point_2m: 0.000360\n",
      "terrestrial_radiation_instant: 0.000310\n",
      "weekday_num_1: 0.000278\n",
      "month_val_10: 0.000276\n",
      "apparent_temperature: 0.000270\n",
      "year_val: 0.000257\n",
      "wind_gusts_10m: 0.000243\n",
      "temperature_2m: 0.000239\n",
      "month_val_5: 0.000236\n",
      "wind_direction_10m_cos: 0.000202\n",
      "month_val_7: 0.000179\n",
      "temperature_120m: 0.000161\n",
      "cloud_cover: 0.000150\n",
      "cloud_cover_mid: 0.000137\n",
      "wind_speed_10m: 0.000135\n",
      "wind_direction_10m_sin: 0.000131\n",
      "temperature_80m: 0.000131\n",
      "cloud_cover_high: 0.000129\n",
      "wind_direction_120m_cos: 0.000116\n",
      "wind_speed_80m: 0.000106\n",
      "wind_direction_120m_sin: 0.000101\n",
      "weekday_num_2: 0.000097\n",
      "wind_speed_120m: 0.000090\n",
      "wind_direction_80m_cos: 0.000089\n",
      "wind_direction_80m_sin: 0.000086\n",
      "cloud_cover_low: 0.000085\n",
      "weekday_num_3: 0.000063\n",
      "month_val_1: 0.000063\n",
      "month_val_3: 0.000046\n",
      "visibility: 0.000038\n",
      "showers: 0.000036\n",
      "month_val_6: 0.000034\n",
      "precipitation: 0.000024\n",
      "month_val_12: 0.000024\n",
      "month_val_9: 0.000023\n",
      "month_val_11: 0.000018\n",
      "month_val_8: 0.000003\n",
      "evapotranspiration: 0.000000\n"
     ]
    }
   ],
   "source": [
    "# create feature importance series and sort it\n",
    "feature_importances = pd.Series(best_model.feature_importances_, index=X_train.columns)\n",
    "sorted_importances = feature_importances.sort_values(ascending=False)\n",
    "\n",
    "with open(\"feature_importances_all_data_v6.txt\", \"w\", encoding=\"utf-8\") as f:\n",
    "    for feature, importance in sorted_importances.items():\n",
    "        line = f\"{feature}: {importance:.6f}\"\n",
    "        print(line)           \n",
    "        f.write(line + \"\\n\")  "
   ]
  },
  {
   "cell_type": "code",
   "execution_count": null,
   "id": "ddb0b2b1",
   "metadata": {},
   "outputs": [
    {
     "name": "stderr",
     "output_type": "stream",
     "text": [
      "c:\\Users\\user\\AppData\\Local\\Programs\\Python\\Python310\\lib\\site-packages\\sklearn\\utils\\validation.py:2732: UserWarning: X has feature names, but SelectFromModel was fitted without feature names\n",
      "  warnings.warn(\n"
     ]
    },
    {
     "name": "stdout",
     "output_type": "stream",
     "text": [
      "被選中的特徵： ['TotalSpaces', 'half_hour_sin', 'day_off']\n"
     ]
    }
   ],
   "source": [
    "sfm = SelectFromModel(best_model, threshold='mean')  \n",
    "X_selected = sfm.transform(X_train)\n",
    "selected_features = X_train.columns[sfm.get_support()]\n",
    "print(\"被選中的特徵：\", selected_features.tolist())"
   ]
  },
  {
   "cell_type": "code",
   "execution_count": null,
   "id": "e7546c17",
   "metadata": {},
   "outputs": [
    {
     "name": "stdout",
     "output_type": "stream",
     "text": [
      "R² score: 0.9765, Adjusted R^2:0.9765\n",
      "MAE (Mean Absolute Error): 3.6189\n",
      "RMSE (Root Mean Squared Error): 9.3546\n"
     ]
    }
   ],
   "source": [
    "# y_test: true value of the test set\n",
    "# y_pred: model prediction\n",
    "y_pred = best_model.predict(X_test)\n",
    "r2 = r2_score(y_test, y_pred)\n",
    "\n",
    "n = len(y_test)         # number of samples\n",
    "p = X_test.shape[1]     # number of features\n",
    "adjusted_r2 = 1 - (1 - r2) * (n - 1) / (n - p - 1)\n",
    "\n",
    "print(f\"R² score: {r2:.4f}, Adjusted R^2:{adjusted_r2:.4f}\")\n",
    "# calculate MAE\n",
    "mae = mean_absolute_error(y_test, y_pred)\n",
    "\n",
    "# calculate RMSE\n",
    "rmse = np.sqrt(mean_squared_error(y_test, y_pred))\n",
    "\n",
    "print(f\"MAE (Mean Absolute Error): {mae:.4f}\")\n",
    "print(f\"RMSE (Root Mean Squared Error): {rmse:.4f}\")"
   ]
  },
  {
   "cell_type": "code",
   "execution_count": null,
   "id": "07730bdd",
   "metadata": {},
   "outputs": [
    {
     "data": {
      "text/plain": [
       "['random_forest_model_all_feature_v6.pkl']"
      ]
     },
     "execution_count": 13,
     "metadata": {},
     "output_type": "execute_result"
    }
   ],
   "source": [
    "\n",
    "\n",
    "# save model\n",
    "joblib.dump(best_model, 'random_forest_model_all_feature_v6.pkl')"
   ]
  },
  {
   "cell_type": "code",
   "execution_count": 14,
   "id": "808b992d",
   "metadata": {},
   "outputs": [
    {
     "name": "stdout",
     "output_type": "stream",
     "text": [
      "2079088\n"
     ]
    }
   ],
   "source": [
    "print(len(df_train))"
   ]
  },
  {
   "cell_type": "code",
   "execution_count": 15,
   "id": "83d8905b",
   "metadata": {},
   "outputs": [
    {
     "name": "stdout",
     "output_type": "stream",
     "text": [
      "Index(['year_val', 'district', 'avg_available_spots', 'TotalSpaces', 'lat',\n",
      "       'lon', 'firstHourFee', 'laterHourFee', 'precipitation',\n",
      "       'apparent_temperature', 'relative_humidity_2m', 'temperature_2m',\n",
      "       'cloud_cover', 'cloud_cover_low', 'cloud_cover_mid', 'cloud_cover_high',\n",
      "       'visibility', 'wind_speed_10m', 'temperature_80m', 'temperature_120m',\n",
      "       'showers', 'pressure_msl', 'surface_pressure', 'wind_speed_80m',\n",
      "       'wind_speed_120m', 'wind_gusts_10m', 'evapotranspiration',\n",
      "       'et0_fao_evapotranspiration', 'vapour_pressure_deficit', 'dew_point_2m',\n",
      "       'terrestrial_radiation_instant', 'weekday_num_0', 'weekday_num_1',\n",
      "       'weekday_num_2', 'weekday_num_3', 'weekday_num_4', 'weekday_num_5',\n",
      "       'weekday_num_6', 'month_val_1', 'month_val_2', 'month_val_3',\n",
      "       'month_val_4', 'month_val_5', 'month_val_6', 'month_val_7',\n",
      "       'month_val_8', 'month_val_9', 'month_val_10', 'month_val_11',\n",
      "       'month_val_12', 'day_sin', 'day_cos', 'half_hour_sin', 'half_hour_cos',\n",
      "       'day_off', 'wind_direction_10m_sin', 'wind_direction_10m_cos',\n",
      "       'wind_direction_120m_sin', 'wind_direction_120m_cos',\n",
      "       'wind_direction_80m_sin', 'wind_direction_80m_cos'],\n",
      "      dtype='object')\n"
     ]
    }
   ],
   "source": [
    "print(df_train.columns)"
   ]
  }
 ],
 "metadata": {
  "kernelspec": {
   "display_name": "Python 3",
   "language": "python",
   "name": "python3"
  },
  "language_info": {
   "codemirror_mode": {
    "name": "ipython",
    "version": 3
   },
   "file_extension": ".py",
   "mimetype": "text/x-python",
   "name": "python",
   "nbconvert_exporter": "python",
   "pygments_lexer": "ipython3",
   "version": "3.10.0"
  }
 },
 "nbformat": 4,
 "nbformat_minor": 5
}
